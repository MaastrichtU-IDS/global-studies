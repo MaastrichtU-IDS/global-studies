{
 "cells": [
  {
   "cell_type": "markdown",
   "metadata": {},
   "source": [
    "## Datasets by country"
   ]
  },
  {
   "cell_type": "markdown",
   "metadata": {},
   "source": [
    "- CO2 emissions (metric tons per capita)  \n",
    "https://data.worldbank.org/indicator/EN.ATM.CO2E.PC\n",
    "\n",
    "- Renewable electricity output (% of total electricity output)  \n",
    "https://data.worldbank.org/indicator/EG.GDP.PUSE.KO.PP\n",
    "    "
   ]
  },
  {
   "cell_type": "code",
   "execution_count": 1,
   "metadata": {},
   "outputs": [],
   "source": [
    "import pandas as pd\n",
    "\n",
    "data = pd.read_excel('BaGS data Period5 - Climate Change Laws of the World.xls')"
   ]
  },
  {
   "cell_type": "code",
   "execution_count": 2,
   "metadata": {},
   "outputs": [
    {
     "data": {
      "text/plain": [
       "Index(['Title', 'Type', 'Country', 'Country_ISO', 'Region', 'SubRegion',\n",
       "       'Emergency_Framework', 'Document_Types', 'Document_Link',\n",
       "       'Document_Summary', 'Month_Document_Release', 'Year_Document_Release',\n",
       "       'Year_Last_Amendment', 'Months_Between_Release_and_Last_Amendment',\n",
       "       'Months_Since_Release', 'Positive_Words', 'Negative_Words',\n",
       "       'Emergency_Sentiment_Rate', 'Summary_Words_Length',\n",
       "       'Keyword_Agriculture_Count', 'Keyword_Biodiversity_Count',\n",
       "       'Keyword_Building_Count', 'Keyword_Coal_Count',\n",
       "       'Keyword_Deforestation_Count', 'Keyword_Education_Count',\n",
       "       'Keyword_Energy_Count', 'Keyword_Transport_Count',\n",
       "       'Keyword_Circular_Economy_Count', 'Keyword_Waste_Count',\n",
       "       'Keyword_Water_Count'],\n",
       "      dtype='object')"
      ]
     },
     "execution_count": 2,
     "metadata": {},
     "output_type": "execute_result"
    }
   ],
   "source": [
    "data.columns"
   ]
  },
  {
   "cell_type": "code",
   "execution_count": 3,
   "metadata": {},
   "outputs": [],
   "source": [
    "countries = list(data['Country_ISO'].unique())\n",
    "years = list(range(1990,2020))"
   ]
  },
  {
   "cell_type": "code",
   "execution_count": 4,
   "metadata": {},
   "outputs": [
    {
     "data": {
      "text/html": [
       "<div>\n",
       "<style scoped>\n",
       "    .dataframe tbody tr th:only-of-type {\n",
       "        vertical-align: middle;\n",
       "    }\n",
       "\n",
       "    .dataframe tbody tr th {\n",
       "        vertical-align: top;\n",
       "    }\n",
       "\n",
       "    .dataframe thead th {\n",
       "        text-align: right;\n",
       "    }\n",
       "</style>\n",
       "<table border=\"1\" class=\"dataframe\">\n",
       "  <thead>\n",
       "    <tr style=\"text-align: right;\">\n",
       "      <th></th>\n",
       "      <th>Country Code</th>\n",
       "      <th>Year</th>\n",
       "      <th>Perc_Renewable_Electricity</th>\n",
       "    </tr>\n",
       "  </thead>\n",
       "  <tbody>\n",
       "    <tr>\n",
       "      <th>7921</th>\n",
       "      <td>AFG</td>\n",
       "      <td>1990</td>\n",
       "      <td>67.730496</td>\n",
       "    </tr>\n",
       "    <tr>\n",
       "      <th>7922</th>\n",
       "      <td>AGO</td>\n",
       "      <td>1990</td>\n",
       "      <td>86.206897</td>\n",
       "    </tr>\n",
       "  </tbody>\n",
       "</table>\n",
       "</div>"
      ],
      "text/plain": [
       "     Country Code  Year  Perc_Renewable_Electricity\n",
       "7921          AFG  1990                   67.730496\n",
       "7922          AGO  1990                   86.206897"
      ]
     },
     "execution_count": 4,
     "metadata": {},
     "output_type": "execute_result"
    }
   ],
   "source": [
    "renewable_electricity = pd.read_excel('Renewable electricity output (% of total electricity output).xls', \n",
    "                                      header=3 ,sheet_name='Data')\n",
    "\n",
    "renewable_electricity = pd.melt(renewable_electricity, id_vars=renewable_electricity.columns[1], \n",
    "            value_vars=list(renewable_electricity.columns[4:]), \n",
    "            var_name='Year', \n",
    "            value_name='Perc_Renewable_Electricity')\n",
    "\n",
    "renewable_electricity = renewable_electricity[(renewable_electricity['Year'].isin(list(map(str,years))))&\n",
    "                                             (renewable_electricity['Country Code'].isin(countries))]\n",
    "renewable_electricity['Year'] = list(map(int, renewable_electricity['Year']))\n",
    "\n",
    "renewable_electricity.head(2)"
   ]
  },
  {
   "cell_type": "code",
   "execution_count": 5,
   "metadata": {},
   "outputs": [
    {
     "data": {
      "text/html": [
       "<div>\n",
       "<style scoped>\n",
       "    .dataframe tbody tr th:only-of-type {\n",
       "        vertical-align: middle;\n",
       "    }\n",
       "\n",
       "    .dataframe tbody tr th {\n",
       "        vertical-align: top;\n",
       "    }\n",
       "\n",
       "    .dataframe thead th {\n",
       "        text-align: right;\n",
       "    }\n",
       "</style>\n",
       "<table border=\"1\" class=\"dataframe\">\n",
       "  <thead>\n",
       "    <tr style=\"text-align: right;\">\n",
       "      <th></th>\n",
       "      <th>Country Code</th>\n",
       "      <th>Year</th>\n",
       "      <th>CO2_emissions_per_capita</th>\n",
       "    </tr>\n",
       "  </thead>\n",
       "  <tbody>\n",
       "    <tr>\n",
       "      <th>7921</th>\n",
       "      <td>AFG</td>\n",
       "      <td>1990</td>\n",
       "      <td>0.210643</td>\n",
       "    </tr>\n",
       "    <tr>\n",
       "      <th>7922</th>\n",
       "      <td>AGO</td>\n",
       "      <td>1990</td>\n",
       "      <td>0.431744</td>\n",
       "    </tr>\n",
       "  </tbody>\n",
       "</table>\n",
       "</div>"
      ],
      "text/plain": [
       "     Country Code  Year  CO2_emissions_per_capita\n",
       "7921          AFG  1990                  0.210643\n",
       "7922          AGO  1990                  0.431744"
      ]
     },
     "execution_count": 5,
     "metadata": {},
     "output_type": "execute_result"
    }
   ],
   "source": [
    "emissions_percapita = pd.read_excel('CO2 emissions (metric tons per capita).xls', \n",
    "                                      header=3 ,sheet_name='Data')\n",
    "\n",
    "emissions_percapita = pd.melt(emissions_percapita, id_vars=emissions_percapita.columns[1], \n",
    "            value_vars=list(emissions_percapita.columns[4:]), \n",
    "            var_name='Year', \n",
    "            value_name='CO2_emissions_per_capita')\n",
    "\n",
    "emissions_percapita = emissions_percapita[(emissions_percapita['Year'].isin(list(map(str,years))))&\n",
    "                                             (emissions_percapita['Country Code'].isin(countries))]\n",
    "emissions_percapita['Year'] = list(map(int, emissions_percapita['Year']))\n",
    "\n",
    "emissions_percapita.head(2)\n"
   ]
  },
  {
   "cell_type": "code",
   "execution_count": 6,
   "metadata": {},
   "outputs": [
    {
     "data": {
      "text/html": [
       "<div>\n",
       "<style scoped>\n",
       "    .dataframe tbody tr th:only-of-type {\n",
       "        vertical-align: middle;\n",
       "    }\n",
       "\n",
       "    .dataframe tbody tr th {\n",
       "        vertical-align: top;\n",
       "    }\n",
       "\n",
       "    .dataframe thead th {\n",
       "        text-align: right;\n",
       "    }\n",
       "</style>\n",
       "<table border=\"1\" class=\"dataframe\">\n",
       "  <thead>\n",
       "    <tr style=\"text-align: right;\">\n",
       "      <th></th>\n",
       "      <th>Country_ISO</th>\n",
       "      <th>Country</th>\n",
       "      <th>Laws_Policy</th>\n",
       "      <th>Year_Last_Amendment</th>\n",
       "      <th>Agriculture</th>\n",
       "      <th>Energy</th>\n",
       "      <th>Emergency_Sentiment</th>\n",
       "      <th>CO2_Emissions</th>\n",
       "      <th>Renewable_Electricity</th>\n",
       "    </tr>\n",
       "  </thead>\n",
       "  <tbody>\n",
       "    <tr>\n",
       "      <th>0</th>\n",
       "      <td>AFG</td>\n",
       "      <td>Afghanistan</td>\n",
       "      <td>14</td>\n",
       "      <td>2012.642857</td>\n",
       "      <td>0.142857</td>\n",
       "      <td>2.000000</td>\n",
       "      <td>-0.064621</td>\n",
       "      <td>0.177821</td>\n",
       "      <td>78.003943</td>\n",
       "    </tr>\n",
       "    <tr>\n",
       "      <th>1</th>\n",
       "      <td>AGO</td>\n",
       "      <td>Angola</td>\n",
       "      <td>21</td>\n",
       "      <td>2013.428571</td>\n",
       "      <td>0.190476</td>\n",
       "      <td>1.666667</td>\n",
       "      <td>0.277776</td>\n",
       "      <td>1.111482</td>\n",
       "      <td>67.341581</td>\n",
       "    </tr>\n",
       "    <tr>\n",
       "      <th>2</th>\n",
       "      <td>ALB</td>\n",
       "      <td>Albania</td>\n",
       "      <td>3</td>\n",
       "      <td>2011.000000</td>\n",
       "      <td>0.000000</td>\n",
       "      <td>6.000000</td>\n",
       "      <td>-0.333333</td>\n",
       "      <td>1.496656</td>\n",
       "      <td>98.512948</td>\n",
       "    </tr>\n",
       "    <tr>\n",
       "      <th>3</th>\n",
       "      <td>AND</td>\n",
       "      <td>Andorra</td>\n",
       "      <td>8</td>\n",
       "      <td>2012.250000</td>\n",
       "      <td>0.000000</td>\n",
       "      <td>5.625000</td>\n",
       "      <td>-0.125000</td>\n",
       "      <td>6.553149</td>\n",
       "      <td>90.012280</td>\n",
       "    </tr>\n",
       "    <tr>\n",
       "      <th>4</th>\n",
       "      <td>ARE</td>\n",
       "      <td>United Arab Emirates</td>\n",
       "      <td>6</td>\n",
       "      <td>2014.333333</td>\n",
       "      <td>0.000000</td>\n",
       "      <td>3.000000</td>\n",
       "      <td>-0.200000</td>\n",
       "      <td>23.690396</td>\n",
       "      <td>0.038990</td>\n",
       "    </tr>\n",
       "  </tbody>\n",
       "</table>\n",
       "</div>"
      ],
      "text/plain": [
       "  Country_ISO               Country  Laws_Policy  Year_Last_Amendment  \\\n",
       "0         AFG           Afghanistan           14          2012.642857   \n",
       "1         AGO                Angola           21          2013.428571   \n",
       "2         ALB               Albania            3          2011.000000   \n",
       "3         AND               Andorra            8          2012.250000   \n",
       "4         ARE  United Arab Emirates            6          2014.333333   \n",
       "\n",
       "   Agriculture    Energy  Emergency_Sentiment  CO2_Emissions  \\\n",
       "0     0.142857  2.000000            -0.064621       0.177821   \n",
       "1     0.190476  1.666667             0.277776       1.111482   \n",
       "2     0.000000  6.000000            -0.333333       1.496656   \n",
       "3     0.000000  5.625000            -0.125000       6.553149   \n",
       "4     0.000000  3.000000            -0.200000      23.690396   \n",
       "\n",
       "   Renewable_Electricity  \n",
       "0              78.003943  \n",
       "1              67.341581  \n",
       "2              98.512948  \n",
       "3              90.012280  \n",
       "4               0.038990  "
      ]
     },
     "execution_count": 6,
     "metadata": {},
     "output_type": "execute_result"
    }
   ],
   "source": [
    "data_aggregated = \\\n",
    "    data[data['Year_Document_Release'] < 2021]\\\n",
    "    .groupby(['Country_ISO','Country'])\\\n",
    "    .count()['Title'].reset_index()\n",
    "\n",
    "data_aggregated = data_aggregated.merge(\n",
    "    data[data['Year_Document_Release'] < 2021]\\\n",
    "    .groupby('Country_ISO')\\\n",
    "    .mean()[['Year_Last_Amendment','Keyword_Agriculture_Count','Keyword_Energy_Count','Emergency_Sentiment_Rate']].reset_index(),\n",
    "    on='Country_ISO', how='left')\\\n",
    "    .rename(columns={'Title':'Laws_Policy',\n",
    "                    'Emergency_Sentiment_Rate':'Emergency_Sentiment',\n",
    "                    'Keyword_Agriculture_Count':'Agriculture',\n",
    "                    'Keyword_Energy_Count':'Energy',})\n",
    "\n",
    "data_aggregated = data_aggregated.merge(\n",
    "    emissions_percapita[(emissions_percapita['Year'] < 2021) & (emissions_percapita['Year'] > 2000)]\\\n",
    "    .groupby('Country Code')\\\n",
    "    .mean()['CO2_emissions_per_capita'].reset_index(),\n",
    "left_on='Country_ISO', right_on='Country Code', how='left')\\\n",
    "    .rename(columns={'Title':'Laws_Policy',\n",
    "                    'CO2_emissions_per_capita':'CO2_Emissions',})\\\n",
    "    .drop(columns='Country Code')\n",
    "\n",
    "data_aggregated = data_aggregated.merge(\n",
    "    renewable_electricity[(renewable_electricity['Year'] < 2021) & (renewable_electricity['Year'] > 2000)]\\\n",
    "    .groupby('Country Code')\\\n",
    "    .mean()['Perc_Renewable_Electricity'].reset_index(),\n",
    "left_on='Country_ISO', right_on='Country Code', how='left')\\\n",
    "    .rename(columns={'Title':'Laws_Policy',\n",
    "                    'Perc_Renewable_Electricity':'Renewable_Electricity',})\\\n",
    "    .drop(columns='Country Code')\n",
    "\n",
    "\n",
    "data_aggregated.head()"
   ]
  },
  {
   "cell_type": "code",
   "execution_count": 7,
   "metadata": {},
   "outputs": [],
   "source": [
    "data_aggregated.to_excel('Climate_data_countries.xls', index=False)"
   ]
  }
 ],
 "metadata": {
  "kernelspec": {
   "display_name": "Python 3",
   "language": "python",
   "name": "python3"
  },
  "language_info": {
   "codemirror_mode": {
    "name": "ipython",
    "version": 3
   },
   "file_extension": ".py",
   "mimetype": "text/x-python",
   "name": "python",
   "nbconvert_exporter": "python",
   "pygments_lexer": "ipython3",
   "version": "3.7.6"
  }
 },
 "nbformat": 4,
 "nbformat_minor": 4
}
