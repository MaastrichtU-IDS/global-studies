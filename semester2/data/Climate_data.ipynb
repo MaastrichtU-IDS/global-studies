{
 "cells": [
  {
   "cell_type": "markdown",
   "metadata": {},
   "source": [
    "## Climate change laws of the world\n",
    "### Data augmentation"
   ]
  },
  {
   "cell_type": "code",
   "execution_count": 1,
   "metadata": {},
   "outputs": [],
   "source": [
    "import pandas as pd"
   ]
  },
  {
   "cell_type": "code",
   "execution_count": 2,
   "metadata": {},
   "outputs": [],
   "source": [
    "data = pd.read_csv('laws_and_policies_25022021.csv')"
   ]
  },
  {
   "cell_type": "code",
   "execution_count": 3,
   "metadata": {},
   "outputs": [
    {
     "data": {
      "text/html": [
       "<div>\n",
       "<style scoped>\n",
       "    .dataframe tbody tr th:only-of-type {\n",
       "        vertical-align: middle;\n",
       "    }\n",
       "\n",
       "    .dataframe tbody tr th {\n",
       "        vertical-align: top;\n",
       "    }\n",
       "\n",
       "    .dataframe thead th {\n",
       "        text-align: right;\n",
       "    }\n",
       "</style>\n",
       "<table border=\"1\" class=\"dataframe\">\n",
       "  <thead>\n",
       "    <tr style=\"text-align: right;\">\n",
       "      <th></th>\n",
       "      <th>Title</th>\n",
       "      <th>Type</th>\n",
       "      <th>Geography</th>\n",
       "      <th>Geography ISO</th>\n",
       "      <th>Frameworks</th>\n",
       "      <th>Responses</th>\n",
       "      <th>Instruments</th>\n",
       "      <th>Document Types</th>\n",
       "      <th>Natural Hazards</th>\n",
       "      <th>Keywords</th>\n",
       "      <th>Sectors</th>\n",
       "      <th>Events</th>\n",
       "      <th>Documents</th>\n",
       "      <th>Parent Legislation</th>\n",
       "      <th>Description</th>\n",
       "    </tr>\n",
       "  </thead>\n",
       "  <tbody>\n",
       "    <tr>\n",
       "      <th>0</th>\n",
       "      <td>Energy Sector Strategy 1387-1391 (2007/8-2012/3)</td>\n",
       "      <td>executive</td>\n",
       "      <td>Afghanistan</td>\n",
       "      <td>AFG</td>\n",
       "      <td>NaN</td>\n",
       "      <td>NaN</td>\n",
       "      <td>NaN</td>\n",
       "      <td>Strategy</td>\n",
       "      <td>NaN</td>\n",
       "      <td>Energy Supply</td>\n",
       "      <td>Energy</td>\n",
       "      <td>25/12/2008|Law passed</td>\n",
       "      <td>Full text|https://climate-laws.org/rails/activ...</td>\n",
       "      <td>NaN</td>\n",
       "      <td>This strategy sets the vision and goals for th...</td>\n",
       "    </tr>\n",
       "    <tr>\n",
       "      <th>1</th>\n",
       "      <td>Rural Renewable Energy Policy (RREP)</td>\n",
       "      <td>executive</td>\n",
       "      <td>Afghanistan</td>\n",
       "      <td>AFG</td>\n",
       "      <td>NaN</td>\n",
       "      <td>Adaptation</td>\n",
       "      <td>NaN</td>\n",
       "      <td>Policy</td>\n",
       "      <td>NaN</td>\n",
       "      <td>Adaptation, Energy Supply</td>\n",
       "      <td>Energy</td>\n",
       "      <td>25/12/2013|Law passed||</td>\n",
       "      <td>Full text (PDF)|https://climate-laws.org/rails...</td>\n",
       "      <td>NaN</td>\n",
       "      <td>&lt;div&gt;This policy aims at creating better socia...</td>\n",
       "    </tr>\n",
       "  </tbody>\n",
       "</table>\n",
       "</div>"
      ],
      "text/plain": [
       "                                              Title       Type    Geography  \\\n",
       "0  Energy Sector Strategy 1387-1391 (2007/8-2012/3)  executive  Afghanistan   \n",
       "1              Rural Renewable Energy Policy (RREP)  executive  Afghanistan   \n",
       "\n",
       "  Geography ISO Frameworks   Responses Instruments Document Types  \\\n",
       "0           AFG        NaN         NaN         NaN       Strategy   \n",
       "1           AFG        NaN  Adaptation         NaN         Policy   \n",
       "\n",
       "  Natural Hazards                   Keywords Sectors                   Events  \\\n",
       "0             NaN              Energy Supply  Energy    25/12/2008|Law passed   \n",
       "1             NaN  Adaptation, Energy Supply  Energy  25/12/2013|Law passed||   \n",
       "\n",
       "                                           Documents Parent Legislation  \\\n",
       "0  Full text|https://climate-laws.org/rails/activ...                NaN   \n",
       "1  Full text (PDF)|https://climate-laws.org/rails...                NaN   \n",
       "\n",
       "                                         Description  \n",
       "0  This strategy sets the vision and goals for th...  \n",
       "1  <div>This policy aims at creating better socia...  "
      ]
     },
     "execution_count": 3,
     "metadata": {},
     "output_type": "execute_result"
    }
   ],
   "source": [
    "data.head(2)"
   ]
  },
  {
   "cell_type": "code",
   "execution_count": 4,
   "metadata": {},
   "outputs": [
    {
     "data": {
      "text/plain": [
       "'Clean Air Conservation Act (No. 10615)'"
      ]
     },
     "execution_count": 4,
     "metadata": {},
     "output_type": "execute_result"
    }
   ],
   "source": [
    "data['Title'][1723]"
   ]
  },
  {
   "cell_type": "markdown",
   "metadata": {},
   "source": [
    "#### Type"
   ]
  },
  {
   "cell_type": "code",
   "execution_count": 5,
   "metadata": {},
   "outputs": [
    {
     "data": {
      "text/plain": [
       "array(['executive', 'legislative'], dtype=object)"
      ]
     },
     "execution_count": 5,
     "metadata": {},
     "output_type": "execute_result"
    }
   ],
   "source": [
    "data.Type.unique()"
   ]
  },
  {
   "cell_type": "markdown",
   "metadata": {},
   "source": [
    "#### Aungmenting countries"
   ]
  },
  {
   "cell_type": "code",
   "execution_count": 6,
   "metadata": {},
   "outputs": [
    {
     "data": {
      "text/plain": [
       "198"
      ]
     },
     "execution_count": 6,
     "metadata": {},
     "output_type": "execute_result"
    }
   ],
   "source": [
    "len(data.Geography.unique())"
   ]
  },
  {
   "cell_type": "code",
   "execution_count": 7,
   "metadata": {},
   "outputs": [],
   "source": [
    "countries = pd.read_csv('continents.csv')"
   ]
  },
  {
   "cell_type": "code",
   "execution_count": 8,
   "metadata": {},
   "outputs": [],
   "source": [
    "data = data.merge(countries[['alpha-3','region','sub-region']], left_on='Geography ISO', right_on='alpha-3', how='left')"
   ]
  },
  {
   "cell_type": "code",
   "execution_count": 9,
   "metadata": {},
   "outputs": [],
   "source": [
    "data.rename(columns = {'region':'Region', \n",
    "                       'Geography':'Country',\n",
    "                       'Geography ISO':'Country ISO',\n",
    "                       'sub-region':'SubRegion'}, inplace=True)"
   ]
  },
  {
   "cell_type": "markdown",
   "metadata": {},
   "source": [
    "#### Homogenizing frameworks"
   ]
  },
  {
   "cell_type": "code",
   "execution_count": 10,
   "metadata": {},
   "outputs": [
    {
     "data": {
      "text/plain": [
       "Frameworks\n",
       "Adaptation                          44\n",
       "Adaptation, DRM/DRR                 13\n",
       "Adaptation, Mitigation             104\n",
       "Adaptation, Mitigation, DRM/DRR     24\n",
       "DRM/DRR                             89\n",
       "Mitigation                          57\n",
       "Name: Title, dtype: int64"
      ]
     },
     "execution_count": 10,
     "metadata": {},
     "output_type": "execute_result"
    }
   ],
   "source": [
    "data.groupby('Frameworks').count()['Title']"
   ]
  },
  {
   "cell_type": "code",
   "execution_count": 11,
   "metadata": {},
   "outputs": [],
   "source": [
    "#data[data['Frameworks'] == 'Adaptation, DRM/DRR']\n",
    "column = []\n",
    "for row in data.Frameworks:\n",
    "    if row == 'Adaptation, DRM/DRR':\n",
    "        column.append('Adaptation')\n",
    "    elif row == 'Adaptation, Mitigation':\n",
    "        column.append('Adaptation and Mitigation')\n",
    "    elif row == 'Adaptation, Mitigation, DRM/DRR':\n",
    "        column.append('Adaptation and Mitigation')\n",
    "    elif row == 'DRM/DRR':\n",
    "        column.append('Disaster Risk Management')\n",
    "    else:\n",
    "        column.append(row)\n",
    "data.Frameworks = column"
   ]
  },
  {
   "cell_type": "code",
   "execution_count": 12,
   "metadata": {},
   "outputs": [
    {
     "data": {
      "text/plain": [
       "Responses\n",
       "Adaptation                                                           299\n",
       "Adaptation, Disaster Risk Management                                 190\n",
       "Adaptation, Disaster Risk Management, Loss and Damage                  5\n",
       "Adaptation, Disaster Risk Management, Loss and Damage, Mitigation      4\n",
       "Adaptation, Disaster Risk Management, Mitigation                      38\n",
       "Adaptation, Loss and Damage, Mitigation                                2\n",
       "Adaptation, Mitigation                                               260\n",
       "Disaster Risk Management                                              39\n",
       "Disaster Risk Management, Mitigation                                   5\n",
       "Loss and Damage                                                        3\n",
       "Mitigation                                                           454\n",
       "Name: Title, dtype: int64"
      ]
     },
     "execution_count": 12,
     "metadata": {},
     "output_type": "execute_result"
    }
   ],
   "source": [
    "data.groupby('Responses').count()['Title']"
   ]
  },
  {
   "cell_type": "code",
   "execution_count": 13,
   "metadata": {},
   "outputs": [],
   "source": [
    "column = []\n",
    "for row in data.Responses:\n",
    "    if row == 'Adaptation, Disaster Risk Management':\n",
    "        column.append('Adaptation and Disaster Risk Management')\n",
    "    elif row == 'Adaptation, Disaster Risk Management, Loss and Damage':\n",
    "        column.append('Adaptation and Disaster Risk Management')\n",
    "    elif row == 'Adaptation, Disaster Risk Management, Loss and Damage, Mitigation':\n",
    "        column.append('Adaptation and Disaster Risk Management')\n",
    "    elif row == 'Adaptation, Loss and Damage, Mitigation':\n",
    "        column.append('Adaptation and Mitigation')\n",
    "    elif row == 'Disaster Risk Management, Mitigation':\n",
    "        column.append('Mitigation')\n",
    "    elif row == 'Loss and Damage':\n",
    "        column.append('Disaster Risk Management')\n",
    "    elif row == 'Adaptation, Mitigation':\n",
    "        column.append('Adaptation and Mitigation')\n",
    "    elif row == 'Adaptation, Disaster Risk Management, Mitigation':\n",
    "        column.append('Adaptation and Mitigation')\n",
    "    else:\n",
    "        column.append(row)\n",
    "data.Responses = column"
   ]
  },
  {
   "cell_type": "code",
   "execution_count": 14,
   "metadata": {},
   "outputs": [],
   "source": [
    "data['Emergency Framework'] = [str(i) + '-' + str(j) for i, j in zip(data.Responses, data.Frameworks)]"
   ]
  },
  {
   "cell_type": "code",
   "execution_count": 15,
   "metadata": {},
   "outputs": [
    {
     "data": {
      "text/plain": [
       "Emergency Framework\n",
       "Adaptation and Disaster Risk Management-Adaptation                    19\n",
       "Adaptation and Disaster Risk Management-Adaptation and Mitigation     16\n",
       "Adaptation and Disaster Risk Management-Disaster Risk Management      77\n",
       "Adaptation and Disaster Risk Management-nan                           87\n",
       "Adaptation and Mitigation-Adaptation                                   6\n",
       "Adaptation and Mitigation-Adaptation and Mitigation                   62\n",
       "Adaptation and Mitigation-Mitigation                                  11\n",
       "Adaptation and Mitigation-nan                                        221\n",
       "Adaptation-Adaptation                                                 32\n",
       "Adaptation-Adaptation and Mitigation                                  36\n",
       "Adaptation-Disaster Risk Management                                    3\n",
       "Adaptation-Mitigation                                                  4\n",
       "Adaptation-nan                                                       224\n",
       "Disaster Risk Management-Disaster Risk Management                      9\n",
       "Disaster Risk Management-nan                                          33\n",
       "Mitigation-Adaptation and Mitigation                                   3\n",
       "Mitigation-Mitigation                                                 27\n",
       "Mitigation-nan                                                       429\n",
       "nan-Adaptation and Mitigation                                         11\n",
       "nan-Mitigation                                                        15\n",
       "nan-nan                                                              780\n",
       "Name: Title, dtype: int64"
      ]
     },
     "execution_count": 15,
     "metadata": {},
     "output_type": "execute_result"
    }
   ],
   "source": [
    "data.groupby('Emergency Framework').count()['Title']"
   ]
  },
  {
   "cell_type": "code",
   "execution_count": 16,
   "metadata": {},
   "outputs": [],
   "source": [
    "column = []\n",
    "for row in data['Emergency Framework']:\n",
    "    if row == 'Adaptation and Disaster Risk Management-Adaptation':\n",
    "        column.append('Adaptation and Disaster Risk Management')\n",
    "    elif row == 'Adaptation and Disaster Risk Management-Adaptation and Mitigation':\n",
    "        column.append('Adaptation and Mitigation')\n",
    "    elif row == 'Adaptation and Disaster Risk Management-Disaster Risk Management':\n",
    "        column.append('Adaptation and Disaster Risk Management')\n",
    "    elif row == 'Adaptation and Disaster Risk Management-nan':\n",
    "        column.append('Adaptation and Disaster Risk Management')\n",
    "    elif row == 'Adaptation and Mitigation-Adaptation':\n",
    "        column.append('Adaptation and Mitigation')\n",
    "    elif row == 'Adaptation and Mitigation-Adaptation and Mitigation':\n",
    "        column.append('Adaptation and Mitigation')\n",
    "    elif row == 'Adaptation and Mitigation-Mitigation':\n",
    "        column.append('Adaptation and Mitigation')\n",
    "    elif row == 'Adaptation and Mitigation-nan':\n",
    "        column.append('Adaptation and Mitigation')\n",
    "    elif row == 'Adaptation-Adaptation':\n",
    "        column.append('Adaptation')\n",
    "    elif row == 'Adaptation-Adaptation and Mitigation':\n",
    "        column.append('Adaptation and Mitigation')\n",
    "    elif row == 'Adaptation-Disaster Risk Management':\n",
    "        column.append('Adaptation and Disaster Risk Management')\n",
    "    elif row == 'Adaptation-Mitigation':\n",
    "        column.append('Adaptation and Mitigation')\n",
    "    elif row == 'Adaptation-nan':\n",
    "        column.append('Adaptation')\n",
    "    elif row == 'Disaster Risk Management-Disaster Risk Management':\n",
    "        column.append('Disaster Risk Management')\n",
    "    elif row == 'Disaster Risk Management-nan':\n",
    "        column.append('Disaster Risk Management')\n",
    "    elif row == 'Mitigation-Adaptation and Mitigation':\n",
    "        column.append('Adaptation and Mitigation')\n",
    "    elif row == 'Mitigation-Mitigation':\n",
    "        column.append('Mitigation')\n",
    "    elif row == 'Mitigation-nan':\n",
    "        column.append('Mitigation')\n",
    "    elif row == 'nan-Adaptation and Mitigation':\n",
    "        column.append('Adaptation and Mitigation')\n",
    "    elif row == 'nan-Mitigation':\n",
    "        column.append('Mitigation')\n",
    "    elif row == 'nan-nan':\n",
    "        column.append('No Framework Specified')\n",
    "    else:\n",
    "        column.append(row)\n",
    "data['Emergency Framework'] = column"
   ]
  },
  {
   "cell_type": "markdown",
   "metadata": {},
   "source": [
    "#### Instruments"
   ]
  },
  {
   "cell_type": "code",
   "execution_count": 17,
   "metadata": {},
   "outputs": [
    {
     "data": {
      "text/plain": [
       "0                                                     NaN\n",
       "1                                                     NaN\n",
       "2                                                     NaN\n",
       "3       Designing processes|Governance and planning;De...\n",
       "4                                                     NaN\n",
       "                              ...                        \n",
       "2100                                                  NaN\n",
       "2101    Creating bodies and institutions|Governance an...\n",
       "2102                                                  NaN\n",
       "2103                                 Subsidies|Incentives\n",
       "2104                                                  NaN\n",
       "Name: Instruments, Length: 2105, dtype: object"
      ]
     },
     "execution_count": 17,
     "metadata": {},
     "output_type": "execute_result"
    }
   ],
   "source": [
    "data.Instruments#.unique()"
   ]
  },
  {
   "cell_type": "markdown",
   "metadata": {},
   "source": [
    "#### Homogenizing document types"
   ]
  },
  {
   "cell_type": "code",
   "execution_count": 18,
   "metadata": {},
   "outputs": [
    {
     "data": {
      "text/plain": [
       "Document Types\n",
       "Act                                          64\n",
       "Action Plan                                   8\n",
       "Action Plan, Strategy                         7\n",
       "Constitution                                  2\n",
       "Decree                                       72\n",
       "Decree Law                                   30\n",
       "Decree, Strategy                              1\n",
       "Decree/Order/Ordinance                      189\n",
       "Decree/Order/Ordinance, Strategy              3\n",
       "Decree/Order/Ordinance, Strategy, Accord      5\n",
       "Directive                                     2\n",
       "Directive, Decree/Order/Ordinance             1\n",
       "Eu Decision                                   5\n",
       "Eu Directive                                 16\n",
       "Eu Directive, Eu Decision                     1\n",
       "Eu Regulation                                14\n",
       "Eu Regulation, Eu Directive                   1\n",
       "Framework                                    12\n",
       "Framework, Policy                             1\n",
       "Law                                         707\n",
       "Law, Act                                     30\n",
       "Law, Decree                                   1\n",
       "Law, Strategy                                 1\n",
       "Out Of Date                                   2\n",
       "Plan                                        263\n",
       "Plan, Decree/Order/Ordinance                  4\n",
       "Plan, Policy                                 13\n",
       "Plan, Regulation/Rules                        1\n",
       "Plan, Resolution                              3\n",
       "Plan, Strategy                               28\n",
       "Policy                                      245\n",
       "Policy, Resolution                            5\n",
       "Policy, Strategy                              4\n",
       "Programme                                    54\n",
       "Programme, Plan                               3\n",
       "Programme, Resolution                         1\n",
       "Radmap                                        1\n",
       "Regulation/Rules                             70\n",
       "Resolution                                   22\n",
       "Resolution, Regulation/Rules                  3\n",
       "Resolution, Strategy                          9\n",
       "Road Map/Vision                               2\n",
       "Road Map/Vision, Policy                       3\n",
       "Road Map/Vision/Agenda                       16\n",
       "Royal Decree                                  2\n",
       "Royal Decree, Decree Law                      1\n",
       "Strategy                                    169\n",
       "Name: Title, dtype: int64"
      ]
     },
     "execution_count": 18,
     "metadata": {},
     "output_type": "execute_result"
    }
   ],
   "source": [
    "data.groupby('Document Types').count()['Title']"
   ]
  },
  {
   "cell_type": "code",
   "execution_count": 19,
   "metadata": {},
   "outputs": [],
   "source": [
    "column = []\n",
    "for row in data['Document Types']:\n",
    "    if (row == 'Action Plan, Strategy') or (row == 'Action Plan') or (row == 'Radmap') or (row == 'Road Map/Vision') or (row == 'Road Map/Vision, Policy'):\n",
    "        column.append('Road Map/Vision/Agenda')\n",
    "    elif (row == 'Decree') or (row == 'Decree, Strategy') or (row == 'Decree, Strategy') or (row == 'Law, Decree') or (row == 'Law, Decree'):\n",
    "        column.append('Decree Law')\n",
    "    elif (row == 'Decree/Order/Ordinance, Strategy') or (row == 'Decree/Order/Ordinance, Strategy, Accord') or (row == 'Directive, Decree/Order/Ordinance') or (row == 'Plan, Decree/Order/Ordinance'):\n",
    "        column.append('Decree/Order/Ordinance')\n",
    "    elif (row == 'Eu Directive, Eu Decision') or (row == 'Eu Regulation, Eu Directive'):\n",
    "        column.append('Eu Directive')\n",
    "    elif (row == 'Directive, Decree/Order/Ordinance') or (row == 'Directive'):\n",
    "        column.append('Act')\n",
    "    elif (row == 'Framework, Policy'):\n",
    "        column.append('Framework')\n",
    "    elif (row == 'Law, Decree') or (row == 'Law, Strategy') or (row == 'Law, Strategy')  :\n",
    "        column.append('Framework')\n",
    "    elif (row == 'Policy, Resolution') or (row == 'Policy, Strategy') or (row == 'Law, Strategy') or (row == 'Plan, Policy') :\n",
    "        column.append('Policy')\n",
    "    elif (row == 'Programme, Plan') or (row == 'Programme, Resolution') or (row == 'Law, Strategy') :\n",
    "        column.append('Programme')\n",
    "    elif (row == 'Resolution, Regulation/Rules') or (row == 'Resolution, Strategy'):\n",
    "        column.append('Resolution')\n",
    "    elif (row == 'Royal Decree, Decree Law') or (row == 'Resolution, Strategy'):\n",
    "        column.append('Royal Decree')\n",
    "    elif (row == 'Law, Act'):\n",
    "        column.append('Act')\n",
    "    elif (row == 'Plan, Regulation/Rules') or (row == 'Plan, Resolution') or (row == 'Plan, Resolution') or (row == 'Plan, Strategy'):\n",
    "        column.append('Plan')\n",
    "    else:\n",
    "        column.append(row)\n",
    "data['Document Types'] = column"
   ]
  },
  {
   "cell_type": "markdown",
   "metadata": {},
   "source": [
    "#### Hazards"
   ]
  },
  {
   "cell_type": "code",
   "execution_count": 20,
   "metadata": {},
   "outputs": [
    {
     "data": {
      "text/plain": [
       "177"
      ]
     },
     "execution_count": 20,
     "metadata": {},
     "output_type": "execute_result"
    }
   ],
   "source": [
    "len(data['Natural Hazards'].unique())"
   ]
  },
  {
   "cell_type": "code",
   "execution_count": 21,
   "metadata": {},
   "outputs": [],
   "source": [
    "#This one goes away"
   ]
  },
  {
   "cell_type": "markdown",
   "metadata": {},
   "source": [
    "#### Keywords"
   ]
  },
  {
   "cell_type": "code",
   "execution_count": 22,
   "metadata": {},
   "outputs": [
    {
     "data": {
      "text/plain": [
       "array(['Adaptation, Energy Supply', 'Research And Development',\n",
       "       'Adaptation', 'Adaptation, Carbon Pricing',\n",
       "       'Carbon Pricing, Energy Supply, Energy Demand',\n",
       "       'Disaster Risk Management', 'Renewables, Energy',\n",
       "       'Health, Taxes, Energy, Forest', 'Forest'], dtype=object)"
      ]
     },
     "execution_count": 22,
     "metadata": {},
     "output_type": "execute_result"
    }
   ],
   "source": [
    "data['Keywords'].unique()[1:10]"
   ]
  },
  {
   "cell_type": "code",
   "execution_count": 23,
   "metadata": {},
   "outputs": [],
   "source": [
    "data['Keywords Splited'] = data['Keywords'].str.split(',')"
   ]
  },
  {
   "cell_type": "code",
   "execution_count": 24,
   "metadata": {},
   "outputs": [],
   "source": [
    "keywords = list(data['Keywords Splited'].explode('Keywords Splited'))"
   ]
  },
  {
   "cell_type": "code",
   "execution_count": 25,
   "metadata": {},
   "outputs": [
    {
     "data": {
      "text/plain": [
       "'Energy Supply'"
      ]
     },
     "execution_count": 25,
     "metadata": {},
     "output_type": "execute_result"
    }
   ],
   "source": [
    "keywords[2][1:]"
   ]
  },
  {
   "cell_type": "code",
   "execution_count": 26,
   "metadata": {},
   "outputs": [],
   "source": [
    "keywords_clean = []\n",
    "for i in keywords:\n",
    "    k = str(i)\n",
    "    if k[0] ==' ':\n",
    "        keywords_clean.append(k[1:])\n",
    "    else:\n",
    "        keywords_clean.append(k)"
   ]
  },
  {
   "cell_type": "code",
   "execution_count": 27,
   "metadata": {},
   "outputs": [],
   "source": [
    "#set(keywords_clean)"
   ]
  },
  {
   "cell_type": "code",
   "execution_count": 28,
   "metadata": {},
   "outputs": [],
   "source": [
    "#Selected keywords\n",
    "terms = ['Agriculture','Biodiversity','Building','Coal','Deforestation','Education','Energy','Transport',\n",
    "         'Circular Economy','Waste','Water']\n",
    "terms_lower = [i.lower() for i in terms]"
   ]
  },
  {
   "cell_type": "code",
   "execution_count": 29,
   "metadata": {},
   "outputs": [],
   "source": [
    "l1 = data['Frameworks']\n",
    "l2 = data['Responses']\n",
    "l3 = data['Instruments']\n",
    "l4 = data['Natural Hazards']\n",
    "l5 = data['Description']\n",
    "l6 = data['Keywords']\n",
    "data['Text'] = [str(a).lower()+' '+str(b).lower()+' '+str(c).lower()+' '+str(d).lower()+' '+str(e).lower()+' '+str(f).lower()\n",
    "                for a,b,c,d,e,f in zip(l1,l2,l3,l4,l5,l6)]"
   ]
  },
  {
   "cell_type": "code",
   "execution_count": 30,
   "metadata": {},
   "outputs": [],
   "source": [
    "from flashtext import KeywordProcessor"
   ]
  },
  {
   "cell_type": "code",
   "execution_count": 31,
   "metadata": {},
   "outputs": [],
   "source": [
    "def extract(vec, dictionary, info=False):\n",
    "    matrix = []\n",
    "    for line in vec:\n",
    "        matrix.append(dictionary.extract_keywords(str(line), span_info=info))\n",
    "    return matrix"
   ]
  },
  {
   "cell_type": "code",
   "execution_count": 32,
   "metadata": {},
   "outputs": [],
   "source": [
    "for t1, t2 in zip(terms, terms_lower):\n",
    "    terms_dict = KeywordProcessor()\n",
    "    terms_dict.add_keyword(t2)\n",
    "    terms_extracted = extract(data['Text'], terms_dict)\n",
    "    data['Keyword '+str(t1)+' Count'] = [len(i) for i in terms_extracted]"
   ]
  },
  {
   "cell_type": "code",
   "execution_count": 33,
   "metadata": {},
   "outputs": [],
   "source": [
    "#data"
   ]
  },
  {
   "cell_type": "markdown",
   "metadata": {},
   "source": [
    "#### Sectors"
   ]
  },
  {
   "cell_type": "code",
   "execution_count": 34,
   "metadata": {},
   "outputs": [
    {
     "data": {
      "text/plain": [
       "470"
      ]
     },
     "execution_count": 34,
     "metadata": {},
     "output_type": "execute_result"
    }
   ],
   "source": [
    "len(data.Sectors.unique())#[1:10] #to be dummies"
   ]
  },
  {
   "cell_type": "code",
   "execution_count": 35,
   "metadata": {},
   "outputs": [
    {
     "data": {
      "text/plain": [
       "Sectors\n",
       "Adaptation, Economy-wide                                                1\n",
       "Waste, Transportation, Industry, Health                                 1\n",
       "Waste, Transportation, Industry, Environment, Energy, Economy-wide      1\n",
       "Waste, Transportation, Industry, Energy, Economy-wide, Agriculture      1\n",
       "Waste, Transportation, Health, Energy, Residential and Commercial       1\n",
       "                                                                     ... \n",
       "Energy, Residential and Commercial                                     63\n",
       "Economy-wide                                                           63\n",
       "Transportation                                                        105\n",
       "Transportation, Energy                                                115\n",
       "Energy                                                                344\n",
       "Name: Title, Length: 469, dtype: int64"
      ]
     },
     "execution_count": 35,
     "metadata": {},
     "output_type": "execute_result"
    }
   ],
   "source": [
    "data.groupby('Sectors').count()['Title'].sort_values()"
   ]
  },
  {
   "cell_type": "code",
   "execution_count": 36,
   "metadata": {},
   "outputs": [],
   "source": [
    "#Many sectors per document, too difficult to melt "
   ]
  },
  {
   "cell_type": "markdown",
   "metadata": {},
   "source": [
    "#### Cleaning events (Manually)"
   ]
  },
  {
   "cell_type": "code",
   "execution_count": 37,
   "metadata": {},
   "outputs": [
    {
     "data": {
      "text/plain": [
       "array(['25/12/2008|Law passed', '25/12/2013|Law passed||',\n",
       "       '25/12/2007|Law passed', ..., '12/12/2019|Law passed',\n",
       "       '19/03/2020|Policy released', '19/03/2020|Policy launched'],\n",
       "      dtype=object)"
      ]
     },
     "execution_count": 37,
     "metadata": {},
     "output_type": "execute_result"
    }
   ],
   "source": [
    "data.Events.unique()"
   ]
  },
  {
   "cell_type": "code",
   "execution_count": 38,
   "metadata": {},
   "outputs": [
    {
     "data": {
      "text/plain": [
       "2105"
      ]
     },
     "execution_count": 38,
     "metadata": {},
     "output_type": "execute_result"
    }
   ],
   "source": [
    "len(data)"
   ]
  },
  {
   "cell_type": "code",
   "execution_count": 39,
   "metadata": {},
   "outputs": [],
   "source": [
    "events = pd.DataFrame([str(i).split('|') for i in data.Events])"
   ]
  },
  {
   "cell_type": "code",
   "execution_count": 40,
   "metadata": {},
   "outputs": [
    {
     "data": {
      "text/html": [
       "<div>\n",
       "<style scoped>\n",
       "    .dataframe tbody tr th:only-of-type {\n",
       "        vertical-align: middle;\n",
       "    }\n",
       "\n",
       "    .dataframe tbody tr th {\n",
       "        vertical-align: top;\n",
       "    }\n",
       "\n",
       "    .dataframe thead th {\n",
       "        text-align: right;\n",
       "    }\n",
       "</style>\n",
       "<table border=\"1\" class=\"dataframe\">\n",
       "  <thead>\n",
       "    <tr style=\"text-align: right;\">\n",
       "      <th></th>\n",
       "      <th>0</th>\n",
       "      <th>2</th>\n",
       "      <th>3</th>\n",
       "      <th>4</th>\n",
       "      <th>5</th>\n",
       "      <th>6</th>\n",
       "      <th>7</th>\n",
       "      <th>8</th>\n",
       "      <th>9</th>\n",
       "      <th>10</th>\n",
       "      <th>11</th>\n",
       "      <th>12</th>\n",
       "      <th>13</th>\n",
       "      <th>14</th>\n",
       "      <th>15</th>\n",
       "    </tr>\n",
       "    <tr>\n",
       "      <th>1</th>\n",
       "      <th></th>\n",
       "      <th></th>\n",
       "      <th></th>\n",
       "      <th></th>\n",
       "      <th></th>\n",
       "      <th></th>\n",
       "      <th></th>\n",
       "      <th></th>\n",
       "      <th></th>\n",
       "      <th></th>\n",
       "      <th></th>\n",
       "      <th></th>\n",
       "      <th></th>\n",
       "      <th></th>\n",
       "      <th></th>\n",
       "    </tr>\n",
       "  </thead>\n",
       "  <tbody>\n",
       "    <tr>\n",
       "      <th>Adopted</th>\n",
       "      <td>2</td>\n",
       "      <td>2</td>\n",
       "      <td>2</td>\n",
       "      <td>0</td>\n",
       "      <td>0</td>\n",
       "      <td>0</td>\n",
       "      <td>0</td>\n",
       "      <td>0</td>\n",
       "      <td>0</td>\n",
       "      <td>0</td>\n",
       "      <td>0</td>\n",
       "      <td>0</td>\n",
       "      <td>0</td>\n",
       "      <td>0</td>\n",
       "      <td>0</td>\n",
       "    </tr>\n",
       "    <tr>\n",
       "      <th>Approved</th>\n",
       "      <td>147</td>\n",
       "      <td>144</td>\n",
       "      <td>144</td>\n",
       "      <td>7</td>\n",
       "      <td>7</td>\n",
       "      <td>7</td>\n",
       "      <td>3</td>\n",
       "      <td>3</td>\n",
       "      <td>3</td>\n",
       "      <td>2</td>\n",
       "      <td>2</td>\n",
       "      <td>2</td>\n",
       "      <td>2</td>\n",
       "      <td>2</td>\n",
       "      <td>2</td>\n",
       "    </tr>\n",
       "    <tr>\n",
       "      <th>Approved by President</th>\n",
       "      <td>1</td>\n",
       "      <td>1</td>\n",
       "      <td>1</td>\n",
       "      <td>0</td>\n",
       "      <td>0</td>\n",
       "      <td>0</td>\n",
       "      <td>0</td>\n",
       "      <td>0</td>\n",
       "      <td>0</td>\n",
       "      <td>0</td>\n",
       "      <td>0</td>\n",
       "      <td>0</td>\n",
       "      <td>0</td>\n",
       "      <td>0</td>\n",
       "      <td>0</td>\n",
       "    </tr>\n",
       "    <tr>\n",
       "      <th>Approved by Senate</th>\n",
       "      <td>1</td>\n",
       "      <td>1</td>\n",
       "      <td>1</td>\n",
       "      <td>0</td>\n",
       "      <td>0</td>\n",
       "      <td>0</td>\n",
       "      <td>0</td>\n",
       "      <td>0</td>\n",
       "      <td>0</td>\n",
       "      <td>0</td>\n",
       "      <td>0</td>\n",
       "      <td>0</td>\n",
       "      <td>0</td>\n",
       "      <td>0</td>\n",
       "      <td>0</td>\n",
       "    </tr>\n",
       "    <tr>\n",
       "      <th>Approved by cabinet</th>\n",
       "      <td>2</td>\n",
       "      <td>0</td>\n",
       "      <td>0</td>\n",
       "      <td>0</td>\n",
       "      <td>0</td>\n",
       "      <td>0</td>\n",
       "      <td>0</td>\n",
       "      <td>0</td>\n",
       "      <td>0</td>\n",
       "      <td>0</td>\n",
       "      <td>0</td>\n",
       "      <td>0</td>\n",
       "      <td>0</td>\n",
       "      <td>0</td>\n",
       "      <td>0</td>\n",
       "    </tr>\n",
       "    <tr>\n",
       "      <th>...</th>\n",
       "      <td>...</td>\n",
       "      <td>...</td>\n",
       "      <td>...</td>\n",
       "      <td>...</td>\n",
       "      <td>...</td>\n",
       "      <td>...</td>\n",
       "      <td>...</td>\n",
       "      <td>...</td>\n",
       "      <td>...</td>\n",
       "      <td>...</td>\n",
       "      <td>...</td>\n",
       "      <td>...</td>\n",
       "      <td>...</td>\n",
       "      <td>...</td>\n",
       "      <td>...</td>\n",
       "    </tr>\n",
       "    <tr>\n",
       "      <th>entry into force</th>\n",
       "      <td>1</td>\n",
       "      <td>0</td>\n",
       "      <td>0</td>\n",
       "      <td>0</td>\n",
       "      <td>0</td>\n",
       "      <td>0</td>\n",
       "      <td>0</td>\n",
       "      <td>0</td>\n",
       "      <td>0</td>\n",
       "      <td>0</td>\n",
       "      <td>0</td>\n",
       "      <td>0</td>\n",
       "      <td>0</td>\n",
       "      <td>0</td>\n",
       "      <td>0</td>\n",
       "    </tr>\n",
       "    <tr>\n",
       "      <th>entry into force of enforcement decree</th>\n",
       "      <td>1</td>\n",
       "      <td>0</td>\n",
       "      <td>0</td>\n",
       "      <td>0</td>\n",
       "      <td>0</td>\n",
       "      <td>0</td>\n",
       "      <td>0</td>\n",
       "      <td>0</td>\n",
       "      <td>0</td>\n",
       "      <td>0</td>\n",
       "      <td>0</td>\n",
       "      <td>0</td>\n",
       "      <td>0</td>\n",
       "      <td>0</td>\n",
       "      <td>0</td>\n",
       "    </tr>\n",
       "    <tr>\n",
       "      <th>law passed</th>\n",
       "      <td>2</td>\n",
       "      <td>2</td>\n",
       "      <td>2</td>\n",
       "      <td>0</td>\n",
       "      <td>0</td>\n",
       "      <td>0</td>\n",
       "      <td>0</td>\n",
       "      <td>0</td>\n",
       "      <td>0</td>\n",
       "      <td>0</td>\n",
       "      <td>0</td>\n",
       "      <td>0</td>\n",
       "      <td>0</td>\n",
       "      <td>0</td>\n",
       "      <td>0</td>\n",
       "    </tr>\n",
       "    <tr>\n",
       "      <th>passed</th>\n",
       "      <td>3</td>\n",
       "      <td>3</td>\n",
       "      <td>3</td>\n",
       "      <td>3</td>\n",
       "      <td>3</td>\n",
       "      <td>3</td>\n",
       "      <td>2</td>\n",
       "      <td>2</td>\n",
       "      <td>2</td>\n",
       "      <td>0</td>\n",
       "      <td>0</td>\n",
       "      <td>0</td>\n",
       "      <td>0</td>\n",
       "      <td>0</td>\n",
       "      <td>0</td>\n",
       "    </tr>\n",
       "    <tr>\n",
       "      <th>plan passed</th>\n",
       "      <td>1</td>\n",
       "      <td>1</td>\n",
       "      <td>1</td>\n",
       "      <td>0</td>\n",
       "      <td>0</td>\n",
       "      <td>0</td>\n",
       "      <td>0</td>\n",
       "      <td>0</td>\n",
       "      <td>0</td>\n",
       "      <td>0</td>\n",
       "      <td>0</td>\n",
       "      <td>0</td>\n",
       "      <td>0</td>\n",
       "      <td>0</td>\n",
       "      <td>0</td>\n",
       "    </tr>\n",
       "  </tbody>\n",
       "</table>\n",
       "<p>207 rows × 15 columns</p>\n",
       "</div>"
      ],
      "text/plain": [
       "                                         0    2    3   4   5   6   7   8   9   \\\n",
       "1                                                                               \n",
       "Adopted                                   2    2    2   0   0   0   0   0   0   \n",
       "Approved                                147  144  144   7   7   7   3   3   3   \n",
       "Approved by President                     1    1    1   0   0   0   0   0   0   \n",
       "Approved by Senate                        1    1    1   0   0   0   0   0   0   \n",
       "Approved by cabinet                       2    0    0   0   0   0   0   0   0   \n",
       "...                                     ...  ...  ...  ..  ..  ..  ..  ..  ..   \n",
       "entry into force                          1    0    0   0   0   0   0   0   0   \n",
       "entry into force of enforcement decree    1    0    0   0   0   0   0   0   0   \n",
       "law passed                                2    2    2   0   0   0   0   0   0   \n",
       "passed                                    3    3    3   3   3   3   2   2   2   \n",
       "plan passed                               1    1    1   0   0   0   0   0   0   \n",
       "\n",
       "                                        10  11  12  13  14  15  \n",
       "1                                                               \n",
       "Adopted                                  0   0   0   0   0   0  \n",
       "Approved                                 2   2   2   2   2   2  \n",
       "Approved by President                    0   0   0   0   0   0  \n",
       "Approved by Senate                       0   0   0   0   0   0  \n",
       "Approved by cabinet                      0   0   0   0   0   0  \n",
       "...                                     ..  ..  ..  ..  ..  ..  \n",
       "entry into force                         0   0   0   0   0   0  \n",
       "entry into force of enforcement decree   0   0   0   0   0   0  \n",
       "law passed                               0   0   0   0   0   0  \n",
       "passed                                   0   0   0   0   0   0  \n",
       "plan passed                              0   0   0   0   0   0  \n",
       "\n",
       "[207 rows x 15 columns]"
      ]
     },
     "execution_count": 40,
     "metadata": {},
     "output_type": "execute_result"
    }
   ],
   "source": [
    "events.groupby(1).count()"
   ]
  },
  {
   "cell_type": "code",
   "execution_count": 41,
   "metadata": {},
   "outputs": [
    {
     "data": {
      "text/plain": [
       "2105"
      ]
     },
     "execution_count": 41,
     "metadata": {},
     "output_type": "execute_result"
    }
   ],
   "source": [
    "len(events)"
   ]
  },
  {
   "cell_type": "code",
   "execution_count": 42,
   "metadata": {},
   "outputs": [],
   "source": [
    "#events.to_excel('events_laws_raw.xls')"
   ]
  },
  {
   "cell_type": "code",
   "execution_count": 43,
   "metadata": {},
   "outputs": [],
   "source": [
    "events_cleaned = pd.read_csv('events_laws.csv', sep=';')"
   ]
  },
  {
   "cell_type": "code",
   "execution_count": 44,
   "metadata": {},
   "outputs": [
    {
     "data": {
      "text/html": [
       "<div>\n",
       "<style scoped>\n",
       "    .dataframe tbody tr th:only-of-type {\n",
       "        vertical-align: middle;\n",
       "    }\n",
       "\n",
       "    .dataframe tbody tr th {\n",
       "        vertical-align: top;\n",
       "    }\n",
       "\n",
       "    .dataframe thead th {\n",
       "        text-align: right;\n",
       "    }\n",
       "</style>\n",
       "<table border=\"1\" class=\"dataframe\">\n",
       "  <thead>\n",
       "    <tr style=\"text-align: right;\">\n",
       "      <th></th>\n",
       "      <th>Document First Event</th>\n",
       "      <th>Date Document Release</th>\n",
       "      <th>Date Last Amendment</th>\n",
       "    </tr>\n",
       "  </thead>\n",
       "  <tbody>\n",
       "    <tr>\n",
       "      <th>0</th>\n",
       "      <td>Law passed</td>\n",
       "      <td>25/12/2008</td>\n",
       "      <td>NaN</td>\n",
       "    </tr>\n",
       "    <tr>\n",
       "      <th>1</th>\n",
       "      <td>Law passed</td>\n",
       "      <td>25/12/2013</td>\n",
       "      <td>NaN</td>\n",
       "    </tr>\n",
       "    <tr>\n",
       "      <th>2</th>\n",
       "      <td>Law passed</td>\n",
       "      <td>25/12/2007</td>\n",
       "      <td>NaN</td>\n",
       "    </tr>\n",
       "    <tr>\n",
       "      <th>3</th>\n",
       "      <td>Law passed</td>\n",
       "      <td>25/12/2011</td>\n",
       "      <td>NaN</td>\n",
       "    </tr>\n",
       "    <tr>\n",
       "      <th>4</th>\n",
       "      <td>Law passed</td>\n",
       "      <td>25/12/2009</td>\n",
       "      <td>NaN</td>\n",
       "    </tr>\n",
       "    <tr>\n",
       "      <th>...</th>\n",
       "      <td>...</td>\n",
       "      <td>...</td>\n",
       "      <td>...</td>\n",
       "    </tr>\n",
       "    <tr>\n",
       "      <th>2100</th>\n",
       "      <td>Law passed</td>\n",
       "      <td>11/06/2018</td>\n",
       "      <td>NaN</td>\n",
       "    </tr>\n",
       "    <tr>\n",
       "      <th>2101</th>\n",
       "      <td>Law passed</td>\n",
       "      <td>25/12/1989</td>\n",
       "      <td>25/12/2001</td>\n",
       "    </tr>\n",
       "    <tr>\n",
       "      <th>2102</th>\n",
       "      <td>Law passed</td>\n",
       "      <td>12/12/2019</td>\n",
       "      <td>NaN</td>\n",
       "    </tr>\n",
       "    <tr>\n",
       "      <th>2103</th>\n",
       "      <td>Policy released</td>\n",
       "      <td>19/03/2020</td>\n",
       "      <td>NaN</td>\n",
       "    </tr>\n",
       "    <tr>\n",
       "      <th>2104</th>\n",
       "      <td>Policy launched</td>\n",
       "      <td>19/03/2020</td>\n",
       "      <td>NaN</td>\n",
       "    </tr>\n",
       "  </tbody>\n",
       "</table>\n",
       "<p>2105 rows × 3 columns</p>\n",
       "</div>"
      ],
      "text/plain": [
       "     Document First Event Date Document Release Date Last Amendment\n",
       "0              Law passed            25/12/2008                 NaN\n",
       "1              Law passed            25/12/2013                 NaN\n",
       "2              Law passed            25/12/2007                 NaN\n",
       "3              Law passed            25/12/2011                 NaN\n",
       "4              Law passed            25/12/2009                 NaN\n",
       "...                   ...                   ...                 ...\n",
       "2100           Law passed            11/06/2018                 NaN\n",
       "2101           Law passed            25/12/1989          25/12/2001\n",
       "2102           Law passed            12/12/2019                 NaN\n",
       "2103      Policy released            19/03/2020                 NaN\n",
       "2104      Policy launched            19/03/2020                 NaN\n",
       "\n",
       "[2105 rows x 3 columns]"
      ]
     },
     "execution_count": 44,
     "metadata": {},
     "output_type": "execute_result"
    }
   ],
   "source": [
    "events_cleaned"
   ]
  },
  {
   "cell_type": "markdown",
   "metadata": {},
   "source": [
    "#### Adding Months Variables"
   ]
  },
  {
   "cell_type": "code",
   "execution_count": 45,
   "metadata": {},
   "outputs": [],
   "source": [
    "import datetime as dt"
   ]
  },
  {
   "cell_type": "code",
   "execution_count": 46,
   "metadata": {},
   "outputs": [],
   "source": [
    "events_cleaned['Date Document Release'] = [dt.datetime.strptime(str(i), '%d/%m/%Y') for i in events_cleaned['Date Document Release']]"
   ]
  },
  {
   "cell_type": "code",
   "execution_count": 47,
   "metadata": {},
   "outputs": [],
   "source": [
    "list_ammendments = []\n",
    "for i, j in zip(events_cleaned['Date Document Release'], events_cleaned['Date Last Amendment']):\n",
    "    if str(j) == 'nan':\n",
    "        list_ammendments.append(i)\n",
    "    else:\n",
    "        list_ammendments.append(dt.datetime.strptime(str(j), '%d/%m/%Y'))\n",
    "\n",
    "events_cleaned['Date Last Amendment'] = list_ammendments"
   ]
  },
  {
   "cell_type": "code",
   "execution_count": 48,
   "metadata": {},
   "outputs": [
    {
     "name": "stdout",
     "output_type": "stream",
     "text": [
      "2001-12-25 00:00:00 2001-12-25 00:00:00\n"
     ]
    }
   ],
   "source": [
    "#check\n",
    "print(events_cleaned['Date Last Amendment'][2101], events_cleaned['Date Last Amendment'][2101])"
   ]
  },
  {
   "cell_type": "code",
   "execution_count": 49,
   "metadata": {},
   "outputs": [
    {
     "data": {
      "text/plain": [
       "979    1948-09-18\n",
       "64     1957-05-21\n",
       "920    1957-12-25\n",
       "921    1960-12-25\n",
       "1995   1963-12-17\n",
       "          ...    \n",
       "2005   2021-01-27\n",
       "1508   2021-02-02\n",
       "691    2021-02-12\n",
       "692    2021-02-17\n",
       "960    2022-04-01\n",
       "Name: Date Last Amendment, Length: 2105, dtype: datetime64[ns]"
      ]
     },
     "execution_count": 49,
     "metadata": {},
     "output_type": "execute_result"
    }
   ],
   "source": [
    "events_cleaned['Date Last Amendment'].sort_values()"
   ]
  },
  {
   "cell_type": "code",
   "execution_count": 50,
   "metadata": {},
   "outputs": [],
   "source": [
    "events_cleaned['Year Document Release'] = [y.year for y in events_cleaned['Date Document Release']]"
   ]
  },
  {
   "cell_type": "code",
   "execution_count": 51,
   "metadata": {},
   "outputs": [
    {
     "data": {
      "text/plain": [
       "2008"
      ]
     },
     "execution_count": 51,
     "metadata": {},
     "output_type": "execute_result"
    }
   ],
   "source": [
    "events_cleaned['Date Document Release'][0].year"
   ]
  },
  {
   "cell_type": "code",
   "execution_count": 52,
   "metadata": {},
   "outputs": [],
   "source": [
    "events_cleaned['Month Document Release'] = [row.strftime('%Y-%m') for row in events_cleaned['Date Document Release']]"
   ]
  },
  {
   "cell_type": "code",
   "execution_count": 53,
   "metadata": {},
   "outputs": [],
   "source": [
    "events_cleaned['Now']  = dt.datetime.now()"
   ]
  },
  {
   "cell_type": "code",
   "execution_count": 54,
   "metadata": {},
   "outputs": [],
   "source": [
    "from dateutil.relativedelta import relativedelta\n",
    "def month_delta(start_date, end_date):\n",
    "    delta = relativedelta(end_date, start_date)\n",
    "    return 12 * delta.years + delta.months"
   ]
  },
  {
   "cell_type": "code",
   "execution_count": 55,
   "metadata": {},
   "outputs": [
    {
     "data": {
      "text/plain": [
       "144"
      ]
     },
     "execution_count": 55,
     "metadata": {},
     "output_type": "execute_result"
    }
   ],
   "source": [
    "d1 = events_cleaned['Date Last Amendment'][2101]\n",
    "d2 = events_cleaned['Date Document Release'][2101]\n",
    "total_months = month_delta(d2, d1)\n",
    "total_months"
   ]
  },
  {
   "cell_type": "code",
   "execution_count": 56,
   "metadata": {},
   "outputs": [],
   "source": [
    "events_cleaned['Months Between Release and Last Amendment'] = \\\n",
    "    [month_delta(i, j) for i, j in zip(events_cleaned['Date Document Release'], events_cleaned['Date Last Amendment'])]\n",
    "events_cleaned['Months Since Release'] = \\\n",
    "    [month_delta(i, j) for i, j in zip(events_cleaned['Date Document Release'], events_cleaned['Now'])]\n",
    "events_cleaned['Months Since Last Amendment'] = \\\n",
    "    [month_delta(i, j) for i, j in zip(events_cleaned['Date Last Amendment'], events_cleaned['Now'])]"
   ]
  },
  {
   "cell_type": "code",
   "execution_count": 57,
   "metadata": {},
   "outputs": [],
   "source": [
    "events_cleaned['Year Last Amendment'] = [y.year for y in events_cleaned['Date Document Release']]"
   ]
  },
  {
   "cell_type": "code",
   "execution_count": 58,
   "metadata": {},
   "outputs": [],
   "source": [
    "#events_cleaned = events_cleaned[['Document First Event','Date Document Release','Date Last Amendment','Month Document Release',\n",
    "#               'Months Between Release and Last Amendment','Months Since Release','Months Since Last Amendment']]\n",
    "events_cleaned = events_cleaned.drop(columns=['Now','Date Last Amendment','Date Document Release'])"
   ]
  },
  {
   "cell_type": "code",
   "execution_count": 59,
   "metadata": {},
   "outputs": [],
   "source": [
    "data = pd.merge(data, events_cleaned, left_index=True, right_index=True)"
   ]
  },
  {
   "cell_type": "markdown",
   "metadata": {},
   "source": [
    "#### Documents"
   ]
  },
  {
   "cell_type": "code",
   "execution_count": 60,
   "metadata": {},
   "outputs": [
    {
     "data": {
      "text/plain": [
       "array(['Full text|https://climate-laws.org/rails/active_storage/blobs/eyJfcmFpbHMiOnsibWVzc2FnZSI6IkJBaHBBcG9IIiwiZXhwIjpudWxsLCJwdXIiOiJibG9iX2lkIn19--be6991246abda10bef5edc0a4d196b73ce1b1a26/f|',\n",
       "       'Full text (PDF)|https://climate-laws.org/rails/active_storage/blobs/eyJfcmFpbHMiOnsibWVzc2FnZSI6IkJBaHBBbGNNIiwiZXhwIjpudWxsLCJwdXIiOiJibG9iX2lkIn19--507033a8de75d3830fc5f9549a4f647549aaef29/2013%20Afghanistan%20Rural%20Renewable%20Energy%20Policy.pdf|',\n",
       "       nan, ...,\n",
       "       'full text (PDF)|https://climate-laws.org/rails/active_storage/blobs/eyJfcmFpbHMiOnsibWVzc2FnZSI6IkJBaHBBbFVGIiwiZXhwIjpudWxsLCJwdXIiOiJibG9iX2lkIn19--7128f1545dd66b0b9dcedf918ad634d3e6dbf125/f|',\n",
       "       'full text (PDF)|https://climate-laws.org/rails/active_storage/blobs/eyJfcmFpbHMiOnsibWVzc2FnZSI6IkJBaHBBbFlGIiwiZXhwIjpudWxsLCJwdXIiOiJibG9iX2lkIn19--bf9abf508f3559881fef05818cfdb4e77ed34a8b/f|',\n",
       "       '2019 draft policy|https://t3n9sm.c2.acecdn.net/wp-content/uploads/2019/08/Zimbabwe-RE-Policy-2019.pdf|en'],\n",
       "      dtype=object)"
      ]
     },
     "execution_count": 60,
     "metadata": {},
     "output_type": "execute_result"
    }
   ],
   "source": [
    "data['Documents'].unique()"
   ]
  },
  {
   "cell_type": "code",
   "execution_count": 61,
   "metadata": {},
   "outputs": [],
   "source": [
    "data.rename(columns = {'Documents':'Document Link'}, inplace=True)"
   ]
  },
  {
   "cell_type": "markdown",
   "metadata": {},
   "source": [
    "#### Parent Legislation"
   ]
  },
  {
   "cell_type": "code",
   "execution_count": 62,
   "metadata": {},
   "outputs": [],
   "source": [
    "#data['Parent Legislation'].unique()"
   ]
  },
  {
   "cell_type": "markdown",
   "metadata": {},
   "source": [
    "to remove"
   ]
  },
  {
   "cell_type": "markdown",
   "metadata": {},
   "source": [
    "#### Description"
   ]
  },
  {
   "cell_type": "code",
   "execution_count": 63,
   "metadata": {},
   "outputs": [
    {
     "data": {
      "text/plain": [
       "'This document notably examines the threats on biodiversity of climate change and desertification. The document establishes a number of sectoral targets and subtargets to organise the resilience of the components of biodiversity to adapt to climate change maintained and enhanced; pollution and its impacts on biodiversity reduced.'"
      ]
     },
     "execution_count": 63,
     "metadata": {},
     "output_type": "execute_result"
    }
   ],
   "source": [
    "data['Description'][5]"
   ]
  },
  {
   "cell_type": "code",
   "execution_count": 64,
   "metadata": {},
   "outputs": [],
   "source": [
    "from nltk.tokenize import word_tokenize"
   ]
  },
  {
   "cell_type": "code",
   "execution_count": 65,
   "metadata": {},
   "outputs": [],
   "source": [
    "def read_dictionary(path):\n",
    "    file = open(path,'r')\n",
    "    return file.read().lower().split('\\n')"
   ]
  },
  {
   "cell_type": "code",
   "execution_count": 66,
   "metadata": {},
   "outputs": [],
   "source": [
    "# Loading positive words\n",
    "positive_words = read_dictionary('dictionaries/positive_words.txt')\n",
    "# Loading negative words\n",
    "negative_words = read_dictionary('dictionaries/negative_words.txt')\n",
    "# Adding uncertanty words\n",
    "negative_words.extend(read_dictionary('dictionaries/uncertainty_dictionary.txt'))"
   ]
  },
  {
   "cell_type": "code",
   "execution_count": 67,
   "metadata": {},
   "outputs": [],
   "source": [
    "# Function to calculate scores\n",
    "def generate_score(text, list_to_compare):\n",
    "    numWords = 0\n",
    "    tokens = word_tokenize(str(text))\n",
    "    for word in tokens:\n",
    "        cap_word = word\n",
    "        if cap_word in list_to_compare:\n",
    "            numWords  += 1\n",
    "    \n",
    "    cumsum = numWords\n",
    "    return cumsum"
   ]
  },
  {
   "cell_type": "code",
   "execution_count": 68,
   "metadata": {},
   "outputs": [],
   "source": [
    "data['Positive Words'] = [generate_score(row, positive_words) for row in data['Description']]\n",
    "data['Negative Words'] = [generate_score(row, negative_words) for row in data['Description']]"
   ]
  },
  {
   "cell_type": "code",
   "execution_count": 69,
   "metadata": {},
   "outputs": [],
   "source": [
    "def emergency_rate(positive, negative):\n",
    "    if (negative == 0) & (positive == 0):\n",
    "        rate = 0\n",
    "    else:\n",
    "        rate = (negative - positive) / ((negative + positive))\n",
    "    return round(rate, 4)"
   ]
  },
  {
   "cell_type": "code",
   "execution_count": 70,
   "metadata": {},
   "outputs": [],
   "source": [
    "data['Emergency Sentiment Rate'] = \\\n",
    "    [emergency_rate(i, j) for i, j in zip(data['Positive Words'], data['Negative Words'])]"
   ]
  },
  {
   "cell_type": "code",
   "execution_count": 71,
   "metadata": {},
   "outputs": [
    {
     "data": {
      "text/plain": [
       "array([-1.    ,  0.    ,  1.    ,  0.4286, -0.3333,  0.3333, -0.6667,\n",
       "        0.6667,  0.5   , -0.84  ,  0.6   ,  0.7143,  0.75  , -0.5   ,\n",
       "       -0.6364,  0.25  , -0.1111,  0.2   ,  0.1429, -0.4286, -0.1429,\n",
       "        0.8   ,  0.4667, -0.2   , -0.6   , -0.3846,  0.2727,  0.6923,\n",
       "       -0.7778,  0.5556, -0.92  ,  0.4   ,  0.5238,  0.4545, -0.0588,\n",
       "       -0.75  , -0.7143, -0.2727, -0.0667,  0.6364, -0.8182,  0.1667,\n",
       "       -0.0769,  0.875 , -0.25  ,  0.2308,  0.0769, -0.4   ,  0.5652,\n",
       "        0.7778,  0.2857,  0.7333,  0.0476, -0.6923, -0.5385, -0.5294,\n",
       "       -0.5714,  0.3846,  0.1111, -0.1667, -0.0909, -0.2381,  0.1765,\n",
       "        0.125 ,  0.5385,  0.5152,  0.619 ,  0.7037,  0.5714,  0.5833,\n",
       "       -0.619 , -0.5556, -0.2857, -0.8261,  0.8333,  0.8462,  0.8182,\n",
       "       -0.8571, -0.1765, -0.8889,  0.625 , -0.0526])"
      ]
     },
     "execution_count": 71,
     "metadata": {},
     "output_type": "execute_result"
    }
   ],
   "source": [
    "data['Emergency Sentiment Rate'].unique()"
   ]
  },
  {
   "cell_type": "code",
   "execution_count": 72,
   "metadata": {},
   "outputs": [],
   "source": [
    "def total_word_count(text):\n",
    "    tokens = word_tokenize(str(text))\n",
    "    if len(tokens) == 1:\n",
    "        count = 0\n",
    "    else:\n",
    "        count = len(tokens)\n",
    "    return count"
   ]
  },
  {
   "cell_type": "code",
   "execution_count": 73,
   "metadata": {},
   "outputs": [],
   "source": [
    "data['Summary Words Length'] = [total_word_count(row) for row in data['Description']]"
   ]
  },
  {
   "cell_type": "code",
   "execution_count": 74,
   "metadata": {},
   "outputs": [],
   "source": [
    "data.rename(columns = {'Description':'Document Summary'}, inplace=True)"
   ]
  },
  {
   "cell_type": "markdown",
   "metadata": {},
   "source": [
    "#### Final Filter"
   ]
  },
  {
   "cell_type": "code",
   "execution_count": 75,
   "metadata": {},
   "outputs": [
    {
     "data": {
      "text/plain": [
       "Index(['Title', 'Type', 'Country', 'Country ISO', 'Frameworks', 'Responses',\n",
       "       'Instruments', 'Document Types', 'Natural Hazards', 'Keywords',\n",
       "       'Sectors', 'Events', 'Document Link', 'Parent Legislation',\n",
       "       'Document Summary', 'alpha-3', 'Region', 'SubRegion',\n",
       "       'Emergency Framework', 'Keywords Splited', 'Text',\n",
       "       'Keyword Agriculture Count', 'Keyword Biodiversity Count',\n",
       "       'Keyword Building Count', 'Keyword Coal Count',\n",
       "       'Keyword Deforestation Count', 'Keyword Education Count',\n",
       "       'Keyword Energy Count', 'Keyword Transport Count',\n",
       "       'Keyword Circular Economy Count', 'Keyword Waste Count',\n",
       "       'Keyword Water Count', 'Document First Event', 'Year Document Release',\n",
       "       'Month Document Release', 'Months Between Release and Last Amendment',\n",
       "       'Months Since Release', 'Months Since Last Amendment',\n",
       "       'Year Last Amendment', 'Positive Words', 'Negative Words',\n",
       "       'Emergency Sentiment Rate', 'Summary Words Length'],\n",
       "      dtype='object')"
      ]
     },
     "execution_count": 75,
     "metadata": {},
     "output_type": "execute_result"
    }
   ],
   "source": [
    "data.columns"
   ]
  },
  {
   "cell_type": "code",
   "execution_count": 76,
   "metadata": {},
   "outputs": [],
   "source": [
    "data_augmented = data[['Title','Type','Country','Country ISO','Region', 'SubRegion','Emergency Framework',\n",
    "      'Document Types','Document Link','Document Summary',\n",
    "      'Month Document Release', 'Year Document Release','Year Last Amendment',\n",
    "        'Months Between Release and Last Amendment','Months Since Release',\n",
    "      'Positive Words','Negative Words', 'Emergency Sentiment Rate', 'Summary Words Length',\n",
    "      'Keyword Agriculture Count',\n",
    "       'Keyword Biodiversity Count', 'Keyword Building Count',\n",
    "       'Keyword Coal Count', 'Keyword Deforestation Count',\n",
    "       'Keyword Education Count', 'Keyword Energy Count',\n",
    "       'Keyword Transport Count', 'Keyword Circular Economy Count',\n",
    "       'Keyword Waste Count', 'Keyword Water Count'\n",
    "     ]]"
   ]
  },
  {
   "cell_type": "code",
   "execution_count": 77,
   "metadata": {},
   "outputs": [],
   "source": [
    "data_augmented.columns = data_augmented.columns.str.replace(' ', '_')"
   ]
  },
  {
   "cell_type": "code",
   "execution_count": 78,
   "metadata": {},
   "outputs": [],
   "source": [
    "data_augmented.to_excel('BaGS data Period5 - Climate Change Laws of the World.xls',\n",
    "                        sheet_name='climate_laws', index=False)"
   ]
  },
  {
   "cell_type": "markdown",
   "metadata": {},
   "source": [
    "## Datasets by country"
   ]
  },
  {
   "cell_type": "markdown",
   "metadata": {},
   "source": [
    "- CO2 emissions (metric tons per capita)  \n",
    "https://data.worldbank.org/indicator/EN.ATM.CO2E.PC\n",
    "\n",
    "- Renewable electricity output (% of total electricity output)  \n",
    "https://data.worldbank.org/indicator/EG.GDP.PUSE.KO.PP\n",
    "    "
   ]
  },
  {
   "cell_type": "code",
   "execution_count": 79,
   "metadata": {},
   "outputs": [],
   "source": [
    "# countries = list(data_augmented['Country ISO'].unique())\n",
    "# years = list(range(1990,2020))\n",
    "\n",
    "# renewable_electricity = pd.read_excel('data/Renewable electricity output (% of total electricity output).xls', \n",
    "#                                       header=3 ,sheet_name='Data')\n",
    "\n",
    "# renewable_electricity = pd.melt(renewable_electricity, id_vars=renewable_electricity.columns[1], \n",
    "#             value_vars=list(renewable_electricity.columns[4:]), \n",
    "#             var_name='Year', \n",
    "#             value_name='% Renewable Electricity')\n",
    "\n",
    "# renewable_electricity = renewable_electricity[(renewable_electricity['Year'].isin(list(map(str,years))))&\n",
    "#                                              (renewable_electricity['Country Code'].isin(countries))]\n",
    "# renewable_electricity['Year'] = list(map(int, renewable_electricity['Year']))\n",
    "\n",
    "# renewable_electricity.head(2)\n",
    "\n",
    "# emissions_percapita = pd.read_excel('data/CO2 emissions (metric tons per capita).xls', \n",
    "#                                       header=3 ,sheet_name='Data')\n",
    "\n",
    "# emissions_percapita = pd.melt(emissions_percapita, id_vars=emissions_percapita.columns[1], \n",
    "#             value_vars=list(emissions_percapita.columns[4:]), \n",
    "#             var_name='Year', \n",
    "#             value_name='CO2 emissions per capita')\n",
    "\n",
    "# emissions_percapita = emissions_percapita[(emissions_percapita['Year'].isin(list(map(str,years))))&\n",
    "#                                              (emissions_percapita['Country Code'].isin(countries))]\n",
    "# emissions_percapita['Year'] = list(map(int, emissions_percapita['Year']))\n",
    "\n",
    "# emissions_percapita.head(2)\n",
    "\n",
    "# data_aggregated = \\\n",
    "#     data_augmented[data_augmented['Year Document Release'] < 2021]\\\n",
    "#     .groupby('Country ISO')\\\n",
    "#     .count()['Title'].reset_index()\n",
    "\n",
    "# data_aggregated = data_aggregated.merge(\n",
    "#     emissions_percapita[emissions_percapita['Year'] < 2021]\\\n",
    "#     .groupby('Country Code')\\\n",
    "#     .mean()['CO2 emissions per capita'].reset_index(),\n",
    "# left_on='Country ISO', right_on='Country Code', how='left')\\\n",
    "#     .rename(columns={'Title':'Number of Laws & Policies',\n",
    "#                     'CO2 emissions per capita':'AVG CO2 emissions per capita',})\\\n",
    "#     .drop(columns='Country Code')\n",
    "\n",
    "# #data_aggregated.to_excel('data/Aggregated Example.xls')\n",
    "\n",
    "# data_aggregated"
   ]
  }
 ],
 "metadata": {
  "kernelspec": {
   "display_name": "Python 3",
   "language": "python",
   "name": "python3"
  },
  "language_info": {
   "codemirror_mode": {
    "name": "ipython",
    "version": 3
   },
   "file_extension": ".py",
   "mimetype": "text/x-python",
   "name": "python",
   "nbconvert_exporter": "python",
   "pygments_lexer": "ipython3",
   "version": "3.7.6"
  }
 },
 "nbformat": 4,
 "nbformat_minor": 4
}
