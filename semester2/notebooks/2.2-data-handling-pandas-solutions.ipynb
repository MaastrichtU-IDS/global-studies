{
 "cells": [
  {
   "cell_type": "markdown",
   "metadata": {},
   "source": [
    "# Data Handling with Pandas\n",
    "\n",
    "#### <i style=\"color:red\">**EXERCISES**</i>"
   ]
  },
  {
   "cell_type": "markdown",
   "metadata": {},
   "source": [
    "___\n",
    "+ _1. Go to the following URL using your browser and manually download the dataset to your computer. Put the file in the same folder where your notebook is. Finally, use `pd.read_csv()` to read it.\n",
    "Is there any difference in the data when reading it from the web or reading it from your computer?_\n",
    "\n",
    "``` Python\n",
    "url = 'https://raw.githubusercontent.com/MaastrichtU-IDS/global-studies/main/semester2/data/gapminder.csv'\n",
    "\n",
    "pd.read_csv()\n",
    "\n",
    "```\n"
   ]
  },
  {
   "cell_type": "markdown",
   "metadata": {
    "id": "msiqhz0XPT6D"
   },
   "source": [
    "\n",
    "**SOLUTION**"
   ]
  },
  {
   "cell_type": "markdown",
   "metadata": {},
   "source": [
    "The file is the same, there is no difference for Python"
   ]
  },
  {
   "cell_type": "code",
   "execution_count": 3,
   "metadata": {},
   "outputs": [],
   "source": [
    "import pandas as pd"
   ]
  },
  {
   "cell_type": "code",
   "execution_count": 5,
   "metadata": {},
   "outputs": [],
   "source": [
    "# From web\n",
    "url = 'https://raw.githubusercontent.com/MaastrichtU-IDS/global-studies/main/semester2/data/gapminder.csv'\n",
    "df = pd.read_csv(url)"
   ]
  },
  {
   "cell_type": "code",
   "execution_count": null,
   "metadata": {},
   "outputs": [],
   "source": [
    "# From computer (the file is in the same folder than this notebook)\n",
    "url = 'gapminder.csv'\n",
    "df = pd.read_csv(url)"
   ]
  },
  {
   "cell_type": "markdown",
   "metadata": {},
   "source": [
    "___\n",
    "+ _2. Use the `help` function for `help(df.head)` and `help(df.tail)` discuss the difference and similarities_"
   ]
  },
  {
   "cell_type": "markdown",
   "metadata": {
    "id": "msiqhz0XPT6D"
   },
   "source": [
    "\n",
    "**SOLUTION**"
   ]
  },
  {
   "cell_type": "markdown",
   "metadata": {},
   "source": [
    "`help()` function can be used for any Python object. When executing it, the Notebook will show useful information of the function or object that is described between parenthesis.\n",
    "\n",
    "In this case, the function `df.head` shows the first rows in a dataframe. The user can specify how many, e.g. `df.head(5)` for the first 5 elements. Whereas `df.tail` does something similar, with the difference that will show the last elements in the dataframe\n",
    "e.g. `df.tail(10)` the last 10 elements"
   ]
  },
  {
   "cell_type": "markdown",
   "metadata": {},
   "source": [
    "___\n",
    "\n",
    "+ _3. Which one of the following query functions will work and why?_\n",
    "\n",
    "```python\n",
    "df.query('year == \"1992\" ')\n",
    "\n",
    "df.query('year == 1992 ')\n",
    "\n",
    "df.query('year = \"1992\" ')\n",
    "```\n",
    "\n"
   ]
  },
  {
   "cell_type": "markdown",
   "metadata": {
    "id": "msiqhz0XPT6D"
   },
   "source": [
    "\n",
    "**SOLUTION**"
   ]
  },
  {
   "cell_type": "markdown",
   "metadata": {},
   "source": [
    "in Python, 1 equal sign \"=\" represents assignation, whereas 2 equals \"==\" represents the logical operation of two elements being equal. Therefore the third option won't work\n",
    "The first two options would work as long as the data type of the column (year in this case) can be interpreted as string or integer\n"
   ]
  },
  {
   "cell_type": "code",
   "execution_count": 11,
   "metadata": {},
   "outputs": [
    {
     "data": {
      "text/html": [
       "<div>\n",
       "<style scoped>\n",
       "    .dataframe tbody tr th:only-of-type {\n",
       "        vertical-align: middle;\n",
       "    }\n",
       "\n",
       "    .dataframe tbody tr th {\n",
       "        vertical-align: top;\n",
       "    }\n",
       "\n",
       "    .dataframe thead th {\n",
       "        text-align: right;\n",
       "    }\n",
       "</style>\n",
       "<table border=\"1\" class=\"dataframe\">\n",
       "  <thead>\n",
       "    <tr style=\"text-align: right;\">\n",
       "      <th></th>\n",
       "      <th>country</th>\n",
       "      <th>continent</th>\n",
       "      <th>year</th>\n",
       "      <th>lifeExp</th>\n",
       "      <th>pop</th>\n",
       "      <th>gdpPercap</th>\n",
       "      <th>iso_alpha</th>\n",
       "      <th>iso_num</th>\n",
       "    </tr>\n",
       "  </thead>\n",
       "  <tbody>\n",
       "    <tr>\n",
       "      <th>8</th>\n",
       "      <td>Afghanistan</td>\n",
       "      <td>Asia</td>\n",
       "      <td>1992</td>\n",
       "      <td>41.674</td>\n",
       "      <td>16317921</td>\n",
       "      <td>649.341395</td>\n",
       "      <td>AFG</td>\n",
       "      <td>4</td>\n",
       "    </tr>\n",
       "    <tr>\n",
       "      <th>20</th>\n",
       "      <td>Albania</td>\n",
       "      <td>Europe</td>\n",
       "      <td>1992</td>\n",
       "      <td>71.581</td>\n",
       "      <td>3326498</td>\n",
       "      <td>2497.437901</td>\n",
       "      <td>ALB</td>\n",
       "      <td>8</td>\n",
       "    </tr>\n",
       "  </tbody>\n",
       "</table>\n",
       "</div>"
      ],
      "text/plain": [
       "        country continent  year  lifeExp       pop    gdpPercap iso_alpha  \\\n",
       "8   Afghanistan      Asia  1992   41.674  16317921   649.341395       AFG   \n",
       "20      Albania    Europe  1992   71.581   3326498  2497.437901       ALB   \n",
       "\n",
       "    iso_num  \n",
       "8         4  \n",
       "20        8  "
      ]
     },
     "execution_count": 11,
     "metadata": {},
     "output_type": "execute_result"
    }
   ],
   "source": [
    "df.query('year == 1992').head(2)"
   ]
  },
  {
   "cell_type": "markdown",
   "metadata": {},
   "source": [
    "___\n",
    "+ _4. Select a whole column from the `df` dataframe with the `df.loc[ , ]` method, and call it `my_column`_\n",
    "\n",
    "_What would be the purpose of the following function?:_ \n",
    "\n",
    "```python\n",
    "my_column.unique()\n",
    "```\n"
   ]
  },
  {
   "cell_type": "markdown",
   "metadata": {
    "id": "msiqhz0XPT6D"
   },
   "source": [
    "\n",
    "**SOLUTION**"
   ]
  },
  {
   "cell_type": "code",
   "execution_count": 15,
   "metadata": {},
   "outputs": [
    {
     "data": {
      "text/plain": [
       "array(['Asia', 'Europe', 'Africa', 'Americas', 'Oceania'], dtype=object)"
      ]
     },
     "execution_count": 15,
     "metadata": {},
     "output_type": "execute_result"
    }
   ],
   "source": [
    "my_column = df.loc[:,'continent']\n",
    "\n",
    "# The following function will show the unique elements in the column \"continent\" regardless of how many times they appear in the dataset\n",
    "my_column.unique()"
   ]
  },
  {
   "cell_type": "markdown",
   "metadata": {},
   "source": [
    "___\n",
    "+ _5. Just like we created a subset of `Europe 2007`, create another one for `Europe` but this time for the year `1952`._  \n",
    "\n",
    "_What is the average life expectancy for each year? How much has changed?_\n"
   ]
  },
  {
   "cell_type": "markdown",
   "metadata": {
    "id": "msiqhz0XPT6D"
   },
   "source": [
    "\n",
    "**SOLUTION**"
   ]
  },
  {
   "cell_type": "markdown",
   "metadata": {},
   "source": [
    "Step 1 - Create the subsets"
   ]
  },
  {
   "cell_type": "code",
   "execution_count": 18,
   "metadata": {},
   "outputs": [],
   "source": [
    "# Creating subset for europe 1952\n",
    "df_europe_1952 = df.query('continent == \"Europe\" & year == 1952')\n",
    "\n",
    "# Creating subset for europe 2007\n",
    "df_europe_2007 = df.query('continent == \"Europe\" & year == 2007')"
   ]
  },
  {
   "cell_type": "markdown",
   "metadata": {},
   "source": [
    "Step 2 - Calculate the averages"
   ]
  },
  {
   "cell_type": "code",
   "execution_count": 23,
   "metadata": {},
   "outputs": [
    {
     "name": "stdout",
     "output_type": "stream",
     "text": [
      "64.40849999999999\n",
      "77.64859999999999\n"
     ]
    }
   ],
   "source": [
    "# Calculate the mean (average) of the lifeExp column of\n",
    "print(df_europe_1952['lifeExp'].mean())\n",
    "\n",
    "# Calculate the mean (average) of the lifeExp column of 2007\n",
    "print(df_europe_2007['lifeExp'].mean())\n"
   ]
  },
  {
   "cell_type": "markdown",
   "metadata": {},
   "source": [
    "Around 13 years, the life expectancy has increased on average"
   ]
  },
  {
   "cell_type": "markdown",
   "metadata": {},
   "source": [
    "___\n",
    "+ _6. With the help of the command `!pip install` we can install install additional libraries to our Python environment._\n",
    "\n",
    "_In a new cell, install the library that reads and writes Excel files_\n",
    "\n",
    "```python\n",
    "!pip install xlrd\n",
    "```\n",
    "\n",
    "Secondly, save the Confusion matrix result in an Excel file  using the Pandas command `DataFrame.to_excel()`_\n",
    "```Python\n",
    "table.to_excel('confusion_matrix.xls')\n",
    "```\n",
    "___"
   ]
  },
  {
   "cell_type": "code",
   "execution_count": 24,
   "metadata": {},
   "outputs": [
    {
     "name": "stdout",
     "output_type": "stream",
     "text": [
      "Requirement already satisfied: xlrd in /Users/pedrohserrano/opt/anaconda3/lib/python3.7/site-packages (1.2.0)\n"
     ]
    }
   ],
   "source": [
    "!pip install xlrd"
   ]
  },
  {
   "cell_type": "markdown",
   "metadata": {},
   "source": [
    "A new .xls file need to be created in the same folder that this notebook is situated"
   ]
  },
  {
   "cell_type": "code",
   "execution_count": null,
   "metadata": {},
   "outputs": [],
   "source": []
  }
 ],
 "metadata": {
  "colab": {
   "name": "CODING4ALL.ipynb",
   "provenance": [],
   "toc_visible": true
  },
  "kernelspec": {
   "display_name": "Python 3",
   "language": "python",
   "name": "python3"
  },
  "language_info": {
   "codemirror_mode": {
    "name": "ipython",
    "version": 3
   },
   "file_extension": ".py",
   "mimetype": "text/x-python",
   "name": "python",
   "nbconvert_exporter": "python",
   "pygments_lexer": "ipython3",
   "version": "3.7.6"
  }
 },
 "nbformat": 4,
 "nbformat_minor": 4
}
