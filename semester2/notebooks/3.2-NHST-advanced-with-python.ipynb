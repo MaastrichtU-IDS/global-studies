{
 "cells": [
  {
   "cell_type": "markdown",
   "metadata": {},
   "source": [
    "# Complex Null Hypothesis Significance Test\n",
    "\n",
    "With [SciPy (Scientific Python)](https://www.scipy.org/)  we are able to make statistical analysis.\n",
    "\n",
    "#### Learning objectives\n",
    " By the end of this notebook you will:\n",
    "+ Calculate Pearson correlation\n",
    "+ Identify dependent and independent variables\n",
    "+ Interpret statistical results. \n",
    "---"
   ]
  },
  {
   "cell_type": "markdown",
   "metadata": {},
   "source": [
    "## **1. Theory**"
   ]
  },
  {
   "cell_type": "markdown",
   "metadata": {},
   "source": [
    "In the figures below discuss whether or not these datasets would be suitable for a linear regression or correlation analysis:"
   ]
  },
  {
   "cell_type": "markdown",
   "metadata": {},
   "source": [
    "![fig1.png](../figs/fig1.png)\n",
    "![fig2.png](../figs/fig2.png)\n",
    "![fig3.png](../figs/fig3.png)\n",
    "![fig4.png](../figs/fig4.png)\n",
    "![fig5.png](../figs/fig5.png)\n",
    "![fig6.png](../figs/fig6.png)"
   ]
  },
  {
   "cell_type": "markdown",
   "metadata": {},
   "source": [
    "The model for a linear regression is described by the following formula:\n",
    "\n",
    "$y_i = bx_i + c + \\epsilon_i$\n",
    "\n",
    "which describes the relationship between two variables $x$ and $y$ (the subscript $i$ is a variable that represents the index of a given data point). Can you see from the formula why this model is a _linear_ regression?\n",
    "\n",
    "In a linear regression, one variable is called independent and another is dependent. Just looking at how the formula written, which variable do you think is the dependent variable and which is the indenpendent variable?\n",
    "\n",
    "What are the other terms $b$, $c$ and $\\epsilon_i$ ? "
   ]
  },
  {
   "cell_type": "markdown",
   "metadata": {},
   "source": []
  },
  {
   "cell_type": "markdown",
   "metadata": {},
   "source": [
    "In the following picture, which regression line do you think best fits the data? How might you check?\n",
    "\n",
    "![fig7.png](../figs/fig7.png)"
   ]
  },
  {
   "cell_type": "markdown",
   "metadata": {},
   "source": [
    "## **2. Pearson's Correlation Test with Python**"
   ]
  },
  {
   "cell_type": "markdown",
   "metadata": {},
   "source": [
    "- Pearson’s correlation coefficient, $\\rho$, is a measure of the linear correlation (dependence) between two variables (e.g. X and Y)\n",
    "- Its value is between +1 and −1 inclusive, where 1 is a total positive correlation, 0 is no correlation, and −1 is a negative correlation\n",
    "- The hypothesis test explores whether if the value of the correlation coefficient $\\rho$ is significantly distant from 0 (the closest to 0 the less correlated X and Y).\n",
    "- If the test concludes that the correlation coefficient is significantly distant from 0, then we are able to say that \"there is statistical evidence that X and Y are correlated\" (this is not a causal result, the only association is proven)"
   ]
  },
  {
   "cell_type": "code",
   "execution_count": 9,
   "metadata": {},
   "outputs": [
    {
     "data": {
      "text/plain": [
       "(0.8660254037844386, 0.011724811003954649)"
      ]
     },
     "execution_count": 9,
     "metadata": {},
     "output_type": "execute_result"
    }
   ],
   "source": [
    "from scipy import stats\n",
    "import numpy as np\n",
    "\n",
    "# Having X and Y vectors\n",
    "X = np.array([0, 0, 0, 1, 1, 1, 1])\n",
    "Y = np.arange(7)\n",
    "\n",
    "# perform a pearson correlation test\n",
    "stats.pearsonr(X, Y)"
   ]
  },
  {
   "cell_type": "markdown",
   "metadata": {},
   "source": [
    "As you noticed, the Pearson correlation coefficient function produces two outputs.\n",
    "- The first output corresponds to the $\\rho$ value\n",
    "- You would interpret that X and Y are **highly positive** correlated since 0.86 is close to 0\n",
    "- The second output refers to the p-value\n",
    "- By convention, if the p-value is less than 0.05 then the test is significant\n"
   ]
  },
  {
   "cell_type": "markdown",
   "metadata": {},
   "source": [
    "A good practice is to save the values in new Python objects, in this case since it's producing two outputs, therefore two objects can be assigned at. the same time on the left side of the equals sign"
   ]
  },
  {
   "cell_type": "code",
   "execution_count": 10,
   "metadata": {},
   "outputs": [],
   "source": [
    "# perform a pearson correlation test\n",
    "rho, p_value = stats.pearsonr(X, Y)"
   ]
  },
  {
   "cell_type": "code",
   "execution_count": 17,
   "metadata": {},
   "outputs": [
    {
     "name": "stdout",
     "output_type": "stream",
     "text": [
      "correlation coefficient: 0.866\n",
      "p value: 0.0117\n"
     ]
    }
   ],
   "source": [
    "print(f'correlation coefficient: {round(rho,4)}')\n",
    "print(f'p value: {round(p_value,4)}')"
   ]
  },
  {
   "cell_type": "markdown",
   "metadata": {},
   "source": [
    "It is possible then to verify the linear relationship by plotng it"
   ]
  },
  {
   "cell_type": "code",
   "execution_count": 18,
   "metadata": {},
   "outputs": [
    {
     "data": {
      "text/plain": [
       "<matplotlib.collections.PathCollection at 0x7fe92d178490>"
      ]
     },
     "execution_count": 18,
     "metadata": {},
     "output_type": "execute_result"
    },
    {
     "data": {
      "image/png": "[encoded data removed]",
      "text/plain": [
       "<Figure size 432x288 with 1 Axes>"
      ]
     },
     "metadata": {
      "needs_background": "light"
     },
     "output_type": "display_data"
    }
   ],
   "source": [
    "import matplotlib.pyplot as plt\n",
    "plt.scatter(X,Y)"
   ]
  },
  {
   "cell_type": "markdown",
   "metadata": {},
   "source": [
    "### 3. Association in binary variables"
   ]
  },
  {
   "cell_type": "code",
   "execution_count": null,
   "metadata": {},
   "outputs": [],
   "source": []
  },
  {
   "cell_type": "code",
   "execution_count": null,
   "metadata": {},
   "outputs": [],
   "source": []
  }
 ],
 "metadata": {
  "colab": {
   "name": "CODING4ALL.ipynb",
   "provenance": [],
   "toc_visible": true
  },
  "kernelspec": {
   "display_name": "Python 3",
   "language": "python",
   "name": "python3"
  },
  "language_info": {
   "codemirror_mode": {
    "name": "ipython",
    "version": 3
   },
   "file_extension": ".py",
   "mimetype": "text/x-python",
   "name": "python",
   "nbconvert_exporter": "python",
   "pygments_lexer": "ipython3",
   "version": "3.8.8"
  }
 },
 "nbformat": 4,
 "nbformat_minor": 4
}
