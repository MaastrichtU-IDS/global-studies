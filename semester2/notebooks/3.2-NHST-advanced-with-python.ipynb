{
 "cells": [
  {
   "cell_type": "markdown",
   "metadata": {},
   "source": [
    "# Complex Null Hypothesis Significance Test\n",
    "\n",
    "With [SciPy (Scientific Python)](https://www.scipy.org/)  we are able to make statistical analysis.\n",
    "\n",
    "#### Learning objectives\n",
    " By the end of this notebook you will:\n",
    "+ Calculate Pearson correlation.\n",
    "+ Identify dependent and independent variables.\n",
    "+ Interpret statistical results. \n",
    "---"
   ]
  },
  {
   "cell_type": "markdown",
   "metadata": {},
   "source": [
    "## **1. Theory**"
   ]
  },
  {
   "cell_type": "markdown",
   "metadata": {},
   "source": [
    "- Q1. In the figures below discuss whether or not these datasets would be suitable for a linear regression or correlation analysis:"
   ]
  },
  {
   "cell_type": "markdown",
   "metadata": {},
   "source": [
    "![fig1.png](../figs/fig1.png)\n",
    "![fig2.png](../figs/fig2.png)\n",
    "![fig3.png](../figs/fig3.png)\n",
    "![fig4.png](../figs/fig4.png)\n",
    "![fig5.png](../figs/fig5.png)\n",
    "![fig6.png](../figs/fig6.png)"
   ]
  },
  {
   "cell_type": "markdown",
   "metadata": {},
   "source": []
  },
  {
   "cell_type": "markdown",
   "metadata": {},
   "source": [
    "- Q2. The model for a linear regression is described by the following formula:\n",
    "\n",
    "$y_i = bx_i + c + \\epsilon_i$\n",
    "\n",
    "which describes the relationship between two variables $x$ and $y$ (the subscript $i$ is a variable that represents the index of a given data point). Can you see from the formula why this model is a _linear_ regression?\n",
    "\n",
    "In linear regression, one variable is called independent and another is dependent. Just looking at how the formula is written;  \n",
    "\n",
    "Which variable do you think is the dependent variable and which is the independent variable?\n",
    "\n",
    "What are the other terms $b$, $c$ and $\\epsilon_i$ ? "
   ]
  },
  {
   "cell_type": "markdown",
   "metadata": {},
   "source": []
  },
  {
   "cell_type": "markdown",
   "metadata": {},
   "source": [
    "- Q3. In the following picture, which regression line do you think best fits the data? How might you check?\n",
    "\n",
    "![fig7.png](../figs/fig7.png)"
   ]
  },
  {
   "cell_type": "markdown",
   "metadata": {},
   "source": []
  },
  {
   "cell_type": "markdown",
   "metadata": {},
   "source": [
    "## **2. Pearson's Correlation Test with Python**"
   ]
  },
  {
   "cell_type": "markdown",
   "metadata": {},
   "source": [
    "- Pearson’s correlation coefficient, $\\rho$, is a measure of the linear correlation (dependence) between two variables (e.g. X and Y)\n",
    "- Its value is between +1 and −1 inclusive, where 1 is a total positive correlation, 0 is no correlation, and −1 is a negative correlation\n",
    "- The hypothesis test explores whether if the value of the correlation coefficient $\\rho$ is significantly distant from 0 (the closest to 0 the less correlated X and Y).\n",
    "- If the test concludes that the correlation coefficient is significantly distant from 0, then we are able to say that \"there is statistical evidence that X and Y are correlated\" (this is not a causal result, the only association is proven)"
   ]
  },
  {
   "cell_type": "code",
   "execution_count": 9,
   "metadata": {},
   "outputs": [
    {
     "data": {
      "text/plain": [
       "(0.8660254037844386, 0.011724811003954649)"
      ]
     },
     "execution_count": 9,
     "metadata": {},
     "output_type": "execute_result"
    }
   ],
   "source": [
    "from scipy import stats\n",
    "import numpy as np\n",
    "\n",
    "# Having X and Y vectors (dummy data)\n",
    "X = np.array([0, 0, 0, 1, 1, 1, 1])\n",
    "Y = np.arange(7)\n",
    "\n",
    "# perform a pearson correlation test\n",
    "stats.pearsonr(X, Y)"
   ]
  },
  {
   "cell_type": "markdown",
   "metadata": {},
   "source": [
    "As you noticed, the Pearson correlation coefficient function produces two outputs.\n",
    "- The first output corresponds to the $\\rho$ value\n",
    "- You would interpret that X and Y are **highly positive** correlated since 0.86 is close to 0\n",
    "- The second output refers to the p-value\n",
    "- By convention, if the p-value is less than 0.05 then the test is significant\n"
   ]
  },
  {
   "cell_type": "markdown",
   "metadata": {},
   "source": [
    "A good practice is to save the values in new Python objects, in this case since it's producing two outputs, therefore two objects can be assigned at. the same time on the left side of the equals sign"
   ]
  },
  {
   "cell_type": "code",
   "execution_count": 10,
   "metadata": {},
   "outputs": [],
   "source": [
    "# perform a pearson correlation test\n",
    "rho, p_value = stats.pearsonr(X, Y)"
   ]
  },
  {
   "cell_type": "code",
   "execution_count": 17,
   "metadata": {},
   "outputs": [
    {
     "name": "stdout",
     "output_type": "stream",
     "text": [
      "correlation coefficient: 0.866\n",
      "p value: 0.0117\n"
     ]
    }
   ],
   "source": [
    "print(f'correlation coefficient: {round(rho,4)}')\n",
    "print(f'p value: {round(p_value,4)}')"
   ]
  },
  {
   "cell_type": "markdown",
   "metadata": {},
   "source": [
    "It is possible then to verify the linear relationship by plotng it"
   ]
  },
  {
   "cell_type": "code",
   "execution_count": 18,
   "metadata": {},
   "outputs": [
    {
     "data": {
      "text/plain": [
       "<matplotlib.collections.PathCollection at 0x7fe92d178490>"
      ]
     },
     "execution_count": 18,
     "metadata": {},
     "output_type": "execute_result"
    },
    {
     "data": {
      "image/png": "[encoded data removed]",
      "text/plain": [
       "<Figure size 432x288 with 1 Axes>"
      ]
     },
     "metadata": {
      "needs_background": "light"
     },
     "output_type": "display_data"
    }
   ],
   "source": [
    "import matplotlib.pyplot as plt\n",
    "plt.scatter(X,Y)"
   ]
  },
  {
   "cell_type": "markdown",
   "metadata": {},
   "source": [
    "---\n",
    "\n",
    "### Gapminder Dataset\n",
    "In this real example, we'll examine how the Pearson Correlation coefficient (aka rho, or r) can be used to:\n",
    "+ examine the relationships of pairs of variables and,\n",
    "+ determine if they are statistically significant. \n",
    "\n",
    "Just like the previous tutorials, we’ll be using the Gapminder dataset, since it is large enough and diverse enough to be interesting, without being too complex, while it holds some meaningful information that can be insightful to people all over the globe)."
   ]
  },
  {
   "cell_type": "markdown",
   "metadata": {},
   "source": [
    "**Step 1: Import the libraries:**"
   ]
  },
  {
   "cell_type": "code",
   "execution_count": 2,
   "metadata": {},
   "outputs": [],
   "source": [
    "import pandas as pd\n",
    "import matplotlib.pyplot as plt \n",
    "import seaborn as sns"
   ]
  },
  {
   "cell_type": "markdown",
   "metadata": {},
   "source": [
    "**Q1. Add comments in the above code cell to explain why the selected libraries should be imported**"
   ]
  },
  {
   "cell_type": "markdown",
   "metadata": {},
   "source": [
    "**Step 2: Load the Gapminder dataset**\n",
    "\n",
    "You should now know how to load csv files into a dataframe, now do so for the Gapminder dataset.\n",
    "\n",
    "https://raw.githubusercontent.com/MaastrichtU-IDS/global-studies/main/semester2/data/gapminder.csv"
   ]
  },
  {
   "cell_type": "markdown",
   "metadata": {},
   "source": [
    "**Step 3: Explore Gapminder dataset**"
   ]
  },
  {
   "cell_type": "markdown",
   "metadata": {},
   "source": [
    "**Q2. Which functions might you use to explore the Gapminder dataset? Demonstrate below**. "
   ]
  },
  {
   "cell_type": "code",
   "execution_count": null,
   "metadata": {},
   "outputs": [],
   "source": []
  },
  {
   "cell_type": "markdown",
   "metadata": {},
   "source": [
    "**Q3. Compute the average (mean) life expectancy for the entire dataset. Then the same but for each continent**"
   ]
  },
  {
   "cell_type": "code",
   "execution_count": null,
   "metadata": {},
   "outputs": [],
   "source": []
  },
  {
   "cell_type": "markdown",
   "metadata": {},
   "source": [
    "+ Additionally, you can also compute the correlation between pairs of variables using [corrwith() function](https://pandas.pydata.org/docs/reference/api/pandas.DataFrame.corrwith.html):"
   ]
  },
  {
   "cell_type": "code",
   "execution_count": 52,
   "metadata": {},
   "outputs": [
    {
     "data": {
      "text/plain": [
       "lifeExp      1.000000\n",
       "gdpPercap    0.583706\n",
       "year         0.435611\n",
       "pop          0.064955\n",
       "iso_num     -0.006535\n",
       "dtype: float64"
      ]
     },
     "execution_count": 52,
     "metadata": {},
     "output_type": "execute_result"
    }
   ],
   "source": [
    "df.corrwith(df['lifeExp']).sort_values(ascending=False) # set lifeExp as the 'target' variable"
   ]
  },
  {
   "cell_type": "markdown",
   "metadata": {},
   "source": [
    "**Q4. Following the definition of the correlation coefficient, how would you interpret these values?**"
   ]
  },
  {
   "cell_type": "code",
   "execution_count": null,
   "metadata": {},
   "outputs": [],
   "source": []
  },
  {
   "cell_type": "markdown",
   "metadata": {},
   "source": [
    "+ Nevertheless, it seems like lifeExp is associated with gdpPercap. Let's create a scatter plot using matplotlib to further examine the relationship between these two continuous variables."
   ]
  },
  {
   "cell_type": "code",
   "execution_count": 19,
   "metadata": {},
   "outputs": [
    {
     "data": {
      "text/plain": [
       "Text(0, 0.5, 'Life Expentancy')"
      ]
     },
     "execution_count": 19,
     "metadata": {},
     "output_type": "execute_result"
    },
    {
     "data": {
      "image/png": "[encoded data removed]",
      "text/plain": [
       "<Figure size 432x288 with 1 Axes>"
      ]
     },
     "metadata": {
      "needs_background": "light"
     },
     "output_type": "display_data"
    }
   ],
   "source": [
    "import matplotlib.pyplot as plt\n",
    "plt.scatter(df[\"gdpPercap\"], df[\"lifeExp\"], color='blue')\n",
    "plt.xlabel('GDP Percap')\n",
    "plt.ylabel('Life Expentancy')"
   ]
  },
  {
   "cell_type": "markdown",
   "metadata": {},
   "source": [
    "**Step 5. Perform a correlation analysis**"
   ]
  },
  {
   "cell_type": "markdown",
   "metadata": {},
   "source": [
    "We can then confirm the numbers above and conduct the hypothesis test for Pearson correlation."
   ]
  },
  {
   "cell_type": "code",
   "execution_count": 35,
   "metadata": {},
   "outputs": [
    {
     "name": "stdout",
     "output_type": "stream",
     "text": [
      "correlation coefficient: 0.5837\n",
      "p value: 0.0\n"
     ]
    }
   ],
   "source": [
    "# perform a pearson correlation test\n",
    "X = df['gdpPercap']\n",
    "Y = df['lifeExp']\n",
    "rho, p_value = stats.pearsonr(X, Y)\n",
    "print(f'correlation coefficient: {round(rho,4)}')\n",
    "print(f'p value: {round(p_value,4)}')"
   ]
  },
  {
   "cell_type": "markdown",
   "metadata": {},
   "source": [
    "**Q5. Comment on the results. How suitable are these variable for analysing using linear correlation?**"
   ]
  },
  {
   "cell_type": "code",
   "execution_count": null,
   "metadata": {},
   "outputs": [],
   "source": []
  },
  {
   "cell_type": "markdown",
   "metadata": {},
   "source": [
    "**Q6. This association might be different per continent. Create a subset of the GapMinder dataset (e.g. Europe) and perform the correlation analysis**"
   ]
  },
  {
   "cell_type": "code",
   "execution_count": null,
   "metadata": {},
   "outputs": [],
   "source": []
  },
  {
   "cell_type": "markdown",
   "metadata": {},
   "source": [
    "## 3. Simple Regression (Linear Model)\n",
    "\n",
    "Can we measure the effect of GDP on Life Expectancy?"
   ]
  },
  {
   "cell_type": "markdown",
   "metadata": {},
   "source": [
    "**Step 1: Import library**"
   ]
  },
  {
   "cell_type": "markdown",
   "metadata": {},
   "source": [
    "To implement a regression analysis, we can use the library [statsmodels](https://www.statsmodels.org/stable/index.html), to analyse, the dependence of two variables, e.g. the relation between Life expectancy and GDP. \n",
    "If the model fits correctly, we could predict life expectancy by year based on GDP."
   ]
  },
  {
   "cell_type": "code",
   "execution_count": 45,
   "metadata": {},
   "outputs": [],
   "source": [
    "# this is the standard import \n",
    "import statsmodels.formula.api as sm"
   ]
  },
  {
   "cell_type": "markdown",
   "metadata": {},
   "source": [
    "**Step 2: Specify and fit the model**"
   ]
  },
  {
   "cell_type": "code",
   "execution_count": 53,
   "metadata": {},
   "outputs": [],
   "source": [
    "# create a fitted model in one lin\n",
    "model = sm.ols(formula = 'lifeExp ~ gdpPercap', data = df).fit() #Fit OLS Model"
   ]
  },
  {
   "cell_type": "markdown",
   "metadata": {},
   "source": [
    "**Step 3: View results**"
   ]
  },
  {
   "cell_type": "code",
   "execution_count": 54,
   "metadata": {},
   "outputs": [
    {
     "name": "stdout",
     "output_type": "stream",
     "text": [
      "                            OLS Regression Results                            \n",
      "==============================================================================\n",
      "Dep. Variable:                lifeExp   R-squared:                       0.341\n",
      "Model:                            OLS   Adj. R-squared:                  0.340\n",
      "Method:                 Least Squares   F-statistic:                     879.6\n",
      "Date:                Thu, 06 May 2021   Prob (F-statistic):          3.57e-156\n",
      "Time:                        11:57:08   Log-Likelihood:                -6422.2\n",
      "No. Observations:                1704   AIC:                         1.285e+04\n",
      "Df Residuals:                    1702   BIC:                         1.286e+04\n",
      "Df Model:                           1                                         \n",
      "Covariance Type:            nonrobust                                         \n",
      "==============================================================================\n",
      "                 coef    std err          t      P>|t|      [0.025      0.975]\n",
      "------------------------------------------------------------------------------\n",
      "Intercept     53.9556      0.315    171.290      0.000      53.338      54.573\n",
      "gdpPercap      0.0008   2.58e-05     29.658      0.000       0.001       0.001\n",
      "==============================================================================\n",
      "Omnibus:                      489.873   Durbin-Watson:                   0.364\n",
      "Prob(Omnibus):                  0.000   Jarque-Bera (JB):             2578.925\n",
      "Skew:                          -1.249   Prob(JB):                         0.00\n",
      "Kurtosis:                       8.485   Cond. No.                     1.51e+04\n",
      "==============================================================================\n",
      "\n",
      "Notes:\n",
      "[1] Standard Errors assume that the covariance matrix of the errors is correctly specified.\n",
      "[2] The condition number is large, 1.51e+04. This might indicate that there are\n",
      "strong multicollinearity or other numerical problems.\n"
     ]
    }
   ],
   "source": [
    "\n",
    "results = model.summary() #Get Results\n",
    "print(results) # Print\n",
    "\n",
    "#Hint: Use this Code in Your Function. \n",
    "#You will need to replace data = gapminder, with the data subset for a specific country."
   ]
  },
  {
   "cell_type": "code",
   "execution_count": 55,
   "metadata": {},
   "outputs": [
    {
     "data": {
      "text/plain": [
       "Intercept    53.955561\n",
       "gdpPercap     0.000765\n",
       "dtype: float64"
      ]
     },
     "execution_count": 55,
     "metadata": {},
     "output_type": "execute_result"
    }
   ],
   "source": [
    "# print the coefficients\n",
    "model.params"
   ]
  },
  {
   "cell_type": "markdown",
   "metadata": {},
   "source": [
    "**Step 4: Interpret results**"
   ]
  },
  {
   "cell_type": "markdown",
   "metadata": {},
   "source": [
    "**How do we interpret the gdpPercap coefficient ($\\beta_1$)?**"
   ]
  },
  {
   "cell_type": "markdown",
   "metadata": {},
   "source": [
    "+ A \"unit\" increase in gdpPercap is associated with a 0.000765 \"unit\" increase in LifeExpectancy.\n",
    "\n",
    "    - Or more clearly: An additional 1,000 dollars/euro on gdpPercap **is associated with** an increase in LifeExpectancy of 0.765 years.\n",
    "    - Note that if an increase in gdpPercap was **associated with** a decrease in LifeExpectancy, $\\beta_1$ would be negative."
   ]
  },
  {
   "cell_type": "markdown",
   "metadata": {},
   "source": [
    "**Step 5: Hypothesis Testing and p-values**"
   ]
  },
  {
   "cell_type": "markdown",
   "metadata": {},
   "source": [
    "As you know already, closely related to confidence intervals is hypothesis testing. Generally speaking, you start with a null hypothesis and an alternative hypothesis. Then, you check whether the data support rejecting the null hypothesis or failing to reject the null hypothesis.\n",
    "\n",
    "(Note that \"failing to reject\" the null is not the same as \"accepting\" the null hypothesis. The alternative hypothesis may indeed be true, except that you just don't have enough data to show that.)\n",
    "\n",
    "As it relates to model coefficients, here is the conventional hypothesis test:\n",
    "\n",
    "$H_0: \\beta_1 = 0$   (There is no relationship between gdpPercap and LifeExpectancy)\n",
    "\n",
    "$H_a: \\beta_1 \\neq 0$  (There is a relationship between gdpPercap and LifeExpectancy)\n"
   ]
  },
  {
   "cell_type": "code",
   "execution_count": 56,
   "metadata": {},
   "outputs": [
    {
     "data": {
      "text/plain": [
       "Intercept     0.000000e+00\n",
       "gdpPercap    3.565724e-156\n",
       "dtype: float64"
      ]
     },
     "execution_count": 56,
     "metadata": {},
     "output_type": "execute_result"
    }
   ],
   "source": [
    "model.pvalues"
   ]
  },
  {
   "cell_type": "markdown",
   "metadata": {},
   "source": [
    "A p-value less than 0.05 is one way to decide whether there is likely a relationship between the feature and the response. (Again, using 0.05 as the cutoff is just a convention.)\n",
    "\n",
    "In this case, the p-value for gdpPercap is far less than 0.05, and so we believe that there is a relationship between TV gdpPercap and LifeExpectancy.\n",
    "\n",
    "Note that we generally ignore the p-value for the intercept."
   ]
  },
  {
   "cell_type": "markdown",
   "metadata": {},
   "source": [
    "**Q6: What is the relationship between year and life expectancy? Perform the necessary steps to examine such association.**"
   ]
  },
  {
   "cell_type": "code",
   "execution_count": null,
   "metadata": {},
   "outputs": [],
   "source": []
  },
  {
   "cell_type": "markdown",
   "metadata": {},
   "source": [
    "**Q7: (bonus) As you know already, the general trend is that over time life expectancy increases, but the trend is different for each country. Some experience a greater increase than others, whereas some countries experience declines in life expectancy. You can use whatever method you wish to assess and explain this relationship using Python.**\n",
    "\n",
    "+ You could draw a graph\n",
    "+ You could draw a graph which visualizes the differing relationships between countries\n",
    "+ You could estimate a correlation coefficient\n",
    "+ You could estimate a statistical model - note that the notebook as written uses Python 2. For the most part, it works with Python 3 though.\n",
    "+ You could estimate a statistical model for each country"
   ]
  },
  {
   "cell_type": "code",
   "execution_count": null,
   "metadata": {},
   "outputs": [],
   "source": []
  }
 ],
 "metadata": {
  "colab": {
   "name": "CODING4ALL.ipynb",
   "provenance": [],
   "toc_visible": true
  },
  "kernelspec": {
   "display_name": "Python 3",
   "language": "python",
   "name": "python3"
  },
  "language_info": {
   "codemirror_mode": {
    "name": "ipython",
    "version": 3
   },
   "file_extension": ".py",
   "mimetype": "text/x-python",
   "name": "python",
   "nbconvert_exporter": "python",
   "pygments_lexer": "ipython3",
   "version": "3.7.6"
  }
 },
 "nbformat": 4,
 "nbformat_minor": 4
}
