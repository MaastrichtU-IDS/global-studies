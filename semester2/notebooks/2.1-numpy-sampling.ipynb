{
 "cells": [
  {
   "cell_type": "markdown",
   "metadata": {},
   "source": [
    "# Distributions and Sampling with NumPy\n",
    "\n",
    "[NumPy](https://numpy.org/) Is a fundamental package for scientific computing with Python including statistical methds for quantitative analysis.\n",
    "\n",
    "#### Learning objectives\n",
    " By the end of this notebook you will know:\n",
    "+ What are vectors and how they can be represented\n",
    "+ How to create data from theoretical distributions\n",
    "+ How to use functions for sampling vectors\n",
    "---"
   ]
  },
  {
   "cell_type": "markdown",
   "metadata": {},
   "source": [
    "## **1. Vector representation**:\n",
    "- Vectors are a type of mathematical matrix having only one column or one row.\n",
    "- Vectors come in two flavors: column vectors and row vectors. For example, matrix a is a column vector, and matrix a' is a row vector.\n",
    "\n",
    "![](../../semester1/pics/vectors.png)\n",
    "\n",
    "- There are two Python data structures that can represent vectors: **Arrays** and **Lists**\n",
    "\n",
    "**Note:** Whether it is a row or column, vectors on Python will be shown in a horizontal form, from left to right.\n"
   ]
  },
  {
   "cell_type": "markdown",
   "metadata": {},
   "source": [
    "### List\n",
    "- A collection of elements in a vector, not nescesarrily of the same type (which is its main advantage, one can store any type of data structure in it).\n",
    "- The elements in a list are indexed with 0 being the first index.\n",
    "- A **List** is the standard ordered-sequence data structure in Python. \n",
    "- No external package is needed to create and read **Lists**"
   ]
  },
  {
   "cell_type": "markdown",
   "metadata": {},
   "source": [
    "A list is created simply by adding elements inside squared brakets`[ ]`"
   ]
  },
  {
   "cell_type": "code",
   "execution_count": 1,
   "metadata": {},
   "outputs": [
    {
     "name": "stdout",
     "output_type": "stream",
     "text": [
      "[11, 12, 33, 40.5]\n"
     ]
    }
   ],
   "source": [
    "my_list = [11, 12, 33, 40.5]\n",
    "print(my_list)"
   ]
  },
  {
   "cell_type": "markdown",
   "metadata": {},
   "source": [
    "And it can contain numbers and strings (words)"
   ]
  },
  {
   "cell_type": "code",
   "execution_count": 2,
   "metadata": {},
   "outputs": [
    {
     "name": "stdout",
     "output_type": "stream",
     "text": [
      "['a', 'b', 'c', 'd', 1, 2, 3, 2, 4]\n"
     ]
    }
   ],
   "source": [
    "weird_list = ['a','b','c','d',1,2,3,2,4]\n",
    "print(weird_list)"
   ]
  },
  {
   "cell_type": "markdown",
   "metadata": {},
   "source": [
    "Once a list is defined, we can access its elements using the indexing method `[ ]` (no space)"
   ]
  },
  {
   "cell_type": "code",
   "execution_count": 3,
   "metadata": {},
   "outputs": [
    {
     "data": {
      "text/plain": [
       "'c'"
      ]
     },
     "execution_count": 3,
     "metadata": {},
     "output_type": "execute_result"
    }
   ],
   "source": [
    "weird_list[2]"
   ]
  },
  {
   "cell_type": "markdown",
   "metadata": {},
   "source": [
    "We can check that indeed some elements in the same list are not of the same type"
   ]
  },
  {
   "cell_type": "code",
   "execution_count": 4,
   "metadata": {},
   "outputs": [
    {
     "name": "stdout",
     "output_type": "stream",
     "text": [
      "<class 'str'> <class 'int'>\n"
     ]
    }
   ],
   "source": [
    "print(type(weird_list[2]), type(weird_list[5]))"
   ]
  },
  {
   "cell_type": "markdown",
   "metadata": {},
   "source": [
    "Nevertheless, one can slice a subset of the list"
   ]
  },
  {
   "cell_type": "code",
   "execution_count": 5,
   "metadata": {},
   "outputs": [
    {
     "data": {
      "text/plain": [
       "['c', 'd', 1, 2]"
      ]
     },
     "execution_count": 5,
     "metadata": {},
     "output_type": "execute_result"
    }
   ],
   "source": [
    "weird_list[2:6]"
   ]
  },
  {
   "cell_type": "markdown",
   "metadata": {},
   "source": [
    "But most importantly, one can extend a list with new values using `extend()` function"
   ]
  },
  {
   "cell_type": "code",
   "execution_count": 6,
   "metadata": {},
   "outputs": [],
   "source": [
    "weird_list.extend([\"Dua Lipa\", \"We're good\"])"
   ]
  },
  {
   "cell_type": "code",
   "execution_count": 7,
   "metadata": {},
   "outputs": [
    {
     "name": "stdout",
     "output_type": "stream",
     "text": [
      "['a', 'b', 'c', 'd', 1, 2, 3, 2, 4, 'Dua Lipa', \"We're good\"]\n"
     ]
    }
   ],
   "source": [
    "print(weird_list)"
   ]
  },
  {
   "cell_type": "markdown",
   "metadata": {},
   "source": [
    "### Array\n",
    "- A more efficient way to store an ordered set (vector) of elements of the same type.\n",
    "- For efficient computation, NumPy arrays are far more suitable \n",
    "- To use arrays is necessary to import the Numpy library, e.g., `import numpy as np`"
   ]
  },
  {
   "cell_type": "markdown",
   "metadata": {},
   "source": [
    "An array is created using the `np.array()` function from NumPy libray (using the same vector)  \n",
    "**Note:** We need to use both parentheses and square brackets"
   ]
  },
  {
   "cell_type": "code",
   "execution_count": 8,
   "metadata": {},
   "outputs": [
    {
     "name": "stdout",
     "output_type": "stream",
     "text": [
      "[11 12 33]\n"
     ]
    }
   ],
   "source": [
    "import numpy as np\n",
    "\n",
    "my_array = np.array([11, 12, 33])\n",
    "print(my_array)"
   ]
  },
  {
   "cell_type": "markdown",
   "metadata": {},
   "source": [
    "But introducing different types of data, things may change"
   ]
  },
  {
   "cell_type": "code",
   "execution_count": 9,
   "metadata": {},
   "outputs": [
    {
     "data": {
      "text/plain": [
       "array(['11', '12', '33', 'Billie Eilish'], dtype='<U21')"
      ]
     },
     "execution_count": 9,
     "metadata": {},
     "output_type": "execute_result"
    }
   ],
   "source": [
    "np.array([11, 12, 33, \"Billie Eilish\"])"
   ]
  },
  {
   "cell_type": "markdown",
   "metadata": {},
   "source": [
    "Do you see what happened? Python automatically typecast all of the elements in the array to be of the same type. "
   ]
  },
  {
   "cell_type": "markdown",
   "metadata": {},
   "source": [
    "The main advantage is that one is able to make math operations easily"
   ]
  },
  {
   "cell_type": "code",
   "execution_count": 10,
   "metadata": {},
   "outputs": [
    {
     "data": {
      "text/plain": [
       "array([33, 36, 99])"
      ]
     },
     "execution_count": 10,
     "metadata": {},
     "output_type": "execute_result"
    }
   ],
   "source": [
    "# 3 times each element of the array \n",
    "3 * my_array"
   ]
  },
  {
   "cell_type": "code",
   "execution_count": 11,
   "metadata": {},
   "outputs": [
    {
     "data": {
      "text/plain": [
       "array([ 1,  2, 23])"
      ]
     },
     "execution_count": 11,
     "metadata": {},
     "output_type": "execute_result"
    }
   ],
   "source": [
    "# substracting 10\n",
    "my_array - 10"
   ]
  },
  {
   "cell_type": "markdown",
   "metadata": {},
   "source": [
    "An array can be converted to a List by simply using the `list()` function"
   ]
  },
  {
   "cell_type": "code",
   "execution_count": 12,
   "metadata": {},
   "outputs": [
    {
     "name": "stdout",
     "output_type": "stream",
     "text": [
      "[11, 12, 33]\n"
     ]
    }
   ],
   "source": [
    "new_list = list(my_array)\n",
    "\n",
    "print(new_list)"
   ]
  },
  {
   "cell_type": "markdown",
   "metadata": {},
   "source": [
    "## **2. Data from Theoretical Distributions**:\n",
    "- Theoretical probability distributions are a mathematical construction of a random variable that describes phenomena in terms of their probabilities of events, there are [many of them](https://en.wikipedia.org/wiki/List_of_probability_distributions)!\n",
    "- The main library to perform Statistical analysis in Python is [SciPy (Scientific Python)](https://www.scipy.org/) \n",
    "- SciPy builds on NumPy, and for all basic array handling needs you can use NumPy functions.\n",
    "\n",
    "**Note:** SciPy library is huge, therefore, we might not want to import the whole library but the functions that we need in that moment, for example, to import the Normal distribution `from scipy.stats import norm` "
   ]
  },
  {
   "cell_type": "markdown",
   "metadata": {},
   "source": [
    "### Normal Distribution\n",
    "\n",
    "- A probability distribution in which the random variable X can take any value is a **continuous** random variable, the Normal distribution is a type of **continuous** random variable.\n",
    "- The location (`loc`) parameter specifies the `mean`. The scale (`scale`) parameter specifies the `standard deviation`.\n",
    "- See [scipy.stats.norm](https://docs.scipy.org/doc/scipy/reference/generated/scipy.stats.norm.html#scipy.stats.norm) for more details"
   ]
  },
  {
   "cell_type": "markdown",
   "metadata": {},
   "source": [
    "A continuous random variable $X$ can be \"*The mean daily temperature of Maastricht in April*\". Let's suppose that we know the daily temperature in April is distributed Normal with `mean = 11.5` and `sd = 5.5` (i.e. between 6 and 17 Celsius on most of days).\n",
    "- We can generate random values that are representative the real data, we just have to specify the size of the sample that we want to generate.  \n",
    "\n",
    "For a `size` of 30 days:"
   ]
  },
  {
   "cell_type": "code",
   "execution_count": 24,
   "metadata": {},
   "outputs": [
    {
     "name": "stdout",
     "output_type": "stream",
     "text": [
      "[ 6.59092952 11.18290282 10.00365814 12.67315034 10.94069607  9.22013015\n",
      " 13.02536913  3.41854629  4.06465594 14.1666125  13.02764729 10.48631353\n",
      " 11.19810551  7.78041964 15.84676763 10.83022771  9.52741854  5.95896371\n",
      "  7.98452654 13.4810802   8.66413205 16.88620593 11.28109943 10.42915686\n",
      " -1.65676691 10.14086557  4.43826572 10.82634925 14.35960857 19.08090897]\n"
     ]
    }
   ],
   "source": [
    "from scipy.stats import norm\n",
    "\n",
    "X = norm.rvs(loc=11.5, scale=5.5, size=30)\n",
    "print(X)"
   ]
  },
  {
   "cell_type": "markdown",
   "metadata": {},
   "source": [
    "Did we just kinda predict the weather?"
   ]
  },
  {
   "cell_type": "markdown",
   "metadata": {},
   "source": [
    "To get an idea of whether or not the data we generated has a Normal dstribution, we can quickly see if it has the expected bell curve by plotting it."
   ]
  },
  {
   "cell_type": "code",
   "execution_count": 25,
   "metadata": {},
   "outputs": [
    {
     "data": {
      "text/plain": [
       "(array([1., 0., 3., 2., 3., 6., 7., 5., 2., 1.]),\n",
       " array([-1.65676691,  0.41700068,  2.49076827,  4.56453585,  6.63830344,\n",
       "         8.71207103, 10.78583862, 12.85960621, 14.9333738 , 17.00714138,\n",
       "        19.08090897]),\n",
       " <a list of 10 Patch objects>)"
      ]
     },
     "execution_count": 25,
     "metadata": {},
     "output_type": "execute_result"
    },
    {
     "data": {
      "image/png": "[encoded data removed]",
      "text/plain": [
       "<Figure size 432x288 with 1 Axes>"
      ]
     },
     "metadata": {
      "needs_background": "light"
     },
     "output_type": "display_data"
    }
   ],
   "source": [
    "import matplotlib.pyplot as plt\n",
    "\n",
    "plt.hist(X)"
   ]
  },
  {
   "cell_type": "markdown",
   "metadata": {},
   "source": [
    "**Note:**\n",
    "- If the mean and sd are not specified then it will take the default values of 0 and 1. (a.k.a. **Standard Normal Distribuition**)\n",
    "- By adding the parameter `random_state` we can reproduce the same generated values if the code is run again, random state is also called **seed**. This number can be anything you want (e.g the number of the beast)"
   ]
  },
  {
   "cell_type": "code",
   "execution_count": 15,
   "metadata": {},
   "outputs": [
    {
     "data": {
      "text/plain": [
       "array([ 0.82418808,  0.479966  ,  1.17346801,  0.90904807, -0.57172145,\n",
       "       -0.10949727,  0.01902826, -0.94376106,  0.64057315, -0.78644317,\n",
       "        0.60886999, -0.93101185,  0.97822225, -0.73691806, -0.29873262,\n",
       "       -0.46058737, -1.08879299, -0.57577075, -1.68290077,  0.22918525,\n",
       "       -1.75662522,  0.84463262,  0.27721986,  0.85290153,  0.1945996 ,\n",
       "        1.31063772,  1.5438436 , -0.52904802, -0.6564723 , -0.2015057 ,\n",
       "       -0.70061583,  0.68713795, -0.02607576, -0.82975832,  0.29655378,\n",
       "       -0.3126795 , -0.61130127, -0.8217515 ,  0.8971227 ,  0.13607861,\n",
       "       -0.2586548 ,  1.11076564, -0.18842439, -0.04148929, -0.98479191,\n",
       "       -1.35228176,  0.19432385,  0.26723935, -0.4264737 ,  1.44773506])"
      ]
     },
     "execution_count": 15,
     "metadata": {},
     "output_type": "execute_result"
    }
   ],
   "source": [
    "norm.rvs(size=50, random_state=666)"
   ]
  },
  {
   "cell_type": "markdown",
   "metadata": {},
   "source": [
    "### Poisson Distribution\n",
    "\n",
    "- A probability distribution in which the random variable X can only take integer values is a **discrete** random variable. the Poisson distribution is a type of **discrete** random variable.\n",
    "- Poisson distribution takes as `shape` parameter `mu`. When $\\mu = 0$ then method returns 1.0.\n",
    "- See [scipy.stats.poisson](https://docs.scipy.org/doc/scipy/reference/generated/scipy.stats.poisson.html#scipy.stats.poisson) for more details"
   ]
  },
  {
   "cell_type": "markdown",
   "metadata": {},
   "source": [
    "The Poisson distribution is popular for modelling the number of times an event occurs in an interval of time (when that time interval is regular). An example can be: Let $X$ be the \"Number of goals scored in a Football match\" *. Let's supose that we know `mu = 3` (i.e., 3 goals expected in total).\n",
    "- We can generate random values that are representative of the real data, we just have to specify the size of the sample that we want.  \n",
    "With a `size` of 60 matches:"
   ]
  },
  {
   "cell_type": "code",
   "execution_count": 16,
   "metadata": {},
   "outputs": [
    {
     "name": "stdout",
     "output_type": "stream",
     "text": [
      "[2 2 3 3 2 3 3 2 2 4 4 5 5 3 4 2 1 1 0 3 5 3 3 1 6 5 3 3 5 4 5 4 2 3 2 0 2\n",
      " 0 5 3 2 2 4 4 4 2 4 5 5 4 1 4 3 4 3 3 0 2 3 2]\n"
     ]
    }
   ],
   "source": [
    "from scipy.stats import poisson\n",
    "\n",
    "X = poisson.rvs(mu=3, size=60)\n",
    "print(X)"
   ]
  },
  {
   "cell_type": "markdown",
   "metadata": {},
   "source": [
    "Did we just kinda predict the results of the season?"
   ]
  },
  {
   "cell_type": "markdown",
   "metadata": {},
   "source": [
    "## **3. Simple Random Sampling**\n",
    "- In a nutshell, random sampling is a technique in which we sample each element with a specified probability. \n",
    "- Often we perform a simple random sample by sampling uniformly-at-random such that each element has an equal probability of being chosen.\n",
    "- The main goal of simple random sampling is to have an unbiased representation of the total population. Differences between the sample and the population are called sampling errors.\n",
    "\n",
    "**Note:** There are many other techniques for sampling depending on the experiment, however, we are focusing on simple random sampling using `random.sample()` from the Random library "
   ]
  },
  {
   "cell_type": "markdown",
   "metadata": {},
   "source": [
    "Given a vector Y of 10 consecutive numbers, we can sample 4 of them making sure that all the elements have the same chances"
   ]
  },
  {
   "cell_type": "code",
   "execution_count": 17,
   "metadata": {},
   "outputs": [
    {
     "data": {
      "text/plain": [
       "[7, 2, 5, 3]"
      ]
     },
     "execution_count": 17,
     "metadata": {},
     "output_type": "execute_result"
    }
   ],
   "source": [
    "#import the library\n",
    "import random \n",
    "\n",
    "#this is just a vector represented as a list\n",
    "Y = [1, 2, 3, 4, 5, 6, 7, 8, 9, 10] \n",
    "\n",
    "# use the function sample on the vector Y to select 3 elements\n",
    "random.sample(Y, 4) "
   ]
  },
  {
   "cell_type": "markdown",
   "metadata": {},
   "source": [
    "It is also possible to sample non numerical elements in a vector"
   ]
  },
  {
   "cell_type": "code",
   "execution_count": 18,
   "metadata": {},
   "outputs": [
    {
     "data": {
      "text/plain": [
       "['Too Hot to Handle', 'Taco Chronicles']"
      ]
     },
     "execution_count": 18,
     "metadata": {},
     "output_type": "execute_result"
    }
   ],
   "source": [
    "# yet another vector\n",
    "netflix = [\"Luis Miguel\", \"New Amsterdam\", \"Lupin\", \"Shtisel\", \"Taco Chronicles\", \"The Queen's Gambit\", \n",
    "           \"Too Hot to Handle\", \"The Crown\", \"Rick and Morty\", \"Anne+\", \"Selling Sunset\", \"Vikings\"] \n",
    "\n",
    "random.sample(netflix, 2) "
   ]
  },
  {
   "cell_type": "markdown",
   "metadata": {},
   "source": [
    "It seems that this function can come in handy when there's no agreement on what to watch this weekend!"
   ]
  },
  {
   "cell_type": "markdown",
   "metadata": {},
   "source": [
    "But most importantly, in case we want to repeat the exact same random sample, we need to set a seed using `random.seed()` function **right before** the `random.sample()` function is executed"
   ]
  },
  {
   "cell_type": "code",
   "execution_count": 19,
   "metadata": {},
   "outputs": [
    {
     "data": {
      "text/plain": [
       "['Luis Miguel', 'Vikings']"
      ]
     },
     "execution_count": 19,
     "metadata": {},
     "output_type": "execute_result"
    }
   ],
   "source": [
    "random.seed(1113)\n",
    "random.sample(netflix, 2) "
   ]
  },
  {
   "cell_type": "markdown",
   "metadata": {},
   "source": [
    "Now the specific sample is fixed and no-one can change their mind :)"
   ]
  },
  {
   "cell_type": "markdown",
   "metadata": {},
   "source": [
    "---\n",
    "<i style=\"color:red\">EXERCISES</i>"
   ]
  },
  {
   "cell_type": "markdown",
   "metadata": {},
   "source": [
    "+ _1. When we print `my_list` and `my_array` it appears to produce the same result. How would you check the type of data structure for each one?_\n",
    "\n",
    "```python\n",
    "my_list = [11, 12, 33]\n",
    "print(my_list)\n",
    "\n",
    "my_array = np.array([11, 12, 33])\n",
    "print(my_array)\n",
    "```\n",
    "___"
   ]
  },
  {
   "cell_type": "markdown",
   "metadata": {},
   "source": [
    "+ _2. Define two vectors $X$ and $Y$, with a set of 5 numbers of your choice. Then perform the following operation $(X + Y) / 2$. Is it possible to make this operation with both Lists and Arrays? if not why?_\n",
    "___"
   ]
  },
  {
   "cell_type": "markdown",
   "metadata": {},
   "source": [
    "+ _3. Let's say that I do want to import the whole stats library and then use the Uniform distribution_\n",
    "\n",
    "```python\n",
    "import scipy.stats as stats\n",
    "```\n",
    "\n",
    "Why is the following function not working anymore? Make the appropiate changes to fix the problem.\n",
    "\n",
    "```python\n",
    "uniform.rvs(size=100)\n",
    "```\n",
    "___"
   ]
  },
  {
   "cell_type": "markdown",
   "metadata": {},
   "source": [
    "+ _4. All of the following 3 functions generate a sample of 20 random numbers from a Normal distribution with `mean = 10` and `sd = 5`. \n",
    "They have the same parameters, but do they produce the same results? What are the differences or similarities among them?_\n",
    "\n",
    "```python\n",
    "norm.rvs(10, 5, 20)\n",
    "\n",
    "norm.rvs(loc=10, scale=5, size=20, random_state=2021)\n",
    "\n",
    "norm.rvs(random_state=2021, scale=5, loc=10, size=20)\n",
    "```\n",
    "___"
   ]
  },
  {
   "cell_type": "markdown",
   "metadata": {},
   "source": [
    "+ _5. Given the following vector in an array form. Explore why it cannot be sampled. How do you fix this?_\n",
    "\n",
    "```python\n",
    "V = np.array([0, 1, 2, 3, 4, 5])\n",
    "random.sample(V, 2) \n",
    "```\n",
    "___"
   ]
  },
  {
   "cell_type": "markdown",
   "metadata": {},
   "source": [
    "+ _6. Given a vector $V$ that can be any size, write a function that automatically samples 20% of the elements from the vector $V$._\n",
    "\n",
    "Hint: \n",
    "- Use the `len()` function\n",
    "- You can define $V$ as you want\n",
    "___"
   ]
  },
  {
   "cell_type": "code",
   "execution_count": null,
   "metadata": {},
   "outputs": [],
   "source": []
  }
 ],
 "metadata": {
  "kernelspec": {
   "display_name": "Python 3",
   "language": "python",
   "name": "python3"
  },
  "language_info": {
   "codemirror_mode": {
    "name": "ipython",
    "version": 3
   },
   "file_extension": ".py",
   "mimetype": "text/x-python",
   "name": "python",
   "nbconvert_exporter": "python",
   "pygments_lexer": "ipython3",
   "version": "3.8.8"
  }
 },
 "nbformat": 4,
 "nbformat_minor": 4
}
