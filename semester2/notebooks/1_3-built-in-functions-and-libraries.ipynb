{
 "cells": [
  {
   "cell_type": "markdown",
   "metadata": {},
   "source": [
    "---\n",
    "# Built-in functions and Libraries (5 min / 5 min exercises)\n",
    "#### Learning objectives\n",
    "With this **Top 5 things**, you'll know:\n",
    "+ What is a built-in function and Libaries.\n",
    "+ What are the main differences between them.\n",
    "+ Explain and discribe Errors in python.\n",
    "\n",
    "This learning goals will be very important to successfully complete your assignment 1."
   ]
  },
  {
   "cell_type": "markdown",
   "metadata": {},
   "source": [
    "## **1. A function may take zero or more arguments**:\n",
    "+ An _arguement_ is a value passed into a function.\n",
    "+ `len` takes exactly one.\n",
    "+ `int`, `str`, and `float` create a new value from an existing one.\n",
    "+ `print` takes zero or more.\n",
    "+ `print` with no arguemtns prints a blank line."
   ]
  },
  {
   "cell_type": "markdown",
   "metadata": {},
   "source": [
    "## **2. Commonly-used built-in functions include `max`, `min`, and `round`:**\n",
    "+ Use `max` to find the largest value of one or more values.\n",
    "+ Use `min` to find the smallest\n",
    "+ Both work on character strings as well as numbers:\n",
    "    - \"Larger\" and \"smaller\" use (0-9, A-Z, a-z) to compare letters."
   ]
  },
  {
   "cell_type": "markdown",
   "metadata": {},
   "source": [
    "\n",
    "## **3. Most of the power of a programming language is in its libraries:**\n",
    "+ A _library_ is a collection of files (called _modules_) that contains functions for use by other programs.\n",
    "    - May also contains data values (e.g. numerical contants) and other things.\n",
    "+ The Python [standard library](https://docs.python.org/3/library/) is an extensive suite of modules that comes with Python itself.\n",
    "+ Many additional libraries are available from [PyPI](https://pypi.python.org/pypi/) (the Python Package Index).\n",
    "    \n",
    "**REMEMBER**: A library is a collection of modules, but the terms are often used interchangeably, especially since many libraries only consist of a single module, so don’t worry if you mix them."
   ]
  },
  {
   "cell_type": "markdown",
   "metadata": {},
   "source": [
    "## **4. An analysis must import a library module before using it:**\n",
    "\n",
    "+ Use `import` to load a library module into a program's memory.\n",
    "+ Then refer to things from the module as `module_name.thing_name`.\n",
    "    + Python uses `.` to mean 'part of'."
   ]
  },
  {
   "cell_type": "code",
   "execution_count": 10,
   "metadata": {},
   "outputs": [
    {
     "name": "stdout",
     "output_type": "stream",
     "text": [
      "pi is 3.141592653589793\n",
      "cos(pi) is -1.0\n"
     ]
    }
   ],
   "source": [
    "import math\n",
    "print('pi is', math.pi)\n",
    "print('cos(pi) is', math.cos(math.pi))"
   ]
  },
  {
   "cell_type": "markdown",
   "metadata": {},
   "source": [
    "**REMEMBER**: Use `help` to learn about the content of a library module:"
   ]
  },
  {
   "cell_type": "code",
   "execution_count": null,
   "metadata": {},
   "outputs": [],
   "source": [
    "help(math)"
   ]
  },
  {
   "cell_type": "markdown",
   "metadata": {},
   "source": [
    "## **5. Python reports a syntax error when it can't understand the source of a program:**"
   ]
  },
  {
   "cell_type": "code",
   "execution_count": null,
   "metadata": {},
   "outputs": [],
   "source": [
    "author = 'Garcia Lorca"
   ]
  },
  {
   "cell_type": "code",
   "execution_count": null,
   "metadata": {},
   "outputs": [],
   "source": [
    "print(\"poet\""
   ]
  },
  {
   "cell_type": "code",
   "execution_count": null,
   "metadata": {},
   "outputs": [],
   "source": [
    "age = 53\n",
    "remaining = 100 - aege # mis-spelled 'age'"
   ]
  },
  {
   "cell_type": "markdown",
   "metadata": {},
   "source": [
    "#### <i style=\"color:red\">**EXERCISES - 5 min**</i>"
   ]
  },
  {
   "cell_type": "markdown",
   "metadata": {},
   "source": [
    "_1. Run the following python code and think what each of the print statements in the code below will print._\n",
    "\n",
    "```python\n",
    "easy_string = \"abc\"\n",
    "print(max(easy_string))\n",
    "rich = \"gold\"\n",
    "poor = \"tin\"\n",
    "print(max(rich, poor))\n",
    "print(max(len(rich), len(poor)))\n",
    "```\n",
    "\n",
    "   * _1b. Does `max(len(rich), poor)` run or produce an error message? If it runs, does its result make any sense?_\n",
    "\n"
   ]
  },
  {
   "cell_type": "markdown",
   "metadata": {},
   "source": [
    "_2. What function from the `math` module can you use to calculate a square root without using `sqrt`?_\n",
    "\n"
   ]
  },
  {
   "cell_type": "markdown",
   "metadata": {},
   "source": [
    "_3. The following variable stores one of the longest word in the world._\n",
    "\n",
    "```python\n",
    "longest_word = 'pneumonoultramicroscopicsilicovolcanoconiosis'\n",
    "```\n",
    "    \n",
    "_Suppose you want to select a random character from `longest_word`_:\n",
    "\n",
    "\n",
    "_Which [standard library](https://docs.python.org/3/library/) module could help you?_\n",
    "\n",
    "+ _3.2. Which function would you select from that module? Are there alternatives_"
   ]
  },
  {
   "cell_type": "markdown",
   "metadata": {},
   "source": [
    "_4. Rearrange the following statements so that a `longest_word` is printed and its index in the string. Not all statements may be needed. Feel free to use/add intermediate variables._\n",
    "\n",
    "```python\n",
    "longest_word = 'pneumonoultramicroscopicsilicovolcanoconiosis'\n",
    "import math\n",
    "import random\n",
    "___ = random.randrange(n_bases)\n",
    "___ = len(bases)\n",
    "print(\"random base \", bases[___], \"base index\", ___)\n",
    "```\n",
    "---"
   ]
  }
 ],
 "metadata": {
  "kernelspec": {
   "display_name": "Python 3",
   "language": "python",
   "name": "python3"
  },
  "language_info": {
   "codemirror_mode": {
    "name": "ipython",
    "version": 3
   },
   "file_extension": ".py",
   "mimetype": "text/x-python",
   "name": "python",
   "nbconvert_exporter": "python",
   "pygments_lexer": "ipython3",
   "version": "3.8.5"
  }
 },
 "nbformat": 4,
 "nbformat_minor": 4
}
