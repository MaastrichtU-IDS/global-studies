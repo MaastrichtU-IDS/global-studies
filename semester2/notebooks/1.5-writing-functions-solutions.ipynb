{
 "cells": [
  {
   "cell_type": "markdown",
   "metadata": {
    "id": "q7QDqTcKSvxH"
   },
   "source": [
    "# Writing Functions\n",
    "---"
   ]
  },
  {
   "cell_type": "markdown",
   "metadata": {
    "id": "EOM2KnXYSvxP"
   },
   "source": [
    "## <i style=\"color:red\">**EXERCISES**</i>"
   ]
  },
  {
   "cell_type": "markdown",
   "metadata": {
    "id": "Tt2tsSk1SvxQ"
   },
   "source": [
    "_1. Suppose we have the following String variable:_\n",
    "\n",
    "```python\n",
    "y = \"You just called a function on y\"\n",
    "```\n",
    "\n",
    "_Please, write a function `f()` in python code that prints the above `y` string variable_."
   ]
  },
  {
   "cell_type": "markdown",
   "metadata": {
    "id": "py7xNhHLVvnS"
   },
   "source": [
    "**SOLUTION**"
   ]
  },
  {
   "cell_type": "code",
   "execution_count": 1,
   "metadata": {
    "id": "CXl4lP7IVx5b"
   },
   "outputs": [],
   "source": [
    "# create a variable y\n",
    "\n",
    "y = \"You just called a function on y\"\n",
    "\n",
    "def f(y):\n",
    "    print(y)\n"
   ]
  },
  {
   "cell_type": "code",
   "execution_count": 2,
   "metadata": {
    "colab": {
     "base_uri": "https://localhost:8080/"
    },
    "id": "jjMLBV_jV9UV",
    "outputId": "18d3edbc-0d3c-479a-fd01-d3b888596f85"
   },
   "outputs": [
    {
     "name": "stdout",
     "output_type": "stream",
     "text": [
      "You just called a function on y\n"
     ]
    }
   ],
   "source": [
    "# call the function\n",
    "f(y)"
   ]
  },
  {
   "cell_type": "markdown",
   "metadata": {
    "id": "XM1eQfCASvxQ"
   },
   "source": [
    "_2. Suppose we have a function that adds 5 to a given integer as following:_\n",
    "\n",
    "```python\n",
    "def addFive(x):\n",
    "    x = x + 5  \n",
    "    return x\n",
    "```\n",
    "\n",
    "_What does this return?_\n",
    "\n",
    "```python\n",
    "5 + addFive(5)\n",
    "```\n",
    "\n"
   ]
  },
  {
   "cell_type": "markdown",
   "metadata": {
    "id": "HMzy5w1tWNVe"
   },
   "source": [
    "**SOLUTION**\n"
   ]
  },
  {
   "cell_type": "code",
   "execution_count": 3,
   "metadata": {
    "id": "KzcYH-JvWQLB"
   },
   "outputs": [],
   "source": [
    "def addFive(x):\n",
    "    x = x + 5  \n",
    "    return x"
   ]
  },
  {
   "cell_type": "code",
   "execution_count": 4,
   "metadata": {
    "colab": {
     "base_uri": "https://localhost:8080/"
    },
    "id": "P1AD35iIWTKz",
    "outputId": "c453429f-b611-4101-eb01-1ea52d44c25e"
   },
   "outputs": [
    {
     "data": {
      "text/plain": [
       "15"
      ]
     },
     "execution_count": 4,
     "metadata": {
      "tags": []
     },
     "output_type": "execute_result"
    }
   ],
   "source": [
    "5 + addFive(5) #add 5 to our addFive function"
   ]
  },
  {
   "cell_type": "markdown",
   "metadata": {
    "id": "ZIPLIGI-SvxQ"
   },
   "source": [
    "_3. Write a function `bmi(height, weight)` that returns the Body Mass Index._ \n",
    "\n",
    "\n",
    "The formula for BMI is kg/m2."
   ]
  },
  {
   "cell_type": "markdown",
   "metadata": {
    "id": "sZSRYR4PXOlk"
   },
   "source": [
    "**SOLUTION**"
   ]
  },
  {
   "cell_type": "code",
   "execution_count": 5,
   "metadata": {
    "id": "ep5K0fBQWbiQ"
   },
   "outputs": [],
   "source": [
    "def bmi(height,weight):\n",
    "  bmi = weight/(height**2)\n",
    "  return(bmi)"
   ]
  },
  {
   "cell_type": "code",
   "execution_count": 6,
   "metadata": {
    "colab": {
     "base_uri": "https://localhost:8080/"
    },
    "id": "6VSx17KmXD9g",
    "outputId": "734a3ab3-cb20-46f8-caab-5c7a06a8ff85"
   },
   "outputs": [
    {
     "data": {
      "text/plain": [
       "0.0022591438130915953"
      ]
     },
     "execution_count": 6,
     "metadata": {
      "tags": []
     },
     "output_type": "execute_result"
    }
   ],
   "source": [
    "# test your function\n",
    "bmi(187,79)"
   ]
  }
 ],
 "metadata": {
  "colab": {
   "name": "1.5-writing-functions.ipynb",
   "provenance": []
  },
  "kernelspec": {
   "display_name": "Python 3",
   "language": "python",
   "name": "python3"
  },
  "language_info": {
   "codemirror_mode": {
    "name": "ipython",
    "version": 3
   },
   "file_extension": ".py",
   "mimetype": "text/x-python",
   "name": "python",
   "nbconvert_exporter": "python",
   "pygments_lexer": "ipython3",
   "version": "3.9.1"
  }
 },
 "nbformat": 4,
 "nbformat_minor": 4
}
