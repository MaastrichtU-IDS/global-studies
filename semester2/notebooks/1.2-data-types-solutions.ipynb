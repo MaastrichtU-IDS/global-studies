{
 "cells": [
  {
   "cell_type": "markdown",
   "metadata": {
    "id": "vtTP6ZXUDbHL"
   },
   "source": [
    "# Data types\n",
    "---"
   ]
  },
  {
   "cell_type": "markdown",
   "metadata": {
    "id": "wH9TNjwkDbHW"
   },
   "source": [
    "#### <i style=\"color:red\">**EXERCISES**</i>"
   ]
  },
  {
   "cell_type": "markdown",
   "metadata": {
    "id": "oJhv8fzIDbHX"
   },
   "source": [
    "_1. What type of value is 3.4? How can you find out?_"
   ]
  },
  {
   "cell_type": "markdown",
   "metadata": {
    "id": "BaRTGVhPD4TP"
   },
   "source": [
    "**Solution**\n",
    "\n",
    "_It is a floating-point number (often abbreviated “float”)._"
   ]
  },
  {
   "cell_type": "code",
   "execution_count": null,
   "metadata": {
    "colab": {
     "base_uri": "https://localhost:8080/"
    },
    "id": "SIemWhcaD-ZQ",
    "outputId": "94537f59-0b9e-43e9-9483-1fb915a392fc"
   },
   "outputs": [
    {
     "name": "stdout",
     "output_type": "stream",
     "text": [
      "<class 'float'>\n"
     ]
    }
   ],
   "source": [
    "print(type(3.4))"
   ]
  },
  {
   "cell_type": "markdown",
   "metadata": {
    "id": "iOGQohiJDbHX"
   },
   "source": [
    "---\n",
    "_2. What type of value (integer, floating point number, or character string) would you use to represent each of the following?_ Try to come up with more than one good answer for each problem. For example, in # 1, when would counting days with a floating point variable make more sense than using an integer?_\n",
    "\n",
    "1. Number of days since the start of the year.\n",
    "2. Country code according to 2. Country code according to [The International Standard Organization](https://en.wikipedia.org/wiki/List_of_ISO_3166_country_codes).\n",
    "4. Current population of a city.\n",
    "5. Average population of a city over time.\n",
    "\n"
   ]
  },
  {
   "cell_type": "markdown",
   "metadata": {
    "id": "DqC235NVEdUp"
   },
   "source": [
    "**Solution**\n",
    "\n",
    "1. Integer, since the number of days would lie between 1 and 365.\n",
    "2. Character string since ISO has character and numbers.\n",
    "3. Choose floating point to represent population as large aggregates (eg millions), or integer to represent population in units of individuals.\n",
    "4. Floating point number, since an average is likely to have a fractional part.\n",
    "---\n",
    "\n"
   ]
  },
  {
   "cell_type": "markdown",
   "metadata": {
    "id": "K5DjspdZEiLN"
   },
   "source": [
    "_3. Can you concatenate strings? Can you explain how with an example in a cell code?_"
   ]
  },
  {
   "cell_type": "markdown",
   "metadata": {
    "id": "Y_Y2CsETGYx0"
   },
   "source": [
    "**Solution**\n",
    "\n",
    "oh yeahhh, as previously mentioned in point 4\n",
    "\n",
    "```python\n",
    "country_profile = 'AFGHANISTAN ' + 'Gross domestic product growth rate in 2019' + '+ 2.4%'\n",
    "print(country_profile)\n",
    "```"
   ]
  }
 ],
 "metadata": {
  "colab": {
   "name": "teacherversion-1.2-data-types.ipynb",
   "provenance": []
  },
  "kernelspec": {
   "display_name": "Python 3",
   "language": "python",
   "name": "python3"
  },
  "language_info": {
   "codemirror_mode": {
    "name": "ipython",
    "version": 3
   },
   "file_extension": ".py",
   "mimetype": "text/x-python",
   "name": "python",
   "nbconvert_exporter": "python",
   "pygments_lexer": "ipython3",
   "version": "3.9.1"
  }
 },
 "nbformat": 4,
 "nbformat_minor": 4
}
