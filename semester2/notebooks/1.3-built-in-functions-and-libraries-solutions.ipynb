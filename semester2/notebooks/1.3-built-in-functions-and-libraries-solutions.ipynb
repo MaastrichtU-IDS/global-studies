{
 "cells": [
  {
   "cell_type": "markdown",
   "metadata": {
    "id": "nYZsbQZCIv7G"
   },
   "source": [
    "---\n",
    "# Built-in functions and Libraries"
   ]
  },
  {
   "cell_type": "markdown",
   "metadata": {
    "id": "4jB3yfZXIv7Q"
   },
   "source": [
    "#### <i style=\"color:red\">**EXERCISES**</i>"
   ]
  },
  {
   "cell_type": "markdown",
   "metadata": {
    "id": "Q2uMHX3GIv7Q"
   },
   "source": [
    "_1. Run the following python code and think what each of the print statements in the code below will print._\n",
    "\n",
    "```python\n",
    "easy_string = \"abc\"\n",
    "print(max(easy_string))\n",
    "rich = \"gold\"\n",
    "poor = \"tin\"\n",
    "print(max(rich, poor))\n",
    "print(max(len(rich), len(poor)))\n",
    "```\n",
    "\n",
    "\n",
    "\n"
   ]
  },
  {
   "cell_type": "markdown",
   "metadata": {
    "id": "msiqhz0XPT6D"
   },
   "source": [
    "\n",
    "**SOLUTION**"
   ]
  },
  {
   "cell_type": "code",
   "execution_count": 1,
   "metadata": {
    "colab": {
     "base_uri": "https://localhost:8080/"
    },
    "id": "Y9abtMJIK4RC",
    "outputId": "27eedd02-8ff2-4649-f5d2-f533efaa3c6e"
   },
   "outputs": [
    {
     "name": "stdout",
     "output_type": "stream",
     "text": [
      "c\n"
     ]
    }
   ],
   "source": [
    "easy_string = \"abc\"\n",
    "print(max(easy_string)) # max() returns the highest alphabetical character in a string."
   ]
  },
  {
   "cell_type": "code",
   "execution_count": 2,
   "metadata": {
    "colab": {
     "base_uri": "https://localhost:8080/"
    },
    "id": "aCRoWQk9NnkW",
    "outputId": "b55d7d16-2374-406c-d1a7-2427a913b51e"
   },
   "outputs": [
    {
     "name": "stdout",
     "output_type": "stream",
     "text": [
      "tin\n"
     ]
    }
   ],
   "source": [
    "rich = \"gold\"\n",
    "poor = \"tin\"\n",
    "print(max(rich, poor)) # It \"orders\" the words alphabetically and returns the one that is at the bottom of the alphabetic list, it returns tin bacause t is after g"
   ]
  },
  {
   "cell_type": "code",
   "execution_count": 3,
   "metadata": {
    "colab": {
     "base_uri": "https://localhost:8080/"
    },
    "id": "H31c5VlUOIvS",
    "outputId": "ac0e1fdc-261b-40da-cb74-57b46877ea62"
   },
   "outputs": [
    {
     "name": "stdout",
     "output_type": "stream",
     "text": [
      "4\n"
     ]
    }
   ],
   "source": [
    "print(max(len(rich), len(poor))) # return the max number of characters from these two strings, aka 4 from \"gold\""
   ]
  },
  {
   "cell_type": "markdown",
   "metadata": {
    "id": "YB7V8EuZOndc"
   },
   "source": [
    "   * _1b. Does `max(len(rich), poor)` run or produce an error message? If it runs, does its result make any sense?_"
   ]
  },
  {
   "cell_type": "code",
   "execution_count": 4,
   "metadata": {
    "colab": {
     "base_uri": "https://localhost:8080/",
     "height": 163
    },
    "id": "RPW_UF0POoJp",
    "outputId": "7501efef-8fec-46a7-a609-f9b6d589a413"
   },
   "outputs": [
    {
     "ename": "TypeError",
     "evalue": "ignored",
     "output_type": "error",
     "traceback": [
      "\u001b[0;31m---------------------------------------------------------------------------\u001b[0m",
      "\u001b[0;31mTypeError\u001b[0m                                 Traceback (most recent call last)",
      "\u001b[0;32m<ipython-input-4-bc82ad05177a>\u001b[0m in \u001b[0;36m<module>\u001b[0;34m()\u001b[0m\n\u001b[0;32m----> 1\u001b[0;31m \u001b[0mmax\u001b[0m\u001b[0;34m(\u001b[0m\u001b[0mlen\u001b[0m\u001b[0;34m(\u001b[0m\u001b[0mrich\u001b[0m\u001b[0;34m)\u001b[0m\u001b[0;34m,\u001b[0m \u001b[0mpoor\u001b[0m\u001b[0;34m)\u001b[0m\u001b[0;34m\u001b[0m\u001b[0;34m\u001b[0m\u001b[0m\n\u001b[0m",
      "\u001b[0;31mTypeError\u001b[0m: '>' not supported between instances of 'str' and 'int'"
     ]
    }
   ],
   "source": [
    "max(len(rich), poor)"
   ]
  },
  {
   "cell_type": "markdown",
   "metadata": {
    "id": "UBJVHkBcOvZM"
   },
   "source": [
    "It throws a TypeError. This turns into max(4, 'tin') and as we discussed earlier a string and integer cannot meaningfully be compared.\n",
    "\n",
    "\n",
    "---"
   ]
  },
  {
   "cell_type": "markdown",
   "metadata": {
    "id": "VLmmNsxkIv7R"
   },
   "source": [
    "_2. What function from the `math` module can you use to calculate a square root without using `sqrt`?_\n",
    "\n"
   ]
  },
  {
   "cell_type": "markdown",
   "metadata": {
    "id": "HHKal3XFPgdu"
   },
   "source": [
    "\n",
    "**SOLUTION**\n",
    "\n",
    "1. Using help(math) we see that we’ve got pow(x,y) in addition to sqrt(x), so we could use pow(x, 0.5) to find a square root. The sqrt(x) function is arguably more readable than pow(x, 0.5) when implementing equations. Readability is a cornerstone of good programming, so it makes sense to provide a special function for this specific common case."
   ]
  },
  {
   "cell_type": "markdown",
   "metadata": {
    "id": "eejFRPeIIv7R"
   },
   "source": [
    "---\n",
    "_3. The following variable stores one of the longest word in the world._\n",
    "\n",
    "```python\n",
    "longest_word = 'pneumonoultramicroscopicsilicovolcanoconiosis'\n",
    "```\n",
    "    \n",
    "_Suppose you want to select a random character from `longest_word`_:\n",
    "\n",
    "\n",
    "_Which [standard library](https://docs.python.org/3/library/) module could help you?_\n",
    "\n",
    "+ _3.2. Which function would you select from that module? Are there alternatives_"
   ]
  },
  {
   "cell_type": "markdown",
   "metadata": {
    "id": "xxao2_grPQKo"
   },
   "source": [
    "**SOLUTION**\n",
    "\n",
    "The [random module](https://docs.python.org/3/library/random.html) seems like it could help you.\n",
    "\n",
    "The string has 45 characters, each having a positional index from 0 to 44. You could use random.randrange function (or the alias random.randint if you find that easier to remember) to get a random integer between 0 and 10, and then pick out the character at that position:"
   ]
  },
  {
   "cell_type": "code",
   "execution_count": 8,
   "metadata": {
    "colab": {
     "base_uri": "https://localhost:8080/"
    },
    "id": "K2QLvPuyQPou",
    "outputId": "6cfe97d3-2cd3-48a8-a4e9-006fede46310"
   },
   "outputs": [
    {
     "name": "stdout",
     "output_type": "stream",
     "text": [
      "45\n",
      "i\n"
     ]
    }
   ],
   "source": [
    "from random import randrange\n",
    "longest_word = 'pneumonoultramicroscopicsilicovolcanoconiosis'\n",
    "print(len(longest_word))\n",
    "random_index = randrange(len(longest_word))\n",
    "print(longest_word[random_index])"
   ]
  },
  {
   "cell_type": "markdown",
   "metadata": {
    "id": "H50FITV4QynV"
   },
   "source": [
    "Perhaps you found the random.sample function? It allows for slightly less typing:"
   ]
  },
  {
   "cell_type": "code",
   "execution_count": 9,
   "metadata": {
    "colab": {
     "base_uri": "https://localhost:8080/"
    },
    "id": "i0sTYLGnQyLy",
    "outputId": "873a85f5-7187-415a-b85f-fb8c9513655e"
   },
   "outputs": [
    {
     "name": "stdout",
     "output_type": "stream",
     "text": [
      "n\n"
     ]
    }
   ],
   "source": [
    "from random import sample\n",
    "\n",
    "print(sample(longest_word, 1)[0])"
   ]
  },
  {
   "cell_type": "markdown",
   "metadata": {
    "id": "IIjMNQYSRFaB"
   },
   "source": [
    "---\n",
    "4. _Fill in the blanks so that the program below prints 90.0._\n",
    "\n",
    "```python\n",
    "import math as m\n",
    "angle = ____.degrees(____.pi / 2)\n",
    "print(____)\n",
    "```"
   ]
  },
  {
   "cell_type": "markdown",
   "metadata": {
    "id": "nQ1OCVa4R-27"
   },
   "source": [
    "**SOLUTION**"
   ]
  },
  {
   "cell_type": "code",
   "execution_count": 13,
   "metadata": {
    "colab": {
     "base_uri": "https://localhost:8080/"
    },
    "id": "pqcNpCyCRUvO",
    "outputId": "1d55d07a-992a-40ba-d0b9-2b8271ed7214"
   },
   "outputs": [
    {
     "name": "stdout",
     "output_type": "stream",
     "text": [
      "90.0\n"
     ]
    }
   ],
   "source": [
    "import math as m\n",
    "angle = m.degrees(m.pi / 2)\n",
    "print(angle)"
   ]
  },
  {
   "cell_type": "markdown",
   "metadata": {
    "id": "Pf1XvQflRr0C"
   },
   "source": [
    "---\n",
    "_5. Rewrite the code above so that it uses import without as. Which form do you find easier to read?_\n"
   ]
  },
  {
   "cell_type": "code",
   "execution_count": 14,
   "metadata": {
    "colab": {
     "base_uri": "https://localhost:8080/"
    },
    "id": "Sqbfujk3Ry_n",
    "outputId": "2f6bad09-39e6-45ca-f804-0f8663d34e69"
   },
   "outputs": [
    {
     "name": "stdout",
     "output_type": "stream",
     "text": [
      "90.0\n"
     ]
    }
   ],
   "source": [
    "import math\n",
    "angle = math.degrees(math.pi / 2)\n",
    "print(angle)"
   ]
  },
  {
   "cell_type": "markdown",
   "metadata": {
    "id": "JQRua4NFR1nP"
   },
   "source": [
    "**SOLUTION**\n",
    "\n",
    "Since you just wrote the code and are familiar with it, you might actually find the first version easier to read. But when trying to read a huge piece of code written by someone else, or when getting back to your own huge piece of code after several months, non-abbreviated names are often easier, except where there are clear abbreviation conventions.\n",
    "\n",
    "---"
   ]
  }
 ],
 "metadata": {
  "colab": {
   "name": "teacherversion-1.3-built-in-functions-and-libraries.ipynb",
   "provenance": []
  },
  "kernelspec": {
   "display_name": "Python 3",
   "language": "python",
   "name": "python3"
  },
  "language_info": {
   "codemirror_mode": {
    "name": "ipython",
    "version": 3
   },
   "file_extension": ".py",
   "mimetype": "text/x-python",
   "name": "python",
   "nbconvert_exporter": "python",
   "pygments_lexer": "ipython3",
   "version": "3.9.1"
  }
 },
 "nbformat": 4,
 "nbformat_minor": 4
}
