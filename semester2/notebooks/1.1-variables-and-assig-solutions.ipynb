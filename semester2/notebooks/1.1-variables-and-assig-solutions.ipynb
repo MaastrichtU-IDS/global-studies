{
 "cells": [
  {
   "cell_type": "markdown",
   "metadata": {
    "id": "aClfJUA_-jb1"
   },
   "source": [
    "# Variables and assignments\n",
    "---"
   ]
  },
  {
   "cell_type": "markdown",
   "metadata": {
    "id": "ySA0uNTH-jb9"
   },
   "source": [
    "#### <i style=\"color:red\">**EXERCISES**</i>"
   ]
  },
  {
   "cell_type": "markdown",
   "metadata": {
    "id": "9thTm2zW-jb9"
   },
   "source": [
    "+ _1. What is the final value of `position` in the program below? (Try to pedict the value without running the python code in your com, then check your prediction_):\n",
    "\n",
    "```python\n",
    "initial = 'Ghana'\n",
    "position = initial\n",
    "initial = 'Laos'\n",
    "```\n"
   ]
  },
  {
   "cell_type": "markdown",
   "metadata": {
    "id": "yKL7lfka-jb-"
   },
   "source": [
    "<i style=\"color:red\">**Solution**</i>\n",
    "\n",
    "_The initial variable is assigned the value 'Ghana'. In the second line, the position variable also receives the string value 'Ghana'. In third line, the initial variable is given the value 'Laos', but the position variable retains its string value of 'Ghana'._\n",
    "___"
   ]
  },
  {
   "cell_type": "markdown",
   "metadata": {
    "id": "aLMZCI4_-jb-"
   },
   "source": [
    "+ _2. If you assign `IDH = 0.0005`, what happens if you try to get the second digit of `IDH` via index `IDH[1]`?_\n",
    "\n",
    "\n"
   ]
  },
  {
   "cell_type": "code",
   "execution_count": null,
   "metadata": {
    "colab": {
     "base_uri": "https://localhost:8080/",
     "height": 180
    },
    "id": "dLiQFDHiAF9Z",
    "outputId": "1b90b12a-4073-4b68-c255-3923e33dcedf"
   },
   "outputs": [
    {
     "ename": "TypeError",
     "evalue": "ignored",
     "output_type": "error",
     "traceback": [
      "\u001b[0;31m---------------------------------------------------------------------------\u001b[0m",
      "\u001b[0;31mTypeError\u001b[0m                                 Traceback (most recent call last)",
      "\u001b[0;32m<ipython-input-1-0a56bc0d6273>\u001b[0m in \u001b[0;36m<module>\u001b[0;34m()\u001b[0m\n\u001b[1;32m      1\u001b[0m \u001b[0mIDH\u001b[0m \u001b[0;34m=\u001b[0m \u001b[0;36m0.0005\u001b[0m\u001b[0;34m\u001b[0m\u001b[0;34m\u001b[0m\u001b[0m\n\u001b[0;32m----> 2\u001b[0;31m \u001b[0mprint\u001b[0m\u001b[0;34m(\u001b[0m\u001b[0mIDH\u001b[0m\u001b[0;34m[\u001b[0m\u001b[0;36m1\u001b[0m\u001b[0;34m]\u001b[0m\u001b[0;34m)\u001b[0m\u001b[0;34m\u001b[0m\u001b[0;34m\u001b[0m\u001b[0m\n\u001b[0m",
      "\u001b[0;31mTypeError\u001b[0m: 'float' object is not subscriptable"
     ]
    }
   ],
   "source": [
    "IDH = 0.0005\n",
    "print(IDH[1])"
   ]
  },
  {
   "cell_type": "markdown",
   "metadata": {
    "id": "4kkcGDRt_ot9"
   },
   "source": [
    "<i style=\"color:red\">**Solution**</i>\n",
    "\n",
    "_Numbers are not strings or sequences and Python will raise an error if you try to perform an index operation on a number. In the next lesson on types and type conversion we will learn more about types. If you want the Nth digit of a number you can convert it into a string using the str built-in function and then perform an index operation on that string._ We get an error as shown below:\n"
   ]
  },
  {
   "cell_type": "markdown",
   "metadata": {
    "id": "3uMDkV4D-jb-"
   },
   "source": [
    "---\n",
    "+ _3. Which is a better variable name, m, min, or minutes? Why? Hint: think about which code you would rather inherit from someone who is leaving the lab:_\n",
    "\n",
    "```python\n",
    "1. ts = m * 60 + s\n",
    "2. tot_sec = min * 60 + sec\n",
    "3. total_seconds = minutes * 60 + seconds\n",
    "```"
   ]
  },
  {
   "cell_type": "markdown",
   "metadata": {
    "id": "8I5x9QsdA8sL"
   },
   "source": [
    "<i style=\"color:red\">**Solution**</i>\n",
    "\n",
    "_minutes is better because min might mean something like “minimum” (and actually is an existing built-in function in Python that we will cover later)._"
   ]
  },
  {
   "cell_type": "markdown",
   "metadata": {
    "id": "U4GSbSYC-jb-"
   },
   "source": [
    "---\n",
    "+ _4. What does the following code prints?_ Think about it before you write a new python code\n",
    "\n",
    "```python\n",
    "city_name = 'Arequipa'\n",
    "print('city_name[1:3] is', city_name[1:3])\n",
    "```"
   ]
  },
  {
   "cell_type": "markdown",
   "metadata": {
    "id": "UnOsXv8zBqzm"
   },
   "source": [
    "<i style=\"color:red\">**Solution**</i>\n",
    "\n",
    "It prints the second and third digit from the variable `city_name`"
   ]
  },
  {
   "cell_type": "code",
   "execution_count": null,
   "metadata": {
    "colab": {
     "base_uri": "https://localhost:8080/"
    },
    "id": "nyyfJ3zEBaRF",
    "outputId": "3f83b550-9b3b-4e5f-b8ac-0cf973da035b"
   },
   "outputs": [
    {
     "name": "stdout",
     "output_type": "stream",
     "text": [
      "city_name[1:3] is re\n"
     ]
    }
   ],
   "source": [
    "city_name = 'Arequipa'\n",
    "print('city_name[1:3] is', city_name[1:3])"
   ]
  },
  {
   "cell_type": "markdown",
   "metadata": {
    "id": "jxKFwMKJ-jb-"
   },
   "source": [
    "---\n",
    "* _5. The following variable stores one of the longest word in the world._\n",
    "\n",
    "```python\n",
    "longest_word = 'pneumonoultramicroscopicsilicovolcanoconiosis'\n",
    "```\n",
    "\n",
    "* _Calculate the length of the word variable with the function `len()`._"
   ]
  },
  {
   "cell_type": "markdown",
   "metadata": {
    "id": "bVkRmdmOCD2G"
   },
   "source": [
    "<i style=\"color:red\">**Solution**</i>\n"
   ]
  },
  {
   "cell_type": "code",
   "execution_count": null,
   "metadata": {
    "colab": {
     "base_uri": "https://localhost:8080/"
    },
    "id": "7mdKYZ0MCIkm",
    "outputId": "e1998d66-a67b-408e-cbbe-b26478ccd50b"
   },
   "outputs": [
    {
     "name": "stdout",
     "output_type": "stream",
     "text": [
      "45\n"
     ]
    }
   ],
   "source": [
    "longest_word = 'pneumonoultramicroscopicsilicovolcanoconiosis'\n",
    "print(len(longest_word))"
   ]
  }
 ],
 "metadata": {
  "colab": {
   "name": "teacherversion-variables-and-assig.ipynb",
   "provenance": []
  },
  "kernelspec": {
   "display_name": "Python 3",
   "language": "python",
   "name": "python3"
  },
  "language_info": {
   "codemirror_mode": {
    "name": "ipython",
    "version": 3
   },
   "file_extension": ".py",
   "mimetype": "text/x-python",
   "name": "python",
   "nbconvert_exporter": "python",
   "pygments_lexer": "ipython3",
   "version": "3.9.1"
  }
 },
 "nbformat": 4,
 "nbformat_minor": 4
}
