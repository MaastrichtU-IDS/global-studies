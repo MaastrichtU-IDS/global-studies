{
 "cells": [
  {
   "cell_type": "markdown",
   "metadata": {},
   "source": [
    "# Writing Functions (5 min read/ 5 min exercices)"
   ]
  },
  {
   "cell_type": "markdown",
   "metadata": {},
   "source": [
    "---\n",
    "Perhaps, in the near future, you may want to define a function for a sequence of calculations needed to be executed in your analysis on multiple occaisions. Functions make code and statistics more concise and efficient. Having such a skill will exponentially increase your capacity to read and analyse data.\n",
    "\n",
    "#### Learning objectives\n",
    "By the end of this notebook you will be able to:\n",
    "+ Explain what functions are normally used for.\n",
    "+ Write your own functions.\n",
    "\n",
    "Additionally, you can watch [this video](https://www.youtube.com/watch?v=J8W_2qgq7O4) that explains how to make your own functions."
   ]
  },
  {
   "cell_type": "markdown",
   "metadata": {},
   "source": [
    "## 1. The function syntax should be always as following:"
   ]
  },
  {
   "cell_type": "code",
   "execution_count": 1,
   "metadata": {},
   "outputs": [],
   "source": [
    "def f(x):\n",
    "    print(x)"
   ]
  },
  {
   "cell_type": "markdown",
   "metadata": {},
   "source": [
    "+ **def**   tells Python that you are writing a function _definition_. This line of code is also followed by a colon.\n",
    "\n",
    "+ **f**     is the name of the function so that the user can call the function later on.\n",
    "\n",
    "+ **x**     within the parenthesis are parameters passed into the function to be used."
   ]
  },
  {
   "cell_type": "code",
   "execution_count": 7,
   "metadata": {},
   "outputs": [
    {
     "name": "stdout",
     "output_type": "stream",
     "text": [
      "I am X\n"
     ]
    }
   ],
   "source": [
    "## Suppose we have the following string\n",
    "x = \"I am X\"\n",
    "## We can call our function f on x variable\n",
    "f(x)"
   ]
  },
  {
   "cell_type": "markdown",
   "metadata": {},
   "source": [
    "## 2. Define a function using def with a name, parameters, and a block of code:"
   ]
  },
  {
   "cell_type": "markdown",
   "metadata": {},
   "source": [
    "- Begin the definition of a new function with def.\n",
    "- Followed by the name of the function.\n",
    "    - Must obey the same rules as variable names.\n",
    "- Then parameters in parentheses.\n",
    "    - Empty parentheses if the function doesn’t take any inputs.\n",
    "    - We will discuss this in detail in a moment.\n",
    "- Then a colon.\n",
    "- Then an indented block of code."
   ]
  },
  {
   "cell_type": "code",
   "execution_count": 2,
   "metadata": {},
   "outputs": [],
   "source": [
    "def print_greeting():\n",
    "    print('Hello!')"
   ]
  },
  {
   "cell_type": "markdown",
   "metadata": {},
   "source": [
    "## 3. Defining a function does not run it:"
   ]
  },
  {
   "cell_type": "markdown",
   "metadata": {},
   "source": [
    "- Defining a function does not run it, it is like assigning a value to a variable. You must call the function to execute the code it contains."
   ]
  },
  {
   "cell_type": "code",
   "execution_count": 4,
   "metadata": {},
   "outputs": [
    {
     "name": "stdout",
     "output_type": "stream",
     "text": [
      "Hello!\n"
     ]
    }
   ],
   "source": [
    "# call the previous function print_greeting\n",
    "print_greeting()"
   ]
  },
  {
   "cell_type": "markdown",
   "metadata": {},
   "source": [
    "## 4. Function can have a return value:\n",
    "\n",
    "+ The return value is something that may be retrieved or calculated within the function. For instance:"
   ]
  },
  {
   "cell_type": "code",
   "execution_count": 1,
   "metadata": {},
   "outputs": [],
   "source": [
    "## Suppose we have a function that multiply 10 to a given integer\n",
    "def multiplyten(x):\n",
    "    x = x*10 # In this line, we are assigning a new value to x\n",
    "    return x # Return is what the function will give back"
   ]
  },
  {
   "cell_type": "code",
   "execution_count": 12,
   "metadata": {},
   "outputs": [
    {
     "data": {
      "text/plain": [
       "50"
      ]
     },
     "execution_count": 12,
     "metadata": {},
     "output_type": "execute_result"
    }
   ],
   "source": [
    "# now lets call the function mutiplyten\n",
    "multiplyten(5)"
   ]
  },
  {
   "cell_type": "markdown",
   "metadata": {},
   "source": [
    "<i style=\"color:red\">EXERCISES - 5 min</i>"
   ]
  },
  {
   "cell_type": "markdown",
   "metadata": {},
   "source": [
    "_1. Suppose we have the following String variable:_\n",
    "\n",
    "```python\n",
    "y = \"You just called a function on y\"\n",
    "```\n",
    "\n",
    "_Please, write a function `f()` in python code that prints the above `y` string variable_."
   ]
  },
  {
   "cell_type": "markdown",
   "metadata": {},
   "source": [
    "_2. Suppose we have a function that adds 5 to a given integer as following:_\n",
    "\n",
    "```python\n",
    "def addFive(x):\n",
    "    x = x + 5  \n",
    "    return x\n",
    "```\n",
    "\n",
    "_What does this return?_\n",
    "\n",
    "```python\n",
    "5 + addFive(5)\n",
    "```\n",
    "\n"
   ]
  },
  {
   "cell_type": "markdown",
   "metadata": {},
   "source": [
    "_3. Write a function `bmi(height, weight)` that returns the Body Mass Index (BMI)._ \n",
    "\n",
    "\n",
    "+ The formula for BMI is kg/m2."
   ]
  }
 ],
 "metadata": {
  "kernelspec": {
   "display_name": "Python 3",
   "language": "python",
   "name": "python3"
  },
  "language_info": {
   "codemirror_mode": {
    "name": "ipython",
    "version": 3
   },
   "file_extension": ".py",
   "mimetype": "text/x-python",
   "name": "python",
   "nbconvert_exporter": "python",
   "pygments_lexer": "ipython3",
   "version": "3.8.8"
  }
 },
 "nbformat": 4,
 "nbformat_minor": 4
}
