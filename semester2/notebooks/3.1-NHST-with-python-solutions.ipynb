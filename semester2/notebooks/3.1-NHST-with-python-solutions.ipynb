{
 "cells": [
  {
   "cell_type": "markdown",
   "metadata": {},
   "source": [
    "# Introduction to Null Hypothesis Significance Test\n",
    "\n",
    "With [SciPy (Scientific Python)](https://www.scipy.org/)  we are able to make statistical analysis.\n",
    "\n",
    "#### Learning objectives\n",
    " By the end of this notebook you will:\n",
    "+ Run t-tests for comparing means.\n",
    "+ Learn how to obtain and interpret p-values.\n",
    "+ Interpret statistical results. \n",
    "---"
   ]
  },
  {
   "cell_type": "markdown",
   "metadata": {},
   "source": [
    "## **1. Theory**\n",
    "\n",
    " - Q1. What are the differences between a two-tailed and one-tailed tests? Give an example of a set of hypotheses for a two tailed test and indicate how they would change for a one-tailed test."
   ]
  },
  {
   "cell_type": "markdown",
   "metadata": {},
   "source": [
    "<i style=\"color:red\"> \n",
    "A1. In a one tailed test we would like to know if one mean is either significantly lower (or significantly higher) than the other. In a two tailed test we would like to know if one mean is different (could be lower or higher) to the other.  \n",
    "For a two tailed test $H_0 : \\mu = \\mu_0$, and $H1: \\mu \\neq \\mu_0$.  \n",
    "For a one tailed test $H_1$ becomes either $H1: \\mu \\leq \\mu_0$ OR $H1: \\mu \\geq \\mu_0$  \n",
    "</i>"
   ]
  },
  {
   "cell_type": "markdown",
   "metadata": {},
   "source": [
    "- Q2. What is the sampling distribution? How do you calculate the standard deviation of the sampling distribution using population statistics?"
   ]
  },
  {
   "cell_type": "markdown",
   "metadata": {},
   "source": [
    "<i style=\"color:red\"> \n",
    "A2. The sampling distribution is the distribution of sample means taken from a given population (or given theoretical distribution). The standard deviation of the sampling distribution (aka. Standard error) is calculated as $\\frac{\\sigma}{\\sqrt{n}}$\n",
    "</i>"
   ]
  },
  {
   "cell_type": "markdown",
   "metadata": {},
   "source": [
    "- Q3. How is the t-distribution different from the Normal distribution? Why do we need to use the t-distribution?"
   ]
  },
  {
   "cell_type": "markdown",
   "metadata": {},
   "source": [
    "<i style=\"color:red\"> \n",
    "A3. The standard Normal distribution (zero mean, unit std) is the same as a t-distribution with infinite degrees of freedom. The t-distribution allows us to model the sampling distribution when the sample size is small because then the sampling distribution has higher variance than a Normal distribution.\n",
    "</i>"
   ]
  },
  {
   "cell_type": "markdown",
   "metadata": {},
   "source": [
    "+ Q4. Describe three ways (and how they are different to each other) to determine the outcome of a null-hypothesis test."
   ]
  },
  {
   "cell_type": "markdown",
   "metadata": {},
   "source": [
    "<i style=\"color:red\"> \n",
    "A4.   \n",
    "    (i) Compare your observed mean with the critical values on the original X scale, or \n",
    "    (ii) Compare the z-score of the observed mean with the critical values of the z- scale, i.e. ± 1.96, or   \n",
    "    (iii) Compare the p-value with α on the original X scale. While the process is different, the outcomes are equivalent.\n",
    "</i>"
   ]
  },
  {
   "cell_type": "markdown",
   "metadata": {},
   "source": [
    "+ Q5. For a two-sample t-test, with samples sizes $n_1$ and $n_2$, how many degrees of freedom do you have and why?"
   ]
  },
  {
   "cell_type": "markdown",
   "metadata": {},
   "source": [
    "<i style=\"color:red\"> \n",
    "A5. You will have $n1 + n2 - 2$ degrees of freedom. The test depends on two sample means that have $n1 - 1$ and $n2 - 1$ degrees of freedom respectively.\n",
    "</i>"
   ]
  },
  {
   "cell_type": "markdown",
   "metadata": {},
   "source": [
    "+ Q6. What is a p-value and how do you interpret it?"
   ]
  },
  {
   "cell_type": "markdown",
   "metadata": {},
   "source": [
    "<i style=\"color:red\"> \n",
    "A6. The p-value is the area under the curve from the observed test statistic (e.g. the observed sample mean) to the most extreme point (tail) of the distribution for a one-tailed test. (For a two tailed test it is +/- the test statistic to either tail).\n",
    "The interpretation of a p-value is the probability of observing a test statistic that is at least as extreme as the one actually observed, if we assume that the null hypothesis is true.\n",
    "It does NOT tell us the probability of the null hypothesis!\n",
    "</i>"
   ]
  },
  {
   "cell_type": "markdown",
   "metadata": {},
   "source": [
    "+ Q7. The following code generates values from a Normal distribution and plots them as a histogram"
   ]
  },
  {
   "cell_type": "code",
   "execution_count": 2,
   "metadata": {},
   "outputs": [
    {
     "data": {
      "text/plain": [
       "(array([ 4., 12., 19., 57., 72., 66., 44., 17.,  6.,  3.]),\n",
       " array([-4.87177756, -1.56270846,  1.74636065,  5.05542975,  8.36449885,\n",
       "        11.67356795, 14.98263706, 18.29170616, 21.60077526, 24.90984436,\n",
       "        28.21891346]),\n",
       " <BarContainer object of 10 artists>)"
      ]
     },
     "execution_count": 2,
     "metadata": {},
     "output_type": "execute_result"
    },
    {
     "data": {
      "image/png": "[encoded data removed]",
      "text/plain": [
       "<Figure size 432x288 with 1 Axes>"
      ]
     },
     "metadata": {
      "needs_background": "light"
     },
     "output_type": "display_data"
    }
   ],
   "source": [
    "from matplotlib import pyplot as plt\n",
    "from scipy.stats import norm\n",
    "\n",
    "X = norm.rvs(loc=11.5, scale=5.5, size=300)\n",
    "plt.hist(X)"
   ]
  },
  {
   "cell_type": "markdown",
   "metadata": {},
   "source": [
    "* (a) Generate values from another Normal distribution and store them in a variable $Y$ and plot the histogram\n",
    "* (b) Now plot the histogram of the combined distribution $Z = X + Y$. What do you notice about the mean and standard deviation of this combined distribution? *(Hint: Numpy has functions `mean` and `std`)*"
   ]
  },
  {
   "cell_type": "markdown",
   "metadata": {},
   "source": [
    "<i style=\"color:red\"> \n",
    "A7. The mean of Z is equal to the mean of X + the mean of Y.\n",
    "The variance of Z will equal the sum of variance of X and the variance of Y \n",
    "</i>"
   ]
  },
  {
   "cell_type": "markdown",
   "metadata": {},
   "source": [
    "Look up the functions for t-tests in the scipy.stats library https://docs.scipy.org/doc/scipy/reference/stats.html\n",
    "+ Q8. What are the differences between the three functions `ttest_1samp`, `ttest_ind` and `ttest_rel` ?"
   ]
  },
  {
   "cell_type": "markdown",
   "metadata": {},
   "source": [
    "<i style=\"color:red\"> \n",
    "A8. \"ttest_1samp\" performs a one sample test, this test tries to prove wehter if the mean sample has any difference with the population mean. \"ttest_ind\" performs a two independent variables test, this test tries to prove wheter if the mean of variable X has any difference with the mean of variable Y. \"ttest_rel\" performs a two dependent (related) variables test, this test tries to prove wheter if the mean of variable X in time N has any difference with the mean of the same variable X in time another time N+M\n",
    "</i>"
   ]
  },
  {
   "cell_type": "markdown",
   "metadata": {},
   "source": [
    "## **2. T-tests using Python**\n",
    "### **2.1 Prepare the data**"
   ]
  },
  {
   "cell_type": "markdown",
   "metadata": {},
   "source": [
    "Using Pandas, the dataset `BaGS data Period5 - Climate Change Laws of the World.xls` revised before, will be loaded and analysed. \n",
    "Here the link to download it: [Data](https://canvas.maastrichtuniversity.nl/courses/6450/files/719570/download?download_frd=1). \n",
    "\n",
    "Remember to put the file in the same place where your notebook is."
   ]
  },
  {
   "cell_type": "code",
   "execution_count": 1,
   "metadata": {},
   "outputs": [],
   "source": [
    "# import the library\n",
    "import pandas as pd\n",
    "\n",
    "# directory to the file, it can be from own computer or from web\n",
    "url = '../data/BaGS data Period5 - Climate Change Laws of the World.xls'\n",
    "\n",
    "# read the url and save it as a variable called df, note we are using read_excel \n",
    "df = pd.read_excel(url)"
   ]
  },
  {
   "cell_type": "markdown",
   "metadata": {},
   "source": [
    "Use `df.head()` to get the first rows of the dataframe"
   ]
  },
  {
   "cell_type": "code",
   "execution_count": 2,
   "metadata": {
    "colab": {
     "base_uri": "https://localhost:8080/"
    },
    "id": "WP7jyrv1fs2l",
    "outputId": "d8a088f6-d5fd-441e-8cd5-2d00e9cb7e68"
   },
   "outputs": [
    {
     "data": {
      "text/html": [
       "<div>\n",
       "<style scoped>\n",
       "    .dataframe tbody tr th:only-of-type {\n",
       "        vertical-align: middle;\n",
       "    }\n",
       "\n",
       "    .dataframe tbody tr th {\n",
       "        vertical-align: top;\n",
       "    }\n",
       "\n",
       "    .dataframe thead th {\n",
       "        text-align: right;\n",
       "    }\n",
       "</style>\n",
       "<table border=\"1\" class=\"dataframe\">\n",
       "  <thead>\n",
       "    <tr style=\"text-align: right;\">\n",
       "      <th></th>\n",
       "      <th>Title</th>\n",
       "      <th>Type</th>\n",
       "      <th>Country</th>\n",
       "      <th>Country_ISO</th>\n",
       "      <th>Region</th>\n",
       "      <th>SubRegion</th>\n",
       "      <th>Emergency_Framework</th>\n",
       "      <th>Document_Types</th>\n",
       "      <th>Document_Link</th>\n",
       "      <th>Document_Summary</th>\n",
       "      <th>...</th>\n",
       "      <th>Keyword_Biodiversity_Count</th>\n",
       "      <th>Keyword_Building_Count</th>\n",
       "      <th>Keyword_Coal_Count</th>\n",
       "      <th>Keyword_Deforestation_Count</th>\n",
       "      <th>Keyword_Education_Count</th>\n",
       "      <th>Keyword_Energy_Count</th>\n",
       "      <th>Keyword_Transport_Count</th>\n",
       "      <th>Keyword_Circular_Economy_Count</th>\n",
       "      <th>Keyword_Waste_Count</th>\n",
       "      <th>Keyword_Water_Count</th>\n",
       "    </tr>\n",
       "  </thead>\n",
       "  <tbody>\n",
       "    <tr>\n",
       "      <th>0</th>\n",
       "      <td>Energy Sector Strategy 1387-1391 (2007/8-2012/3)</td>\n",
       "      <td>executive</td>\n",
       "      <td>Afghanistan</td>\n",
       "      <td>AFG</td>\n",
       "      <td>Asia</td>\n",
       "      <td>Southern Asia</td>\n",
       "      <td>No Framework Specified</td>\n",
       "      <td>Strategy</td>\n",
       "      <td>Full text|https://climate-laws.org/rails/activ...</td>\n",
       "      <td>This strategy sets the vision and goals for th...</td>\n",
       "      <td>...</td>\n",
       "      <td>0</td>\n",
       "      <td>0</td>\n",
       "      <td>0</td>\n",
       "      <td>0</td>\n",
       "      <td>0</td>\n",
       "      <td>3</td>\n",
       "      <td>0</td>\n",
       "      <td>0</td>\n",
       "      <td>0</td>\n",
       "      <td>0</td>\n",
       "    </tr>\n",
       "    <tr>\n",
       "      <th>1</th>\n",
       "      <td>Rural Renewable Energy Policy (RREP)</td>\n",
       "      <td>executive</td>\n",
       "      <td>Afghanistan</td>\n",
       "      <td>AFG</td>\n",
       "      <td>Asia</td>\n",
       "      <td>Southern Asia</td>\n",
       "      <td>Adaptation</td>\n",
       "      <td>Policy</td>\n",
       "      <td>Full text (PDF)|https://climate-laws.org/rails...</td>\n",
       "      <td>&lt;div&gt;This policy aims at creating better socia...</td>\n",
       "      <td>...</td>\n",
       "      <td>0</td>\n",
       "      <td>0</td>\n",
       "      <td>0</td>\n",
       "      <td>0</td>\n",
       "      <td>0</td>\n",
       "      <td>4</td>\n",
       "      <td>0</td>\n",
       "      <td>0</td>\n",
       "      <td>0</td>\n",
       "      <td>0</td>\n",
       "    </tr>\n",
       "  </tbody>\n",
       "</table>\n",
       "<p>2 rows × 30 columns</p>\n",
       "</div>"
      ],
      "text/plain": [
       "                                              Title       Type      Country  \\\n",
       "0  Energy Sector Strategy 1387-1391 (2007/8-2012/3)  executive  Afghanistan   \n",
       "1              Rural Renewable Energy Policy (RREP)  executive  Afghanistan   \n",
       "\n",
       "  Country_ISO Region      SubRegion     Emergency_Framework Document_Types  \\\n",
       "0         AFG   Asia  Southern Asia  No Framework Specified       Strategy   \n",
       "1         AFG   Asia  Southern Asia              Adaptation         Policy   \n",
       "\n",
       "                                       Document_Link  \\\n",
       "0  Full text|https://climate-laws.org/rails/activ...   \n",
       "1  Full text (PDF)|https://climate-laws.org/rails...   \n",
       "\n",
       "                                    Document_Summary  ...  \\\n",
       "0  This strategy sets the vision and goals for th...  ...   \n",
       "1  <div>This policy aims at creating better socia...  ...   \n",
       "\n",
       "  Keyword_Biodiversity_Count  Keyword_Building_Count  Keyword_Coal_Count  \\\n",
       "0                          0                       0                   0   \n",
       "1                          0                       0                   0   \n",
       "\n",
       "   Keyword_Deforestation_Count  Keyword_Education_Count  Keyword_Energy_Count  \\\n",
       "0                            0                        0                     3   \n",
       "1                            0                        0                     4   \n",
       "\n",
       "   Keyword_Transport_Count  Keyword_Circular_Economy_Count  \\\n",
       "0                        0                               0   \n",
       "1                        0                               0   \n",
       "\n",
       "   Keyword_Waste_Count  Keyword_Water_Count  \n",
       "0                    0                    0  \n",
       "1                    0                    0  \n",
       "\n",
       "[2 rows x 30 columns]"
      ]
     },
     "execution_count": 2,
     "metadata": {},
     "output_type": "execute_result"
    }
   ],
   "source": [
    "df.head(2)"
   ]
  },
  {
   "cell_type": "markdown",
   "metadata": {
    "id": "lYXaxYJzkA27"
   },
   "source": [
    "Use `df.describe()` to get summary statistics about the data"
   ]
  },
  {
   "cell_type": "code",
   "execution_count": 3,
   "metadata": {},
   "outputs": [
    {
     "data": {
      "text/html": [
       "<div>\n",
       "<style scoped>\n",
       "    .dataframe tbody tr th:only-of-type {\n",
       "        vertical-align: middle;\n",
       "    }\n",
       "\n",
       "    .dataframe tbody tr th {\n",
       "        vertical-align: top;\n",
       "    }\n",
       "\n",
       "    .dataframe thead th {\n",
       "        text-align: right;\n",
       "    }\n",
       "</style>\n",
       "<table border=\"1\" class=\"dataframe\">\n",
       "  <thead>\n",
       "    <tr style=\"text-align: right;\">\n",
       "      <th></th>\n",
       "      <th>Year_Document_Release</th>\n",
       "      <th>Year_Last_Amendment</th>\n",
       "      <th>Months_Between_Release_and_Last_Amendment</th>\n",
       "      <th>Months_Since_Release</th>\n",
       "      <th>Positive_Words</th>\n",
       "      <th>Negative_Words</th>\n",
       "      <th>Emergency_Sentiment_Rate</th>\n",
       "      <th>Summary_Words_Length</th>\n",
       "      <th>Keyword_Agriculture_Count</th>\n",
       "      <th>Keyword_Biodiversity_Count</th>\n",
       "      <th>Keyword_Building_Count</th>\n",
       "      <th>Keyword_Coal_Count</th>\n",
       "      <th>Keyword_Deforestation_Count</th>\n",
       "      <th>Keyword_Education_Count</th>\n",
       "      <th>Keyword_Energy_Count</th>\n",
       "      <th>Keyword_Transport_Count</th>\n",
       "      <th>Keyword_Circular_Economy_Count</th>\n",
       "      <th>Keyword_Waste_Count</th>\n",
       "      <th>Keyword_Water_Count</th>\n",
       "    </tr>\n",
       "  </thead>\n",
       "  <tbody>\n",
       "    <tr>\n",
       "      <th>count</th>\n",
       "      <td>2105.000000</td>\n",
       "      <td>2105.000000</td>\n",
       "      <td>2105.000000</td>\n",
       "      <td>2105.000000</td>\n",
       "      <td>2105.000000</td>\n",
       "      <td>2105.000000</td>\n",
       "      <td>2105.000000</td>\n",
       "      <td>2105.000000</td>\n",
       "      <td>2105.000000</td>\n",
       "      <td>2105.000000</td>\n",
       "      <td>2105.000000</td>\n",
       "      <td>2105.000000</td>\n",
       "      <td>2105.000000</td>\n",
       "      <td>2105.000000</td>\n",
       "      <td>2105.000000</td>\n",
       "      <td>2105.000000</td>\n",
       "      <td>2105.000000</td>\n",
       "      <td>2105.000000</td>\n",
       "      <td>2105.000000</td>\n",
       "    </tr>\n",
       "    <tr>\n",
       "      <th>mean</th>\n",
       "      <td>2010.483610</td>\n",
       "      <td>2010.483610</td>\n",
       "      <td>15.213777</td>\n",
       "      <td>122.440855</td>\n",
       "      <td>1.765321</td>\n",
       "      <td>1.780998</td>\n",
       "      <td>-0.049633</td>\n",
       "      <td>175.465083</td>\n",
       "      <td>0.170546</td>\n",
       "      <td>0.089311</td>\n",
       "      <td>0.620428</td>\n",
       "      <td>0.049406</td>\n",
       "      <td>0.031829</td>\n",
       "      <td>0.088361</td>\n",
       "      <td>3.354394</td>\n",
       "      <td>0.200000</td>\n",
       "      <td>0.004276</td>\n",
       "      <td>0.100713</td>\n",
       "      <td>0.232304</td>\n",
       "    </tr>\n",
       "    <tr>\n",
       "      <th>std</th>\n",
       "      <td>7.654731</td>\n",
       "      <td>7.654731</td>\n",
       "      <td>53.876371</td>\n",
       "      <td>91.661348</td>\n",
       "      <td>2.404652</td>\n",
       "      <td>2.793940</td>\n",
       "      <td>0.680802</td>\n",
       "      <td>165.286046</td>\n",
       "      <td>0.529444</td>\n",
       "      <td>0.394357</td>\n",
       "      <td>1.174370</td>\n",
       "      <td>0.339748</td>\n",
       "      <td>0.207817</td>\n",
       "      <td>0.432499</td>\n",
       "      <td>4.962005</td>\n",
       "      <td>0.670112</td>\n",
       "      <td>0.078488</td>\n",
       "      <td>0.411716</td>\n",
       "      <td>0.825394</td>\n",
       "    </tr>\n",
       "    <tr>\n",
       "      <th>min</th>\n",
       "      <td>1947.000000</td>\n",
       "      <td>1947.000000</td>\n",
       "      <td>0.000000</td>\n",
       "      <td>2.000000</td>\n",
       "      <td>0.000000</td>\n",
       "      <td>0.000000</td>\n",
       "      <td>-1.000000</td>\n",
       "      <td>0.000000</td>\n",
       "      <td>0.000000</td>\n",
       "      <td>0.000000</td>\n",
       "      <td>0.000000</td>\n",
       "      <td>0.000000</td>\n",
       "      <td>0.000000</td>\n",
       "      <td>0.000000</td>\n",
       "      <td>0.000000</td>\n",
       "      <td>0.000000</td>\n",
       "      <td>0.000000</td>\n",
       "      <td>0.000000</td>\n",
       "      <td>0.000000</td>\n",
       "    </tr>\n",
       "    <tr>\n",
       "      <th>25%</th>\n",
       "      <td>2008.000000</td>\n",
       "      <td>2008.000000</td>\n",
       "      <td>0.000000</td>\n",
       "      <td>64.000000</td>\n",
       "      <td>0.000000</td>\n",
       "      <td>0.000000</td>\n",
       "      <td>-0.666700</td>\n",
       "      <td>77.000000</td>\n",
       "      <td>0.000000</td>\n",
       "      <td>0.000000</td>\n",
       "      <td>0.000000</td>\n",
       "      <td>0.000000</td>\n",
       "      <td>0.000000</td>\n",
       "      <td>0.000000</td>\n",
       "      <td>0.000000</td>\n",
       "      <td>0.000000</td>\n",
       "      <td>0.000000</td>\n",
       "      <td>0.000000</td>\n",
       "      <td>0.000000</td>\n",
       "    </tr>\n",
       "    <tr>\n",
       "      <th>50%</th>\n",
       "      <td>2012.000000</td>\n",
       "      <td>2012.000000</td>\n",
       "      <td>0.000000</td>\n",
       "      <td>105.000000</td>\n",
       "      <td>1.000000</td>\n",
       "      <td>1.000000</td>\n",
       "      <td>0.000000</td>\n",
       "      <td>134.000000</td>\n",
       "      <td>0.000000</td>\n",
       "      <td>0.000000</td>\n",
       "      <td>0.000000</td>\n",
       "      <td>0.000000</td>\n",
       "      <td>0.000000</td>\n",
       "      <td>0.000000</td>\n",
       "      <td>2.000000</td>\n",
       "      <td>0.000000</td>\n",
       "      <td>0.000000</td>\n",
       "      <td>0.000000</td>\n",
       "      <td>0.000000</td>\n",
       "    </tr>\n",
       "    <tr>\n",
       "      <th>75%</th>\n",
       "      <td>2015.000000</td>\n",
       "      <td>2015.000000</td>\n",
       "      <td>0.000000</td>\n",
       "      <td>153.000000</td>\n",
       "      <td>3.000000</td>\n",
       "      <td>2.000000</td>\n",
       "      <td>0.333300</td>\n",
       "      <td>218.000000</td>\n",
       "      <td>0.000000</td>\n",
       "      <td>0.000000</td>\n",
       "      <td>1.000000</td>\n",
       "      <td>0.000000</td>\n",
       "      <td>0.000000</td>\n",
       "      <td>0.000000</td>\n",
       "      <td>4.000000</td>\n",
       "      <td>0.000000</td>\n",
       "      <td>0.000000</td>\n",
       "      <td>0.000000</td>\n",
       "      <td>0.000000</td>\n",
       "    </tr>\n",
       "    <tr>\n",
       "      <th>max</th>\n",
       "      <td>2021.000000</td>\n",
       "      <td>2021.000000</td>\n",
       "      <td>475.000000</td>\n",
       "      <td>882.000000</td>\n",
       "      <td>24.000000</td>\n",
       "      <td>25.000000</td>\n",
       "      <td>1.000000</td>\n",
       "      <td>2946.000000</td>\n",
       "      <td>7.000000</td>\n",
       "      <td>6.000000</td>\n",
       "      <td>11.000000</td>\n",
       "      <td>6.000000</td>\n",
       "      <td>3.000000</td>\n",
       "      <td>10.000000</td>\n",
       "      <td>35.000000</td>\n",
       "      <td>10.000000</td>\n",
       "      <td>2.000000</td>\n",
       "      <td>7.000000</td>\n",
       "      <td>14.000000</td>\n",
       "    </tr>\n",
       "  </tbody>\n",
       "</table>\n",
       "</div>"
      ],
      "text/plain": [
       "       Year_Document_Release  Year_Last_Amendment  \\\n",
       "count            2105.000000          2105.000000   \n",
       "mean             2010.483610          2010.483610   \n",
       "std                 7.654731             7.654731   \n",
       "min              1947.000000          1947.000000   \n",
       "25%              2008.000000          2008.000000   \n",
       "50%              2012.000000          2012.000000   \n",
       "75%              2015.000000          2015.000000   \n",
       "max              2021.000000          2021.000000   \n",
       "\n",
       "       Months_Between_Release_and_Last_Amendment  Months_Since_Release  \\\n",
       "count                                2105.000000           2105.000000   \n",
       "mean                                   15.213777            122.440855   \n",
       "std                                    53.876371             91.661348   \n",
       "min                                     0.000000              2.000000   \n",
       "25%                                     0.000000             64.000000   \n",
       "50%                                     0.000000            105.000000   \n",
       "75%                                     0.000000            153.000000   \n",
       "max                                   475.000000            882.000000   \n",
       "\n",
       "       Positive_Words  Negative_Words  Emergency_Sentiment_Rate  \\\n",
       "count     2105.000000     2105.000000               2105.000000   \n",
       "mean         1.765321        1.780998                 -0.049633   \n",
       "std          2.404652        2.793940                  0.680802   \n",
       "min          0.000000        0.000000                 -1.000000   \n",
       "25%          0.000000        0.000000                 -0.666700   \n",
       "50%          1.000000        1.000000                  0.000000   \n",
       "75%          3.000000        2.000000                  0.333300   \n",
       "max         24.000000       25.000000                  1.000000   \n",
       "\n",
       "       Summary_Words_Length  Keyword_Agriculture_Count  \\\n",
       "count           2105.000000                2105.000000   \n",
       "mean             175.465083                   0.170546   \n",
       "std              165.286046                   0.529444   \n",
       "min                0.000000                   0.000000   \n",
       "25%               77.000000                   0.000000   \n",
       "50%              134.000000                   0.000000   \n",
       "75%              218.000000                   0.000000   \n",
       "max             2946.000000                   7.000000   \n",
       "\n",
       "       Keyword_Biodiversity_Count  Keyword_Building_Count  Keyword_Coal_Count  \\\n",
       "count                 2105.000000             2105.000000         2105.000000   \n",
       "mean                     0.089311                0.620428            0.049406   \n",
       "std                      0.394357                1.174370            0.339748   \n",
       "min                      0.000000                0.000000            0.000000   \n",
       "25%                      0.000000                0.000000            0.000000   \n",
       "50%                      0.000000                0.000000            0.000000   \n",
       "75%                      0.000000                1.000000            0.000000   \n",
       "max                      6.000000               11.000000            6.000000   \n",
       "\n",
       "       Keyword_Deforestation_Count  Keyword_Education_Count  \\\n",
       "count                  2105.000000              2105.000000   \n",
       "mean                      0.031829                 0.088361   \n",
       "std                       0.207817                 0.432499   \n",
       "min                       0.000000                 0.000000   \n",
       "25%                       0.000000                 0.000000   \n",
       "50%                       0.000000                 0.000000   \n",
       "75%                       0.000000                 0.000000   \n",
       "max                       3.000000                10.000000   \n",
       "\n",
       "       Keyword_Energy_Count  Keyword_Transport_Count  \\\n",
       "count           2105.000000              2105.000000   \n",
       "mean               3.354394                 0.200000   \n",
       "std                4.962005                 0.670112   \n",
       "min                0.000000                 0.000000   \n",
       "25%                0.000000                 0.000000   \n",
       "50%                2.000000                 0.000000   \n",
       "75%                4.000000                 0.000000   \n",
       "max               35.000000                10.000000   \n",
       "\n",
       "       Keyword_Circular_Economy_Count  Keyword_Waste_Count  \\\n",
       "count                     2105.000000          2105.000000   \n",
       "mean                         0.004276             0.100713   \n",
       "std                          0.078488             0.411716   \n",
       "min                          0.000000             0.000000   \n",
       "25%                          0.000000             0.000000   \n",
       "50%                          0.000000             0.000000   \n",
       "75%                          0.000000             0.000000   \n",
       "max                          2.000000             7.000000   \n",
       "\n",
       "       Keyword_Water_Count  \n",
       "count          2105.000000  \n",
       "mean              0.232304  \n",
       "std               0.825394  \n",
       "min               0.000000  \n",
       "25%               0.000000  \n",
       "50%               0.000000  \n",
       "75%               0.000000  \n",
       "max              14.000000  "
      ]
     },
     "execution_count": 3,
     "metadata": {},
     "output_type": "execute_result"
    }
   ],
   "source": [
    "df.describe()"
   ]
  },
  {
   "cell_type": "markdown",
   "metadata": {},
   "source": [
    "There are quite some variables, we could nevertheless use SciPy to calculate more advanced statistics for a particular column"
   ]
  },
  {
   "cell_type": "code",
   "execution_count": 4,
   "metadata": {
    "colab": {
     "base_uri": "https://localhost:8080/",
     "height": 317
    },
    "id": "z5QUhwiqkc8T",
    "outputId": "086088ad-a755-45a3-a13e-991ba5ce5b3e"
   },
   "outputs": [
    {
     "data": {
      "text/plain": [
       "DescribeResult(nobs=2105, minmax=(2, 882), mean=122.44085510688836, variance=8401.8027026905, skewness=2.4882532019139423, kurtosis=11.64353214048741)"
      ]
     },
     "execution_count": 4,
     "metadata": {},
     "output_type": "execute_result"
    }
   ],
   "source": [
    "from scipy import stats\n",
    "\n",
    "# save the column in object x\n",
    "x = df['Months_Since_Release']\n",
    "\n",
    "# function describe from scipy\n",
    "stats.describe(x)"
   ]
  },
  {
   "cell_type": "markdown",
   "metadata": {},
   "source": [
    "+ **Q9. Discuss in your group: are these population or sample statistics? how could you check?**"
   ]
  },
  {
   "cell_type": "markdown",
   "metadata": {},
   "source": [
    "---\n",
    "### **2.3. Independent variables: Comparing means using independent t-test****"
   ]
  },
  {
   "cell_type": "markdown",
   "metadata": {},
   "source": [
    "An independent t-test compares the means of two independent samples to determine whether there is evidence that the expected population means of each sample are different. For example, you want to measure if there is a significant difference in the average carbon price of Manhattan (part of New York City) versus San Francisco, California.\n",
    "\n",
    "\n",
    "In the following example, we are going to measure if there is a significant difference in the average number of policies in Africa versus America.\n",
    "\n",
    "**Note:** In order to fully grasp the concepts in this part of the tutorial, it'll help to have familiarity with the following concepts: z-tests, hypothesis testing, p-values, normal distribution, standard deviation, standard error and the central limit theorem (which you should be familiar with from the lecture videos)."
   ]
  },
  {
   "cell_type": "markdown",
   "metadata": {},
   "source": [
    "**Step 1. Setup Experiment**\n",
    "\n",
    "I want to know if the number of policies is significantly different between a sample of law policy samples in Africa versus the Americas."
   ]
  },
  {
   "cell_type": "markdown",
   "metadata": {},
   "source": [
    "**Step 2. Set an Alpha Level and null Hypotheses**\n",
    "\n",
    "Is there a significant difference in the average number of policies in Africa versus the Americas?\n",
    "\n",
    "Our null hypothesis is that there is **NO** significant difference in the true population means for the average number of policies between both regions.\n",
    "\n",
    "$H_0: \\mu_1 = \\mu_2$  \n",
    "$H_a: \\mu_1 \\neq \\mu_2$"
   ]
  },
  {
   "cell_type": "markdown",
   "metadata": {},
   "source": [
    "**Step 3. Aggregate the data**\n",
    "\n",
    "**REMEMBER** from semester 1: The **Level of observation** is by **policy document**, while the **Level of Analysis** we wish to conduct is by **region** therefore we need to perform an aggregation of the data:"
   ]
  },
  {
   "cell_type": "code",
   "execution_count": 5,
   "metadata": {},
   "outputs": [],
   "source": [
    "# Filter the Africa region\n",
    "df_Africa = df.query('Region == \"Africa\"')\n",
    "# Filter the Americas region\n",
    "df_Americas = df.query('Region == \"Americas\"')"
   ]
  },
  {
   "cell_type": "code",
   "execution_count": 6,
   "metadata": {},
   "outputs": [],
   "source": [
    "# Advanced code with Pandas to get the number of policies Africa and Americas in different tables\n",
    "# The main take away is two resulting table\n",
    "df_Africa_table = df_Africa\\\n",
    "    .groupby('Country')\\\n",
    "    .count()['Title']\\\n",
    "    .reset_index()\\\n",
    "    .fillna(0)\\\n",
    "    .rename(columns={'Title':'n_policies'})"
   ]
  },
  {
   "cell_type": "code",
   "execution_count": 7,
   "metadata": {},
   "outputs": [
    {
     "data": {
      "text/html": [
       "<div>\n",
       "<style scoped>\n",
       "    .dataframe tbody tr th:only-of-type {\n",
       "        vertical-align: middle;\n",
       "    }\n",
       "\n",
       "    .dataframe tbody tr th {\n",
       "        vertical-align: top;\n",
       "    }\n",
       "\n",
       "    .dataframe thead th {\n",
       "        text-align: right;\n",
       "    }\n",
       "</style>\n",
       "<table border=\"1\" class=\"dataframe\">\n",
       "  <thead>\n",
       "    <tr style=\"text-align: right;\">\n",
       "      <th></th>\n",
       "      <th>Country</th>\n",
       "      <th>n_policies</th>\n",
       "    </tr>\n",
       "  </thead>\n",
       "  <tbody>\n",
       "    <tr>\n",
       "      <th>0</th>\n",
       "      <td>Algeria</td>\n",
       "      <td>13</td>\n",
       "    </tr>\n",
       "    <tr>\n",
       "      <th>1</th>\n",
       "      <td>Angola</td>\n",
       "      <td>21</td>\n",
       "    </tr>\n",
       "    <tr>\n",
       "      <th>2</th>\n",
       "      <td>Benin</td>\n",
       "      <td>3</td>\n",
       "    </tr>\n",
       "    <tr>\n",
       "      <th>3</th>\n",
       "      <td>Botswana</td>\n",
       "      <td>5</td>\n",
       "    </tr>\n",
       "    <tr>\n",
       "      <th>4</th>\n",
       "      <td>Burkina Faso</td>\n",
       "      <td>12</td>\n",
       "    </tr>\n",
       "  </tbody>\n",
       "</table>\n",
       "</div>"
      ],
      "text/plain": [
       "        Country  n_policies\n",
       "0       Algeria          13\n",
       "1        Angola          21\n",
       "2         Benin           3\n",
       "3      Botswana           5\n",
       "4  Burkina Faso          12"
      ]
     },
     "execution_count": 7,
     "metadata": {},
     "output_type": "execute_result"
    }
   ],
   "source": [
    "df_Africa_table.head(5)"
   ]
  },
  {
   "cell_type": "code",
   "execution_count": 8,
   "metadata": {},
   "outputs": [],
   "source": [
    "# Advanced code with Pandas to get the number of policies Africa and Americas in different tables\n",
    "# The main take away is two resulting table\n",
    "df_Americas_table = df_Americas\\\n",
    "    .groupby('Country')\\\n",
    "    .count()['Title']\\\n",
    "    .reset_index()\\\n",
    "    .fillna(0)\\\n",
    "    .rename(columns={'Title':'n_policies'})"
   ]
  },
  {
   "cell_type": "code",
   "execution_count": 9,
   "metadata": {},
   "outputs": [
    {
     "data": {
      "text/html": [
       "<div>\n",
       "<style scoped>\n",
       "    .dataframe tbody tr th:only-of-type {\n",
       "        vertical-align: middle;\n",
       "    }\n",
       "\n",
       "    .dataframe tbody tr th {\n",
       "        vertical-align: top;\n",
       "    }\n",
       "\n",
       "    .dataframe thead th {\n",
       "        text-align: right;\n",
       "    }\n",
       "</style>\n",
       "<table border=\"1\" class=\"dataframe\">\n",
       "  <thead>\n",
       "    <tr style=\"text-align: right;\">\n",
       "      <th></th>\n",
       "      <th>Country</th>\n",
       "      <th>n_policies</th>\n",
       "    </tr>\n",
       "  </thead>\n",
       "  <tbody>\n",
       "    <tr>\n",
       "      <th>0</th>\n",
       "      <td>Antigua and Barbuda</td>\n",
       "      <td>6</td>\n",
       "    </tr>\n",
       "    <tr>\n",
       "      <th>1</th>\n",
       "      <td>Argentina</td>\n",
       "      <td>18</td>\n",
       "    </tr>\n",
       "    <tr>\n",
       "      <th>2</th>\n",
       "      <td>Bahamas, The</td>\n",
       "      <td>4</td>\n",
       "    </tr>\n",
       "    <tr>\n",
       "      <th>3</th>\n",
       "      <td>Barbados</td>\n",
       "      <td>4</td>\n",
       "    </tr>\n",
       "    <tr>\n",
       "      <th>4</th>\n",
       "      <td>Belize</td>\n",
       "      <td>3</td>\n",
       "    </tr>\n",
       "  </tbody>\n",
       "</table>\n",
       "</div>"
      ],
      "text/plain": [
       "               Country  n_policies\n",
       "0  Antigua and Barbuda           6\n",
       "1            Argentina          18\n",
       "2         Bahamas, The           4\n",
       "3             Barbados           4\n",
       "4               Belize           3"
      ]
     },
     "execution_count": 9,
     "metadata": {},
     "output_type": "execute_result"
    }
   ],
   "source": [
    "df_Americas_table.head(5)"
   ]
  },
  {
   "cell_type": "markdown",
   "metadata": {},
   "source": [
    "**Step 4. Assumptions to Perform an Independent Samples t-test**\n",
    "\n",
    "+ **Independence:** In the data collection process, I assumed the countries and documents were all independent of one another. There is no relationship in countries or regions for any of the countries.\n"
   ]
  },
  {
   "cell_type": "markdown",
   "metadata": {},
   "source": [
    "**Step 5. Print the necessary statistics for each region**"
   ]
  },
  {
   "cell_type": "code",
   "execution_count": 19,
   "metadata": {},
   "outputs": [
    {
     "name": "stdout",
     "output_type": "stream",
     "text": [
      "Size N: \n",
      "Africa 53\n",
      "Americas 35\n"
     ]
    }
   ],
   "source": [
    "n_africa = len(df_Africa_table['n_policies'])\n",
    "n_americas = len(df_Americas_table['n_policies'])\n",
    "\n",
    "print(f'Size N: \\nAfrica {n_africa}\\nAmericas {n_americas}')"
   ]
  },
  {
   "cell_type": "code",
   "execution_count": 23,
   "metadata": {},
   "outputs": [
    {
     "name": "stdout",
     "output_type": "stream",
     "text": [
      "Mean: \n",
      "Africa 8.17\n",
      "Americas 11.57\n"
     ]
    }
   ],
   "source": [
    "mean_africa = round(df_Africa_table['n_policies'].mean(),2)\n",
    "mean_americas = round(df_Americas_table['n_policies'].mean(),2)\n",
    "\n",
    "print(f'Mean: \\nAfrica {mean_africa}\\nAmericas {mean_americas}')"
   ]
  },
  {
   "cell_type": "code",
   "execution_count": 25,
   "metadata": {},
   "outputs": [
    {
     "name": "stdout",
     "output_type": "stream",
     "text": [
      "Standard deviation: \n",
      "Africa 5.57\n",
      "Americas 8.19\n"
     ]
    }
   ],
   "source": [
    "std_africa = round(df_Africa_table['n_policies'].std(),2)\n",
    "std_americas = round(df_Americas_table['n_policies'].std(),2)\n",
    "\n",
    "print(f'Standard deviation: \\nAfrica {std_africa}\\nAmericas {std_americas}')"
   ]
  },
  {
   "cell_type": "markdown",
   "metadata": {},
   "source": [
    "Simply observing the above statistics, it is not possible to determine if there are statistically significant differences in the mean. We must therefore conduct a test."
   ]
  },
  {
   "cell_type": "markdown",
   "metadata": {},
   "source": [
    "**Steps 6. Calculate the t-statistic**\n",
    "\n",
    "\n",
    "There's a method in the Scipy package for performing independent t-tests called [ttest_ind()](https://docs.scipy.org/doc/scipy/reference/generated/scipy.stats.ttest_ind.html). We set the following arguments:\n",
    "\n",
    "+ `a` to one sample of values\n",
    "+ `b` to the second sample of values\n",
    "+ `equal_var` to `False` since we assume the samples have unequal population variances\n",
    "+ `nan_policy` to `omit` since the two samples are unequal sizes and SciPy must handle that discrepancy appropriately + with equations on the backend\n"
   ]
  },
  {
   "cell_type": "code",
   "execution_count": 26,
   "metadata": {},
   "outputs": [
    {
     "data": {
      "text/plain": [
       "Ttest_indResult(statistic=2.150150185167128, pvalue=0.035991117358749554)"
      ]
     },
     "execution_count": 26,
     "metadata": {},
     "output_type": "execute_result"
    }
   ],
   "source": [
    "stats.ttest_ind(a = df_Americas_table['n_policies'],\n",
    "                b = df_Africa_table['n_policies'], \n",
    "                equal_var = False, \n",
    "                nan_policy = 'omit')"
   ]
  },
  {
   "cell_type": "markdown",
   "metadata": {},
   "source": [
    "**Step 7. Interpretation of Results (p-value)**"
   ]
  },
  {
   "cell_type": "markdown",
   "metadata": {},
   "source": [
    "<i style=\"color:red\"> \n",
    "Our $p-value$ with $p = 0.036$ is smaller than the $0.05$ significance level (chosen by convention). Then, there is sufficient evidence to reject the null hypothesis. Thus, there is a significant difference in the mean of both variables.\n",
    "\n",
    "**We can conclude that the is evidence that suggests that countries from the Americas produce more laws on climate change on average $(11.57 ± 8.19)$ than the average count $(8.17 ± 5.57)$ in Africa**\n",
    "    </i>"
   ]
  },
  {
   "cell_type": "markdown",
   "metadata": {},
   "source": [
    "---\n",
    "\n",
    "**Q.10. In your group, replicate same procedure but with different regions (e.g. Asia and Europe)**"
   ]
  },
  {
   "cell_type": "markdown",
   "metadata": {},
   "source": [
    "**Step 1. Setup Experiment**\n",
    "\n",
    "Is the number of policies significantly different in average between Asia and Europe?"
   ]
  },
  {
   "cell_type": "markdown",
   "metadata": {},
   "source": [
    "**Step 2. Set an Alpha Level and null Hypotheses**  \n",
    "\n",
    "$H_0: \\mu_1 = \\mu_2$  \n",
    "$H_a: \\mu_1 \\neq \\mu_2$ (number of policies in average in Asia is different than the number of policies in average in Europe)  \n",
    "\n",
    "with $\\alpha = 0.05$  "
   ]
  },
  {
   "cell_type": "markdown",
   "metadata": {},
   "source": [
    "**Step 3. Aggregate the data**"
   ]
  },
  {
   "cell_type": "code",
   "execution_count": 36,
   "metadata": {},
   "outputs": [],
   "source": [
    "df_Asia = df.query('Region == \"Asia\"')\n",
    "df_Europe = df.query('Region == \"Europe\"')\n",
    "\n",
    "# Same code than above, only the names of the tables are changed\n",
    "df_Asia_table = df_Asia\\\n",
    "    .groupby('Country')\\\n",
    "    .count()['Title']\\\n",
    "    .reset_index()\\\n",
    "    .fillna(0)\\\n",
    "    .rename(columns={'Title':'n_policies'})\n",
    "\n",
    "df_Europe_table = df_Europe\\\n",
    "    .groupby('Country')\\\n",
    "    .count()['Title']\\\n",
    "    .reset_index()\\\n",
    "    .fillna(0)\\\n",
    "    .rename(columns={'Title':'n_policies'})"
   ]
  },
  {
   "cell_type": "markdown",
   "metadata": {},
   "source": [
    "**Sep 4 Test**\n",
    "+ It is performed an Independence T-test: Since the laws and policies from different continents are independent"
   ]
  },
  {
   "cell_type": "markdown",
   "metadata": {},
   "source": [
    "**Step 5. Descriptive Statistics**"
   ]
  },
  {
   "cell_type": "code",
   "execution_count": 31,
   "metadata": {},
   "outputs": [
    {
     "name": "stdout",
     "output_type": "stream",
     "text": [
      "Size N: \n",
      "Asia 49\n",
      "Europe 43\n"
     ]
    }
   ],
   "source": [
    "n_asia = len(df_Asia_table['n_policies'])\n",
    "n_europe = len(df_Europe_table['n_policies'])\n",
    "\n",
    "print(f'Size N: \\nAsia {n_asia}\\nEurope {n_europe}')"
   ]
  },
  {
   "cell_type": "code",
   "execution_count": 33,
   "metadata": {},
   "outputs": [
    {
     "name": "stdout",
     "output_type": "stream",
     "text": [
      "Mean: \n",
      "Asia 10.31\n",
      "Europe 13.49\n"
     ]
    }
   ],
   "source": [
    "mean_asia = round(df_Asia_table['n_policies'].mean(),2)\n",
    "mean_europe = round(df_Europe_table['n_policies'].mean(),2)\n",
    "\n",
    "print(f'Mean: \\nAsia {mean_asia}\\nEurope {mean_europe}')"
   ]
  },
  {
   "cell_type": "code",
   "execution_count": 34,
   "metadata": {},
   "outputs": [
    {
     "name": "stdout",
     "output_type": "stream",
     "text": [
      "Standard deviation: \n",
      "Asia 7.95\n",
      "Europe 9.21\n"
     ]
    }
   ],
   "source": [
    "std_asia = round(df_Asia_table['n_policies'].std(),2)\n",
    "std_europe = round(df_Europe_table['n_policies'].std(),2)\n",
    "\n",
    "print(f'Standard deviation: \\nAsia {std_asia}\\nEurope {std_europe}')"
   ]
  },
  {
   "cell_type": "markdown",
   "metadata": {},
   "source": [
    "**Steps 6. Calculate the t-statistic**"
   ]
  },
  {
   "cell_type": "code",
   "execution_count": 35,
   "metadata": {},
   "outputs": [
    {
     "data": {
      "text/plain": [
       "Ttest_indResult(statistic=-1.762009856448094, pvalue=0.08172222510331173)"
      ]
     },
     "execution_count": 35,
     "metadata": {},
     "output_type": "execute_result"
    }
   ],
   "source": [
    "stats.ttest_ind(a = df_Asia_table['n_policies'],\n",
    "                b = df_Europe_table['n_policies'], \n",
    "                equal_var = False, \n",
    "                nan_policy = 'omit')"
   ]
  },
  {
   "cell_type": "markdown",
   "metadata": {},
   "source": [
    "<i style=\"color:red\"> \n",
    "The $p-value$ with $p = 0.081$ is somewhat greater than $0.05$ the significance level (chosen by convention). Therefore there is no statistical evidence to reject the null hypothesis therefore we can't conclude any result.\n",
    "\n",
    "**We can report that even though there is a visible slightly difference in the number of climate change-related laws produced in Europe in average $(13.49 ± 9.21)$ versus the average produced in Asia $(10.31 ± 7.95)$, there is no statistical support this difference**\n",
    "    \n",
    "<i/>"
   ]
  },
  {
   "cell_type": "markdown",
   "metadata": {},
   "source": [
    "---\n",
    "### **2.3 Dependent variables: Comparing means using paired t-test**\n",
    "\n",
    "\n",
    "$H_0: \\mu_1 = \\mu_2$  \n",
    "$H_a: \\mu_1 ≠ \\mu_2$\n"
   ]
  },
  {
   "cell_type": "markdown",
   "metadata": {},
   "source": [
    "The Paris agreement was adopted by consensus on 12 December 2015, as a reaction, many countries adapted national laws in order to align external policy actions.\n",
    "\n",
    "Therefore, we would like to know if there is a difference in the number of climate change laws before and after the Paris agreement at the country level, and see if, in reality, certain countries produced more laws and policies after these international treaties.\n",
    "\n",
    "\n",
    "**IMPORTANT** The **Level of observation** is by **policy document**, while the **Level of Analysis** we wish to conduct is by **country** therefore we need to perform an aggregation of the data."
   ]
  },
  {
   "cell_type": "code",
   "execution_count": 37,
   "metadata": {},
   "outputs": [],
   "source": [
    "# Filter the policy documents after 2015\n",
    "df_after_2015 = df[df['Year_Document_Release'] >= 2015]\n",
    "\n",
    "# Filter the policy documents before 2015\n",
    "df_before_2015 = df[(df['Year_Document_Release'] < 2015) & (df['Year_Document_Release'] >2010)]"
   ]
  },
  {
   "cell_type": "code",
   "execution_count": 38,
   "metadata": {},
   "outputs": [],
   "source": [
    "# Advanced code with Pandas to get the number of policies before and after the Paris agreement\n",
    "# The main take away is the resulting table\n",
    "df_countries = df_before_2015\\\n",
    "    .groupby('Country')\\\n",
    "    .count()['Title']\\\n",
    "    .reset_index()\\\n",
    "    .merge(df_after_2015.groupby('Country').count()['Title'],\n",
    "           on='Country', how='left')\\\n",
    "    .fillna(0)\\\n",
    "    .rename(columns={'Title_x':'Before_2015','Title_y':'After_2015'})"
   ]
  },
  {
   "cell_type": "code",
   "execution_count": 39,
   "metadata": {},
   "outputs": [
    {
     "data": {
      "text/html": [
       "<div>\n",
       "<style scoped>\n",
       "    .dataframe tbody tr th:only-of-type {\n",
       "        vertical-align: middle;\n",
       "    }\n",
       "\n",
       "    .dataframe tbody tr th {\n",
       "        vertical-align: top;\n",
       "    }\n",
       "\n",
       "    .dataframe thead th {\n",
       "        text-align: right;\n",
       "    }\n",
       "</style>\n",
       "<table border=\"1\" class=\"dataframe\">\n",
       "  <thead>\n",
       "    <tr style=\"text-align: right;\">\n",
       "      <th></th>\n",
       "      <th>Country</th>\n",
       "      <th>Before_2015</th>\n",
       "      <th>After_2015</th>\n",
       "    </tr>\n",
       "  </thead>\n",
       "  <tbody>\n",
       "    <tr>\n",
       "      <th>0</th>\n",
       "      <td>Afghanistan</td>\n",
       "      <td>6</td>\n",
       "      <td>5.0</td>\n",
       "    </tr>\n",
       "    <tr>\n",
       "      <th>1</th>\n",
       "      <td>Albania</td>\n",
       "      <td>1</td>\n",
       "      <td>1.0</td>\n",
       "    </tr>\n",
       "    <tr>\n",
       "      <th>2</th>\n",
       "      <td>Algeria</td>\n",
       "      <td>5</td>\n",
       "      <td>0.0</td>\n",
       "    </tr>\n",
       "    <tr>\n",
       "      <th>3</th>\n",
       "      <td>Andorra</td>\n",
       "      <td>4</td>\n",
       "      <td>2.0</td>\n",
       "    </tr>\n",
       "    <tr>\n",
       "      <th>4</th>\n",
       "      <td>Angola</td>\n",
       "      <td>10</td>\n",
       "      <td>7.0</td>\n",
       "    </tr>\n",
       "  </tbody>\n",
       "</table>\n",
       "</div>"
      ],
      "text/plain": [
       "       Country  Before_2015  After_2015\n",
       "0  Afghanistan            6         5.0\n",
       "1      Albania            1         1.0\n",
       "2      Algeria            5         0.0\n",
       "3      Andorra            4         2.0\n",
       "4       Angola           10         7.0"
      ]
     },
     "execution_count": 39,
     "metadata": {},
     "output_type": "execute_result"
    }
   ],
   "source": [
    "df_countries.head(5)"
   ]
  },
  {
   "cell_type": "markdown",
   "metadata": {},
   "source": [
    "**Q11. Now follow the steps above to perform the *appropriate* t-test to address the research question: Did the number of climate policy documents change after the Paris agreement?\n",
    "Don't forget to include a discussion of the interpretation of the test outcome**"
   ]
  },
  {
   "cell_type": "markdown",
   "metadata": {},
   "source": [
    "+ It necessary to perform an Paired T-test: Since we wish to compare the effect of an event in time when measuring the average number of policies produced by country.\n",
    "+ In the experiment it is taken 5 years after the Paris agreement and 5 years before, to fix the effect of policy acumulation in time.\n",
    "+ Exactly the same countries are selected, that's the reason of this line   \n",
    "    `.merge(df_after_2015.groupby('Country').count()['Title'], on='Country', how='left')`\n",
    "- Descriptive Statistics:"
   ]
  },
  {
   "cell_type": "code",
   "execution_count": 44,
   "metadata": {},
   "outputs": [
    {
     "name": "stdout",
     "output_type": "stream",
     "text": [
      "Size N: \n",
      "World 169\n"
     ]
    }
   ],
   "source": [
    "# We only have one variable this time\n",
    "n_World = len(df_countries['Country'])\n",
    "\n",
    "print(f'Size N: \\nWorld {n_World}')"
   ]
  },
  {
   "cell_type": "code",
   "execution_count": 49,
   "metadata": {},
   "outputs": [
    {
     "name": "stdout",
     "output_type": "stream",
     "text": [
      "Mean: \n",
      "Before 2015 (Paris agreement) 3.53\n",
      "After 2015 (Paris agreement) 3.56\n"
     ]
    }
   ],
   "source": [
    "mean_before2015 = round(df_countries['Before_2015'].mean(),2)\n",
    "mean_after2015 = round(df_countries['After_2015'].mean(),2)\n",
    "\n",
    "print(f'Mean: \\nBefore 2015 (Paris agreement) {mean_before2015}\\nAfter 2015 (Paris agreement) {mean_after2015}')"
   ]
  },
  {
   "cell_type": "code",
   "execution_count": 50,
   "metadata": {},
   "outputs": [
    {
     "name": "stdout",
     "output_type": "stream",
     "text": [
      "Standard deviation: \n",
      "Before 2015 (Paris agreement) 2.52\n",
      "After 2015 (Paris agreement) 3.83\n"
     ]
    }
   ],
   "source": [
    "std_before2015 = round(df_countries['Before_2015'].std(),2)\n",
    "std_after2015 = round(df_countries['After_2015'].std(),2)\n",
    "\n",
    "print(f'Standard deviation: \\nBefore 2015 (Paris agreement) {std_before2015}\\nAfter 2015 (Paris agreement) {std_after2015}')"
   ]
  },
  {
   "cell_type": "markdown",
   "metadata": {},
   "source": [
    "**- Calculate the t-statistic for paired variables**"
   ]
  },
  {
   "cell_type": "code",
   "execution_count": 56,
   "metadata": {},
   "outputs": [
    {
     "data": {
      "text/plain": [
       "Ttest_relResult(statistic=-0.12968760355073727, pvalue=0.8969687333440459)"
      ]
     },
     "execution_count": 56,
     "metadata": {},
     "output_type": "execute_result"
    }
   ],
   "source": [
    "stats.ttest_rel(a = df_countries['Before_2015'],\n",
    "                b = df_countries['After_2015'])"
   ]
  },
  {
   "cell_type": "markdown",
   "metadata": {},
   "source": [
    "<i style=\"color:red\"> \n",
    "The $p-value$ with $p = 0.896$ is extremely high, and nowhere close to $0$. Therefore there is no statistical evidence to reject the null hypothesis therefore we can't conclude any result.\n",
    "\n",
    "**We can report that in a worldwide perspective, the effect Paris agreement can't be assessed, therefore perhaps comparing at the regional level can be the following steps.**\n",
    "<i/>"
   ]
  }
 ],
 "metadata": {
  "colab": {
   "name": "CODING4ALL.ipynb",
   "provenance": [],
   "toc_visible": true
  },
  "kernelspec": {
   "display_name": "Python 3",
   "language": "python",
   "name": "python3"
  },
  "language_info": {
   "codemirror_mode": {
    "name": "ipython",
    "version": 3
   },
   "file_extension": ".py",
   "mimetype": "text/x-python",
   "name": "python",
   "nbconvert_exporter": "python",
   "pygments_lexer": "ipython3",
   "version": "3.9.1"
  }
 },
 "nbformat": 4,
 "nbformat_minor": 4
}
