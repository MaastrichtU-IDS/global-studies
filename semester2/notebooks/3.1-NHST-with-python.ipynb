{
 "cells": [
  {
   "cell_type": "markdown",
   "metadata": {},
   "source": [
    "# Introduction to Null Hypothesis Significance Test\n",
    "\n",
    "With [SciPy (Scientific Python)](https://www.scipy.org/)  we are able to make statistical analysis.\n",
    "\n",
    "#### Learning objectives\n",
    " By the end of this notebook you will:\n",
    "+ Run t-tests for independent groups and F-tests to test for equal variances\n",
    "+ Learn how to obtain and interpret p-values\n",
    "+ Interpret statistical results. \n",
    "---"
   ]
  },
  {
   "cell_type": "markdown",
   "metadata": {},
   "source": [
    "## **1. Descriptive Statistics**:\n",
    "* Descriptive statistics are...\n",
    "* \n",
    "* "
   ]
  },
  {
   "cell_type": "markdown",
   "metadata": {},
   "source": [
    "Using Pandas, the dataset `BaGS data Period5 - Climate Change Laws of the World.xls` revised before, will be loaded and analysed. Here the linkto download it: [Data](https://drive.google.com/file/d/11QDjI4aGZxCMRv2TmztAgEhJg5zf5Ak8/view?usp=sharing). Remember to put the file in the same place where your notebook is."
   ]
  },
  {
   "cell_type": "code",
   "execution_count": 1,
   "metadata": {},
   "outputs": [],
   "source": [
    "# import the library\n",
    "import pandas as pd\n",
    "\n",
    "# directory to the file, it can be from own computer or from web\n",
    "url = '../data/BaGS data Period5 - Climate Change Laws of the World.xls'\n",
    "\n",
    "# read the url and save it as a variable called df, note we are using read_excel \n",
    "df = pd.read_excel(url)"
   ]
  },
  {
   "cell_type": "markdown",
   "metadata": {},
   "source": [
    "Use `df.head()` to get the first rows of the dataframe"
   ]
  },
  {
   "cell_type": "code",
   "execution_count": 2,
   "metadata": {
    "colab": {
     "base_uri": "https://localhost:8080/"
    },
    "id": "WP7jyrv1fs2l",
    "outputId": "d8a088f6-d5fd-441e-8cd5-2d00e9cb7e68"
   },
   "outputs": [
    {
     "data": {
      "text/html": [
       "<div>\n",
       "<style scoped>\n",
       "    .dataframe tbody tr th:only-of-type {\n",
       "        vertical-align: middle;\n",
       "    }\n",
       "\n",
       "    .dataframe tbody tr th {\n",
       "        vertical-align: top;\n",
       "    }\n",
       "\n",
       "    .dataframe thead th {\n",
       "        text-align: right;\n",
       "    }\n",
       "</style>\n",
       "<table border=\"1\" class=\"dataframe\">\n",
       "  <thead>\n",
       "    <tr style=\"text-align: right;\">\n",
       "      <th></th>\n",
       "      <th>Title</th>\n",
       "      <th>Type</th>\n",
       "      <th>Country</th>\n",
       "      <th>Country ISO</th>\n",
       "      <th>Region</th>\n",
       "      <th>Sub-Region</th>\n",
       "      <th>Emergency Framework</th>\n",
       "      <th>Document Types</th>\n",
       "      <th>Document Link</th>\n",
       "      <th>Document Summary</th>\n",
       "      <th>...</th>\n",
       "      <th>Keyword Biodiversity Count</th>\n",
       "      <th>Keyword Building Count</th>\n",
       "      <th>Keyword Coal Count</th>\n",
       "      <th>Keyword Deforestation Count</th>\n",
       "      <th>Keyword Education Count</th>\n",
       "      <th>Keyword Energy Count</th>\n",
       "      <th>Keyword Transport Count</th>\n",
       "      <th>Keyword Circular Economy Count</th>\n",
       "      <th>Keyword Waste Count</th>\n",
       "      <th>Keyword Water Count</th>\n",
       "    </tr>\n",
       "  </thead>\n",
       "  <tbody>\n",
       "    <tr>\n",
       "      <th>0</th>\n",
       "      <td>Energy Sector Strategy 1387-1391 (2007/8-2012/3)</td>\n",
       "      <td>executive</td>\n",
       "      <td>Afghanistan</td>\n",
       "      <td>AFG</td>\n",
       "      <td>Asia</td>\n",
       "      <td>Southern Asia</td>\n",
       "      <td>No Framework Specified</td>\n",
       "      <td>Strategy</td>\n",
       "      <td>Full text|https://climate-laws.org/rails/activ...</td>\n",
       "      <td>This strategy sets the vision and goals for th...</td>\n",
       "      <td>...</td>\n",
       "      <td>0</td>\n",
       "      <td>0</td>\n",
       "      <td>0</td>\n",
       "      <td>0</td>\n",
       "      <td>0</td>\n",
       "      <td>3</td>\n",
       "      <td>0</td>\n",
       "      <td>0</td>\n",
       "      <td>0</td>\n",
       "      <td>0</td>\n",
       "    </tr>\n",
       "    <tr>\n",
       "      <th>1</th>\n",
       "      <td>Rural Renewable Energy Policy (RREP)</td>\n",
       "      <td>executive</td>\n",
       "      <td>Afghanistan</td>\n",
       "      <td>AFG</td>\n",
       "      <td>Asia</td>\n",
       "      <td>Southern Asia</td>\n",
       "      <td>Adaptation</td>\n",
       "      <td>Policy</td>\n",
       "      <td>Full text (PDF)|https://climate-laws.org/rails...</td>\n",
       "      <td>&lt;div&gt;This policy aims at creating better socia...</td>\n",
       "      <td>...</td>\n",
       "      <td>0</td>\n",
       "      <td>0</td>\n",
       "      <td>0</td>\n",
       "      <td>0</td>\n",
       "      <td>0</td>\n",
       "      <td>4</td>\n",
       "      <td>0</td>\n",
       "      <td>0</td>\n",
       "      <td>0</td>\n",
       "      <td>0</td>\n",
       "    </tr>\n",
       "  </tbody>\n",
       "</table>\n",
       "<p>2 rows × 30 columns</p>\n",
       "</div>"
      ],
      "text/plain": [
       "                                              Title       Type      Country  \\\n",
       "0  Energy Sector Strategy 1387-1391 (2007/8-2012/3)  executive  Afghanistan   \n",
       "1              Rural Renewable Energy Policy (RREP)  executive  Afghanistan   \n",
       "\n",
       "  Country ISO Region     Sub-Region     Emergency Framework Document Types  \\\n",
       "0         AFG   Asia  Southern Asia  No Framework Specified       Strategy   \n",
       "1         AFG   Asia  Southern Asia              Adaptation         Policy   \n",
       "\n",
       "                                       Document Link  \\\n",
       "0  Full text|https://climate-laws.org/rails/activ...   \n",
       "1  Full text (PDF)|https://climate-laws.org/rails...   \n",
       "\n",
       "                                    Document Summary  ...  \\\n",
       "0  This strategy sets the vision and goals for th...  ...   \n",
       "1  <div>This policy aims at creating better socia...  ...   \n",
       "\n",
       "  Keyword Biodiversity Count  Keyword Building Count  Keyword Coal Count  \\\n",
       "0                          0                       0                   0   \n",
       "1                          0                       0                   0   \n",
       "\n",
       "   Keyword Deforestation Count  Keyword Education Count  Keyword Energy Count  \\\n",
       "0                            0                        0                     3   \n",
       "1                            0                        0                     4   \n",
       "\n",
       "   Keyword Transport Count  Keyword Circular Economy Count  \\\n",
       "0                        0                               0   \n",
       "1                        0                               0   \n",
       "\n",
       "   Keyword Waste Count  Keyword Water Count  \n",
       "0                    0                    0  \n",
       "1                    0                    0  \n",
       "\n",
       "[2 rows x 30 columns]"
      ]
     },
     "execution_count": 2,
     "metadata": {},
     "output_type": "execute_result"
    }
   ],
   "source": [
    "df.head(2)"
   ]
  },
  {
   "cell_type": "markdown",
   "metadata": {
    "id": "lYXaxYJzkA27"
   },
   "source": [
    "Use `df.describe()` to get summary statistics about the data"
   ]
  },
  {
   "cell_type": "code",
   "execution_count": 3,
   "metadata": {},
   "outputs": [
    {
     "data": {
      "text/html": [
       "<div>\n",
       "<style scoped>\n",
       "    .dataframe tbody tr th:only-of-type {\n",
       "        vertical-align: middle;\n",
       "    }\n",
       "\n",
       "    .dataframe tbody tr th {\n",
       "        vertical-align: top;\n",
       "    }\n",
       "\n",
       "    .dataframe thead th {\n",
       "        text-align: right;\n",
       "    }\n",
       "</style>\n",
       "<table border=\"1\" class=\"dataframe\">\n",
       "  <thead>\n",
       "    <tr style=\"text-align: right;\">\n",
       "      <th></th>\n",
       "      <th>Year Document Release</th>\n",
       "      <th>Year Last Amendment</th>\n",
       "      <th>Months Between Release and Last Amendment</th>\n",
       "      <th>Months Since Release</th>\n",
       "      <th>Positive Words</th>\n",
       "      <th>Negative Words</th>\n",
       "      <th>Emergency Sentiment Rate</th>\n",
       "      <th>Summary Words Length</th>\n",
       "      <th>Keyword Agriculture Count</th>\n",
       "      <th>Keyword Biodiversity Count</th>\n",
       "      <th>Keyword Building Count</th>\n",
       "      <th>Keyword Coal Count</th>\n",
       "      <th>Keyword Deforestation Count</th>\n",
       "      <th>Keyword Education Count</th>\n",
       "      <th>Keyword Energy Count</th>\n",
       "      <th>Keyword Transport Count</th>\n",
       "      <th>Keyword Circular Economy Count</th>\n",
       "      <th>Keyword Waste Count</th>\n",
       "      <th>Keyword Water Count</th>\n",
       "    </tr>\n",
       "  </thead>\n",
       "  <tbody>\n",
       "    <tr>\n",
       "      <th>count</th>\n",
       "      <td>2105.000000</td>\n",
       "      <td>2105.000000</td>\n",
       "      <td>2105.000000</td>\n",
       "      <td>2105.000000</td>\n",
       "      <td>2105.000000</td>\n",
       "      <td>2105.000000</td>\n",
       "      <td>2105.000000</td>\n",
       "      <td>2105.000000</td>\n",
       "      <td>2105.000000</td>\n",
       "      <td>2105.000000</td>\n",
       "      <td>2105.000000</td>\n",
       "      <td>2105.000000</td>\n",
       "      <td>2105.000000</td>\n",
       "      <td>2105.000000</td>\n",
       "      <td>2105.000000</td>\n",
       "      <td>2105.000000</td>\n",
       "      <td>2105.000000</td>\n",
       "      <td>2105.000000</td>\n",
       "      <td>2105.000000</td>\n",
       "    </tr>\n",
       "    <tr>\n",
       "      <th>mean</th>\n",
       "      <td>2010.483610</td>\n",
       "      <td>2010.483610</td>\n",
       "      <td>15.213777</td>\n",
       "      <td>120.749644</td>\n",
       "      <td>1.765321</td>\n",
       "      <td>1.780998</td>\n",
       "      <td>-0.049633</td>\n",
       "      <td>175.465083</td>\n",
       "      <td>0.170546</td>\n",
       "      <td>0.089311</td>\n",
       "      <td>0.620428</td>\n",
       "      <td>0.049406</td>\n",
       "      <td>0.031829</td>\n",
       "      <td>0.088361</td>\n",
       "      <td>3.354394</td>\n",
       "      <td>0.200000</td>\n",
       "      <td>0.004276</td>\n",
       "      <td>0.100713</td>\n",
       "      <td>0.232304</td>\n",
       "    </tr>\n",
       "    <tr>\n",
       "      <th>std</th>\n",
       "      <td>7.654731</td>\n",
       "      <td>7.654731</td>\n",
       "      <td>53.876371</td>\n",
       "      <td>91.634283</td>\n",
       "      <td>2.404652</td>\n",
       "      <td>2.793940</td>\n",
       "      <td>0.680802</td>\n",
       "      <td>165.286046</td>\n",
       "      <td>0.529444</td>\n",
       "      <td>0.394357</td>\n",
       "      <td>1.174370</td>\n",
       "      <td>0.339748</td>\n",
       "      <td>0.207817</td>\n",
       "      <td>0.432499</td>\n",
       "      <td>4.962005</td>\n",
       "      <td>0.670112</td>\n",
       "      <td>0.078488</td>\n",
       "      <td>0.411716</td>\n",
       "      <td>0.825394</td>\n",
       "    </tr>\n",
       "    <tr>\n",
       "      <th>min</th>\n",
       "      <td>1947.000000</td>\n",
       "      <td>1947.000000</td>\n",
       "      <td>0.000000</td>\n",
       "      <td>0.000000</td>\n",
       "      <td>0.000000</td>\n",
       "      <td>0.000000</td>\n",
       "      <td>-1.000000</td>\n",
       "      <td>0.000000</td>\n",
       "      <td>0.000000</td>\n",
       "      <td>0.000000</td>\n",
       "      <td>0.000000</td>\n",
       "      <td>0.000000</td>\n",
       "      <td>0.000000</td>\n",
       "      <td>0.000000</td>\n",
       "      <td>0.000000</td>\n",
       "      <td>0.000000</td>\n",
       "      <td>0.000000</td>\n",
       "      <td>0.000000</td>\n",
       "      <td>0.000000</td>\n",
       "    </tr>\n",
       "    <tr>\n",
       "      <th>25%</th>\n",
       "      <td>2008.000000</td>\n",
       "      <td>2008.000000</td>\n",
       "      <td>0.000000</td>\n",
       "      <td>62.000000</td>\n",
       "      <td>0.000000</td>\n",
       "      <td>0.000000</td>\n",
       "      <td>-0.666700</td>\n",
       "      <td>77.000000</td>\n",
       "      <td>0.000000</td>\n",
       "      <td>0.000000</td>\n",
       "      <td>0.000000</td>\n",
       "      <td>0.000000</td>\n",
       "      <td>0.000000</td>\n",
       "      <td>0.000000</td>\n",
       "      <td>0.000000</td>\n",
       "      <td>0.000000</td>\n",
       "      <td>0.000000</td>\n",
       "      <td>0.000000</td>\n",
       "      <td>0.000000</td>\n",
       "    </tr>\n",
       "    <tr>\n",
       "      <th>50%</th>\n",
       "      <td>2012.000000</td>\n",
       "      <td>2012.000000</td>\n",
       "      <td>0.000000</td>\n",
       "      <td>104.000000</td>\n",
       "      <td>1.000000</td>\n",
       "      <td>1.000000</td>\n",
       "      <td>0.000000</td>\n",
       "      <td>134.000000</td>\n",
       "      <td>0.000000</td>\n",
       "      <td>0.000000</td>\n",
       "      <td>0.000000</td>\n",
       "      <td>0.000000</td>\n",
       "      <td>0.000000</td>\n",
       "      <td>0.000000</td>\n",
       "      <td>2.000000</td>\n",
       "      <td>0.000000</td>\n",
       "      <td>0.000000</td>\n",
       "      <td>0.000000</td>\n",
       "      <td>0.000000</td>\n",
       "    </tr>\n",
       "    <tr>\n",
       "      <th>75%</th>\n",
       "      <td>2015.000000</td>\n",
       "      <td>2015.000000</td>\n",
       "      <td>0.000000</td>\n",
       "      <td>152.000000</td>\n",
       "      <td>3.000000</td>\n",
       "      <td>2.000000</td>\n",
       "      <td>0.333300</td>\n",
       "      <td>218.000000</td>\n",
       "      <td>0.000000</td>\n",
       "      <td>0.000000</td>\n",
       "      <td>1.000000</td>\n",
       "      <td>0.000000</td>\n",
       "      <td>0.000000</td>\n",
       "      <td>0.000000</td>\n",
       "      <td>4.000000</td>\n",
       "      <td>0.000000</td>\n",
       "      <td>0.000000</td>\n",
       "      <td>0.000000</td>\n",
       "      <td>0.000000</td>\n",
       "    </tr>\n",
       "    <tr>\n",
       "      <th>max</th>\n",
       "      <td>2021.000000</td>\n",
       "      <td>2021.000000</td>\n",
       "      <td>475.000000</td>\n",
       "      <td>880.000000</td>\n",
       "      <td>24.000000</td>\n",
       "      <td>25.000000</td>\n",
       "      <td>1.000000</td>\n",
       "      <td>2946.000000</td>\n",
       "      <td>7.000000</td>\n",
       "      <td>6.000000</td>\n",
       "      <td>11.000000</td>\n",
       "      <td>6.000000</td>\n",
       "      <td>3.000000</td>\n",
       "      <td>10.000000</td>\n",
       "      <td>35.000000</td>\n",
       "      <td>10.000000</td>\n",
       "      <td>2.000000</td>\n",
       "      <td>7.000000</td>\n",
       "      <td>14.000000</td>\n",
       "    </tr>\n",
       "  </tbody>\n",
       "</table>\n",
       "</div>"
      ],
      "text/plain": [
       "       Year Document Release  Year Last Amendment  \\\n",
       "count            2105.000000          2105.000000   \n",
       "mean             2010.483610          2010.483610   \n",
       "std                 7.654731             7.654731   \n",
       "min              1947.000000          1947.000000   \n",
       "25%              2008.000000          2008.000000   \n",
       "50%              2012.000000          2012.000000   \n",
       "75%              2015.000000          2015.000000   \n",
       "max              2021.000000          2021.000000   \n",
       "\n",
       "       Months Between Release and Last Amendment  Months Since Release  \\\n",
       "count                                2105.000000           2105.000000   \n",
       "mean                                   15.213777            120.749644   \n",
       "std                                    53.876371             91.634283   \n",
       "min                                     0.000000              0.000000   \n",
       "25%                                     0.000000             62.000000   \n",
       "50%                                     0.000000            104.000000   \n",
       "75%                                     0.000000            152.000000   \n",
       "max                                   475.000000            880.000000   \n",
       "\n",
       "       Positive Words  Negative Words  Emergency Sentiment Rate  \\\n",
       "count     2105.000000     2105.000000               2105.000000   \n",
       "mean         1.765321        1.780998                 -0.049633   \n",
       "std          2.404652        2.793940                  0.680802   \n",
       "min          0.000000        0.000000                 -1.000000   \n",
       "25%          0.000000        0.000000                 -0.666700   \n",
       "50%          1.000000        1.000000                  0.000000   \n",
       "75%          3.000000        2.000000                  0.333300   \n",
       "max         24.000000       25.000000                  1.000000   \n",
       "\n",
       "       Summary Words Length  Keyword Agriculture Count  \\\n",
       "count           2105.000000                2105.000000   \n",
       "mean             175.465083                   0.170546   \n",
       "std              165.286046                   0.529444   \n",
       "min                0.000000                   0.000000   \n",
       "25%               77.000000                   0.000000   \n",
       "50%              134.000000                   0.000000   \n",
       "75%              218.000000                   0.000000   \n",
       "max             2946.000000                   7.000000   \n",
       "\n",
       "       Keyword Biodiversity Count  Keyword Building Count  Keyword Coal Count  \\\n",
       "count                 2105.000000             2105.000000         2105.000000   \n",
       "mean                     0.089311                0.620428            0.049406   \n",
       "std                      0.394357                1.174370            0.339748   \n",
       "min                      0.000000                0.000000            0.000000   \n",
       "25%                      0.000000                0.000000            0.000000   \n",
       "50%                      0.000000                0.000000            0.000000   \n",
       "75%                      0.000000                1.000000            0.000000   \n",
       "max                      6.000000               11.000000            6.000000   \n",
       "\n",
       "       Keyword Deforestation Count  Keyword Education Count  \\\n",
       "count                  2105.000000              2105.000000   \n",
       "mean                      0.031829                 0.088361   \n",
       "std                       0.207817                 0.432499   \n",
       "min                       0.000000                 0.000000   \n",
       "25%                       0.000000                 0.000000   \n",
       "50%                       0.000000                 0.000000   \n",
       "75%                       0.000000                 0.000000   \n",
       "max                       3.000000                10.000000   \n",
       "\n",
       "       Keyword Energy Count  Keyword Transport Count  \\\n",
       "count           2105.000000              2105.000000   \n",
       "mean               3.354394                 0.200000   \n",
       "std                4.962005                 0.670112   \n",
       "min                0.000000                 0.000000   \n",
       "25%                0.000000                 0.000000   \n",
       "50%                2.000000                 0.000000   \n",
       "75%                4.000000                 0.000000   \n",
       "max               35.000000                10.000000   \n",
       "\n",
       "       Keyword Circular Economy Count  Keyword Waste Count  \\\n",
       "count                     2105.000000          2105.000000   \n",
       "mean                         0.004276             0.100713   \n",
       "std                          0.078488             0.411716   \n",
       "min                          0.000000             0.000000   \n",
       "25%                          0.000000             0.000000   \n",
       "50%                          0.000000             0.000000   \n",
       "75%                          0.000000             0.000000   \n",
       "max                          2.000000             7.000000   \n",
       "\n",
       "       Keyword Water Count  \n",
       "count          2105.000000  \n",
       "mean              0.232304  \n",
       "std               0.825394  \n",
       "min               0.000000  \n",
       "25%               0.000000  \n",
       "50%               0.000000  \n",
       "75%               0.000000  \n",
       "max              14.000000  "
      ]
     },
     "execution_count": 3,
     "metadata": {},
     "output_type": "execute_result"
    }
   ],
   "source": [
    "df.describe()"
   ]
  },
  {
   "cell_type": "markdown",
   "metadata": {},
   "source": [
    "There are quite some variables, we could nevertheless use SciPy to calculate more advanced statistics for a particular column"
   ]
  },
  {
   "cell_type": "code",
   "execution_count": 4,
   "metadata": {
    "colab": {
     "base_uri": "https://localhost:8080/",
     "height": 317
    },
    "id": "z5QUhwiqkc8T",
    "outputId": "086088ad-a755-45a3-a13e-991ba5ce5b3e"
   },
   "outputs": [
    {
     "data": {
      "text/plain": [
       "DescribeResult(nobs=2105, minmax=(0, 880), mean=120.74964370546319, variance=8396.84175961634, skewness=2.487461197664903, kurtosis=11.638515674583811)"
      ]
     },
     "execution_count": 4,
     "metadata": {},
     "output_type": "execute_result"
    }
   ],
   "source": [
    "from scipy import stats\n",
    "\n",
    "# save the column in object x\n",
    "x = df['Months Since Release']\n",
    "\n",
    "# function describe from scipy\n",
    "stats.describe(x)"
   ]
  },
  {
   "cell_type": "markdown",
   "metadata": {},
   "source": [
    "We can say that..."
   ]
  },
  {
   "cell_type": "markdown",
   "metadata": {},
   "source": [
    "## **2. Difference in means test**\n",
    "- Normally this test is used when two variables of the same nature are compared in different context\n",
    "- For example: Variable height between male and female\n",
    "- ...\n",
    "\n",
    "$H_0: \\mu_1 = \\mu_2$  \n",
    "$H_a: \\mu_1 ≠ \\mu_2$\n"
   ]
  },
  {
   "cell_type": "code",
   "execution_count": null,
   "metadata": {},
   "outputs": [],
   "source": []
  },
  {
   "cell_type": "code",
   "execution_count": null,
   "metadata": {},
   "outputs": [],
   "source": []
  },
  {
   "cell_type": "code",
   "execution_count": null,
   "metadata": {},
   "outputs": [],
   "source": []
  },
  {
   "cell_type": "markdown",
   "metadata": {},
   "source": [
    "The Paris agreement was adopted by consensus on 12 December 2015...\n",
    "\n",
    "Let's explore if there is a difference on the number of climate change laws before and after by country\n",
    "\n",
    "\n",
    "**IMPORTANT** The **Level of observation** is by **policy document**, while the **Level of Analysis** we wish to conduct is by **country** therefore we need to get the data in the right shape:"
   ]
  },
  {
   "cell_type": "code",
   "execution_count": 5,
   "metadata": {},
   "outputs": [],
   "source": [
    "# Filtering the policy documents after 2015\n",
    "df_after_2015 = df[df['Year Document Release'] >= 2015]\n",
    "\n",
    "# Filtering the policy documents before 2015\n",
    "df_before_2015 = df[(df['Year Document Release'] < 2015) & (df['Year Document Release'] >2010)]"
   ]
  },
  {
   "cell_type": "code",
   "execution_count": 6,
   "metadata": {},
   "outputs": [],
   "source": [
    "# Advanced code with Pandas to get the number of policies before and after the Paris agreement\n",
    "# The main take away is the resulting table\n",
    "df_countries = df_before_2015\\\n",
    "    .groupby('Country')\\\n",
    "    .count()['Title']\\\n",
    "    .reset_index()\\\n",
    "    .merge(df_after_2015.groupby('Country').count()['Title'],\n",
    "           on='Country', how='left')\\\n",
    "    .fillna(0)\\\n",
    "    .rename(columns={'Title_x':'Before_2015','Title_y':'After_2015'})"
   ]
  },
  {
   "cell_type": "code",
   "execution_count": 7,
   "metadata": {},
   "outputs": [
    {
     "data": {
      "text/html": [
       "<div>\n",
       "<style scoped>\n",
       "    .dataframe tbody tr th:only-of-type {\n",
       "        vertical-align: middle;\n",
       "    }\n",
       "\n",
       "    .dataframe tbody tr th {\n",
       "        vertical-align: top;\n",
       "    }\n",
       "\n",
       "    .dataframe thead th {\n",
       "        text-align: right;\n",
       "    }\n",
       "</style>\n",
       "<table border=\"1\" class=\"dataframe\">\n",
       "  <thead>\n",
       "    <tr style=\"text-align: right;\">\n",
       "      <th></th>\n",
       "      <th>Country</th>\n",
       "      <th>Before_2015</th>\n",
       "      <th>After_2015</th>\n",
       "    </tr>\n",
       "  </thead>\n",
       "  <tbody>\n",
       "    <tr>\n",
       "      <th>0</th>\n",
       "      <td>Afghanistan</td>\n",
       "      <td>6</td>\n",
       "      <td>5.0</td>\n",
       "    </tr>\n",
       "    <tr>\n",
       "      <th>1</th>\n",
       "      <td>Albania</td>\n",
       "      <td>1</td>\n",
       "      <td>1.0</td>\n",
       "    </tr>\n",
       "    <tr>\n",
       "      <th>2</th>\n",
       "      <td>Algeria</td>\n",
       "      <td>5</td>\n",
       "      <td>0.0</td>\n",
       "    </tr>\n",
       "    <tr>\n",
       "      <th>3</th>\n",
       "      <td>Andorra</td>\n",
       "      <td>4</td>\n",
       "      <td>2.0</td>\n",
       "    </tr>\n",
       "    <tr>\n",
       "      <th>4</th>\n",
       "      <td>Angola</td>\n",
       "      <td>10</td>\n",
       "      <td>7.0</td>\n",
       "    </tr>\n",
       "  </tbody>\n",
       "</table>\n",
       "</div>"
      ],
      "text/plain": [
       "       Country  Before_2015  After_2015\n",
       "0  Afghanistan            6         5.0\n",
       "1      Albania            1         1.0\n",
       "2      Algeria            5         0.0\n",
       "3      Andorra            4         2.0\n",
       "4       Angola           10         7.0"
      ]
     },
     "execution_count": 7,
     "metadata": {},
     "output_type": "execute_result"
    }
   ],
   "source": [
    "df_countries.head(5)"
   ]
  },
  {
   "cell_type": "code",
   "execution_count": 8,
   "metadata": {},
   "outputs": [
    {
     "name": "stdout",
     "output_type": "stream",
     "text": [
      "Climate Policies \n",
      " 5 years before Paris Agreement: 3.526627218934911 (SD 2.5167654240101163) \n",
      " 5 years  after Paris Agreement: 3.562130177514793 (SD 3.8340560652557465)\n"
     ]
    }
   ],
   "source": [
    "print('Climate Policies \\n 5 years before Paris Agreement: {} (SD {}) \\n 5 years  after Paris Agreement: {} (SD {})'.format(\n",
    "    df_countries['Before_2015'].mean(), df_countries['Before_2015'].std(),\n",
    "    df_countries['After_2015'].mean(), df_countries['After_2015'].std()))"
   ]
  },
  {
   "cell_type": "code",
   "execution_count": null,
   "metadata": {},
   "outputs": [],
   "source": []
  },
  {
   "cell_type": "code",
   "execution_count": 9,
   "metadata": {},
   "outputs": [],
   "source": [
    "import scipy.stats as stats"
   ]
  },
  {
   "cell_type": "code",
   "execution_count": 10,
   "metadata": {},
   "outputs": [
    {
     "data": {
      "text/plain": [
       "Ttest_relResult(statistic=-0.12968760355073727, pvalue=0.8969687333440459)"
      ]
     },
     "execution_count": 10,
     "metadata": {},
     "output_type": "execute_result"
    }
   ],
   "source": [
    "# two-sided test for the null hypothesis that two samples have equal average values.\n",
    "\n",
    "stats.ttest_rel(df_countries['Before_2015'],df_countries['After_2015'])"
   ]
  },
  {
   "cell_type": "code",
   "execution_count": 11,
   "metadata": {},
   "outputs": [],
   "source": [
    "#not significant p"
   ]
  },
  {
   "cell_type": "markdown",
   "metadata": {},
   "source": [
    "## **3. Interpreting results**\n",
    "- p-value is...\n",
    "- ...\n"
   ]
  },
  {
   "cell_type": "code",
   "execution_count": null,
   "metadata": {},
   "outputs": [],
   "source": []
  },
  {
   "cell_type": "code",
   "execution_count": null,
   "metadata": {},
   "outputs": [],
   "source": []
  },
  {
   "cell_type": "markdown",
   "metadata": {},
   "source": [
    "---\n",
    "<i style=\"color:red\">EXERCISES</i>"
   ]
  },
  {
   "cell_type": "markdown",
   "metadata": {},
   "source": [
    "+ _1. \n",
    "\n",
    "\n",
    "___"
   ]
  },
  {
   "cell_type": "markdown",
   "metadata": {},
   "source": [
    "+ _2. \n",
    "\n",
    "\n",
    "___"
   ]
  }
 ],
 "metadata": {
  "colab": {
   "name": "CODING4ALL.ipynb",
   "provenance": [],
   "toc_visible": true
  },
  "kernelspec": {
   "display_name": "Python 3",
   "language": "python",
   "name": "python3"
  },
  "language_info": {
   "codemirror_mode": {
    "name": "ipython",
    "version": 3
   },
   "file_extension": ".py",
   "mimetype": "text/x-python",
   "name": "python",
   "nbconvert_exporter": "python",
   "pygments_lexer": "ipython3",
   "version": "3.7.6"
  }
 },
 "nbformat": 4,
 "nbformat_minor": 4
}
