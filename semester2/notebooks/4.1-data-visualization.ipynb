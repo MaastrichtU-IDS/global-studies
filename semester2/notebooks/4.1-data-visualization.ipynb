{
 "cells": [
  {
   "cell_type": "markdown",
   "metadata": {},
   "source": [
    "# Visualization Lab\n",
    "\n",
    "[Seaborn](https://seaborn.pydata.org/) is a Python data visualization library based on matplotlib. It provides a high-level interface for drawing attractive and informative statistical graphics.\n",
    "\n",
    "In [data-to-viz](https://www.data-to-viz.com/) one can find main principles, techniques and caveats for meaningful data visualization\n",
    "\n",
    "#### Learning objectives\n",
    " By the end of this notebook you will know:\n",
    "+ How to visualize the relationship of two variables in a plot\n",
    "+ How to use basic functions in seaborn\n",
    "+ How to read these plots\n",
    "---"
   ]
  },
  {
   "cell_type": "markdown",
   "metadata": {},
   "source": [
    "#### The Dataset\n",
    "\n",
    "Wrapping up the different variables from climate change sources such as emissions, energy use and national policies, we could therefore combine them to visualize indications of correlation among them. \n",
    "\n",
    "In order to compare such measurements, they need to be aggregated, in this case at a country level, therefore the **level of analysis** is country.\n",
    "\n",
    "**Note:** *Different types of level of analysis could be: year, subregion or continent.*\n",
    "\n",
    "#### Descriptions\n",
    "\n",
    "- **Country_ISO:** Country three letters ISO official code **[ZWE = Zimbabwe]**\n",
    "- **Country:** Name of the country **[Zimbabwe = ZWE]**\n",
    "- **Laws_Policy:** Total number of laws/policies by country **[min 1 policy/law]**\n",
    "- **Year_Last_Amendment:** Average year on which the laws/policies were amended **[min 1989, max 2019]**\n",
    "- **Agriculture:** Average number of times Agriculture is mentioned in the laws/policies **[min 0.0 total]**\n",
    "- **Energy:** Average number of times Energy is mentioned in the laws/policies **[min 0.0 total]**\n",
    "- **Emergency_Sentiment:** Average emergency sentiment of the laws/policies **[-1: less urgent, 0: neutral, 1: more urgent]**\n",
    "- **CO2_Emissions:** Average CO2 emissions in metric tons per capita from 2000 onwards **[min 0.0 M/T pC]**\n",
    "- **Renewable_Electricity:** Average renewable electricity output in % of total electricity per country from 2000 onwards **[min 0%, max 100%]**"
   ]
  },
  {
   "cell_type": "code",
   "execution_count": 34,
   "metadata": {},
   "outputs": [
    {
     "data": {
      "text/html": [
       "<div>\n",
       "<style scoped>\n",
       "    .dataframe tbody tr th:only-of-type {\n",
       "        vertical-align: middle;\n",
       "    }\n",
       "\n",
       "    .dataframe tbody tr th {\n",
       "        vertical-align: top;\n",
       "    }\n",
       "\n",
       "    .dataframe thead th {\n",
       "        text-align: right;\n",
       "    }\n",
       "</style>\n",
       "<table border=\"1\" class=\"dataframe\">\n",
       "  <thead>\n",
       "    <tr style=\"text-align: right;\">\n",
       "      <th></th>\n",
       "      <th>Laws_Policy</th>\n",
       "      <th>Year_Last_Amendment</th>\n",
       "      <th>Agriculture</th>\n",
       "      <th>Energy</th>\n",
       "      <th>Emergency_Sentiment</th>\n",
       "      <th>CO2_Emissions</th>\n",
       "      <th>Renewable_Electricity</th>\n",
       "    </tr>\n",
       "  </thead>\n",
       "  <tbody>\n",
       "    <tr>\n",
       "      <th>count</th>\n",
       "      <td>198.000000</td>\n",
       "      <td>198.000000</td>\n",
       "      <td>198.000000</td>\n",
       "      <td>198.000000</td>\n",
       "      <td>198.000000</td>\n",
       "      <td>192.000000</td>\n",
       "      <td>194.000000</td>\n",
       "    </tr>\n",
       "    <tr>\n",
       "      <th>mean</th>\n",
       "      <td>10.606061</td>\n",
       "      <td>2010.531268</td>\n",
       "      <td>0.168002</td>\n",
       "      <td>3.355718</td>\n",
       "      <td>-0.058462</td>\n",
       "      <td>4.573557</td>\n",
       "      <td>31.084112</td>\n",
       "    </tr>\n",
       "    <tr>\n",
       "      <th>std</th>\n",
       "      <td>7.939899</td>\n",
       "      <td>3.373060</td>\n",
       "      <td>0.233348</td>\n",
       "      <td>1.980285</td>\n",
       "      <td>0.252736</td>\n",
       "      <td>6.215308</td>\n",
       "      <td>32.774729</td>\n",
       "    </tr>\n",
       "    <tr>\n",
       "      <th>min</th>\n",
       "      <td>1.000000</td>\n",
       "      <td>1989.000000</td>\n",
       "      <td>0.000000</td>\n",
       "      <td>0.000000</td>\n",
       "      <td>-0.777800</td>\n",
       "      <td>0.031363</td>\n",
       "      <td>0.000000</td>\n",
       "    </tr>\n",
       "    <tr>\n",
       "      <th>25%</th>\n",
       "      <td>5.000000</td>\n",
       "      <td>2009.333333</td>\n",
       "      <td>0.000000</td>\n",
       "      <td>2.000000</td>\n",
       "      <td>-0.235316</td>\n",
       "      <td>0.672358</td>\n",
       "      <td>1.399104</td>\n",
       "    </tr>\n",
       "    <tr>\n",
       "      <th>50%</th>\n",
       "      <td>8.000000</td>\n",
       "      <td>2010.895722</td>\n",
       "      <td>0.093842</td>\n",
       "      <td>3.015625</td>\n",
       "      <td>-0.053516</td>\n",
       "      <td>2.293479</td>\n",
       "      <td>17.063595</td>\n",
       "    </tr>\n",
       "    <tr>\n",
       "      <th>75%</th>\n",
       "      <td>14.750000</td>\n",
       "      <td>2012.553571</td>\n",
       "      <td>0.246324</td>\n",
       "      <td>4.371795</td>\n",
       "      <td>0.103415</td>\n",
       "      <td>6.395598</td>\n",
       "      <td>56.074231</td>\n",
       "    </tr>\n",
       "    <tr>\n",
       "      <th>max</th>\n",
       "      <td>46.000000</td>\n",
       "      <td>2019.000000</td>\n",
       "      <td>1.333333</td>\n",
       "      <td>10.000000</td>\n",
       "      <td>1.000000</td>\n",
       "      <td>49.423253</td>\n",
       "      <td>100.000000</td>\n",
       "    </tr>\n",
       "  </tbody>\n",
       "</table>\n",
       "</div>"
      ],
      "text/plain": [
       "       Laws_Policy  Year_Last_Amendment  Agriculture      Energy  \\\n",
       "count   198.000000           198.000000   198.000000  198.000000   \n",
       "mean     10.606061          2010.531268     0.168002    3.355718   \n",
       "std       7.939899             3.373060     0.233348    1.980285   \n",
       "min       1.000000          1989.000000     0.000000    0.000000   \n",
       "25%       5.000000          2009.333333     0.000000    2.000000   \n",
       "50%       8.000000          2010.895722     0.093842    3.015625   \n",
       "75%      14.750000          2012.553571     0.246324    4.371795   \n",
       "max      46.000000          2019.000000     1.333333   10.000000   \n",
       "\n",
       "       Emergency_Sentiment  CO2_Emissions  Renewable_Electricity  \n",
       "count           198.000000     192.000000             194.000000  \n",
       "mean             -0.058462       4.573557              31.084112  \n",
       "std               0.252736       6.215308              32.774729  \n",
       "min              -0.777800       0.031363               0.000000  \n",
       "25%              -0.235316       0.672358               1.399104  \n",
       "50%              -0.053516       2.293479              17.063595  \n",
       "75%               0.103415       6.395598              56.074231  \n",
       "max               1.000000      49.423253             100.000000  "
      ]
     },
     "execution_count": 34,
     "metadata": {},
     "output_type": "execute_result"
    }
   ],
   "source": [
    "# Import pandas first\n",
    "import pandas as pd\n",
    "# load the dataset\n",
    "df = pd.read_excel('../data/Climate_data_countries.xls')\n",
    "df.head() # first 5 observations\n",
    "df.describe() # descriptive statistics"
   ]
  },
  {
   "cell_type": "markdown",
   "metadata": {},
   "source": [
    "## **1. Boxplots**:\n",
    "Boxplots are useful for seeing distribution, central value, and variability. The ends of the box show upper and lower quartiles. The line going through the box shows the median value and the **CO_Emissions** from each upper and lower quartile to the maximum and the minimum. The maximum is calculated by the following formula _(Q3 + 1.5*IQR)_. The minimum is gotten by _(Q1-1.5*IQR)_. Whatever falls outside the boxes are considered outliers. Fortunately, we don’t have to do any of the calculations- whew! Seaborn to the rescue!"
   ]
  },
  {
   "cell_type": "code",
   "execution_count": 40,
   "metadata": {},
   "outputs": [
    {
     "name": "stderr",
     "output_type": "stream",
     "text": [
      "c:\\users\\p70069673\\appdata\\local\\programs\\python\\python39\\lib\\site-packages\\seaborn\\_decorators.py:36: FutureWarning:\n",
      "\n",
      "Pass the following variable as a keyword arg: x. From version 0.12, the only valid positional argument will be `data`, and passing other arguments without an explicit keyword will result in an error or misinterpretation.\n",
      "\n"
     ]
    },
    {
     "data": {
      "text/plain": [
       "<AxesSubplot:xlabel='CO2_Emissions'>"
      ]
     },
     "execution_count": 40,
     "metadata": {},
     "output_type": "execute_result"
    },
    {
     "data": {
      "image/png": "[encoded data removed]",
      "text/plain": [
       "<Figure size 432x288 with 1 Axes>"
      ]
     },
     "metadata": {
      "needs_background": "light"
     },
     "output_type": "display_data"
    }
   ],
   "source": [
    "# import seaborn package\n",
    "import seaborn as sns\n",
    "sns.boxplot(df['CO2_Emissions'])"
   ]
  },
  {
   "cell_type": "markdown",
   "metadata": {},
   "source": [
    "## **2. Histogram:**"
   ]
  },
  {
   "cell_type": "code",
   "execution_count": 46,
   "metadata": {},
   "outputs": [
    {
     "data": {
      "text/plain": [
       "<AxesSubplot:xlabel='CO2_Emissions'>"
      ]
     },
     "execution_count": 46,
     "metadata": {},
     "output_type": "execute_result"
    },
    {
     "data": {
      "image/png": "[encoded data removed]",
      "text/plain": [
       "<Figure size 432x288 with 1 Axes>"
      ]
     },
     "metadata": {
      "needs_background": "light"
     },
     "output_type": "display_data"
    }
   ],
   "source": [
    "# Plot the histogram thanks to the distplot function\n",
    "sns.distplot( a=df[\"CO2_Emissions\"], hist=True, kde=False, rug=False)"
   ]
  },
  {
   "cell_type": "markdown",
   "metadata": {},
   "source": [
    "## **3. Scatterplot**:\n",
    "A scatterplot displays the relationship between 2 numeric variables. For each data point, the value of its first variable is represented on the X axis, the second on the Y axis.  \n",
    "Several tools allow scatterplots in Python, such as `Matplotlib`, `Seaborn` and `Plotly`, normally it is used a combination of the three.\n",
    "\n",
    "### What for\n",
    "A scatterplot is made to study the relationship between 2 variables. Thus it is often accompanied by a correlation coefficient calculation, that usually tries to measure the `linear relationship`.  "
   ]
  },
  {
   "cell_type": "code",
   "execution_count": 25,
   "metadata": {},
   "outputs": [
    {
     "data": {
      "text/plain": [
       "<seaborn.axisgrid.FacetGrid at 0x2e45264de50>"
      ]
     },
     "execution_count": 25,
     "metadata": {},
     "output_type": "execute_result"
    },
    {
     "data": {
      "image/png": "[encoded data removed]",
      "text/plain": [
       "<Figure size 360x360 with 1 Axes>"
      ]
     },
     "metadata": {
      "needs_background": "light"
     },
     "output_type": "display_data"
    }
   ],
   "source": [
    "# Create a visualization\n",
    "sns.relplot(\n",
    "    data=df,\n",
    "    x=\"CO2_Emissions\", y=\"Renewable_Electricity\")"
   ]
  },
  {
   "cell_type": "code",
   "execution_count": 26,
   "metadata": {},
   "outputs": [
    {
     "data": {
      "text/plain": [
       "<AxesSubplot:xlabel='CO2_Emissions', ylabel='Renewable_Electricity'>"
      ]
     },
     "execution_count": 26,
     "metadata": {},
     "output_type": "execute_result"
    },
    {
     "data": {
      "image/png": "[encoded data removed]",
      "text/plain": [
       "<Figure size 432x288 with 1 Axes>"
      ]
     },
     "metadata": {
      "needs_background": "light"
     },
     "output_type": "display_data"
    }
   ],
   "source": [
    "# use the function regplot to make a scatterplot\n",
    "sns.regplot(x = df['CO2_Emissions'], y = df['Renewable_Electricity'])"
   ]
  },
  {
   "cell_type": "markdown",
   "metadata": {},
   "source": [
    "#### Variation\n",
    "\n",
    "Interactivity is a real plus for scatterplot. It allows to zoom on a specific part of the graphic to detect more precise pattern. It also allows to hover dots to get more information about them, like below:\n",
    "\n",
    "https://plotly.com/python-api-reference/generated/plotly.express.scatter.html"
   ]
  },
  {
   "cell_type": "code",
   "execution_count": 18,
   "metadata": {},
   "outputs": [
    {
     "name": "stdout",
     "output_type": "stream",
     "text": [
      "Requirement already satisfied: plotly in c:\\users\\p70069673\\appdata\\local\\programs\\python\\python39\\lib\\site-packages (4.14.3)\n",
      "Requirement already satisfied: six in c:\\users\\p70069673\\appdata\\roaming\\python\\python39\\site-packages (from plotly) (1.15.0)\n",
      "Requirement already satisfied: retrying>=1.3.3 in c:\\users\\p70069673\\appdata\\local\\programs\\python\\python39\\lib\\site-packages (from plotly) (1.3.3)\n"
     ]
    }
   ],
   "source": [
    "!pip install plotly #if you don't have installed plotly, please first run this command"
   ]
  },
  {
   "cell_type": "code",
   "execution_count": 27,
   "metadata": {},
   "outputs": [
    {
     "data": {
      "application/vnd.plotly.v1+json": {
       "config": {
        "plotlyServerURL": "https://plot.ly"
       },
       "data": [
        {
         "hovertemplate": "CO2_Emissions=%{x}<br>Renewable_Electricity=%{y}<extra></extra>",
         "legendgroup": "",
         "marker": {
          "color": "#636efa",
          "symbol": "circle"
         },
         "mode": "markers",
         "name": "",
         "orientation": "v",
         "showlegend": false,
         "type": "scatter",
         "x": [
          0.17782115530970208,
          1.1114820471068585,
          1.4966555761315012,
          6.55314867011666,
          23.690395881394238,
          4.3178530419083865,
          1.5586347880991693,
          5.498547456982731,
          16.987532150800348,
          7.97452026083769,
          3.8059821550186497,
          0.03274115657062262,
          9.654916141011887,
          0.45544344257054953,
          0.12612065898679273,
          0.3704348449961353,
          6.124434559485568,
          22.817951691359237,
          5.8727380773391005,
          5.125243965824539,
          6.229280318410194,
          1.5784630432850653,
          1.5052535260731874,
          2.0918741163885133,
          4.894202158908935,
          18.32735639298981,
          0.8923189895144292,
          2.406104856726145,
          0.062260795481411016,
          16.22762426490422,
          5.101658911644077,
          4.161968909022787,
          5.636138088091285,
          0.3978126965820942,
          0.2729699192902552,
          0.031362890115889774,
          0.4314005551352125,
          null,
          1.620104674724513,
          0.2105207545540268,
          0.931258677164136,
          1.6320987056771394,
          2.4603145522502787,
          6.7638149114876756,
          10.839774328744763,
          9.451853654368843,
          0.581700322503143,
          2.173332673455264,
          8.09765598162577,
          2.2297020994241765,
          3.2504871468535885,
          2.2942893651243734,
          2.3186540219332628,
          0.21116193421931864,
          6.607004311460694,
          12.63753052037613,
          0.08749096138916627,
          null,
          10.561581260216476,
          1.4805109356377655,
          5.612606946830772,
          1.2567667761242152,
          3.0566261015317377,
          7.910350931733133,
          1.7157045443337802,
          0.43894386229660254,
          0.22441330146760216,
          0.2272871463795203,
          0.1535558558935036,
          8.10497792240874,
          7.801107615961046,
          2.272221172414844,
          0.888899295584993,
          2.2926688747992503,
          1.0148848884603952,
          4.778506322267194,
          0.2288764015428641,
          5.125767371375093,
          1.7019052840516433,
          1.3384831125855037,
          9.234362384112714,
          7.362651746468224,
          4.040334212547377,
          6.732002920419756,
          8.732489120360922,
          7.252010592180242,
          3.2559785048500665,
          3.131872547458756,
          9.456226313151157,
          13.03334429147991,
          0.27739577142462707,
          1.3327476936701301,
          0.3192527580780086,
          0.5450478919890911,
          4.445453644113763,
          10.701662483765265,
          28.33341909874363,
          0.5865848168706469,
          3.7582140628725695,
          0.20206348400737711,
          8.737595938510594,
          2.2431517864987973,
          1.5532396385803167,
          0.7055935368910167,
          1.0812101260583686,
          4.266996156808922,
          20.799002386700348,
          3.449830832791949,
          1.5953299353505246,
          null,
          1.6406742923794562,
          0.10945022482705852,
          2.4023325373064752,
          4.196780752647404,
          2.281472375233945,
          4.587235725466015,
          0.11793089293329727,
          5.8249134505207865,
          0.2657117264767746,
          3.504983766350206,
          6.3162067020683965,
          0.1407596330542993,
          0.597659654645299,
          2.9515484466697446,
          0.07412444806915501,
          7.198032337378212,
          1.3371470564138148,
          0.07225128202285007,
          0.6965338570497603,
          0.8005715808415179,
          null,
          10.73730961848952,
          9.471477685405775,
          0.1740467277613279,
          5.02953184281837,
          7.895569810028502,
          14.306229116167561,
          0.8883210572480151,
          2.3754454074220783,
          1.464038037546708,
          0.9222094932428767,
          11.747538965394764,
          0.7093965578695348,
          7.965864122254611,
          2.244728984829033,
          5.243467660441585,
          0.7844460951645382,
          0.5998302474438729,
          49.42325330355296,
          4.214968331140608,
          11.616413535726407,
          0.06681491670784606,
          17.239743645920015,
          0.40219375025751225,
          0.5368798679812536,
          8.989258471214066,
          0.3429000522288399,
          0.13058634821481932,
          1.06357112837428,
          null,
          6.623347923453635,
          0.15157588889773732,
          0.5154483430094325,
          3.6497549403838043,
          6.665774465183576,
          7.3840200922824275,
          5.257297064060918,
          1.0423158693272554,
          6.4034034786857,
          2.553610393120845,
          0.07341162547606768,
          0.3149449759871537,
          3.654083845643739,
          0.40213715705575276,
          10.987263644373249,
          0.2534488859004778,
          1.1257145930410632,
          31.099709392856028,
          2.385876108748497,
          3.935742860472086,
          0.9741459234167902,
          null,
          0.1636201349575945,
          0.101968387615286,
          6.277141852960065,
          1.9596144873392731,
          17.926146774188876,
          4.136367908320371,
          2.0336784392867435,
          6.392996769495219,
          1.4118904717388292,
          0.43993509966486566,
          0.9911368313376113,
          4.5456179992125065,
          0.8912156353286169,
          8.931154494266467,
          0.2152755133806234,
          0.7986063994298023
         ],
         "xaxis": "x",
         "y": [
          78.00394294496718,
          67.34158119498379,
          98.5129484787615,
          90.01227990629347,
          0.038990038964070835,
          32.80665238042174,
          30.497225667692067,
          0.19945161992905067,
          9.75938989906673,
          69.55327429904759,
          10.506150138921068,
          93.90027155409462,
          7.232732431082119,
          1.5567671298334134,
          16.94572387576195,
          2.539600496671641,
          9.809483956565527,
          0,
          0,
          40.127127717138926,
          0.34215299844914215,
          62.18350789962576,
          40.15640090066587,
          83.77347971235714,
          0,
          0.01613467105370488,
          99.9744071388216,
          0.012352022362061572,
          85.85314523732104,
          61.0382575280321,
          56.47834777103738,
          46.17086572986763,
          18.176859691116686,
          29.915649005816995,
          82.71289416881648,
          99.50912269233196,
          73.11001129178639,
          null,
          77.45895940095942,
          0,
          7.23939489824406,
          94.5394378283807,
          4.2570494994727515,
          2.341121276304004,
          6.175578858256368,
          15.780589847842647,
          0,
          25.026008649497516,
          32.69577538827671,
          13.12639304478689,
          0.6825948718957515,
          55.2860222363463,
          11.554085231065669,
          0.5354613964182275,
          25.249095921053346,
          5.171660219869744,
          97.75431132429743,
          null,
          32.453799237957035,
          53.76528657476351,
          13.103366286707923,
          0.7192006853247671,
          50.75499667386179,
          8.323028076298277,
          83.2412363499171,
          69.6060239744141,
          64.88826605199891,
          0,
          0,
          24.516814855080046,
          14.171297808986937,
          0,
          55.10673914961539,
          0,
          41.68883096319005,
          54.02998809941284,
          31.838963610281603,
          5.792456536781954,
          13.231362790347237,
          15.696495470342368,
          13.352661340671325,
          5.789984911821242,
          8.085440369050469,
          99.96727640342846,
          0.4399141707539416,
          24.543922442972228,
          6.324005540575088,
          0.573997545131833,
          10.461561566224342,
          10.493561307406711,
          72.28288591978544,
          88.51871661979199,
          17.187511946812684,
          0.48484848484848464,
          1.4668585659087034,
          1.2950174641383563,
          0,
          97.2373378122517,
          5.580143879396023,
          0,
          0,
          0,
          57.03146097871128,
          42.74105405170349,
          100,
          14.374439116606732,
          11.864456972476201,
          60.00059564150938,
          10.0315586665056,
          0,
          6.17381488573172,
          55.152927921755435,
          0.2311356031363712,
          15.024330167910986,
          0.06670234637652013,
          20.991830580442503,
          51.043836933034136,
          0.9473226723453846,
          57.89630644865609,
          43.18386660515929,
          0.5292700003913874,
          98.1943859298617,
          1.5487745866038347,
          23.75063152419223,
          88.73299885637111,
          7.578693274537373,
          97.17694416421782,
          0.5833207305159319,
          26.93605629370992,
          35.285990595529974,
          null,
          8.416978676752494,
          98.33323725518609,
          99.6620795497968,
          0.3063484824195373,
          70.39786932962457,
          0,
          30.838291622433456,
          58.90267239381889,
          65.65348371429907,
          31.159522290861954,
          0,
          34.43929184459832,
          5.880559361725716,
          62.38925840882104,
          38.88691865869342,
          99.99825458333618,
          0,
          0,
          30.266046246531165,
          17.181465395771305,
          53.35329020378905,
          8.909654033399906e-05,
          51.62673956750494,
          10.985876890951499,
          1.381243289462264,
          0.3060126104935153,
          45.07566703085817,
          58.285760950501235,
          0,
          29.12982599853153,
          0.125937579162726,
          14.216007040267097,
          68.60486038265779,
          17.81287186832531,
          27.231549482229244,
          53.16596330670218,
          42.190049651026726,
          0.4328636488376007,
          9.01587792573782,
          0,
          64.47939644789935,
          7.161333701185808,
          98.9665148054628,
          0,
          0,
          0.9553991267161847,
          0.21364378318615404,
          1.4526849772270571,
          24.56454726879922,
          1.8779342723004668,
          null,
          56.33696715810322,
          83.87553951943836,
          6.152505816831364,
          82.1035764806288,
          10.107331157854155,
          18.268193904873122,
          18.426770769954008,
          69.26879325726921,
          40.12699786555706,
          10.33564157769945,
          40.526241213069504,
          2.088646131551191,
          0,
          0.9013201970461011,
          99.33797086822361,
          59.40986277190182
         ],
         "yaxis": "y"
        },
        {
         "hovertemplate": "<b>OLS trendline</b><br>Renewable_Electricity = -1.65312 * CO2_Emissions + 38.9686<br>R<sup>2</sup>=0.098185<br><br>CO2_Emissions=%{x}<br>Renewable_Electricity=%{y} <b>(trend)</b><extra></extra>",
         "legendgroup": "",
         "marker": {
          "color": "#636efa",
          "symbol": "circle"
         },
         "mode": "lines",
         "name": "",
         "showlegend": false,
         "type": "scatter",
         "x": [
          0.031362890115889774,
          0.03274115657062262,
          0.062260795481411016,
          0.06681491670784606,
          0.07225128202285007,
          0.07341162547606768,
          0.07412444806915501,
          0.08749096138916627,
          0.101968387615286,
          0.10945022482705852,
          0.11793089293329727,
          0.12612065898679273,
          0.13058634821481932,
          0.1407596330542993,
          0.15157588889773732,
          0.1535558558935036,
          0.1636201349575945,
          0.1740467277613279,
          0.17782115530970208,
          0.20206348400737711,
          0.2105207545540268,
          0.21116193421931864,
          0.2152755133806234,
          0.22441330146760216,
          0.2272871463795203,
          0.2288764015428641,
          0.2534488859004778,
          0.2657117264767746,
          0.2729699192902552,
          0.27739577142462707,
          0.3149449759871537,
          0.3192527580780086,
          0.3429000522288399,
          0.3704348449961353,
          0.3978126965820942,
          0.40213715705575276,
          0.40219375025751225,
          0.4314005551352125,
          0.43894386229660254,
          0.43993509966486566,
          0.45544344257054953,
          0.5154483430094325,
          0.5368798679812536,
          0.5450478919890911,
          0.581700322503143,
          0.5865848168706469,
          0.597659654645299,
          0.5998302474438729,
          0.6965338570497603,
          0.7055935368910167,
          0.7093965578695348,
          0.7844460951645382,
          0.7986063994298023,
          0.8005715808415179,
          0.8883210572480151,
          0.888899295584993,
          0.8912156353286169,
          0.8923189895144292,
          0.9222094932428767,
          0.931258677164136,
          0.9741459234167902,
          0.9911368313376113,
          1.0148848884603952,
          1.0423158693272554,
          1.06357112837428,
          1.0812101260583686,
          1.1114820471068585,
          1.1257145930410632,
          1.2567667761242152,
          1.3327476936701301,
          1.3371470564138148,
          1.3384831125855037,
          1.4118904717388292,
          1.464038037546708,
          1.4805109356377655,
          1.4966555761315012,
          1.5052535260731874,
          1.5532396385803167,
          1.5586347880991693,
          1.5784630432850653,
          1.5953299353505246,
          1.620104674724513,
          1.6320987056771394,
          1.6406742923794562,
          1.7019052840516433,
          1.7157045443337802,
          1.9596144873392731,
          2.0336784392867435,
          2.0918741163885133,
          2.173332673455264,
          2.2297020994241765,
          2.2431517864987973,
          2.244728984829033,
          2.272221172414844,
          2.281472375233945,
          2.2926688747992503,
          2.2942893651243734,
          2.3186540219332628,
          2.3754454074220783,
          2.385876108748497,
          2.4023325373064752,
          2.406104856726145,
          2.4603145522502787,
          2.553610393120845,
          2.9515484466697446,
          3.0566261015317377,
          3.131872547458756,
          3.2504871468535885,
          3.2559785048500665,
          3.449830832791949,
          3.504983766350206,
          3.6497549403838043,
          3.654083845643739,
          3.7582140628725695,
          3.8059821550186497,
          3.935742860472086,
          4.040334212547377,
          4.136367908320371,
          4.161968909022787,
          4.196780752647404,
          4.214968331140608,
          4.266996156808922,
          4.3178530419083865,
          4.445453644113763,
          4.5456179992125065,
          4.587235725466015,
          4.778506322267194,
          4.894202158908935,
          5.02953184281837,
          5.101658911644077,
          5.125243965824539,
          5.125767371375093,
          5.243467660441585,
          5.257297064060918,
          5.498547456982731,
          5.612606946830772,
          5.636138088091285,
          5.8249134505207865,
          5.8727380773391005,
          6.124434559485568,
          6.229280318410194,
          6.277141852960065,
          6.3162067020683965,
          6.392996769495219,
          6.4034034786857,
          6.55314867011666,
          6.607004311460694,
          6.623347923453635,
          6.665774465183576,
          6.732002920419756,
          6.7638149114876756,
          7.198032337378212,
          7.252010592180242,
          7.362651746468224,
          7.3840200922824275,
          7.801107615961046,
          7.895569810028502,
          7.910350931733133,
          7.965864122254611,
          7.97452026083769,
          8.09765598162577,
          8.10497792240874,
          8.732489120360922,
          8.737595938510594,
          8.931154494266467,
          8.989258471214066,
          9.234362384112714,
          9.451853654368843,
          9.456226313151157,
          9.471477685405775,
          9.654916141011887,
          10.561581260216476,
          10.701662483765265,
          10.73730961848952,
          10.839774328744763,
          10.987263644373249,
          11.616413535726407,
          11.747538965394764,
          12.63753052037613,
          13.03334429147991,
          14.306229116167561,
          16.22762426490422,
          16.987532150800348,
          17.239743645920015,
          17.926146774188876,
          18.32735639298981,
          20.799002386700348,
          22.817951691359237,
          23.690395881394238,
          28.33341909874363,
          31.099709392856028,
          49.42325330355296
         ],
         "xaxis": "x",
         "y": [
          38.91671774472813,
          38.914439298416724,
          38.86563965437152,
          38.85811112411204,
          38.84912413436351,
          38.84720594194732,
          38.846027557316155,
          38.82393104407244,
          38.799998053270606,
          38.78762964341837,
          38.77361004154923,
          38.76007133704706,
          38.7526889959079,
          38.73587128751935,
          38.717990667886546,
          38.71471753555228,
          38.69808002730283,
          38.680843569263345,
          38.67460396987693,
          38.63452837766361,
          38.62054745487801,
          38.61948750493994,
          38.61268724564713,
          38.59758134251083,
          38.59283051851984,
          38.590203281564044,
          38.54958190087637,
          38.52930989629952,
          38.51731119852481,
          38.50999471306891,
          38.447921195761694,
          38.440799894810375,
          38.401707968900304,
          38.35618952302896,
          38.31093052050001,
          38.303781648102216,
          38.30368809248287,
          38.25540560210293,
          38.24293557475904,
          38.241296935787815,
          38.21565971116541,
          38.116464128481134,
          38.08103514531737,
          38.06753238312778,
          38.006941345145144,
          37.998866666887885,
          37.98055857907914,
          37.976970318522916,
          37.817107193472,
          37.802130413005514,
          37.795843545113634,
          37.6717773017283,
          37.64836855307101,
          37.64511986315086,
          37.50005903680638,
          37.49910313673242,
          37.49527393830225,
          37.49344995625131,
          37.444037226417855,
          37.42907779701591,
          37.35817983117245,
          37.33009174171286,
          37.2908332420456,
          37.24548641019041,
          37.21034881657966,
          37.18118935392841,
          37.13114609370442,
          37.10761792056026,
          36.89097232048597,
          36.76536638940823,
          36.75809369421821,
          36.75588502676805,
          36.63453350862088,
          36.54832707984515,
          36.52109532522695,
          36.494406221348925,
          36.48019273798143,
          36.40086571042064,
          36.391946855522505,
          36.35916827723321,
          36.33128520144658,
          36.290329467996834,
          36.2705018392469,
          36.25632532510265,
          36.155102860723346,
          36.13229096279023,
          35.72907741286422,
          35.60664046495506,
          35.51043575404656,
          35.375774601811386,
          35.28258891174829,
          35.26035490191693,
          35.25774759640968,
          35.21229958221594,
          35.19700619038529,
          35.17849698046608,
          35.17581810789302,
          35.135540292058266,
          35.0416570502929,
          35.02441380035311,
          34.99720927192674,
          34.99097315753994,
          34.90135777120778,
          34.7471281128051,
          34.08928688974974,
          33.9155804236962,
          33.79118866578879,
          33.59510394244496,
          33.58602604293668,
          33.265563972601534,
          33.17438929618272,
          32.93506449338971,
          32.927908273205965,
          32.75576803969995,
          32.67680142698183,
          32.46229080046914,
          32.28938825356112,
          32.13063257961031,
          32.08831093315472,
          32.030762614810705,
          32.00069627967718,
          31.914687796283044,
          31.83061502365863,
          31.619675317167175,
          31.454091148281922,
          31.385291857298743,
          31.069097710465897,
          30.877838065905507,
          30.654121223586127,
          30.5348861849952,
          30.495897149517106,
          30.49503189487644,
          30.300458640514485,
          30.277596911886288,
          29.87877992987888,
          29.690225370611316,
          29.65132545991252,
          29.339256246637134,
          29.260196175056272,
          28.84411050499451,
          28.670787391841504,
          28.591666307178198,
          28.527087240444786,
          28.400143683717666,
          28.38294009577026,
          28.135392621988647,
          28.046362531364665,
          28.019344502787867,
          27.9492081389676,
          27.839724244162646,
          27.787135056158853,
          27.069319506798024,
          26.98008672083879,
          26.79718309649838,
          26.761858556360227,
          26.072360871353936,
          25.916203085679406,
          25.891768048382552,
          25.7999978222816,
          25.785688145834108,
          25.582129445069945,
          25.570025363952666,
          24.53267110677536,
          24.52422889958371,
          24.204252471303704,
          24.10819935218452,
          23.70301202114409,
          23.34347183152617,
          23.336243281314125,
          23.311030861220665,
          23.00778422040529,
          21.50895372254265,
          21.277381992710325,
          21.21845283402271,
          21.04906589122298,
          20.805247661437328,
          19.765184439732764,
          19.548417753919708,
          18.07715073681363,
          17.422821217525595,
          15.31858388105221,
          12.142278113495724,
          10.886055622057377,
          10.469118571331826,
          9.334408609863086,
          8.671159081501127,
          4.585220054152906,
          1.2476451024264605,
          -0.1946139323698901,
          -7.870110268385055,
          -12.443133064711994,
          -42.73423598744455
         ],
         "yaxis": "y"
        }
       ],
       "layout": {
        "legend": {
         "tracegroupgap": 0
        },
        "margin": {
         "t": 60
        },
        "template": {
         "data": {
          "bar": [
           {
            "error_x": {
             "color": "#2a3f5f"
            },
            "error_y": {
             "color": "#2a3f5f"
            },
            "marker": {
             "line": {
              "color": "#E5ECF6",
              "width": 0.5
             }
            },
            "type": "bar"
           }
          ],
          "barpolar": [
           {
            "marker": {
             "line": {
              "color": "#E5ECF6",
              "width": 0.5
             }
            },
            "type": "barpolar"
           }
          ],
          "carpet": [
           {
            "aaxis": {
             "endlinecolor": "#2a3f5f",
             "gridcolor": "white",
             "linecolor": "white",
             "minorgridcolor": "white",
             "startlinecolor": "#2a3f5f"
            },
            "baxis": {
             "endlinecolor": "#2a3f5f",
             "gridcolor": "white",
             "linecolor": "white",
             "minorgridcolor": "white",
             "startlinecolor": "#2a3f5f"
            },
            "type": "carpet"
           }
          ],
          "choropleth": [
           {
            "colorbar": {
             "outlinewidth": 0,
             "ticks": ""
            },
            "type": "choropleth"
           }
          ],
          "contour": [
           {
            "colorbar": {
             "outlinewidth": 0,
             "ticks": ""
            },
            "colorscale": [
             [
              0,
              "#0d0887"
             ],
             [
              0.1111111111111111,
              "#46039f"
             ],
             [
              0.2222222222222222,
              "#7201a8"
             ],
             [
              0.3333333333333333,
              "#9c179e"
             ],
             [
              0.4444444444444444,
              "#bd3786"
             ],
             [
              0.5555555555555556,
              "#d8576b"
             ],
             [
              0.6666666666666666,
              "#ed7953"
             ],
             [
              0.7777777777777778,
              "#fb9f3a"
             ],
             [
              0.8888888888888888,
              "#fdca26"
             ],
             [
              1,
              "#f0f921"
             ]
            ],
            "type": "contour"
           }
          ],
          "contourcarpet": [
           {
            "colorbar": {
             "outlinewidth": 0,
             "ticks": ""
            },
            "type": "contourcarpet"
           }
          ],
          "heatmap": [
           {
            "colorbar": {
             "outlinewidth": 0,
             "ticks": ""
            },
            "colorscale": [
             [
              0,
              "#0d0887"
             ],
             [
              0.1111111111111111,
              "#46039f"
             ],
             [
              0.2222222222222222,
              "#7201a8"
             ],
             [
              0.3333333333333333,
              "#9c179e"
             ],
             [
              0.4444444444444444,
              "#bd3786"
             ],
             [
              0.5555555555555556,
              "#d8576b"
             ],
             [
              0.6666666666666666,
              "#ed7953"
             ],
             [
              0.7777777777777778,
              "#fb9f3a"
             ],
             [
              0.8888888888888888,
              "#fdca26"
             ],
             [
              1,
              "#f0f921"
             ]
            ],
            "type": "heatmap"
           }
          ],
          "heatmapgl": [
           {
            "colorbar": {
             "outlinewidth": 0,
             "ticks": ""
            },
            "colorscale": [
             [
              0,
              "#0d0887"
             ],
             [
              0.1111111111111111,
              "#46039f"
             ],
             [
              0.2222222222222222,
              "#7201a8"
             ],
             [
              0.3333333333333333,
              "#9c179e"
             ],
             [
              0.4444444444444444,
              "#bd3786"
             ],
             [
              0.5555555555555556,
              "#d8576b"
             ],
             [
              0.6666666666666666,
              "#ed7953"
             ],
             [
              0.7777777777777778,
              "#fb9f3a"
             ],
             [
              0.8888888888888888,
              "#fdca26"
             ],
             [
              1,
              "#f0f921"
             ]
            ],
            "type": "heatmapgl"
           }
          ],
          "histogram": [
           {
            "marker": {
             "colorbar": {
              "outlinewidth": 0,
              "ticks": ""
             }
            },
            "type": "histogram"
           }
          ],
          "histogram2d": [
           {
            "colorbar": {
             "outlinewidth": 0,
             "ticks": ""
            },
            "colorscale": [
             [
              0,
              "#0d0887"
             ],
             [
              0.1111111111111111,
              "#46039f"
             ],
             [
              0.2222222222222222,
              "#7201a8"
             ],
             [
              0.3333333333333333,
              "#9c179e"
             ],
             [
              0.4444444444444444,
              "#bd3786"
             ],
             [
              0.5555555555555556,
              "#d8576b"
             ],
             [
              0.6666666666666666,
              "#ed7953"
             ],
             [
              0.7777777777777778,
              "#fb9f3a"
             ],
             [
              0.8888888888888888,
              "#fdca26"
             ],
             [
              1,
              "#f0f921"
             ]
            ],
            "type": "histogram2d"
           }
          ],
          "histogram2dcontour": [
           {
            "colorbar": {
             "outlinewidth": 0,
             "ticks": ""
            },
            "colorscale": [
             [
              0,
              "#0d0887"
             ],
             [
              0.1111111111111111,
              "#46039f"
             ],
             [
              0.2222222222222222,
              "#7201a8"
             ],
             [
              0.3333333333333333,
              "#9c179e"
             ],
             [
              0.4444444444444444,
              "#bd3786"
             ],
             [
              0.5555555555555556,
              "#d8576b"
             ],
             [
              0.6666666666666666,
              "#ed7953"
             ],
             [
              0.7777777777777778,
              "#fb9f3a"
             ],
             [
              0.8888888888888888,
              "#fdca26"
             ],
             [
              1,
              "#f0f921"
             ]
            ],
            "type": "histogram2dcontour"
           }
          ],
          "mesh3d": [
           {
            "colorbar": {
             "outlinewidth": 0,
             "ticks": ""
            },
            "type": "mesh3d"
           }
          ],
          "parcoords": [
           {
            "line": {
             "colorbar": {
              "outlinewidth": 0,
              "ticks": ""
             }
            },
            "type": "parcoords"
           }
          ],
          "pie": [
           {
            "automargin": true,
            "type": "pie"
           }
          ],
          "scatter": [
           {
            "marker": {
             "colorbar": {
              "outlinewidth": 0,
              "ticks": ""
             }
            },
            "type": "scatter"
           }
          ],
          "scatter3d": [
           {
            "line": {
             "colorbar": {
              "outlinewidth": 0,
              "ticks": ""
             }
            },
            "marker": {
             "colorbar": {
              "outlinewidth": 0,
              "ticks": ""
             }
            },
            "type": "scatter3d"
           }
          ],
          "scattercarpet": [
           {
            "marker": {
             "colorbar": {
              "outlinewidth": 0,
              "ticks": ""
             }
            },
            "type": "scattercarpet"
           }
          ],
          "scattergeo": [
           {
            "marker": {
             "colorbar": {
              "outlinewidth": 0,
              "ticks": ""
             }
            },
            "type": "scattergeo"
           }
          ],
          "scattergl": [
           {
            "marker": {
             "colorbar": {
              "outlinewidth": 0,
              "ticks": ""
             }
            },
            "type": "scattergl"
           }
          ],
          "scattermapbox": [
           {
            "marker": {
             "colorbar": {
              "outlinewidth": 0,
              "ticks": ""
             }
            },
            "type": "scattermapbox"
           }
          ],
          "scatterpolar": [
           {
            "marker": {
             "colorbar": {
              "outlinewidth": 0,
              "ticks": ""
             }
            },
            "type": "scatterpolar"
           }
          ],
          "scatterpolargl": [
           {
            "marker": {
             "colorbar": {
              "outlinewidth": 0,
              "ticks": ""
             }
            },
            "type": "scatterpolargl"
           }
          ],
          "scatterternary": [
           {
            "marker": {
             "colorbar": {
              "outlinewidth": 0,
              "ticks": ""
             }
            },
            "type": "scatterternary"
           }
          ],
          "surface": [
           {
            "colorbar": {
             "outlinewidth": 0,
             "ticks": ""
            },
            "colorscale": [
             [
              0,
              "#0d0887"
             ],
             [
              0.1111111111111111,
              "#46039f"
             ],
             [
              0.2222222222222222,
              "#7201a8"
             ],
             [
              0.3333333333333333,
              "#9c179e"
             ],
             [
              0.4444444444444444,
              "#bd3786"
             ],
             [
              0.5555555555555556,
              "#d8576b"
             ],
             [
              0.6666666666666666,
              "#ed7953"
             ],
             [
              0.7777777777777778,
              "#fb9f3a"
             ],
             [
              0.8888888888888888,
              "#fdca26"
             ],
             [
              1,
              "#f0f921"
             ]
            ],
            "type": "surface"
           }
          ],
          "table": [
           {
            "cells": {
             "fill": {
              "color": "#EBF0F8"
             },
             "line": {
              "color": "white"
             }
            },
            "header": {
             "fill": {
              "color": "#C8D4E3"
             },
             "line": {
              "color": "white"
             }
            },
            "type": "table"
           }
          ]
         },
         "layout": {
          "annotationdefaults": {
           "arrowcolor": "#2a3f5f",
           "arrowhead": 0,
           "arrowwidth": 1
          },
          "autotypenumbers": "strict",
          "coloraxis": {
           "colorbar": {
            "outlinewidth": 0,
            "ticks": ""
           }
          },
          "colorscale": {
           "diverging": [
            [
             0,
             "#8e0152"
            ],
            [
             0.1,
             "#c51b7d"
            ],
            [
             0.2,
             "#de77ae"
            ],
            [
             0.3,
             "#f1b6da"
            ],
            [
             0.4,
             "#fde0ef"
            ],
            [
             0.5,
             "#f7f7f7"
            ],
            [
             0.6,
             "#e6f5d0"
            ],
            [
             0.7,
             "#b8e186"
            ],
            [
             0.8,
             "#7fbc41"
            ],
            [
             0.9,
             "#4d9221"
            ],
            [
             1,
             "#276419"
            ]
           ],
           "sequential": [
            [
             0,
             "#0d0887"
            ],
            [
             0.1111111111111111,
             "#46039f"
            ],
            [
             0.2222222222222222,
             "#7201a8"
            ],
            [
             0.3333333333333333,
             "#9c179e"
            ],
            [
             0.4444444444444444,
             "#bd3786"
            ],
            [
             0.5555555555555556,
             "#d8576b"
            ],
            [
             0.6666666666666666,
             "#ed7953"
            ],
            [
             0.7777777777777778,
             "#fb9f3a"
            ],
            [
             0.8888888888888888,
             "#fdca26"
            ],
            [
             1,
             "#f0f921"
            ]
           ],
           "sequentialminus": [
            [
             0,
             "#0d0887"
            ],
            [
             0.1111111111111111,
             "#46039f"
            ],
            [
             0.2222222222222222,
             "#7201a8"
            ],
            [
             0.3333333333333333,
             "#9c179e"
            ],
            [
             0.4444444444444444,
             "#bd3786"
            ],
            [
             0.5555555555555556,
             "#d8576b"
            ],
            [
             0.6666666666666666,
             "#ed7953"
            ],
            [
             0.7777777777777778,
             "#fb9f3a"
            ],
            [
             0.8888888888888888,
             "#fdca26"
            ],
            [
             1,
             "#f0f921"
            ]
           ]
          },
          "colorway": [
           "#636efa",
           "#EF553B",
           "#00cc96",
           "#ab63fa",
           "#FFA15A",
           "#19d3f3",
           "#FF6692",
           "#B6E880",
           "#FF97FF",
           "#FECB52"
          ],
          "font": {
           "color": "#2a3f5f"
          },
          "geo": {
           "bgcolor": "white",
           "lakecolor": "white",
           "landcolor": "#E5ECF6",
           "showlakes": true,
           "showland": true,
           "subunitcolor": "white"
          },
          "hoverlabel": {
           "align": "left"
          },
          "hovermode": "closest",
          "mapbox": {
           "style": "light"
          },
          "paper_bgcolor": "white",
          "plot_bgcolor": "#E5ECF6",
          "polar": {
           "angularaxis": {
            "gridcolor": "white",
            "linecolor": "white",
            "ticks": ""
           },
           "bgcolor": "#E5ECF6",
           "radialaxis": {
            "gridcolor": "white",
            "linecolor": "white",
            "ticks": ""
           }
          },
          "scene": {
           "xaxis": {
            "backgroundcolor": "#E5ECF6",
            "gridcolor": "white",
            "gridwidth": 2,
            "linecolor": "white",
            "showbackground": true,
            "ticks": "",
            "zerolinecolor": "white"
           },
           "yaxis": {
            "backgroundcolor": "#E5ECF6",
            "gridcolor": "white",
            "gridwidth": 2,
            "linecolor": "white",
            "showbackground": true,
            "ticks": "",
            "zerolinecolor": "white"
           },
           "zaxis": {
            "backgroundcolor": "#E5ECF6",
            "gridcolor": "white",
            "gridwidth": 2,
            "linecolor": "white",
            "showbackground": true,
            "ticks": "",
            "zerolinecolor": "white"
           }
          },
          "shapedefaults": {
           "line": {
            "color": "#2a3f5f"
           }
          },
          "ternary": {
           "aaxis": {
            "gridcolor": "white",
            "linecolor": "white",
            "ticks": ""
           },
           "baxis": {
            "gridcolor": "white",
            "linecolor": "white",
            "ticks": ""
           },
           "bgcolor": "#E5ECF6",
           "caxis": {
            "gridcolor": "white",
            "linecolor": "white",
            "ticks": ""
           }
          },
          "title": {
           "x": 0.05
          },
          "xaxis": {
           "automargin": true,
           "gridcolor": "white",
           "linecolor": "white",
           "ticks": "",
           "title": {
            "standoff": 15
           },
           "zerolinecolor": "white",
           "zerolinewidth": 2
          },
          "yaxis": {
           "automargin": true,
           "gridcolor": "white",
           "linecolor": "white",
           "ticks": "",
           "title": {
            "standoff": 15
           },
           "zerolinecolor": "white",
           "zerolinewidth": 2
          }
         }
        },
        "xaxis": {
         "anchor": "y",
         "domain": [
          0,
          1
         ],
         "title": {
          "text": "CO2_Emissions"
         }
        },
        "yaxis": {
         "anchor": "x",
         "domain": [
          0,
          1
         ],
         "title": {
          "text": "Renewable_Electricity"
         }
        }
       }
      },
      "text/html": [
       "<div>                            <div id=\"89410e69-50e0-4645-a0d6-ea95905780ec\" class=\"plotly-graph-div\" style=\"height:525px; width:100%;\"></div>            <script type=\"text/javascript\">                require([\"plotly\"], function(Plotly) {                    window.PLOTLYENV=window.PLOTLYENV || {};                                    if (document.getElementById(\"89410e69-50e0-4645-a0d6-ea95905780ec\")) {                    Plotly.newPlot(                        \"89410e69-50e0-4645-a0d6-ea95905780ec\",                        [{\"hovertemplate\": \"CO2_Emissions=%{x}<br>Renewable_Electricity=%{y}<extra></extra>\", \"legendgroup\": \"\", \"marker\": {\"color\": \"#636efa\", \"symbol\": \"circle\"}, \"mode\": \"markers\", \"name\": \"\", \"orientation\": \"v\", \"showlegend\": false, \"type\": \"scatter\", \"x\": [0.17782115530970208, 1.1114820471068585, 1.4966555761315012, 6.55314867011666, 23.690395881394238, 4.3178530419083865, 1.5586347880991693, 5.498547456982731, 16.987532150800348, 7.97452026083769, 3.8059821550186497, 0.03274115657062262, 9.654916141011887, 0.45544344257054953, 0.12612065898679273, 0.3704348449961353, 6.124434559485568, 22.817951691359237, 5.8727380773391005, 5.125243965824539, 6.229280318410194, 1.5784630432850653, 1.5052535260731874, 2.0918741163885133, 4.894202158908935, 18.32735639298981, 0.8923189895144292, 2.406104856726145, 0.062260795481411016, 16.22762426490422, 5.101658911644077, 4.161968909022787, 5.636138088091285, 0.3978126965820942, 0.2729699192902552, 0.031362890115889774, 0.4314005551352125, null, 1.620104674724513, 0.2105207545540268, 0.931258677164136, 1.6320987056771394, 2.4603145522502787, 6.7638149114876756, 10.839774328744763, 9.451853654368843, 0.581700322503143, 2.173332673455264, 8.09765598162577, 2.2297020994241765, 3.2504871468535885, 2.2942893651243734, 2.3186540219332628, 0.21116193421931864, 6.607004311460694, 12.63753052037613, 0.08749096138916627, null, 10.561581260216476, 1.4805109356377655, 5.612606946830772, 1.2567667761242152, 3.0566261015317377, 7.910350931733133, 1.7157045443337802, 0.43894386229660254, 0.22441330146760216, 0.2272871463795203, 0.1535558558935036, 8.10497792240874, 7.801107615961046, 2.272221172414844, 0.888899295584993, 2.2926688747992503, 1.0148848884603952, 4.778506322267194, 0.2288764015428641, 5.125767371375093, 1.7019052840516433, 1.3384831125855037, 9.234362384112714, 7.362651746468224, 4.040334212547377, 6.732002920419756, 8.732489120360922, 7.252010592180242, 3.2559785048500665, 3.131872547458756, 9.456226313151157, 13.03334429147991, 0.27739577142462707, 1.3327476936701301, 0.3192527580780086, 0.5450478919890911, 4.445453644113763, 10.701662483765265, 28.33341909874363, 0.5865848168706469, 3.7582140628725695, 0.20206348400737711, 8.737595938510594, 2.2431517864987973, 1.5532396385803167, 0.7055935368910167, 1.0812101260583686, 4.266996156808922, 20.799002386700348, 3.449830832791949, 1.5953299353505246, null, 1.6406742923794562, 0.10945022482705852, 2.4023325373064752, 4.196780752647404, 2.281472375233945, 4.587235725466015, 0.11793089293329727, 5.8249134505207865, 0.2657117264767746, 3.504983766350206, 6.3162067020683965, 0.1407596330542993, 0.597659654645299, 2.9515484466697446, 0.07412444806915501, 7.198032337378212, 1.3371470564138148, 0.07225128202285007, 0.6965338570497603, 0.8005715808415179, null, 10.73730961848952, 9.471477685405775, 0.1740467277613279, 5.02953184281837, 7.895569810028502, 14.306229116167561, 0.8883210572480151, 2.3754454074220783, 1.464038037546708, 0.9222094932428767, 11.747538965394764, 0.7093965578695348, 7.965864122254611, 2.244728984829033, 5.243467660441585, 0.7844460951645382, 0.5998302474438729, 49.42325330355296, 4.214968331140608, 11.616413535726407, 0.06681491670784606, 17.239743645920015, 0.40219375025751225, 0.5368798679812536, 8.989258471214066, 0.3429000522288399, 0.13058634821481932, 1.06357112837428, null, 6.623347923453635, 0.15157588889773732, 0.5154483430094325, 3.6497549403838043, 6.665774465183576, 7.3840200922824275, 5.257297064060918, 1.0423158693272554, 6.4034034786857, 2.553610393120845, 0.07341162547606768, 0.3149449759871537, 3.654083845643739, 0.40213715705575276, 10.987263644373249, 0.2534488859004778, 1.1257145930410632, 31.099709392856028, 2.385876108748497, 3.935742860472086, 0.9741459234167902, null, 0.1636201349575945, 0.101968387615286, 6.277141852960065, 1.9596144873392731, 17.926146774188876, 4.136367908320371, 2.0336784392867435, 6.392996769495219, 1.4118904717388292, 0.43993509966486566, 0.9911368313376113, 4.5456179992125065, 0.8912156353286169, 8.931154494266467, 0.2152755133806234, 0.7986063994298023], \"xaxis\": \"x\", \"y\": [78.00394294496718, 67.34158119498379, 98.5129484787615, 90.01227990629347, 0.038990038964070835, 32.80665238042174, 30.497225667692067, 0.19945161992905067, 9.75938989906673, 69.55327429904759, 10.506150138921068, 93.90027155409462, 7.232732431082119, 1.5567671298334134, 16.94572387576195, 2.539600496671641, 9.809483956565527, 0.0, 0.0, 40.127127717138926, 0.34215299844914215, 62.18350789962576, 40.15640090066587, 83.77347971235714, 0.0, 0.01613467105370488, 99.9744071388216, 0.012352022362061572, 85.85314523732104, 61.0382575280321, 56.47834777103738, 46.17086572986763, 18.176859691116686, 29.915649005816995, 82.71289416881648, 99.50912269233196, 73.11001129178639, null, 77.45895940095942, 0.0, 7.23939489824406, 94.5394378283807, 4.2570494994727515, 2.341121276304004, 6.175578858256368, 15.780589847842647, 0.0, 25.026008649497516, 32.69577538827671, 13.12639304478689, 0.6825948718957515, 55.2860222363463, 11.554085231065669, 0.5354613964182275, 25.249095921053346, 5.171660219869744, 97.75431132429743, null, 32.453799237957035, 53.76528657476351, 13.103366286707923, 0.7192006853247671, 50.75499667386179, 8.323028076298277, 83.2412363499171, 69.6060239744141, 64.88826605199891, 0.0, 0.0, 24.516814855080046, 14.171297808986937, 0.0, 55.10673914961539, 0.0, 41.68883096319005, 54.02998809941284, 31.838963610281603, 5.792456536781954, 13.231362790347237, 15.696495470342368, 13.352661340671325, 5.789984911821242, 8.085440369050469, 99.96727640342846, 0.4399141707539416, 24.543922442972228, 6.324005540575088, 0.573997545131833, 10.461561566224342, 10.493561307406711, 72.28288591978544, 88.51871661979199, 17.187511946812684, 0.48484848484848464, 1.4668585659087034, 1.2950174641383563, 0.0, 97.2373378122517, 5.580143879396023, 0.0, 0.0, 0.0, 57.03146097871128, 42.74105405170349, 100.0, 14.374439116606732, 11.864456972476201, 60.00059564150938, 10.0315586665056, 0.0, 6.17381488573172, 55.152927921755435, 0.2311356031363712, 15.024330167910986, 0.06670234637652013, 20.991830580442503, 51.043836933034136, 0.9473226723453846, 57.89630644865609, 43.18386660515929, 0.5292700003913874, 98.1943859298617, 1.5487745866038347, 23.75063152419223, 88.73299885637111, 7.578693274537373, 97.17694416421782, 0.5833207305159319, 26.93605629370992, 35.285990595529974, null, 8.416978676752494, 98.33323725518609, 99.6620795497968, 0.3063484824195373, 70.39786932962457, 0.0, 30.838291622433456, 58.90267239381889, 65.65348371429907, 31.159522290861954, 0.0, 34.43929184459832, 5.880559361725716, 62.38925840882104, 38.88691865869342, 99.99825458333618, 0.0, 0.0, 30.266046246531165, 17.181465395771305, 53.35329020378905, 8.909654033399906e-05, 51.62673956750494, 10.985876890951499, 1.381243289462264, 0.3060126104935153, 45.07566703085817, 58.285760950501235, 0.0, 29.12982599853153, 0.125937579162726, 14.216007040267097, 68.60486038265779, 17.81287186832531, 27.231549482229244, 53.16596330670218, 42.190049651026726, 0.4328636488376007, 9.01587792573782, 0.0, 64.47939644789935, 7.161333701185808, 98.9665148054628, 0.0, 0.0, 0.9553991267161847, 0.21364378318615404, 1.4526849772270571, 24.56454726879922, 1.8779342723004668, null, 56.33696715810322, 83.87553951943836, 6.152505816831364, 82.1035764806288, 10.107331157854155, 18.268193904873122, 18.426770769954008, 69.26879325726921, 40.12699786555706, 10.33564157769945, 40.526241213069504, 2.088646131551191, 0.0, 0.9013201970461011, 99.33797086822361, 59.40986277190182], \"yaxis\": \"y\"}, {\"hovertemplate\": \"<b>OLS trendline</b><br>Renewable_Electricity = -1.65312 * CO2_Emissions + 38.9686<br>R<sup>2</sup>=0.098185<br><br>CO2_Emissions=%{x}<br>Renewable_Electricity=%{y} <b>(trend)</b><extra></extra>\", \"legendgroup\": \"\", \"marker\": {\"color\": \"#636efa\", \"symbol\": \"circle\"}, \"mode\": \"lines\", \"name\": \"\", \"showlegend\": false, \"type\": \"scatter\", \"x\": [0.031362890115889774, 0.03274115657062262, 0.062260795481411016, 0.06681491670784606, 0.07225128202285007, 0.07341162547606768, 0.07412444806915501, 0.08749096138916627, 0.101968387615286, 0.10945022482705852, 0.11793089293329727, 0.12612065898679273, 0.13058634821481932, 0.1407596330542993, 0.15157588889773732, 0.1535558558935036, 0.1636201349575945, 0.1740467277613279, 0.17782115530970208, 0.20206348400737711, 0.2105207545540268, 0.21116193421931864, 0.2152755133806234, 0.22441330146760216, 0.2272871463795203, 0.2288764015428641, 0.2534488859004778, 0.2657117264767746, 0.2729699192902552, 0.27739577142462707, 0.3149449759871537, 0.3192527580780086, 0.3429000522288399, 0.3704348449961353, 0.3978126965820942, 0.40213715705575276, 0.40219375025751225, 0.4314005551352125, 0.43894386229660254, 0.43993509966486566, 0.45544344257054953, 0.5154483430094325, 0.5368798679812536, 0.5450478919890911, 0.581700322503143, 0.5865848168706469, 0.597659654645299, 0.5998302474438729, 0.6965338570497603, 0.7055935368910167, 0.7093965578695348, 0.7844460951645382, 0.7986063994298023, 0.8005715808415179, 0.8883210572480151, 0.888899295584993, 0.8912156353286169, 0.8923189895144292, 0.9222094932428767, 0.931258677164136, 0.9741459234167902, 0.9911368313376113, 1.0148848884603952, 1.0423158693272554, 1.06357112837428, 1.0812101260583686, 1.1114820471068585, 1.1257145930410632, 1.2567667761242152, 1.3327476936701301, 1.3371470564138148, 1.3384831125855037, 1.4118904717388292, 1.464038037546708, 1.4805109356377655, 1.4966555761315012, 1.5052535260731874, 1.5532396385803167, 1.5586347880991693, 1.5784630432850653, 1.5953299353505246, 1.620104674724513, 1.6320987056771394, 1.6406742923794562, 1.7019052840516433, 1.7157045443337802, 1.9596144873392731, 2.0336784392867435, 2.0918741163885133, 2.173332673455264, 2.2297020994241765, 2.2431517864987973, 2.244728984829033, 2.272221172414844, 2.281472375233945, 2.2926688747992503, 2.2942893651243734, 2.3186540219332628, 2.3754454074220783, 2.385876108748497, 2.4023325373064752, 2.406104856726145, 2.4603145522502787, 2.553610393120845, 2.9515484466697446, 3.0566261015317377, 3.131872547458756, 3.2504871468535885, 3.2559785048500665, 3.449830832791949, 3.504983766350206, 3.6497549403838043, 3.654083845643739, 3.7582140628725695, 3.8059821550186497, 3.935742860472086, 4.040334212547377, 4.136367908320371, 4.161968909022787, 4.196780752647404, 4.214968331140608, 4.266996156808922, 4.3178530419083865, 4.445453644113763, 4.5456179992125065, 4.587235725466015, 4.778506322267194, 4.894202158908935, 5.02953184281837, 5.101658911644077, 5.125243965824539, 5.125767371375093, 5.243467660441585, 5.257297064060918, 5.498547456982731, 5.612606946830772, 5.636138088091285, 5.8249134505207865, 5.8727380773391005, 6.124434559485568, 6.229280318410194, 6.277141852960065, 6.3162067020683965, 6.392996769495219, 6.4034034786857, 6.55314867011666, 6.607004311460694, 6.623347923453635, 6.665774465183576, 6.732002920419756, 6.7638149114876756, 7.198032337378212, 7.252010592180242, 7.362651746468224, 7.3840200922824275, 7.801107615961046, 7.895569810028502, 7.910350931733133, 7.965864122254611, 7.97452026083769, 8.09765598162577, 8.10497792240874, 8.732489120360922, 8.737595938510594, 8.931154494266467, 8.989258471214066, 9.234362384112714, 9.451853654368843, 9.456226313151157, 9.471477685405775, 9.654916141011887, 10.561581260216476, 10.701662483765265, 10.73730961848952, 10.839774328744763, 10.987263644373249, 11.616413535726407, 11.747538965394764, 12.63753052037613, 13.03334429147991, 14.306229116167561, 16.22762426490422, 16.987532150800348, 17.239743645920015, 17.926146774188876, 18.32735639298981, 20.799002386700348, 22.817951691359237, 23.690395881394238, 28.33341909874363, 31.099709392856028, 49.42325330355296], \"xaxis\": \"x\", \"y\": [38.91671774472813, 38.914439298416724, 38.86563965437152, 38.85811112411204, 38.84912413436351, 38.84720594194732, 38.846027557316155, 38.82393104407244, 38.799998053270606, 38.78762964341837, 38.77361004154923, 38.76007133704706, 38.7526889959079, 38.73587128751935, 38.717990667886546, 38.71471753555228, 38.69808002730283, 38.680843569263345, 38.67460396987693, 38.63452837766361, 38.62054745487801, 38.61948750493994, 38.61268724564713, 38.59758134251083, 38.59283051851984, 38.590203281564044, 38.54958190087637, 38.52930989629952, 38.51731119852481, 38.50999471306891, 38.447921195761694, 38.440799894810375, 38.401707968900304, 38.35618952302896, 38.31093052050001, 38.303781648102216, 38.30368809248287, 38.25540560210293, 38.24293557475904, 38.241296935787815, 38.21565971116541, 38.116464128481134, 38.08103514531737, 38.06753238312778, 38.006941345145144, 37.998866666887885, 37.98055857907914, 37.976970318522916, 37.817107193472, 37.802130413005514, 37.795843545113634, 37.6717773017283, 37.64836855307101, 37.64511986315086, 37.50005903680638, 37.49910313673242, 37.49527393830225, 37.49344995625131, 37.444037226417855, 37.42907779701591, 37.35817983117245, 37.33009174171286, 37.2908332420456, 37.24548641019041, 37.21034881657966, 37.18118935392841, 37.13114609370442, 37.10761792056026, 36.89097232048597, 36.76536638940823, 36.75809369421821, 36.75588502676805, 36.63453350862088, 36.54832707984515, 36.52109532522695, 36.494406221348925, 36.48019273798143, 36.40086571042064, 36.391946855522505, 36.35916827723321, 36.33128520144658, 36.290329467996834, 36.2705018392469, 36.25632532510265, 36.155102860723346, 36.13229096279023, 35.72907741286422, 35.60664046495506, 35.51043575404656, 35.375774601811386, 35.28258891174829, 35.26035490191693, 35.25774759640968, 35.21229958221594, 35.19700619038529, 35.17849698046608, 35.17581810789302, 35.135540292058266, 35.0416570502929, 35.02441380035311, 34.99720927192674, 34.99097315753994, 34.90135777120778, 34.7471281128051, 34.08928688974974, 33.9155804236962, 33.79118866578879, 33.59510394244496, 33.58602604293668, 33.265563972601534, 33.17438929618272, 32.93506449338971, 32.927908273205965, 32.75576803969995, 32.67680142698183, 32.46229080046914, 32.28938825356112, 32.13063257961031, 32.08831093315472, 32.030762614810705, 32.00069627967718, 31.914687796283044, 31.83061502365863, 31.619675317167175, 31.454091148281922, 31.385291857298743, 31.069097710465897, 30.877838065905507, 30.654121223586127, 30.5348861849952, 30.495897149517106, 30.49503189487644, 30.300458640514485, 30.277596911886288, 29.87877992987888, 29.690225370611316, 29.65132545991252, 29.339256246637134, 29.260196175056272, 28.84411050499451, 28.670787391841504, 28.591666307178198, 28.527087240444786, 28.400143683717666, 28.38294009577026, 28.135392621988647, 28.046362531364665, 28.019344502787867, 27.9492081389676, 27.839724244162646, 27.787135056158853, 27.069319506798024, 26.98008672083879, 26.79718309649838, 26.761858556360227, 26.072360871353936, 25.916203085679406, 25.891768048382552, 25.7999978222816, 25.785688145834108, 25.582129445069945, 25.570025363952666, 24.53267110677536, 24.52422889958371, 24.204252471303704, 24.10819935218452, 23.70301202114409, 23.34347183152617, 23.336243281314125, 23.311030861220665, 23.00778422040529, 21.50895372254265, 21.277381992710325, 21.21845283402271, 21.04906589122298, 20.805247661437328, 19.765184439732764, 19.548417753919708, 18.07715073681363, 17.422821217525595, 15.31858388105221, 12.142278113495724, 10.886055622057377, 10.469118571331826, 9.334408609863086, 8.671159081501127, 4.585220054152906, 1.2476451024264605, -0.1946139323698901, -7.870110268385055, -12.443133064711994, -42.73423598744455], \"yaxis\": \"y\"}],                        {\"legend\": {\"tracegroupgap\": 0}, \"margin\": {\"t\": 60}, \"template\": {\"data\": {\"bar\": [{\"error_x\": {\"color\": \"#2a3f5f\"}, \"error_y\": {\"color\": \"#2a3f5f\"}, \"marker\": {\"line\": {\"color\": \"#E5ECF6\", \"width\": 0.5}}, \"type\": \"bar\"}], \"barpolar\": [{\"marker\": {\"line\": {\"color\": \"#E5ECF6\", \"width\": 0.5}}, \"type\": \"barpolar\"}], \"carpet\": [{\"aaxis\": {\"endlinecolor\": \"#2a3f5f\", \"gridcolor\": \"white\", \"linecolor\": \"white\", \"minorgridcolor\": \"white\", \"startlinecolor\": \"#2a3f5f\"}, \"baxis\": {\"endlinecolor\": \"#2a3f5f\", \"gridcolor\": \"white\", \"linecolor\": \"white\", \"minorgridcolor\": \"white\", \"startlinecolor\": \"#2a3f5f\"}, \"type\": \"carpet\"}], \"choropleth\": [{\"colorbar\": {\"outlinewidth\": 0, \"ticks\": \"\"}, \"type\": \"choropleth\"}], \"contour\": [{\"colorbar\": {\"outlinewidth\": 0, \"ticks\": \"\"}, \"colorscale\": [[0.0, \"#0d0887\"], [0.1111111111111111, \"#46039f\"], [0.2222222222222222, \"#7201a8\"], [0.3333333333333333, \"#9c179e\"], [0.4444444444444444, \"#bd3786\"], [0.5555555555555556, \"#d8576b\"], [0.6666666666666666, \"#ed7953\"], [0.7777777777777778, \"#fb9f3a\"], [0.8888888888888888, \"#fdca26\"], [1.0, \"#f0f921\"]], \"type\": \"contour\"}], \"contourcarpet\": [{\"colorbar\": {\"outlinewidth\": 0, \"ticks\": \"\"}, \"type\": \"contourcarpet\"}], \"heatmap\": [{\"colorbar\": {\"outlinewidth\": 0, \"ticks\": \"\"}, \"colorscale\": [[0.0, \"#0d0887\"], [0.1111111111111111, \"#46039f\"], [0.2222222222222222, \"#7201a8\"], [0.3333333333333333, \"#9c179e\"], [0.4444444444444444, \"#bd3786\"], [0.5555555555555556, \"#d8576b\"], [0.6666666666666666, \"#ed7953\"], [0.7777777777777778, \"#fb9f3a\"], [0.8888888888888888, \"#fdca26\"], [1.0, \"#f0f921\"]], \"type\": \"heatmap\"}], \"heatmapgl\": [{\"colorbar\": {\"outlinewidth\": 0, \"ticks\": \"\"}, \"colorscale\": [[0.0, \"#0d0887\"], [0.1111111111111111, \"#46039f\"], [0.2222222222222222, \"#7201a8\"], [0.3333333333333333, \"#9c179e\"], [0.4444444444444444, \"#bd3786\"], [0.5555555555555556, \"#d8576b\"], [0.6666666666666666, \"#ed7953\"], [0.7777777777777778, \"#fb9f3a\"], [0.8888888888888888, \"#fdca26\"], [1.0, \"#f0f921\"]], \"type\": \"heatmapgl\"}], \"histogram\": [{\"marker\": {\"colorbar\": {\"outlinewidth\": 0, \"ticks\": \"\"}}, \"type\": \"histogram\"}], \"histogram2d\": [{\"colorbar\": {\"outlinewidth\": 0, \"ticks\": \"\"}, \"colorscale\": [[0.0, \"#0d0887\"], [0.1111111111111111, \"#46039f\"], [0.2222222222222222, \"#7201a8\"], [0.3333333333333333, \"#9c179e\"], [0.4444444444444444, \"#bd3786\"], [0.5555555555555556, \"#d8576b\"], [0.6666666666666666, \"#ed7953\"], [0.7777777777777778, \"#fb9f3a\"], [0.8888888888888888, \"#fdca26\"], [1.0, \"#f0f921\"]], \"type\": \"histogram2d\"}], \"histogram2dcontour\": [{\"colorbar\": {\"outlinewidth\": 0, \"ticks\": \"\"}, \"colorscale\": [[0.0, \"#0d0887\"], [0.1111111111111111, \"#46039f\"], [0.2222222222222222, \"#7201a8\"], [0.3333333333333333, \"#9c179e\"], [0.4444444444444444, \"#bd3786\"], [0.5555555555555556, \"#d8576b\"], [0.6666666666666666, \"#ed7953\"], [0.7777777777777778, \"#fb9f3a\"], [0.8888888888888888, \"#fdca26\"], [1.0, \"#f0f921\"]], \"type\": \"histogram2dcontour\"}], \"mesh3d\": [{\"colorbar\": {\"outlinewidth\": 0, \"ticks\": \"\"}, \"type\": \"mesh3d\"}], \"parcoords\": [{\"line\": {\"colorbar\": {\"outlinewidth\": 0, \"ticks\": \"\"}}, \"type\": \"parcoords\"}], \"pie\": [{\"automargin\": true, \"type\": \"pie\"}], \"scatter\": [{\"marker\": {\"colorbar\": {\"outlinewidth\": 0, \"ticks\": \"\"}}, \"type\": \"scatter\"}], \"scatter3d\": [{\"line\": {\"colorbar\": {\"outlinewidth\": 0, \"ticks\": \"\"}}, \"marker\": {\"colorbar\": {\"outlinewidth\": 0, \"ticks\": \"\"}}, \"type\": \"scatter3d\"}], \"scattercarpet\": [{\"marker\": {\"colorbar\": {\"outlinewidth\": 0, \"ticks\": \"\"}}, \"type\": \"scattercarpet\"}], \"scattergeo\": [{\"marker\": {\"colorbar\": {\"outlinewidth\": 0, \"ticks\": \"\"}}, \"type\": \"scattergeo\"}], \"scattergl\": [{\"marker\": {\"colorbar\": {\"outlinewidth\": 0, \"ticks\": \"\"}}, \"type\": \"scattergl\"}], \"scattermapbox\": [{\"marker\": {\"colorbar\": {\"outlinewidth\": 0, \"ticks\": \"\"}}, \"type\": \"scattermapbox\"}], \"scatterpolar\": [{\"marker\": {\"colorbar\": {\"outlinewidth\": 0, \"ticks\": \"\"}}, \"type\": \"scatterpolar\"}], \"scatterpolargl\": [{\"marker\": {\"colorbar\": {\"outlinewidth\": 0, \"ticks\": \"\"}}, \"type\": \"scatterpolargl\"}], \"scatterternary\": [{\"marker\": {\"colorbar\": {\"outlinewidth\": 0, \"ticks\": \"\"}}, \"type\": \"scatterternary\"}], \"surface\": [{\"colorbar\": {\"outlinewidth\": 0, \"ticks\": \"\"}, \"colorscale\": [[0.0, \"#0d0887\"], [0.1111111111111111, \"#46039f\"], [0.2222222222222222, \"#7201a8\"], [0.3333333333333333, \"#9c179e\"], [0.4444444444444444, \"#bd3786\"], [0.5555555555555556, \"#d8576b\"], [0.6666666666666666, \"#ed7953\"], [0.7777777777777778, \"#fb9f3a\"], [0.8888888888888888, \"#fdca26\"], [1.0, \"#f0f921\"]], \"type\": \"surface\"}], \"table\": [{\"cells\": {\"fill\": {\"color\": \"#EBF0F8\"}, \"line\": {\"color\": \"white\"}}, \"header\": {\"fill\": {\"color\": \"#C8D4E3\"}, \"line\": {\"color\": \"white\"}}, \"type\": \"table\"}]}, \"layout\": {\"annotationdefaults\": {\"arrowcolor\": \"#2a3f5f\", \"arrowhead\": 0, \"arrowwidth\": 1}, \"autotypenumbers\": \"strict\", \"coloraxis\": {\"colorbar\": {\"outlinewidth\": 0, \"ticks\": \"\"}}, \"colorscale\": {\"diverging\": [[0, \"#8e0152\"], [0.1, \"#c51b7d\"], [0.2, \"#de77ae\"], [0.3, \"#f1b6da\"], [0.4, \"#fde0ef\"], [0.5, \"#f7f7f7\"], [0.6, \"#e6f5d0\"], [0.7, \"#b8e186\"], [0.8, \"#7fbc41\"], [0.9, \"#4d9221\"], [1, \"#276419\"]], \"sequential\": [[0.0, \"#0d0887\"], [0.1111111111111111, \"#46039f\"], [0.2222222222222222, \"#7201a8\"], [0.3333333333333333, \"#9c179e\"], [0.4444444444444444, \"#bd3786\"], [0.5555555555555556, \"#d8576b\"], [0.6666666666666666, \"#ed7953\"], [0.7777777777777778, \"#fb9f3a\"], [0.8888888888888888, \"#fdca26\"], [1.0, \"#f0f921\"]], \"sequentialminus\": [[0.0, \"#0d0887\"], [0.1111111111111111, \"#46039f\"], [0.2222222222222222, \"#7201a8\"], [0.3333333333333333, \"#9c179e\"], [0.4444444444444444, \"#bd3786\"], [0.5555555555555556, \"#d8576b\"], [0.6666666666666666, \"#ed7953\"], [0.7777777777777778, \"#fb9f3a\"], [0.8888888888888888, \"#fdca26\"], [1.0, \"#f0f921\"]]}, \"colorway\": [\"#636efa\", \"#EF553B\", \"#00cc96\", \"#ab63fa\", \"#FFA15A\", \"#19d3f3\", \"#FF6692\", \"#B6E880\", \"#FF97FF\", \"#FECB52\"], \"font\": {\"color\": \"#2a3f5f\"}, \"geo\": {\"bgcolor\": \"white\", \"lakecolor\": \"white\", \"landcolor\": \"#E5ECF6\", \"showlakes\": true, \"showland\": true, \"subunitcolor\": \"white\"}, \"hoverlabel\": {\"align\": \"left\"}, \"hovermode\": \"closest\", \"mapbox\": {\"style\": \"light\"}, \"paper_bgcolor\": \"white\", \"plot_bgcolor\": \"#E5ECF6\", \"polar\": {\"angularaxis\": {\"gridcolor\": \"white\", \"linecolor\": \"white\", \"ticks\": \"\"}, \"bgcolor\": \"#E5ECF6\", \"radialaxis\": {\"gridcolor\": \"white\", \"linecolor\": \"white\", \"ticks\": \"\"}}, \"scene\": {\"xaxis\": {\"backgroundcolor\": \"#E5ECF6\", \"gridcolor\": \"white\", \"gridwidth\": 2, \"linecolor\": \"white\", \"showbackground\": true, \"ticks\": \"\", \"zerolinecolor\": \"white\"}, \"yaxis\": {\"backgroundcolor\": \"#E5ECF6\", \"gridcolor\": \"white\", \"gridwidth\": 2, \"linecolor\": \"white\", \"showbackground\": true, \"ticks\": \"\", \"zerolinecolor\": \"white\"}, \"zaxis\": {\"backgroundcolor\": \"#E5ECF6\", \"gridcolor\": \"white\", \"gridwidth\": 2, \"linecolor\": \"white\", \"showbackground\": true, \"ticks\": \"\", \"zerolinecolor\": \"white\"}}, \"shapedefaults\": {\"line\": {\"color\": \"#2a3f5f\"}}, \"ternary\": {\"aaxis\": {\"gridcolor\": \"white\", \"linecolor\": \"white\", \"ticks\": \"\"}, \"baxis\": {\"gridcolor\": \"white\", \"linecolor\": \"white\", \"ticks\": \"\"}, \"bgcolor\": \"#E5ECF6\", \"caxis\": {\"gridcolor\": \"white\", \"linecolor\": \"white\", \"ticks\": \"\"}}, \"title\": {\"x\": 0.05}, \"xaxis\": {\"automargin\": true, \"gridcolor\": \"white\", \"linecolor\": \"white\", \"ticks\": \"\", \"title\": {\"standoff\": 15}, \"zerolinecolor\": \"white\", \"zerolinewidth\": 2}, \"yaxis\": {\"automargin\": true, \"gridcolor\": \"white\", \"linecolor\": \"white\", \"ticks\": \"\", \"title\": {\"standoff\": 15}, \"zerolinecolor\": \"white\", \"zerolinewidth\": 2}}}, \"xaxis\": {\"anchor\": \"y\", \"domain\": [0.0, 1.0], \"title\": {\"text\": \"CO2_Emissions\"}}, \"yaxis\": {\"anchor\": \"x\", \"domain\": [0.0, 1.0], \"title\": {\"text\": \"Renewable_Electricity\"}}},                        {\"responsive\": true}                    ).then(function(){\n",
       "                            \n",
       "var gd = document.getElementById('89410e69-50e0-4645-a0d6-ea95905780ec');\n",
       "var x = new MutationObserver(function (mutations, observer) {{\n",
       "        var display = window.getComputedStyle(gd).display;\n",
       "        if (!display || display === 'none') {{\n",
       "            console.log([gd, 'removed!']);\n",
       "            Plotly.purge(gd);\n",
       "            observer.disconnect();\n",
       "        }}\n",
       "}});\n",
       "\n",
       "// Listen for the removal of the full notebook cells\n",
       "var notebookContainer = gd.closest('#notebook-container');\n",
       "if (notebookContainer) {{\n",
       "    x.observe(notebookContainer, {childList: true});\n",
       "}}\n",
       "\n",
       "// Listen for the clearing of the current output cell\n",
       "var outputEl = gd.closest('.output');\n",
       "if (outputEl) {{\n",
       "    x.observe(outputEl, {childList: true});\n",
       "}}\n",
       "\n",
       "                        })                };                });            </script>        </div>"
      ]
     },
     "metadata": {},
     "output_type": "display_data"
    }
   ],
   "source": [
    "import plotly.express as px\n",
    "px.scatter(df, x='CO2_Emissions', y='Renewable_Electricity', trendline=\"ols\")"
   ]
  },
  {
   "cell_type": "markdown",
   "metadata": {},
   "source": [
    "#### Overplotting\n",
    "\n",
    "https://www.python-graph-gallery.com/134-how-to-avoid-overplotting-with-python"
   ]
  },
  {
   "cell_type": "code",
   "execution_count": 17,
   "metadata": {},
   "outputs": [
    {
     "data": {
      "image/png": "[encoded data removed]",
      "text/plain": [
       "<Figure size 432x288 with 1 Axes>"
      ]
     },
     "metadata": {
      "needs_background": "light"
     },
     "output_type": "display_data"
    }
   ],
   "source": [
    "# libraries\n",
    "import matplotlib.pyplot as plt\n",
    "import seaborn as sns\n",
    " \n",
    "# 2D density plot:\n",
    "sns.kdeplot(data = df, x='Renewable_Electricity', y='Laws_Policy', cmap=\"Reds\", shade=True)\n",
    "plt.title('Laws vs Emissions', loc='left')\n",
    "plt.show()"
   ]
  },
  {
   "cell_type": "markdown",
   "metadata": {},
   "source": [
    "## **2. Heatmap**:\n",
    "A heatmap is a graphical representation of data where each value of a matrix is represented as a color"
   ]
  },
  {
   "cell_type": "markdown",
   "metadata": {},
   "source": [
    "### What for\n",
    "\n",
    "Heatmap is really useful to display a general view of numerical data, not to extract specific data point. "
   ]
  },
  {
   "cell_type": "code",
   "execution_count": 5,
   "metadata": {},
   "outputs": [
    {
     "data": {
      "text/plain": [
       "<matplotlib.axes._subplots.AxesSubplot at 0x7fb317376850>"
      ]
     },
     "execution_count": 5,
     "metadata": {},
     "output_type": "execute_result"
    },
    {
     "data": {
      "image/png": "[encoded data removed]",
      "text/plain": [
       "<Figure size 432x288 with 2 Axes>"
      ]
     },
     "metadata": {
      "needs_background": "light"
     },
     "output_type": "display_data"
    }
   ],
   "source": [
    "import numpy as np\n",
    "\n",
    "# Create a dataset\n",
    "dummy_data = pd.DataFrame(np.random.random((5,5)), columns=[\"a\",\"b\",\"c\",\"d\",\"e\"])\n",
    "\n",
    "# Default heatmap\n",
    "sns.heatmap(dummy_data)"
   ]
  },
  {
   "cell_type": "markdown",
   "metadata": {},
   "source": [
    "### Variation\n",
    "\n",
    "- For static heatmap, a common practice is to display the exact value of each cell in numbers. Indeed, it is hard to translate a color in a precise number.\n",
    "- Heatmaps can also be used for time series where there is a regular pattern in time.\n",
    "- Heatmaps can be applied to adjacency matrix."
   ]
  },
  {
   "cell_type": "markdown",
   "metadata": {},
   "source": [
    "### Normalization\n",
    "\n",
    "https://www.python-graph-gallery.com/94-use-normalization-on-seaborn-heatmap"
   ]
  },
  {
   "cell_type": "code",
   "execution_count": 6,
   "metadata": {},
   "outputs": [],
   "source": [
    "df_numeric = df._get_numeric_data()"
   ]
  },
  {
   "cell_type": "code",
   "execution_count": 7,
   "metadata": {},
   "outputs": [
    {
     "data": {
      "image/png": "[encoded data removed]",
      "text/plain": [
       "<Figure size 432x288 with 2 Axes>"
      ]
     },
     "metadata": {
      "needs_background": "light"
     },
     "output_type": "display_data"
    }
   ],
   "source": [
    "import matplotlib.pyplot as plt\n",
    "\n",
    "correlation_matix = df_numeric.corr()\n",
    "\n",
    "sns.heatmap(correlation_matix, annot = True, cmap='viridis')\n",
    "\n",
    "plt.show()"
   ]
  },
  {
   "cell_type": "markdown",
   "metadata": {},
   "source": [
    "## **3. Correlogram**\n",
    "A correlogram is a type of correlation matrix that allows to analyse the relationship between each pair of numeric variables of a matrix. \n",
    "\n",
    "The relationship between each pair of variable is visualised through a scatterplot.\n",
    "\n",
    "The diagonal represents the distribution of each variable with a histogram or a density plot.  "
   ]
  },
  {
   "cell_type": "markdown",
   "metadata": {},
   "source": [
    "#### What for\n",
    "\n",
    "Correlogram are really handy for exploratory analysis. It allows to visualize the relationships of the whole dataset in a glimpse. For instance, the linear relationship between petal length and petal width is obvious here, as the one concerning sepal.  \n",
    "\n",
    "When you get a multivariate dataset, building a correlogram is one of the first step you should follow."
   ]
  },
  {
   "cell_type": "code",
   "execution_count": 8,
   "metadata": {},
   "outputs": [
    {
     "data": {
      "image/png": "[encoded data removed]",
      "text/plain": [
       "<Figure size 1260x1260 with 56 Axes>"
      ]
     },
     "metadata": {
      "needs_background": "light"
     },
     "output_type": "display_data"
    }
   ],
   "source": [
    "import seaborn as sns\n",
    " \n",
    "# Basic correlogram\n",
    "sns_plot = sns.pairplot(df_numeric, kind='reg')"
   ]
  },
  {
   "cell_type": "markdown",
   "metadata": {},
   "source": [
    "#### Variation\n",
    "\n",
    "All the variations described in the scatterplot section are also available for correlogram. For example, why not applying a linear regression to each pair of variable:\n",
    "\n",
    "**Note:** Displaying the relationship between more than ~10 variables makes the plot very hard to read"
   ]
  },
  {
   "cell_type": "markdown",
   "metadata": {},
   "source": [
    "https://www.python-graph-gallery.com/correlogram/"
   ]
  },
  {
   "cell_type": "code",
   "execution_count": 53,
   "metadata": {},
   "outputs": [
    {
     "data": {
      "application/vnd.plotly.v1+json": {
       "config": {
        "plotlyServerURL": "https://plot.ly"
       },
       "data": [
        {
         "dimensions": [
          {
           "axis": {
            "matches": true
           },
           "label": "Renewable_Electricity",
           "values": [
            78.00394294496718,
            67.34158119498379,
            98.5129484787615,
            90.01227990629347,
            0.038990038964070835,
            32.80665238042174,
            30.497225667692067,
            0.19945161992905067,
            9.75938989906673,
            69.55327429904759,
            10.506150138921068,
            93.90027155409462,
            7.232732431082119,
            1.5567671298334134,
            16.94572387576195,
            2.539600496671641,
            9.809483956565527,
            0,
            0,
            40.127127717138926,
            0.34215299844914215,
            62.18350789962576,
            40.15640090066587,
            83.77347971235714,
            0,
            0.01613467105370488,
            99.9744071388216,
            0.012352022362061572,
            85.85314523732104,
            61.0382575280321,
            56.47834777103738,
            46.17086572986763,
            18.176859691116686,
            29.915649005816995,
            82.71289416881648,
            99.50912269233196,
            73.11001129178639,
            null,
            77.45895940095942,
            0,
            7.23939489824406,
            94.5394378283807,
            4.2570494994727515,
            2.341121276304004,
            6.175578858256368,
            15.780589847842647,
            0,
            25.026008649497516,
            32.69577538827671,
            13.12639304478689,
            0.6825948718957515,
            55.2860222363463,
            11.554085231065669,
            0.5354613964182275,
            25.249095921053346,
            5.171660219869744,
            97.75431132429743,
            null,
            32.453799237957035,
            53.76528657476351,
            13.103366286707923,
            0.7192006853247671,
            50.75499667386179,
            8.323028076298277,
            83.2412363499171,
            69.6060239744141,
            64.88826605199891,
            0,
            0,
            24.516814855080046,
            14.171297808986937,
            0,
            55.10673914961539,
            0,
            41.68883096319005,
            54.02998809941284,
            31.838963610281603,
            5.792456536781954,
            13.231362790347237,
            15.696495470342368,
            13.352661340671325,
            5.789984911821242,
            8.085440369050469,
            99.96727640342846,
            0.4399141707539416,
            24.543922442972228,
            6.324005540575088,
            0.573997545131833,
            10.461561566224342,
            10.493561307406711,
            72.28288591978544,
            88.51871661979199,
            17.187511946812684,
            0.48484848484848464,
            1.4668585659087034,
            1.2950174641383563,
            0,
            97.2373378122517,
            5.580143879396023,
            0,
            0,
            0,
            57.03146097871128,
            42.74105405170349,
            100,
            14.374439116606732,
            11.864456972476201,
            60.00059564150938,
            10.0315586665056,
            0,
            6.17381488573172,
            55.152927921755435,
            0.2311356031363712,
            15.024330167910986,
            0.06670234637652013,
            20.991830580442503,
            51.043836933034136,
            0.9473226723453846,
            57.89630644865609,
            43.18386660515929,
            0.5292700003913874,
            98.1943859298617,
            1.5487745866038347,
            23.75063152419223,
            88.73299885637111,
            7.578693274537373,
            97.17694416421782,
            0.5833207305159319,
            26.93605629370992,
            35.285990595529974,
            null,
            8.416978676752494,
            98.33323725518609,
            99.6620795497968,
            0.3063484824195373,
            70.39786932962457,
            0,
            30.838291622433456,
            58.90267239381889,
            65.65348371429907,
            31.159522290861954,
            0,
            34.43929184459832,
            5.880559361725716,
            62.38925840882104,
            38.88691865869342,
            99.99825458333618,
            0,
            0,
            30.266046246531165,
            17.181465395771305,
            53.35329020378905,
            8.909654033399906e-05,
            51.62673956750494,
            10.985876890951499,
            1.381243289462264,
            0.3060126104935153,
            45.07566703085817,
            58.285760950501235,
            0,
            29.12982599853153,
            0.125937579162726,
            14.216007040267097,
            68.60486038265779,
            17.81287186832531,
            27.231549482229244,
            53.16596330670218,
            42.190049651026726,
            0.4328636488376007,
            9.01587792573782,
            0,
            64.47939644789935,
            7.161333701185808,
            98.9665148054628,
            0,
            0,
            0.9553991267161847,
            0.21364378318615404,
            1.4526849772270571,
            24.56454726879922,
            1.8779342723004668,
            null,
            56.33696715810322,
            83.87553951943836,
            6.152505816831364,
            82.1035764806288,
            10.107331157854155,
            18.268193904873122,
            18.426770769954008,
            69.26879325726921,
            40.12699786555706,
            10.33564157769945,
            40.526241213069504,
            2.088646131551191,
            0,
            0.9013201970461011,
            99.33797086822361,
            59.40986277190182
           ]
          },
          {
           "axis": {
            "matches": true
           },
           "label": "CO2_Emissions",
           "values": [
            0.17782115530970208,
            1.1114820471068585,
            1.4966555761315012,
            6.55314867011666,
            23.690395881394238,
            4.3178530419083865,
            1.5586347880991693,
            5.498547456982731,
            16.987532150800348,
            7.97452026083769,
            3.8059821550186497,
            0.03274115657062262,
            9.654916141011887,
            0.45544344257054953,
            0.12612065898679273,
            0.3704348449961353,
            6.124434559485568,
            22.817951691359237,
            5.8727380773391005,
            5.125243965824539,
            6.229280318410194,
            1.5784630432850653,
            1.5052535260731874,
            2.0918741163885133,
            4.894202158908935,
            18.32735639298981,
            0.8923189895144292,
            2.406104856726145,
            0.062260795481411016,
            16.22762426490422,
            5.101658911644077,
            4.161968909022787,
            5.636138088091285,
            0.3978126965820942,
            0.2729699192902552,
            0.031362890115889774,
            0.4314005551352125,
            null,
            1.620104674724513,
            0.2105207545540268,
            0.931258677164136,
            1.6320987056771394,
            2.4603145522502787,
            6.7638149114876756,
            10.839774328744763,
            9.451853654368843,
            0.581700322503143,
            2.173332673455264,
            8.09765598162577,
            2.2297020994241765,
            3.2504871468535885,
            2.2942893651243734,
            2.3186540219332628,
            0.21116193421931864,
            6.607004311460694,
            12.63753052037613,
            0.08749096138916627,
            null,
            10.561581260216476,
            1.4805109356377655,
            5.612606946830772,
            1.2567667761242152,
            3.0566261015317377,
            7.910350931733133,
            1.7157045443337802,
            0.43894386229660254,
            0.22441330146760216,
            0.2272871463795203,
            0.1535558558935036,
            8.10497792240874,
            7.801107615961046,
            2.272221172414844,
            0.888899295584993,
            2.2926688747992503,
            1.0148848884603952,
            4.778506322267194,
            0.2288764015428641,
            5.125767371375093,
            1.7019052840516433,
            1.3384831125855037,
            9.234362384112714,
            7.362651746468224,
            4.040334212547377,
            6.732002920419756,
            8.732489120360922,
            7.252010592180242,
            3.2559785048500665,
            3.131872547458756,
            9.456226313151157,
            13.03334429147991,
            0.27739577142462707,
            1.3327476936701301,
            0.3192527580780086,
            0.5450478919890911,
            4.445453644113763,
            10.701662483765265,
            28.33341909874363,
            0.5865848168706469,
            3.7582140628725695,
            0.20206348400737711,
            8.737595938510594,
            2.2431517864987973,
            1.5532396385803167,
            0.7055935368910167,
            1.0812101260583686,
            4.266996156808922,
            20.799002386700348,
            3.449830832791949,
            1.5953299353505246,
            null,
            1.6406742923794562,
            0.10945022482705852,
            2.4023325373064752,
            4.196780752647404,
            2.281472375233945,
            4.587235725466015,
            0.11793089293329727,
            5.8249134505207865,
            0.2657117264767746,
            3.504983766350206,
            6.3162067020683965,
            0.1407596330542993,
            0.597659654645299,
            2.9515484466697446,
            0.07412444806915501,
            7.198032337378212,
            1.3371470564138148,
            0.07225128202285007,
            0.6965338570497603,
            0.8005715808415179,
            null,
            10.73730961848952,
            9.471477685405775,
            0.1740467277613279,
            5.02953184281837,
            7.895569810028502,
            14.306229116167561,
            0.8883210572480151,
            2.3754454074220783,
            1.464038037546708,
            0.9222094932428767,
            11.747538965394764,
            0.7093965578695348,
            7.965864122254611,
            2.244728984829033,
            5.243467660441585,
            0.7844460951645382,
            0.5998302474438729,
            49.42325330355296,
            4.214968331140608,
            11.616413535726407,
            0.06681491670784606,
            17.239743645920015,
            0.40219375025751225,
            0.5368798679812536,
            8.989258471214066,
            0.3429000522288399,
            0.13058634821481932,
            1.06357112837428,
            null,
            6.623347923453635,
            0.15157588889773732,
            0.5154483430094325,
            3.6497549403838043,
            6.665774465183576,
            7.3840200922824275,
            5.257297064060918,
            1.0423158693272554,
            6.4034034786857,
            2.553610393120845,
            0.07341162547606768,
            0.3149449759871537,
            3.654083845643739,
            0.40213715705575276,
            10.987263644373249,
            0.2534488859004778,
            1.1257145930410632,
            31.099709392856028,
            2.385876108748497,
            3.935742860472086,
            0.9741459234167902,
            null,
            0.1636201349575945,
            0.101968387615286,
            6.277141852960065,
            1.9596144873392731,
            17.926146774188876,
            4.136367908320371,
            2.0336784392867435,
            6.392996769495219,
            1.4118904717388292,
            0.43993509966486566,
            0.9911368313376113,
            4.5456179992125065,
            0.8912156353286169,
            8.931154494266467,
            0.2152755133806234,
            0.7986063994298023
           ]
          },
          {
           "axis": {
            "matches": true
           },
           "label": "Laws_Policy",
           "values": [
            14,
            21,
            3,
            8,
            6,
            18,
            8,
            6,
            18,
            11,
            4,
            4,
            12,
            3,
            12,
            13,
            12,
            2,
            4,
            1,
            15,
            3,
            16,
            35,
            4,
            4,
            13,
            5,
            2,
            18,
            9,
            27,
            9,
            14,
            5,
            5,
            7,
            4,
            27,
            1,
            7,
            25,
            10,
            2,
            10,
            26,
            8,
            8,
            16,
            11,
            13,
            15,
            7,
            2,
            46,
            4,
            13,
            42,
            14,
            8,
            29,
            4,
            7,
            26,
            2,
            9,
            3,
            6,
            2,
            1,
            18,
            7,
            8,
            3,
            9,
            17,
            2,
            15,
            32,
            18,
            22,
            12,
            1,
            8,
            20,
            31,
            5,
            3,
            26,
            11,
            14,
            7,
            24,
            12,
            4,
            28,
            2,
            5,
            4,
            8,
            2,
            5,
            6,
            14,
            6,
            3,
            16,
            4,
            15,
            2,
            6,
            10,
            8,
            18,
            5,
            5,
            26,
            9,
            14,
            6,
            12,
            12,
            3,
            6,
            11,
            7,
            11,
            4,
            9,
            13,
            8,
            19,
            18,
            17,
            5,
            11,
            5,
            13,
            13,
            16,
            26,
            8,
            13,
            17,
            5,
            22,
            14,
            6,
            2,
            16,
            11,
            11,
            3,
            1,
            17,
            11,
            7,
            8,
            10,
            3,
            5,
            2,
            2,
            3,
            18,
            8,
            13,
            4,
            7,
            4,
            3,
            14,
            11,
            8,
            1,
            6,
            7,
            6,
            4,
            17,
            10,
            6,
            15,
            7,
            17,
            17,
            16,
            7,
            3,
            4,
            26,
            9,
            10,
            1,
            6,
            15,
            17,
            12
           ]
          },
          {
           "axis": {
            "matches": true
           },
           "label": "Energy",
           "values": [
            2,
            1.6666666666666667,
            6,
            5.625,
            3,
            4.055555555555555,
            2.625,
            3.5,
            4.944444444444445,
            3.909090909090909,
            1.75,
            1.75,
            3.75,
            0.6666666666666666,
            0.8333333333333334,
            5.230769230769231,
            7.833333333333333,
            2,
            4.5,
            10,
            7.8,
            3.3333333333333335,
            0.8125,
            1.9714285714285715,
            3.75,
            2.5,
            1.3846153846153846,
            3,
            0.5,
            1.6111111111111112,
            3.4444444444444446,
            2.5925925925925926,
            5.888888888888889,
            1.4285714285714286,
            2.8,
            1.6,
            1.4285714285714286,
            2.75,
            3.3703703703703702,
            7,
            1.8571428571428572,
            2.12,
            2.7,
            7.5,
            7,
            4.115384615384615,
            4.125,
            2,
            3.0625,
            1.4545454545454546,
            6.461538461538462,
            3,
            3.5714285714285716,
            2,
            3.4782608695652173,
            6.25,
            2.076923076923077,
            3.9761904761904763,
            3.4285714285714284,
            1.875,
            4.689655172413793,
            9.25,
            0.2857142857142857,
            3.1153846153846154,
            0.5,
            4.444444444444445,
            1.3333333333333333,
            2.3333333333333335,
            2,
            0,
            4.333333333333333,
            5,
            4.875,
            2,
            2.5555555555555554,
            2.588235294117647,
            3,
            7.2,
            3.03125,
            3.3333333333333335,
            6.636363636363637,
            4.583333333333333,
            2,
            3,
            3.25,
            4.870967741935484,
            6.6,
            9.333333333333334,
            3.769230769230769,
            5.090909090909091,
            1.8571428571428572,
            3.5714285714285716,
            1.2083333333333333,
            1.75,
            3.5,
            3.8214285714285716,
            2,
            1.8,
            3.25,
            2.625,
            6.5,
            2.2,
            4.333333333333333,
            2.5714285714285716,
            1.1666666666666667,
            7,
            3.4375,
            5,
            4.4,
            6.5,
            3.5,
            0.6,
            3,
            4.777777777777778,
            2.8,
            3.8,
            0.8461538461538461,
            3.6666666666666665,
            1,
            2.5,
            4.416666666666667,
            4.333333333333333,
            2.3333333333333335,
            5,
            1.7272727272727273,
            3.7142857142857144,
            1.9090909090909092,
            1.25,
            2.5555555555555554,
            2,
            2.875,
            4.052631578947368,
            1.7222222222222223,
            1.7647058823529411,
            4.4,
            3.272727272727273,
            0.2,
            4.384615384615385,
            2.076923076923077,
            3,
            2.1923076923076925,
            4.125,
            2.4615384615384617,
            5.823529411764706,
            3.8,
            3.272727272727273,
            1.3571428571428572,
            3.8333333333333335,
            2.5,
            3.6875,
            6.7272727272727275,
            2.090909090909091,
            5.666666666666667,
            1,
            2.0588235294117645,
            4.636363636363637,
            1.7142857142857142,
            1,
            2.1,
            4.666666666666667,
            7,
            0.5,
            1,
            3.6666666666666665,
            5.944444444444445,
            2.625,
            3.6923076923076925,
            2.75,
            2.142857142857143,
            3.75,
            0,
            0.5,
            6.636363636363637,
            10,
            2,
            0.3333333333333333,
            2.857142857142857,
            3.3333333333333335,
            1,
            5.823529411764706,
            3,
            3.5,
            3.2666666666666666,
            5.714285714285714,
            7,
            1.0588235294117647,
            6.1875,
            5,
            4,
            2,
            2.576923076923077,
            1.8888888888888888,
            2.1,
            4,
            1,
            3.2666666666666666,
            1.4705882352941178,
            3.5
           ]
          }
         ],
         "hovertemplate": "<b>%{hovertext}</b><br><br>%{xaxis.title.text}=%{x}<br>%{yaxis.title.text}=%{y}<br>Emergency_Sentiment=%{marker.color}<extra></extra>",
         "hovertext": [
          "Afghanistan",
          "Angola",
          "Albania",
          "Andorra",
          "United Arab Emirates",
          "Argentina",
          "Armenia",
          "Antigua and Barbuda",
          "Australia",
          "Austria",
          "Azerbaijan",
          "Burundi",
          "Belgium",
          "Benin",
          "Burkina Faso",
          "Bangladesh",
          "Bulgaria",
          "Bahrain",
          "Bahamas, The",
          "Bosnia and Herzegovina",
          "Belarus",
          "Belize",
          "Bolivia",
          "Brazil",
          "Barbados",
          "Brunei Darussalam",
          "Bhutan",
          "Botswana",
          "Central African Republic",
          "Canada",
          "Switzerland",
          "Chile",
          "China",
          "Côte d'Ivoire",
          "Cameroon",
          "Democratic Republic of Congo",
          "Congo",
          "Cook Islands",
          "Colombia",
          "Comoros",
          "Cabo Verde",
          "Costa Rica",
          "Cuba",
          "Cyprus",
          "Czechia",
          "Germany",
          "Djibouti",
          "Dominica",
          "Denmark",
          "Dominican Republic",
          "Algeria",
          "Ecuador",
          "Egypt",
          "Eritrea",
          "Spain",
          "Estonia",
          "Ethiopia",
          "European Union",
          "Finland",
          "Fiji",
          "France",
          "Micronesia",
          "Gabon",
          "United Kingdom",
          "Georgia",
          "Ghana",
          "Guinea",
          "Gambia",
          "Guinea-Bissau",
          "Equatorial Guinea",
          "Greece",
          "Grenada",
          "Guatemala",
          "Guyana",
          "Honduras",
          "Croatia",
          "Haiti",
          "Hungary",
          "Indonesia",
          "India",
          "Ireland",
          "Iran",
          "Iraq",
          "Iceland",
          "Israel",
          "Italy",
          "Jamaica",
          "Jordan",
          "Japan",
          "Kazakhstan",
          "Kenya",
          "Kyrgyzstan",
          "Cambodia",
          "Kiribati",
          "Saint Kitts and Nevis",
          "South Korea",
          "Kuwait",
          "Lao People's Democratic Republic",
          "Lebanon",
          "Liberia",
          "Libya",
          "Saint Lucia",
          "Liechtenstein",
          "Sri Lanka",
          "Lesotho",
          "Lithuania",
          "Luxembourg",
          "Latvia",
          "Morocco",
          "Monaco",
          "Moldova",
          "Madagascar",
          "Maldives",
          "Mexico",
          "Marshall Islands",
          "North Macedonia (Republic of North Macedonia)",
          "Mali",
          "Malta",
          "Myanmar",
          "Montenegro",
          "Mongolia",
          "Mozambique",
          "Mauritania",
          "Mauritius",
          "Malawi",
          "Malaysia",
          "Namibia",
          "Niger",
          "Nigeria",
          "Nicaragua",
          "Niue",
          "Netherlands",
          "Norway",
          "Nepal",
          "Nauru",
          "New Zealand",
          "Oman",
          "Pakistan",
          "Panama",
          "Peru",
          "Philippines",
          "Palau",
          "Papua New Guinea",
          "Poland",
          "Korea, North",
          "Portugal",
          "Paraguay",
          "Palestine",
          "Qatar",
          "Romania",
          "Russia",
          "Rwanda",
          "Saudi Arabia",
          "Sudan",
          "Senegal",
          "Singapore",
          "Solomon Islands",
          "Sierra Leone",
          "El Salvador",
          "San Marino",
          "Serbia",
          "South Sudan",
          "Sao Tome and Principe",
          "Suriname",
          "Slovakia",
          "Slovenia",
          "Sweden",
          "Eswatini",
          "Seychelles",
          "Syria",
          "Chad",
          "Togo",
          "Thailand",
          "Tajikistan",
          "Turkmenistan",
          "Timor-Leste",
          "Tonga",
          "Trinidad and Tobago",
          "Tunisia",
          "Turkey",
          "Tuvalu",
          "Taiwan",
          "Tanzania",
          "Uganda",
          "Ukraine",
          "Uruguay",
          "United States of America",
          "Uzbekistan",
          "Saint Vincent and the Grenadines",
          "Venezuela",
          "Vietnam",
          "Vanuatu",
          "Samoa",
          "Kosovo",
          "Yemen",
          "South Africa",
          "Zambia",
          "Zimbabwe"
         ],
         "legendgroup": "",
         "marker": {
          "color": [
           -0.06462142857142858,
           0.27777619047619045,
           -0.3333333333333333,
           -0.125,
           -0.19999999999999998,
           0.08653333333333335,
           -0.10416249999999999,
           0.15476666666666666,
           -0.12208333333333332,
           -0.45454545454545453,
           -0.25,
           -0.25,
           0.3560583333333333,
           0.39999999999999997,
           0.09999999999999999,
           -0.11794615384615385,
           -0.045716666666666655,
           0.42855,
           -0.07142499999999999,
           -0.7778,
           -0.24342,
           -0.3111,
           0.38701874999999997,
           -0.08398857142857144,
           0.16667500000000002,
           -0.183325,
           -0.10897692307692308,
           0.1,
           0.5,
           0.1037,
           0.0836,
           -0.0448962962962963,
           -0.11764444444444444,
           0.21530714285714284,
           0.44000000000000006,
           0.2,
           0.047614285714285706,
           0,
           0.10502592592592591,
           -0.1111,
           0.1333285714285714,
           -0.23444400000000004,
           -0.16968999999999998,
           -0.5,
           -0.26667,
           -0.020300000000000002,
           0.125,
           -0.235125,
           -0.1511375,
           -0.1533909090909091,
           0.10256153846153845,
           -0.07070666666666667,
           0.09319999999999998,
           0.2857,
           0.07106086956521739,
           -0.25,
           -0.00705384615384618,
           -0.14039047619047618,
           -0.12449285714285716,
           -0.2833375,
           -0.14915172413793104,
           0.003799999999999998,
           0.011328571428571419,
           -0.39744230769230765,
           0.16665,
           -0.4250555555555555,
           0,
           -0.28465,
           0,
           -0.0769,
           -0.1642888888888889,
           0.19047142857142857,
           0.1337375,
           -0.4666666666666666,
           0.3518555555555556,
           -0.4117647058823529,
           0.33335000000000004,
           0.03174666666666667,
           -0.028121875000000008,
           -0.21666666666666667,
           -0.30419545454545455,
           -0.11944166666666667,
           0,
           -0.1875,
           -0.19026499999999996,
           -0.2914580645161291,
           -0.05000000000000001,
           -0.17776666666666666,
           0.21550769230769232,
           0.21211818181818182,
           0.2927142857142857,
           0.06802857142857142,
           -0.09538333333333332,
           -0.18430000000000002,
           -0.3,
           0.18911428571428573,
           -0.16665,
           -0.12142,
           -0.291675,
           -0.1927125,
           0,
           0.06666,
           -0.3,
           0.09642142857142856,
           -0.22221666666666665,
           -0.6666666666666666,
           -0.309825,
           -0.75,
           -0.18846,
           -0.33335000000000004,
           -0.3333333333333333,
           0.17778,
           0,
           0.08260555555555557,
           -0.24523999999999999,
           -0.2,
           0.13034615384615386,
           -0.37777777777777777,
           0.02607857142857145,
           -0.6666666666666666,
           0.11984166666666668,
           0.05288333333333334,
           0.19999999999999998,
           -0.31666666666666665,
           0.1338,
           0.047614285714285706,
           0.2636363636363636,
           -0.25,
           -0.1548888888888889,
           -0.04066153846153846,
           0.009612499999999996,
           -0.26165789473684203,
           0.24907222222222222,
           -0.2882352941176471,
           -0.2,
           -0.18181818181818182,
           0,
           0.06300000000000003,
           -0.32051538461538465,
           0.06339999999999998,
           -0.11981923076923079,
           0.033975000000000005,
           -0.3948692307692308,
           -0.11764705882352941,
           -0.26666,
           -0.05703181818181819,
           0.25105,
           0.05238333333333334,
           0.25,
           -0.40624999999999994,
           -0.45747272727272725,
           0.3982727272727273,
           -0.3333333333333333,
           1,
           0.36862941176470587,
           -0.19155454545454545,
           -0.047614285714285706,
           0.125,
           0.37143,
           0,
           -0.28076,
           0,
           0,
           -0.2381,
           -0.3169444444444444,
           -0.2833375,
           0.004276923076923084,
           -0.333325,
           -0.4095285714285714,
           -0.583325,
           0,
           0.11904285714285714,
           -0.10605454545454544,
           0.1361375,
           -0.5,
           0,
           -0.18095714285714287,
           0.05391666666666667,
           0,
           0.1823529411764706,
           0.24701000000000004,
           -0.3333333333333333,
           -0.04762000000000001,
           0.22669999999999996,
           -0.14379411764705882,
           0,
           -0.078575,
           -0.49784285714285714,
           0.22223333333333337,
           0,
           -0.06152307692307693,
           0.2373777777777778,
           -0.23537999999999998,
           0.4545,
           -0.16666666666666666,
           0.21391333333333332,
           0.11428823529411765,
           0.23397500000000002
          ],
          "coloraxis": "coloraxis",
          "symbol": "circle"
         },
         "name": "",
         "showlegend": false,
         "type": "splom"
        }
       ],
       "layout": {
        "coloraxis": {
         "colorbar": {
          "title": {
           "text": "Emergency_Sentiment"
          }
         },
         "colorscale": [
          [
           0,
           "#0d0887"
          ],
          [
           0.1111111111111111,
           "#46039f"
          ],
          [
           0.2222222222222222,
           "#7201a8"
          ],
          [
           0.3333333333333333,
           "#9c179e"
          ],
          [
           0.4444444444444444,
           "#bd3786"
          ],
          [
           0.5555555555555556,
           "#d8576b"
          ],
          [
           0.6666666666666666,
           "#ed7953"
          ],
          [
           0.7777777777777778,
           "#fb9f3a"
          ],
          [
           0.8888888888888888,
           "#fdca26"
          ],
          [
           1,
           "#f0f921"
          ]
         ]
        },
        "dragmode": "select",
        "legend": {
         "tracegroupgap": 0
        },
        "margin": {
         "t": 60
        },
        "template": {
         "data": {
          "bar": [
           {
            "error_x": {
             "color": "#2a3f5f"
            },
            "error_y": {
             "color": "#2a3f5f"
            },
            "marker": {
             "line": {
              "color": "#E5ECF6",
              "width": 0.5
             }
            },
            "type": "bar"
           }
          ],
          "barpolar": [
           {
            "marker": {
             "line": {
              "color": "#E5ECF6",
              "width": 0.5
             }
            },
            "type": "barpolar"
           }
          ],
          "carpet": [
           {
            "aaxis": {
             "endlinecolor": "#2a3f5f",
             "gridcolor": "white",
             "linecolor": "white",
             "minorgridcolor": "white",
             "startlinecolor": "#2a3f5f"
            },
            "baxis": {
             "endlinecolor": "#2a3f5f",
             "gridcolor": "white",
             "linecolor": "white",
             "minorgridcolor": "white",
             "startlinecolor": "#2a3f5f"
            },
            "type": "carpet"
           }
          ],
          "choropleth": [
           {
            "colorbar": {
             "outlinewidth": 0,
             "ticks": ""
            },
            "type": "choropleth"
           }
          ],
          "contour": [
           {
            "colorbar": {
             "outlinewidth": 0,
             "ticks": ""
            },
            "colorscale": [
             [
              0,
              "#0d0887"
             ],
             [
              0.1111111111111111,
              "#46039f"
             ],
             [
              0.2222222222222222,
              "#7201a8"
             ],
             [
              0.3333333333333333,
              "#9c179e"
             ],
             [
              0.4444444444444444,
              "#bd3786"
             ],
             [
              0.5555555555555556,
              "#d8576b"
             ],
             [
              0.6666666666666666,
              "#ed7953"
             ],
             [
              0.7777777777777778,
              "#fb9f3a"
             ],
             [
              0.8888888888888888,
              "#fdca26"
             ],
             [
              1,
              "#f0f921"
             ]
            ],
            "type": "contour"
           }
          ],
          "contourcarpet": [
           {
            "colorbar": {
             "outlinewidth": 0,
             "ticks": ""
            },
            "type": "contourcarpet"
           }
          ],
          "heatmap": [
           {
            "colorbar": {
             "outlinewidth": 0,
             "ticks": ""
            },
            "colorscale": [
             [
              0,
              "#0d0887"
             ],
             [
              0.1111111111111111,
              "#46039f"
             ],
             [
              0.2222222222222222,
              "#7201a8"
             ],
             [
              0.3333333333333333,
              "#9c179e"
             ],
             [
              0.4444444444444444,
              "#bd3786"
             ],
             [
              0.5555555555555556,
              "#d8576b"
             ],
             [
              0.6666666666666666,
              "#ed7953"
             ],
             [
              0.7777777777777778,
              "#fb9f3a"
             ],
             [
              0.8888888888888888,
              "#fdca26"
             ],
             [
              1,
              "#f0f921"
             ]
            ],
            "type": "heatmap"
           }
          ],
          "heatmapgl": [
           {
            "colorbar": {
             "outlinewidth": 0,
             "ticks": ""
            },
            "colorscale": [
             [
              0,
              "#0d0887"
             ],
             [
              0.1111111111111111,
              "#46039f"
             ],
             [
              0.2222222222222222,
              "#7201a8"
             ],
             [
              0.3333333333333333,
              "#9c179e"
             ],
             [
              0.4444444444444444,
              "#bd3786"
             ],
             [
              0.5555555555555556,
              "#d8576b"
             ],
             [
              0.6666666666666666,
              "#ed7953"
             ],
             [
              0.7777777777777778,
              "#fb9f3a"
             ],
             [
              0.8888888888888888,
              "#fdca26"
             ],
             [
              1,
              "#f0f921"
             ]
            ],
            "type": "heatmapgl"
           }
          ],
          "histogram": [
           {
            "marker": {
             "colorbar": {
              "outlinewidth": 0,
              "ticks": ""
             }
            },
            "type": "histogram"
           }
          ],
          "histogram2d": [
           {
            "colorbar": {
             "outlinewidth": 0,
             "ticks": ""
            },
            "colorscale": [
             [
              0,
              "#0d0887"
             ],
             [
              0.1111111111111111,
              "#46039f"
             ],
             [
              0.2222222222222222,
              "#7201a8"
             ],
             [
              0.3333333333333333,
              "#9c179e"
             ],
             [
              0.4444444444444444,
              "#bd3786"
             ],
             [
              0.5555555555555556,
              "#d8576b"
             ],
             [
              0.6666666666666666,
              "#ed7953"
             ],
             [
              0.7777777777777778,
              "#fb9f3a"
             ],
             [
              0.8888888888888888,
              "#fdca26"
             ],
             [
              1,
              "#f0f921"
             ]
            ],
            "type": "histogram2d"
           }
          ],
          "histogram2dcontour": [
           {
            "colorbar": {
             "outlinewidth": 0,
             "ticks": ""
            },
            "colorscale": [
             [
              0,
              "#0d0887"
             ],
             [
              0.1111111111111111,
              "#46039f"
             ],
             [
              0.2222222222222222,
              "#7201a8"
             ],
             [
              0.3333333333333333,
              "#9c179e"
             ],
             [
              0.4444444444444444,
              "#bd3786"
             ],
             [
              0.5555555555555556,
              "#d8576b"
             ],
             [
              0.6666666666666666,
              "#ed7953"
             ],
             [
              0.7777777777777778,
              "#fb9f3a"
             ],
             [
              0.8888888888888888,
              "#fdca26"
             ],
             [
              1,
              "#f0f921"
             ]
            ],
            "type": "histogram2dcontour"
           }
          ],
          "mesh3d": [
           {
            "colorbar": {
             "outlinewidth": 0,
             "ticks": ""
            },
            "type": "mesh3d"
           }
          ],
          "parcoords": [
           {
            "line": {
             "colorbar": {
              "outlinewidth": 0,
              "ticks": ""
             }
            },
            "type": "parcoords"
           }
          ],
          "pie": [
           {
            "automargin": true,
            "type": "pie"
           }
          ],
          "scatter": [
           {
            "marker": {
             "colorbar": {
              "outlinewidth": 0,
              "ticks": ""
             }
            },
            "type": "scatter"
           }
          ],
          "scatter3d": [
           {
            "line": {
             "colorbar": {
              "outlinewidth": 0,
              "ticks": ""
             }
            },
            "marker": {
             "colorbar": {
              "outlinewidth": 0,
              "ticks": ""
             }
            },
            "type": "scatter3d"
           }
          ],
          "scattercarpet": [
           {
            "marker": {
             "colorbar": {
              "outlinewidth": 0,
              "ticks": ""
             }
            },
            "type": "scattercarpet"
           }
          ],
          "scattergeo": [
           {
            "marker": {
             "colorbar": {
              "outlinewidth": 0,
              "ticks": ""
             }
            },
            "type": "scattergeo"
           }
          ],
          "scattergl": [
           {
            "marker": {
             "colorbar": {
              "outlinewidth": 0,
              "ticks": ""
             }
            },
            "type": "scattergl"
           }
          ],
          "scattermapbox": [
           {
            "marker": {
             "colorbar": {
              "outlinewidth": 0,
              "ticks": ""
             }
            },
            "type": "scattermapbox"
           }
          ],
          "scatterpolar": [
           {
            "marker": {
             "colorbar": {
              "outlinewidth": 0,
              "ticks": ""
             }
            },
            "type": "scatterpolar"
           }
          ],
          "scatterpolargl": [
           {
            "marker": {
             "colorbar": {
              "outlinewidth": 0,
              "ticks": ""
             }
            },
            "type": "scatterpolargl"
           }
          ],
          "scatterternary": [
           {
            "marker": {
             "colorbar": {
              "outlinewidth": 0,
              "ticks": ""
             }
            },
            "type": "scatterternary"
           }
          ],
          "surface": [
           {
            "colorbar": {
             "outlinewidth": 0,
             "ticks": ""
            },
            "colorscale": [
             [
              0,
              "#0d0887"
             ],
             [
              0.1111111111111111,
              "#46039f"
             ],
             [
              0.2222222222222222,
              "#7201a8"
             ],
             [
              0.3333333333333333,
              "#9c179e"
             ],
             [
              0.4444444444444444,
              "#bd3786"
             ],
             [
              0.5555555555555556,
              "#d8576b"
             ],
             [
              0.6666666666666666,
              "#ed7953"
             ],
             [
              0.7777777777777778,
              "#fb9f3a"
             ],
             [
              0.8888888888888888,
              "#fdca26"
             ],
             [
              1,
              "#f0f921"
             ]
            ],
            "type": "surface"
           }
          ],
          "table": [
           {
            "cells": {
             "fill": {
              "color": "#EBF0F8"
             },
             "line": {
              "color": "white"
             }
            },
            "header": {
             "fill": {
              "color": "#C8D4E3"
             },
             "line": {
              "color": "white"
             }
            },
            "type": "table"
           }
          ]
         },
         "layout": {
          "annotationdefaults": {
           "arrowcolor": "#2a3f5f",
           "arrowhead": 0,
           "arrowwidth": 1
          },
          "autotypenumbers": "strict",
          "coloraxis": {
           "colorbar": {
            "outlinewidth": 0,
            "ticks": ""
           }
          },
          "colorscale": {
           "diverging": [
            [
             0,
             "#8e0152"
            ],
            [
             0.1,
             "#c51b7d"
            ],
            [
             0.2,
             "#de77ae"
            ],
            [
             0.3,
             "#f1b6da"
            ],
            [
             0.4,
             "#fde0ef"
            ],
            [
             0.5,
             "#f7f7f7"
            ],
            [
             0.6,
             "#e6f5d0"
            ],
            [
             0.7,
             "#b8e186"
            ],
            [
             0.8,
             "#7fbc41"
            ],
            [
             0.9,
             "#4d9221"
            ],
            [
             1,
             "#276419"
            ]
           ],
           "sequential": [
            [
             0,
             "#0d0887"
            ],
            [
             0.1111111111111111,
             "#46039f"
            ],
            [
             0.2222222222222222,
             "#7201a8"
            ],
            [
             0.3333333333333333,
             "#9c179e"
            ],
            [
             0.4444444444444444,
             "#bd3786"
            ],
            [
             0.5555555555555556,
             "#d8576b"
            ],
            [
             0.6666666666666666,
             "#ed7953"
            ],
            [
             0.7777777777777778,
             "#fb9f3a"
            ],
            [
             0.8888888888888888,
             "#fdca26"
            ],
            [
             1,
             "#f0f921"
            ]
           ],
           "sequentialminus": [
            [
             0,
             "#0d0887"
            ],
            [
             0.1111111111111111,
             "#46039f"
            ],
            [
             0.2222222222222222,
             "#7201a8"
            ],
            [
             0.3333333333333333,
             "#9c179e"
            ],
            [
             0.4444444444444444,
             "#bd3786"
            ],
            [
             0.5555555555555556,
             "#d8576b"
            ],
            [
             0.6666666666666666,
             "#ed7953"
            ],
            [
             0.7777777777777778,
             "#fb9f3a"
            ],
            [
             0.8888888888888888,
             "#fdca26"
            ],
            [
             1,
             "#f0f921"
            ]
           ]
          },
          "colorway": [
           "#636efa",
           "#EF553B",
           "#00cc96",
           "#ab63fa",
           "#FFA15A",
           "#19d3f3",
           "#FF6692",
           "#B6E880",
           "#FF97FF",
           "#FECB52"
          ],
          "font": {
           "color": "#2a3f5f"
          },
          "geo": {
           "bgcolor": "white",
           "lakecolor": "white",
           "landcolor": "#E5ECF6",
           "showlakes": true,
           "showland": true,
           "subunitcolor": "white"
          },
          "hoverlabel": {
           "align": "left"
          },
          "hovermode": "closest",
          "mapbox": {
           "style": "light"
          },
          "paper_bgcolor": "white",
          "plot_bgcolor": "#E5ECF6",
          "polar": {
           "angularaxis": {
            "gridcolor": "white",
            "linecolor": "white",
            "ticks": ""
           },
           "bgcolor": "#E5ECF6",
           "radialaxis": {
            "gridcolor": "white",
            "linecolor": "white",
            "ticks": ""
           }
          },
          "scene": {
           "xaxis": {
            "backgroundcolor": "#E5ECF6",
            "gridcolor": "white",
            "gridwidth": 2,
            "linecolor": "white",
            "showbackground": true,
            "ticks": "",
            "zerolinecolor": "white"
           },
           "yaxis": {
            "backgroundcolor": "#E5ECF6",
            "gridcolor": "white",
            "gridwidth": 2,
            "linecolor": "white",
            "showbackground": true,
            "ticks": "",
            "zerolinecolor": "white"
           },
           "zaxis": {
            "backgroundcolor": "#E5ECF6",
            "gridcolor": "white",
            "gridwidth": 2,
            "linecolor": "white",
            "showbackground": true,
            "ticks": "",
            "zerolinecolor": "white"
           }
          },
          "shapedefaults": {
           "line": {
            "color": "#2a3f5f"
           }
          },
          "ternary": {
           "aaxis": {
            "gridcolor": "white",
            "linecolor": "white",
            "ticks": ""
           },
           "baxis": {
            "gridcolor": "white",
            "linecolor": "white",
            "ticks": ""
           },
           "bgcolor": "#E5ECF6",
           "caxis": {
            "gridcolor": "white",
            "linecolor": "white",
            "ticks": ""
           }
          },
          "title": {
           "x": 0.05
          },
          "xaxis": {
           "automargin": true,
           "gridcolor": "white",
           "linecolor": "white",
           "ticks": "",
           "title": {
            "standoff": 15
           },
           "zerolinecolor": "white",
           "zerolinewidth": 2
          },
          "yaxis": {
           "automargin": true,
           "gridcolor": "white",
           "linecolor": "white",
           "ticks": "",
           "title": {
            "standoff": 15
           },
           "zerolinecolor": "white",
           "zerolinewidth": 2
          }
         }
        }
       }
      },
      "text/html": [
       "<div>                            <div id=\"c5344640-1b1d-435f-b87d-de86f76b335b\" class=\"plotly-graph-div\" style=\"height:525px; width:100%;\"></div>            <script type=\"text/javascript\">                require([\"plotly\"], function(Plotly) {                    window.PLOTLYENV=window.PLOTLYENV || {};                                    if (document.getElementById(\"c5344640-1b1d-435f-b87d-de86f76b335b\")) {                    Plotly.newPlot(                        \"c5344640-1b1d-435f-b87d-de86f76b335b\",                        [{\"dimensions\": [{\"axis\": {\"matches\": true}, \"label\": \"Renewable_Electricity\", \"values\": [78.00394294496718, 67.34158119498379, 98.5129484787615, 90.01227990629347, 0.038990038964070835, 32.80665238042174, 30.497225667692067, 0.19945161992905067, 9.75938989906673, 69.55327429904759, 10.506150138921068, 93.90027155409462, 7.232732431082119, 1.5567671298334134, 16.94572387576195, 2.539600496671641, 9.809483956565527, 0.0, 0.0, 40.127127717138926, 0.34215299844914215, 62.18350789962576, 40.15640090066587, 83.77347971235714, 0.0, 0.01613467105370488, 99.9744071388216, 0.012352022362061572, 85.85314523732104, 61.0382575280321, 56.47834777103738, 46.17086572986763, 18.176859691116686, 29.915649005816995, 82.71289416881648, 99.50912269233196, 73.11001129178639, null, 77.45895940095942, 0.0, 7.23939489824406, 94.5394378283807, 4.2570494994727515, 2.341121276304004, 6.175578858256368, 15.780589847842647, 0.0, 25.026008649497516, 32.69577538827671, 13.12639304478689, 0.6825948718957515, 55.2860222363463, 11.554085231065669, 0.5354613964182275, 25.249095921053346, 5.171660219869744, 97.75431132429743, null, 32.453799237957035, 53.76528657476351, 13.103366286707923, 0.7192006853247671, 50.75499667386179, 8.323028076298277, 83.2412363499171, 69.6060239744141, 64.88826605199891, 0.0, 0.0, 24.516814855080046, 14.171297808986937, 0.0, 55.10673914961539, 0.0, 41.68883096319005, 54.02998809941284, 31.838963610281603, 5.792456536781954, 13.231362790347237, 15.696495470342368, 13.352661340671325, 5.789984911821242, 8.085440369050469, 99.96727640342846, 0.4399141707539416, 24.543922442972228, 6.324005540575088, 0.573997545131833, 10.461561566224342, 10.493561307406711, 72.28288591978544, 88.51871661979199, 17.187511946812684, 0.48484848484848464, 1.4668585659087034, 1.2950174641383563, 0.0, 97.2373378122517, 5.580143879396023, 0.0, 0.0, 0.0, 57.03146097871128, 42.74105405170349, 100.0, 14.374439116606732, 11.864456972476201, 60.00059564150938, 10.0315586665056, 0.0, 6.17381488573172, 55.152927921755435, 0.2311356031363712, 15.024330167910986, 0.06670234637652013, 20.991830580442503, 51.043836933034136, 0.9473226723453846, 57.89630644865609, 43.18386660515929, 0.5292700003913874, 98.1943859298617, 1.5487745866038347, 23.75063152419223, 88.73299885637111, 7.578693274537373, 97.17694416421782, 0.5833207305159319, 26.93605629370992, 35.285990595529974, null, 8.416978676752494, 98.33323725518609, 99.6620795497968, 0.3063484824195373, 70.39786932962457, 0.0, 30.838291622433456, 58.90267239381889, 65.65348371429907, 31.159522290861954, 0.0, 34.43929184459832, 5.880559361725716, 62.38925840882104, 38.88691865869342, 99.99825458333618, 0.0, 0.0, 30.266046246531165, 17.181465395771305, 53.35329020378905, 8.909654033399906e-05, 51.62673956750494, 10.985876890951499, 1.381243289462264, 0.3060126104935153, 45.07566703085817, 58.285760950501235, 0.0, 29.12982599853153, 0.125937579162726, 14.216007040267097, 68.60486038265779, 17.81287186832531, 27.231549482229244, 53.16596330670218, 42.190049651026726, 0.4328636488376007, 9.01587792573782, 0.0, 64.47939644789935, 7.161333701185808, 98.9665148054628, 0.0, 0.0, 0.9553991267161847, 0.21364378318615404, 1.4526849772270571, 24.56454726879922, 1.8779342723004668, null, 56.33696715810322, 83.87553951943836, 6.152505816831364, 82.1035764806288, 10.107331157854155, 18.268193904873122, 18.426770769954008, 69.26879325726921, 40.12699786555706, 10.33564157769945, 40.526241213069504, 2.088646131551191, 0.0, 0.9013201970461011, 99.33797086822361, 59.40986277190182]}, {\"axis\": {\"matches\": true}, \"label\": \"CO2_Emissions\", \"values\": [0.17782115530970208, 1.1114820471068585, 1.4966555761315012, 6.55314867011666, 23.690395881394238, 4.3178530419083865, 1.5586347880991693, 5.498547456982731, 16.987532150800348, 7.97452026083769, 3.8059821550186497, 0.03274115657062262, 9.654916141011887, 0.45544344257054953, 0.12612065898679273, 0.3704348449961353, 6.124434559485568, 22.817951691359237, 5.8727380773391005, 5.125243965824539, 6.229280318410194, 1.5784630432850653, 1.5052535260731874, 2.0918741163885133, 4.894202158908935, 18.32735639298981, 0.8923189895144292, 2.406104856726145, 0.062260795481411016, 16.22762426490422, 5.101658911644077, 4.161968909022787, 5.636138088091285, 0.3978126965820942, 0.2729699192902552, 0.031362890115889774, 0.4314005551352125, null, 1.620104674724513, 0.2105207545540268, 0.931258677164136, 1.6320987056771394, 2.4603145522502787, 6.7638149114876756, 10.839774328744763, 9.451853654368843, 0.581700322503143, 2.173332673455264, 8.09765598162577, 2.2297020994241765, 3.2504871468535885, 2.2942893651243734, 2.3186540219332628, 0.21116193421931864, 6.607004311460694, 12.63753052037613, 0.08749096138916627, null, 10.561581260216476, 1.4805109356377655, 5.612606946830772, 1.2567667761242152, 3.0566261015317377, 7.910350931733133, 1.7157045443337802, 0.43894386229660254, 0.22441330146760216, 0.2272871463795203, 0.1535558558935036, 8.10497792240874, 7.801107615961046, 2.272221172414844, 0.888899295584993, 2.2926688747992503, 1.0148848884603952, 4.778506322267194, 0.2288764015428641, 5.125767371375093, 1.7019052840516433, 1.3384831125855037, 9.234362384112714, 7.362651746468224, 4.040334212547377, 6.732002920419756, 8.732489120360922, 7.252010592180242, 3.2559785048500665, 3.131872547458756, 9.456226313151157, 13.03334429147991, 0.27739577142462707, 1.3327476936701301, 0.3192527580780086, 0.5450478919890911, 4.445453644113763, 10.701662483765265, 28.33341909874363, 0.5865848168706469, 3.7582140628725695, 0.20206348400737711, 8.737595938510594, 2.2431517864987973, 1.5532396385803167, 0.7055935368910167, 1.0812101260583686, 4.266996156808922, 20.799002386700348, 3.449830832791949, 1.5953299353505246, null, 1.6406742923794562, 0.10945022482705852, 2.4023325373064752, 4.196780752647404, 2.281472375233945, 4.587235725466015, 0.11793089293329727, 5.8249134505207865, 0.2657117264767746, 3.504983766350206, 6.3162067020683965, 0.1407596330542993, 0.597659654645299, 2.9515484466697446, 0.07412444806915501, 7.198032337378212, 1.3371470564138148, 0.07225128202285007, 0.6965338570497603, 0.8005715808415179, null, 10.73730961848952, 9.471477685405775, 0.1740467277613279, 5.02953184281837, 7.895569810028502, 14.306229116167561, 0.8883210572480151, 2.3754454074220783, 1.464038037546708, 0.9222094932428767, 11.747538965394764, 0.7093965578695348, 7.965864122254611, 2.244728984829033, 5.243467660441585, 0.7844460951645382, 0.5998302474438729, 49.42325330355296, 4.214968331140608, 11.616413535726407, 0.06681491670784606, 17.239743645920015, 0.40219375025751225, 0.5368798679812536, 8.989258471214066, 0.3429000522288399, 0.13058634821481932, 1.06357112837428, null, 6.623347923453635, 0.15157588889773732, 0.5154483430094325, 3.6497549403838043, 6.665774465183576, 7.3840200922824275, 5.257297064060918, 1.0423158693272554, 6.4034034786857, 2.553610393120845, 0.07341162547606768, 0.3149449759871537, 3.654083845643739, 0.40213715705575276, 10.987263644373249, 0.2534488859004778, 1.1257145930410632, 31.099709392856028, 2.385876108748497, 3.935742860472086, 0.9741459234167902, null, 0.1636201349575945, 0.101968387615286, 6.277141852960065, 1.9596144873392731, 17.926146774188876, 4.136367908320371, 2.0336784392867435, 6.392996769495219, 1.4118904717388292, 0.43993509966486566, 0.9911368313376113, 4.5456179992125065, 0.8912156353286169, 8.931154494266467, 0.2152755133806234, 0.7986063994298023]}, {\"axis\": {\"matches\": true}, \"label\": \"Laws_Policy\", \"values\": [14, 21, 3, 8, 6, 18, 8, 6, 18, 11, 4, 4, 12, 3, 12, 13, 12, 2, 4, 1, 15, 3, 16, 35, 4, 4, 13, 5, 2, 18, 9, 27, 9, 14, 5, 5, 7, 4, 27, 1, 7, 25, 10, 2, 10, 26, 8, 8, 16, 11, 13, 15, 7, 2, 46, 4, 13, 42, 14, 8, 29, 4, 7, 26, 2, 9, 3, 6, 2, 1, 18, 7, 8, 3, 9, 17, 2, 15, 32, 18, 22, 12, 1, 8, 20, 31, 5, 3, 26, 11, 14, 7, 24, 12, 4, 28, 2, 5, 4, 8, 2, 5, 6, 14, 6, 3, 16, 4, 15, 2, 6, 10, 8, 18, 5, 5, 26, 9, 14, 6, 12, 12, 3, 6, 11, 7, 11, 4, 9, 13, 8, 19, 18, 17, 5, 11, 5, 13, 13, 16, 26, 8, 13, 17, 5, 22, 14, 6, 2, 16, 11, 11, 3, 1, 17, 11, 7, 8, 10, 3, 5, 2, 2, 3, 18, 8, 13, 4, 7, 4, 3, 14, 11, 8, 1, 6, 7, 6, 4, 17, 10, 6, 15, 7, 17, 17, 16, 7, 3, 4, 26, 9, 10, 1, 6, 15, 17, 12]}, {\"axis\": {\"matches\": true}, \"label\": \"Energy\", \"values\": [2.0, 1.6666666666666667, 6.0, 5.625, 3.0, 4.055555555555555, 2.625, 3.5, 4.944444444444445, 3.909090909090909, 1.75, 1.75, 3.75, 0.6666666666666666, 0.8333333333333334, 5.230769230769231, 7.833333333333333, 2.0, 4.5, 10.0, 7.8, 3.3333333333333335, 0.8125, 1.9714285714285715, 3.75, 2.5, 1.3846153846153846, 3.0, 0.5, 1.6111111111111112, 3.4444444444444446, 2.5925925925925926, 5.888888888888889, 1.4285714285714286, 2.8, 1.6, 1.4285714285714286, 2.75, 3.3703703703703702, 7.0, 1.8571428571428572, 2.12, 2.7, 7.5, 7.0, 4.115384615384615, 4.125, 2.0, 3.0625, 1.4545454545454546, 6.461538461538462, 3.0, 3.5714285714285716, 2.0, 3.4782608695652173, 6.25, 2.076923076923077, 3.9761904761904763, 3.4285714285714284, 1.875, 4.689655172413793, 9.25, 0.2857142857142857, 3.1153846153846154, 0.5, 4.444444444444445, 1.3333333333333333, 2.3333333333333335, 2.0, 0.0, 4.333333333333333, 5.0, 4.875, 2.0, 2.5555555555555554, 2.588235294117647, 3.0, 7.2, 3.03125, 3.3333333333333335, 6.636363636363637, 4.583333333333333, 2.0, 3.0, 3.25, 4.870967741935484, 6.6, 9.333333333333334, 3.769230769230769, 5.090909090909091, 1.8571428571428572, 3.5714285714285716, 1.2083333333333333, 1.75, 3.5, 3.8214285714285716, 2.0, 1.8, 3.25, 2.625, 6.5, 2.2, 4.333333333333333, 2.5714285714285716, 1.1666666666666667, 7.0, 3.4375, 5.0, 4.4, 6.5, 3.5, 0.6, 3.0, 4.777777777777778, 2.8, 3.8, 0.8461538461538461, 3.6666666666666665, 1.0, 2.5, 4.416666666666667, 4.333333333333333, 2.3333333333333335, 5.0, 1.7272727272727273, 3.7142857142857144, 1.9090909090909092, 1.25, 2.5555555555555554, 2.0, 2.875, 4.052631578947368, 1.7222222222222223, 1.7647058823529411, 4.4, 3.272727272727273, 0.2, 4.384615384615385, 2.076923076923077, 3.0, 2.1923076923076925, 4.125, 2.4615384615384617, 5.823529411764706, 3.8, 3.272727272727273, 1.3571428571428572, 3.8333333333333335, 2.5, 3.6875, 6.7272727272727275, 2.090909090909091, 5.666666666666667, 1.0, 2.0588235294117645, 4.636363636363637, 1.7142857142857142, 1.0, 2.1, 4.666666666666667, 7.0, 0.5, 1.0, 3.6666666666666665, 5.944444444444445, 2.625, 3.6923076923076925, 2.75, 2.142857142857143, 3.75, 0.0, 0.5, 6.636363636363637, 10.0, 2.0, 0.3333333333333333, 2.857142857142857, 3.3333333333333335, 1.0, 5.823529411764706, 3.0, 3.5, 3.2666666666666666, 5.714285714285714, 7.0, 1.0588235294117647, 6.1875, 5.0, 4.0, 2.0, 2.576923076923077, 1.8888888888888888, 2.1, 4.0, 1.0, 3.2666666666666666, 1.4705882352941178, 3.5]}], \"hovertemplate\": \"<b>%{hovertext}</b><br><br>%{xaxis.title.text}=%{x}<br>%{yaxis.title.text}=%{y}<br>Emergency_Sentiment=%{marker.color}<extra></extra>\", \"hovertext\": [\"Afghanistan\", \"Angola\", \"Albania\", \"Andorra\", \"United Arab Emirates\", \"Argentina\", \"Armenia\", \"Antigua and Barbuda\", \"Australia\", \"Austria\", \"Azerbaijan\", \"Burundi\", \"Belgium\", \"Benin\", \"Burkina Faso\", \"Bangladesh\", \"Bulgaria\", \"Bahrain\", \"Bahamas, The\", \"Bosnia and Herzegovina\", \"Belarus\", \"Belize\", \"Bolivia\", \"Brazil\", \"Barbados\", \"Brunei Darussalam\", \"Bhutan\", \"Botswana\", \"Central African Republic\", \"Canada\", \"Switzerland\", \"Chile\", \"China\", \"C\\u00f4te d'Ivoire\", \"Cameroon\", \"Democratic Republic of Congo\", \"Congo\", \"Cook Islands\", \"Colombia\", \"Comoros\", \"Cabo Verde\", \"Costa Rica\", \"Cuba\", \"Cyprus\", \"Czechia\", \"Germany\", \"Djibouti\", \"Dominica\", \"Denmark\", \"Dominican Republic\", \"Algeria\", \"Ecuador\", \"Egypt\", \"Eritrea\", \"Spain\", \"Estonia\", \"Ethiopia\", \"European Union\", \"Finland\", \"Fiji\", \"France\", \"Micronesia\", \"Gabon\", \"United Kingdom\", \"Georgia\", \"Ghana\", \"Guinea\", \"Gambia\", \"Guinea-Bissau\", \"Equatorial Guinea\", \"Greece\", \"Grenada\", \"Guatemala\", \"Guyana\", \"Honduras\", \"Croatia\", \"Haiti\", \"Hungary\", \"Indonesia\", \"India\", \"Ireland\", \"Iran\", \"Iraq\", \"Iceland\", \"Israel\", \"Italy\", \"Jamaica\", \"Jordan\", \"Japan\", \"Kazakhstan\", \"Kenya\", \"Kyrgyzstan\", \"Cambodia\", \"Kiribati\", \"Saint Kitts and Nevis\", \"South Korea\", \"Kuwait\", \"Lao People's Democratic Republic\", \"Lebanon\", \"Liberia\", \"Libya\", \"Saint Lucia\", \"Liechtenstein\", \"Sri Lanka\", \"Lesotho\", \"Lithuania\", \"Luxembourg\", \"Latvia\", \"Morocco\", \"Monaco\", \"Moldova\", \"Madagascar\", \"Maldives\", \"Mexico\", \"Marshall Islands\", \"North Macedonia (Republic of North Macedonia)\", \"Mali\", \"Malta\", \"Myanmar\", \"Montenegro\", \"Mongolia\", \"Mozambique\", \"Mauritania\", \"Mauritius\", \"Malawi\", \"Malaysia\", \"Namibia\", \"Niger\", \"Nigeria\", \"Nicaragua\", \"Niue\", \"Netherlands\", \"Norway\", \"Nepal\", \"Nauru\", \"New Zealand\", \"Oman\", \"Pakistan\", \"Panama\", \"Peru\", \"Philippines\", \"Palau\", \"Papua New Guinea\", \"Poland\", \"Korea, North\", \"Portugal\", \"Paraguay\", \"Palestine\", \"Qatar\", \"Romania\", \"Russia\", \"Rwanda\", \"Saudi Arabia\", \"Sudan\", \"Senegal\", \"Singapore\", \"Solomon Islands\", \"Sierra Leone\", \"El Salvador\", \"San Marino\", \"Serbia\", \"South Sudan\", \"Sao Tome and Principe\", \"Suriname\", \"Slovakia\", \"Slovenia\", \"Sweden\", \"Eswatini\", \"Seychelles\", \"Syria\", \"Chad\", \"Togo\", \"Thailand\", \"Tajikistan\", \"Turkmenistan\", \"Timor-Leste\", \"Tonga\", \"Trinidad and Tobago\", \"Tunisia\", \"Turkey\", \"Tuvalu\", \"Taiwan\", \"Tanzania\", \"Uganda\", \"Ukraine\", \"Uruguay\", \"United States of America\", \"Uzbekistan\", \"Saint Vincent and the Grenadines\", \"Venezuela\", \"Vietnam\", \"Vanuatu\", \"Samoa\", \"Kosovo\", \"Yemen\", \"South Africa\", \"Zambia\", \"Zimbabwe\"], \"legendgroup\": \"\", \"marker\": {\"color\": [-0.06462142857142858, 0.27777619047619045, -0.3333333333333333, -0.125, -0.19999999999999998, 0.08653333333333335, -0.10416249999999999, 0.15476666666666666, -0.12208333333333332, -0.45454545454545453, -0.25, -0.25, 0.3560583333333333, 0.39999999999999997, 0.09999999999999999, -0.11794615384615385, -0.045716666666666655, 0.42855, -0.07142499999999999, -0.7778, -0.24342, -0.3111, 0.38701874999999997, -0.08398857142857144, 0.16667500000000002, -0.183325, -0.10897692307692308, 0.1, 0.5, 0.1037, 0.0836, -0.0448962962962963, -0.11764444444444444, 0.21530714285714284, 0.44000000000000006, 0.2, 0.047614285714285706, 0.0, 0.10502592592592591, -0.1111, 0.1333285714285714, -0.23444400000000004, -0.16968999999999998, -0.5, -0.26667, -0.020300000000000002, 0.125, -0.235125, -0.1511375, -0.1533909090909091, 0.10256153846153845, -0.07070666666666667, 0.09319999999999998, 0.2857, 0.07106086956521739, -0.25, -0.00705384615384618, -0.14039047619047618, -0.12449285714285716, -0.2833375, -0.14915172413793104, 0.003799999999999998, 0.011328571428571419, -0.39744230769230765, 0.16665, -0.4250555555555555, 0.0, -0.28465, 0.0, -0.0769, -0.1642888888888889, 0.19047142857142857, 0.1337375, -0.4666666666666666, 0.3518555555555556, -0.4117647058823529, 0.33335000000000004, 0.03174666666666667, -0.028121875000000008, -0.21666666666666667, -0.30419545454545455, -0.11944166666666667, 0.0, -0.1875, -0.19026499999999996, -0.2914580645161291, -0.05000000000000001, -0.17776666666666666, 0.21550769230769232, 0.21211818181818182, 0.2927142857142857, 0.06802857142857142, -0.09538333333333332, -0.18430000000000002, -0.3, 0.18911428571428573, -0.16665, -0.12142, -0.291675, -0.1927125, 0.0, 0.06666, -0.3, 0.09642142857142856, -0.22221666666666665, -0.6666666666666666, -0.309825, -0.75, -0.18846, -0.33335000000000004, -0.3333333333333333, 0.17778, 0.0, 0.08260555555555557, -0.24523999999999999, -0.2, 0.13034615384615386, -0.37777777777777777, 0.02607857142857145, -0.6666666666666666, 0.11984166666666668, 0.05288333333333334, 0.19999999999999998, -0.31666666666666665, 0.1338, 0.047614285714285706, 0.2636363636363636, -0.25, -0.1548888888888889, -0.04066153846153846, 0.009612499999999996, -0.26165789473684203, 0.24907222222222222, -0.2882352941176471, -0.2, -0.18181818181818182, 0.0, 0.06300000000000003, -0.32051538461538465, 0.06339999999999998, -0.11981923076923079, 0.033975000000000005, -0.3948692307692308, -0.11764705882352941, -0.26666, -0.05703181818181819, 0.25105, 0.05238333333333334, 0.25, -0.40624999999999994, -0.45747272727272725, 0.3982727272727273, -0.3333333333333333, 1.0, 0.36862941176470587, -0.19155454545454545, -0.047614285714285706, 0.125, 0.37143, 0.0, -0.28076, 0.0, 0.0, -0.2381, -0.3169444444444444, -0.2833375, 0.004276923076923084, -0.333325, -0.4095285714285714, -0.583325, 0.0, 0.11904285714285714, -0.10605454545454544, 0.1361375, -0.5, 0.0, -0.18095714285714287, 0.05391666666666667, 0.0, 0.1823529411764706, 0.24701000000000004, -0.3333333333333333, -0.04762000000000001, 0.22669999999999996, -0.14379411764705882, 0.0, -0.078575, -0.49784285714285714, 0.22223333333333337, 0.0, -0.06152307692307693, 0.2373777777777778, -0.23537999999999998, 0.4545, -0.16666666666666666, 0.21391333333333332, 0.11428823529411765, 0.23397500000000002], \"coloraxis\": \"coloraxis\", \"symbol\": \"circle\"}, \"name\": \"\", \"showlegend\": false, \"type\": \"splom\"}],                        {\"coloraxis\": {\"colorbar\": {\"title\": {\"text\": \"Emergency_Sentiment\"}}, \"colorscale\": [[0.0, \"#0d0887\"], [0.1111111111111111, \"#46039f\"], [0.2222222222222222, \"#7201a8\"], [0.3333333333333333, \"#9c179e\"], [0.4444444444444444, \"#bd3786\"], [0.5555555555555556, \"#d8576b\"], [0.6666666666666666, \"#ed7953\"], [0.7777777777777778, \"#fb9f3a\"], [0.8888888888888888, \"#fdca26\"], [1.0, \"#f0f921\"]]}, \"dragmode\": \"select\", \"legend\": {\"tracegroupgap\": 0}, \"margin\": {\"t\": 60}, \"template\": {\"data\": {\"bar\": [{\"error_x\": {\"color\": \"#2a3f5f\"}, \"error_y\": {\"color\": \"#2a3f5f\"}, \"marker\": {\"line\": {\"color\": \"#E5ECF6\", \"width\": 0.5}}, \"type\": \"bar\"}], \"barpolar\": [{\"marker\": {\"line\": {\"color\": \"#E5ECF6\", \"width\": 0.5}}, \"type\": \"barpolar\"}], \"carpet\": [{\"aaxis\": {\"endlinecolor\": \"#2a3f5f\", \"gridcolor\": \"white\", \"linecolor\": \"white\", \"minorgridcolor\": \"white\", \"startlinecolor\": \"#2a3f5f\"}, \"baxis\": {\"endlinecolor\": \"#2a3f5f\", \"gridcolor\": \"white\", \"linecolor\": \"white\", \"minorgridcolor\": \"white\", \"startlinecolor\": \"#2a3f5f\"}, \"type\": \"carpet\"}], \"choropleth\": [{\"colorbar\": {\"outlinewidth\": 0, \"ticks\": \"\"}, \"type\": \"choropleth\"}], \"contour\": [{\"colorbar\": {\"outlinewidth\": 0, \"ticks\": \"\"}, \"colorscale\": [[0.0, \"#0d0887\"], [0.1111111111111111, \"#46039f\"], [0.2222222222222222, \"#7201a8\"], [0.3333333333333333, \"#9c179e\"], [0.4444444444444444, \"#bd3786\"], [0.5555555555555556, \"#d8576b\"], [0.6666666666666666, \"#ed7953\"], [0.7777777777777778, \"#fb9f3a\"], [0.8888888888888888, \"#fdca26\"], [1.0, \"#f0f921\"]], \"type\": \"contour\"}], \"contourcarpet\": [{\"colorbar\": {\"outlinewidth\": 0, \"ticks\": \"\"}, \"type\": \"contourcarpet\"}], \"heatmap\": [{\"colorbar\": {\"outlinewidth\": 0, \"ticks\": \"\"}, \"colorscale\": [[0.0, \"#0d0887\"], [0.1111111111111111, \"#46039f\"], [0.2222222222222222, \"#7201a8\"], [0.3333333333333333, \"#9c179e\"], [0.4444444444444444, \"#bd3786\"], [0.5555555555555556, \"#d8576b\"], [0.6666666666666666, \"#ed7953\"], [0.7777777777777778, \"#fb9f3a\"], [0.8888888888888888, \"#fdca26\"], [1.0, \"#f0f921\"]], \"type\": \"heatmap\"}], \"heatmapgl\": [{\"colorbar\": {\"outlinewidth\": 0, \"ticks\": \"\"}, \"colorscale\": [[0.0, \"#0d0887\"], [0.1111111111111111, \"#46039f\"], [0.2222222222222222, \"#7201a8\"], [0.3333333333333333, \"#9c179e\"], [0.4444444444444444, \"#bd3786\"], [0.5555555555555556, \"#d8576b\"], [0.6666666666666666, \"#ed7953\"], [0.7777777777777778, \"#fb9f3a\"], [0.8888888888888888, \"#fdca26\"], [1.0, \"#f0f921\"]], \"type\": \"heatmapgl\"}], \"histogram\": [{\"marker\": {\"colorbar\": {\"outlinewidth\": 0, \"ticks\": \"\"}}, \"type\": \"histogram\"}], \"histogram2d\": [{\"colorbar\": {\"outlinewidth\": 0, \"ticks\": \"\"}, \"colorscale\": [[0.0, \"#0d0887\"], [0.1111111111111111, \"#46039f\"], [0.2222222222222222, \"#7201a8\"], [0.3333333333333333, \"#9c179e\"], [0.4444444444444444, \"#bd3786\"], [0.5555555555555556, \"#d8576b\"], [0.6666666666666666, \"#ed7953\"], [0.7777777777777778, \"#fb9f3a\"], [0.8888888888888888, \"#fdca26\"], [1.0, \"#f0f921\"]], \"type\": \"histogram2d\"}], \"histogram2dcontour\": [{\"colorbar\": {\"outlinewidth\": 0, \"ticks\": \"\"}, \"colorscale\": [[0.0, \"#0d0887\"], [0.1111111111111111, \"#46039f\"], [0.2222222222222222, \"#7201a8\"], [0.3333333333333333, \"#9c179e\"], [0.4444444444444444, \"#bd3786\"], [0.5555555555555556, \"#d8576b\"], [0.6666666666666666, \"#ed7953\"], [0.7777777777777778, \"#fb9f3a\"], [0.8888888888888888, \"#fdca26\"], [1.0, \"#f0f921\"]], \"type\": \"histogram2dcontour\"}], \"mesh3d\": [{\"colorbar\": {\"outlinewidth\": 0, \"ticks\": \"\"}, \"type\": \"mesh3d\"}], \"parcoords\": [{\"line\": {\"colorbar\": {\"outlinewidth\": 0, \"ticks\": \"\"}}, \"type\": \"parcoords\"}], \"pie\": [{\"automargin\": true, \"type\": \"pie\"}], \"scatter\": [{\"marker\": {\"colorbar\": {\"outlinewidth\": 0, \"ticks\": \"\"}}, \"type\": \"scatter\"}], \"scatter3d\": [{\"line\": {\"colorbar\": {\"outlinewidth\": 0, \"ticks\": \"\"}}, \"marker\": {\"colorbar\": {\"outlinewidth\": 0, \"ticks\": \"\"}}, \"type\": \"scatter3d\"}], \"scattercarpet\": [{\"marker\": {\"colorbar\": {\"outlinewidth\": 0, \"ticks\": \"\"}}, \"type\": \"scattercarpet\"}], \"scattergeo\": [{\"marker\": {\"colorbar\": {\"outlinewidth\": 0, \"ticks\": \"\"}}, \"type\": \"scattergeo\"}], \"scattergl\": [{\"marker\": {\"colorbar\": {\"outlinewidth\": 0, \"ticks\": \"\"}}, \"type\": \"scattergl\"}], \"scattermapbox\": [{\"marker\": {\"colorbar\": {\"outlinewidth\": 0, \"ticks\": \"\"}}, \"type\": \"scattermapbox\"}], \"scatterpolar\": [{\"marker\": {\"colorbar\": {\"outlinewidth\": 0, \"ticks\": \"\"}}, \"type\": \"scatterpolar\"}], \"scatterpolargl\": [{\"marker\": {\"colorbar\": {\"outlinewidth\": 0, \"ticks\": \"\"}}, \"type\": \"scatterpolargl\"}], \"scatterternary\": [{\"marker\": {\"colorbar\": {\"outlinewidth\": 0, \"ticks\": \"\"}}, \"type\": \"scatterternary\"}], \"surface\": [{\"colorbar\": {\"outlinewidth\": 0, \"ticks\": \"\"}, \"colorscale\": [[0.0, \"#0d0887\"], [0.1111111111111111, \"#46039f\"], [0.2222222222222222, \"#7201a8\"], [0.3333333333333333, \"#9c179e\"], [0.4444444444444444, \"#bd3786\"], [0.5555555555555556, \"#d8576b\"], [0.6666666666666666, \"#ed7953\"], [0.7777777777777778, \"#fb9f3a\"], [0.8888888888888888, \"#fdca26\"], [1.0, \"#f0f921\"]], \"type\": \"surface\"}], \"table\": [{\"cells\": {\"fill\": {\"color\": \"#EBF0F8\"}, \"line\": {\"color\": \"white\"}}, \"header\": {\"fill\": {\"color\": \"#C8D4E3\"}, \"line\": {\"color\": \"white\"}}, \"type\": \"table\"}]}, \"layout\": {\"annotationdefaults\": {\"arrowcolor\": \"#2a3f5f\", \"arrowhead\": 0, \"arrowwidth\": 1}, \"autotypenumbers\": \"strict\", \"coloraxis\": {\"colorbar\": {\"outlinewidth\": 0, \"ticks\": \"\"}}, \"colorscale\": {\"diverging\": [[0, \"#8e0152\"], [0.1, \"#c51b7d\"], [0.2, \"#de77ae\"], [0.3, \"#f1b6da\"], [0.4, \"#fde0ef\"], [0.5, \"#f7f7f7\"], [0.6, \"#e6f5d0\"], [0.7, \"#b8e186\"], [0.8, \"#7fbc41\"], [0.9, \"#4d9221\"], [1, \"#276419\"]], \"sequential\": [[0.0, \"#0d0887\"], [0.1111111111111111, \"#46039f\"], [0.2222222222222222, \"#7201a8\"], [0.3333333333333333, \"#9c179e\"], [0.4444444444444444, \"#bd3786\"], [0.5555555555555556, \"#d8576b\"], [0.6666666666666666, \"#ed7953\"], [0.7777777777777778, \"#fb9f3a\"], [0.8888888888888888, \"#fdca26\"], [1.0, \"#f0f921\"]], \"sequentialminus\": [[0.0, \"#0d0887\"], [0.1111111111111111, \"#46039f\"], [0.2222222222222222, \"#7201a8\"], [0.3333333333333333, \"#9c179e\"], [0.4444444444444444, \"#bd3786\"], [0.5555555555555556, \"#d8576b\"], [0.6666666666666666, \"#ed7953\"], [0.7777777777777778, \"#fb9f3a\"], [0.8888888888888888, \"#fdca26\"], [1.0, \"#f0f921\"]]}, \"colorway\": [\"#636efa\", \"#EF553B\", \"#00cc96\", \"#ab63fa\", \"#FFA15A\", \"#19d3f3\", \"#FF6692\", \"#B6E880\", \"#FF97FF\", \"#FECB52\"], \"font\": {\"color\": \"#2a3f5f\"}, \"geo\": {\"bgcolor\": \"white\", \"lakecolor\": \"white\", \"landcolor\": \"#E5ECF6\", \"showlakes\": true, \"showland\": true, \"subunitcolor\": \"white\"}, \"hoverlabel\": {\"align\": \"left\"}, \"hovermode\": \"closest\", \"mapbox\": {\"style\": \"light\"}, \"paper_bgcolor\": \"white\", \"plot_bgcolor\": \"#E5ECF6\", \"polar\": {\"angularaxis\": {\"gridcolor\": \"white\", \"linecolor\": \"white\", \"ticks\": \"\"}, \"bgcolor\": \"#E5ECF6\", \"radialaxis\": {\"gridcolor\": \"white\", \"linecolor\": \"white\", \"ticks\": \"\"}}, \"scene\": {\"xaxis\": {\"backgroundcolor\": \"#E5ECF6\", \"gridcolor\": \"white\", \"gridwidth\": 2, \"linecolor\": \"white\", \"showbackground\": true, \"ticks\": \"\", \"zerolinecolor\": \"white\"}, \"yaxis\": {\"backgroundcolor\": \"#E5ECF6\", \"gridcolor\": \"white\", \"gridwidth\": 2, \"linecolor\": \"white\", \"showbackground\": true, \"ticks\": \"\", \"zerolinecolor\": \"white\"}, \"zaxis\": {\"backgroundcolor\": \"#E5ECF6\", \"gridcolor\": \"white\", \"gridwidth\": 2, \"linecolor\": \"white\", \"showbackground\": true, \"ticks\": \"\", \"zerolinecolor\": \"white\"}}, \"shapedefaults\": {\"line\": {\"color\": \"#2a3f5f\"}}, \"ternary\": {\"aaxis\": {\"gridcolor\": \"white\", \"linecolor\": \"white\", \"ticks\": \"\"}, \"baxis\": {\"gridcolor\": \"white\", \"linecolor\": \"white\", \"ticks\": \"\"}, \"bgcolor\": \"#E5ECF6\", \"caxis\": {\"gridcolor\": \"white\", \"linecolor\": \"white\", \"ticks\": \"\"}}, \"title\": {\"x\": 0.05}, \"xaxis\": {\"automargin\": true, \"gridcolor\": \"white\", \"linecolor\": \"white\", \"ticks\": \"\", \"title\": {\"standoff\": 15}, \"zerolinecolor\": \"white\", \"zerolinewidth\": 2}, \"yaxis\": {\"automargin\": true, \"gridcolor\": \"white\", \"linecolor\": \"white\", \"ticks\": \"\", \"title\": {\"standoff\": 15}, \"zerolinecolor\": \"white\", \"zerolinewidth\": 2}}}},                        {\"responsive\": true}                    ).then(function(){\n",
       "                            \n",
       "var gd = document.getElementById('c5344640-1b1d-435f-b87d-de86f76b335b');\n",
       "var x = new MutationObserver(function (mutations, observer) {{\n",
       "        var display = window.getComputedStyle(gd).display;\n",
       "        if (!display || display === 'none') {{\n",
       "            console.log([gd, 'removed!']);\n",
       "            Plotly.purge(gd);\n",
       "            observer.disconnect();\n",
       "        }}\n",
       "}});\n",
       "\n",
       "// Listen for the removal of the full notebook cells\n",
       "var notebookContainer = gd.closest('#notebook-container');\n",
       "if (notebookContainer) {{\n",
       "    x.observe(notebookContainer, {childList: true});\n",
       "}}\n",
       "\n",
       "// Listen for the clearing of the current output cell\n",
       "var outputEl = gd.closest('.output');\n",
       "if (outputEl) {{\n",
       "    x.observe(outputEl, {childList: true});\n",
       "}}\n",
       "\n",
       "                        })                };                });            </script>        </div>"
      ]
     },
     "metadata": {},
     "output_type": "display_data"
    }
   ],
   "source": [
    "fig = px.scatter_matrix(df,\n",
    "    dimensions=[\"Renewable_Electricity\",\"CO2_Emissions\", \"Laws_Policy\", \"Energy\"],\n",
    "    color=\"Emergency_Sentiment\",hover_name=\"Country\")\n",
    "fig.show()"
   ]
  },
  {
   "cell_type": "markdown",
   "metadata": {},
   "source": [
    "---\n",
    "<i style=\"color:red\">EXERCISES</i>"
   ]
  },
  {
   "cell_type": "markdown",
   "metadata": {},
   "source": [
    "+ _1. \n",
    "Differences in doing scatter with seaborn and plotly\n",
    "___"
   ]
  },
  {
   "cell_type": "markdown",
   "metadata": {},
   "source": [
    "+ _2. \n",
    "Theoretical\n",
    "___"
   ]
  },
  {
   "cell_type": "markdown",
   "metadata": {},
   "source": [
    "+ _3. \n",
    "\n",
    "Using the hover to identify countries\n",
    "___\n"
   ]
  },
  {
   "cell_type": "markdown",
   "metadata": {},
   "source": [
    "+ _4. \n",
    "\n",
    "\n",
    "___\n"
   ]
  },
  {
   "cell_type": "code",
   "execution_count": null,
   "metadata": {},
   "outputs": [],
   "source": []
  }
 ],
 "metadata": {
  "kernelspec": {
   "display_name": "Python 3",
   "language": "python",
   "name": "python3"
  },
  "language_info": {
   "codemirror_mode": {
    "name": "ipython",
    "version": 3
   },
   "file_extension": ".py",
   "mimetype": "text/x-python",
   "name": "python",
   "nbconvert_exporter": "python",
   "pygments_lexer": "ipython3",
   "version": "3.9.1"
  }
 },
 "nbformat": 4,
 "nbformat_minor": 4
}
