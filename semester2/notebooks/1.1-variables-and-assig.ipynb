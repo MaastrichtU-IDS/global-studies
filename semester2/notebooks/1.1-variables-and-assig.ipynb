{
 "cells": [
  {
   "cell_type": "markdown",
   "metadata": {},
   "source": [
    "# Variables and assignment (5 min/5 min exercises)\n",
    "**6 things** you should know about **variables** in python.\n",
    "#### Learning objectives\n",
    " By the end of this notebook you will know:\n",
    "+ What are variables in python.\n",
    "+ How to perform basic calculations.\n",
    "---"
   ]
  },
  {
   "cell_type": "markdown",
   "metadata": {},
   "source": [
    "## **1. Use variables to store values**:\n",
    "- **Variables** have names and store values.\n",
    "- In Python the `=` symbol assigns the value on the right to the variable on the left.\n",
    "- Variables are created when a value is assigned to it."
   ]
  },
  {
   "cell_type": "markdown",
   "metadata": {},
   "source": [
    "In the code cell below, Python assigns a value to a variable called, `HDI` and a country in quotes to a variable `country_name`.\n",
    "\n",
    "Note: HDI is an acronym for [Human Development Index](http://hdr.undp.org/en/data)\n"
   ]
  },
  {
   "cell_type": "code",
   "execution_count": 6,
   "metadata": {},
   "outputs": [],
   "source": [
    "HDI = 0.87\n",
    "country_name = 'Ghana'"
   ]
  },
  {
   "cell_type": "markdown",
   "metadata": {},
   "source": [
    "**REMEMBER**: Variable names can **only** contain letters, number and digits and are **case sensitive**.\n",
    "\n",
    "Do you know why the word Ghana is in quotes in the cell above?"
   ]
  },
  {
   "cell_type": "markdown",
   "metadata": {},
   "source": [
    "## **2. Use the `print` function to display values:**\n",
    "\n",
    "* Python built-in function called `print`.\n",
    "* Call the function by using its name.\n",
    "* Provide values to the function (i.e. the things to print) in parentheses.\n",
    "* Use double or single quotes to add a string in the print function.\n",
    "* The values passed to the function are called **arguments**."
   ]
  },
  {
   "cell_type": "code",
   "execution_count": 8,
   "metadata": {},
   "outputs": [
    {
     "name": "stdout",
     "output_type": "stream",
     "text": [
      "Ghana reported an average annual growth of 0.87 in the Human Development Indicator.\n"
     ]
    }
   ],
   "source": [
    "print(country_name, 'reported an average annual growth of',HDI, 'in the Human Development Indicator.')"
   ]
  },
  {
   "cell_type": "markdown",
   "metadata": {},
   "source": [
    "- `print` automatically puts a single space between items to separate them.\n"
   ]
  },
  {
   "cell_type": "markdown",
   "metadata": {},
   "source": [
    "## **3. Variables must be created before they are used:**\n",
    "\n",
    "Python reports an error if the variable doesn't exist yet"
   ]
  },
  {
   "cell_type": "code",
   "execution_count": 1,
   "metadata": {},
   "outputs": [
    {
     "ename": "NameError",
     "evalue": "name 'city_name' is not defined",
     "output_type": "error",
     "traceback": [
      "\u001b[0;31m---------------------------------------------------------------------------\u001b[0m",
      "\u001b[0;31mNameError\u001b[0m                                 Traceback (most recent call last)",
      "\u001b[0;32m<ipython-input-1-e2c9967b3460>\u001b[0m in \u001b[0;36m<module>\u001b[0;34m\u001b[0m\n\u001b[1;32m      1\u001b[0m \u001b[0;31m# print(a variable that doesn't exist yet)\u001b[0m\u001b[0;34m\u001b[0m\u001b[0;34m\u001b[0m\u001b[0;34m\u001b[0m\u001b[0m\n\u001b[0;32m----> 2\u001b[0;31m \u001b[0mprint\u001b[0m\u001b[0;34m(\u001b[0m\u001b[0mcity_name\u001b[0m\u001b[0;34m)\u001b[0m\u001b[0;34m\u001b[0m\u001b[0;34m\u001b[0m\u001b[0m\n\u001b[0m",
      "\u001b[0;31mNameError\u001b[0m: name 'city_name' is not defined"
     ]
    }
   ],
   "source": [
    "# print(a variable that doesn't exist yet)\n",
    "print(city_name)"
   ]
  },
  {
   "cell_type": "markdown",
   "metadata": {},
   "source": [
    "* The last line of an error message is usually the **most informative**."
   ]
  },
  {
   "cell_type": "markdown",
   "metadata": {},
   "source": [
    "## **4. Variables can be used in calculations:**"
   ]
  },
  {
   "cell_type": "code",
   "execution_count": 15,
   "metadata": {},
   "outputs": [
    {
     "name": "stdout",
     "output_type": "stream",
     "text": [
      "Monthly HDI average of Ghana is 0.0725\n"
     ]
    }
   ],
   "source": [
    "# calculate age with previous variables\n",
    "months = 12\n",
    "HDI_monthly = HDI/months\n",
    "print('Monthly HDI average of', country_name, 'is', HDI_monthly)"
   ]
  },
  {
   "cell_type": "markdown",
   "metadata": {},
   "source": [
    "## **5. Use an index to get a single character from a string:**\n",
    "* The characters (individual letters, numbers) in a string are in order. We can then treat the string as a list of characters.\n",
    "* Each position in the string is given a number called an **index**.\n",
    "* Indices are numbered starting from 0.\n",
    "* Use the position's index in square brackets to get the character at that position.\n",
    "\n",
    "![](https://swcarpentry.github.io/python-novice-gapminder/fig/2_indexing.svg)"
   ]
  },
  {
   "cell_type": "markdown",
   "metadata": {},
   "source": [
    "For instance, if we want to print the index 0 position of the variable `course` = `Global Studies`."
   ]
  },
  {
   "cell_type": "code",
   "execution_count": 18,
   "metadata": {},
   "outputs": [
    {
     "name": "stdout",
     "output_type": "stream",
     "text": [
      "G\n"
     ]
    }
   ],
   "source": [
    "course = 'Global Studies'\n",
    "print(course[0])"
   ]
  },
  {
   "cell_type": "markdown",
   "metadata": {},
   "source": [
    "* A part of a string is called a substring. A substring can be as short as a single character.\n",
    "* An item in a list is called an element. Whenever we treat a string as if it were a list, the string’s elements are its individual characters.\n",
    "* A slice is a part of a string.\n",
    "* We take a slice by using `[start:stop]`, where `start` is replaced with the index of the first element we want and `stop` is replaced with the index of the element just after the last element we want."
   ]
  },
  {
   "cell_type": "markdown",
   "metadata": {},
   "source": [
    "If we want to print the first 6 character of the variable `course`"
   ]
  },
  {
   "cell_type": "code",
   "execution_count": 19,
   "metadata": {},
   "outputs": [
    {
     "data": {
      "text/plain": [
       "'Global'"
      ]
     },
     "execution_count": 19,
     "metadata": {},
     "output_type": "execute_result"
    }
   ],
   "source": [
    "# print the variable course and get only Global\n",
    "course[0:6]"
   ]
  },
  {
   "cell_type": "markdown",
   "metadata": {},
   "source": [
    "## **6. Use the built-in function `len` to find the length of a string:**"
   ]
  },
  {
   "cell_type": "code",
   "execution_count": 20,
   "metadata": {},
   "outputs": [
    {
     "data": {
      "text/plain": [
       "14"
      ]
     },
     "execution_count": 20,
     "metadata": {},
     "output_type": "execute_result"
    }
   ],
   "source": [
    "# print length course\n",
    "len(course)"
   ]
  },
  {
   "cell_type": "markdown",
   "metadata": {},
   "source": [
    "**Last tips**:\n",
    "\n",
    "1. Remember that Python is case-sensitive:\n",
    "    + Python thinks that upper- and lower-case letters are different, so `course` and `Course` are different variables.\n",
    "2. Use meaningful variable names\n",
    "    + Python doesn't care what you call variables as long as they obey the rules\n",
    "    + Use meaningful variable names to help other people understand what the program does.\n",
    "    + The most important 'other person' is your future self."
   ]
  },
  {
   "cell_type": "code",
   "execution_count": 23,
   "metadata": {},
   "outputs": [
    {
     "name": "stdout",
     "output_type": "stream",
     "text": [
      "Monthly HDI average of Ghana is 0.0725\n"
     ]
    }
   ],
   "source": [
    "# assign variable values with impossible names\n",
    "flabafe = 'Ghana'\n",
    "wrt_33_6 = HDI/months\n",
    "print('Monthly HDI average of', flabafe, 'is', wrt_33_6)"
   ]
  },
  {
   "cell_type": "markdown",
   "metadata": {},
   "source": [
    "---\n",
    "<i style=\"color:red\">EXERCISES - 5 min</i>"
   ]
  },
  {
   "cell_type": "markdown",
   "metadata": {},
   "source": [
    "+ _1. What is the final value of `position` in the program below? (Try to predict the value without running the python code, then check your prediction_):\n",
    "\n",
    "```python\n",
    "initial = 'Ghana'\n",
    "position = initial\n",
    "initial = 'Laos'\n",
    "```\n",
    "___"
   ]
  },
  {
   "cell_type": "markdown",
   "metadata": {},
   "source": [
    "+ _2. If you create and assign to the variable `IDH` the value `= 0.0005`, what happens if you try to get the second digit (e.g. `.`) of `IDH` via index `IDH[1]`?_\n",
    "___"
   ]
  },
  {
   "cell_type": "markdown",
   "metadata": {},
   "source": [
    "+ _3. Which is a better variable name, m, min, or minutes? Why?_\n",
    "\n",
    "```python\n",
    "1. ts = m * 60 + s\n",
    "2. tot_sec = min * 60 + sec\n",
    "3. total_seconds = minutes * 60 + seconds\n",
    "```\n",
    "___"
   ]
  },
  {
   "cell_type": "markdown",
   "metadata": {},
   "source": [
    "+ _4. What does the following code print? Think about it before you write a new python code_. Then add some explanation (< 50 words) in text cell.\n",
    "\n",
    "```python\n",
    "city_name = 'Arequipa'\n",
    "print('city_name[1:3] is', city_name[1:3])\n",
    "```\n",
    "___"
   ]
  },
  {
   "cell_type": "markdown",
   "metadata": {},
   "source": [
    "+ _5. The following variable stores one of the longest words in the world. Calculate the length of the word variable with the function `len()`._\n",
    "\n",
    "```python\n",
    "longest_word = 'pneumonoultramicroscopicsilicovolcanoconiosis'\n",
    "```\n",
    "\n"
   ]
  }
 ],
 "metadata": {
  "kernelspec": {
   "display_name": "Python 3",
   "language": "python",
   "name": "python3"
  },
  "language_info": {
   "codemirror_mode": {
    "name": "ipython",
    "version": 3
   },
   "file_extension": ".py",
   "mimetype": "text/x-python",
   "name": "python",
   "nbconvert_exporter": "python",
   "pygments_lexer": "ipython3",
   "version": "3.8.8"
  }
 },
 "nbformat": 4,
 "nbformat_minor": 4
}
