{
 "cells": [
  {
   "cell_type": "markdown",
   "metadata": {},
   "source": [
    "---\n",
    "# Built-in functions and Libraries (5 min / 5 min exercises)\n",
    "**Top 5 things** about built-in functions and libraries.\n",
    "#### Learning objectives\n",
    "By the end of this notebook you will know:\n",
    "+ What are built-in functions and libraries.\n",
    "+ What the main differences between them are.\n",
    "+ How to interpret errors in python.\n",
    "\n",
    "These learning goals will be very important to successfully complete assignment 1."
   ]
  },
  {
   "cell_type": "markdown",
   "metadata": {},
   "source": [
    "## **1. A function may take zero or more arguments**:\n",
    "+ An _argument_ is a value passed to a function.\n",
    "+ `len` takes exactly one.\n",
    "+ `int`, `str`, and `float` take one argument and return a new value.\n",
    "+ `print` takes zero or more arguments.\n",
    "+ `print` with no arguments prints a blank line."
   ]
  },
  {
   "cell_type": "markdown",
   "metadata": {},
   "source": [
    "## **2. Commonly used built-in functions include `max`, `min`, and `round`:**\n",
    "+ Use `max` to find the higher value of one or more values.\n",
    "+ Use `min` to find the lower value\n",
    "+ Both functions work on character strings as well as numbers:\n",
    "    - \"higher\" and \"lower\" use (0-9, A-Z, a-z) to compare letters."
   ]
  },
  {
   "cell_type": "markdown",
   "metadata": {},
   "source": [
    "\n",
    "## **3. Most of the power of a programming language is in its libraries:**\n",
    "+ A _library_ is a collection of files (called a _module_) that contains functions for use by other programs.\n",
    "    - It may also contain data values (e.g. numerical) and other things.\n",
    "+ The Python [standard library](https://docs.python.org/3/library/) is an extensive suite of modules that comes with Python itself.\n",
    "+ Many additional libraries are available from [PyPI](https://pypi.python.org/pypi/) (the Python Package Index).\n",
    "    \n",
    "**REMEMBER**: A library is a collection of modules, but these terms are often used interchangeably, especially since many libraries only consist of a single module, so don’t worry if you mix them up."
   ]
  },
  {
   "cell_type": "markdown",
   "metadata": {},
   "source": [
    "## **4. We must import a library module before using the functions within it:**\n",
    "\n",
    "+ Use `import` to load a library module into a program's memory.\n",
    "+ Then refer to things (e.g., variables or functions) that belong to the module as `module_name.thing_name`.\n",
    "    + Python uses `.` to mean 'part of'."
   ]
  },
  {
   "cell_type": "code",
   "execution_count": 1,
   "metadata": {},
   "outputs": [
    {
     "name": "stdout",
     "output_type": "stream",
     "text": [
      "pi is 3.141592653589793\n",
      "cos(pi) is -1.0\n"
     ]
    }
   ],
   "source": [
    "import math\n",
    "print('pi is', math.pi) # pi is a variable in the math module\n",
    "print('cos(pi) is', math.cos(math.pi)) # cos is a function in the math module"
   ]
  },
  {
   "cell_type": "markdown",
   "metadata": {},
   "source": [
    "**REMEMBER**: \n",
    "1. Use `help` to learn about the content of a library module:"
   ]
  },
  {
   "cell_type": "code",
   "execution_count": null,
   "metadata": {},
   "outputs": [],
   "source": [
    "help(math)"
   ]
  },
  {
   "cell_type": "markdown",
   "metadata": {},
   "source": [
    "2. Create an alias for a library module when importing it to shorten programs.\n",
    "+ Use import ... as ... to give a library a short alias while importing it.\n",
    "+ Then refer to items in the library using that shortened name."
   ]
  },
  {
   "cell_type": "code",
   "execution_count": 1,
   "metadata": {},
   "outputs": [
    {
     "name": "stdout",
     "output_type": "stream",
     "text": [
      "cos(pi) is -1.0\n"
     ]
    }
   ],
   "source": [
    "import math as m\n",
    "print('cos(pi) is', m.cos(m.pi))"
   ]
  },
  {
   "cell_type": "markdown",
   "metadata": {},
   "source": [
    "## **5. Python reports an error when it can't understand the source of a program:**"
   ]
  },
  {
   "cell_type": "code",
   "execution_count": null,
   "metadata": {},
   "outputs": [],
   "source": [
    "author = 'Garcia Lorca"
   ]
  },
  {
   "cell_type": "code",
   "execution_count": null,
   "metadata": {},
   "outputs": [],
   "source": [
    "print(\"poet\""
   ]
  },
  {
   "cell_type": "code",
   "execution_count": null,
   "metadata": {},
   "outputs": [],
   "source": [
    "age = 53\n",
    "remaining = 100 - aege "
   ]
  },
  {
   "cell_type": "markdown",
   "metadata": {},
   "source": [
    "<i style=\"color:red\">EXERCISES - 5 min</i>"
   ]
  },
  {
   "cell_type": "markdown",
   "metadata": {},
   "source": [
    "* _1. Run the following python code and think about what each of the print statements in the code below will print._\n",
    "\n",
    "```python\n",
    "easy_string = \"abc\"\n",
    "print(max(easy_string))\n",
    "rich = \"gold\"\n",
    "poor = \"tin\"\n",
    "print(max(rich, poor))\n",
    "print(max(len(rich), len(poor)))\n",
    "```\n",
    "\n",
    "   * _1b. Does `max(len(rich), poor)` run or produce an error message? If it runs, does its result make any sense?_\n",
    "\n"
   ]
  },
  {
   "cell_type": "markdown",
   "metadata": {},
   "source": [
    "* _2. What function from the `math` module can you use to calculate a square root without using `sqrt`?_\n",
    "\n"
   ]
  },
  {
   "cell_type": "markdown",
   "metadata": {},
   "source": [
    "* _3. The following variable stores one of the longest words in the world._\n",
    "\n",
    "```python\n",
    "longest_word = 'pneumonoultramicroscopicsilicovolcanoconiosis'\n",
    "```\n",
    "    \n",
    "_Suppose you want to select a random character from `longest_word`_:\n",
    "\n",
    "\n",
    "_Which [standard library](https://docs.python.org/3/library/) module could help you?_\n",
    "\n",
    "+ _3.2. Which function would you select from that module? Are there alternatives?_\n"
   ]
  },
  {
   "cell_type": "markdown",
   "metadata": {},
   "source": [
    "* _4. Fill in the blanks so that the program below prints 90.0._\n",
    "\n",
    "\n",
    "```python\n",
    "import math as m\n",
    "angle = ____.degrees(____.pi / 2)\n",
    "print(____)\n",
    "```"
   ]
  },
  {
   "cell_type": "markdown",
   "metadata": {},
   "source": [
    "* _5. Rewrite the code above so that it uses import without `as`. Which form do you find easier to read?_"
   ]
  }
 ],
 "metadata": {
  "kernelspec": {
   "display_name": "Python 3",
   "language": "python",
   "name": "python3"
  },
  "language_info": {
   "codemirror_mode": {
    "name": "ipython",
    "version": 3
   },
   "file_extension": ".py",
   "mimetype": "text/x-python",
   "name": "python",
   "nbconvert_exporter": "python",
   "pygments_lexer": "ipython3",
   "version": "3.8.8"
  }
 },
 "nbformat": 4,
 "nbformat_minor": 4
}
