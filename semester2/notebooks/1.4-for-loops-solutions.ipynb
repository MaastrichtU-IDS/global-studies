{
 "cells": [
  {
   "cell_type": "markdown",
   "metadata": {
    "id": "B2Enoso2LMb7"
   },
   "source": [
    "---\n",
    "# For Loops"
   ]
  },
  {
   "cell_type": "markdown",
   "metadata": {
    "id": "MfgN7CIsLMcR"
   },
   "source": [
    "#### <i style=\"color:red\">**EXERCISES**</i>"
   ]
  },
  {
   "cell_type": "markdown",
   "metadata": {
    "id": "KWsbGHeCLMcR"
   },
   "source": [
    "_1. Make a list with [memebers state of the Association of Southest Asian Nations](https://en.wikipedia.org/wiki/ASEAN)._\n",
    "\n",
    "for instance:\n",
    "\n",
    "```python\n",
    "ASEAN_countries = [\"\", \"\", \"\", \"\"]\n",
    "```"
   ]
  },
  {
   "cell_type": "markdown",
   "metadata": {
    "id": "jGbt2vkBToRP"
   },
   "source": [
    "**SOLUTION**"
   ]
  },
  {
   "cell_type": "markdown",
   "metadata": {
    "id": "iWD6DWk3LMcR"
   },
   "source": [
    "_2. Print each element (country) of your list within the ASEAN memebers states_\n"
   ]
  },
  {
   "cell_type": "code",
   "execution_count": 1,
   "metadata": {
    "colab": {
     "base_uri": "https://localhost:8080/"
    },
    "id": "GzmzgQtcrpb8",
    "outputId": "a18f0bfc-4004-4022-8b2b-cd3eb2b38beb"
   },
   "outputs": [
    {
     "name": "stdout",
     "output_type": "stream",
     "text": [
      "Brunei Darussalam\n",
      "Cambodia\n",
      "Indonesia\n",
      "Lao PDR\n",
      "Malaysia\n",
      "Myanmar\n",
      "Philippines\n",
      "Singapore\n",
      "Thailand\n",
      "Viet Nam\n"
     ]
    }
   ],
   "source": [
    "# Sol 1\n",
    "ASEAN_countries = [\n",
    "         \"Brunei Darussalam\",\n",
    "         \"Cambodia\",\n",
    "         \"Indonesia\",\n",
    "         \"Lao PDR\",\n",
    "         \"Malaysia\",\n",
    "         \"Myanmar\",\n",
    "         \"Philippines\",\n",
    "         \"Singapore\",\n",
    "         \"Thailand\",\n",
    "         \"Viet Nam\"\n",
    "]\n",
    "\n",
    "# Sol 2\n",
    "for country in ASEAN_countries:\n",
    "    print(country)"
   ]
  },
  {
   "cell_type": "markdown",
   "metadata": {
    "id": "0_fbbx11LMcS"
   },
   "source": [
    "_3. What the following for loop does?_\n",
    "```python\n",
    "\n",
    "my_numbers = list(range(0,20))\n",
    "\n",
    "for number in my_numbers:\n",
    "    if number == 5:\n",
    "        print(\"Hey, I love 5!\")\n",
    "    else:\n",
    "        print(number)\n",
    "```"
   ]
  },
  {
   "cell_type": "markdown",
   "metadata": {
    "id": "PEcDSmn1TuSs"
   },
   "source": [
    "**SOLUTION**\n"
   ]
  },
  {
   "cell_type": "code",
   "execution_count": 2,
   "metadata": {
    "colab": {
     "base_uri": "https://localhost:8080/"
    },
    "id": "2vK6neGpTtr2",
    "outputId": "8cdc381b-5fe8-4bf3-9fd1-103aedb32790"
   },
   "outputs": [
    {
     "name": "stdout",
     "output_type": "stream",
     "text": [
      "0\n",
      "1\n",
      "2\n",
      "3\n",
      "4\n",
      "Hey, I love 5!\n",
      "6\n",
      "7\n",
      "8\n",
      "9\n",
      "10\n",
      "11\n",
      "12\n",
      "13\n",
      "14\n",
      "15\n",
      "16\n",
      "17\n",
      "18\n",
      "19\n"
     ]
    }
   ],
   "source": [
    "my_numbers = list(range(0,20))\n",
    " \n",
    "for number in my_numbers:\n",
    "    if number == 5:\n",
    "        print(\"Hey, I love 5!\")\n",
    "    else:\n",
    "        print(number)"
   ]
  },
  {
   "cell_type": "markdown",
   "metadata": {
    "id": "P3xjdhtvT1eo"
   },
   "source": [
    "This for loop function iterates for each number in the list my_numbers (which is a list with 20 elements, values from 0 to 19). There is also a if function that prints a string everytime the value 5 is on the loop. Anything else, the function just print the value"
   ]
  },
  {
   "cell_type": "markdown",
   "metadata": {
    "id": "HalF_9qfLMcS"
   },
   "source": [
    "---\n",
    "\n",
    "_4. Read the code below and try to identify what the errors are without running it.\n",
    "    Run the code, and read the error message. What type of error is it?\n",
    "    Fix the error._\n",
    "```python\n",
    "brics = ['Brazil', 'Russia', 'China', 'South Africa']\n",
    "print('My favorite season is ', brics[4])\n",
    "```"
   ]
  },
  {
   "cell_type": "markdown",
   "metadata": {
    "id": "j4bqT35jUoF7"
   },
   "source": [
    "**SOLUTION**"
   ]
  },
  {
   "cell_type": "code",
   "execution_count": 3,
   "metadata": {
    "colab": {
     "base_uri": "https://localhost:8080/",
     "height": 180
    },
    "id": "F5Ah1xYzUqTP",
    "outputId": "7e7ca250-3ff5-459c-a18e-59c9ae1eaf95"
   },
   "outputs": [
    {
     "ename": "IndexError",
     "evalue": "ignored",
     "output_type": "error",
     "traceback": [
      "\u001b[0;31m---------------------------------------------------------------------------\u001b[0m",
      "\u001b[0;31mIndexError\u001b[0m                                Traceback (most recent call last)",
      "\u001b[0;32m<ipython-input-3-3daa96a56b43>\u001b[0m in \u001b[0;36m<module>\u001b[0;34m()\u001b[0m\n\u001b[1;32m      1\u001b[0m \u001b[0mbrics\u001b[0m \u001b[0;34m=\u001b[0m \u001b[0;34m[\u001b[0m\u001b[0;34m'Brazil'\u001b[0m\u001b[0;34m,\u001b[0m \u001b[0;34m'Russia'\u001b[0m\u001b[0;34m,\u001b[0m \u001b[0;34m'China'\u001b[0m\u001b[0;34m,\u001b[0m \u001b[0;34m'South Africa'\u001b[0m\u001b[0;34m]\u001b[0m\u001b[0;34m\u001b[0m\u001b[0;34m\u001b[0m\u001b[0m\n\u001b[0;32m----> 2\u001b[0;31m \u001b[0mprint\u001b[0m\u001b[0;34m(\u001b[0m\u001b[0;34m'My favorite season is '\u001b[0m\u001b[0;34m,\u001b[0m \u001b[0mbrics\u001b[0m\u001b[0;34m[\u001b[0m\u001b[0;36m4\u001b[0m\u001b[0;34m]\u001b[0m\u001b[0;34m)\u001b[0m\u001b[0;34m\u001b[0m\u001b[0;34m\u001b[0m\u001b[0m\n\u001b[0m",
      "\u001b[0;31mIndexError\u001b[0m: list index out of range"
     ]
    }
   ],
   "source": [
    "brics = ['Brazil', 'Russia', 'China', 'South Africa']\n",
    "print('the least populated country within BRICS is ', brics[4])\n"
   ]
  },
  {
   "cell_type": "markdown",
   "metadata": {
    "id": "YHbtM85KU3lt"
   },
   "source": [
    "Python reports an IndexError if we attempt to access a value that doesn’t exist.\n",
    "This is a kind of runtime error.\n",
    "Cannot be detected as the code is parsed because the index might be calculated based on data."
   ]
  }
 ],
 "metadata": {
  "colab": {
   "name": "Copy of 1.4-for-loops.ipynb",
   "provenance": []
  },
  "kernelspec": {
   "display_name": "Python 3",
   "language": "python",
   "name": "python3"
  },
  "language_info": {
   "codemirror_mode": {
    "name": "ipython",
    "version": 3
   },
   "file_extension": ".py",
   "mimetype": "text/x-python",
   "name": "python",
   "nbconvert_exporter": "python",
   "pygments_lexer": "ipython3",
   "version": "3.9.1"
  }
 },
 "nbformat": 4,
 "nbformat_minor": 4
}
