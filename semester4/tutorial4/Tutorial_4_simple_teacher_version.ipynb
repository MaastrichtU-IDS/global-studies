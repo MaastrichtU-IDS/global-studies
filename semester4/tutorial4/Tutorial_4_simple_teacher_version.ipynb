{
 "cells": [
  {
   "cell_type": "markdown",
   "metadata": {
    "id": "9TE_myjakNHU"
   },
   "source": [
    "# Tutorial 4: Cleaning Survey Data\n",
    "**Date**: Feb 2022\n",
    "\n",
    "**Background**\n",
    "\n",
    "* Following the [Tolerant usecase], we are going to analyze the data that has been collected through a survey to assess tolerance for a sample of university students. Our definition of tolerance is _an attitude or state of mind towards difference_ and it identifies three different aspect of tolerance. Put simply, we incorporate the following factors to develop our measures of tolerance:\n",
    "\n",
    "\n",
    "\n",
    "\n",
    "**Data and Methods**\n",
    "\n",
    "* We measure tolerance in one big sample with 300 students. The data has been collected by means of self-questionnarie and we ask students' opinion about attitudes towards tolerance. Our survey also includes aquestions associated with prejudice, such attitudes towards immigrants and homosexuals. We also ask participants about their past experiences and general socio-demographic questions.\n",
    "\n",
    "* To test whether three factor model of tolerance fits well our dataset, we are going to conduct a confirmatory factor analysis (CFA) as the most appropriate statistical modeling for such research question.\n",
    "\n",
    "Here is a description of the variables in the dataset (`clean_tolerance.csv` file):\n",
    "\n",
    "|id|variable   |description                                                                                                                                                     |\n",
    "|------|-----------|----------------------------------------------------------------------------------------------------------------------------------------------------------------|\n",
    "|1     |id         |annoymized unique identifier per individual                                                                                                                                                       |\n",
    "|2     |age        |Age of student                                                                                                                                                             |\n",
    "|3     |gender     |Gender (from 0 to 10)                                                                                                                                                         |\n",
    "|4     |height     |Height (scale in cm, e.g. 183)                                                                                                                                  |\n",
    "|5     |country    |Where are you come from? (Country)                                                                                                                              |\n",
    "|6     |language   |How many language you speak at home to your family?                                                                                                             |\n",
    "|7     |freq_travel|How many different countries have you lived in?                                                                                                                 |\n",
    "|8     |past_exp   |Past intercultural experience: have you ever done one of the following international programs?                                                                  |\n",
    "|9     |q1         |five-point Likert Scale from 'strongly disagree' to 'strongly agree': [People should have the right to live how they wish]|\n",
    "|10    |q2         |five-point Likert Scale from 'strongly disagree' to 'strongly agree': [It is important that people have the freedom to live their life as they choose]     |\n",
    "|11    |q3         |five-point Likert Scale from 'strongly disagree' to 'strongly agree': [ It is okay for people to live as they wish as long as they do not harm other people]                                    |\n",
    "|12    |q4         |five-point Likert Scale from 'strongly disagree' to 'strongly agree': [I respect other people’s beliefs and opinions]        |\n",
    "|13    |q5         |five-point Likert Scale from 'strongly disagree' to 'strongly agree': [I respect other people’s opinions even when I do not agree]   |\n",
    "|14    |q6         |five-point Likert Scale from 'strongly disagree' to 'strongly agree': [I like to spend time with people who are different from me]                                         |\n",
    "|15    |q7         |five-point Likert Scale from 'strongly disagree' to 'strongly agree': [I like people who challenge me to think about the world in a different way]                            |\n",
    "|16    |q8         |five-point Likert Scale from 'strongly disagree' to 'strongly agree': [Society benefits from a diversity of traditions and lifestyles]                            |\n",
    "\n",
    "\n",
    "**Today's challenge**\n",
    "\n"
   ]
  },
  {
   "cell_type": "markdown",
   "metadata": {
    "id": "a7H9WM9XBFCM"
   },
   "source": [
    "## 1. Setup Library\n",
    "\n",
    "Import the necessary libraries you will need to clean and pre-process the survey data."
   ]
  },
  {
   "cell_type": "code",
   "execution_count": 1,
   "metadata": {},
   "outputs": [],
   "source": [
    "import pandas as pd"
   ]
  },
  {
   "cell_type": "markdown",
   "metadata": {
    "id": "Ye2-0R0IbP-a"
   },
   "source": [
    "## 2. Import Data "
   ]
  },
  {
   "cell_type": "markdown",
   "metadata": {},
   "source": [
    "For this tutorial, we will be using the **cleaned version** of \"tolerance survey dataset\". \n",
    "The csv file that we will be using `clean_tolerance.csv` is available at https://raw.githubusercontent.com/MaastrichtU-IDS/global-studies/main/semester4/tutorial4/inputs/clean_tolerance.csv \n",
    "\n",
    "Import this file in pandas using the `read_csv()` function."
   ]
  },
  {
   "cell_type": "code",
   "execution_count": 2,
   "metadata": {},
   "outputs": [
    {
     "data": {
      "text/html": [
       "<div>\n",
       "<style scoped>\n",
       "    .dataframe tbody tr th:only-of-type {\n",
       "        vertical-align: middle;\n",
       "    }\n",
       "\n",
       "    .dataframe tbody tr th {\n",
       "        vertical-align: top;\n",
       "    }\n",
       "\n",
       "    .dataframe thead th {\n",
       "        text-align: right;\n",
       "    }\n",
       "</style>\n",
       "<table border=\"1\" class=\"dataframe\">\n",
       "  <thead>\n",
       "    <tr style=\"text-align: right;\">\n",
       "      <th></th>\n",
       "      <th>id</th>\n",
       "      <th>age</th>\n",
       "      <th>gender</th>\n",
       "      <th>height</th>\n",
       "      <th>country</th>\n",
       "      <th>language</th>\n",
       "      <th>freq_travel</th>\n",
       "      <th>past_exp</th>\n",
       "      <th>q1</th>\n",
       "      <th>q2</th>\n",
       "      <th>q3</th>\n",
       "      <th>q4</th>\n",
       "      <th>q5</th>\n",
       "      <th>q6</th>\n",
       "      <th>q7</th>\n",
       "      <th>q8</th>\n",
       "    </tr>\n",
       "  </thead>\n",
       "  <tbody>\n",
       "    <tr>\n",
       "      <th>0</th>\n",
       "      <td>1</td>\n",
       "      <td>34.0</td>\n",
       "      <td>0</td>\n",
       "      <td>186</td>\n",
       "      <td>Spain</td>\n",
       "      <td>1.0</td>\n",
       "      <td>5.0</td>\n",
       "      <td>Volunteer service</td>\n",
       "      <td>Strongly Agree</td>\n",
       "      <td>Strongly Agree</td>\n",
       "      <td>Strongly Agree</td>\n",
       "      <td>Strongly Agree</td>\n",
       "      <td>Strongly Agree</td>\n",
       "      <td>Agree</td>\n",
       "      <td>Strongly Agree</td>\n",
       "      <td>Strongly Agree</td>\n",
       "    </tr>\n",
       "    <tr>\n",
       "      <th>1</th>\n",
       "      <td>2</td>\n",
       "      <td>34.0</td>\n",
       "      <td>6</td>\n",
       "      <td>157</td>\n",
       "      <td>BR</td>\n",
       "      <td>2.0</td>\n",
       "      <td>3.0</td>\n",
       "      <td>Internship program</td>\n",
       "      <td>Strongly Agree</td>\n",
       "      <td>Strongly Agree</td>\n",
       "      <td>Agree</td>\n",
       "      <td>Agree</td>\n",
       "      <td>Disagree</td>\n",
       "      <td>Disagree</td>\n",
       "      <td>Disagree</td>\n",
       "      <td>Disagree</td>\n",
       "    </tr>\n",
       "    <tr>\n",
       "      <th>2</th>\n",
       "      <td>3</td>\n",
       "      <td>27.0</td>\n",
       "      <td>8</td>\n",
       "      <td>191</td>\n",
       "      <td>RU</td>\n",
       "      <td>4.0</td>\n",
       "      <td>2.0</td>\n",
       "      <td>Studying school abroad</td>\n",
       "      <td>Strongly Disagree</td>\n",
       "      <td>Strongly Agree</td>\n",
       "      <td>Disagree</td>\n",
       "      <td>Strongly Agree</td>\n",
       "      <td>Strongly Disagree</td>\n",
       "      <td>Strongly Disagree</td>\n",
       "      <td>Strongly Agree</td>\n",
       "      <td>Disagree</td>\n",
       "    </tr>\n",
       "    <tr>\n",
       "      <th>3</th>\n",
       "      <td>4</td>\n",
       "      <td>35.0</td>\n",
       "      <td>5</td>\n",
       "      <td>165</td>\n",
       "      <td>RU</td>\n",
       "      <td>3.0</td>\n",
       "      <td>5.0</td>\n",
       "      <td>Studying school abroad</td>\n",
       "      <td>Disagree</td>\n",
       "      <td>Strongly Agree</td>\n",
       "      <td>Strongly Agree</td>\n",
       "      <td>Disagree</td>\n",
       "      <td>Disagree</td>\n",
       "      <td>Agree</td>\n",
       "      <td>Agree</td>\n",
       "      <td>Agree</td>\n",
       "    </tr>\n",
       "    <tr>\n",
       "      <th>4</th>\n",
       "      <td>5</td>\n",
       "      <td>34.0</td>\n",
       "      <td>2</td>\n",
       "      <td>164</td>\n",
       "      <td>ID</td>\n",
       "      <td>5.0</td>\n",
       "      <td>5.0</td>\n",
       "      <td>Studying school abroad</td>\n",
       "      <td>Strongly Agree</td>\n",
       "      <td>Agree</td>\n",
       "      <td>Strongly Agree</td>\n",
       "      <td>Strongly Agree</td>\n",
       "      <td>Agree</td>\n",
       "      <td>Disagree</td>\n",
       "      <td>Disagree</td>\n",
       "      <td>Agree</td>\n",
       "    </tr>\n",
       "  </tbody>\n",
       "</table>\n",
       "</div>"
      ],
      "text/plain": [
       "   id   age  gender  height country  language  freq_travel  \\\n",
       "0   1  34.0       0     186   Spain       1.0          5.0   \n",
       "1   2  34.0       6     157      BR       2.0          3.0   \n",
       "2   3  27.0       8     191      RU       4.0          2.0   \n",
       "3   4  35.0       5     165      RU       3.0          5.0   \n",
       "4   5  34.0       2     164      ID       5.0          5.0   \n",
       "\n",
       "                 past_exp                 q1              q2              q3  \\\n",
       "0       Volunteer service     Strongly Agree  Strongly Agree  Strongly Agree   \n",
       "1      Internship program     Strongly Agree  Strongly Agree           Agree   \n",
       "2  Studying school abroad  Strongly Disagree  Strongly Agree        Disagree   \n",
       "3  Studying school abroad           Disagree  Strongly Agree  Strongly Agree   \n",
       "4  Studying school abroad     Strongly Agree           Agree  Strongly Agree   \n",
       "\n",
       "               q4                 q5                 q6              q7  \\\n",
       "0  Strongly Agree     Strongly Agree              Agree  Strongly Agree   \n",
       "1           Agree           Disagree           Disagree        Disagree   \n",
       "2  Strongly Agree  Strongly Disagree  Strongly Disagree  Strongly Agree   \n",
       "3        Disagree           Disagree              Agree           Agree   \n",
       "4  Strongly Agree              Agree           Disagree        Disagree   \n",
       "\n",
       "               q8  \n",
       "0  Strongly Agree  \n",
       "1        Disagree  \n",
       "2        Disagree  \n",
       "3           Agree  \n",
       "4           Agree  "
      ]
     },
     "execution_count": 2,
     "metadata": {},
     "output_type": "execute_result"
    }
   ],
   "source": [
    "#read the data into the dataframe\n",
    "\n",
    "url = 'https://raw.githubusercontent.com/MaastrichtU-IDS/global-studies/main/semester4/tutorial4/inputs/clean_tolerance.csv'\n",
    "df = pd.read_csv(url)\n",
    "df.head(5)"
   ]
  },
  {
   "cell_type": "markdown",
   "metadata": {},
   "source": [
    "## 3. Basic data understanding"
   ]
  },
  {
   "cell_type": "code",
   "execution_count": 7,
   "metadata": {},
   "outputs": [],
   "source": [
    "# check how many variables and observations are in the dataset"
   ]
  },
  {
   "cell_type": "code",
   "execution_count": 12,
   "metadata": {},
   "outputs": [
    {
     "name": "stdout",
     "output_type": "stream",
     "text": [
      "The shape of the dataframe is (150, 16)\n"
     ]
    }
   ],
   "source": [
    "print(\"The shape of the dataframe is\",df.shape) "
   ]
  },
  {
   "cell_type": "code",
   "execution_count": null,
   "metadata": {},
   "outputs": [],
   "source": [
    "#find out how many participants are in the survey?"
   ]
  },
  {
   "cell_type": "code",
   "execution_count": 15,
   "metadata": {
    "colab": {
     "base_uri": "https://localhost:8080/",
     "height": 521
    },
    "id": "o26TXWX-DePZ",
    "outputId": "24f5030d-8bcf-4c67-c283-bcc0a46d8b4a"
   },
   "outputs": [
    {
     "data": {
      "text/html": [
       "<div>\n",
       "<style scoped>\n",
       "    .dataframe tbody tr th:only-of-type {\n",
       "        vertical-align: middle;\n",
       "    }\n",
       "\n",
       "    .dataframe tbody tr th {\n",
       "        vertical-align: top;\n",
       "    }\n",
       "\n",
       "    .dataframe thead th {\n",
       "        text-align: right;\n",
       "    }\n",
       "</style>\n",
       "<table border=\"1\" class=\"dataframe\">\n",
       "  <thead>\n",
       "    <tr style=\"text-align: right;\">\n",
       "      <th></th>\n",
       "      <th>id</th>\n",
       "      <th>age</th>\n",
       "      <th>gender</th>\n",
       "      <th>height</th>\n",
       "      <th>country</th>\n",
       "      <th>language</th>\n",
       "      <th>freq_travel</th>\n",
       "      <th>past_exp</th>\n",
       "      <th>q1</th>\n",
       "      <th>q2</th>\n",
       "      <th>q3</th>\n",
       "      <th>q4</th>\n",
       "      <th>q5</th>\n",
       "      <th>q6</th>\n",
       "      <th>q7</th>\n",
       "      <th>q8</th>\n",
       "    </tr>\n",
       "  </thead>\n",
       "  <tbody>\n",
       "    <tr>\n",
       "      <th>0</th>\n",
       "      <td>1</td>\n",
       "      <td>34.0</td>\n",
       "      <td>0</td>\n",
       "      <td>186</td>\n",
       "      <td>Spain</td>\n",
       "      <td>1.0</td>\n",
       "      <td>5.0</td>\n",
       "      <td>Volunteer service</td>\n",
       "      <td>Strongly Agree</td>\n",
       "      <td>Strongly Agree</td>\n",
       "      <td>Strongly Agree</td>\n",
       "      <td>Strongly Agree</td>\n",
       "      <td>Strongly Agree</td>\n",
       "      <td>Agree</td>\n",
       "      <td>Strongly Agree</td>\n",
       "      <td>Strongly Agree</td>\n",
       "    </tr>\n",
       "    <tr>\n",
       "      <th>1</th>\n",
       "      <td>2</td>\n",
       "      <td>34.0</td>\n",
       "      <td>6</td>\n",
       "      <td>157</td>\n",
       "      <td>BR</td>\n",
       "      <td>2.0</td>\n",
       "      <td>3.0</td>\n",
       "      <td>Internship program</td>\n",
       "      <td>Strongly Agree</td>\n",
       "      <td>Strongly Agree</td>\n",
       "      <td>Agree</td>\n",
       "      <td>Agree</td>\n",
       "      <td>Disagree</td>\n",
       "      <td>Disagree</td>\n",
       "      <td>Disagree</td>\n",
       "      <td>Disagree</td>\n",
       "    </tr>\n",
       "    <tr>\n",
       "      <th>2</th>\n",
       "      <td>3</td>\n",
       "      <td>27.0</td>\n",
       "      <td>8</td>\n",
       "      <td>191</td>\n",
       "      <td>RU</td>\n",
       "      <td>4.0</td>\n",
       "      <td>2.0</td>\n",
       "      <td>Studying school abroad</td>\n",
       "      <td>Strongly Disagree</td>\n",
       "      <td>Strongly Agree</td>\n",
       "      <td>Disagree</td>\n",
       "      <td>Strongly Agree</td>\n",
       "      <td>Strongly Disagree</td>\n",
       "      <td>Strongly Disagree</td>\n",
       "      <td>Strongly Agree</td>\n",
       "      <td>Disagree</td>\n",
       "    </tr>\n",
       "  </tbody>\n",
       "</table>\n",
       "</div>"
      ],
      "text/plain": [
       "   id   age  gender  height country  language  freq_travel  \\\n",
       "0   1  34.0       0     186   Spain       1.0          5.0   \n",
       "1   2  34.0       6     157      BR       2.0          3.0   \n",
       "2   3  27.0       8     191      RU       4.0          2.0   \n",
       "\n",
       "                 past_exp                 q1              q2              q3  \\\n",
       "0       Volunteer service     Strongly Agree  Strongly Agree  Strongly Agree   \n",
       "1      Internship program     Strongly Agree  Strongly Agree           Agree   \n",
       "2  Studying school abroad  Strongly Disagree  Strongly Agree        Disagree   \n",
       "\n",
       "               q4                 q5                 q6              q7  \\\n",
       "0  Strongly Agree     Strongly Agree              Agree  Strongly Agree   \n",
       "1           Agree           Disagree           Disagree        Disagree   \n",
       "2  Strongly Agree  Strongly Disagree  Strongly Disagree  Strongly Agree   \n",
       "\n",
       "               q8  \n",
       "0  Strongly Agree  \n",
       "1        Disagree  \n",
       "2        Disagree  "
      ]
     },
     "execution_count": 15,
     "metadata": {},
     "output_type": "execute_result"
    }
   ],
   "source": [
    "#print the first 3 rows of the dataframe\n",
    "df.head(3)"
   ]
  },
  {
   "cell_type": "code",
   "execution_count": 25,
   "metadata": {},
   "outputs": [],
   "source": [
    "#print the age and gender from the 2nd participant (hint: index should be 1)"
   ]
  },
  {
   "cell_type": "code",
   "execution_count": 21,
   "metadata": {},
   "outputs": [
    {
     "name": "stdout",
     "output_type": "stream",
     "text": [
      "age       34\n",
      "gender     6\n",
      "Name: 1, dtype: object\n"
     ]
    }
   ],
   "source": [
    "print(df.iloc[1][1:3])"
   ]
  },
  {
   "cell_type": "markdown",
   "metadata": {},
   "source": [
    "In case you don't know much about the survey data that is being analyzed, you can always check the scale of all the columns by looking for the `min`, `max`, and `unique value counts`. This will let you know if you need to rescale the data or not."
   ]
  },
  {
   "cell_type": "markdown",
   "metadata": {
    "id": "f_fVKtEzVxYs"
   },
   "source": [
    "## 4. Identify data types\n",
    "\n",
    "How would you identify the data types of variables in the survey?\n",
    "\n",
    "- Are they categorical or numerical?\n",
    "- how to deal with different types of variables, - for example: `gender, age, height, q1` ?\n",
    "- why they matter? "
   ]
  },
  {
   "cell_type": "code",
   "execution_count": 22,
   "metadata": {},
   "outputs": [
    {
     "data": {
      "text/plain": [
       "id               int64\n",
       "age            float64\n",
       "gender           int64\n",
       "height           int64\n",
       "country         object\n",
       "language       float64\n",
       "freq_travel    float64\n",
       "past_exp        object\n",
       "q1              object\n",
       "q2              object\n",
       "q3              object\n",
       "q4              object\n",
       "q5              object\n",
       "q6              object\n",
       "q7              object\n",
       "q8              object\n",
       "dtype: object"
      ]
     },
     "execution_count": 22,
     "metadata": {},
     "output_type": "execute_result"
    }
   ],
   "source": [
    "# Check the data type of each variable\n",
    "df.dtypes"
   ]
  },
  {
   "cell_type": "code",
   "execution_count": 23,
   "metadata": {},
   "outputs": [
    {
     "name": "stdout",
     "output_type": "stream",
     "text": [
      "<class 'pandas.core.frame.DataFrame'>\n",
      "RangeIndex: 150 entries, 0 to 149\n",
      "Data columns (total 16 columns):\n",
      " #   Column       Non-Null Count  Dtype  \n",
      "---  ------       --------------  -----  \n",
      " 0   id           150 non-null    int64  \n",
      " 1   age          137 non-null    float64\n",
      " 2   gender       150 non-null    int64  \n",
      " 3   height       150 non-null    int64  \n",
      " 4   country      150 non-null    object \n",
      " 5   language     143 non-null    float64\n",
      " 6   freq_travel  143 non-null    float64\n",
      " 7   past_exp     143 non-null    object \n",
      " 8   q1           140 non-null    object \n",
      " 9   q2           140 non-null    object \n",
      " 10  q3           121 non-null    object \n",
      " 11  q4           140 non-null    object \n",
      " 12  q5           150 non-null    object \n",
      " 13  q6           150 non-null    object \n",
      " 14  q7           150 non-null    object \n",
      " 15  q8           127 non-null    object \n",
      "dtypes: float64(3), int64(3), object(10)\n",
      "memory usage: 18.9+ KB\n"
     ]
    }
   ],
   "source": [
    "df.info()"
   ]
  },
  {
   "cell_type": "markdown",
   "metadata": {
    "colab": {
     "base_uri": "https://localhost:8080/"
    },
    "id": "cLR_CzEwJ0vN",
    "outputId": "9858fd41-66f5-4f98-a64b-d065652eaac5"
   },
   "source": [
    "> Thinking: CHECK Variables \n",
    "> - **Height**: int64?\n",
    "> - **Gender**: int64?\n",
    "> - **Age**: float64?\n",
    "> - **q1**: object"
   ]
  },
  {
   "cell_type": "markdown",
   "metadata": {},
   "source": [
    "## 5. Analyzing Likert Scale survey questions"
   ]
  },
  {
   "cell_type": "code",
   "execution_count": 41,
   "metadata": {},
   "outputs": [],
   "source": [
    "# how many participants disagree with q1 and q2 questions? Look for value_counts() at pandas documentation: \n",
    "# https://pandas.pydata.org/pandas-docs/stable/reference/api/pandas.Series.value_counts.html"
   ]
  },
  {
   "cell_type": "code",
   "execution_count": 24,
   "metadata": {},
   "outputs": [
    {
     "data": {
      "text/plain": [
       "Disagree             46\n",
       "Strongly Disagree    36\n",
       "Strongly Agree       30\n",
       "Agree                28\n",
       "Name: q1, dtype: int64"
      ]
     },
     "execution_count": 24,
     "metadata": {},
     "output_type": "execute_result"
    }
   ],
   "source": [
    "df['q1']. value_counts()"
   ]
  },
  {
   "cell_type": "code",
   "execution_count": 1,
   "metadata": {},
   "outputs": [],
   "source": [
    "# convert the previous numbers into percentage"
   ]
  },
  {
   "cell_type": "code",
   "execution_count": 25,
   "metadata": {},
   "outputs": [
    {
     "data": {
      "text/plain": [
       "Disagree             0.328571\n",
       "Strongly Disagree    0.257143\n",
       "Strongly Agree       0.214286\n",
       "Agree                0.200000\n",
       "Name: q1, dtype: float64"
      ]
     },
     "execution_count": 25,
     "metadata": {},
     "output_type": "execute_result"
    }
   ],
   "source": [
    "df['q1']. value_counts(normalize = True)"
   ]
  },
  {
   "cell_type": "markdown",
   "metadata": {},
   "source": [
    "## 6. Visualizing all survey questions"
   ]
  },
  {
   "cell_type": "code",
   "execution_count": 44,
   "metadata": {},
   "outputs": [],
   "source": [
    "# plot/visualise categorical variable such as q4\n",
    "# you may refer to this old notebook you already solved in the first year: https://nbviewer.org/github/MaastrichtU-IDS/global-studies/blob/main/semester2/notebooks/4.1-data-visualization.ipynb"
   ]
  },
  {
   "cell_type": "code",
   "execution_count": 26,
   "metadata": {},
   "outputs": [
    {
     "data": {
      "text/plain": [
       "<AxesSubplot:>"
      ]
     },
     "execution_count": 26,
     "metadata": {},
     "output_type": "execute_result"
    },
    {
     "data": {
      "image/png": "[encoded data removed]",
      "text/plain": [
       "<Figure size 432x288 with 1 Axes>"
      ]
     },
     "metadata": {
      "needs_background": "light"
     },
     "output_type": "display_data"
    }
   ],
   "source": [
    "df['q4'].value_counts().plot(kind = \"bar\",color = \"#61d199\") # Neutral is missing ?"
   ]
  },
  {
   "cell_type": "markdown",
   "metadata": {
    "id": "uhOEYvjAI79S"
   },
   "source": [
    "---\n",
    "## 7. Transform/Prepare the data\n"
   ]
  },
  {
   "cell_type": "markdown",
   "metadata": {
    "id": "FC9jPYf8V6BJ"
   },
   "source": [
    "Convert the exisiting scale of questionnaire items into numerical Likert Scale\n",
    "\n",
    "> why? Look at the last 5 rows. What do you notice?"
   ]
  },
  {
   "cell_type": "code",
   "execution_count": 24,
   "metadata": {},
   "outputs": [
    {
     "data": {
      "text/html": [
       "<div>\n",
       "<style scoped>\n",
       "    .dataframe tbody tr th:only-of-type {\n",
       "        vertical-align: middle;\n",
       "    }\n",
       "\n",
       "    .dataframe tbody tr th {\n",
       "        vertical-align: top;\n",
       "    }\n",
       "\n",
       "    .dataframe thead th {\n",
       "        text-align: right;\n",
       "    }\n",
       "</style>\n",
       "<table border=\"1\" class=\"dataframe\">\n",
       "  <thead>\n",
       "    <tr style=\"text-align: right;\">\n",
       "      <th></th>\n",
       "      <th>id</th>\n",
       "      <th>age</th>\n",
       "      <th>gender</th>\n",
       "      <th>height</th>\n",
       "      <th>country</th>\n",
       "      <th>language</th>\n",
       "      <th>freq_travel</th>\n",
       "      <th>past_exp</th>\n",
       "      <th>q1</th>\n",
       "      <th>q2</th>\n",
       "      <th>q3</th>\n",
       "      <th>q4</th>\n",
       "      <th>q5</th>\n",
       "      <th>q6</th>\n",
       "      <th>q7</th>\n",
       "      <th>q8</th>\n",
       "    </tr>\n",
       "  </thead>\n",
       "  <tbody>\n",
       "    <tr>\n",
       "      <th>145</th>\n",
       "      <td>172</td>\n",
       "      <td>21.0</td>\n",
       "      <td>7</td>\n",
       "      <td>175</td>\n",
       "      <td>RU</td>\n",
       "      <td>1.0</td>\n",
       "      <td>4.0</td>\n",
       "      <td>Studying school abroad</td>\n",
       "      <td>NaN</td>\n",
       "      <td>NaN</td>\n",
       "      <td>Strongly Disagree</td>\n",
       "      <td>NaN</td>\n",
       "      <td>Agree</td>\n",
       "      <td>Disagree</td>\n",
       "      <td>Agree</td>\n",
       "      <td>Strongly Disagree</td>\n",
       "    </tr>\n",
       "    <tr>\n",
       "      <th>146</th>\n",
       "      <td>173</td>\n",
       "      <td>40.0</td>\n",
       "      <td>6</td>\n",
       "      <td>163</td>\n",
       "      <td>CN</td>\n",
       "      <td>1.0</td>\n",
       "      <td>1.0</td>\n",
       "      <td>Internship program</td>\n",
       "      <td>Strongly Agree</td>\n",
       "      <td>Strongly Agree</td>\n",
       "      <td>Strongly Agree</td>\n",
       "      <td>Disagree</td>\n",
       "      <td>Agree</td>\n",
       "      <td>Strongly Disagree</td>\n",
       "      <td>Strongly Disagree</td>\n",
       "      <td>Agree</td>\n",
       "    </tr>\n",
       "    <tr>\n",
       "      <th>147</th>\n",
       "      <td>174</td>\n",
       "      <td>NaN</td>\n",
       "      <td>5</td>\n",
       "      <td>182</td>\n",
       "      <td>AR</td>\n",
       "      <td>2.0</td>\n",
       "      <td>3.0</td>\n",
       "      <td>None</td>\n",
       "      <td>Strongly Disagree</td>\n",
       "      <td>Strongly Disagree</td>\n",
       "      <td>Strongly Disagree</td>\n",
       "      <td>Agree</td>\n",
       "      <td>Disagree</td>\n",
       "      <td>Disagree</td>\n",
       "      <td>Agree</td>\n",
       "      <td>Disagree</td>\n",
       "    </tr>\n",
       "    <tr>\n",
       "      <th>148</th>\n",
       "      <td>176</td>\n",
       "      <td>35.0</td>\n",
       "      <td>2</td>\n",
       "      <td>160</td>\n",
       "      <td>PH</td>\n",
       "      <td>1.0</td>\n",
       "      <td>3.0</td>\n",
       "      <td>Internship program</td>\n",
       "      <td>Strongly Agree</td>\n",
       "      <td>Strongly Disagree</td>\n",
       "      <td>NaN</td>\n",
       "      <td>Strongly Disagree</td>\n",
       "      <td>Strongly Disagree</td>\n",
       "      <td>Strongly Disagree</td>\n",
       "      <td>Strongly Agree</td>\n",
       "      <td>Strongly Disagree</td>\n",
       "    </tr>\n",
       "    <tr>\n",
       "      <th>149</th>\n",
       "      <td>177</td>\n",
       "      <td>NaN</td>\n",
       "      <td>8</td>\n",
       "      <td>160</td>\n",
       "      <td>CN</td>\n",
       "      <td>5.0</td>\n",
       "      <td>2.0</td>\n",
       "      <td>Internship program</td>\n",
       "      <td>Strongly Agree</td>\n",
       "      <td>Strongly Agree</td>\n",
       "      <td>NaN</td>\n",
       "      <td>Strongly Disagree</td>\n",
       "      <td>Strongly Disagree</td>\n",
       "      <td>Agree</td>\n",
       "      <td>Disagree</td>\n",
       "      <td>NaN</td>\n",
       "    </tr>\n",
       "  </tbody>\n",
       "</table>\n",
       "</div>"
      ],
      "text/plain": [
       "      id   age  gender  height country  language  freq_travel  \\\n",
       "145  172  21.0       7     175      RU       1.0          4.0   \n",
       "146  173  40.0       6     163      CN       1.0          1.0   \n",
       "147  174   NaN       5     182      AR       2.0          3.0   \n",
       "148  176  35.0       2     160      PH       1.0          3.0   \n",
       "149  177   NaN       8     160      CN       5.0          2.0   \n",
       "\n",
       "                   past_exp                 q1                 q2  \\\n",
       "145  Studying school abroad                NaN                NaN   \n",
       "146      Internship program     Strongly Agree     Strongly Agree   \n",
       "147                    None  Strongly Disagree  Strongly Disagree   \n",
       "148      Internship program     Strongly Agree  Strongly Disagree   \n",
       "149      Internship program     Strongly Agree     Strongly Agree   \n",
       "\n",
       "                    q3                 q4                 q5  \\\n",
       "145  Strongly Disagree                NaN              Agree   \n",
       "146     Strongly Agree           Disagree              Agree   \n",
       "147  Strongly Disagree              Agree           Disagree   \n",
       "148                NaN  Strongly Disagree  Strongly Disagree   \n",
       "149                NaN  Strongly Disagree  Strongly Disagree   \n",
       "\n",
       "                    q6                 q7                 q8  \n",
       "145           Disagree              Agree  Strongly Disagree  \n",
       "146  Strongly Disagree  Strongly Disagree              Agree  \n",
       "147           Disagree              Agree           Disagree  \n",
       "148  Strongly Disagree     Strongly Agree  Strongly Disagree  \n",
       "149              Agree           Disagree                NaN  "
      ]
     },
     "execution_count": 24,
     "metadata": {},
     "output_type": "execute_result"
    }
   ],
   "source": [
    "df.tail(5)"
   ]
  },
  {
   "cell_type": "markdown",
   "metadata": {},
   "source": [
    "We need to map likert scale options _(i.e.strongly agree)_ to numbers _(i.e. 5) as following:\n",
    "\n",
    "Strongly Agree ---> 5\n",
    "\n",
    "Agree ---> 4\n",
    "\n",
    "Neutral ---> 3\n",
    "\n",
    "Disagree ---> 2\n",
    "\n",
    "Agree ---> 1\n"
   ]
  },
  {
   "cell_type": "code",
   "execution_count": 4,
   "metadata": {},
   "outputs": [
    {
     "data": {
      "text/html": [
       "<div>\n",
       "<style scoped>\n",
       "    .dataframe tbody tr th:only-of-type {\n",
       "        vertical-align: middle;\n",
       "    }\n",
       "\n",
       "    .dataframe tbody tr th {\n",
       "        vertical-align: top;\n",
       "    }\n",
       "\n",
       "    .dataframe thead th {\n",
       "        text-align: right;\n",
       "    }\n",
       "</style>\n",
       "<table border=\"1\" class=\"dataframe\">\n",
       "  <thead>\n",
       "    <tr style=\"text-align: right;\">\n",
       "      <th></th>\n",
       "      <th>id</th>\n",
       "      <th>age</th>\n",
       "      <th>gender</th>\n",
       "      <th>height</th>\n",
       "      <th>country</th>\n",
       "      <th>language</th>\n",
       "      <th>freq_travel</th>\n",
       "      <th>past_exp</th>\n",
       "      <th>q1</th>\n",
       "      <th>q2</th>\n",
       "      <th>q3</th>\n",
       "      <th>q4</th>\n",
       "      <th>q5</th>\n",
       "      <th>q6</th>\n",
       "      <th>q7</th>\n",
       "      <th>q8</th>\n",
       "    </tr>\n",
       "  </thead>\n",
       "  <tbody>\n",
       "    <tr>\n",
       "      <th>145</th>\n",
       "      <td>172</td>\n",
       "      <td>21.0</td>\n",
       "      <td>7</td>\n",
       "      <td>175</td>\n",
       "      <td>RU</td>\n",
       "      <td>1.0</td>\n",
       "      <td>4.0</td>\n",
       "      <td>Studying school abroad</td>\n",
       "      <td>NaN</td>\n",
       "      <td>NaN</td>\n",
       "      <td>1.0</td>\n",
       "      <td>NaN</td>\n",
       "      <td>4</td>\n",
       "      <td>2</td>\n",
       "      <td>4</td>\n",
       "      <td>1.0</td>\n",
       "    </tr>\n",
       "    <tr>\n",
       "      <th>146</th>\n",
       "      <td>173</td>\n",
       "      <td>40.0</td>\n",
       "      <td>6</td>\n",
       "      <td>163</td>\n",
       "      <td>CN</td>\n",
       "      <td>1.0</td>\n",
       "      <td>1.0</td>\n",
       "      <td>Internship program</td>\n",
       "      <td>5.0</td>\n",
       "      <td>5.0</td>\n",
       "      <td>5.0</td>\n",
       "      <td>2.0</td>\n",
       "      <td>4</td>\n",
       "      <td>1</td>\n",
       "      <td>1</td>\n",
       "      <td>4.0</td>\n",
       "    </tr>\n",
       "    <tr>\n",
       "      <th>147</th>\n",
       "      <td>174</td>\n",
       "      <td>NaN</td>\n",
       "      <td>5</td>\n",
       "      <td>182</td>\n",
       "      <td>AR</td>\n",
       "      <td>2.0</td>\n",
       "      <td>3.0</td>\n",
       "      <td>None</td>\n",
       "      <td>1.0</td>\n",
       "      <td>1.0</td>\n",
       "      <td>1.0</td>\n",
       "      <td>4.0</td>\n",
       "      <td>2</td>\n",
       "      <td>2</td>\n",
       "      <td>4</td>\n",
       "      <td>2.0</td>\n",
       "    </tr>\n",
       "    <tr>\n",
       "      <th>148</th>\n",
       "      <td>176</td>\n",
       "      <td>35.0</td>\n",
       "      <td>2</td>\n",
       "      <td>160</td>\n",
       "      <td>PH</td>\n",
       "      <td>1.0</td>\n",
       "      <td>3.0</td>\n",
       "      <td>Internship program</td>\n",
       "      <td>5.0</td>\n",
       "      <td>1.0</td>\n",
       "      <td>NaN</td>\n",
       "      <td>1.0</td>\n",
       "      <td>1</td>\n",
       "      <td>1</td>\n",
       "      <td>5</td>\n",
       "      <td>1.0</td>\n",
       "    </tr>\n",
       "    <tr>\n",
       "      <th>149</th>\n",
       "      <td>177</td>\n",
       "      <td>NaN</td>\n",
       "      <td>8</td>\n",
       "      <td>160</td>\n",
       "      <td>CN</td>\n",
       "      <td>5.0</td>\n",
       "      <td>2.0</td>\n",
       "      <td>Internship program</td>\n",
       "      <td>5.0</td>\n",
       "      <td>5.0</td>\n",
       "      <td>NaN</td>\n",
       "      <td>1.0</td>\n",
       "      <td>1</td>\n",
       "      <td>4</td>\n",
       "      <td>2</td>\n",
       "      <td>NaN</td>\n",
       "    </tr>\n",
       "  </tbody>\n",
       "</table>\n",
       "</div>"
      ],
      "text/plain": [
       "      id   age  gender  height country  language  freq_travel  \\\n",
       "145  172  21.0       7     175      RU       1.0          4.0   \n",
       "146  173  40.0       6     163      CN       1.0          1.0   \n",
       "147  174   NaN       5     182      AR       2.0          3.0   \n",
       "148  176  35.0       2     160      PH       1.0          3.0   \n",
       "149  177   NaN       8     160      CN       5.0          2.0   \n",
       "\n",
       "                   past_exp   q1   q2   q3   q4  q5  q6  q7   q8  \n",
       "145  Studying school abroad  NaN  NaN  1.0  NaN   4   2   4  1.0  \n",
       "146      Internship program  5.0  5.0  5.0  2.0   4   1   1  4.0  \n",
       "147                    None  1.0  1.0  1.0  4.0   2   2   4  2.0  \n",
       "148      Internship program  5.0  1.0  NaN  1.0   1   1   5  1.0  \n",
       "149      Internship program  5.0  5.0  NaN  1.0   1   4   2  NaN  "
      ]
     },
     "execution_count": 4,
     "metadata": {},
     "output_type": "execute_result"
    }
   ],
   "source": [
    "df_transformed = df.replace(['Strongly Agree',\n",
    "                   'Agree', \n",
    "                   'Neutral', \n",
    "                   'Disagree', \n",
    "                   'Strongly Disagree'], [5,4,3,2,1])\n",
    "df_transformed.tail(5)"
   ]
  },
  {
   "cell_type": "code",
   "execution_count": 5,
   "metadata": {},
   "outputs": [
    {
     "data": {
      "text/plain": [
       "150"
      ]
     },
     "execution_count": 5,
     "metadata": {},
     "output_type": "execute_result"
    }
   ],
   "source": [
    "len(df_transformed)"
   ]
  },
  {
   "cell_type": "markdown",
   "metadata": {},
   "source": [
    "As you can see, the data set has already been converted to numbers. But double check the data types with `dtypes`. "
   ]
  },
  {
   "cell_type": "code",
   "execution_count": 6,
   "metadata": {},
   "outputs": [
    {
     "data": {
      "text/plain": [
       "id               int64\n",
       "age            float64\n",
       "gender           int64\n",
       "height           int64\n",
       "country         object\n",
       "language       float64\n",
       "freq_travel    float64\n",
       "past_exp        object\n",
       "q1             float64\n",
       "q2             float64\n",
       "q3             float64\n",
       "q4             float64\n",
       "q5               int64\n",
       "q6               int64\n",
       "q7               int64\n",
       "q8             float64\n",
       "dtype: object"
      ]
     },
     "execution_count": 6,
     "metadata": {},
     "output_type": "execute_result"
    }
   ],
   "source": [
    "df_transformed.dtypes"
   ]
  },
  {
   "cell_type": "markdown",
   "metadata": {},
   "source": [
    "## 8. Missing Values in the Dataset\n",
    "\n",
    "We explore the missing values with heatmaps. Look at the following code and explain what it does before running"
   ]
  },
  {
   "cell_type": "code",
   "execution_count": 7,
   "metadata": {},
   "outputs": [
    {
     "data": {
      "text/plain": [
       "Text(0.5, 1.0, 'Missing values in the dataset')"
      ]
     },
     "execution_count": 7,
     "metadata": {},
     "output_type": "execute_result"
    },
    {
     "data": {
      "image/png": "[encoded data removed]",
      "text/plain": [
       "<Figure size 1800x792 with 2 Axes>"
      ]
     },
     "metadata": {
      "needs_background": "light"
     },
     "output_type": "display_data"
    }
   ],
   "source": [
    "import seaborn as sns\n",
    "import matplotlib.pyplot as plt\n",
    "names = df_transformed.columns\n",
    "plt.figure(figsize = (25,11))\n",
    "sns.heatmap(df_transformed.isna().values, xticklabels=df_transformed.columns)\n",
    "plt.title(\"Missing values in the dataset\", size=20)"
   ]
  },
  {
   "cell_type": "markdown",
   "metadata": {},
   "source": [
    "The main questionnarie items of interest are our survey items: q1, q2,...... q8. So we will drop rest of the columns."
   ]
  },
  {
   "cell_type": "code",
   "execution_count": null,
   "metadata": {},
   "outputs": [],
   "source": [
    "#drop the columns: id, age, gender, height, country, language, freq_travel and past_exp"
   ]
  },
  {
   "cell_type": "code",
   "execution_count": 8,
   "metadata": {},
   "outputs": [
    {
     "data": {
      "text/html": [
       "<div>\n",
       "<style scoped>\n",
       "    .dataframe tbody tr th:only-of-type {\n",
       "        vertical-align: middle;\n",
       "    }\n",
       "\n",
       "    .dataframe tbody tr th {\n",
       "        vertical-align: top;\n",
       "    }\n",
       "\n",
       "    .dataframe thead th {\n",
       "        text-align: right;\n",
       "    }\n",
       "</style>\n",
       "<table border=\"1\" class=\"dataframe\">\n",
       "  <thead>\n",
       "    <tr style=\"text-align: right;\">\n",
       "      <th></th>\n",
       "      <th>q1</th>\n",
       "      <th>q2</th>\n",
       "      <th>q3</th>\n",
       "      <th>q4</th>\n",
       "      <th>q5</th>\n",
       "      <th>q6</th>\n",
       "      <th>q7</th>\n",
       "      <th>q8</th>\n",
       "    </tr>\n",
       "  </thead>\n",
       "  <tbody>\n",
       "    <tr>\n",
       "      <th>0</th>\n",
       "      <td>5.0</td>\n",
       "      <td>5.0</td>\n",
       "      <td>5.0</td>\n",
       "      <td>5.0</td>\n",
       "      <td>5</td>\n",
       "      <td>4</td>\n",
       "      <td>5</td>\n",
       "      <td>5.0</td>\n",
       "    </tr>\n",
       "    <tr>\n",
       "      <th>1</th>\n",
       "      <td>5.0</td>\n",
       "      <td>5.0</td>\n",
       "      <td>4.0</td>\n",
       "      <td>4.0</td>\n",
       "      <td>2</td>\n",
       "      <td>2</td>\n",
       "      <td>2</td>\n",
       "      <td>2.0</td>\n",
       "    </tr>\n",
       "    <tr>\n",
       "      <th>2</th>\n",
       "      <td>1.0</td>\n",
       "      <td>5.0</td>\n",
       "      <td>2.0</td>\n",
       "      <td>5.0</td>\n",
       "      <td>1</td>\n",
       "      <td>1</td>\n",
       "      <td>5</td>\n",
       "      <td>2.0</td>\n",
       "    </tr>\n",
       "    <tr>\n",
       "      <th>3</th>\n",
       "      <td>2.0</td>\n",
       "      <td>5.0</td>\n",
       "      <td>5.0</td>\n",
       "      <td>2.0</td>\n",
       "      <td>2</td>\n",
       "      <td>4</td>\n",
       "      <td>4</td>\n",
       "      <td>4.0</td>\n",
       "    </tr>\n",
       "    <tr>\n",
       "      <th>4</th>\n",
       "      <td>5.0</td>\n",
       "      <td>4.0</td>\n",
       "      <td>5.0</td>\n",
       "      <td>5.0</td>\n",
       "      <td>4</td>\n",
       "      <td>2</td>\n",
       "      <td>2</td>\n",
       "      <td>4.0</td>\n",
       "    </tr>\n",
       "    <tr>\n",
       "      <th>...</th>\n",
       "      <td>...</td>\n",
       "      <td>...</td>\n",
       "      <td>...</td>\n",
       "      <td>...</td>\n",
       "      <td>...</td>\n",
       "      <td>...</td>\n",
       "      <td>...</td>\n",
       "      <td>...</td>\n",
       "    </tr>\n",
       "    <tr>\n",
       "      <th>145</th>\n",
       "      <td>NaN</td>\n",
       "      <td>NaN</td>\n",
       "      <td>1.0</td>\n",
       "      <td>NaN</td>\n",
       "      <td>4</td>\n",
       "      <td>2</td>\n",
       "      <td>4</td>\n",
       "      <td>1.0</td>\n",
       "    </tr>\n",
       "    <tr>\n",
       "      <th>146</th>\n",
       "      <td>5.0</td>\n",
       "      <td>5.0</td>\n",
       "      <td>5.0</td>\n",
       "      <td>2.0</td>\n",
       "      <td>4</td>\n",
       "      <td>1</td>\n",
       "      <td>1</td>\n",
       "      <td>4.0</td>\n",
       "    </tr>\n",
       "    <tr>\n",
       "      <th>147</th>\n",
       "      <td>1.0</td>\n",
       "      <td>1.0</td>\n",
       "      <td>1.0</td>\n",
       "      <td>4.0</td>\n",
       "      <td>2</td>\n",
       "      <td>2</td>\n",
       "      <td>4</td>\n",
       "      <td>2.0</td>\n",
       "    </tr>\n",
       "    <tr>\n",
       "      <th>148</th>\n",
       "      <td>5.0</td>\n",
       "      <td>1.0</td>\n",
       "      <td>NaN</td>\n",
       "      <td>1.0</td>\n",
       "      <td>1</td>\n",
       "      <td>1</td>\n",
       "      <td>5</td>\n",
       "      <td>1.0</td>\n",
       "    </tr>\n",
       "    <tr>\n",
       "      <th>149</th>\n",
       "      <td>5.0</td>\n",
       "      <td>5.0</td>\n",
       "      <td>NaN</td>\n",
       "      <td>1.0</td>\n",
       "      <td>1</td>\n",
       "      <td>4</td>\n",
       "      <td>2</td>\n",
       "      <td>NaN</td>\n",
       "    </tr>\n",
       "  </tbody>\n",
       "</table>\n",
       "<p>150 rows × 8 columns</p>\n",
       "</div>"
      ],
      "text/plain": [
       "      q1   q2   q3   q4  q5  q6  q7   q8\n",
       "0    5.0  5.0  5.0  5.0   5   4   5  5.0\n",
       "1    5.0  5.0  4.0  4.0   2   2   2  2.0\n",
       "2    1.0  5.0  2.0  5.0   1   1   5  2.0\n",
       "3    2.0  5.0  5.0  2.0   2   4   4  4.0\n",
       "4    5.0  4.0  5.0  5.0   4   2   2  4.0\n",
       "..   ...  ...  ...  ...  ..  ..  ..  ...\n",
       "145  NaN  NaN  1.0  NaN   4   2   4  1.0\n",
       "146  5.0  5.0  5.0  2.0   4   1   1  4.0\n",
       "147  1.0  1.0  1.0  4.0   2   2   4  2.0\n",
       "148  5.0  1.0  NaN  1.0   1   1   5  1.0\n",
       "149  5.0  5.0  NaN  1.0   1   4   2  NaN\n",
       "\n",
       "[150 rows x 8 columns]"
      ]
     },
     "execution_count": 8,
     "metadata": {},
     "output_type": "execute_result"
    }
   ],
   "source": [
    "df_transformed = df_transformed.drop(['id','age','gender','height','country','language','freq_travel','past_exp'], axis=1)\n",
    "df_transformed"
   ]
  },
  {
   "cell_type": "markdown",
   "metadata": {},
   "source": [
    "Replace the missing value (NaN) with the mean of that column."
   ]
  },
  {
   "cell_type": "code",
   "execution_count": 9,
   "metadata": {},
   "outputs": [
    {
     "data": {
      "text/plain": [
       "q1    2.785714\n",
       "q2    2.957143\n",
       "q3    2.966942\n",
       "q4    3.028571\n",
       "q5    2.900000\n",
       "q6    2.900000\n",
       "q7    3.000000\n",
       "q8    2.921260\n",
       "dtype: float64"
      ]
     },
     "execution_count": 9,
     "metadata": {},
     "output_type": "execute_result"
    }
   ],
   "source": [
    "#Compute the means of each colum \n",
    "#Hint use the mean() funtion on the dataframe\n",
    "column_means = df_transformed.mean()\n",
    "column_means"
   ]
  },
  {
   "cell_type": "code",
   "execution_count": 10,
   "metadata": {},
   "outputs": [
    {
     "data": {
      "text/html": [
       "<div>\n",
       "<style scoped>\n",
       "    .dataframe tbody tr th:only-of-type {\n",
       "        vertical-align: middle;\n",
       "    }\n",
       "\n",
       "    .dataframe tbody tr th {\n",
       "        vertical-align: top;\n",
       "    }\n",
       "\n",
       "    .dataframe thead th {\n",
       "        text-align: right;\n",
       "    }\n",
       "</style>\n",
       "<table border=\"1\" class=\"dataframe\">\n",
       "  <thead>\n",
       "    <tr style=\"text-align: right;\">\n",
       "      <th></th>\n",
       "      <th>q1</th>\n",
       "      <th>q2</th>\n",
       "      <th>q3</th>\n",
       "      <th>q4</th>\n",
       "      <th>q5</th>\n",
       "      <th>q6</th>\n",
       "      <th>q7</th>\n",
       "      <th>q8</th>\n",
       "    </tr>\n",
       "  </thead>\n",
       "  <tbody>\n",
       "    <tr>\n",
       "      <th>0</th>\n",
       "      <td>5.000000</td>\n",
       "      <td>5.000000</td>\n",
       "      <td>5.000000</td>\n",
       "      <td>5.000000</td>\n",
       "      <td>5</td>\n",
       "      <td>4</td>\n",
       "      <td>5</td>\n",
       "      <td>5.00000</td>\n",
       "    </tr>\n",
       "    <tr>\n",
       "      <th>1</th>\n",
       "      <td>5.000000</td>\n",
       "      <td>5.000000</td>\n",
       "      <td>4.000000</td>\n",
       "      <td>4.000000</td>\n",
       "      <td>2</td>\n",
       "      <td>2</td>\n",
       "      <td>2</td>\n",
       "      <td>2.00000</td>\n",
       "    </tr>\n",
       "    <tr>\n",
       "      <th>2</th>\n",
       "      <td>1.000000</td>\n",
       "      <td>5.000000</td>\n",
       "      <td>2.000000</td>\n",
       "      <td>5.000000</td>\n",
       "      <td>1</td>\n",
       "      <td>1</td>\n",
       "      <td>5</td>\n",
       "      <td>2.00000</td>\n",
       "    </tr>\n",
       "    <tr>\n",
       "      <th>3</th>\n",
       "      <td>2.000000</td>\n",
       "      <td>5.000000</td>\n",
       "      <td>5.000000</td>\n",
       "      <td>2.000000</td>\n",
       "      <td>2</td>\n",
       "      <td>4</td>\n",
       "      <td>4</td>\n",
       "      <td>4.00000</td>\n",
       "    </tr>\n",
       "    <tr>\n",
       "      <th>4</th>\n",
       "      <td>5.000000</td>\n",
       "      <td>4.000000</td>\n",
       "      <td>5.000000</td>\n",
       "      <td>5.000000</td>\n",
       "      <td>4</td>\n",
       "      <td>2</td>\n",
       "      <td>2</td>\n",
       "      <td>4.00000</td>\n",
       "    </tr>\n",
       "    <tr>\n",
       "      <th>...</th>\n",
       "      <td>...</td>\n",
       "      <td>...</td>\n",
       "      <td>...</td>\n",
       "      <td>...</td>\n",
       "      <td>...</td>\n",
       "      <td>...</td>\n",
       "      <td>...</td>\n",
       "      <td>...</td>\n",
       "    </tr>\n",
       "    <tr>\n",
       "      <th>145</th>\n",
       "      <td>2.785714</td>\n",
       "      <td>2.957143</td>\n",
       "      <td>1.000000</td>\n",
       "      <td>3.028571</td>\n",
       "      <td>4</td>\n",
       "      <td>2</td>\n",
       "      <td>4</td>\n",
       "      <td>1.00000</td>\n",
       "    </tr>\n",
       "    <tr>\n",
       "      <th>146</th>\n",
       "      <td>5.000000</td>\n",
       "      <td>5.000000</td>\n",
       "      <td>5.000000</td>\n",
       "      <td>2.000000</td>\n",
       "      <td>4</td>\n",
       "      <td>1</td>\n",
       "      <td>1</td>\n",
       "      <td>4.00000</td>\n",
       "    </tr>\n",
       "    <tr>\n",
       "      <th>147</th>\n",
       "      <td>1.000000</td>\n",
       "      <td>1.000000</td>\n",
       "      <td>1.000000</td>\n",
       "      <td>4.000000</td>\n",
       "      <td>2</td>\n",
       "      <td>2</td>\n",
       "      <td>4</td>\n",
       "      <td>2.00000</td>\n",
       "    </tr>\n",
       "    <tr>\n",
       "      <th>148</th>\n",
       "      <td>5.000000</td>\n",
       "      <td>1.000000</td>\n",
       "      <td>2.966942</td>\n",
       "      <td>1.000000</td>\n",
       "      <td>1</td>\n",
       "      <td>1</td>\n",
       "      <td>5</td>\n",
       "      <td>1.00000</td>\n",
       "    </tr>\n",
       "    <tr>\n",
       "      <th>149</th>\n",
       "      <td>5.000000</td>\n",
       "      <td>5.000000</td>\n",
       "      <td>2.966942</td>\n",
       "      <td>1.000000</td>\n",
       "      <td>1</td>\n",
       "      <td>4</td>\n",
       "      <td>2</td>\n",
       "      <td>2.92126</td>\n",
       "    </tr>\n",
       "  </tbody>\n",
       "</table>\n",
       "<p>150 rows × 8 columns</p>\n",
       "</div>"
      ],
      "text/plain": [
       "           q1        q2        q3        q4  q5  q6  q7       q8\n",
       "0    5.000000  5.000000  5.000000  5.000000   5   4   5  5.00000\n",
       "1    5.000000  5.000000  4.000000  4.000000   2   2   2  2.00000\n",
       "2    1.000000  5.000000  2.000000  5.000000   1   1   5  2.00000\n",
       "3    2.000000  5.000000  5.000000  2.000000   2   4   4  4.00000\n",
       "4    5.000000  4.000000  5.000000  5.000000   4   2   2  4.00000\n",
       "..        ...       ...       ...       ...  ..  ..  ..      ...\n",
       "145  2.785714  2.957143  1.000000  3.028571   4   2   4  1.00000\n",
       "146  5.000000  5.000000  5.000000  2.000000   4   1   1  4.00000\n",
       "147  1.000000  1.000000  1.000000  4.000000   2   2   4  2.00000\n",
       "148  5.000000  1.000000  2.966942  1.000000   1   1   5  1.00000\n",
       "149  5.000000  5.000000  2.966942  1.000000   1   4   2  2.92126\n",
       "\n",
       "[150 rows x 8 columns]"
      ]
     },
     "execution_count": 10,
     "metadata": {},
     "output_type": "execute_result"
    }
   ],
   "source": [
    "#Use the fillna() function to fill the missing (NaN) value with the mean\n",
    "df_transformed_without_NaN = df_transformed.fillna(column_means)\n",
    "df_transformed_without_NaN"
   ]
  },
  {
   "cell_type": "markdown",
   "metadata": {},
   "source": [
    "Another way to address the missing values is to drop the rows with missing values from the DataFrame. "
   ]
  },
  {
   "cell_type": "code",
   "execution_count": 11,
   "metadata": {},
   "outputs": [],
   "source": [
    "df_transformed.dropna(inplace=True)"
   ]
  },
  {
   "cell_type": "markdown",
   "metadata": {},
   "source": [
    "Check how many rows remain after dropping the rows with missing (NaN) values."
   ]
  },
  {
   "cell_type": "code",
   "execution_count": 19,
   "metadata": {},
   "outputs": [
    {
     "data": {
      "text/plain": [
       "87"
      ]
     },
     "execution_count": 19,
     "metadata": {},
     "output_type": "execute_result"
    }
   ],
   "source": [
    "len(df_transformed)"
   ]
  },
  {
   "cell_type": "markdown",
   "metadata": {},
   "source": [
    "Which of the following is a better strategy:\n",
    "\n",
    "i) Drop the rows with missing values or\n",
    "\n",
    "ii)Replace the missing values by mean or mode."
   ]
  }
 ],
 "metadata": {
  "celltoolbar": "Slideshow",
  "colab": {
   "collapsed_sections": [],
   "name": "Tutorial 1: Analysing survey Data (Tolerance construct)",
   "provenance": []
  },
  "kernelspec": {
   "display_name": "Python 3",
   "language": "python",
   "name": "python3"
  },
  "language_info": {
   "codemirror_mode": {
    "name": "ipython",
    "version": 3
   },
   "file_extension": ".py",
   "mimetype": "text/x-python",
   "name": "python",
   "nbconvert_exporter": "python",
   "pygments_lexer": "ipython3",
   "version": "3.8.5"
  }
 },
 "nbformat": 4,
 "nbformat_minor": 4
}
