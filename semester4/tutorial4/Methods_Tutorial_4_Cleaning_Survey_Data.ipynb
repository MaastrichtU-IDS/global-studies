{
 "cells": [
  {
   "cell_type": "markdown",
   "metadata": {
    "id": "9TE_myjakNHU"
   },
   "source": [
    "# Tutorial 4: Cleaning Survey Data\n",
    "**Date**: Feb 2022\n",
    "\n",
    "**Background**\n",
    "\n",
    "In the last two tutorials you learned how to develop questionnaires for particular case studies: tolerance, happiness and climate change. You also learned how to reduce bias in question design, questionnaire design and administration of questionnaire. \n",
    "\n",
    "Now we will focus on a case-study to measure tolerance and follow the various steps needed to analyze a questionnaire in Python. \n",
    "\n",
    "\n",
    "**Case-Study**\n",
    "\n",
    "A group of researchers are looking to explore tolerance as an orientation towards difference. They define tolerance as a value orientation towards difference. They developed a questionnaire focusing on the three different expressions of tolerance [1]:\n",
    "\n",
    "\n",
    "<p align=\\\"center\\\"><img src='./images/items.png' width=\"1000\" /></p>\n",
    "\n",
    "They used this questionnaire to assess the tolerance for a sample of 150 university students. The responses to the questionnaire items were recorded in a Comma Separated Value (CSV) file. In addition to this, the researchers also included questions about general socio-demographics and past experiences.\n",
    "\n",
    "**Data**\n",
    "\n",
    "\n",
    "Here is a description of the variables in the dataset (`tolerance_survey_data.csv` file):\n",
    "\n",
    "|id|variable   |description                                                                                                                                                     |\n",
    "|------|-----------|----------------------------------------------------------------------------------------------------------------------------------------------------------------|\n",
    "|1     |id         |annoymized unique identifier per individual                                                                                                                                                       |\n",
    "|2     |age        |Age of student                                                                                                                                                                                                          |\n",
    "|3     |height     |Height (scale in cm, e.g. 183)                                                                                                                                  |\n",
    "|4     |country    |Where are you come from? (Country)                                                                                                                              |\n",
    "|5     |language   |How many language you speak at home to your family?                                                                                                             |\n",
    "|6     |freq_travel|How many different countries have you lived in?                                                                                                                                                                   |\n",
    "|7     |q1         |five-point Likert Scale from 'strongly disagree' to 'strongly agree': [People should have the right to live how they wish]|\n",
    "|8    |q2         |five-point Likert Scale from 'strongly disagree' to 'strongly agree': [It is important that people have the freedom to live their life as they choose]     |\n",
    "|9   |q3         |five-point Likert Scale from 'strongly disagree' to 'strongly agree': [ It is okay for people to live as they wish as long as they do not harm other people]                                    |\n",
    "|10    |q4         |five-point Likert Scale from 'strongly disagree' to 'strongly agree': [I respect other people’s beliefs and opinions]        |\n",
    "|11    |q5         |five-point Likert Scale from 'strongly disagree' to 'strongly agree': [I respect other people’s opinions even when I do not agree]   |\n",
    "|12    |q6         |five-point Likert Scale from 'strongly disagree' to 'strongly agree': [I like to spend time with people who are different from me]                                         |\n",
    "|13    |q7         |five-point Likert Scale from 'strongly disagree' to 'strongly agree': [I like people who challenge me to think about the world in a different way]                            |\n",
    "|14   |q8         |five-point Likert Scale from 'strongly disagree' to 'strongly agree': [Society benefits from a diversity of traditions and lifestyles]                            |\n",
    "                 |\n",
    "\n",
    "\n",
    "**Overview of the Next 3 Tutorials**\n",
    "\n",
    "We will follow three major steps to analyze a questionnaire in Python:\n",
    "\n",
    "1.\t**Data Cleaning (Tutorial 4)**: Before processing the data recorded from the respondents answers it is imperative to understand the data types related to questionnaire items. It might be necessary to transform data from one measurement scale to another for quantitative processing. There might be missing values in the data. Appropriate measures should be taken to handle the missing values.\n",
    "\n",
    "\n",
    "2.\t**Reliability and Validity (Tutorial 5)**: Assessment of the internal consistency of the survey items. The coefficient of internal consistency provides an estimate of the reliability of the measurement and is based on the assumption that items measuring the same construct should correlate.\n",
    "\n",
    "\n",
    "3.\t**Factor Analysis (Tutorial 6)**: A multivariate statistical procedure that reduces a large number of observed variables into a smaller set of variables (factors). The underlying variables, factors can explain the interrelationships among the observed variables.\n",
    "\n",
    "\n",
    "<br>\n",
    "<br>\n",
    "\n",
    "\n",
    "**Today's Objectives**\n",
    "\n",
    "**In today’s tutorial on Cleaning Survey Data, you will:**\n",
    "\n",
    "**i)\tImport the survey data into pandas**\n",
    "\n",
    "**ii)\tAnalyze the datatypes**\n",
    "\n",
    "**iii)Transform the data for quantitative processing**\n",
    "\n",
    "**iv)\tHandle missing values**\n",
    "\n",
    "\n",
    "\n",
    "\n",
    "\n",
    "[1] Hjerm, M., Eger, M. A., Bohman, A., & Fors Connolly, F. (2020). A new approach to the study of tolerance: Conceptualizing and measuring acceptance, respect, and appreciation of difference. Social Indicators Research, 147(3), 897-919.\n",
    "Chicago\t\n",
    "\n",
    "\n"
   ]
  },
  {
   "cell_type": "markdown",
   "metadata": {
    "id": "a7H9WM9XBFCM"
   },
   "source": [
    "## 1. Setup Library\n",
    "\n",
    "Import the necessary libraries you will need to clean and pre-process the survey data."
   ]
  },
  {
   "cell_type": "code",
   "execution_count": 3,
   "metadata": {},
   "outputs": [],
   "source": [
    "import pandas as pd"
   ]
  },
  {
   "cell_type": "markdown",
   "metadata": {
    "id": "Ye2-0R0IbP-a"
   },
   "source": [
    "## 2. Import Data "
   ]
  },
  {
   "cell_type": "markdown",
   "metadata": {},
   "source": [
    "For this tutorial, we will be using the **cleaned version** of \"tolerance survey dataset\". \n",
    "The csv file that we will be using `tolerance_survey_data.csv` is available at https://raw.githubusercontent.com/MaastrichtU-IDS/global-studies/main/semester4/tutorial4/inputs/tolerance_survey_data.csv \n",
    "\n",
    "Import this file in pandas using the `read_csv()` function."
   ]
  },
  {
   "cell_type": "code",
   "execution_count": 4,
   "metadata": {},
   "outputs": [
    {
     "data": {
      "text/html": [
       "<div>\n",
       "<style scoped>\n",
       "    .dataframe tbody tr th:only-of-type {\n",
       "        vertical-align: middle;\n",
       "    }\n",
       "\n",
       "    .dataframe tbody tr th {\n",
       "        vertical-align: top;\n",
       "    }\n",
       "\n",
       "    .dataframe thead th {\n",
       "        text-align: right;\n",
       "    }\n",
       "</style>\n",
       "<table border=\"1\" class=\"dataframe\">\n",
       "  <thead>\n",
       "    <tr style=\"text-align: right;\">\n",
       "      <th></th>\n",
       "      <th>id</th>\n",
       "      <th>age</th>\n",
       "      <th>height</th>\n",
       "      <th>country</th>\n",
       "      <th>language</th>\n",
       "      <th>freq_travel</th>\n",
       "      <th>q1</th>\n",
       "      <th>q2</th>\n",
       "      <th>q3</th>\n",
       "      <th>q4</th>\n",
       "      <th>q5</th>\n",
       "      <th>q6</th>\n",
       "      <th>q7</th>\n",
       "      <th>q8</th>\n",
       "    </tr>\n",
       "  </thead>\n",
       "  <tbody>\n",
       "    <tr>\n",
       "      <th>0</th>\n",
       "      <td>1</td>\n",
       "      <td>34.0</td>\n",
       "      <td>186</td>\n",
       "      <td>Spain</td>\n",
       "      <td>1.0</td>\n",
       "      <td>5.0</td>\n",
       "      <td>Agree</td>\n",
       "      <td>Agree</td>\n",
       "      <td>Agree</td>\n",
       "      <td>Agree</td>\n",
       "      <td>Neutral</td>\n",
       "      <td>Disagree</td>\n",
       "      <td>Neutral</td>\n",
       "      <td>Neutral</td>\n",
       "    </tr>\n",
       "    <tr>\n",
       "      <th>1</th>\n",
       "      <td>2</td>\n",
       "      <td>34.0</td>\n",
       "      <td>157</td>\n",
       "      <td>BR</td>\n",
       "      <td>2.0</td>\n",
       "      <td>3.0</td>\n",
       "      <td>Strongly Agree</td>\n",
       "      <td>Agree</td>\n",
       "      <td>Neutral</td>\n",
       "      <td>Agree</td>\n",
       "      <td>Strongly Agree</td>\n",
       "      <td>Strongly Agree</td>\n",
       "      <td>Agree</td>\n",
       "      <td>Agree</td>\n",
       "    </tr>\n",
       "    <tr>\n",
       "      <th>2</th>\n",
       "      <td>3</td>\n",
       "      <td>27.0</td>\n",
       "      <td>191</td>\n",
       "      <td>RU</td>\n",
       "      <td>4.0</td>\n",
       "      <td>2.0</td>\n",
       "      <td>Agree</td>\n",
       "      <td>Agree</td>\n",
       "      <td>Strongly Agree</td>\n",
       "      <td>Agree</td>\n",
       "      <td>Strongly Agree</td>\n",
       "      <td>Agree</td>\n",
       "      <td>Strongly Agree</td>\n",
       "      <td>Agree</td>\n",
       "    </tr>\n",
       "    <tr>\n",
       "      <th>3</th>\n",
       "      <td>4</td>\n",
       "      <td>35.0</td>\n",
       "      <td>165</td>\n",
       "      <td>RU</td>\n",
       "      <td>3.0</td>\n",
       "      <td>5.0</td>\n",
       "      <td>Agree</td>\n",
       "      <td>Agree</td>\n",
       "      <td>Agree</td>\n",
       "      <td>Agree</td>\n",
       "      <td>Strongly Agree</td>\n",
       "      <td>Agree</td>\n",
       "      <td>Agree</td>\n",
       "      <td>Neutral</td>\n",
       "    </tr>\n",
       "    <tr>\n",
       "      <th>4</th>\n",
       "      <td>5</td>\n",
       "      <td>34.0</td>\n",
       "      <td>164</td>\n",
       "      <td>ID</td>\n",
       "      <td>5.0</td>\n",
       "      <td>5.0</td>\n",
       "      <td>Strongly Agree</td>\n",
       "      <td>Agree</td>\n",
       "      <td>Strongly Agree</td>\n",
       "      <td>Neutral</td>\n",
       "      <td>Neutral</td>\n",
       "      <td>Agree</td>\n",
       "      <td>Agree</td>\n",
       "      <td>Strongly Agree</td>\n",
       "    </tr>\n",
       "    <tr>\n",
       "      <th>5</th>\n",
       "      <td>6</td>\n",
       "      <td>NaN</td>\n",
       "      <td>165</td>\n",
       "      <td>ID</td>\n",
       "      <td>3.0</td>\n",
       "      <td>3.0</td>\n",
       "      <td>Strongly Agree</td>\n",
       "      <td>Strongly Agree</td>\n",
       "      <td>Strongly Agree</td>\n",
       "      <td>Strongly Agree</td>\n",
       "      <td>Strongly Agree</td>\n",
       "      <td>Strongly Agree</td>\n",
       "      <td>Strongly Agree</td>\n",
       "      <td>Strongly Agree</td>\n",
       "    </tr>\n",
       "    <tr>\n",
       "      <th>6</th>\n",
       "      <td>8</td>\n",
       "      <td>32.0</td>\n",
       "      <td>222</td>\n",
       "      <td>ID</td>\n",
       "      <td>3.0</td>\n",
       "      <td>5.0</td>\n",
       "      <td>Agree</td>\n",
       "      <td>Strongly Agree</td>\n",
       "      <td>Strongly Agree</td>\n",
       "      <td>Strongly Agree</td>\n",
       "      <td>Strongly Agree</td>\n",
       "      <td>Strongly Agree</td>\n",
       "      <td>Agree</td>\n",
       "      <td>Agree</td>\n",
       "    </tr>\n",
       "    <tr>\n",
       "      <th>7</th>\n",
       "      <td>9</td>\n",
       "      <td>39.0</td>\n",
       "      <td>173</td>\n",
       "      <td>CN</td>\n",
       "      <td>4.0</td>\n",
       "      <td>5.0</td>\n",
       "      <td>Agree</td>\n",
       "      <td>Disagree</td>\n",
       "      <td>Strongly Disagree</td>\n",
       "      <td>Neutral</td>\n",
       "      <td>Strongly Disagree</td>\n",
       "      <td>Neutral</td>\n",
       "      <td>Disagree</td>\n",
       "      <td>Agree</td>\n",
       "    </tr>\n",
       "    <tr>\n",
       "      <th>8</th>\n",
       "      <td>10</td>\n",
       "      <td>29.0</td>\n",
       "      <td>177</td>\n",
       "      <td>AL</td>\n",
       "      <td>2.0</td>\n",
       "      <td>1.0</td>\n",
       "      <td>NaN</td>\n",
       "      <td>Agree</td>\n",
       "      <td>Neutral</td>\n",
       "      <td>Neutral</td>\n",
       "      <td>Strongly Agree</td>\n",
       "      <td>Strongly Agree</td>\n",
       "      <td>Strongly Agree</td>\n",
       "      <td>Neutral</td>\n",
       "    </tr>\n",
       "    <tr>\n",
       "      <th>9</th>\n",
       "      <td>11</td>\n",
       "      <td>19.0</td>\n",
       "      <td>159</td>\n",
       "      <td>NI</td>\n",
       "      <td>2.0</td>\n",
       "      <td>4.0</td>\n",
       "      <td>Agree</td>\n",
       "      <td>Strongly Agree</td>\n",
       "      <td>Strongly Agree</td>\n",
       "      <td>Strongly Agree</td>\n",
       "      <td>Strongly Agree</td>\n",
       "      <td>Strongly Agree</td>\n",
       "      <td>Strongly Agree</td>\n",
       "      <td>Strongly Agree</td>\n",
       "    </tr>\n",
       "  </tbody>\n",
       "</table>\n",
       "</div>"
      ],
      "text/plain": [
       "   id   age  height country  language  freq_travel              q1  \\\n",
       "0   1  34.0     186   Spain       1.0          5.0           Agree   \n",
       "1   2  34.0     157      BR       2.0          3.0  Strongly Agree   \n",
       "2   3  27.0     191      RU       4.0          2.0           Agree   \n",
       "3   4  35.0     165      RU       3.0          5.0           Agree   \n",
       "4   5  34.0     164      ID       5.0          5.0  Strongly Agree   \n",
       "5   6   NaN     165      ID       3.0          3.0  Strongly Agree   \n",
       "6   8  32.0     222      ID       3.0          5.0           Agree   \n",
       "7   9  39.0     173      CN       4.0          5.0           Agree   \n",
       "8  10  29.0     177      AL       2.0          1.0             NaN   \n",
       "9  11  19.0     159      NI       2.0          4.0           Agree   \n",
       "\n",
       "               q2                 q3              q4                 q5  \\\n",
       "0           Agree              Agree           Agree            Neutral   \n",
       "1           Agree            Neutral           Agree     Strongly Agree   \n",
       "2           Agree     Strongly Agree           Agree     Strongly Agree   \n",
       "3           Agree              Agree           Agree     Strongly Agree   \n",
       "4           Agree     Strongly Agree         Neutral            Neutral   \n",
       "5  Strongly Agree     Strongly Agree  Strongly Agree     Strongly Agree   \n",
       "6  Strongly Agree     Strongly Agree  Strongly Agree     Strongly Agree   \n",
       "7        Disagree  Strongly Disagree         Neutral  Strongly Disagree   \n",
       "8           Agree            Neutral         Neutral     Strongly Agree   \n",
       "9  Strongly Agree     Strongly Agree  Strongly Agree     Strongly Agree   \n",
       "\n",
       "               q6              q7              q8  \n",
       "0        Disagree         Neutral         Neutral  \n",
       "1  Strongly Agree           Agree           Agree  \n",
       "2           Agree  Strongly Agree           Agree  \n",
       "3           Agree           Agree         Neutral  \n",
       "4           Agree           Agree  Strongly Agree  \n",
       "5  Strongly Agree  Strongly Agree  Strongly Agree  \n",
       "6  Strongly Agree           Agree           Agree  \n",
       "7         Neutral        Disagree           Agree  \n",
       "8  Strongly Agree  Strongly Agree         Neutral  \n",
       "9  Strongly Agree  Strongly Agree  Strongly Agree  "
      ]
     },
     "execution_count": 4,
     "metadata": {},
     "output_type": "execute_result"
    }
   ],
   "source": [
    "#read the data into the dataframe and print the first 10 rows\n",
    "url = 'https://raw.githubusercontent.com/MaastrichtU-IDS/global-studies/main/semester4/tutorial4/inputs/tolerance_survey_data.csv'\n",
    "df = pd.read_csv(url)\n",
    "df.head(10)"
   ]
  },
  {
   "cell_type": "markdown",
   "metadata": {},
   "source": [
    "## 3. Basic data understanding"
   ]
  },
  {
   "cell_type": "code",
   "execution_count": null,
   "metadata": {},
   "outputs": [],
   "source": [
    "# check how many variables and observations are in the dataset"
   ]
  },
  {
   "cell_type": "code",
   "execution_count": null,
   "metadata": {},
   "outputs": [],
   "source": [
    "#print the age and height from the 2nd participant (hint: index should be 1)"
   ]
  },
  {
   "cell_type": "markdown",
   "metadata": {},
   "source": [
    "In case you don't know much about the survey data that is being analyzed, you can always check the scale of all the columns by looking for the `min`, `max`, and `unique value counts`. This will let you know if you need to rescale the data or not."
   ]
  },
  {
   "cell_type": "markdown",
   "metadata": {
    "id": "f_fVKtEzVxYs"
   },
   "source": [
    "## 4. Identify data types\n",
    "\n",
    "How would you identify the data types of variables in the survey?\n",
    "\n",
    "- Are they categorical or numerical?\n",
    "- how to deal with different types of variables, - for example: `age, height, q1` ?\n",
    "- why they matter? "
   ]
  },
  {
   "cell_type": "code",
   "execution_count": null,
   "metadata": {},
   "outputs": [],
   "source": [
    "# Check the data type of each variable"
   ]
  },
  {
   "cell_type": "markdown",
   "metadata": {
    "colab": {
     "base_uri": "https://localhost:8080/"
    },
    "id": "cLR_CzEwJ0vN",
    "outputId": "9858fd41-66f5-4f98-a64b-d065652eaac5"
   },
   "source": [
    "> Thinking: CHECK Variables \n",
    "> - **Height**: int64?\n",
    "> - **Age**: float64?\n",
    "> - **q1**: object"
   ]
  },
  {
   "cell_type": "markdown",
   "metadata": {},
   "source": [
    "## 5. Analyzing Likert Scale survey questions"
   ]
  },
  {
   "cell_type": "code",
   "execution_count": null,
   "metadata": {},
   "outputs": [],
   "source": [
    "# how many participants disagree with q1 and q2 questions? Look for value_counts() at pandas documentation: \n",
    "# https://pandas.pydata.org/pandas-docs/stable/reference/api/pandas.Series.value_counts.html"
   ]
  },
  {
   "cell_type": "code",
   "execution_count": null,
   "metadata": {},
   "outputs": [],
   "source": [
    "# convert the previous numbers into percentage"
   ]
  },
  {
   "cell_type": "markdown",
   "metadata": {},
   "source": [
    "## 6. Visualizing all survey questions"
   ]
  },
  {
   "cell_type": "code",
   "execution_count": null,
   "metadata": {},
   "outputs": [],
   "source": [
    "# plot/visualise categorical variable such as q4\n",
    "# you may refer to this old notebook you already solved in the first year: https://nbviewer.org/github/MaastrichtU-IDS/global-studies/blob/main/semester2/notebooks/4.1-data-visualization.ipynb"
   ]
  },
  {
   "cell_type": "markdown",
   "metadata": {
    "id": "uhOEYvjAI79S"
   },
   "source": [
    "---\n",
    "## 7. Transform/Prepare the data\n"
   ]
  },
  {
   "cell_type": "markdown",
   "metadata": {
    "id": "FC9jPYf8V6BJ"
   },
   "source": [
    "Convert the exisiting scale of questionnaire items into numerical Likert Scale\n",
    "\n",
    "> why? "
   ]
  },
  {
   "cell_type": "markdown",
   "metadata": {},
   "source": [
    "We need to map likert scale options _(i.e.strongly agree)_ to numbers _(i.e. 5) as following:\n",
    "\n",
    "Strongly Agree ---> 5\n",
    "\n",
    "Agree ---> 4\n",
    "\n",
    "Neutral ---> 3\n",
    "\n",
    "Disagree ---> 2\n",
    "\n",
    "Strongly Disagree ---> 1\n",
    "\n",
    "See the solution below. `df` is the original dataframe with categorical labels (Strongly Agree, Agree, etc.). `df_trasnformed` is the new dataframe which contains numerical values like 1,2,3,4, and 5 instead of categorical variables.\n"
   ]
  },
  {
   "cell_type": "code",
   "execution_count": null,
   "metadata": {},
   "outputs": [],
   "source": [
    "df_transformed = df.replace(['Strongly Agree',\n",
    "                   'Agree', \n",
    "                   'Neutral', \n",
    "                   'Disagree', \n",
    "                   'Strongly Disagree'], [5,4,3,2,1])"
   ]
  },
  {
   "cell_type": "markdown",
   "metadata": {},
   "source": [
    "Print the `df_transform` to see if its data types been converted to numbers. Double check the data types with `dtypes`. "
   ]
  },
  {
   "cell_type": "markdown",
   "metadata": {},
   "source": [
    "## 8. Missing Values in the Dataset\n",
    "\n",
    "We explore the missing values with heatmaps. Look at the following code and explain what it does before running"
   ]
  },
  {
   "cell_type": "code",
   "execution_count": null,
   "metadata": {},
   "outputs": [],
   "source": [
    "import seaborn as sns\n",
    "import matplotlib.pyplot as plt\n",
    "names = df_transformed.columns\n",
    "plt.figure(figsize = (25,11))\n",
    "sns.heatmap(df_transformed.isna().values, xticklabels=df_transformed.columns)\n",
    "plt.title(\"Missing values in the dataset\", size=20)"
   ]
  },
  {
   "cell_type": "code",
   "execution_count": 1,
   "metadata": {},
   "outputs": [],
   "source": [
    "#Now try to identify the rows in the dataframe which contain missing values (NaN). Use the isna() or  isnull() function"
   ]
  },
  {
   "cell_type": "markdown",
   "metadata": {},
   "source": [
    "The main questionnarie items of interest are our survey items: q1, q2,...... q8. So we will drop rest of the columns."
   ]
  },
  {
   "cell_type": "code",
   "execution_count": null,
   "metadata": {},
   "outputs": [],
   "source": [
    "#drop the columns: id, age, height, country, language, freq_travel"
   ]
  },
  {
   "cell_type": "code",
   "execution_count": null,
   "metadata": {},
   "outputs": [],
   "source": [
    "df_transformed = df_transformed.drop(['id','age','height','country','language','freq_travel'], axis=1)\n",
    "df_transformed"
   ]
  },
  {
   "cell_type": "code",
   "execution_count": null,
   "metadata": {},
   "outputs": [],
   "source": [
    "#Replace the missing value (NaN) with the mean of that column."
   ]
  },
  {
   "cell_type": "code",
   "execution_count": null,
   "metadata": {},
   "outputs": [],
   "source": [
    "#Compute the means of each colum \n",
    "#Hint use the mean() funtion on the dataframe"
   ]
  },
  {
   "cell_type": "code",
   "execution_count": null,
   "metadata": {},
   "outputs": [],
   "source": [
    "#Use the fillna() function to fill the missing (NaN) value with the mean"
   ]
  },
  {
   "cell_type": "code",
   "execution_count": null,
   "metadata": {},
   "outputs": [],
   "source": [
    "#Check the rows where the missing value has been replaced by the mean"
   ]
  },
  {
   "cell_type": "code",
   "execution_count": null,
   "metadata": {},
   "outputs": [],
   "source": [
    "#Another way to address the missing values is to drop the rows with missing values from the DataFrame. \n",
    "#How will you do that ?"
   ]
  },
  {
   "cell_type": "code",
   "execution_count": null,
   "metadata": {},
   "outputs": [],
   "source": [
    "#Check how many rows remain after dropping the rows with missing (NaN) values."
   ]
  },
  {
   "cell_type": "markdown",
   "metadata": {},
   "source": [
    "Which of the following is a better strategy:\n",
    "\n",
    "i) Drop the rows with missing values or\n",
    "\n",
    "ii) Replace the missing values by mean or mode. \n",
    "\n",
    "Justify your answer."
   ]
  }
 ],
 "metadata": {
  "celltoolbar": "Slideshow",
  "colab": {
   "collapsed_sections": [],
   "name": "Tutorial 1: Analysing survey Data (Tolerance construct)",
   "provenance": []
  },
  "kernelspec": {
   "display_name": "Python 3",
   "language": "python",
   "name": "python3"
  },
  "language_info": {
   "codemirror_mode": {
    "name": "ipython",
    "version": 3
   },
   "file_extension": ".py",
   "mimetype": "text/x-python",
   "name": "python",
   "nbconvert_exporter": "python",
   "pygments_lexer": "ipython3",
   "version": "3.8.5"
  }
 },
 "nbformat": 4,
 "nbformat_minor": 4
}
