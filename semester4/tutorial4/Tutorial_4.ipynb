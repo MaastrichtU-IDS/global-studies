{
 "cells": [
  {
   "cell_type": "markdown",
   "metadata": {
    "id": "9TE_myjakNHU"
   },
   "source": [
    "# Tutorial 4: Questionnarie Analysis using Python\n",
    "**Date**: Feb 2022\n",
    "\n",
    "**Background**\n",
    "\n",
    "* Following the [Tolerant usecase], we are going to analyze the data that has been collected through a survey to assess tolerance for a sample of university students. Our definition of tolerance is _an attitude or state of mind towards difference_ and it identifies three different aspect of tolerance. Put simply, we incorporate the following factors to develop our measures of tolerance:\n",
    "<p align=\\\"center\\\"><img src='./images/model.PNG' width=\"700\"></p>\n",
    "\n",
    "\n",
    "\n",
    "**Data and Methods**\n",
    "\n",
    "* We measure tolerance in one big sample with 300 students. The data has been collected by means of self-questionnarie and we ask students' opinion about attitudes towards tolerance. Our survey also includes aquestions associated with prejudice, such attitudes towards immigrants and homosexuals. We also ask participants about their past experiences and general socio-demographic questions.\n",
    "\n",
    "* To test whether three factor model of tolerance fits well our dataset, we are going to conduct a confirmatory factor analysis (CFA) as the most appropriate statistical modeling for such research question.\n",
    "\n",
    "Here is a description of the variables in the dataset (`clean_tolerance.csv` file):\n",
    "\n",
    "|id|variable   |description                                                                                                                                                     |\n",
    "|------|-----------|----------------------------------------------------------------------------------------------------------------------------------------------------------------|\n",
    "|1     |id         |annoymized unique identifier per individual                                                                                                                                                       |\n",
    "|2     |age        |Age of student                                                                                                                                                             |\n",
    "|3     |gender     |Gender (from 0 to 10)                                                                                                                                                         |\n",
    "|4     |height     |Height (scale in cm, e.g. 183)                                                                                                                                  |\n",
    "|5     |country    |Where are you come from? (Country)                                                                                                                              |\n",
    "|6     |language   |How many language you speak at home to your family?                                                                                                             |\n",
    "|7     |freq_travel|How many different countries have you lived in?                                                                                                                 |\n",
    "|8     |past_exp   |Past intercultural experience: have you ever done one of the following international programs?                                                                  |\n",
    "|9     |q1         |five-point Likert Scale from 'strongly disagree' to 'strongly agree': [People should have the right to live how they wish]|\n",
    "|10    |q2         |five-point Likert Scale from 'strongly disagree' to 'strongly agree': [It is important that people have the freedom to live their life as they choose]     |\n",
    "|11    |q3         |five-point Likert Scale from 'strongly disagree' to 'strongly agree': [ It is okay for people to live as they wish as long as they do not harm other people]                                    |\n",
    "|12    |q4         |five-point Likert Scale from 'strongly disagree' to 'strongly agree': [I respect other people’s beliefs and opinions]        |\n",
    "|13    |q5         |five-point Likert Scale from 'strongly disagree' to 'strongly agree': [I respect other people’s opinions even when I do not agree]   |\n",
    "|14    |q6         |five-point Likert Scale from 'strongly disagree' to 'strongly agree': [I like to spend time with people who are different from me]                                         |\n",
    "|15    |q7         |five-point Likert Scale from 'strongly disagree' to 'strongly agree': [I like people who challenge me to think about the world in a different way]                            |\n",
    "|16    |q8         |five-point Likert Scale from 'strongly disagree' to 'strongly agree': [Society benefits from a diversity of traditions and lifestyles]                            |\n",
    "\n",
    "\n",
    "**Today's challenge**\n",
    "\n",
    "We aim to understand the relationship between questions and factors reflecting tolerance construct. Especially, we need to:\n",
    "\n",
    "* Find out correlation between the variables\n",
    "    * how many factors are there?\n",
    "* strength of relationship between items and the factors\n",
    "* Decide whether three factors to extract is feasible\n"
   ]
  },
  {
   "cell_type": "markdown",
   "metadata": {
    "id": "a7H9WM9XBFCM"
   },
   "source": [
    "## 1. Setup Library"
   ]
  },
  {
   "cell_type": "code",
   "execution_count": null,
   "metadata": {},
   "outputs": [],
   "source": [
    "# import necessary libraries\n",
    "# import pandas as pd"
   ]
  },
  {
   "cell_type": "markdown",
   "metadata": {
    "id": "Ye2-0R0IbP-a"
   },
   "source": [
    "## 2. Import Data "
   ]
  },
  {
   "cell_type": "markdown",
   "metadata": {},
   "source": [
    "For this tutorial, we will be using the **cleaned version** of \"tolerance survey dataset\". \n",
    "The csv file that we will be using `clean_tolerance.csv` is available at [this link](./data/clean_tolerance.csv)."
   ]
  },
  {
   "cell_type": "code",
   "execution_count": 2,
   "metadata": {},
   "outputs": [],
   "source": [
    "# read the data into dataframe\n",
    "# df = pd.read_csv(\"https://raw.githubusercontent.com/MaastrichtU-IDS/global-studies/main/semester4/tutorial4/data/clean_tolerance.csv\", sep=',')"
   ]
  },
  {
   "cell_type": "markdown",
   "metadata": {},
   "source": [
    "## 3. Basic data understanding"
   ]
  },
  {
   "cell_type": "code",
   "execution_count": 7,
   "metadata": {},
   "outputs": [],
   "source": [
    "# check how many variables and observations are in the dataset"
   ]
  },
  {
   "cell_type": "code",
   "execution_count": null,
   "metadata": {},
   "outputs": [],
   "source": [
    "#how many participants are in the survey?"
   ]
  },
  {
   "cell_type": "code",
   "execution_count": 10,
   "metadata": {
    "colab": {
     "base_uri": "https://localhost:8080/",
     "height": 521
    },
    "id": "o26TXWX-DePZ",
    "outputId": "24f5030d-8bcf-4c67-c283-bcc0a46d8b4a"
   },
   "outputs": [],
   "source": [
    "#print last 3 rows of the dataframe"
   ]
  },
  {
   "cell_type": "code",
   "execution_count": 25,
   "metadata": {},
   "outputs": [],
   "source": [
    "#print the Age and Gender from participant 2"
   ]
  },
  {
   "cell_type": "markdown",
   "metadata": {},
   "source": [
    "In case you don't know much about the survey data that is being analyzed, you can always check the scale of all the columns by looking for the `min`, `max`, and `unique value counts`. This will let you know if you need to rescale the data or not."
   ]
  },
  {
   "cell_type": "markdown",
   "metadata": {
    "id": "f_fVKtEzVxYs"
   },
   "source": [
    "## 4. Identify data types\n",
    "- Categorical or numerical?\n",
    "- how to deal with different types of variables?\n",
    "- why they matter? \n",
    "    - for example: `gender, age, height, q1`"
   ]
  },
  {
   "cell_type": "code",
   "execution_count": 28,
   "metadata": {},
   "outputs": [],
   "source": [
    "# Check the data type of each variable"
   ]
  },
  {
   "cell_type": "markdown",
   "metadata": {
    "colab": {
     "base_uri": "https://localhost:8080/"
    },
    "id": "cLR_CzEwJ0vN",
    "outputId": "9858fd41-66f5-4f98-a64b-d065652eaac5"
   },
   "source": [
    "> Thinking: CHECK Variables \n",
    "> - **Height**: int64?\n",
    "> - **Gender**: int64?\n",
    "> - **Age**: float64?\n",
    "> - **q1**: object"
   ]
  },
  {
   "cell_type": "markdown",
   "metadata": {},
   "source": [
    "## 5. Analyzing Likert Scale survey questions"
   ]
  },
  {
   "cell_type": "code",
   "execution_count": 41,
   "metadata": {},
   "outputs": [],
   "source": [
    "# how many participants did disagree with q1 and q2 questions? Look for value_counts() at pandas documentation: \n",
    "# https://pandas.pydata.org/pandas-docs/stable/reference/api/pandas.Series.value_counts.html"
   ]
  },
  {
   "cell_type": "code",
   "execution_count": 1,
   "metadata": {},
   "outputs": [],
   "source": [
    "# convert the previous numbers into percentage"
   ]
  },
  {
   "cell_type": "markdown",
   "metadata": {},
   "source": [
    "## 6. Visualizing all survey questions"
   ]
  },
  {
   "cell_type": "code",
   "execution_count": 44,
   "metadata": {},
   "outputs": [],
   "source": [
    "# plot/visualise categorical variable such as Gender and q4\n",
    "# https://nbviewer.org/github/MaastrichtU-IDS/global-studies/blob/main/semester2/notebooks/4.1-data-visualization.ipynb"
   ]
  },
  {
   "cell_type": "markdown",
   "metadata": {
    "id": "uhOEYvjAI79S"
   },
   "source": [
    "---\n",
    "## 7. Transform/Prepare the data\n",
    "\n",
    "* Index ID column \n",
    "* Convert into Likert scale variables\n",
    "* removing missing values (?=to be decided)\n",
    "* discard unuseless variables (?)\n",
    "\n",
    "---\n"
   ]
  },
  {
   "cell_type": "code",
   "execution_count": 38,
   "metadata": {},
   "outputs": [],
   "source": [
    "# df.set_index(\"Timestamp\", inplace=True)"
   ]
  },
  {
   "cell_type": "markdown",
   "metadata": {
    "id": "FC9jPYf8V6BJ"
   },
   "source": [
    "---\n",
    "* Convert into numerical Likert Scale\n",
    "\n",
    "> why? Look at the last 5 rows. What do you notice?"
   ]
  },
  {
   "cell_type": "code",
   "execution_count": 47,
   "metadata": {},
   "outputs": [
    {
     "data": {
      "text/html": [
       "<div><div id=a38eec54-e453-46ac-9183-bc68e82c0dfa style=\"display:none; background-color:#9D6CFF; color:white; width:200px; height:30px; padding-left:5px; border-radius:4px; flex-direction:row; justify-content:space-around; align-items:center;\" onmouseover=\"this.style.backgroundColor='#BA9BF8'\" onmouseout=\"this.style.backgroundColor='#9D6CFF'\" onclick=\"window.commands?.execute('create-mitosheet-from-dataframe-output');\">See Full Dataframe in Mito</div> <script> if (window.commands.hasCommand('create-mitosheet-from-dataframe-output')) document.getElementById('a38eec54-e453-46ac-9183-bc68e82c0dfa').style.display = 'flex' </script> <table border=\"1\" class=\"dataframe\">\n",
       "  <thead>\n",
       "    <tr style=\"text-align: right;\">\n",
       "      <th></th>\n",
       "      <th>Timestamp</th>\n",
       "      <th>Age</th>\n",
       "      <th>Gender</th>\n",
       "      <th>Height (scale in cm, e.g. 183)</th>\n",
       "      <th>Where are you come from? (Country)</th>\n",
       "      <th>How many language you speak at home to your family?</th>\n",
       "      <th>How many different countries have you lived in?</th>\n",
       "      <th>Past intercultural experience: have you ever done one of the following international programs?</th>\n",
       "      <th>q1</th>\n",
       "      <th>q2</th>\n",
       "      <th>q3</th>\n",
       "      <th>q4</th>\n",
       "      <th>q5</th>\n",
       "      <th>q6</th>\n",
       "      <th>q7</th>\n",
       "      <th>q8</th>\n",
       "    </tr>\n",
       "  </thead>\n",
       "  <tbody>\n",
       "    <tr>\n",
       "      <th>145</th>\n",
       "      <td>172</td>\n",
       "      <td>21.0</td>\n",
       "      <td>7</td>\n",
       "      <td>175</td>\n",
       "      <td>RU</td>\n",
       "      <td>1.0</td>\n",
       "      <td>4.0</td>\n",
       "      <td>Studying school abroad</td>\n",
       "      <td>NaN</td>\n",
       "      <td>NaN</td>\n",
       "      <td>Strongly Disagree</td>\n",
       "      <td>NaN</td>\n",
       "      <td>Agree</td>\n",
       "      <td>Disagree</td>\n",
       "      <td>Agree</td>\n",
       "      <td>Strongly Disagree</td>\n",
       "    </tr>\n",
       "    <tr>\n",
       "      <th>146</th>\n",
       "      <td>173</td>\n",
       "      <td>40.0</td>\n",
       "      <td>6</td>\n",
       "      <td>163</td>\n",
       "      <td>CN</td>\n",
       "      <td>1.0</td>\n",
       "      <td>1.0</td>\n",
       "      <td>Internship program</td>\n",
       "      <td>Strongly Agree</td>\n",
       "      <td>Strongly Agree</td>\n",
       "      <td>Strongly Agree</td>\n",
       "      <td>Disagree</td>\n",
       "      <td>Agree</td>\n",
       "      <td>Strongly Disagree</td>\n",
       "      <td>Strongly Disagree</td>\n",
       "      <td>Agree</td>\n",
       "    </tr>\n",
       "    <tr>\n",
       "      <th>147</th>\n",
       "      <td>174</td>\n",
       "      <td>NaN</td>\n",
       "      <td>5</td>\n",
       "      <td>182</td>\n",
       "      <td>AR</td>\n",
       "      <td>2.0</td>\n",
       "      <td>3.0</td>\n",
       "      <td>None</td>\n",
       "      <td>Strongly Disagree</td>\n",
       "      <td>Strongly Disagree</td>\n",
       "      <td>Strongly Disagree</td>\n",
       "      <td>Agree</td>\n",
       "      <td>Disagree</td>\n",
       "      <td>Disagree</td>\n",
       "      <td>Agree</td>\n",
       "      <td>Disagree</td>\n",
       "    </tr>\n",
       "    <tr>\n",
       "      <th>148</th>\n",
       "      <td>176</td>\n",
       "      <td>35.0</td>\n",
       "      <td>2</td>\n",
       "      <td>160</td>\n",
       "      <td>PH</td>\n",
       "      <td>1.0</td>\n",
       "      <td>3.0</td>\n",
       "      <td>Internship program</td>\n",
       "      <td>Strongly Agree</td>\n",
       "      <td>Strongly Disagree</td>\n",
       "      <td>NaN</td>\n",
       "      <td>Strongly Disagree</td>\n",
       "      <td>Strongly Disagree</td>\n",
       "      <td>Strongly Disagree</td>\n",
       "      <td>Strongly Agree</td>\n",
       "      <td>Strongly Disagree</td>\n",
       "    </tr>\n",
       "    <tr>\n",
       "      <th>149</th>\n",
       "      <td>177</td>\n",
       "      <td>NaN</td>\n",
       "      <td>8</td>\n",
       "      <td>160</td>\n",
       "      <td>CN</td>\n",
       "      <td>5.0</td>\n",
       "      <td>2.0</td>\n",
       "      <td>Internship program</td>\n",
       "      <td>Strongly Agree</td>\n",
       "      <td>Strongly Agree</td>\n",
       "      <td>NaN</td>\n",
       "      <td>Strongly Disagree</td>\n",
       "      <td>Strongly Disagree</td>\n",
       "      <td>Agree</td>\n",
       "      <td>Disagree</td>\n",
       "      <td>NaN</td>\n",
       "    </tr>\n",
       "  </tbody>\n",
       "</table></div>"
      ],
      "text/plain": [
       "     Timestamp   Age  Gender  Height (scale in cm, e.g. 183)  \\\n",
       "145        172  21.0       7                             175   \n",
       "146        173  40.0       6                             163   \n",
       "147        174   NaN       5                             182   \n",
       "148        176  35.0       2                             160   \n",
       "149        177   NaN       8                             160   \n",
       "\n",
       "    Where are you come from? (Country)  \\\n",
       "145                                 RU   \n",
       "146                                 CN   \n",
       "147                                 AR   \n",
       "148                                 PH   \n",
       "149                                 CN   \n",
       "\n",
       "     How many language you speak at home to your family?  \\\n",
       "145                                                  1.0   \n",
       "146                                                  1.0   \n",
       "147                                                  2.0   \n",
       "148                                                  1.0   \n",
       "149                                                  5.0   \n",
       "\n",
       "     How many different countries have you lived in?  \\\n",
       "145                                              4.0   \n",
       "146                                              1.0   \n",
       "147                                              3.0   \n",
       "148                                              3.0   \n",
       "149                                              2.0   \n",
       "\n",
       "    Past intercultural experience: have you ever done one of the following international programs?  \\\n",
       "145                                                                         Studying school abroad   \n",
       "146                                                                             Internship program   \n",
       "147                                                                                           None   \n",
       "148                                                                             Internship program   \n",
       "149                                                                             Internship program   \n",
       "\n",
       "                    q1                 q2                 q3  \\\n",
       "145                NaN                NaN  Strongly Disagree   \n",
       "146     Strongly Agree     Strongly Agree     Strongly Agree   \n",
       "147  Strongly Disagree  Strongly Disagree  Strongly Disagree   \n",
       "148     Strongly Agree  Strongly Disagree                NaN   \n",
       "149     Strongly Agree     Strongly Agree                NaN   \n",
       "\n",
       "                    q4                 q5                 q6  \\\n",
       "145                NaN              Agree           Disagree   \n",
       "146           Disagree              Agree  Strongly Disagree   \n",
       "147              Agree           Disagree           Disagree   \n",
       "148  Strongly Disagree  Strongly Disagree  Strongly Disagree   \n",
       "149  Strongly Disagree  Strongly Disagree              Agree   \n",
       "\n",
       "                    q7                 q8  \n",
       "145              Agree  Strongly Disagree  \n",
       "146  Strongly Disagree              Agree  \n",
       "147              Agree           Disagree  \n",
       "148     Strongly Agree  Strongly Disagree  \n",
       "149           Disagree                NaN  "
      ]
     },
     "execution_count": 47,
     "metadata": {},
     "output_type": "execute_result"
    }
   ],
   "source": [
    "df.tail(5)"
   ]
  },
  {
   "cell_type": "markdown",
   "metadata": {},
   "source": [
    "We need to map likert scale options _(i.e.strongly agree)_ to numbers _(i.e. 5) as following:"
   ]
  },
  {
   "cell_type": "code",
   "execution_count": 114,
   "metadata": {
    "colab": {
     "base_uri": "https://localhost:8080/",
     "height": 521
    },
    "id": "parzxro-UnuH",
    "outputId": "aff8c5a3-df7b-4406-b984-2a07032fcad1"
   },
   "outputs": [
    {
     "data": {
      "text/html": [
       "<div><div id=bdd97ea0-c872-4c27-bc7e-3cc8d7a49a1b style=\"display:none; background-color:#9D6CFF; color:white; width:200px; height:30px; padding-left:5px; border-radius:4px; flex-direction:row; justify-content:space-around; align-items:center;\" onmouseover=\"this.style.backgroundColor='#BA9BF8'\" onmouseout=\"this.style.backgroundColor='#9D6CFF'\" onclick=\"window.commands?.execute('create-mitosheet-from-dataframe-output');\">See Full Dataframe in Mito</div> <script> if (window.commands.hasCommand('create-mitosheet-from-dataframe-output')) document.getElementById('bdd97ea0-c872-4c27-bc7e-3cc8d7a49a1b').style.display = 'flex' </script> <table border=\"1\" class=\"dataframe\">\n",
       "  <thead>\n",
       "    <tr style=\"text-align: right;\">\n",
       "      <th></th>\n",
       "      <th>id</th>\n",
       "      <th>age</th>\n",
       "      <th>gender</th>\n",
       "      <th>height</th>\n",
       "      <th>country</th>\n",
       "      <th>language</th>\n",
       "      <th>freq_travel</th>\n",
       "      <th>past_exp</th>\n",
       "      <th>q1</th>\n",
       "      <th>q2</th>\n",
       "      <th>q3</th>\n",
       "      <th>q4</th>\n",
       "      <th>q5</th>\n",
       "      <th>q6</th>\n",
       "      <th>q7</th>\n",
       "      <th>q8</th>\n",
       "    </tr>\n",
       "  </thead>\n",
       "  <tbody>\n",
       "    <tr>\n",
       "      <th>145</th>\n",
       "      <td>172</td>\n",
       "      <td>21.0</td>\n",
       "      <td>7</td>\n",
       "      <td>175</td>\n",
       "      <td>RU</td>\n",
       "      <td>1.0</td>\n",
       "      <td>4.0</td>\n",
       "      <td>Studying school abroad</td>\n",
       "      <td>NaN</td>\n",
       "      <td>NaN</td>\n",
       "      <td>Strongly Disagree</td>\n",
       "      <td>NaN</td>\n",
       "      <td>4</td>\n",
       "      <td>Disagree</td>\n",
       "      <td>4</td>\n",
       "      <td>Strongly Disagree</td>\n",
       "    </tr>\n",
       "    <tr>\n",
       "      <th>146</th>\n",
       "      <td>173</td>\n",
       "      <td>40.0</td>\n",
       "      <td>6</td>\n",
       "      <td>163</td>\n",
       "      <td>CN</td>\n",
       "      <td>1.0</td>\n",
       "      <td>1.0</td>\n",
       "      <td>Internship program</td>\n",
       "      <td>5</td>\n",
       "      <td>5</td>\n",
       "      <td>5</td>\n",
       "      <td>Disagree</td>\n",
       "      <td>4</td>\n",
       "      <td>Strongly Disagree</td>\n",
       "      <td>Strongly Disagree</td>\n",
       "      <td>4</td>\n",
       "    </tr>\n",
       "    <tr>\n",
       "      <th>147</th>\n",
       "      <td>174</td>\n",
       "      <td>NaN</td>\n",
       "      <td>5</td>\n",
       "      <td>182</td>\n",
       "      <td>AR</td>\n",
       "      <td>2.0</td>\n",
       "      <td>3.0</td>\n",
       "      <td>None</td>\n",
       "      <td>Strongly Disagree</td>\n",
       "      <td>Strongly Disagree</td>\n",
       "      <td>Strongly Disagree</td>\n",
       "      <td>4</td>\n",
       "      <td>Disagree</td>\n",
       "      <td>Disagree</td>\n",
       "      <td>4</td>\n",
       "      <td>Disagree</td>\n",
       "    </tr>\n",
       "    <tr>\n",
       "      <th>148</th>\n",
       "      <td>176</td>\n",
       "      <td>35.0</td>\n",
       "      <td>2</td>\n",
       "      <td>160</td>\n",
       "      <td>PH</td>\n",
       "      <td>1.0</td>\n",
       "      <td>3.0</td>\n",
       "      <td>Internship program</td>\n",
       "      <td>5</td>\n",
       "      <td>Strongly Disagree</td>\n",
       "      <td>NaN</td>\n",
       "      <td>Strongly Disagree</td>\n",
       "      <td>Strongly Disagree</td>\n",
       "      <td>Strongly Disagree</td>\n",
       "      <td>5</td>\n",
       "      <td>Strongly Disagree</td>\n",
       "    </tr>\n",
       "    <tr>\n",
       "      <th>149</th>\n",
       "      <td>177</td>\n",
       "      <td>NaN</td>\n",
       "      <td>8</td>\n",
       "      <td>160</td>\n",
       "      <td>CN</td>\n",
       "      <td>5.0</td>\n",
       "      <td>2.0</td>\n",
       "      <td>Internship program</td>\n",
       "      <td>5</td>\n",
       "      <td>5</td>\n",
       "      <td>NaN</td>\n",
       "      <td>Strongly Disagree</td>\n",
       "      <td>Strongly Disagree</td>\n",
       "      <td>4</td>\n",
       "      <td>Disagree</td>\n",
       "      <td>NaN</td>\n",
       "    </tr>\n",
       "  </tbody>\n",
       "</table></div>"
      ],
      "text/plain": [
       "      id   age  gender  height country  language  freq_travel  \\\n",
       "145  172  21.0       7     175      RU       1.0          4.0   \n",
       "146  173  40.0       6     163      CN       1.0          1.0   \n",
       "147  174   NaN       5     182      AR       2.0          3.0   \n",
       "148  176  35.0       2     160      PH       1.0          3.0   \n",
       "149  177   NaN       8     160      CN       5.0          2.0   \n",
       "\n",
       "                   past_exp                 q1                 q2  \\\n",
       "145  Studying school abroad                NaN                NaN   \n",
       "146      Internship program                  5                  5   \n",
       "147                    None  Strongly Disagree  Strongly Disagree   \n",
       "148      Internship program                  5  Strongly Disagree   \n",
       "149      Internship program                  5                  5   \n",
       "\n",
       "                    q3                 q4                 q5  \\\n",
       "145  Strongly Disagree                NaN                  4   \n",
       "146                  5           Disagree                  4   \n",
       "147  Strongly Disagree                  4           Disagree   \n",
       "148                NaN  Strongly Disagree  Strongly Disagree   \n",
       "149                NaN  Strongly Disagree  Strongly Disagree   \n",
       "\n",
       "                    q6                 q7                 q8  \n",
       "145           Disagree                  4  Strongly Disagree  \n",
       "146  Strongly Disagree  Strongly Disagree                  4  \n",
       "147           Disagree                  4           Disagree  \n",
       "148  Strongly Disagree                  5  Strongly Disagree  \n",
       "149                  4           Disagree                NaN  "
      ]
     },
     "execution_count": 114,
     "metadata": {},
     "output_type": "execute_result"
    }
   ],
   "source": [
    "# Answers with a scale of 1 to 5 with 1 being strongly Disagree and 5 strongly Agree)\n",
    "df_1 = df.replace(['Strongly Agree','Agree'],\n",
    "                  ['5','4'])\n",
    "# check last 5 rows\n",
    "df_1.tail(5)"
   ]
  },
  {
   "cell_type": "code",
   "execution_count": 115,
   "metadata": {},
   "outputs": [],
   "source": [
    "# Create a list with all replacement rules"
   ]
  },
  {
   "cell_type": "markdown",
   "metadata": {},
   "source": [
    "As you can see, the data set has already been converted to numbers. But double check the data types with `dtypes`. If this has NOT been done on your dataset (dtypes is `object`), you will need to convert any text like \"Strongly Agree\", \"Neutral\", \"Agree\", etc. into a numeric format. In this dataset, 1 is very low and 5 is very high.\n"
   ]
  },
  {
   "cell_type": "code",
   "execution_count": 117,
   "metadata": {},
   "outputs": [
    {
     "data": {
      "text/plain": [
       "id               int64\n",
       "age            float64\n",
       "gender           int64\n",
       "height           int64\n",
       "country         object\n",
       "language       float64\n",
       "freq_travel    float64\n",
       "past_exp        object\n",
       "q1              object\n",
       "q2              object\n",
       "q3              object\n",
       "q4              object\n",
       "q5              object\n",
       "q6              object\n",
       "q7              object\n",
       "q8              object\n",
       "dtype: object"
      ]
     },
     "execution_count": 117,
     "metadata": {},
     "output_type": "execute_result"
    }
   ],
   "source": [
    "df_transformed.dtypes"
   ]
  },
  {
   "cell_type": "code",
   "execution_count": 120,
   "metadata": {},
   "outputs": [],
   "source": [
    "# # convert dataset into type variables accordingly (perhaps exercice for students)\n",
    "\n",
    "numerical_variables = ['q1','q2','q3','q4', 'q4', 'q5', 'q6', 'q7', 'q8']\n",
    "df_transformed[numerical_variables] = df_transformed[numerical_variables].apply(pd.to_numeric)"
   ]
  },
  {
   "cell_type": "code",
   "execution_count": 121,
   "metadata": {},
   "outputs": [
    {
     "data": {
      "text/plain": [
       "id               int64\n",
       "age            float64\n",
       "gender           int64\n",
       "height           int64\n",
       "country         object\n",
       "language       float64\n",
       "freq_travel    float64\n",
       "past_exp        object\n",
       "q1             float64\n",
       "q2             float64\n",
       "q3             float64\n",
       "q4             float64\n",
       "q5               int64\n",
       "q6               int64\n",
       "q7               int64\n",
       "q8             float64\n",
       "dtype: object"
      ]
     },
     "execution_count": 121,
     "metadata": {},
     "output_type": "execute_result"
    }
   ],
   "source": [
    "df_transformed.dtypes"
   ]
  },
  {
   "cell_type": "markdown",
   "metadata": {},
   "source": [
    "---\n",
    "* removing missing values (NA)\n",
    "\n",
    "We explore the missing values with heatmaps. Look at the following code and explain what it does before running"
   ]
  },
  {
   "cell_type": "code",
   "execution_count": 122,
   "metadata": {},
   "outputs": [
    {
     "data": {
      "text/plain": [
       "Text(0.5, 1.0, 'Missing values (NA) in the dataset')"
      ]
     },
     "execution_count": 122,
     "metadata": {},
     "output_type": "execute_result"
    },
    {
     "data": {
      "image/png": "[encoded data removed]",
      "text/plain": [
       "<Figure size 1800x792 with 2 Axes>"
      ]
     },
     "metadata": {
      "needs_background": "light"
     },
     "output_type": "display_data"
    }
   ],
   "source": [
    "names = df_transformed.columns\n",
    "plt.figure(figsize = (25,11))\n",
    "sns.heatmap(df_transformed.isna().values, xticklabels=df_1.columns)\n",
    "plt.title(\"Missing values (NA) in the dataset\", size=20)"
   ]
  },
  {
   "cell_type": "code",
   "execution_count": null,
   "metadata": {},
   "outputs": [],
   "source": [
    "# df_transformed.dropna(inplace=True)"
   ]
  },
  {
   "cell_type": "markdown",
   "metadata": {},
   "source": [
    "* Discard unnecessary columns\n",
    "    * Since we want to check three factor model, we can remove non-likert scale questions from further analysis. However, you could also include them in case you want to see how they interact with each other."
   ]
  },
  {
   "cell_type": "code",
   "execution_count": 124,
   "metadata": {},
   "outputs": [
    {
     "name": "stdout",
     "output_type": "stream",
     "text": [
      "<class 'pandas.core.frame.DataFrame'>\n",
      "RangeIndex: 150 entries, 0 to 149\n",
      "Data columns (total 8 columns):\n",
      " #   Column  Non-Null Count  Dtype  \n",
      "---  ------  --------------  -----  \n",
      " 0   q1      140 non-null    float64\n",
      " 1   q2      140 non-null    float64\n",
      " 2   q3      121 non-null    float64\n",
      " 3   q4      140 non-null    float64\n",
      " 4   q5      150 non-null    int64  \n",
      " 5   q6      150 non-null    int64  \n",
      " 6   q7      150 non-null    int64  \n",
      " 7   q8      127 non-null    float64\n",
      "dtypes: float64(5), int64(3)\n",
      "memory usage: 9.5 KB\n"
     ]
    }
   ],
   "source": [
    "# Dropping unnecessary columns\n",
    "df_transformed.drop(['id', # if index is not applicable\n",
    "                     'age', 'gender',\n",
    "                     'height',\n",
    "                     'country',\n",
    "                    'language',\n",
    "                    'freq_travel',\n",
    "                    'past_exp'],axis=1,inplace=True)\n",
    "df_transformed.info()"
   ]
  },
  {
   "cell_type": "markdown",
   "metadata": {},
   "source": [
    "## 8. Correlation matrix and interpretation\n",
    "\n",
    "**Interpretation/discussion of which items/questions are the most representative for tolerance construct (based on correlation matrix)**"
   ]
  },
  {
   "cell_type": "code",
   "execution_count": 89,
   "metadata": {},
   "outputs": [],
   "source": [
    "# calculate and interpret means/average of each likert scale question"
   ]
  },
  {
   "cell_type": "code",
   "execution_count": null,
   "metadata": {},
   "outputs": [],
   "source": [
    "# calculate correlation matrix"
   ]
  },
  {
   "cell_type": "code",
   "execution_count": 91,
   "metadata": {},
   "outputs": [],
   "source": [
    "# visualise correlation matrix"
   ]
  },
  {
   "cell_type": "code",
   "execution_count": null,
   "metadata": {
    "colab": {
     "base_uri": "https://localhost:8080/"
    },
    "id": "LpHXw3iBiXso",
    "outputId": "888ea8fe-d563-4d59-c87e-a23ba8725dda"
   },
   "outputs": [],
   "source": []
  },
  {
   "cell_type": "markdown",
   "metadata": {
    "id": "YG8WSsLZoDSB"
   },
   "source": [
    "---\n",
    "**Finish tutorial by discussing how many factors our model for CFA will be for the next tutorial**"
   ]
  }
 ],
 "metadata": {
  "celltoolbar": "Slideshow",
  "colab": {
   "collapsed_sections": [],
   "name": "Tutorial 1: Analysing survey Data (Tolerance construct)",
   "provenance": []
  },
  "kernelspec": {
   "display_name": "Python 3",
   "language": "python",
   "name": "python3"
  },
  "language_info": {
   "codemirror_mode": {
    "name": "ipython",
    "version": 3
   },
   "file_extension": ".py",
   "mimetype": "text/x-python",
   "name": "python",
   "nbconvert_exporter": "python",
   "pygments_lexer": "ipython3",
   "version": "3.9.1"
  }
 },
 "nbformat": 4,
 "nbformat_minor": 4
}
