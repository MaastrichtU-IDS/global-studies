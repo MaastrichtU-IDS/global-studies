{
 "cells": [
  {
   "cell_type": "markdown",
   "metadata": {
    "id": "9TE_myjakNHU"
   },
   "source": [
    "# Tutorial 5: Reliability and Validity of Questionnaires\n",
    "**Date**: March 2022\n",
    "\n",
    "**Background**\n",
    "\n",
    "In the last tutorial, you learned how to clean the survey data. You went through the steps to import survey data into pandas, analyze the datatypes, transform the data for quantitative processing and handle missing values. The last tutorial also gave us practice in using python functions - `dtypes()` to check variables' type, `value_counts()` to explore percentages in tolerance questions and `fillna()` to handle missing data.\n",
    "\n",
    "\n",
    "In today's tutorial, you will **assess the reliability and validity of questionnaires**. We will focus on the same case-study from the last tutorial to measure tolerance. \n",
    "\n",
    "**Goal of the Case-Study**\n",
    "\n",
    "The goal of this case-study is to examine the attitude of 150 students towards tolerance where tolerance refers to the degree of diversity. The researchers developed a questionnaire focusing on the **three different expressions of tolerance** based on [1] theoretical framework:\n",
    "\n",
    "\n",
    "<p align=\\\"center\\\"><img src='./images/items.png' width=\"1000\" /></p>\n",
    "\n",
    "\n",
    "**Dataset**\n",
    "\n",
    "For this tutorial, we will be using the \"tolerance survey dataset\" from the previous tutorial. \n",
    "\n",
    "The dataset is available here: https://raw.githubusercontent.com/MaastrichtU-IDS/global-studies/main/semester4/tutorial4/inputs/tolerance_survey_data.csv \n",
    "\n",
    "After removing other variables, this dataset has 8 variables (items or questions) that the researchers used to measure tolerance. Each of the 8 variables was assigned to one of the 3 expressions of tolerance as hypothesized by the researchers: \"**1-Acceptance**\" \"**2-Respect**\" and \"**3-Appreciation**\" towards **diversity**. To measure this construct, several Likert-Type items were added onto the questionnarie. So we're working with 8 variables which are displayed in Table 1:\n",
    "\n",
    "\n",
    "**Table 1**. Survey items and the corresponding expression of tolerance hypothesized by the researchers\n",
    "\n",
    "|Expression of tolerance|variable   |description                                                                                                                                    |\n",
    "|------|-----------|----------------------------------------------------------------------------------------------------------------------------------------------------------------|\n",
    "|1- Acceptance     |q1         |five-point Likert Scale from 'strongly disagree' to 'strongly agree': [People should have the right to live how they wish]|\n",
    "|1-Acceptance    |q2         |five-point Likert Scale from 'strongly disagree' to 'strongly agree': [It is important that people have the freedom to live their life as they choose]     |\n",
    "|1- Acceptance   |q3         |five-point Likert Scale from 'strongly disagree' to 'strongly agree': [ It is okay for people to live as they wish as long as they do not harm other people]                                    |\n",
    "|2- Respect    |q4         |five-point Likert Scale from 'strongly disagree' to 'strongly agree': [I respect other people’s beliefs and opinions]        |\n",
    "|2- Respect    |q5         |five-point Likert Scale from 'strongly disagree' to 'strongly agree': [I respect other people’s opinions even when I do not agree]   |\n",
    "|3-Appreciation  |q6         |five-point Likert Scale from 'strongly disagree' to 'strongly agree': [I like to spend time with people who are different from me]                                         |\n",
    "|3-Appreciation    |q7         |five-point Likert Scale from 'strongly disagree' to 'strongly agree': [I like people who challenge me to think about the world in a different way]                            |\n",
    "|3-Appreciation   |q8         |five-point Likert Scale from 'strongly disagree' to 'strongly agree': [Society benefits from a diversity of traditions and lifestyles]                            |\n",
    "\n",
    "\n",
    "---\n",
    "\n",
    "\n",
    "**Today's Objectives**\n",
    "\n",
    "After establishing the questionnaire's theoretical construct, its validation and reliability starts. In today's tutorial, you will **assess the reliability and validity of questionnaires**.\n",
    "\n",
    "In the subsequent exercises we will primarily focus on the following:\n",
    "\n",
    " - exploring the relationship between variables by computing and visualizing the pearson correlation matrix. \n",
    " - assessing the validity of questionnaire using pearson correlation test\n",
    " - using Cronbach's Alpha to estimate the internal consistency or reliability of the variables that make up the tolerance measure based on the three composite measures. \n",
    "\n",
    "The **main intended learning outcomes (ILOs) of this tutorial are**:\n",
    "\n",
    " - **Measure and interpret the internal consistency of a survey or questionnaire**\n",
    " - **Understand the fundamentals of pearson correlation coefficient to identify opportunities to combine variables**\n",
    "\n",
    "\n",
    "---\n",
    "[1] Hjerm, M., Eger, M. A., Bohman, A., & Fors Connolly, F. (2020). A new approach to the study of tolerance: Conceptualizing and measuring acceptance, respect, and appreciation of difference. Social Indicators Research, 147(3), 897-919.\n",
    "Chicago\n",
    "\n",
    "---\n",
    "\n"
   ]
  },
  {
   "cell_type": "markdown",
   "metadata": {
    "id": "a7H9WM9XBFCM"
   },
   "source": [
    "## 1. Setup Library\n",
    "\n"
   ]
  },
  {
   "cell_type": "code",
   "execution_count": 1,
   "metadata": {},
   "outputs": [],
   "source": [
    "# exercice 1\n",
    "# Import the necessary libraries you will need to perform such analysis on the survey data."
   ]
  },
  {
   "cell_type": "code",
   "execution_count": 2,
   "metadata": {},
   "outputs": [],
   "source": [
    "import pandas as pd"
   ]
  },
  {
   "cell_type": "markdown",
   "metadata": {
    "id": "Ye2-0R0IbP-a"
   },
   "source": [
    "## 2. Import and prepare the Data "
   ]
  },
  {
   "cell_type": "markdown",
   "metadata": {},
   "source": [
    "We will be using the **transformed version** of \"tolerance survey dataset\" from the previous tutorial. For sake of simplicity, please run the following python code that transform the row data into todays data version."
   ]
  },
  {
   "cell_type": "code",
   "execution_count": 3,
   "metadata": {},
   "outputs": [],
   "source": [
    "#read the data into the dataframe and print the first 10 rows\n",
    "url = 'https://raw.githubusercontent.com/MaastrichtU-IDS/global-studies/main/semester4/tutorial4/inputs/tolerance_survey_data.csv'\n",
    "df = pd.read_csv(url)\n",
    "# transform/prepare the data\n",
    "df_transformed = df.replace(['Strongly Agree',\n",
    "                   'Agree', \n",
    "                   'Neutral', \n",
    "                   'Disagree', \n",
    "                   'Strongly Disagree'], [5,4,3,2,1])\n",
    "\n",
    "df_transformed = df_transformed.drop(['id','age','height','country','language','freq_travel'], axis=1)"
   ]
  },
  {
   "cell_type": "code",
   "execution_count": 4,
   "metadata": {},
   "outputs": [],
   "source": [
    "# exercice 2\n",
    "# check the df_transformed type of each variable and shape"
   ]
  },
  {
   "cell_type": "code",
   "execution_count": 5,
   "metadata": {},
   "outputs": [
    {
     "name": "stdout",
     "output_type": "stream",
     "text": [
      "q1    float64\n",
      "q2      int64\n",
      "q3    float64\n",
      "q4    float64\n",
      "q5      int64\n",
      "q6    float64\n",
      "q7    float64\n",
      "q8    float64\n",
      "dtype: object\n",
      "(150, 8)\n"
     ]
    }
   ],
   "source": [
    "print(df_transformed.dtypes) # this exercice is to make sure all students\n",
    "# work with correct data\n",
    "print(df_transformed.shape)"
   ]
  },
  {
   "cell_type": "markdown",
   "metadata": {},
   "source": [
    "**Imputing missing values**"
   ]
  },
  {
   "cell_type": "markdown",
   "metadata": {},
   "source": [
    "In previous tutorial, we found NA values. Now we need to replace the missing value (NaN) with the mean of that column."
   ]
  },
  {
   "cell_type": "code",
   "execution_count": 6,
   "metadata": {},
   "outputs": [],
   "source": [
    "# exercice 3: Compute the means of each colum \n",
    "#Hint use the mean() funtion on the dataframe\n",
    "#Use the fillna() function to fill the missing (NaN) value with the mean"
   ]
  },
  {
   "cell_type": "code",
   "execution_count": 7,
   "metadata": {},
   "outputs": [
    {
     "name": "stdout",
     "output_type": "stream",
     "text": [
      "q1    3.798658\n",
      "q2    4.046667\n",
      "q3    4.073826\n",
      "q4    4.476510\n",
      "q5    4.313333\n",
      "q6    4.268456\n",
      "q7    4.060403\n",
      "q8    4.120805\n",
      "dtype: float64\n"
     ]
    }
   ],
   "source": [
    "column_means = df_transformed.mean()\n",
    "print(column_means)"
   ]
  },
  {
   "cell_type": "code",
   "execution_count": 8,
   "metadata": {},
   "outputs": [
    {
     "data": {
      "text/html": [
       "<div>\n",
       "<style scoped>\n",
       "    .dataframe tbody tr th:only-of-type {\n",
       "        vertical-align: middle;\n",
       "    }\n",
       "\n",
       "    .dataframe tbody tr th {\n",
       "        vertical-align: top;\n",
       "    }\n",
       "\n",
       "    .dataframe thead th {\n",
       "        text-align: right;\n",
       "    }\n",
       "</style>\n",
       "<table border=\"1\" class=\"dataframe\">\n",
       "  <thead>\n",
       "    <tr style=\"text-align: right;\">\n",
       "      <th></th>\n",
       "      <th>q1</th>\n",
       "      <th>q2</th>\n",
       "      <th>q3</th>\n",
       "      <th>q4</th>\n",
       "      <th>q5</th>\n",
       "      <th>q6</th>\n",
       "      <th>q7</th>\n",
       "      <th>q8</th>\n",
       "    </tr>\n",
       "  </thead>\n",
       "  <tbody>\n",
       "    <tr>\n",
       "      <th>0</th>\n",
       "      <td>4.000000</td>\n",
       "      <td>4</td>\n",
       "      <td>4.0</td>\n",
       "      <td>4.0</td>\n",
       "      <td>3</td>\n",
       "      <td>2.0</td>\n",
       "      <td>3.0</td>\n",
       "      <td>3.0</td>\n",
       "    </tr>\n",
       "    <tr>\n",
       "      <th>1</th>\n",
       "      <td>5.000000</td>\n",
       "      <td>4</td>\n",
       "      <td>3.0</td>\n",
       "      <td>4.0</td>\n",
       "      <td>5</td>\n",
       "      <td>5.0</td>\n",
       "      <td>4.0</td>\n",
       "      <td>4.0</td>\n",
       "    </tr>\n",
       "    <tr>\n",
       "      <th>2</th>\n",
       "      <td>4.000000</td>\n",
       "      <td>4</td>\n",
       "      <td>5.0</td>\n",
       "      <td>4.0</td>\n",
       "      <td>5</td>\n",
       "      <td>4.0</td>\n",
       "      <td>5.0</td>\n",
       "      <td>4.0</td>\n",
       "    </tr>\n",
       "    <tr>\n",
       "      <th>3</th>\n",
       "      <td>4.000000</td>\n",
       "      <td>4</td>\n",
       "      <td>4.0</td>\n",
       "      <td>4.0</td>\n",
       "      <td>5</td>\n",
       "      <td>4.0</td>\n",
       "      <td>4.0</td>\n",
       "      <td>3.0</td>\n",
       "    </tr>\n",
       "    <tr>\n",
       "      <th>4</th>\n",
       "      <td>5.000000</td>\n",
       "      <td>4</td>\n",
       "      <td>5.0</td>\n",
       "      <td>3.0</td>\n",
       "      <td>3</td>\n",
       "      <td>4.0</td>\n",
       "      <td>4.0</td>\n",
       "      <td>5.0</td>\n",
       "    </tr>\n",
       "    <tr>\n",
       "      <th>5</th>\n",
       "      <td>5.000000</td>\n",
       "      <td>5</td>\n",
       "      <td>5.0</td>\n",
       "      <td>5.0</td>\n",
       "      <td>5</td>\n",
       "      <td>5.0</td>\n",
       "      <td>5.0</td>\n",
       "      <td>5.0</td>\n",
       "    </tr>\n",
       "    <tr>\n",
       "      <th>6</th>\n",
       "      <td>4.000000</td>\n",
       "      <td>5</td>\n",
       "      <td>5.0</td>\n",
       "      <td>5.0</td>\n",
       "      <td>5</td>\n",
       "      <td>5.0</td>\n",
       "      <td>4.0</td>\n",
       "      <td>4.0</td>\n",
       "    </tr>\n",
       "    <tr>\n",
       "      <th>7</th>\n",
       "      <td>4.000000</td>\n",
       "      <td>2</td>\n",
       "      <td>1.0</td>\n",
       "      <td>3.0</td>\n",
       "      <td>1</td>\n",
       "      <td>3.0</td>\n",
       "      <td>2.0</td>\n",
       "      <td>4.0</td>\n",
       "    </tr>\n",
       "    <tr>\n",
       "      <th>8</th>\n",
       "      <td>3.798658</td>\n",
       "      <td>4</td>\n",
       "      <td>3.0</td>\n",
       "      <td>3.0</td>\n",
       "      <td>5</td>\n",
       "      <td>5.0</td>\n",
       "      <td>5.0</td>\n",
       "      <td>3.0</td>\n",
       "    </tr>\n",
       "    <tr>\n",
       "      <th>9</th>\n",
       "      <td>4.000000</td>\n",
       "      <td>5</td>\n",
       "      <td>5.0</td>\n",
       "      <td>5.0</td>\n",
       "      <td>5</td>\n",
       "      <td>5.0</td>\n",
       "      <td>5.0</td>\n",
       "      <td>5.0</td>\n",
       "    </tr>\n",
       "  </tbody>\n",
       "</table>\n",
       "</div>"
      ],
      "text/plain": [
       "         q1  q2   q3   q4  q5   q6   q7   q8\n",
       "0  4.000000   4  4.0  4.0   3  2.0  3.0  3.0\n",
       "1  5.000000   4  3.0  4.0   5  5.0  4.0  4.0\n",
       "2  4.000000   4  5.0  4.0   5  4.0  5.0  4.0\n",
       "3  4.000000   4  4.0  4.0   5  4.0  4.0  3.0\n",
       "4  5.000000   4  5.0  3.0   3  4.0  4.0  5.0\n",
       "5  5.000000   5  5.0  5.0   5  5.0  5.0  5.0\n",
       "6  4.000000   5  5.0  5.0   5  5.0  4.0  4.0\n",
       "7  4.000000   2  1.0  3.0   1  3.0  2.0  4.0\n",
       "8  3.798658   4  3.0  3.0   5  5.0  5.0  3.0\n",
       "9  4.000000   5  5.0  5.0   5  5.0  5.0  5.0"
      ]
     },
     "execution_count": 8,
     "metadata": {},
     "output_type": "execute_result"
    }
   ],
   "source": [
    "df_transformed_without_NaN = df_transformed.fillna(column_means)\n",
    "df_transformed_without_NaN.head(10)"
   ]
  },
  {
   "cell_type": "code",
   "execution_count": 9,
   "metadata": {},
   "outputs": [],
   "source": [
    "# change df name (not mandatory)\n",
    "df_tutorial_5 = df_transformed_without_NaN"
   ]
  },
  {
   "cell_type": "markdown",
   "metadata": {},
   "source": [
    "---\n",
    "\n",
    "\n",
    "## Assessment of Questionnaire's Validity & Reliability\n",
    "\n",
    "After establishing the questionnarie's theoretical construct based on [1] as indicated in Table 1, we need to assess the validity and reliability of the questionnaire. Put simply, we want to address the following question:\n",
    "   > **_Are the items consistent in the sense that each one measures what it intends to measure?_**\n",
    "\n"
   ]
  },
  {
   "cell_type": "markdown",
   "metadata": {},
   "source": [
    "### Validity test with correlation analysis\n",
    "\n",
    "In order to assess construct validity, Pearson's correlation is utilized. Pearson's correlation is commonly used to verify the intensity of the existing linear association between variables. This coefficient is a number between −1 and 1 that expresses the degree of linear dependence between two quantitative variables. \n",
    "If negative, it indicates that one variable decreases as the other increases; if positive, it indicates that one variable increases as the other increases. \n",
    "\n",
    "We want to produce some correlations, as this will give an\n",
    "indication of whether the items are related to the same underlying concept.\n",
    "\n",
    "If all of the items are measuring the same concept, we would expect them all to correlate well together. Any items that have consistently low correlations across the board may need to be removed from the dataframe to make it more valid.\n",
    "\n"
   ]
  },
  {
   "cell_type": "markdown",
   "metadata": {},
   "source": [
    "**Pearson's Correlation Test with Python**\n",
    "\n",
    "See [previous material](https://github.com/MaastrichtU-IDS/global-studies/blob/main/semester2/notebooks/3.2-NHST-advanced-with-python-solutions.ipynb) from last year about Pearson's correlation test, and how to perform using python."
   ]
  },
  {
   "cell_type": "code",
   "execution_count": 10,
   "metadata": {},
   "outputs": [],
   "source": [
    "# exercice 4: calculate the correlations between the variables"
   ]
  },
  {
   "cell_type": "code",
   "execution_count": 11,
   "metadata": {},
   "outputs": [
    {
     "data": {
      "text/html": [
       "<div>\n",
       "<style scoped>\n",
       "    .dataframe tbody tr th:only-of-type {\n",
       "        vertical-align: middle;\n",
       "    }\n",
       "\n",
       "    .dataframe tbody tr th {\n",
       "        vertical-align: top;\n",
       "    }\n",
       "\n",
       "    .dataframe thead th {\n",
       "        text-align: right;\n",
       "    }\n",
       "</style>\n",
       "<table border=\"1\" class=\"dataframe\">\n",
       "  <thead>\n",
       "    <tr style=\"text-align: right;\">\n",
       "      <th></th>\n",
       "      <th>q1</th>\n",
       "      <th>q2</th>\n",
       "      <th>q3</th>\n",
       "      <th>q4</th>\n",
       "      <th>q5</th>\n",
       "      <th>q6</th>\n",
       "      <th>q7</th>\n",
       "      <th>q8</th>\n",
       "    </tr>\n",
       "  </thead>\n",
       "  <tbody>\n",
       "    <tr>\n",
       "      <th>q1</th>\n",
       "      <td>1.000000</td>\n",
       "      <td>0.503568</td>\n",
       "      <td>0.434025</td>\n",
       "      <td>0.209179</td>\n",
       "      <td>0.155458</td>\n",
       "      <td>0.147776</td>\n",
       "      <td>0.126557</td>\n",
       "      <td>0.067692</td>\n",
       "    </tr>\n",
       "    <tr>\n",
       "      <th>q2</th>\n",
       "      <td>0.503568</td>\n",
       "      <td>1.000000</td>\n",
       "      <td>0.484081</td>\n",
       "      <td>0.411058</td>\n",
       "      <td>0.377022</td>\n",
       "      <td>0.255870</td>\n",
       "      <td>0.173565</td>\n",
       "      <td>0.214375</td>\n",
       "    </tr>\n",
       "    <tr>\n",
       "      <th>q3</th>\n",
       "      <td>0.434025</td>\n",
       "      <td>0.484081</td>\n",
       "      <td>1.000000</td>\n",
       "      <td>0.338021</td>\n",
       "      <td>0.257888</td>\n",
       "      <td>0.304170</td>\n",
       "      <td>0.283716</td>\n",
       "      <td>0.297416</td>\n",
       "    </tr>\n",
       "    <tr>\n",
       "      <th>q4</th>\n",
       "      <td>0.209179</td>\n",
       "      <td>0.411058</td>\n",
       "      <td>0.338021</td>\n",
       "      <td>1.000000</td>\n",
       "      <td>0.526983</td>\n",
       "      <td>0.295219</td>\n",
       "      <td>0.224520</td>\n",
       "      <td>0.338423</td>\n",
       "    </tr>\n",
       "    <tr>\n",
       "      <th>q5</th>\n",
       "      <td>0.155458</td>\n",
       "      <td>0.377022</td>\n",
       "      <td>0.257888</td>\n",
       "      <td>0.526983</td>\n",
       "      <td>1.000000</td>\n",
       "      <td>0.175729</td>\n",
       "      <td>0.158038</td>\n",
       "      <td>0.145497</td>\n",
       "    </tr>\n",
       "    <tr>\n",
       "      <th>q6</th>\n",
       "      <td>0.147776</td>\n",
       "      <td>0.255870</td>\n",
       "      <td>0.304170</td>\n",
       "      <td>0.295219</td>\n",
       "      <td>0.175729</td>\n",
       "      <td>1.000000</td>\n",
       "      <td>0.474304</td>\n",
       "      <td>0.457530</td>\n",
       "    </tr>\n",
       "    <tr>\n",
       "      <th>q7</th>\n",
       "      <td>0.126557</td>\n",
       "      <td>0.173565</td>\n",
       "      <td>0.283716</td>\n",
       "      <td>0.224520</td>\n",
       "      <td>0.158038</td>\n",
       "      <td>0.474304</td>\n",
       "      <td>1.000000</td>\n",
       "      <td>0.503823</td>\n",
       "    </tr>\n",
       "    <tr>\n",
       "      <th>q8</th>\n",
       "      <td>0.067692</td>\n",
       "      <td>0.214375</td>\n",
       "      <td>0.297416</td>\n",
       "      <td>0.338423</td>\n",
       "      <td>0.145497</td>\n",
       "      <td>0.457530</td>\n",
       "      <td>0.503823</td>\n",
       "      <td>1.000000</td>\n",
       "    </tr>\n",
       "  </tbody>\n",
       "</table>\n",
       "</div>"
      ],
      "text/plain": [
       "          q1        q2        q3        q4        q5        q6        q7  \\\n",
       "q1  1.000000  0.503568  0.434025  0.209179  0.155458  0.147776  0.126557   \n",
       "q2  0.503568  1.000000  0.484081  0.411058  0.377022  0.255870  0.173565   \n",
       "q3  0.434025  0.484081  1.000000  0.338021  0.257888  0.304170  0.283716   \n",
       "q4  0.209179  0.411058  0.338021  1.000000  0.526983  0.295219  0.224520   \n",
       "q5  0.155458  0.377022  0.257888  0.526983  1.000000  0.175729  0.158038   \n",
       "q6  0.147776  0.255870  0.304170  0.295219  0.175729  1.000000  0.474304   \n",
       "q7  0.126557  0.173565  0.283716  0.224520  0.158038  0.474304  1.000000   \n",
       "q8  0.067692  0.214375  0.297416  0.338423  0.145497  0.457530  0.503823   \n",
       "\n",
       "          q8  \n",
       "q1  0.067692  \n",
       "q2  0.214375  \n",
       "q3  0.297416  \n",
       "q4  0.338423  \n",
       "q5  0.145497  \n",
       "q6  0.457530  \n",
       "q7  0.503823  \n",
       "q8  1.000000  "
      ]
     },
     "execution_count": 11,
     "metadata": {},
     "output_type": "execute_result"
    }
   ],
   "source": [
    "df_tutorial_5.corr(method=\"pearson\")"
   ]
  },
  {
   "cell_type": "code",
   "execution_count": 12,
   "metadata": {},
   "outputs": [
    {
     "data": {
      "text/html": [
       "<style  type=\"text/css\" >\n",
       "#T_c9801d88_9e2e_11ec_8596_367dda0b2971row0_col0,#T_c9801d88_9e2e_11ec_8596_367dda0b2971row1_col1,#T_c9801d88_9e2e_11ec_8596_367dda0b2971row2_col2,#T_c9801d88_9e2e_11ec_8596_367dda0b2971row3_col3,#T_c9801d88_9e2e_11ec_8596_367dda0b2971row4_col4,#T_c9801d88_9e2e_11ec_8596_367dda0b2971row5_col5,#T_c9801d88_9e2e_11ec_8596_367dda0b2971row6_col6,#T_c9801d88_9e2e_11ec_8596_367dda0b2971row7_col7{\n",
       "            background-color:  #08306b;\n",
       "            color:  #f1f1f1;\n",
       "        }#T_c9801d88_9e2e_11ec_8596_367dda0b2971row0_col1,#T_c9801d88_9e2e_11ec_8596_367dda0b2971row4_col3{\n",
       "            background-color:  #94c4df;\n",
       "            color:  #000000;\n",
       "        }#T_c9801d88_9e2e_11ec_8596_367dda0b2971row0_col2{\n",
       "            background-color:  #c9ddf0;\n",
       "            color:  #000000;\n",
       "        }#T_c9801d88_9e2e_11ec_8596_367dda0b2971row0_col3,#T_c9801d88_9e2e_11ec_8596_367dda0b2971row0_col5,#T_c9801d88_9e2e_11ec_8596_367dda0b2971row0_col6,#T_c9801d88_9e2e_11ec_8596_367dda0b2971row0_col7,#T_c9801d88_9e2e_11ec_8596_367dda0b2971row4_col2,#T_c9801d88_9e2e_11ec_8596_367dda0b2971row6_col1,#T_c9801d88_9e2e_11ec_8596_367dda0b2971row7_col0,#T_c9801d88_9e2e_11ec_8596_367dda0b2971row7_col4{\n",
       "            background-color:  #f7fbff;\n",
       "            color:  #000000;\n",
       "        }#T_c9801d88_9e2e_11ec_8596_367dda0b2971row0_col4{\n",
       "            background-color:  #f5fafe;\n",
       "            color:  #000000;\n",
       "        }#T_c9801d88_9e2e_11ec_8596_367dda0b2971row1_col0,#T_c9801d88_9e2e_11ec_8596_367dda0b2971row6_col7{\n",
       "            background-color:  #79b5d9;\n",
       "            color:  #000000;\n",
       "        }#T_c9801d88_9e2e_11ec_8596_367dda0b2971row1_col2{\n",
       "            background-color:  #b4d3e9;\n",
       "            color:  #000000;\n",
       "        }#T_c9801d88_9e2e_11ec_8596_367dda0b2971row1_col3{\n",
       "            background-color:  #c4daee;\n",
       "            color:  #000000;\n",
       "        }#T_c9801d88_9e2e_11ec_8596_367dda0b2971row1_col4{\n",
       "            background-color:  #bfd8ed;\n",
       "            color:  #000000;\n",
       "        }#T_c9801d88_9e2e_11ec_8596_367dda0b2971row1_col5{\n",
       "            background-color:  #deebf7;\n",
       "            color:  #000000;\n",
       "        }#T_c9801d88_9e2e_11ec_8596_367dda0b2971row1_col6,#T_c9801d88_9e2e_11ec_8596_367dda0b2971row7_col2{\n",
       "            background-color:  #edf4fc;\n",
       "            color:  #000000;\n",
       "        }#T_c9801d88_9e2e_11ec_8596_367dda0b2971row1_col7{\n",
       "            background-color:  #d8e7f5;\n",
       "            color:  #000000;\n",
       "        }#T_c9801d88_9e2e_11ec_8596_367dda0b2971row2_col0{\n",
       "            background-color:  #97c6df;\n",
       "            color:  #000000;\n",
       "        }#T_c9801d88_9e2e_11ec_8596_367dda0b2971row2_col1{\n",
       "            background-color:  #9dcae1;\n",
       "            color:  #000000;\n",
       "        }#T_c9801d88_9e2e_11ec_8596_367dda0b2971row2_col3,#T_c9801d88_9e2e_11ec_8596_367dda0b2971row7_col3{\n",
       "            background-color:  #d7e6f5;\n",
       "            color:  #000000;\n",
       "        }#T_c9801d88_9e2e_11ec_8596_367dda0b2971row2_col4{\n",
       "            background-color:  #ddeaf7;\n",
       "            color:  #000000;\n",
       "        }#T_c9801d88_9e2e_11ec_8596_367dda0b2971row2_col5,#T_c9801d88_9e2e_11ec_8596_367dda0b2971row2_col6{\n",
       "            background-color:  #d3e4f3;\n",
       "            color:  #000000;\n",
       "        }#T_c9801d88_9e2e_11ec_8596_367dda0b2971row2_col7,#T_c9801d88_9e2e_11ec_8596_367dda0b2971row4_col1{\n",
       "            background-color:  #c7dbef;\n",
       "            color:  #000000;\n",
       "        }#T_c9801d88_9e2e_11ec_8596_367dda0b2971row3_col0{\n",
       "            background-color:  #d9e8f5;\n",
       "            color:  #000000;\n",
       "        }#T_c9801d88_9e2e_11ec_8596_367dda0b2971row3_col1{\n",
       "            background-color:  #bad6eb;\n",
       "            color:  #000000;\n",
       "        }#T_c9801d88_9e2e_11ec_8596_367dda0b2971row3_col2,#T_c9801d88_9e2e_11ec_8596_367dda0b2971row5_col3{\n",
       "            background-color:  #e2edf8;\n",
       "            color:  #000000;\n",
       "        }#T_c9801d88_9e2e_11ec_8596_367dda0b2971row3_col4{\n",
       "            background-color:  #81badb;\n",
       "            color:  #000000;\n",
       "        }#T_c9801d88_9e2e_11ec_8596_367dda0b2971row3_col5{\n",
       "            background-color:  #d5e5f4;\n",
       "            color:  #000000;\n",
       "        }#T_c9801d88_9e2e_11ec_8596_367dda0b2971row3_col6{\n",
       "            background-color:  #e1edf8;\n",
       "            color:  #000000;\n",
       "        }#T_c9801d88_9e2e_11ec_8596_367dda0b2971row3_col7{\n",
       "            background-color:  #b9d6ea;\n",
       "            color:  #000000;\n",
       "        }#T_c9801d88_9e2e_11ec_8596_367dda0b2971row4_col0{\n",
       "            background-color:  #e4eff9;\n",
       "            color:  #000000;\n",
       "        }#T_c9801d88_9e2e_11ec_8596_367dda0b2971row4_col5,#T_c9801d88_9e2e_11ec_8596_367dda0b2971row6_col2{\n",
       "            background-color:  #f1f7fd;\n",
       "            color:  #000000;\n",
       "        }#T_c9801d88_9e2e_11ec_8596_367dda0b2971row4_col6,#T_c9801d88_9e2e_11ec_8596_367dda0b2971row5_col4{\n",
       "            background-color:  #f0f6fd;\n",
       "            color:  #000000;\n",
       "        }#T_c9801d88_9e2e_11ec_8596_367dda0b2971row4_col7,#T_c9801d88_9e2e_11ec_8596_367dda0b2971row5_col0{\n",
       "            background-color:  #e7f0fa;\n",
       "            color:  #000000;\n",
       "        }#T_c9801d88_9e2e_11ec_8596_367dda0b2971row5_col1{\n",
       "            background-color:  #e3eef9;\n",
       "            color:  #000000;\n",
       "        }#T_c9801d88_9e2e_11ec_8596_367dda0b2971row5_col2{\n",
       "            background-color:  #ebf3fb;\n",
       "            color:  #000000;\n",
       "        }#T_c9801d88_9e2e_11ec_8596_367dda0b2971row5_col6{\n",
       "            background-color:  #95c5df;\n",
       "            color:  #000000;\n",
       "        }#T_c9801d88_9e2e_11ec_8596_367dda0b2971row5_col7{\n",
       "            background-color:  #8cc0dd;\n",
       "            color:  #000000;\n",
       "        }#T_c9801d88_9e2e_11ec_8596_367dda0b2971row6_col0{\n",
       "            background-color:  #eaf3fb;\n",
       "            color:  #000000;\n",
       "        }#T_c9801d88_9e2e_11ec_8596_367dda0b2971row6_col3{\n",
       "            background-color:  #f4f9fe;\n",
       "            color:  #000000;\n",
       "        }#T_c9801d88_9e2e_11ec_8596_367dda0b2971row6_col4{\n",
       "            background-color:  #f5f9fe;\n",
       "            color:  #000000;\n",
       "        }#T_c9801d88_9e2e_11ec_8596_367dda0b2971row6_col5{\n",
       "            background-color:  #9ac8e0;\n",
       "            color:  #000000;\n",
       "        }#T_c9801d88_9e2e_11ec_8596_367dda0b2971row7_col1{\n",
       "            background-color:  #eef5fc;\n",
       "            color:  #000000;\n",
       "        }#T_c9801d88_9e2e_11ec_8596_367dda0b2971row7_col5{\n",
       "            background-color:  #a1cbe2;\n",
       "            color:  #000000;\n",
       "        }#T_c9801d88_9e2e_11ec_8596_367dda0b2971row7_col6{\n",
       "            background-color:  #87bddc;\n",
       "            color:  #000000;\n",
       "        }</style><table id=\"T_c9801d88_9e2e_11ec_8596_367dda0b2971\" ><thead>    <tr>        <th class=\"blank level0\" ></th>        <th class=\"col_heading level0 col0\" >q1</th>        <th class=\"col_heading level0 col1\" >q2</th>        <th class=\"col_heading level0 col2\" >q3</th>        <th class=\"col_heading level0 col3\" >q4</th>        <th class=\"col_heading level0 col4\" >q5</th>        <th class=\"col_heading level0 col5\" >q6</th>        <th class=\"col_heading level0 col6\" >q7</th>        <th class=\"col_heading level0 col7\" >q8</th>    </tr></thead><tbody>\n",
       "                <tr>\n",
       "                        <th id=\"T_c9801d88_9e2e_11ec_8596_367dda0b2971level0_row0\" class=\"row_heading level0 row0\" >q1</th>\n",
       "                        <td id=\"T_c9801d88_9e2e_11ec_8596_367dda0b2971row0_col0\" class=\"data row0 col0\" >1.000000</td>\n",
       "                        <td id=\"T_c9801d88_9e2e_11ec_8596_367dda0b2971row0_col1\" class=\"data row0 col1\" >0.503568</td>\n",
       "                        <td id=\"T_c9801d88_9e2e_11ec_8596_367dda0b2971row0_col2\" class=\"data row0 col2\" >0.434025</td>\n",
       "                        <td id=\"T_c9801d88_9e2e_11ec_8596_367dda0b2971row0_col3\" class=\"data row0 col3\" >0.209179</td>\n",
       "                        <td id=\"T_c9801d88_9e2e_11ec_8596_367dda0b2971row0_col4\" class=\"data row0 col4\" >0.155458</td>\n",
       "                        <td id=\"T_c9801d88_9e2e_11ec_8596_367dda0b2971row0_col5\" class=\"data row0 col5\" >0.147776</td>\n",
       "                        <td id=\"T_c9801d88_9e2e_11ec_8596_367dda0b2971row0_col6\" class=\"data row0 col6\" >0.126557</td>\n",
       "                        <td id=\"T_c9801d88_9e2e_11ec_8596_367dda0b2971row0_col7\" class=\"data row0 col7\" >0.067692</td>\n",
       "            </tr>\n",
       "            <tr>\n",
       "                        <th id=\"T_c9801d88_9e2e_11ec_8596_367dda0b2971level0_row1\" class=\"row_heading level0 row1\" >q2</th>\n",
       "                        <td id=\"T_c9801d88_9e2e_11ec_8596_367dda0b2971row1_col0\" class=\"data row1 col0\" >0.503568</td>\n",
       "                        <td id=\"T_c9801d88_9e2e_11ec_8596_367dda0b2971row1_col1\" class=\"data row1 col1\" >1.000000</td>\n",
       "                        <td id=\"T_c9801d88_9e2e_11ec_8596_367dda0b2971row1_col2\" class=\"data row1 col2\" >0.484081</td>\n",
       "                        <td id=\"T_c9801d88_9e2e_11ec_8596_367dda0b2971row1_col3\" class=\"data row1 col3\" >0.411058</td>\n",
       "                        <td id=\"T_c9801d88_9e2e_11ec_8596_367dda0b2971row1_col4\" class=\"data row1 col4\" >0.377022</td>\n",
       "                        <td id=\"T_c9801d88_9e2e_11ec_8596_367dda0b2971row1_col5\" class=\"data row1 col5\" >0.255870</td>\n",
       "                        <td id=\"T_c9801d88_9e2e_11ec_8596_367dda0b2971row1_col6\" class=\"data row1 col6\" >0.173565</td>\n",
       "                        <td id=\"T_c9801d88_9e2e_11ec_8596_367dda0b2971row1_col7\" class=\"data row1 col7\" >0.214375</td>\n",
       "            </tr>\n",
       "            <tr>\n",
       "                        <th id=\"T_c9801d88_9e2e_11ec_8596_367dda0b2971level0_row2\" class=\"row_heading level0 row2\" >q3</th>\n",
       "                        <td id=\"T_c9801d88_9e2e_11ec_8596_367dda0b2971row2_col0\" class=\"data row2 col0\" >0.434025</td>\n",
       "                        <td id=\"T_c9801d88_9e2e_11ec_8596_367dda0b2971row2_col1\" class=\"data row2 col1\" >0.484081</td>\n",
       "                        <td id=\"T_c9801d88_9e2e_11ec_8596_367dda0b2971row2_col2\" class=\"data row2 col2\" >1.000000</td>\n",
       "                        <td id=\"T_c9801d88_9e2e_11ec_8596_367dda0b2971row2_col3\" class=\"data row2 col3\" >0.338021</td>\n",
       "                        <td id=\"T_c9801d88_9e2e_11ec_8596_367dda0b2971row2_col4\" class=\"data row2 col4\" >0.257888</td>\n",
       "                        <td id=\"T_c9801d88_9e2e_11ec_8596_367dda0b2971row2_col5\" class=\"data row2 col5\" >0.304170</td>\n",
       "                        <td id=\"T_c9801d88_9e2e_11ec_8596_367dda0b2971row2_col6\" class=\"data row2 col6\" >0.283716</td>\n",
       "                        <td id=\"T_c9801d88_9e2e_11ec_8596_367dda0b2971row2_col7\" class=\"data row2 col7\" >0.297416</td>\n",
       "            </tr>\n",
       "            <tr>\n",
       "                        <th id=\"T_c9801d88_9e2e_11ec_8596_367dda0b2971level0_row3\" class=\"row_heading level0 row3\" >q4</th>\n",
       "                        <td id=\"T_c9801d88_9e2e_11ec_8596_367dda0b2971row3_col0\" class=\"data row3 col0\" >0.209179</td>\n",
       "                        <td id=\"T_c9801d88_9e2e_11ec_8596_367dda0b2971row3_col1\" class=\"data row3 col1\" >0.411058</td>\n",
       "                        <td id=\"T_c9801d88_9e2e_11ec_8596_367dda0b2971row3_col2\" class=\"data row3 col2\" >0.338021</td>\n",
       "                        <td id=\"T_c9801d88_9e2e_11ec_8596_367dda0b2971row3_col3\" class=\"data row3 col3\" >1.000000</td>\n",
       "                        <td id=\"T_c9801d88_9e2e_11ec_8596_367dda0b2971row3_col4\" class=\"data row3 col4\" >0.526983</td>\n",
       "                        <td id=\"T_c9801d88_9e2e_11ec_8596_367dda0b2971row3_col5\" class=\"data row3 col5\" >0.295219</td>\n",
       "                        <td id=\"T_c9801d88_9e2e_11ec_8596_367dda0b2971row3_col6\" class=\"data row3 col6\" >0.224520</td>\n",
       "                        <td id=\"T_c9801d88_9e2e_11ec_8596_367dda0b2971row3_col7\" class=\"data row3 col7\" >0.338423</td>\n",
       "            </tr>\n",
       "            <tr>\n",
       "                        <th id=\"T_c9801d88_9e2e_11ec_8596_367dda0b2971level0_row4\" class=\"row_heading level0 row4\" >q5</th>\n",
       "                        <td id=\"T_c9801d88_9e2e_11ec_8596_367dda0b2971row4_col0\" class=\"data row4 col0\" >0.155458</td>\n",
       "                        <td id=\"T_c9801d88_9e2e_11ec_8596_367dda0b2971row4_col1\" class=\"data row4 col1\" >0.377022</td>\n",
       "                        <td id=\"T_c9801d88_9e2e_11ec_8596_367dda0b2971row4_col2\" class=\"data row4 col2\" >0.257888</td>\n",
       "                        <td id=\"T_c9801d88_9e2e_11ec_8596_367dda0b2971row4_col3\" class=\"data row4 col3\" >0.526983</td>\n",
       "                        <td id=\"T_c9801d88_9e2e_11ec_8596_367dda0b2971row4_col4\" class=\"data row4 col4\" >1.000000</td>\n",
       "                        <td id=\"T_c9801d88_9e2e_11ec_8596_367dda0b2971row4_col5\" class=\"data row4 col5\" >0.175729</td>\n",
       "                        <td id=\"T_c9801d88_9e2e_11ec_8596_367dda0b2971row4_col6\" class=\"data row4 col6\" >0.158038</td>\n",
       "                        <td id=\"T_c9801d88_9e2e_11ec_8596_367dda0b2971row4_col7\" class=\"data row4 col7\" >0.145497</td>\n",
       "            </tr>\n",
       "            <tr>\n",
       "                        <th id=\"T_c9801d88_9e2e_11ec_8596_367dda0b2971level0_row5\" class=\"row_heading level0 row5\" >q6</th>\n",
       "                        <td id=\"T_c9801d88_9e2e_11ec_8596_367dda0b2971row5_col0\" class=\"data row5 col0\" >0.147776</td>\n",
       "                        <td id=\"T_c9801d88_9e2e_11ec_8596_367dda0b2971row5_col1\" class=\"data row5 col1\" >0.255870</td>\n",
       "                        <td id=\"T_c9801d88_9e2e_11ec_8596_367dda0b2971row5_col2\" class=\"data row5 col2\" >0.304170</td>\n",
       "                        <td id=\"T_c9801d88_9e2e_11ec_8596_367dda0b2971row5_col3\" class=\"data row5 col3\" >0.295219</td>\n",
       "                        <td id=\"T_c9801d88_9e2e_11ec_8596_367dda0b2971row5_col4\" class=\"data row5 col4\" >0.175729</td>\n",
       "                        <td id=\"T_c9801d88_9e2e_11ec_8596_367dda0b2971row5_col5\" class=\"data row5 col5\" >1.000000</td>\n",
       "                        <td id=\"T_c9801d88_9e2e_11ec_8596_367dda0b2971row5_col6\" class=\"data row5 col6\" >0.474304</td>\n",
       "                        <td id=\"T_c9801d88_9e2e_11ec_8596_367dda0b2971row5_col7\" class=\"data row5 col7\" >0.457530</td>\n",
       "            </tr>\n",
       "            <tr>\n",
       "                        <th id=\"T_c9801d88_9e2e_11ec_8596_367dda0b2971level0_row6\" class=\"row_heading level0 row6\" >q7</th>\n",
       "                        <td id=\"T_c9801d88_9e2e_11ec_8596_367dda0b2971row6_col0\" class=\"data row6 col0\" >0.126557</td>\n",
       "                        <td id=\"T_c9801d88_9e2e_11ec_8596_367dda0b2971row6_col1\" class=\"data row6 col1\" >0.173565</td>\n",
       "                        <td id=\"T_c9801d88_9e2e_11ec_8596_367dda0b2971row6_col2\" class=\"data row6 col2\" >0.283716</td>\n",
       "                        <td id=\"T_c9801d88_9e2e_11ec_8596_367dda0b2971row6_col3\" class=\"data row6 col3\" >0.224520</td>\n",
       "                        <td id=\"T_c9801d88_9e2e_11ec_8596_367dda0b2971row6_col4\" class=\"data row6 col4\" >0.158038</td>\n",
       "                        <td id=\"T_c9801d88_9e2e_11ec_8596_367dda0b2971row6_col5\" class=\"data row6 col5\" >0.474304</td>\n",
       "                        <td id=\"T_c9801d88_9e2e_11ec_8596_367dda0b2971row6_col6\" class=\"data row6 col6\" >1.000000</td>\n",
       "                        <td id=\"T_c9801d88_9e2e_11ec_8596_367dda0b2971row6_col7\" class=\"data row6 col7\" >0.503823</td>\n",
       "            </tr>\n",
       "            <tr>\n",
       "                        <th id=\"T_c9801d88_9e2e_11ec_8596_367dda0b2971level0_row7\" class=\"row_heading level0 row7\" >q8</th>\n",
       "                        <td id=\"T_c9801d88_9e2e_11ec_8596_367dda0b2971row7_col0\" class=\"data row7 col0\" >0.067692</td>\n",
       "                        <td id=\"T_c9801d88_9e2e_11ec_8596_367dda0b2971row7_col1\" class=\"data row7 col1\" >0.214375</td>\n",
       "                        <td id=\"T_c9801d88_9e2e_11ec_8596_367dda0b2971row7_col2\" class=\"data row7 col2\" >0.297416</td>\n",
       "                        <td id=\"T_c9801d88_9e2e_11ec_8596_367dda0b2971row7_col3\" class=\"data row7 col3\" >0.338423</td>\n",
       "                        <td id=\"T_c9801d88_9e2e_11ec_8596_367dda0b2971row7_col4\" class=\"data row7 col4\" >0.145497</td>\n",
       "                        <td id=\"T_c9801d88_9e2e_11ec_8596_367dda0b2971row7_col5\" class=\"data row7 col5\" >0.457530</td>\n",
       "                        <td id=\"T_c9801d88_9e2e_11ec_8596_367dda0b2971row7_col6\" class=\"data row7 col6\" >0.503823</td>\n",
       "                        <td id=\"T_c9801d88_9e2e_11ec_8596_367dda0b2971row7_col7\" class=\"data row7 col7\" >1.000000</td>\n",
       "            </tr>\n",
       "    </tbody></table>"
      ],
      "text/plain": [
       "<pandas.io.formats.style.Styler at 0x7f93c6d8c700>"
      ]
     },
     "execution_count": 12,
     "metadata": {},
     "output_type": "execute_result"
    }
   ],
   "source": [
    "#faster way with no packages as sns\n",
    "df_tutorial_5.corr().style.background_gradient(cmap=\"Blues\")"
   ]
  },
  {
   "cell_type": "markdown",
   "metadata": {},
   "source": [
    "**Exercice: What does this matrix tell you?**"
   ]
  },
  {
   "cell_type": "markdown",
   "metadata": {},
   "source": [
    "Sol: You’ll notice that the columns/variables of our dataframe are represented using both rows and columns. The row-column intersection represents the coefficient of correlation between two variables. Because of this, the diagonal line will always be 1 (since it compares a variable to itself). Similarly, the matrix will be a mirror along the diagonal line."
   ]
  },
  {
   "cell_type": "code",
   "execution_count": 13,
   "metadata": {},
   "outputs": [],
   "source": [
    "# exercice 5: create a heatmap with all correlations using seaborn package"
   ]
  },
  {
   "cell_type": "markdown",
   "metadata": {},
   "source": [
    "Many people take these matrices and visualize them using heat maps. In this visualization, darker is good because the questions do not correlate."
   ]
  },
  {
   "cell_type": "code",
   "execution_count": 14,
   "metadata": {},
   "outputs": [
    {
     "data": {
      "text/plain": [
       "<AxesSubplot:>"
      ]
     },
     "execution_count": 14,
     "metadata": {},
     "output_type": "execute_result"
    },
    {
     "data": {
      "image/png": "[encoded data removed]",
      "text/plain": [
       "<Figure size 432x288 with 2 Axes>"
      ]
     },
     "metadata": {
      "needs_background": "light"
     },
     "output_type": "display_data"
    }
   ],
   "source": [
    "import seaborn as sns\n",
    "sns.heatmap(df_tutorial_5.corr(), cmap=\"YlGnBu\", annot=True)"
   ]
  },
  {
   "cell_type": "markdown",
   "metadata": {},
   "source": [
    "**Exercice 5: based on the statistics, can you see a pattern ? Can you group the highly correlated variables into clusters ? How many clusters do you see ? Can you link them with the 3 expressions of tolerance mentioned in Table 1 ?\n",
    "\n",
    "and group variables as the hypothesized three expressions of tolerance model? Find correlations between each question in the dataset**"
   ]
  },
  {
   "cell_type": "code",
   "execution_count": 15,
   "metadata": {},
   "outputs": [
    {
     "name": "stdout",
     "output_type": "stream",
     "text": [
      "correlation coefficient: 0.434\n",
      "p value: 0.0\n"
     ]
    }
   ],
   "source": [
    "# perform a pearson correlation test\n",
    "from scipy import stats\n",
    "X = df_tutorial_5['q1']\n",
    "Y = df_tutorial_5['q3']\n",
    "rho, p_value = stats.pearsonr(X, Y)\n",
    "print(f'correlation coefficient: {round(rho,4)}')\n",
    "print(f'p value: {round(p_value,4)}')\n",
    "\n"
   ]
  },
  {
   "cell_type": "code",
   "execution_count": 16,
   "metadata": {},
   "outputs": [
    {
     "name": "stdout",
     "output_type": "stream",
     "text": [
      "correlation coefficient: 0.0677\n",
      "p value: 0.4105\n"
     ]
    }
   ],
   "source": [
    "X = df_tutorial_5['q1']\n",
    "Y = df_tutorial_5['q8']\n",
    "rho, p_value = stats.pearsonr(X, Y)\n",
    "print(f'correlation coefficient: {round(rho,4)}')\n",
    "print(f'p value: {round(p_value,4)}')\n"
   ]
  },
  {
   "cell_type": "code",
   "execution_count": 17,
   "metadata": {},
   "outputs": [
    {
     "data": {
      "text/plain": [
       "q1    1.000000\n",
       "q2    0.503568\n",
       "q3    0.434025\n",
       "q4    0.209179\n",
       "q5    0.155458\n",
       "q6    0.147776\n",
       "q7    0.126557\n",
       "q8    0.067692\n",
       "dtype: float64"
      ]
     },
     "execution_count": 17,
     "metadata": {},
     "output_type": "execute_result"
    }
   ],
   "source": [
    "df_tutorial_5.corrwith(df_tutorial_5['q1']).sort_values(ascending=False)"
   ]
  },
  {
   "cell_type": "markdown",
   "metadata": {},
   "source": [
    "### Reliability test with Cronbach's alpha\n",
    "\n",
    "\n",
    "The next step is reliability analysis through Cronbach's Alpha."
   ]
  },
  {
   "cell_type": "markdown",
   "metadata": {},
   "source": [
    "**What does Cronbach's Alpha measures?**\n",
    "\n",
    "Using scales to measure constructs is widespread in the social sciences and beyond.  To support the application of these scales, researchers and practitioners need to show evidence of appropriate reliability.  Many different types of reliability exist, but internal consistency reliability is perhaps the most popular.  Even yet, many metrics exist to provide evidence of internal consistency reliability, but Cronbach’s alpha is perhaps the most popular of these.  For this reason, I provide a guide below of how to calculate Cronbach’s alpha in Python.\n",
    "\n",
    "Whenever we use multiple items/questions to measure a **latent (non-observable) construct**, we call this set of items/questions a **scale**. For example, in this usecase, we want to find out our students' attitudes towards tolerance. Since we can't measure attitudes directly simply asking them \"how tolerance you are?\" due to different definition and understanding of tolerance, we should create a construct that attempts to measure same things. \n",
    "\n",
    "For our usecase, we don't want to deal with each of these 8 variables separately. Rather we want to develop composite measures that combine these variables. Let's start by developing three composite measures as indicated in [1] theoretical framework.\n",
    "\n",
    "\n",
    "Each expression (of tolerance) has three (or two) variables. We need to determine if these three variables are internally consistent. This is basically a question of reliability. A commonly used measure of reliability is Cronbach's Alpha. \n",
    "\n",
    "\n",
    "To make sure we did a good job at constructing these scales, we need to use some quality measures. In general, we want to test a scale for validity and reliability. A scale is valid if it actually measures the construct it’s supposed to measure. Reliability is concerned with the ability of an instrument to measure consistently. An instrument cannot be valid unless it is reliable. "
   ]
  },
  {
   "cell_type": "markdown",
   "metadata": {},
   "source": [
    "**How does Cronbach's Alpha help?**\n",
    "\n",
    "\n",
    "Cronbach's Alpha tells us how **internally consistent** is our scale. **It is the degree to which all observed variables in a scale measure the same construct**. If q1, q2, q3 all contribute to measuring the same thing **(acceptance)** and if these items/questions are correlated we would expect Cronbach alpha to be high. Items that don't really seem to correlate would then be with low Cronbach's Alpha. It helps to answer the following question:\n",
    "\n",
    "> _Do the items I picked to measure a construct line up?_ For instance, how well questions q1, q2 and q3 in the survey measure the **acceptance** construct of tolerance?"
   ]
  },
  {
   "cell_type": "markdown",
   "metadata": {},
   "source": [
    "**How to interpret Cronbach's Alpha?**\n",
    "\n",
    "Cronbach's Alpha statistic (α) varies from 0 and 1. Low values indicate low consistency and high values indicate high consistency.  Alpha increases as the number of items increases and as the correlation between items increases.  One rule of thumb that is often used is that an Alpha of .70 or higher is necessary to indicate reliability although some feel that a higher value is required. See the table below:\n",
    "\n",
    "\n",
    "| Cronbach’s   Alpha | Internal consistency | \n",
    "|:------------------:|:--------------------:|\n",
    "| 0.9 ≤ α            | Excellent            |\n",
    "| 0.8 ≤ α   < 0.9    | Good                 |\n",
    "| 0.7 ≤ α   < 0.8    | Acceptable           |\n",
    "| 0.6 ≤ α   < 0.7    | Questionable         |\n",
    "| 0.5 ≤ α   < 0.6    | Poor                 |\n",
    "| α < 0.5            | Unacceptable         |"
   ]
  },
  {
   "cell_type": "markdown",
   "metadata": {},
   "source": [
    "**How to calculate Cronbach's Alpha in python?**\n",
    "\n",
    "To calculate Cronbach’s Alpha in python for the survey responses, we will use the `cronbach_alpha()` function from the [pingouin](https://pingouin-stats.org/) library.\n",
    "\n",
    "However, there is also another approach to calculating Cronbach alpha that is much better suited for data science. As you notice, none of the common data science libraries like NumPy, Pandas, or Sklearn feature Cronbach alpha measures. This [article](https://towardsdatascience.com/cronbachs-alpha-theory-and-application-in-python-d2915dd63586) will show you exactly how to create your own function. However, there is a reason I haven’t told you yet. The approach you will learn today is much more intuitive and easier to understand.  "
   ]
  },
  {
   "cell_type": "markdown",
   "metadata": {},
   "source": [
    "### Calculate Cronbach's Alpha - For all the Items (Entire DataFrame)"
   ]
  },
  {
   "cell_type": "code",
   "execution_count": 18,
   "metadata": {},
   "outputs": [],
   "source": [
    "# follow the installation instructions here:\n",
    "# https://pingouin-stats.org/index.html"
   ]
  },
  {
   "cell_type": "code",
   "execution_count": 19,
   "metadata": {},
   "outputs": [],
   "source": [
    "import pingouin as pg"
   ]
  },
  {
   "cell_type": "markdown",
   "metadata": {},
   "source": [
    "Try to read the [official documentation](\n",
    "https://pingouin-stats.org/generated/pingouin.cronbach_alpha.html) and figure out how this function works: \n",
    "\n",
    "Tip: to calculate a Cronbach’s alpha, our syntax is very simple.  We just need to type in: `pg.cronbach_alpha(data= #name) `.  Then we enter the `#name` of our data, followed by closing our parenthesis. Then press enter."
   ]
  },
  {
   "cell_type": "code",
   "execution_count": 20,
   "metadata": {},
   "outputs": [
    {
     "data": {
      "text/plain": [
       "(0.7682185310118437, array([0.708, 0.82 ]))"
      ]
     },
     "execution_count": 20,
     "metadata": {},
     "output_type": "execute_result"
    }
   ],
   "source": [
    "pg.cronbach_alpha(data = df_tutorial_5)"
   ]
  },
  {
   "cell_type": "markdown",
   "metadata": {},
   "source": [
    "Cronbach’s Alpha turns out to be 0.708.\n",
    "\n",
    "The 95% confidence interval for Cronbach’s Alpha is also given: [0.708, 0.82]."
   ]
  },
  {
   "cell_type": "code",
   "execution_count": 21,
   "metadata": {},
   "outputs": [],
   "source": [
    "# Change the default confidence interval from 95% to 90%. What does it mean?\n",
    "# Hint: we can specify a different confidence level using the ci argument"
   ]
  },
  {
   "cell_type": "code",
   "execution_count": 22,
   "metadata": {},
   "outputs": [
    {
     "data": {
      "text/plain": [
       "(0.7682185310118437, array([0.686, 0.835]))"
      ]
     },
     "execution_count": 22,
     "metadata": {},
     "output_type": "execute_result"
    }
   ],
   "source": [
    "pg.cronbach_alpha(data = df_tutorial_5, ci = .99)"
   ]
  },
  {
   "cell_type": "markdown",
   "metadata": {},
   "source": [
    "The value for Cronbach’s Alpha remains the same, but the confidence interval is much wider since we used a higher confidence level."
   ]
  },
  {
   "cell_type": "markdown",
   "metadata": {},
   "source": [
    "**The previous exercice calculated the Cronbach’s alpha of each 8 variable in the dataset together. This can be helpful if your dataset only includes a single factor, but according to our theoretical model [1], we may have 3 expressions of tolerance or 3 constructs of tolerance (you will see in next tutorial, how to compute the factors) and we want to calculate a separate Cronbach’s alpha for each of them.**\n",
    "\n",
    "**So what do we do next?**\n",
    "\n",
    "Well, we can add a little bit of code that can separate our constructs in the dataset.  To do this, we must first know which variables are included for which construct.  For instance, we must know that **q1, q2, and q3 are grouped in Acceptance_Construct, whereas variables q4, q5, must be in Respect_Construct and the remaining q6, q7, q8 are in Appreciation_Construct**.\n"
   ]
  },
  {
   "cell_type": "markdown",
   "metadata": {},
   "source": [
    "### Calculate Cronbach's Alpha for 3 Constructs: Acceptance, Respect and Appreciation"
   ]
  },
  {
   "cell_type": "markdown",
   "metadata": {},
   "source": [
    "To separete our variables in three factors we need to add some additional code as following:"
   ]
  },
  {
   "cell_type": "code",
   "execution_count": 23,
   "metadata": {},
   "outputs": [
    {
     "data": {
      "text/plain": [
       "(0.730092436098714, array([0.646, 0.797]))"
      ]
     },
     "execution_count": 23,
     "metadata": {},
     "output_type": "execute_result"
    }
   ],
   "source": [
    "# create a DataFrame named AcceptanceFactor containing q1, q2,q3\n",
    "Acceptance_Construct = df_tutorial_5[['q1','q2','q3']]\n",
    "# calculate the cronbach alpha for this construct\n",
    "pg.cronbach_alpha(data = Acceptance_Construct)"
   ]
  },
  {
   "cell_type": "markdown",
   "metadata": {},
   "source": [
    "`Acceptance_Construct` now refers to the three variables that represent our Construct that we want to use to calculate our Cronbach's Alpha."
   ]
  },
  {
   "cell_type": "code",
   "execution_count": 24,
   "metadata": {},
   "outputs": [],
   "source": [
    "# exercice calculate cronbach alpha for the two other Constructs - 'Respect' and 'Appreciation'"
   ]
  },
  {
   "cell_type": "code",
   "execution_count": 25,
   "metadata": {},
   "outputs": [],
   "source": [
    "# solution\n",
    "Respect_Construct = df_tutorial_5[['q4','q5']]\n",
    "Appreciation_Construct = df_tutorial_5[['q6','q7','q8']]\n"
   ]
  },
  {
   "cell_type": "code",
   "execution_count": 26,
   "metadata": {},
   "outputs": [
    {
     "name": "stdout",
     "output_type": "stream",
     "text": [
      "Cronbach Alpha for RespectFactor: (0.6776686816901887, array([0.555, 0.766]))\n",
      "Cronbach Alpha for AppreciationFactor: (0.7329188147683441, array([0.649, 0.799]))\n"
     ]
    }
   ],
   "source": [
    "# solution\n",
    "print(f'Cronbach Alpha for RespectFactor:', pg.cronbach_alpha(data = Respect_Construct))\n",
    "print(f'Cronbach Alpha for AppreciationFactor:', pg.cronbach_alpha(data = Appreciation_Construct))"
   ]
  },
  {
   "cell_type": "markdown",
   "metadata": {},
   "source": [
    "You are looking for a score of over .7 for high\n",
    "internal consistency. In this case, α = .0.74, which shows the questionnaire is reliable."
   ]
  },
  {
   "cell_type": "markdown",
   "metadata": {},
   "source": [
    "**So... what do our findings tell us?**"
   ]
  },
  {
   "cell_type": "markdown",
   "metadata": {},
   "source": [
    "In interpreting a scale’s α coefficient, remember that a high α is both a function of the correlations among items and the number of items in the analysis, so a high α coefficient isn’t in and of itself the mark of a “good” or reliable set of items; you can often increase the α coefficient simply by increasing the number of items in the analysis. In fact, because highly correlated items will also produce a high α coefficient, if it’s very high (i.e., > 0.95), you may be risking redundancy in your scale items.\n",
    "\n",
    "\n",
    "When writing up your results you need to report the result of the Cronbach’s alpha, as well as referring to any individual items that may be problematic. This should be done with the correct statistics and a meaningful interpretation in plain English. A Cronbach’s alpha is reported using the small Greek letter alpha:\n",
    "\n",
    "> _A reliability analysis was carried out on the tolerance questionnarie comprising 8 items. The results showed that all of the items presented values higher than 0.7, which indicated the reliability of the proposed questonnaire/instrument. The only construct that obtained a value under 0.7, but close to 0.6 is Respect_Construct, but can be regarded as satisfactory._\n",
    "---\n"
   ]
  },
  {
   "cell_type": "code",
   "execution_count": null,
   "metadata": {},
   "outputs": [],
   "source": []
  }
 ],
 "metadata": {
  "celltoolbar": "Slideshow",
  "colab": {
   "collapsed_sections": [],
   "name": "Tutorial 1: Analysing survey Data (Tolerance construct)",
   "provenance": []
  },
  "kernelspec": {
   "display_name": "Python 3",
   "language": "python",
   "name": "python3"
  },
  "language_info": {
   "codemirror_mode": {
    "name": "ipython",
    "version": 3
   },
   "file_extension": ".py",
   "mimetype": "text/x-python",
   "name": "python",
   "nbconvert_exporter": "python",
   "pygments_lexer": "ipython3",
   "version": "3.8.5"
  }
 },
 "nbformat": 4,
 "nbformat_minor": 4
}
