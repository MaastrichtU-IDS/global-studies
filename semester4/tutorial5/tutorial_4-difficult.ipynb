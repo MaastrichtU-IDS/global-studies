{
 "cells": [
  {
   "cell_type": "markdown",
   "metadata": {},
   "source": [
    "# WiDS Maastricht Datathon 2022 Pre-training Day-1 Notebook #\n",
    "This jupyter notebook is prepared for [WiDS Maastricht Datathon 2022](https://www.maastrichtuniversity.nl/events/wids-datathon-maastricht-2022) training session on 4-5th Feb 2022. The objective of this pre-training notebook is to provide background knowledge and guidence for participants to start the data challenge. \n",
    "\n",
    "- The dataset contains approximately **100k** observations of building energy usage records, collected over **7 years** and a number of states within the United States. \n",
    "- The dataset consists of **building characteristics, weather data** for the location of the building, and energy usage for the building and the given year. \n",
    "- The **goal** is to predict energy usage for each building given the characteristics of the building and the weather data for the location of the building.\n",
    "\n",
    "\n",
    "This notebook is delivered by [Chang Sun](https://www.linkedin.com/in/chang-sun-maastricht/), [Nicolas Perez](http://www.linkedin.com/in/nicolas-perez-zambrano/), [Yenisel Plasencia Calaña](https://www.linkedin.com/in/yenisel-plasencia-cala%C3%B1a-phd-10144190/), [Carlos Utrilla Guerrero](https://nl.linkedin.com/in/carlos-utrilla-guerrero-97ba7b31), [Parveen Kumar](https://nl.linkedin.com/in/parveensenza)."
   ]
  },
  {
   "cell_type": "markdown",
   "metadata": {},
   "source": [
    "https://www.kaggle.com/changsun1025/wids-2022-datathon-maastricht-day-1/edit"
   ]
  },
  {
   "cell_type": "markdown",
   "metadata": {},
   "source": [
    "## Why climate change matters?\n",
    "**Climate Change costs lives and money.**\n",
    "- The average temperature in Europe has risen sharply over the past 40 years.\n",
    "- Climate change causes extreme weather.\n",
    "- People are dying because of extreme weather\n",
    "- Climate change leads to economic losses\n",
    "\n",
    "*Source: European Council https://www.consilium.europa.eu/en/infographics/climate-costs/*\n",
    "\n",
    "## Limit climate change and its effects\n",
    "Immediate, rapid and large-scale **reductions in greenhouse gas (GHG) emissions** and reaching net-zero CO2 emissions have the potential to limit climate change and its effects.\n",
    "\n",
    "Mitigation of GHG emissions requires changes to electricity systems, transportation, **buildings**, industry, and land use.\n"
   ]
  },
  {
   "cell_type": "markdown",
   "metadata": {},
   "source": [
    "**Building energy prediction**\n",
    "- prevent power shortages in modern cities\n",
    "- reduce social costs caused by unnecessary energy supply\n",
    "- support stable and efficient power grid operation\n",
    "- make impactful mitigation strategies \n"
   ]
  },
  {
   "cell_type": "markdown",
   "metadata": {},
   "source": [
    "# Import needed packages"
   ]
  },
  {
   "cell_type": "code",
   "execution_count": 1,
   "metadata": {},
   "outputs": [
    {
     "name": "stdout",
     "output_type": "stream",
     "text": [
      "Requirement already satisfied: shap in c:\\users\\p70069673\\appdata\\local\\programs\\python\\python39\\lib\\site-packages (0.40.0)\n",
      "Requirement already satisfied: numpy in c:\\users\\p70069673\\appdata\\local\\programs\\python\\python39\\lib\\site-packages (from shap) (1.20.1)\n",
      "Requirement already satisfied: packaging>20.9 in c:\\users\\p70069673\\appdata\\local\\programs\\python\\python39\\lib\\site-packages (from shap) (21.3)\n",
      "Requirement already satisfied: cloudpickle in c:\\users\\p70069673\\appdata\\local\\programs\\python\\python39\\lib\\site-packages (from shap) (2.0.0)\n",
      "Requirement already satisfied: scikit-learn in c:\\users\\p70069673\\appdata\\local\\programs\\python\\python39\\lib\\site-packages (from shap) (0.24.1)\n",
      "Requirement already satisfied: numba in c:\\users\\p70069673\\appdata\\local\\programs\\python\\python39\\lib\\site-packages (from shap) (0.53.1)\n",
      "Requirement already satisfied: pandas in c:\\users\\p70069673\\appdata\\local\\programs\\python\\python39\\lib\\site-packages (from shap) (1.2.2)\n",
      "Requirement already satisfied: tqdm>4.25.0 in c:\\users\\p70069673\\appdata\\local\\programs\\python\\python39\\lib\\site-packages (from shap) (4.57.0)\n",
      "Requirement already satisfied: scipy in c:\\users\\p70069673\\appdata\\local\\programs\\python\\python39\\lib\\site-packages (from shap) (1.6.1)\n",
      "Requirement already satisfied: slicer==0.0.7 in c:\\users\\p70069673\\appdata\\local\\programs\\python\\python39\\lib\\site-packages (from shap) (0.0.7)\n",
      "Requirement already satisfied: pyparsing!=3.0.5,>=2.0.2 in c:\\users\\p70069673\\appdata\\local\\programs\\python\\python39\\lib\\site-packages (from packaging>20.9->shap) (2.4.7)\n",
      "Requirement already satisfied: setuptools in c:\\users\\p70069673\\appdata\\local\\programs\\python\\python39\\lib\\site-packages (from numba->shap) (49.2.1)\n",
      "Requirement already satisfied: llvmlite<0.37,>=0.36.0rc1 in c:\\users\\p70069673\\appdata\\local\\programs\\python\\python39\\lib\\site-packages (from numba->shap) (0.36.0)\n",
      "Requirement already satisfied: pytz>=2017.3 in c:\\users\\p70069673\\appdata\\local\\programs\\python\\python39\\lib\\site-packages (from pandas->shap) (2019.1)\n",
      "Requirement already satisfied: python-dateutil>=2.7.3 in c:\\users\\p70069673\\appdata\\local\\programs\\python\\python39\\lib\\site-packages (from pandas->shap) (2.8.1)\n",
      "Requirement already satisfied: joblib>=0.11 in c:\\users\\p70069673\\appdata\\local\\programs\\python\\python39\\lib\\site-packages (from scikit-learn->shap) (1.0.1)\n",
      "Requirement already satisfied: threadpoolctl>=2.0.0 in c:\\users\\p70069673\\appdata\\local\\programs\\python\\python39\\lib\\site-packages (from scikit-learn->shap) (2.1.0)\n",
      "Requirement already satisfied: six>=1.5 in c:\\users\\p70069673\\appdata\\roaming\\python\\python39\\site-packages (from python-dateutil>=2.7.3->pandas->shap) (1.15.0)\n"
     ]
    },
    {
     "name": "stderr",
     "output_type": "stream",
     "text": [
      "WARNING: You are using pip version 21.3.1; however, version 22.0.3 is available.\n",
      "You should consider upgrading via the 'C:\\users\\p70069673\\appdata\\local\\programs\\python\\python39\\python.exe -m pip install --upgrade pip' command.\n"
     ]
    }
   ],
   "source": [
    "!pip install shap"
   ]
  },
  {
   "cell_type": "code",
   "execution_count": 2,
   "metadata": {},
   "outputs": [],
   "source": [
    "# This Python 3 environment comes with many helpful analytics libraries installed\n",
    "# It is defined by the kaggle/python Docker image: https://github.com/kaggle/docker-python\n",
    "# For example, here's several helpful packages to load\n",
    "import math\n",
    "import matplotlib.pyplot as plt\n",
    "import seaborn as sns\n",
    "import shap as shap\n",
    "from sklearn.impute import SimpleImputer\n",
    "from sklearn.preprocessing import LabelEncoder, StandardScaler\n",
    "import numpy as np # linear algebra\n",
    "import pandas as pd # data processing, CSV file I/O (e.g. pd.read_csv)"
   ]
  },
  {
   "cell_type": "code",
   "execution_count": 3,
   "metadata": {
    "tags": []
   },
   "outputs": [],
   "source": [
    "# Use Jupyter Widges Package - https://ipywidgets.readthedocs.io/en/stable/index.html \n",
    "from __future__ import print_function\n",
    "from ipywidgets import interact, interactive, fixed, interact_manual, Layout\n",
    "import ipywidgets as widgets\n",
    "style = {'description_width': 'initial'}\n",
    "\n",
    "pd.set_option('display.max_colwidth', None)\n",
    "pd.set_option('display.max_rows', 200)\n",
    "pd.set_option('display.max_columns', 300)"
   ]
  },
  {
   "cell_type": "markdown",
   "metadata": {},
   "source": [
    "# Load train and test data files"
   ]
  },
  {
   "cell_type": "code",
   "execution_count": 1,
   "metadata": {
    "_cell_guid": "b1076dfc-b9ad-4769-8c92-a6c4dae69d19",
    "_uuid": "8f2839f25d086af736a60e9eeb907d3b93b6e0e5",
    "tags": []
   },
   "outputs": [
    {
     "name": "stdout",
     "output_type": "stream",
     "text": [
      "inputs\\clean_tolerance.csv\n",
      "inputs\\data-dictionary.csv\n",
      "inputs\\row_tolerance.csv\n",
      "inputs\\.ipynb_checkpoints\\clean_tolerance-checkpoint.csv\n"
     ]
    }
   ],
   "source": [
    "# Input data files are available in the read-only \"../input/\" directory\n",
    "# For example, running this (by clicking run or pressing Shift+Enter) will list all files under the input directory\n",
    "## Load the data \n",
    "import os\n",
    "for dirname, _, filenames in os.walk('inputs'):\n",
    "    for filename in filenames:\n",
    "        print(os.path.join(dirname, filename))\n",
    "\n",
    "df = pd.read_csv(\"./inputs/row_tolerance.csv\", sep=',')"
   ]
  },
  {
   "cell_type": "markdown",
   "metadata": {},
   "source": [
    "## Glance at data\n",
    "Always check the number of rows and columns, how data looks like, what variables/features/attributes/columns are in the dataset.\n",
    "\n",
    "With the .shape method, you get this information. The first number is the amount of rows, while the second one is the amount of features."
   ]
  },
  {
   "cell_type": "code",
   "execution_count": 2,
   "metadata": {
    "_cell_guid": "b1076dfc-b9ad-4769-8c92-a6c4dae69d19",
    "_uuid": "8f2839f25d086af736a60e9eeb907d3b93b6e0e5",
    "tags": []
   },
   "outputs": [
    {
     "name": "stdout",
     "output_type": "stream",
     "text": [
      "Number of train samples are (151, 2)\n"
     ]
    }
   ],
   "source": [
    "# Check the number of rows and columns\n",
    "print(\"Number of train samples are\",df.shape) "
   ]
  },
  {
   "cell_type": "code",
   "execution_count": 3,
   "metadata": {
    "_cell_guid": "b1076dfc-b9ad-4769-8c92-a6c4dae69d19",
    "_uuid": "8f2839f25d086af736a60e9eeb907d3b93b6e0e5",
    "tags": []
   },
   "outputs": [
    {
     "data": {
      "text/html": [
       "<div><div id=4a189376-ef3a-4aa8-818a-67f871d109d6 style=\"display:none; background-color:#9D6CFF; color:white; width:200px; height:30px; padding-left:5px; border-radius:4px; flex-direction:row; justify-content:space-around; align-items:center;\" onmouseover=\"this.style.backgroundColor='#BA9BF8'\" onmouseout=\"this.style.backgroundColor='#9D6CFF'\" onclick=\"window.commands?.execute('create-mitosheet-from-dataframe-output');\">See Full Dataframe in Mito</div> <script> if (window.commands.hasCommand('create-mitosheet-from-dataframe-output')) document.getElementById('4a189376-ef3a-4aa8-818a-67f871d109d6').style.display = 'flex' </script> <table border=\"1\" class=\"dataframe\">\n",
       "  <thead>\n",
       "    <tr style=\"text-align: right;\">\n",
       "      <th></th>\n",
       "      <th>Timestamp;Age;Gender;Height (scale in cm</th>\n",
       "      <th>e.g. 183);Where are you come from? (Country);How many language you speak at home to your family?;How many different countries have you lived in?;Past intercultural experience: have you ever done one of the following international programs?;Indicate how strong you agree/disagree with the following sentence: [Q1. Interreligious dialog may help to mitigate conflicts and misunderstandings in society?];Indicate how strong you agree/disagree with the following sentence: [Q2. Is there the same freedom of religious practice for all religions in the society?];Indicate how strong you agree/disagree with the following sentence: [Q3. People should have the right to live how they wish];Indicate how strong you agree/disagree with the following sentence: [Q4. It is important that people have the freedom to live their life as they choose];Indicate how strong you agree/disagree with the following sentence: [Q5. It is okay for people to live as they wish as long as they do not harm other people];Indicate how strong you agree/disagree with the following sentence: [Q6. I respect other people’s beliefs and opinions];Indicate how strong you agree/disagree with the following sentence: [Q7. I respect other people’s opinions even when I do not agree];Indicate how strong you agree/disagree with the following sentence: [Q8. I like to spend time with people who are different from me]</th>\n",
       "    </tr>\n",
       "  </thead>\n",
       "  <tbody>\n",
       "    <tr>\n",
       "      <th>0</th>\n",
       "      <td>1;34;0;186;Spain;1;5;Volunteer service;Strongly Agree;Strongly Agree;Strongly Agree;Strongly Agree;Strongly Agree;Agree;Strongly Agree;Strongly Agree</td>\n",
       "      <td>NaN</td>\n",
       "    </tr>\n",
       "    <tr>\n",
       "      <th>1</th>\n",
       "      <td>11/22/2021 11:35:22;;;;;;;;;;;;;;;</td>\n",
       "      <td>NaN</td>\n",
       "    </tr>\n",
       "    <tr>\n",
       "      <th>2</th>\n",
       "      <td>2;34;6;157;BR;2;3;Internship program;Strongly Agree;Strongly Agree;Agree;Agree;Disagree;Disagree;Disagree;Disagree</td>\n",
       "      <td>NaN</td>\n",
       "    </tr>\n",
       "    <tr>\n",
       "      <th>3</th>\n",
       "      <td>3;27;8;191;RU;4;2;Studying school abroad;Strongly Disagree;Strongly Agree;Disagree;Strongly Agree;Strongly Disagree;Strongly Disagree;Strongly Agree;Disagree</td>\n",
       "      <td>NaN</td>\n",
       "    </tr>\n",
       "    <tr>\n",
       "      <th>4</th>\n",
       "      <td>4;35;5;165;RU;3;5;Studying school abroad;Disagree;Strongly Agree;Strongly Agree;Disagree;Disagree;Agree;Agree;Agree</td>\n",
       "      <td>NaN</td>\n",
       "    </tr>\n",
       "  </tbody>\n",
       "</table></div>"
      ],
      "text/plain": [
       "            Timestamp;Age;Gender;Height (scale in cm  \\\n",
       "0  1;34;0;186;Spain;1;5;Volunteer service;Strongl...   \n",
       "1                 11/22/2021 11:35:22;;;;;;;;;;;;;;;   \n",
       "2  2;34;6;157;BR;2;3;Internship program;Strongly ...   \n",
       "3  3;27;8;191;RU;4;2;Studying school abroad;Stron...   \n",
       "4  4;35;5;165;RU;3;5;Studying school abroad;Disag...   \n",
       "\n",
       "    e.g. 183);Where are you come from? (Country);How many language you speak at home to your family?;How many different countries have you lived in?;Past intercultural experience: have you ever done one of the following international programs?;Indicate how strong you agree/disagree with the following sentence: [Q1. Interreligious dialog may help to mitigate conflicts and misunderstandings in society?];Indicate how strong you agree/disagree with the following sentence: [Q2. Is there the same freedom of religious practice for all religions in the society?];Indicate how strong you agree/disagree with the following sentence: [Q3. People should have the right to live how they wish];Indicate how strong you agree/disagree with the following sentence: [Q4. It is important that people have the freedom to live their life as they choose];Indicate how strong you agree/disagree with the following sentence: [Q5. It is okay for people to live as they wish as long as they do not harm other people];Indicate how strong you agree/disagree with the following sentence: [Q6. I respect other people’s beliefs and opinions];Indicate how strong you agree/disagree with the following sentence: [Q7. I respect other people’s opinions even when I do not agree];Indicate how strong you agree/disagree with the following sentence: [Q8. I like to spend time with people who are different from me]  \n",
       "0                                                NaN                                                                                                                                                                                                                                                                                                                                                                                                                                                                                                                                                                                                                                                                                                                                                                                                                                                                                                                                                                                                                                                                                                                                                                                                                                                                                                                                                                                    \n",
       "1                                                NaN                                                                                                                                                                                                                                                                                                                                                                                                                                                                                                                                                                                                                                                                                                                                                                                                                                                                                                                                                                                                                                                                                                                                                                                                                                                                                                                                                                                    \n",
       "2                                                NaN                                                                                                                                                                                                                                                                                                                                                                                                                                                                                                                                                                                                                                                                                                                                                                                                                                                                                                                                                                                                                                                                                                                                                                                                                                                                                                                                                                                    \n",
       "3                                                NaN                                                                                                                                                                                                                                                                                                                                                                                                                                                                                                                                                                                                                                                                                                                                                                                                                                                                                                                                                                                                                                                                                                                                                                                                                                                                                                                                                                                    \n",
       "4                                                NaN                                                                                                                                                                                                                                                                                                                                                                                                                                                                                                                                                                                                                                                                                                                                                                                                                                                                                                                                                                                                                                                                                                                                                                                                                                                                                                                                                                                    "
      ]
     },
     "execution_count": 3,
     "metadata": {},
     "output_type": "execute_result"
    }
   ],
   "source": [
    "# Have a glance at data (shortcut tip: (un)comment: control + / )\n",
    "df.head() \n"
   ]
  },
  {
   "cell_type": "code",
   "execution_count": 8,
   "metadata": {
    "tags": []
   },
   "outputs": [
    {
     "data": {
      "text/plain": [
       "Index(['Timestamp', 'Age', 'Gender', 'Height (scale in cm, e.g. 183)',\n",
       "       'Where are you come from? (Country)',\n",
       "       'How many language you speak at home to your family?',\n",
       "       'How many different countries have you lived in?',\n",
       "       'Past intercultural experience: have you ever done one of the following international programs?',\n",
       "       'Indicate how strong you agree/disagree with the following sentence: [Q1. Interreligious dialog may help to mitigate conflicts and misunderstandings in society?]',\n",
       "       'Indicate how strong you agree/disagree with the following sentence: [Q2. Is there the same freedom of religious practice for all religions in the society?]',\n",
       "       'Indicate how strong you agree/disagree with the following sentence: [Q3. People should have the right to live how they wish]',\n",
       "       'Indicate how strong you agree/disagree with the following sentence: [Q4. It is important that people have the freedom to live their life as they choose]',\n",
       "       'Indicate how strong you agree/disagree with the following sentence: [Q5. It is okay for people to live as they wish as long as they do not harm other people]',\n",
       "       'Indicate how strong you agree/disagree with the following sentence: [Q6. I respect other people’s beliefs and opinions]',\n",
       "       'Indicate how strong you agree/disagree with the following sentence: [Q7. I respect other people’s opinions even when I do not agree]',\n",
       "       'Indicate how strong you agree/disagree with the following sentence: [Q8. I like to spend time with people who are different from me]'],\n",
       "      dtype='object')"
      ]
     },
     "execution_count": 8,
     "metadata": {},
     "output_type": "execute_result"
    }
   ],
   "source": [
    "# Check features in your dataset\n",
    "df.columns"
   ]
  },
  {
   "cell_type": "markdown",
   "metadata": {},
   "source": [
    "> Question: What is the name of the target feature??"
   ]
  },
  {
   "cell_type": "markdown",
   "metadata": {},
   "source": [
    "# Feature exploration \n",
    "## What do these features mean in your dataset?\n",
    "(Please note people would call them features or variables or attributes or columns. All are collect ;)\n",
    "\n",
    "**We Added an additional file - dataDictionary.csv**\n",
    "This file is created from the Data description on WIDS Kaggle page https://www.kaggle.com/c/widsdatathon2022/data \n",
    "\n",
    "It is NOT necessary to have this file for your analysis. I added it here to help you have an easy way to explore the features in the dataset."
   ]
  },
  {
   "cell_type": "code",
   "execution_count": 10,
   "metadata": {
    "tags": []
   },
   "outputs": [
    {
     "data": {
      "application/vnd.jupyter.widget-view+json": {
       "model_id": "5c98b81c61e5404d85d791730cb77669",
       "version_major": 2,
       "version_minor": 0
      },
      "text/plain": [
       "interactive(children=(SelectMultiple(description='variable', layout=Layout(height='150px', width='25%'), optio…"
      ]
     },
     "metadata": {},
     "output_type": "display_data"
    }
   ],
   "source": [
    "data_dict = pd.read_csv(\"./inputs/data-dictionary.csv\", sep=';')\n",
    "search_column_name = 'variable'\n",
    "\n",
    "### Print the selected data rows ###\n",
    "def f(x):\n",
    "    return data_dict[data_dict[search_column_name].isin(list(x))]\n",
    "\n",
    "### Multiple selection widgets ###\n",
    "widget_variable=widgets.SelectMultiple(\n",
    "    options=data_dict[search_column_name].unique(),\n",
    "    layout=Layout(width='25%', height='150px'),\n",
    "    description=search_column_name, \n",
    "    style = style\n",
    ")\n",
    "interact(f, x=widget_variable);"
   ]
  },
  {
   "cell_type": "markdown",
   "metadata": {},
   "source": [
    "**Please note there are only 30 features/variables in the dictionary**"
   ]
  },
  {
   "cell_type": "markdown",
   "metadata": {},
   "source": [
    "## Types of features\n",
    "- Categorical or numerical?\n",
    "- how to deal with different types of features?\n",
    "- why they matter? \n",
    "    - for example: gender, country code, level of education"
   ]
  },
  {
   "cell_type": "markdown",
   "metadata": {},
   "source": [
    "### Check the data type of each variable. "
   ]
  },
  {
   "cell_type": "code",
   "execution_count": 12,
   "metadata": {
    "tags": []
   },
   "outputs": [
    {
     "data": {
      "text/plain": [
       "Timestamp                                                                                                                                                            object\n",
       "Age                                                                                                                                                                 float64\n",
       "Gender                                                                                                                                                              float64\n",
       "Height (scale in cm, e.g. 183)                                                                                                                                      float64\n",
       "Where are you come from? (Country)                                                                                                                                   object\n",
       "How many language you speak at home to your family?                                                                                                                 float64\n",
       "How many different countries have you lived in?                                                                                                                     float64\n",
       "Past intercultural experience: have you ever done one of the following international programs?                                                                       object\n",
       "Indicate how strong you agree/disagree with the following sentence: [Q1. Interreligious dialog may help to mitigate conflicts and misunderstandings in society?]     object\n",
       "Indicate how strong you agree/disagree with the following sentence: [Q2. Is there the same freedom of religious practice for all religions in the society?]          object\n",
       "Indicate how strong you agree/disagree with the following sentence: [Q3. People should have the right to live how they wish]                                         object\n",
       "Indicate how strong you agree/disagree with the following sentence: [Q4. It is important that people have the freedom to live their life as they choose]             object\n",
       "Indicate how strong you agree/disagree with the following sentence: [Q5. It is okay for people to live as they wish as long as they do not harm other people]        object\n",
       "Indicate how strong you agree/disagree with the following sentence: [Q6. I respect other people’s beliefs and opinions]                                              object\n",
       "Indicate how strong you agree/disagree with the following sentence: [Q7. I respect other people’s opinions even when I do not agree]                                 object\n",
       "Indicate how strong you agree/disagree with the following sentence: [Q8. I like to spend time with people who are different from me]                                 object\n",
       "dtype: object"
      ]
     },
     "execution_count": 12,
     "metadata": {},
     "output_type": "execute_result"
    }
   ],
   "source": [
    "# They are auto-recognized by Pandas when you read the csv file into dataframe.\n",
    "# Question: Are they all correct?\n",
    "df.dtypes"
   ]
  },
  {
   "cell_type": "markdown",
   "metadata": {},
   "source": [
    "> Thinking: CHECK Features \n",
    "> - **Year_Factor**: int64?\n",
    "> - **id**: int64?\n",
    "> - **year_built**: float64?"
   ]
  },
  {
   "cell_type": "code",
   "execution_count": 22,
   "metadata": {},
   "outputs": [
    {
     "data": {
      "text/html": [
       "<div><div id=ddac1c0d-900e-414d-a2d7-17965f21f282 style=\"display:none; background-color:#9D6CFF; color:white; width:200px; height:30px; padding-left:5px; border-radius:4px; flex-direction:row; justify-content:space-around; align-items:center;\" onmouseover=\"this.style.backgroundColor='#BA9BF8'\" onmouseout=\"this.style.backgroundColor='#9D6CFF'\" onclick=\"window.commands?.execute('create-mitosheet-from-dataframe-output');\">See Full Dataframe in Mito</div> <script> if (window.commands.hasCommand('create-mitosheet-from-dataframe-output')) document.getElementById('ddac1c0d-900e-414d-a2d7-17965f21f282').style.display = 'flex' </script> <table border=\"1\" class=\"dataframe\">\n",
       "  <thead>\n",
       "    <tr style=\"text-align: right;\">\n",
       "      <th></th>\n",
       "      <th>Timestamp</th>\n",
       "      <th>Age</th>\n",
       "      <th>Gender</th>\n",
       "      <th>Height (scale in cm, e.g. 183)</th>\n",
       "      <th>Where are you come from? (Country)</th>\n",
       "      <th>How many language you speak at home to your family?</th>\n",
       "      <th>How many different countries have you lived in?</th>\n",
       "      <th>Past intercultural experience: have you ever done one of the following international programs?</th>\n",
       "      <th>Indicate how strong you agree/disagree with the following sentence: [Q1. Interreligious dialog may help to mitigate conflicts and misunderstandings in society?]</th>\n",
       "      <th>Indicate how strong you agree/disagree with the following sentence: [Q2. Is there the same freedom of religious practice for all religions in the society?]</th>\n",
       "      <th>Indicate how strong you agree/disagree with the following sentence: [Q3. People should have the right to live how they wish]</th>\n",
       "      <th>Indicate how strong you agree/disagree with the following sentence: [Q4. It is important that people have the freedom to live their life as they choose]</th>\n",
       "      <th>Indicate how strong you agree/disagree with the following sentence: [Q5. It is okay for people to live as they wish as long as they do not harm other people]</th>\n",
       "      <th>Indicate how strong you agree/disagree with the following sentence: [Q6. I respect other people’s beliefs and opinions]</th>\n",
       "      <th>Indicate how strong you agree/disagree with the following sentence: [Q7. I respect other people’s opinions even when I do not agree]</th>\n",
       "      <th>Indicate how strong you agree/disagree with the following sentence: [Q8. I like to spend time with people who are different from me]</th>\n",
       "    </tr>\n",
       "  </thead>\n",
       "  <tbody>\n",
       "    <tr>\n",
       "      <th>0</th>\n",
       "      <td>1</td>\n",
       "      <td>34.0</td>\n",
       "      <td>0.0</td>\n",
       "      <td>186.0</td>\n",
       "      <td>Spain</td>\n",
       "      <td>1.0</td>\n",
       "      <td>5.0</td>\n",
       "      <td>Volunteer service</td>\n",
       "      <td>5</td>\n",
       "      <td>5</td>\n",
       "      <td>5</td>\n",
       "      <td>5</td>\n",
       "      <td>5</td>\n",
       "      <td>4</td>\n",
       "      <td>5</td>\n",
       "      <td>5</td>\n",
       "    </tr>\n",
       "    <tr>\n",
       "      <th>1</th>\n",
       "      <td>11/22/2021 11:35:22</td>\n",
       "      <td>NaN</td>\n",
       "      <td>NaN</td>\n",
       "      <td>NaN</td>\n",
       "      <td>NaN</td>\n",
       "      <td>NaN</td>\n",
       "      <td>NaN</td>\n",
       "      <td>NaN</td>\n",
       "      <td>NaN</td>\n",
       "      <td>NaN</td>\n",
       "      <td>NaN</td>\n",
       "      <td>NaN</td>\n",
       "      <td>NaN</td>\n",
       "      <td>NaN</td>\n",
       "      <td>NaN</td>\n",
       "      <td>NaN</td>\n",
       "    </tr>\n",
       "    <tr>\n",
       "      <th>2</th>\n",
       "      <td>2</td>\n",
       "      <td>34.0</td>\n",
       "      <td>6.0</td>\n",
       "      <td>157.0</td>\n",
       "      <td>BR</td>\n",
       "      <td>2.0</td>\n",
       "      <td>3.0</td>\n",
       "      <td>Internship program</td>\n",
       "      <td>5</td>\n",
       "      <td>5</td>\n",
       "      <td>4</td>\n",
       "      <td>4</td>\n",
       "      <td>2</td>\n",
       "      <td>2</td>\n",
       "      <td>2</td>\n",
       "      <td>2</td>\n",
       "    </tr>\n",
       "    <tr>\n",
       "      <th>3</th>\n",
       "      <td>3</td>\n",
       "      <td>27.0</td>\n",
       "      <td>8.0</td>\n",
       "      <td>191.0</td>\n",
       "      <td>RU</td>\n",
       "      <td>4.0</td>\n",
       "      <td>2.0</td>\n",
       "      <td>Studying school abroad</td>\n",
       "      <td>1</td>\n",
       "      <td>5</td>\n",
       "      <td>2</td>\n",
       "      <td>5</td>\n",
       "      <td>1</td>\n",
       "      <td>1</td>\n",
       "      <td>5</td>\n",
       "      <td>2</td>\n",
       "    </tr>\n",
       "    <tr>\n",
       "      <th>4</th>\n",
       "      <td>4</td>\n",
       "      <td>35.0</td>\n",
       "      <td>5.0</td>\n",
       "      <td>165.0</td>\n",
       "      <td>RU</td>\n",
       "      <td>3.0</td>\n",
       "      <td>5.0</td>\n",
       "      <td>Studying school abroad</td>\n",
       "      <td>2</td>\n",
       "      <td>5</td>\n",
       "      <td>5</td>\n",
       "      <td>2</td>\n",
       "      <td>2</td>\n",
       "      <td>4</td>\n",
       "      <td>4</td>\n",
       "      <td>4</td>\n",
       "    </tr>\n",
       "  </tbody>\n",
       "</table></div>"
      ],
      "text/plain": [
       "             Timestamp   Age  Gender  Height (scale in cm, e.g. 183)  \\\n",
       "0                    1  34.0     0.0                           186.0   \n",
       "1  11/22/2021 11:35:22   NaN     NaN                             NaN   \n",
       "2                    2  34.0     6.0                           157.0   \n",
       "3                    3  27.0     8.0                           191.0   \n",
       "4                    4  35.0     5.0                           165.0   \n",
       "\n",
       "  Where are you come from? (Country)  \\\n",
       "0                              Spain   \n",
       "1                                NaN   \n",
       "2                                 BR   \n",
       "3                                 RU   \n",
       "4                                 RU   \n",
       "\n",
       "   How many language you speak at home to your family?  \\\n",
       "0                                                  1.0   \n",
       "1                                                  NaN   \n",
       "2                                                  2.0   \n",
       "3                                                  4.0   \n",
       "4                                                  3.0   \n",
       "\n",
       "   How many different countries have you lived in?  \\\n",
       "0                                              5.0   \n",
       "1                                              NaN   \n",
       "2                                              3.0   \n",
       "3                                              2.0   \n",
       "4                                              5.0   \n",
       "\n",
       "  Past intercultural experience: have you ever done one of the following international programs?  \\\n",
       "0                                                                              Volunteer service   \n",
       "1                                                                                            NaN   \n",
       "2                                                                             Internship program   \n",
       "3                                                                         Studying school abroad   \n",
       "4                                                                         Studying school abroad   \n",
       "\n",
       "  Indicate how strong you agree/disagree with the following sentence: [Q1. Interreligious dialog may help to mitigate conflicts and misunderstandings in society?]  \\\n",
       "0                                                                                                                                                                5   \n",
       "1                                                                                                                                                              NaN   \n",
       "2                                                                                                                                                                5   \n",
       "3                                                                                                                                                                1   \n",
       "4                                                                                                                                                                2   \n",
       "\n",
       "  Indicate how strong you agree/disagree with the following sentence: [Q2. Is there the same freedom of religious practice for all religions in the society?]  \\\n",
       "0                                                                                                                                                           5   \n",
       "1                                                                                                                                                         NaN   \n",
       "2                                                                                                                                                           5   \n",
       "3                                                                                                                                                           5   \n",
       "4                                                                                                                                                           5   \n",
       "\n",
       "  Indicate how strong you agree/disagree with the following sentence: [Q3. People should have the right to live how they wish]  \\\n",
       "0                                                                                                                            5   \n",
       "1                                                                                                                          NaN   \n",
       "2                                                                                                                            4   \n",
       "3                                                                                                                            2   \n",
       "4                                                                                                                            5   \n",
       "\n",
       "  Indicate how strong you agree/disagree with the following sentence: [Q4. It is important that people have the freedom to live their life as they choose]  \\\n",
       "0                                                                                                                                                        5   \n",
       "1                                                                                                                                                      NaN   \n",
       "2                                                                                                                                                        4   \n",
       "3                                                                                                                                                        5   \n",
       "4                                                                                                                                                        2   \n",
       "\n",
       "  Indicate how strong you agree/disagree with the following sentence: [Q5. It is okay for people to live as they wish as long as they do not harm other people]  \\\n",
       "0                                                                                                                                                             5   \n",
       "1                                                                                                                                                           NaN   \n",
       "2                                                                                                                                                             2   \n",
       "3                                                                                                                                                             1   \n",
       "4                                                                                                                                                             2   \n",
       "\n",
       "  Indicate how strong you agree/disagree with the following sentence: [Q6. I respect other people’s beliefs and opinions]  \\\n",
       "0                                                                                                                       4   \n",
       "1                                                                                                                     NaN   \n",
       "2                                                                                                                       2   \n",
       "3                                                                                                                       1   \n",
       "4                                                                                                                       4   \n",
       "\n",
       "  Indicate how strong you agree/disagree with the following sentence: [Q7. I respect other people’s opinions even when I do not agree]  \\\n",
       "0                                                                                                                                    5   \n",
       "1                                                                                                                                  NaN   \n",
       "2                                                                                                                                    2   \n",
       "3                                                                                                                                    5   \n",
       "4                                                                                                                                    4   \n",
       "\n",
       "  Indicate how strong you agree/disagree with the following sentence: [Q8. I like to spend time with people who are different from me]  \n",
       "0                                                                                                                                    5  \n",
       "1                                                                                                                                  NaN  \n",
       "2                                                                                                                                    2  \n",
       "3                                                                                                                                    2  \n",
       "4                                                                                                                                    4  "
      ]
     },
     "execution_count": 22,
     "metadata": {},
     "output_type": "execute_result"
    }
   ],
   "source": [
    "df_1 = df.replace(['Strongly Agree','Agree', 'Neutral', 'Disagree', 'Strongly Disagree'], ['5','4','3','2','1'])\n",
    "df_1.head(5)"
   ]
  },
  {
   "cell_type": "code",
   "execution_count": 21,
   "metadata": {},
   "outputs": [
    {
     "data": {
      "application/vnd.jupyter.widget-view+json": {
       "model_id": "fbeb76fffac54cad87485cf0eb846203",
       "version_major": 2,
       "version_minor": 0
      },
      "text/plain": [
       "MitoWidget(analysis_data_json='{\"analysisName\": \"UUID-1034732d-f944-49fd-aa68-3502d874e82d\", \"code\": {\"imports…"
      ]
     },
     "metadata": {},
     "output_type": "display_data"
    }
   ],
   "source": [
    "import mitosheet\n",
    "mitosheet.sheet(df_1.head(5), view_df=True)"
   ]
  },
  {
   "cell_type": "code",
   "execution_count": null,
   "metadata": {},
   "outputs": [],
   "source": []
  },
  {
   "cell_type": "markdown",
   "metadata": {},
   "source": [
    "### Group categorical and numercial features"
   ]
  },
  {
   "cell_type": "code",
   "execution_count": 19,
   "metadata": {
    "_cell_guid": "b1076dfc-b9ad-4769-8c92-a6c4dae69d19",
    "_uuid": "8f2839f25d086af736a60e9eeb907d3b93b6e0e5",
    "tags": []
   },
   "outputs": [
    {
     "name": "stdout",
     "output_type": "stream",
     "text": [
      "Index(['Age', 'Gender', 'Height (scale in cm, e.g. 183)',\n",
      "       'How many language you speak at home to your family?',\n",
      "       'How many different countries have you lived in?'],\n",
      "      dtype='object')\n"
     ]
    }
   ],
   "source": [
    "numerical_features=df.select_dtypes('number').columns\n",
    "print(numerical_features)"
   ]
  },
  {
   "cell_type": "code",
   "execution_count": 20,
   "metadata": {},
   "outputs": [
    {
     "ename": "ValueError",
     "evalue": "Unable to parse string \"Strongly Agree\" at position 0",
     "output_type": "error",
     "traceback": [
      "\u001b[1;31m---------------------------------------------------------------------------\u001b[0m",
      "\u001b[1;31mValueError\u001b[0m                                Traceback (most recent call last)",
      "\u001b[1;32mpandas\\_libs\\lib.pyx\u001b[0m in \u001b[0;36mpandas._libs.lib.maybe_convert_numeric\u001b[1;34m()\u001b[0m\n",
      "\u001b[1;31mValueError\u001b[0m: Unable to parse string \"Strongly Agree\"",
      "\nDuring handling of the above exception, another exception occurred:\n",
      "\u001b[1;31mValueError\u001b[0m                                Traceback (most recent call last)",
      "\u001b[1;32m<ipython-input-20-a0bc80bf4ab1>\u001b[0m in \u001b[0;36m<module>\u001b[1;34m\u001b[0m\n\u001b[0;32m     14\u001b[0m \u001b[0mcategorical\u001b[0m \u001b[1;33m=\u001b[0m \u001b[1;33m[\u001b[0m\u001b[1;34m'Where are you come from? (Country)'\u001b[0m\u001b[1;33m,\u001b[0m \u001b[1;34m'Gender'\u001b[0m\u001b[1;33m]\u001b[0m\u001b[1;33m\u001b[0m\u001b[1;33m\u001b[0m\u001b[0m\n\u001b[0;32m     15\u001b[0m \u001b[1;33m\u001b[0m\u001b[0m\n\u001b[1;32m---> 16\u001b[1;33m \u001b[0mdf\u001b[0m\u001b[1;33m[\u001b[0m\u001b[0mnumerical\u001b[0m\u001b[1;33m]\u001b[0m \u001b[1;33m=\u001b[0m \u001b[0mdf\u001b[0m\u001b[1;33m[\u001b[0m\u001b[0mnumerical\u001b[0m\u001b[1;33m]\u001b[0m\u001b[1;33m.\u001b[0m\u001b[0mapply\u001b[0m\u001b[1;33m(\u001b[0m\u001b[0mpd\u001b[0m\u001b[1;33m.\u001b[0m\u001b[0mto_numeric\u001b[0m\u001b[1;33m)\u001b[0m\u001b[1;33m\u001b[0m\u001b[1;33m\u001b[0m\u001b[0m\n\u001b[0m\u001b[0;32m     17\u001b[0m \u001b[0mdf\u001b[0m\u001b[1;33m[\u001b[0m\u001b[0mcategorical\u001b[0m\u001b[1;33m]\u001b[0m \u001b[1;33m=\u001b[0m \u001b[0mdf\u001b[0m\u001b[1;33m[\u001b[0m\u001b[0mcategorical\u001b[0m\u001b[1;33m]\u001b[0m\u001b[1;33m.\u001b[0m\u001b[0mastype\u001b[0m\u001b[1;33m(\u001b[0m\u001b[1;34m\"category\"\u001b[0m\u001b[1;33m)\u001b[0m\u001b[1;33m\u001b[0m\u001b[1;33m\u001b[0m\u001b[0m\n\u001b[0;32m     18\u001b[0m \u001b[1;33m\u001b[0m\u001b[0m\n",
      "\u001b[1;32mc:\\users\\p70069673\\appdata\\local\\programs\\python\\python39\\lib\\site-packages\\pandas\\core\\frame.py\u001b[0m in \u001b[0;36mapply\u001b[1;34m(self, func, axis, raw, result_type, args, **kwds)\u001b[0m\n\u001b[0;32m   7763\u001b[0m             \u001b[0mkwds\u001b[0m\u001b[1;33m=\u001b[0m\u001b[0mkwds\u001b[0m\u001b[1;33m,\u001b[0m\u001b[1;33m\u001b[0m\u001b[1;33m\u001b[0m\u001b[0m\n\u001b[0;32m   7764\u001b[0m         )\n\u001b[1;32m-> 7765\u001b[1;33m         \u001b[1;32mreturn\u001b[0m \u001b[0mop\u001b[0m\u001b[1;33m.\u001b[0m\u001b[0mget_result\u001b[0m\u001b[1;33m(\u001b[0m\u001b[1;33m)\u001b[0m\u001b[1;33m\u001b[0m\u001b[1;33m\u001b[0m\u001b[0m\n\u001b[0m\u001b[0;32m   7766\u001b[0m \u001b[1;33m\u001b[0m\u001b[0m\n\u001b[0;32m   7767\u001b[0m     \u001b[1;32mdef\u001b[0m \u001b[0mapplymap\u001b[0m\u001b[1;33m(\u001b[0m\u001b[0mself\u001b[0m\u001b[1;33m,\u001b[0m \u001b[0mfunc\u001b[0m\u001b[1;33m,\u001b[0m \u001b[0mna_action\u001b[0m\u001b[1;33m:\u001b[0m \u001b[0mOptional\u001b[0m\u001b[1;33m[\u001b[0m\u001b[0mstr\u001b[0m\u001b[1;33m]\u001b[0m \u001b[1;33m=\u001b[0m \u001b[1;32mNone\u001b[0m\u001b[1;33m)\u001b[0m \u001b[1;33m->\u001b[0m \u001b[0mDataFrame\u001b[0m\u001b[1;33m:\u001b[0m\u001b[1;33m\u001b[0m\u001b[1;33m\u001b[0m\u001b[0m\n",
      "\u001b[1;32mc:\\users\\p70069673\\appdata\\local\\programs\\python\\python39\\lib\\site-packages\\pandas\\core\\apply.py\u001b[0m in \u001b[0;36mget_result\u001b[1;34m(self)\u001b[0m\n\u001b[0;32m    183\u001b[0m             \u001b[1;32mreturn\u001b[0m \u001b[0mself\u001b[0m\u001b[1;33m.\u001b[0m\u001b[0mapply_raw\u001b[0m\u001b[1;33m(\u001b[0m\u001b[1;33m)\u001b[0m\u001b[1;33m\u001b[0m\u001b[1;33m\u001b[0m\u001b[0m\n\u001b[0;32m    184\u001b[0m \u001b[1;33m\u001b[0m\u001b[0m\n\u001b[1;32m--> 185\u001b[1;33m         \u001b[1;32mreturn\u001b[0m \u001b[0mself\u001b[0m\u001b[1;33m.\u001b[0m\u001b[0mapply_standard\u001b[0m\u001b[1;33m(\u001b[0m\u001b[1;33m)\u001b[0m\u001b[1;33m\u001b[0m\u001b[1;33m\u001b[0m\u001b[0m\n\u001b[0m\u001b[0;32m    186\u001b[0m \u001b[1;33m\u001b[0m\u001b[0m\n\u001b[0;32m    187\u001b[0m     \u001b[1;32mdef\u001b[0m \u001b[0mapply_empty_result\u001b[0m\u001b[1;33m(\u001b[0m\u001b[0mself\u001b[0m\u001b[1;33m)\u001b[0m\u001b[1;33m:\u001b[0m\u001b[1;33m\u001b[0m\u001b[1;33m\u001b[0m\u001b[0m\n",
      "\u001b[1;32mc:\\users\\p70069673\\appdata\\local\\programs\\python\\python39\\lib\\site-packages\\pandas\\core\\apply.py\u001b[0m in \u001b[0;36mapply_standard\u001b[1;34m(self)\u001b[0m\n\u001b[0;32m    274\u001b[0m \u001b[1;33m\u001b[0m\u001b[0m\n\u001b[0;32m    275\u001b[0m     \u001b[1;32mdef\u001b[0m \u001b[0mapply_standard\u001b[0m\u001b[1;33m(\u001b[0m\u001b[0mself\u001b[0m\u001b[1;33m)\u001b[0m\u001b[1;33m:\u001b[0m\u001b[1;33m\u001b[0m\u001b[1;33m\u001b[0m\u001b[0m\n\u001b[1;32m--> 276\u001b[1;33m         \u001b[0mresults\u001b[0m\u001b[1;33m,\u001b[0m \u001b[0mres_index\u001b[0m \u001b[1;33m=\u001b[0m \u001b[0mself\u001b[0m\u001b[1;33m.\u001b[0m\u001b[0mapply_series_generator\u001b[0m\u001b[1;33m(\u001b[0m\u001b[1;33m)\u001b[0m\u001b[1;33m\u001b[0m\u001b[1;33m\u001b[0m\u001b[0m\n\u001b[0m\u001b[0;32m    277\u001b[0m \u001b[1;33m\u001b[0m\u001b[0m\n\u001b[0;32m    278\u001b[0m         \u001b[1;31m# wrap results\u001b[0m\u001b[1;33m\u001b[0m\u001b[1;33m\u001b[0m\u001b[1;33m\u001b[0m\u001b[0m\n",
      "\u001b[1;32mc:\\users\\p70069673\\appdata\\local\\programs\\python\\python39\\lib\\site-packages\\pandas\\core\\apply.py\u001b[0m in \u001b[0;36mapply_series_generator\u001b[1;34m(self)\u001b[0m\n\u001b[0;32m    288\u001b[0m             \u001b[1;32mfor\u001b[0m \u001b[0mi\u001b[0m\u001b[1;33m,\u001b[0m \u001b[0mv\u001b[0m \u001b[1;32min\u001b[0m \u001b[0menumerate\u001b[0m\u001b[1;33m(\u001b[0m\u001b[0mseries_gen\u001b[0m\u001b[1;33m)\u001b[0m\u001b[1;33m:\u001b[0m\u001b[1;33m\u001b[0m\u001b[1;33m\u001b[0m\u001b[0m\n\u001b[0;32m    289\u001b[0m                 \u001b[1;31m# ignore SettingWithCopy here in case the user mutates\u001b[0m\u001b[1;33m\u001b[0m\u001b[1;33m\u001b[0m\u001b[1;33m\u001b[0m\u001b[0m\n\u001b[1;32m--> 290\u001b[1;33m                 \u001b[0mresults\u001b[0m\u001b[1;33m[\u001b[0m\u001b[0mi\u001b[0m\u001b[1;33m]\u001b[0m \u001b[1;33m=\u001b[0m \u001b[0mself\u001b[0m\u001b[1;33m.\u001b[0m\u001b[0mf\u001b[0m\u001b[1;33m(\u001b[0m\u001b[0mv\u001b[0m\u001b[1;33m)\u001b[0m\u001b[1;33m\u001b[0m\u001b[1;33m\u001b[0m\u001b[0m\n\u001b[0m\u001b[0;32m    291\u001b[0m                 \u001b[1;32mif\u001b[0m \u001b[0misinstance\u001b[0m\u001b[1;33m(\u001b[0m\u001b[0mresults\u001b[0m\u001b[1;33m[\u001b[0m\u001b[0mi\u001b[0m\u001b[1;33m]\u001b[0m\u001b[1;33m,\u001b[0m \u001b[0mABCSeries\u001b[0m\u001b[1;33m)\u001b[0m\u001b[1;33m:\u001b[0m\u001b[1;33m\u001b[0m\u001b[1;33m\u001b[0m\u001b[0m\n\u001b[0;32m    292\u001b[0m                     \u001b[1;31m# If we have a view on v, we need to make a copy because\u001b[0m\u001b[1;33m\u001b[0m\u001b[1;33m\u001b[0m\u001b[1;33m\u001b[0m\u001b[0m\n",
      "\u001b[1;32mc:\\users\\p70069673\\appdata\\local\\programs\\python\\python39\\lib\\site-packages\\pandas\\core\\tools\\numeric.py\u001b[0m in \u001b[0;36mto_numeric\u001b[1;34m(arg, errors, downcast)\u001b[0m\n\u001b[0;32m    152\u001b[0m         \u001b[0mcoerce_numeric\u001b[0m \u001b[1;33m=\u001b[0m \u001b[0merrors\u001b[0m \u001b[1;32mnot\u001b[0m \u001b[1;32min\u001b[0m \u001b[1;33m(\u001b[0m\u001b[1;34m\"ignore\"\u001b[0m\u001b[1;33m,\u001b[0m \u001b[1;34m\"raise\"\u001b[0m\u001b[1;33m)\u001b[0m\u001b[1;33m\u001b[0m\u001b[1;33m\u001b[0m\u001b[0m\n\u001b[0;32m    153\u001b[0m         \u001b[1;32mtry\u001b[0m\u001b[1;33m:\u001b[0m\u001b[1;33m\u001b[0m\u001b[1;33m\u001b[0m\u001b[0m\n\u001b[1;32m--> 154\u001b[1;33m             values = lib.maybe_convert_numeric(\n\u001b[0m\u001b[0;32m    155\u001b[0m                 \u001b[0mvalues\u001b[0m\u001b[1;33m,\u001b[0m \u001b[0mset\u001b[0m\u001b[1;33m(\u001b[0m\u001b[1;33m)\u001b[0m\u001b[1;33m,\u001b[0m \u001b[0mcoerce_numeric\u001b[0m\u001b[1;33m=\u001b[0m\u001b[0mcoerce_numeric\u001b[0m\u001b[1;33m\u001b[0m\u001b[1;33m\u001b[0m\u001b[0m\n\u001b[0;32m    156\u001b[0m             )\n",
      "\u001b[1;32mpandas\\_libs\\lib.pyx\u001b[0m in \u001b[0;36mpandas._libs.lib.maybe_convert_numeric\u001b[1;34m()\u001b[0m\n",
      "\u001b[1;31mValueError\u001b[0m: Unable to parse string \"Strongly Agree\" at position 0"
     ]
    }
   ],
   "source": [
    "# convert dataset into type variables accordingly (perhaps exercice for students)\n",
    "\n",
    "numerical = ['Age', 'Gender', \n",
    "             'Indicate how strong you agree/disagree with the following sentence: [Q1. Interreligious dialog may help to mitigate conflicts and misunderstandings in society?]',\n",
    "             'Indicate how strong you agree/disagree with the following sentence: [Q2. Is there the same freedom of religious practice for all religions in the society?]',\n",
    "             'Indicate how strong you agree/disagree with the following sentence: [Q3. People should have the right to live how they wish]',\n",
    "             'Indicate how strong you agree/disagree with the following sentence: [Q4. It is important that people have the freedom to live their life as they choose]',\n",
    "             'Indicate how strong you agree/disagree with the following sentence: [Q5. It is okay for people to live as they wish as long as they do not harm other people]',\n",
    "             'Indicate how strong you agree/disagree with the following sentence: [Q6. I respect other people’s beliefs and opinions]',\n",
    "             'Indicate how strong you agree/disagree with the following sentence: [Q7. I respect other people’s opinions even when I do not agree]',\n",
    "             'Indicate how strong you agree/disagree with the following sentence: [Q8. I like to spend time with people who are different from me]'\n",
    "             ]\n",
    "\n",
    "categorical = ['Where are you come from? (Country)', 'Gender'] \n",
    "\n",
    "df[numerical] = df[numerical].apply(pd.to_numeric)\n",
    "df[categorical] = df[categorical].astype(\"category\")\n",
    "\n",
    "\n",
    "\n",
    "df.dtypes"
   ]
  },
  {
   "cell_type": "markdown",
   "metadata": {},
   "source": [
    "### Look at categorical variables"
   ]
  },
  {
   "cell_type": "code",
   "execution_count": null,
   "metadata": {
    "execution": {
     "iopub.execute_input": "2022-02-05T10:33:04.242393Z",
     "iopub.status.busy": "2022-02-05T10:33:04.242101Z",
     "iopub.status.idle": "2022-02-05T10:33:04.651983Z",
     "shell.execute_reply": "2022-02-05T10:33:04.651002Z",
     "shell.execute_reply.started": "2022-02-05T10:33:04.242363Z"
    }
   },
   "outputs": [],
   "source": [
    "plot_cat_dataframe = train\n",
    "\n",
    "### hist plot categorical features ###\n",
    "def count_plot(var, plot_cat_dataframe):\n",
    "    plt.figure(figsize = (10,8))\n",
    "    ax = sns.countplot(y = var, data = plot_cat_dataframe)\n",
    "    plt.title(var, size = 15)\n",
    "\n",
    "def inter_cat_plot(x):\n",
    "    return count_plot(x, plot_cat_dataframe)\n",
    "\n",
    "### Multiple selection widgets ###\n",
    "widget_cat_plot=widgets.Dropdown(\n",
    "    options=categorical_features,\n",
    "    value='State_Factor',\n",
    "    description=\"Categorical Variable:\", \n",
    "    style = style\n",
    ")\n",
    "interact(inter_cat_plot, x=widget_cat_plot);"
   ]
  },
  {
   "cell_type": "markdown",
   "metadata": {},
   "source": [
    "### Look at numerical variables"
   ]
  },
  {
   "cell_type": "code",
   "execution_count": 15,
   "metadata": {
    "tags": []
   },
   "outputs": [
    {
     "ename": "TraitError",
     "evalue": "Invalid selection: value not found",
     "output_type": "error",
     "traceback": [
      "\u001b[1;31m---------------------------------------------------------------------------\u001b[0m",
      "\u001b[1;31mStopIteration\u001b[0m                             Traceback (most recent call last)",
      "\u001b[1;32mc:\\users\\p70069673\\appdata\\local\\programs\\python\\python39\\lib\\site-packages\\ipywidgets\\widgets\\widget_selection.py\u001b[0m in \u001b[0;36mfindvalue\u001b[1;34m(array, value, compare)\u001b[0m\n\u001b[0;32m    136\u001b[0m     \u001b[1;32mtry\u001b[0m\u001b[1;33m:\u001b[0m\u001b[1;33m\u001b[0m\u001b[1;33m\u001b[0m\u001b[0m\n\u001b[1;32m--> 137\u001b[1;33m         \u001b[1;32mreturn\u001b[0m \u001b[0mnext\u001b[0m\u001b[1;33m(\u001b[0m\u001b[0mx\u001b[0m \u001b[1;32mfor\u001b[0m \u001b[0mx\u001b[0m \u001b[1;32min\u001b[0m \u001b[0marray\u001b[0m \u001b[1;32mif\u001b[0m \u001b[0mcompare\u001b[0m\u001b[1;33m(\u001b[0m\u001b[0mx\u001b[0m\u001b[1;33m,\u001b[0m \u001b[0mvalue\u001b[0m\u001b[1;33m)\u001b[0m\u001b[1;33m)\u001b[0m\u001b[1;33m\u001b[0m\u001b[1;33m\u001b[0m\u001b[0m\n\u001b[0m\u001b[0;32m    138\u001b[0m     \u001b[1;32mexcept\u001b[0m \u001b[0mStopIteration\u001b[0m\u001b[1;33m:\u001b[0m\u001b[1;33m\u001b[0m\u001b[1;33m\u001b[0m\u001b[0m\n",
      "\u001b[1;31mStopIteration\u001b[0m: ",
      "\nDuring handling of the above exception, another exception occurred:\n",
      "\u001b[1;31mValueError\u001b[0m                                Traceback (most recent call last)",
      "\u001b[1;32mc:\\users\\p70069673\\appdata\\local\\programs\\python\\python39\\lib\\site-packages\\ipywidgets\\widgets\\widget_selection.py\u001b[0m in \u001b[0;36m_validate_value\u001b[1;34m(self, proposal)\u001b[0m\n\u001b[0;32m    240\u001b[0m         \u001b[1;32mtry\u001b[0m\u001b[1;33m:\u001b[0m\u001b[1;33m\u001b[0m\u001b[1;33m\u001b[0m\u001b[0m\n\u001b[1;32m--> 241\u001b[1;33m             \u001b[1;32mreturn\u001b[0m \u001b[0mfindvalue\u001b[0m\u001b[1;33m(\u001b[0m\u001b[0mself\u001b[0m\u001b[1;33m.\u001b[0m\u001b[0m_options_values\u001b[0m\u001b[1;33m,\u001b[0m \u001b[0mvalue\u001b[0m\u001b[1;33m,\u001b[0m \u001b[0mself\u001b[0m\u001b[1;33m.\u001b[0m\u001b[0mequals\u001b[0m\u001b[1;33m)\u001b[0m \u001b[1;32mif\u001b[0m \u001b[0mvalue\u001b[0m \u001b[1;32mis\u001b[0m \u001b[1;32mnot\u001b[0m \u001b[1;32mNone\u001b[0m \u001b[1;32melse\u001b[0m \u001b[1;32mNone\u001b[0m\u001b[1;33m\u001b[0m\u001b[1;33m\u001b[0m\u001b[0m\n\u001b[0m\u001b[0;32m    242\u001b[0m         \u001b[1;32mexcept\u001b[0m \u001b[0mValueError\u001b[0m\u001b[1;33m:\u001b[0m\u001b[1;33m\u001b[0m\u001b[1;33m\u001b[0m\u001b[0m\n",
      "\u001b[1;32mc:\\users\\p70069673\\appdata\\local\\programs\\python\\python39\\lib\\site-packages\\ipywidgets\\widgets\\widget_selection.py\u001b[0m in \u001b[0;36mfindvalue\u001b[1;34m(array, value, compare)\u001b[0m\n\u001b[0;32m    138\u001b[0m     \u001b[1;32mexcept\u001b[0m \u001b[0mStopIteration\u001b[0m\u001b[1;33m:\u001b[0m\u001b[1;33m\u001b[0m\u001b[1;33m\u001b[0m\u001b[0m\n\u001b[1;32m--> 139\u001b[1;33m         \u001b[1;32mraise\u001b[0m \u001b[0mValueError\u001b[0m\u001b[1;33m(\u001b[0m\u001b[1;34m'%r not in array'\u001b[0m\u001b[1;33m%\u001b[0m\u001b[0mvalue\u001b[0m\u001b[1;33m)\u001b[0m\u001b[1;33m\u001b[0m\u001b[1;33m\u001b[0m\u001b[0m\n\u001b[0m\u001b[0;32m    140\u001b[0m \u001b[1;33m\u001b[0m\u001b[0m\n",
      "\u001b[1;31mValueError\u001b[0m: 'january_avg_temp' not in array",
      "\nDuring handling of the above exception, another exception occurred:\n",
      "\u001b[1;31mTraitError\u001b[0m                                Traceback (most recent call last)",
      "\u001b[1;32m<ipython-input-15-1c09de24b786>\u001b[0m in \u001b[0;36m<module>\u001b[1;34m\u001b[0m\n\u001b[0;32m     16\u001b[0m \u001b[1;33m\u001b[0m\u001b[0m\n\u001b[0;32m     17\u001b[0m \u001b[1;31m### Multiple selection widgets ###\u001b[0m\u001b[1;33m\u001b[0m\u001b[1;33m\u001b[0m\u001b[1;33m\u001b[0m\u001b[0m\n\u001b[1;32m---> 18\u001b[1;33m widget_cat_plot=widgets.Dropdown(\n\u001b[0m\u001b[0;32m     19\u001b[0m     \u001b[0moptions\u001b[0m\u001b[1;33m=\u001b[0m\u001b[0mplot_num_data\u001b[0m\u001b[1;33m.\u001b[0m\u001b[0mselect_dtypes\u001b[0m\u001b[1;33m(\u001b[0m\u001b[1;34m'number'\u001b[0m\u001b[1;33m)\u001b[0m\u001b[1;33m.\u001b[0m\u001b[0mcolumns\u001b[0m\u001b[1;33m,\u001b[0m\u001b[1;33m\u001b[0m\u001b[1;33m\u001b[0m\u001b[0m\n\u001b[0;32m     20\u001b[0m     \u001b[0mvalue\u001b[0m\u001b[1;33m=\u001b[0m\u001b[1;34m\"january_avg_temp\"\u001b[0m\u001b[1;33m,\u001b[0m\u001b[1;33m\u001b[0m\u001b[1;33m\u001b[0m\u001b[0m\n",
      "\u001b[1;32mc:\\users\\p70069673\\appdata\\local\\programs\\python\\python39\\lib\\site-packages\\ipywidgets\\widgets\\widget_selection.py\u001b[0m in \u001b[0;36m__init__\u001b[1;34m(self, *args, **kwargs)\u001b[0m\n\u001b[0;32m    188\u001b[0m             \u001b[0mkwargs\u001b[0m\u001b[1;33m[\u001b[0m\u001b[1;34m'label'\u001b[0m\u001b[1;33m]\u001b[0m\u001b[1;33m,\u001b[0m \u001b[0mkwargs\u001b[0m\u001b[1;33m[\u001b[0m\u001b[1;34m'value'\u001b[0m\u001b[1;33m]\u001b[0m \u001b[1;33m=\u001b[0m \u001b[0moptions\u001b[0m\u001b[1;33m[\u001b[0m\u001b[1;36m0\u001b[0m\u001b[1;33m]\u001b[0m \u001b[1;32mif\u001b[0m \u001b[0mnonempty\u001b[0m \u001b[1;32melse\u001b[0m \u001b[1;33m(\u001b[0m\u001b[1;32mNone\u001b[0m\u001b[1;33m,\u001b[0m \u001b[1;32mNone\u001b[0m\u001b[1;33m)\u001b[0m\u001b[1;33m\u001b[0m\u001b[1;33m\u001b[0m\u001b[0m\n\u001b[0;32m    189\u001b[0m \u001b[1;33m\u001b[0m\u001b[0m\n\u001b[1;32m--> 190\u001b[1;33m         \u001b[0msuper\u001b[0m\u001b[1;33m(\u001b[0m\u001b[0m_Selection\u001b[0m\u001b[1;33m,\u001b[0m \u001b[0mself\u001b[0m\u001b[1;33m)\u001b[0m\u001b[1;33m.\u001b[0m\u001b[0m__init__\u001b[0m\u001b[1;33m(\u001b[0m\u001b[1;33m*\u001b[0m\u001b[0margs\u001b[0m\u001b[1;33m,\u001b[0m \u001b[1;33m**\u001b[0m\u001b[0mkwargs\u001b[0m\u001b[1;33m)\u001b[0m\u001b[1;33m\u001b[0m\u001b[1;33m\u001b[0m\u001b[0m\n\u001b[0m\u001b[0;32m    191\u001b[0m         \u001b[0mself\u001b[0m\u001b[1;33m.\u001b[0m\u001b[0m_initializing_traits_\u001b[0m \u001b[1;33m=\u001b[0m \u001b[1;32mFalse\u001b[0m\u001b[1;33m\u001b[0m\u001b[1;33m\u001b[0m\u001b[0m\n\u001b[0;32m    192\u001b[0m \u001b[1;33m\u001b[0m\u001b[0m\n",
      "\u001b[1;32mc:\\users\\p70069673\\appdata\\local\\programs\\python\\python39\\lib\\site-packages\\ipywidgets\\widgets\\widget.py\u001b[0m in \u001b[0;36m__init__\u001b[1;34m(self, **kwargs)\u001b[0m\n\u001b[0;32m    410\u001b[0m         \u001b[1;34m\"\"\"Public constructor\"\"\"\u001b[0m\u001b[1;33m\u001b[0m\u001b[1;33m\u001b[0m\u001b[0m\n\u001b[0;32m    411\u001b[0m         \u001b[0mself\u001b[0m\u001b[1;33m.\u001b[0m\u001b[0m_model_id\u001b[0m \u001b[1;33m=\u001b[0m \u001b[0mkwargs\u001b[0m\u001b[1;33m.\u001b[0m\u001b[0mpop\u001b[0m\u001b[1;33m(\u001b[0m\u001b[1;34m'model_id'\u001b[0m\u001b[1;33m,\u001b[0m \u001b[1;32mNone\u001b[0m\u001b[1;33m)\u001b[0m\u001b[1;33m\u001b[0m\u001b[1;33m\u001b[0m\u001b[0m\n\u001b[1;32m--> 412\u001b[1;33m         \u001b[0msuper\u001b[0m\u001b[1;33m(\u001b[0m\u001b[0mWidget\u001b[0m\u001b[1;33m,\u001b[0m \u001b[0mself\u001b[0m\u001b[1;33m)\u001b[0m\u001b[1;33m.\u001b[0m\u001b[0m__init__\u001b[0m\u001b[1;33m(\u001b[0m\u001b[1;33m**\u001b[0m\u001b[0mkwargs\u001b[0m\u001b[1;33m)\u001b[0m\u001b[1;33m\u001b[0m\u001b[1;33m\u001b[0m\u001b[0m\n\u001b[0m\u001b[0;32m    413\u001b[0m \u001b[1;33m\u001b[0m\u001b[0m\n\u001b[0;32m    414\u001b[0m         \u001b[0mWidget\u001b[0m\u001b[1;33m.\u001b[0m\u001b[0m_call_widget_constructed\u001b[0m\u001b[1;33m(\u001b[0m\u001b[0mself\u001b[0m\u001b[1;33m)\u001b[0m\u001b[1;33m\u001b[0m\u001b[1;33m\u001b[0m\u001b[0m\n",
      "\u001b[1;32mc:\\users\\p70069673\\appdata\\local\\programs\\python\\python39\\lib\\site-packages\\traitlets\\traitlets.py\u001b[0m in \u001b[0;36m__init__\u001b[1;34m(self, *args, **kwargs)\u001b[0m\n\u001b[0;32m   1078\u001b[0m                 \u001b[1;32melse\u001b[0m\u001b[1;33m:\u001b[0m\u001b[1;33m\u001b[0m\u001b[1;33m\u001b[0m\u001b[0m\n\u001b[0;32m   1079\u001b[0m                     \u001b[1;31m# passthrough args that don't set traits to super\u001b[0m\u001b[1;33m\u001b[0m\u001b[1;33m\u001b[0m\u001b[1;33m\u001b[0m\u001b[0m\n\u001b[1;32m-> 1080\u001b[1;33m                     \u001b[0msuper_kwargs\u001b[0m\u001b[1;33m[\u001b[0m\u001b[0mkey\u001b[0m\u001b[1;33m]\u001b[0m \u001b[1;33m=\u001b[0m \u001b[0mvalue\u001b[0m\u001b[1;33m\u001b[0m\u001b[1;33m\u001b[0m\u001b[0m\n\u001b[0m\u001b[0;32m   1081\u001b[0m         \u001b[1;32mtry\u001b[0m\u001b[1;33m:\u001b[0m\u001b[1;33m\u001b[0m\u001b[1;33m\u001b[0m\u001b[0m\n\u001b[0;32m   1082\u001b[0m             \u001b[0msuper\u001b[0m\u001b[1;33m(\u001b[0m\u001b[0mHasTraits\u001b[0m\u001b[1;33m,\u001b[0m \u001b[0mself\u001b[0m\u001b[1;33m)\u001b[0m\u001b[1;33m.\u001b[0m\u001b[0m__init__\u001b[0m\u001b[1;33m(\u001b[0m\u001b[1;33m*\u001b[0m\u001b[0msuper_args\u001b[0m\u001b[1;33m,\u001b[0m \u001b[1;33m**\u001b[0m\u001b[0msuper_kwargs\u001b[0m\u001b[1;33m)\u001b[0m\u001b[1;33m\u001b[0m\u001b[1;33m\u001b[0m\u001b[0m\n",
      "\u001b[1;32mc:\\users\\p70069673\\appdata\\local\\programs\\python\\python39\\lib\\contextlib.py\u001b[0m in \u001b[0;36m__exit__\u001b[1;34m(self, type, value, traceback)\u001b[0m\n\u001b[0;32m    122\u001b[0m         \u001b[1;32mif\u001b[0m \u001b[0mtype\u001b[0m \u001b[1;32mis\u001b[0m \u001b[1;32mNone\u001b[0m\u001b[1;33m:\u001b[0m\u001b[1;33m\u001b[0m\u001b[1;33m\u001b[0m\u001b[0m\n\u001b[0;32m    123\u001b[0m             \u001b[1;32mtry\u001b[0m\u001b[1;33m:\u001b[0m\u001b[1;33m\u001b[0m\u001b[1;33m\u001b[0m\u001b[0m\n\u001b[1;32m--> 124\u001b[1;33m                 \u001b[0mnext\u001b[0m\u001b[1;33m(\u001b[0m\u001b[0mself\u001b[0m\u001b[1;33m.\u001b[0m\u001b[0mgen\u001b[0m\u001b[1;33m)\u001b[0m\u001b[1;33m\u001b[0m\u001b[1;33m\u001b[0m\u001b[0m\n\u001b[0m\u001b[0;32m    125\u001b[0m             \u001b[1;32mexcept\u001b[0m \u001b[0mStopIteration\u001b[0m\u001b[1;33m:\u001b[0m\u001b[1;33m\u001b[0m\u001b[1;33m\u001b[0m\u001b[0m\n\u001b[0;32m    126\u001b[0m                 \u001b[1;32mreturn\u001b[0m \u001b[1;32mFalse\u001b[0m\u001b[1;33m\u001b[0m\u001b[1;33m\u001b[0m\u001b[0m\n",
      "\u001b[1;32mc:\\users\\p70069673\\appdata\\local\\programs\\python\\python39\\lib\\site-packages\\traitlets\\traitlets.py\u001b[0m in \u001b[0;36mhold_trait_notifications\u001b[1;34m(self)\u001b[0m\n\u001b[0;32m   1203\u001b[0m                                 \u001b[0mself\u001b[0m\u001b[1;33m.\u001b[0m\u001b[0m_trait_values\u001b[0m\u001b[1;33m.\u001b[0m\u001b[0mpop\u001b[0m\u001b[1;33m(\u001b[0m\u001b[0mname\u001b[0m\u001b[1;33m)\u001b[0m\u001b[1;33m\u001b[0m\u001b[1;33m\u001b[0m\u001b[0m\n\u001b[0;32m   1204\u001b[0m                 \u001b[0mcache\u001b[0m \u001b[1;33m=\u001b[0m \u001b[1;33m{\u001b[0m\u001b[1;33m}\u001b[0m\u001b[1;33m\u001b[0m\u001b[1;33m\u001b[0m\u001b[0m\n\u001b[1;32m-> 1205\u001b[1;33m                 \u001b[1;32mraise\u001b[0m \u001b[0me\u001b[0m\u001b[1;33m\u001b[0m\u001b[1;33m\u001b[0m\u001b[0m\n\u001b[0m\u001b[0;32m   1206\u001b[0m             \u001b[1;32mfinally\u001b[0m\u001b[1;33m:\u001b[0m\u001b[1;33m\u001b[0m\u001b[1;33m\u001b[0m\u001b[0m\n\u001b[0;32m   1207\u001b[0m                 \u001b[0mself\u001b[0m\u001b[1;33m.\u001b[0m\u001b[0m_cross_validation_lock\u001b[0m \u001b[1;33m=\u001b[0m \u001b[1;32mFalse\u001b[0m\u001b[1;33m\u001b[0m\u001b[1;33m\u001b[0m\u001b[0m\n",
      "\u001b[1;32mc:\\users\\p70069673\\appdata\\local\\programs\\python\\python39\\lib\\site-packages\\traitlets\\traitlets.py\u001b[0m in \u001b[0;36mhold_trait_notifications\u001b[1;34m(self)\u001b[0m\n\u001b[0;32m   1189\u001b[0m                 \u001b[1;32mfor\u001b[0m \u001b[0mname\u001b[0m \u001b[1;32min\u001b[0m \u001b[0mlist\u001b[0m\u001b[1;33m(\u001b[0m\u001b[0mcache\u001b[0m\u001b[1;33m.\u001b[0m\u001b[0mkeys\u001b[0m\u001b[1;33m(\u001b[0m\u001b[1;33m)\u001b[0m\u001b[1;33m)\u001b[0m\u001b[1;33m:\u001b[0m\u001b[1;33m\u001b[0m\u001b[1;33m\u001b[0m\u001b[0m\n\u001b[0;32m   1190\u001b[0m                     \u001b[0mtrait\u001b[0m \u001b[1;33m=\u001b[0m \u001b[0mgetattr\u001b[0m\u001b[1;33m(\u001b[0m\u001b[0mself\u001b[0m\u001b[1;33m.\u001b[0m\u001b[0m__class__\u001b[0m\u001b[1;33m,\u001b[0m \u001b[0mname\u001b[0m\u001b[1;33m)\u001b[0m\u001b[1;33m\u001b[0m\u001b[1;33m\u001b[0m\u001b[0m\n\u001b[1;32m-> 1191\u001b[1;33m                     \u001b[0mvalue\u001b[0m \u001b[1;33m=\u001b[0m \u001b[0mtrait\u001b[0m\u001b[1;33m.\u001b[0m\u001b[0m_cross_validate\u001b[0m\u001b[1;33m(\u001b[0m\u001b[0mself\u001b[0m\u001b[1;33m,\u001b[0m \u001b[0mgetattr\u001b[0m\u001b[1;33m(\u001b[0m\u001b[0mself\u001b[0m\u001b[1;33m,\u001b[0m \u001b[0mname\u001b[0m\u001b[1;33m)\u001b[0m\u001b[1;33m)\u001b[0m\u001b[1;33m\u001b[0m\u001b[1;33m\u001b[0m\u001b[0m\n\u001b[0m\u001b[0;32m   1192\u001b[0m                     \u001b[0mself\u001b[0m\u001b[1;33m.\u001b[0m\u001b[0mset_trait\u001b[0m\u001b[1;33m(\u001b[0m\u001b[0mname\u001b[0m\u001b[1;33m,\u001b[0m \u001b[0mvalue\u001b[0m\u001b[1;33m)\u001b[0m\u001b[1;33m\u001b[0m\u001b[1;33m\u001b[0m\u001b[0m\n\u001b[0;32m   1193\u001b[0m             \u001b[1;32mexcept\u001b[0m \u001b[0mTraitError\u001b[0m \u001b[1;32mas\u001b[0m \u001b[0me\u001b[0m\u001b[1;33m:\u001b[0m\u001b[1;33m\u001b[0m\u001b[1;33m\u001b[0m\u001b[0m\n",
      "\u001b[1;32mc:\\users\\p70069673\\appdata\\local\\programs\\python\\python39\\lib\\site-packages\\traitlets\\traitlets.py\u001b[0m in \u001b[0;36m_cross_validate\u001b[1;34m(self, obj, value)\u001b[0m\n\u001b[0;32m    616\u001b[0m         \u001b[1;32mif\u001b[0m \u001b[0mself\u001b[0m\u001b[1;33m.\u001b[0m\u001b[0mname\u001b[0m \u001b[1;32min\u001b[0m \u001b[0mobj\u001b[0m\u001b[1;33m.\u001b[0m\u001b[0m_trait_validators\u001b[0m\u001b[1;33m:\u001b[0m\u001b[1;33m\u001b[0m\u001b[1;33m\u001b[0m\u001b[0m\n\u001b[0;32m    617\u001b[0m             \u001b[0mproposal\u001b[0m \u001b[1;33m=\u001b[0m \u001b[0mBunch\u001b[0m\u001b[1;33m(\u001b[0m\u001b[1;33m{\u001b[0m\u001b[1;34m'trait'\u001b[0m\u001b[1;33m:\u001b[0m \u001b[0mself\u001b[0m\u001b[1;33m,\u001b[0m \u001b[1;34m'value'\u001b[0m\u001b[1;33m:\u001b[0m \u001b[0mvalue\u001b[0m\u001b[1;33m,\u001b[0m \u001b[1;34m'owner'\u001b[0m\u001b[1;33m:\u001b[0m \u001b[0mobj\u001b[0m\u001b[1;33m}\u001b[0m\u001b[1;33m)\u001b[0m\u001b[1;33m\u001b[0m\u001b[1;33m\u001b[0m\u001b[0m\n\u001b[1;32m--> 618\u001b[1;33m             \u001b[0mvalue\u001b[0m \u001b[1;33m=\u001b[0m \u001b[0mobj\u001b[0m\u001b[1;33m.\u001b[0m\u001b[0m_trait_validators\u001b[0m\u001b[1;33m[\u001b[0m\u001b[0mself\u001b[0m\u001b[1;33m.\u001b[0m\u001b[0mname\u001b[0m\u001b[1;33m]\u001b[0m\u001b[1;33m(\u001b[0m\u001b[0mobj\u001b[0m\u001b[1;33m,\u001b[0m \u001b[0mproposal\u001b[0m\u001b[1;33m)\u001b[0m\u001b[1;33m\u001b[0m\u001b[1;33m\u001b[0m\u001b[0m\n\u001b[0m\u001b[0;32m    619\u001b[0m         \u001b[1;32melif\u001b[0m \u001b[0mhasattr\u001b[0m\u001b[1;33m(\u001b[0m\u001b[0mobj\u001b[0m\u001b[1;33m,\u001b[0m \u001b[1;34m'_%s_validate'\u001b[0m \u001b[1;33m%\u001b[0m \u001b[0mself\u001b[0m\u001b[1;33m.\u001b[0m\u001b[0mname\u001b[0m\u001b[1;33m)\u001b[0m\u001b[1;33m:\u001b[0m\u001b[1;33m\u001b[0m\u001b[1;33m\u001b[0m\u001b[0m\n\u001b[0;32m    620\u001b[0m             \u001b[0mmeth_name\u001b[0m \u001b[1;33m=\u001b[0m \u001b[1;34m'_%s_validate'\u001b[0m \u001b[1;33m%\u001b[0m \u001b[0mself\u001b[0m\u001b[1;33m.\u001b[0m\u001b[0mname\u001b[0m\u001b[1;33m\u001b[0m\u001b[1;33m\u001b[0m\u001b[0m\n",
      "\u001b[1;32mc:\\users\\p70069673\\appdata\\local\\programs\\python\\python39\\lib\\site-packages\\traitlets\\traitlets.py\u001b[0m in \u001b[0;36m__call__\u001b[1;34m(self, *args, **kwargs)\u001b[0m\n\u001b[0;32m    973\u001b[0m         \u001b[1;34m\"\"\"Pass `*args` and `**kwargs` to the handler's function if it exists.\"\"\"\u001b[0m\u001b[1;33m\u001b[0m\u001b[1;33m\u001b[0m\u001b[0m\n\u001b[0;32m    974\u001b[0m         \u001b[1;32mif\u001b[0m \u001b[0mhasattr\u001b[0m\u001b[1;33m(\u001b[0m\u001b[0mself\u001b[0m\u001b[1;33m,\u001b[0m \u001b[1;34m'func'\u001b[0m\u001b[1;33m)\u001b[0m\u001b[1;33m:\u001b[0m\u001b[1;33m\u001b[0m\u001b[1;33m\u001b[0m\u001b[0m\n\u001b[1;32m--> 975\u001b[1;33m             \u001b[1;32mreturn\u001b[0m \u001b[0mself\u001b[0m\u001b[1;33m.\u001b[0m\u001b[0mfunc\u001b[0m\u001b[1;33m(\u001b[0m\u001b[1;33m*\u001b[0m\u001b[0margs\u001b[0m\u001b[1;33m,\u001b[0m \u001b[1;33m**\u001b[0m\u001b[0mkwargs\u001b[0m\u001b[1;33m)\u001b[0m\u001b[1;33m\u001b[0m\u001b[1;33m\u001b[0m\u001b[0m\n\u001b[0m\u001b[0;32m    976\u001b[0m         \u001b[1;32melse\u001b[0m\u001b[1;33m:\u001b[0m\u001b[1;33m\u001b[0m\u001b[1;33m\u001b[0m\u001b[0m\n\u001b[0;32m    977\u001b[0m             \u001b[1;32mreturn\u001b[0m \u001b[0mself\u001b[0m\u001b[1;33m.\u001b[0m\u001b[0m_init_call\u001b[0m\u001b[1;33m(\u001b[0m\u001b[1;33m*\u001b[0m\u001b[0margs\u001b[0m\u001b[1;33m,\u001b[0m \u001b[1;33m**\u001b[0m\u001b[0mkwargs\u001b[0m\u001b[1;33m)\u001b[0m\u001b[1;33m\u001b[0m\u001b[1;33m\u001b[0m\u001b[0m\n",
      "\u001b[1;32mc:\\users\\p70069673\\appdata\\local\\programs\\python\\python39\\lib\\site-packages\\ipywidgets\\widgets\\widget_selection.py\u001b[0m in \u001b[0;36m_validate_value\u001b[1;34m(self, proposal)\u001b[0m\n\u001b[0;32m    241\u001b[0m             \u001b[1;32mreturn\u001b[0m \u001b[0mfindvalue\u001b[0m\u001b[1;33m(\u001b[0m\u001b[0mself\u001b[0m\u001b[1;33m.\u001b[0m\u001b[0m_options_values\u001b[0m\u001b[1;33m,\u001b[0m \u001b[0mvalue\u001b[0m\u001b[1;33m,\u001b[0m \u001b[0mself\u001b[0m\u001b[1;33m.\u001b[0m\u001b[0mequals\u001b[0m\u001b[1;33m)\u001b[0m \u001b[1;32mif\u001b[0m \u001b[0mvalue\u001b[0m \u001b[1;32mis\u001b[0m \u001b[1;32mnot\u001b[0m \u001b[1;32mNone\u001b[0m \u001b[1;32melse\u001b[0m \u001b[1;32mNone\u001b[0m\u001b[1;33m\u001b[0m\u001b[1;33m\u001b[0m\u001b[0m\n\u001b[0;32m    242\u001b[0m         \u001b[1;32mexcept\u001b[0m \u001b[0mValueError\u001b[0m\u001b[1;33m:\u001b[0m\u001b[1;33m\u001b[0m\u001b[1;33m\u001b[0m\u001b[0m\n\u001b[1;32m--> 243\u001b[1;33m             \u001b[1;32mraise\u001b[0m \u001b[0mTraitError\u001b[0m\u001b[1;33m(\u001b[0m\u001b[1;34m'Invalid selection: value not found'\u001b[0m\u001b[1;33m)\u001b[0m\u001b[1;33m\u001b[0m\u001b[1;33m\u001b[0m\u001b[0m\n\u001b[0m\u001b[0;32m    244\u001b[0m \u001b[1;33m\u001b[0m\u001b[0m\n\u001b[0;32m    245\u001b[0m     \u001b[1;33m@\u001b[0m\u001b[0mobserve\u001b[0m\u001b[1;33m(\u001b[0m\u001b[1;34m'value'\u001b[0m\u001b[1;33m)\u001b[0m\u001b[1;33m\u001b[0m\u001b[1;33m\u001b[0m\u001b[0m\n",
      "\u001b[1;31mTraitError\u001b[0m: Invalid selection: value not found"
     ]
    }
   ],
   "source": [
    "plot_num_data =df[numerical_features]\n",
    "\n",
    "# plot_num_data = train[train['State_Factor']=='State_1']\n",
    "\n",
    "# data_state_1 = train[train['State_Factor']=='State_2']\n",
    "# plot_num_data = data_state_1[data_state_1['building_class']=='Commercial']\n",
    "\n",
    "\n",
    "### Trend line plot ###\n",
    "def line_plot(var, plot_num_data):\n",
    "    plt.figure(figsize = (20,4))\n",
    "    plot_num_data[var].plot(figsize=(20,4));\n",
    "\n",
    "def inter_cat_plot(x):\n",
    "    return line_plot(x, plot_num_data)\n",
    "\n",
    "### Multiple selection widgets ###\n",
    "widget_cat_plot=widgets.Dropdown(\n",
    "    options=plot_num_data.select_dtypes('number').columns,\n",
    "    value=\"january_avg_temp\",\n",
    "    description=\"Numerical Variable:\", \n",
    "    style = style\n",
    ")\n",
    "interact(inter_cat_plot, x=widget_cat_plot);"
   ]
  },
  {
   "cell_type": "markdown",
   "metadata": {},
   "source": [
    "### Distribution plot of numerical variables"
   ]
  },
  {
   "cell_type": "code",
   "execution_count": null,
   "metadata": {
    "execution": {
     "iopub.execute_input": "2022-02-05T10:33:22.723782Z",
     "iopub.status.busy": "2022-02-05T10:33:22.72295Z",
     "iopub.status.idle": "2022-02-05T10:33:23.421337Z",
     "shell.execute_reply": "2022-02-05T10:33:23.42025Z",
     "shell.execute_reply.started": "2022-02-05T10:33:22.723738Z"
    }
   },
   "outputs": [],
   "source": [
    "### Distribution plot ###\n",
    "def dist_plot(feature_list, train, test):\n",
    "    for each_feature in feature_list:\n",
    "        plt.figure(figsize = (20, 4))\n",
    "\n",
    "        sns.kdeplot(train[each_feature].to_numpy(), color = '#5499C7') # blue\n",
    "        sns.kdeplot(test[each_feature].to_numpy(), color = '#D35400') # red\n",
    "\n",
    "        plt.title(each_feature, fontsize=15)\n",
    "        plt.show()\n",
    "    \n",
    "#     del values_train , values_test\n",
    "    \n",
    "def inter_dist_plot(x):\n",
    "    return dist_plot(x, train, test)\n",
    "\n",
    "### Multiple selection widgets ###\n",
    "widget_dist_plot=widgets.SelectMultiple(\n",
    "    options=train.select_dtypes('number').columns,\n",
    "    value=[\"floor_area\"],\n",
    "    layout=Layout(width='50%', height='200px'),\n",
    "    description=\"Numerical Variable:\", \n",
    "    style = style\n",
    ")\n",
    "interact(inter_dist_plot, x=widget_dist_plot);"
   ]
  },
  {
   "cell_type": "markdown",
   "metadata": {},
   "source": [
    "### Correlation matrix\n",
    "Correlation map to see how features are correlated with each other and with target"
   ]
  },
  {
   "cell_type": "code",
   "execution_count": null,
   "metadata": {
    "execution": {
     "iopub.execute_input": "2022-02-05T10:33:33.103039Z",
     "iopub.status.busy": "2022-02-05T10:33:33.101681Z",
     "iopub.status.idle": "2022-02-05T10:33:33.6525Z",
     "shell.execute_reply": "2022-02-05T10:33:33.651583Z",
     "shell.execute_reply.started": "2022-02-05T10:33:33.102992Z"
    }
   },
   "outputs": [],
   "source": [
    "month_avg_temp = ['january_avg_temp','february_avg_temp','march_avg_temp','april_avg_temp',\n",
    "'may_avg_temp', 'june_avg_temp', 'july_avg_temp', 'august_avg_temp',\n",
    "'september_avg_temp', 'october_avg_temp', 'november_avg_temp','december_avg_temp']\n",
    "\n",
    "# Calculate correlation matrix \n",
    "# Check parameters: https://pandas.pydata.org/docs/reference/api/pandas.DataFrame.corr.html \n",
    "corr = train[month_avg_temp].corr() # method='pearson', 'kendall' , 'spearman'\n",
    "\n",
    "# Generate a mask for the upper triangle\n",
    "mask = np.triu(np.ones_like(corr, dtype=bool))\n",
    "\n",
    "# Set up the matplotlib figure\n",
    "f, ax = plt.subplots(figsize=(9,6))\n",
    "\n",
    "# Generate a custom diverging colormap\n",
    "cmap = sns.diverging_palette(230, 20, as_cmap=True)\n",
    "\n",
    "# Draw the heatmap with the mask and correct aspect ratio\n",
    "sns.heatmap(corr, mask=mask, cmap=cmap, vmin=-0.8,vmax=0.8, square=True, linewidths=.5)"
   ]
  },
  {
   "cell_type": "markdown",
   "metadata": {},
   "source": [
    "**TO DO:** Try to plot correlation matrix for all features or other features that you think are interesting to see the \n",
    "correlations"
   ]
  },
  {
   "cell_type": "code",
   "execution_count": null,
   "metadata": {
    "execution": {
     "iopub.execute_input": "2022-02-03T14:45:21.096479Z",
     "iopub.status.busy": "2022-02-03T14:45:21.096249Z",
     "iopub.status.idle": "2022-02-03T14:45:21.101096Z",
     "shell.execute_reply": "2022-02-03T14:45:21.100162Z",
     "shell.execute_reply.started": "2022-02-03T14:45:21.096452Z"
    }
   },
   "outputs": [],
   "source": [
    "# ### Note: Not all the labels are printed. \n",
    "# corr = train[numerical_features].corr() # TRY DIFFERENT METHOD: method='pearson', 'kendall' , 'spearman'\n",
    "\n",
    "# ### Generate a mask for the upper triangle\n",
    "# mask = np.triu(np.ones_like(corr, dtype=bool))\n",
    "\n",
    "# ### Set up the matplotlib figure\n",
    "# f, ax = plt.subplots(figsize=(9,6)) # TRY TO CHANGE THE SIZE\n",
    "\n",
    "# ### Generate a custom diverging colormap\n",
    "# cmap = sns.diverging_palette(230, 20, as_cmap=True)\n",
    "\n",
    "# ### Draw the heatmap with the mask and correct aspect ratio\n",
    "# sns.heatmap(corr, mask=mask, cmap=cmap, vmin=-0.8,vmax=0.8, square=True, linewidths=.5) # TRY TO CHANGE vmin, vmax"
   ]
  },
  {
   "cell_type": "markdown",
   "metadata": {},
   "source": [
    "## Check missing values in the dataset"
   ]
  },
  {
   "cell_type": "code",
   "execution_count": null,
   "metadata": {
    "execution": {
     "iopub.execute_input": "2022-02-03T14:45:21.102824Z",
     "iopub.status.busy": "2022-02-03T14:45:21.102583Z",
     "iopub.status.idle": "2022-02-03T14:45:21.118541Z",
     "shell.execute_reply": "2022-02-03T14:45:21.117658Z",
     "shell.execute_reply.started": "2022-02-03T14:45:21.102793Z"
    }
   },
   "outputs": [],
   "source": [
    "# plt.figure(figsize = (25,11))\n",
    "# sns.heatmap(train.isna().values, xticklabels=train.columns)\n",
    "# plt.title(\"Missing values in training Data\", size=20)"
   ]
  },
  {
   "cell_type": "code",
   "execution_count": null,
   "metadata": {
    "execution": {
     "iopub.execute_input": "2022-02-05T10:33:42.493383Z",
     "iopub.status.busy": "2022-02-05T10:33:42.492569Z",
     "iopub.status.idle": "2022-02-05T10:33:42.501974Z",
     "shell.execute_reply": "2022-02-05T10:33:42.500964Z",
     "shell.execute_reply.started": "2022-02-05T10:33:42.493333Z"
    }
   },
   "outputs": [],
   "source": [
    "### check if there is any missing value in the dataset ###\n",
    "def check_missing(df, col):\n",
    "    missing  = 0\n",
    "    misVariables = []\n",
    "    CheckNull = df.isnull().sum()\n",
    "    for var in range(0, len(CheckNull)):\n",
    "        misVariables.append([col[var], CheckNull[var], round(CheckNull[var]/len(df),3)])\n",
    "        missing = missing + 1\n",
    "\n",
    "    if missing == 0:\n",
    "        print('Dataset is complete with no blanks.')\n",
    "    else:\n",
    "        df_misVariables = pd.DataFrame.from_records(misVariables)\n",
    "        df_misVariables.columns = ['Variable', 'Missing', 'Percentage']\n",
    "        s = df_misVariables.sort_values(by=['Percentage'], ascending=False)\n",
    "        display(s)\n",
    "    return df_misVariables"
   ]
  },
  {
   "cell_type": "code",
   "execution_count": null,
   "metadata": {
    "execution": {
     "iopub.execute_input": "2022-02-05T10:33:49.070823Z",
     "iopub.status.busy": "2022-02-05T10:33:49.07048Z",
     "iopub.status.idle": "2022-02-05T10:33:49.130524Z",
     "shell.execute_reply": "2022-02-05T10:33:49.129278Z",
     "shell.execute_reply.started": "2022-02-05T10:33:49.070786Z"
    }
   },
   "outputs": [],
   "source": [
    "ranked_df_missing_value = check_missing(train, train.columns) "
   ]
  },
  {
   "cell_type": "markdown",
   "metadata": {},
   "source": [
    "> **Question**: Will the test data has the same missing value situation? "
   ]
  },
  {
   "cell_type": "code",
   "execution_count": null,
   "metadata": {
    "execution": {
     "iopub.execute_input": "2022-02-03T14:45:21.197795Z",
     "iopub.status.busy": "2022-02-03T14:45:21.197537Z",
     "iopub.status.idle": "2022-02-03T14:45:21.201883Z",
     "shell.execute_reply": "2022-02-03T14:45:21.201027Z",
     "shell.execute_reply.started": "2022-02-03T14:45:21.197764Z"
    }
   },
   "outputs": [],
   "source": [
    "# ranked_df_missing_value = check_missing(test, test.columns)"
   ]
  },
  {
   "cell_type": "markdown",
   "metadata": {},
   "source": [
    "## Handling missing values [Challenge1 Dive into details on Day 2] ##\n",
    "- Why missing values affect our results?\n",
    "- How to handle missing values?\n",
    "- How to handle missing values in training and test datasets? in the same or different way?"
   ]
  },
  {
   "cell_type": "code",
   "execution_count": null,
   "metadata": {
    "execution": {
     "iopub.execute_input": "2022-02-05T10:34:36.112133Z",
     "iopub.status.busy": "2022-02-05T10:34:36.111805Z",
     "iopub.status.idle": "2022-02-05T10:34:36.239462Z",
     "shell.execute_reply": "2022-02-05T10:34:36.238355Z",
     "shell.execute_reply.started": "2022-02-05T10:34:36.1121Z"
    }
   },
   "outputs": [],
   "source": [
    "### Take all variables which has less than 5% missing values ###\n",
    "included_col = list(ranked_df_missing_value[ranked_df_missing_value['Percentage']<0.05]['Variable'])\n",
    "\n",
    "train_partial = train[included_col]\n",
    "\n",
    "included_col.remove('site_eui')\n",
    "test_partial = test[included_col]\n",
    "\n",
    "### Remove the rows with missing values ###\n",
    "### Please note how many rows you have excluded ###\n",
    "train_partial = train_partial.dropna().reset_index(drop=True)\n",
    "\n",
    "print(\"Original training dataset (rows):\", len(train))\n",
    "print(\"After removing missing (rows):\", len(train_partial))"
   ]
  },
  {
   "cell_type": "markdown",
   "metadata": {},
   "source": [
    "# Remove target feature + id feature"
   ]
  },
  {
   "cell_type": "markdown",
   "metadata": {},
   "source": [
    "> **Question:** from which step should we exclude the target features? "
   ]
  },
  {
   "cell_type": "code",
   "execution_count": null,
   "metadata": {
    "execution": {
     "iopub.execute_input": "2022-02-05T10:34:44.644404Z",
     "iopub.status.busy": "2022-02-05T10:34:44.644066Z",
     "iopub.status.idle": "2022-02-05T10:34:44.670931Z",
     "shell.execute_reply": "2022-02-05T10:34:44.669529Z",
     "shell.execute_reply.started": "2022-02-05T10:34:44.644371Z"
    }
   },
   "outputs": [],
   "source": [
    "target = train_partial[\"site_eui\"]\n",
    "train_partial = train_partial.drop([\"site_eui\",\"id\"],axis =1)\n",
    "test_partial = test_partial.drop([\"id\"],axis =1)"
   ]
  },
  {
   "cell_type": "markdown",
   "metadata": {},
   "source": [
    "## Encoding [Challenge2 Dive into details on Day 2]##\n",
    "Why we need to encode features? There are many ways to encode the features... Figure out the differences between them, and how to choose the optimal one for this dataset, and why!"
   ]
  },
  {
   "cell_type": "code",
   "execution_count": null,
   "metadata": {
    "execution": {
     "iopub.execute_input": "2022-02-03T14:45:21.324677Z",
     "iopub.status.busy": "2022-02-03T14:45:21.32446Z",
     "iopub.status.idle": "2022-02-03T14:45:21.427378Z",
     "shell.execute_reply": "2022-02-03T14:45:21.426461Z",
     "shell.execute_reply.started": "2022-02-03T14:45:21.324651Z"
    }
   },
   "outputs": [],
   "source": [
    "#encoding\n",
    "\n",
    "label_encoder = LabelEncoder()\n",
    "for col in categorical_features:\n",
    "    train_partial[col] = label_encoder.fit_transform(train_partial[col])\n",
    "    test_partial[col] = label_encoder.fit_transform(test_partial[col])"
   ]
  },
  {
   "cell_type": "markdown",
   "metadata": {},
   "source": [
    "## Feature Scaling: standardization, normalization [Challenge1 Dive into details on Day 2] ##\n",
    "- Why we need to normalize variables\n",
    "- What methods can we use: \n",
    "    - https://scikit-learn.org/stable/modules/preprocessing.html#normalization\n",
    "    - https://scikit-learn.org/stable/auto_examples/preprocessing/plot_all_scaling.html\n",
    "    - https://scikit-learn.org/stable/modules/generated/sklearn.preprocessing.StandardScaler.html\n",
    "    - https://scikit-learn.org/stable/modules/generated/sklearn.preprocessing.MinMaxScaler.html\n",
    "    - https://scikit-learn.org/stable/modules/generated/sklearn.preprocessing.RobustScaler.html\n",
    "- What are the differences using different normalization method"
   ]
  },
  {
   "cell_type": "code",
   "execution_count": null,
   "metadata": {
    "execution": {
     "iopub.execute_input": "2022-02-03T14:45:21.428848Z",
     "iopub.status.busy": "2022-02-03T14:45:21.428579Z",
     "iopub.status.idle": "2022-02-03T14:45:21.548633Z",
     "shell.execute_reply": "2022-02-03T14:45:21.547722Z",
     "shell.execute_reply.started": "2022-02-03T14:45:21.428816Z"
    }
   },
   "outputs": [],
   "source": [
    "#scaling\n",
    "\n",
    "scaler = StandardScaler()\n",
    "train_partial = scaler.fit_transform(train_partial)\n",
    "test_partial = scaler.transform(test_partial)"
   ]
  },
  {
   "cell_type": "markdown",
   "metadata": {},
   "source": [
    "## Anomaly Detection [Challenge Dive into details on Day 2] ##\n",
    "- **Outlier detection**: The **training data contains outliers** which are defined as observations that are far from the others. Outlier detection estimators thus try to fit the regions where the training data is the most concentrated, ignoring the deviant observations.\n",
    "- **Novelty detection**: The training data is not polluted by outliers and we are interested in detecting whether a **new** observation is an outlier. In this context an outlier is also called a novelty.\n",
    "\n",
    "Source:https://scikit-learn.org/stable/modules/outlier_detection.html"
   ]
  },
  {
   "cell_type": "code",
   "execution_count": null,
   "metadata": {
    "execution": {
     "iopub.execute_input": "2022-02-03T14:45:21.550085Z",
     "iopub.status.busy": "2022-02-03T14:45:21.549848Z",
     "iopub.status.idle": "2022-02-03T14:45:21.554682Z",
     "shell.execute_reply": "2022-02-03T14:45:21.553907Z",
     "shell.execute_reply.started": "2022-02-03T14:45:21.550056Z"
    }
   },
   "outputs": [],
   "source": [
    "# #### If you want to inspect outliers or use some type of flag features if the sample is an outlier\n",
    "# from sklearn.neighbors import LocalOutlierFactor\n",
    "# from sklearn.ensemble import IsolationForest\n",
    "# #iso = LocalOutlierFactor(n_neighbors=35, contamination=0.01)\n",
    "# iso = IsolationForest(contamination=0.01)\n",
    "\n",
    "# outliers = iso.fit_predict(train)\n",
    "# ### select all rows that are not outliers\n",
    "\n",
    "# ### train = train[outliers!=-1]\n",
    "# ### target = target[outliers!=-1]"
   ]
  },
  {
   "cell_type": "markdown",
   "metadata": {},
   "source": [
    "# Model training and testing [Optimization will be presented in DAY 2]"
   ]
  },
  {
   "cell_type": "code",
   "execution_count": null,
   "metadata": {
    "execution": {
     "iopub.execute_input": "2022-02-03T14:45:21.557253Z",
     "iopub.status.busy": "2022-02-03T14:45:21.556586Z",
     "iopub.status.idle": "2022-02-03T14:45:21.640748Z",
     "shell.execute_reply": "2022-02-03T14:45:21.639603Z",
     "shell.execute_reply.started": "2022-02-03T14:45:21.557209Z"
    }
   },
   "outputs": [],
   "source": [
    "from sklearn.model_selection import train_test_split\n",
    "X_train, X_test, y_train, y_test = train_test_split(train_partial, target, test_size = 0.2, random_state = 2022)"
   ]
  },
  {
   "cell_type": "code",
   "execution_count": null,
   "metadata": {
    "execution": {
     "iopub.execute_input": "2022-02-03T14:45:21.642684Z",
     "iopub.status.busy": "2022-02-03T14:45:21.642338Z",
     "iopub.status.idle": "2022-02-03T14:45:29.351511Z",
     "shell.execute_reply": "2022-02-03T14:45:29.350732Z",
     "shell.execute_reply.started": "2022-02-03T14:45:21.642605Z"
    }
   },
   "outputs": [],
   "source": [
    "import xgboost\n",
    "xgboost_model = xgboost.XGBRegressor(n_estimators=200, learning_rate=0.02, gamma=0, subsample=0.75,\n",
    "                           colsample_bytree=0.4, max_depth=5)\n",
    "\n",
    "xgboost_model.fit(X_train,y_train)\n",
    "y_pred = xgboost_model.predict(X_test)\n",
    "# regression evalution metrics\n",
    "RMSE = math.sqrt(np.square(np.subtract(y_pred,y_test)).mean())"
   ]
  },
  {
   "cell_type": "code",
   "execution_count": null,
   "metadata": {
    "execution": {
     "iopub.execute_input": "2022-02-03T14:45:29.353353Z",
     "iopub.status.busy": "2022-02-03T14:45:29.352857Z",
     "iopub.status.idle": "2022-02-03T14:45:29.359345Z",
     "shell.execute_reply": "2022-02-03T14:45:29.358531Z",
     "shell.execute_reply.started": "2022-02-03T14:45:29.353301Z"
    }
   },
   "outputs": [],
   "source": [
    "RMSE"
   ]
  },
  {
   "cell_type": "markdown",
   "metadata": {},
   "source": [
    "## What does the previous number mean?\n",
    "In this case, we're dealing with a regression problem. Meaning we're trying to predict a number given the features.\n",
    "\n",
    "When trying to evaluate how close all of our predictions were to reality. There are a couple of ways of doing this, one of the most common is through the Root-mean-square error, the method that we're using. What matters in general is that a lower number is better, as that means there were less errors.\n",
    "\n",
    "The following wikipedia article contains more details about how it works:\n",
    "\n",
    "https://en.wikipedia.org/wiki/Root-mean-square_deviation"
   ]
  },
  {
   "cell_type": "code",
   "execution_count": null,
   "metadata": {
    "execution": {
     "iopub.execute_input": "2022-02-03T14:45:29.361648Z",
     "iopub.status.busy": "2022-02-03T14:45:29.361033Z",
     "iopub.status.idle": "2022-02-03T14:45:29.450605Z",
     "shell.execute_reply": "2022-02-03T14:45:29.449828Z",
     "shell.execute_reply.started": "2022-02-03T14:45:29.361603Z"
    }
   },
   "outputs": [],
   "source": [
    "# model evaluation\n",
    "res = xgboost_model.predict(test_partial)\n",
    "sub = pd.read_csv(\"/kaggle/input/widsdatathon2022/sample_solution.csv\")\n",
    "sub[\"site_eui\"] = res\n",
    "sub.to_csv(\"submission.csv\", index = False)"
   ]
  },
  {
   "cell_type": "code",
   "execution_count": null,
   "metadata": {
    "execution": {
     "iopub.execute_input": "2022-02-03T14:45:29.452018Z",
     "iopub.status.busy": "2022-02-03T14:45:29.4518Z",
     "iopub.status.idle": "2022-02-03T14:45:29.46473Z",
     "shell.execute_reply": "2022-02-03T14:45:29.463754Z",
     "shell.execute_reply.started": "2022-02-03T14:45:29.451984Z"
    }
   },
   "outputs": [],
   "source": [
    "sub"
   ]
  },
  {
   "cell_type": "code",
   "execution_count": null,
   "metadata": {},
   "outputs": [],
   "source": []
  }
 ],
 "metadata": {
  "kernelspec": {
   "display_name": "Python 3",
   "language": "python",
   "name": "python3"
  },
  "language_info": {
   "codemirror_mode": {
    "name": "ipython",
    "version": 3
   },
   "file_extension": ".py",
   "mimetype": "text/x-python",
   "name": "python",
   "nbconvert_exporter": "python",
   "pygments_lexer": "ipython3",
   "version": "3.9.1"
  }
 },
 "nbformat": 4,
 "nbformat_minor": 4
}
