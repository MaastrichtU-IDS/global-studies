{
  "nbformat": 4,
  "nbformat_minor": 0,
  "metadata": {
    "colab": {
      "name": "Methods Homework 2: Identifying the Unit of Analysis.ipynb",
      "provenance": []
    },
    "kernelspec": {
      "name": "python3",
      "display_name": "Python 3"
    }
  },
  "cells": [
    {
      "cell_type": "markdown",
      "metadata": {
        "id": "-Jzkll19hXP3"
      },
      "source": [
        "# Methods Homework 2: Identifying Unit of Analysis - Introduction to Global Studies - GLO1101 - November 11th, 2020\n",
        "\n",
        "**Date:** Nov 2020\n",
        "\n",
        "**Author:** Carlos Utrilla Guerrero\n",
        "\n",
        "**License:** [Attribution 4.0 International (CC BY 4.0)](https://creativecommons.org/licenses/by/4.0/)  \n",
        "\n",
        "\n",
        "⚠️ The methods track assessment for phases 2 and 3 will be in the form of five homework assignments — this is the first assignment. To pass, you must pass four of the five homework assignments.\n",
        "\n"
      ]
    },
    {
      "cell_type": "markdown",
      "metadata": {
        "id": "EGCdCkyyhh4M"
      },
      "source": [
        "---\n",
        "## Instructions\n",
        "1. This homework builds upon **Methods Lecture 9** on the importance of unit of analysis and observation in the research design.\n",
        "2. A single file with your completed answers should be submitted in a google colab file (.ipynb).\n",
        "3. The filename should be: “your-name_your-student-ID_BAGS_homework2.ipynb\".\n",
        "4. The homework is due by **November 19th, 2020, 18:00** via the Canvas page for the homework.\n",
        "5. Use the [Document template](https://colab.research.google.com/drive/1BwHbf9P_9TgPHQeiyXEZM5KVmwNDtbp1?usp=sharing) (don't forget to copy-paste this document and save it on your pc!).\n",
        "6. In the [Document template](https://colab.research.google.com/drive/1BwHbf9P_9TgPHQeiyXEZM5KVmwNDtbp1?usp=sharing), add a new cell text to answer the questions.\n"
      ]
    },
    {
      "cell_type": "markdown",
      "metadata": {
        "id": "_qhJofHLRVqN"
      },
      "source": [
        "## Learning Objectives\n",
        "\n",
        "You will know how to:\n",
        "\n",
        "1. Identify the unit of analysis.\n",
        "\n",
        "2. Distinguish between unit of analysis and observation.\n",
        "\n",
        "3. Describe most common methodological errors.\n",
        "\n",
        "4. Draw the most important information from the related research paper.\n"
      ]
    },
    {
      "cell_type": "markdown",
      "metadata": {
        "id": "r9wdc_UyhyQr"
      },
      "source": [
        "---\n",
        "## Task 1: Identifying unit of analysis\n"
      ]
    },
    {
      "cell_type": "markdown",
      "metadata": {
        "id": "o5TKVtFAh3Pk"
      },
      "source": [
        "📚 QUESTION **A**\n",
        "#### **A.** Choose one abstract [1] from the selected research articles (see Annex: Selected research articles). Find the actual “unit of analysis” that was being studied, the “unit of observation” and other relevant information. Please fill in the table with the following information:"
      ]
    },
    {
      "cell_type": "markdown",
      "metadata": {
        "id": "FggBRyhuh6hq"
      },
      "source": [
        "| Information            | Your answers |\n",
        "| ---------------------- | ------------ |\n",
        "| Abstract title:        | \\--          |\n",
        "| Research objective(s): | \\--          |\n",
        "| Data Collection:       | \\--          |\n",
        "| Unit of Analysis:      | \\--          |\n",
        "| Unit of Observation:   | \\--          |\n",
        "| Research findings:     | \\--          |"
      ]
    },
    {
      "cell_type": "markdown",
      "metadata": {
        "id": "wdVH7wk3ivp3"
      },
      "source": [
        "📚 QUESTION **B**\n",
        "### **B.** Do you agree with this statement?\n",
        "\n",
        "> _‘The unit of analysis should not be confused with the unit of observation’ ([Dolma, 2010](https://dergipark.org.tr/en/pub/iuisletme/issue/9249/115720))._ "
      ]
    },
    {
      "cell_type": "markdown",
      "metadata": {
        "id": "kFsumbZm5us6"
      },
      "source": [
        "Explain why would you agree or disagree, please write down an example (200 words)"
      ]
    },
    {
      "cell_type": "markdown",
      "metadata": {
        "id": "ObCQY6YbjBFA"
      },
      "source": [
        "## Task 2: Globalization and its impacts on indigenous communities: A Study\n"
      ]
    },
    {
      "cell_type": "markdown",
      "metadata": {
        "id": "vedfPjhVjMGi"
      },
      "source": [
        "---\n",
        "**Scenario**\n",
        "\n",
        "A researcher (named [Alf](https://en.wikipedia.org/wiki/ALF_(TV_series) \\) investigates the impact of new technologies on the Peruvian indigenous labour market and social economy, particularly in the household work sector. She used census data to compute the unemployment rate and the proportion of the population with amazon origins in five different areas (see **Table 1**). She found that these two figures were positively associated (see **figure 1**): the greater the proportion of amazon indigenous people in a district, the higher its average unemployment. "
      ]
    },
    {
      "cell_type": "markdown",
      "metadata": {
        "id": "jnsru6T_kS3v"
      },
      "source": [
        "_**Table 1**. Household work sector Indigenous data_:\n",
        "\n",
        "| District (Area codes) | Indigenous Amazon (%) | Indigenous Andean (%) | Unemployment (%) |\n",
        "| --------------------- | --------------------- | --------------------- | ---------------- |\n",
        "| A-1                   | 75                    | 25                    | 17               |\n",
        "| B-3                   | 25                    | 75                    | 2                |\n",
        "| B-2                   | 60                    | 40                    | 10               |\n",
        "| B-4                   | 5                     | 95                    | 2                |\n",
        "| F-6                   | 85                    | 15                    | 20\n",
        "\n",
        "_Source_: National Institute Percentage (%) unemployed, Andean versus non Amazon aggregated to five areas"
      ]
    },
    {
      "cell_type": "code",
      "metadata": {
        "id": "kPWu0mnYqx3W",
        "cellView": "form",
        "colab": {
          "base_uri": "https://localhost:8080/",
          "height": 542
        },
        "outputId": "c0149c09-cdf1-4b8e-8ea8-53c6e6b6a6e8"
      },
      "source": [
        "#@title Run code for Figure 1\n",
        "import plotly.express as px\n",
        "import pandas as pd\n",
        "df = pd.DataFrame({'% Amazon Origin': {0: 75, 1:25, 2:5, 3:60, 4:85}, \n",
        "                   'District': {0: 'A', 1: 'B', 2: 'C', 3: 'D', 4: 'E'}, \n",
        "                   '% Unemployment': {0: 17, 1:2, 2:2, 3:10, 4:20}})\n",
        "\n",
        "fig = px.scatter(df,x = \"% Amazon Origin\", y=\"% Unemployment\",\n",
        "                 title= 'Figure 1. Census Data - Amazon Natives vs Unemployment rate (aggregated 5 district)' )\n",
        "fig.show()"
      ],
      "execution_count": null,
      "outputs": [
        {
          "output_type": "display_data",
          "data": {
            "text/html": [
              "<html>\n",
              "<head><meta charset=\"utf-8\" /></head>\n",
              "<body>\n",
              "    <div>\n",
              "            <script src=\"https://cdnjs.cloudflare.com/ajax/libs/mathjax/2.7.5/MathJax.js?config=TeX-AMS-MML_SVG\"></script><script type=\"text/javascript\">if (window.MathJax) {MathJax.Hub.Config({SVG: {font: \"STIX-Web\"}});}</script>\n",
              "                <script type=\"text/javascript\">window.PlotlyConfig = {MathJaxConfig: 'local'};</script>\n",
              "        <script src=\"https://cdn.plot.ly/plotly-latest.min.js\"></script>    \n",
              "            <div id=\"8e4e3c3a-d82f-4591-a196-de2b02f53f12\" class=\"plotly-graph-div\" style=\"height:525px; width:100%;\"></div>\n",
              "            <script type=\"text/javascript\">\n",
              "                \n",
              "                    window.PLOTLYENV=window.PLOTLYENV || {};\n",
              "                    \n",
              "                if (document.getElementById(\"8e4e3c3a-d82f-4591-a196-de2b02f53f12\")) {\n",
              "                    Plotly.newPlot(\n",
              "                        '8e4e3c3a-d82f-4591-a196-de2b02f53f12',\n",
              "                        [{\"hoverlabel\": {\"namelength\": 0}, \"hovertemplate\": \"% Amazon Origin=%{x}<br>% Unemployment=%{y}\", \"legendgroup\": \"\", \"marker\": {\"color\": \"#636efa\", \"symbol\": \"circle\"}, \"mode\": \"markers\", \"name\": \"\", \"showlegend\": false, \"type\": \"scatter\", \"x\": [75, 25, 5, 60, 85], \"xaxis\": \"x\", \"y\": [17, 2, 2, 10, 20], \"yaxis\": \"y\"}],\n",
              "                        {\"legend\": {\"tracegroupgap\": 0}, \"template\": {\"data\": {\"bar\": [{\"error_x\": {\"color\": \"#2a3f5f\"}, \"error_y\": {\"color\": \"#2a3f5f\"}, \"marker\": {\"line\": {\"color\": \"#E5ECF6\", \"width\": 0.5}}, \"type\": \"bar\"}], \"barpolar\": [{\"marker\": {\"line\": {\"color\": \"#E5ECF6\", \"width\": 0.5}}, \"type\": \"barpolar\"}], \"carpet\": [{\"aaxis\": {\"endlinecolor\": \"#2a3f5f\", \"gridcolor\": \"white\", \"linecolor\": \"white\", \"minorgridcolor\": \"white\", \"startlinecolor\": \"#2a3f5f\"}, \"baxis\": {\"endlinecolor\": \"#2a3f5f\", \"gridcolor\": \"white\", \"linecolor\": \"white\", \"minorgridcolor\": \"white\", \"startlinecolor\": \"#2a3f5f\"}, \"type\": \"carpet\"}], \"choropleth\": [{\"colorbar\": {\"outlinewidth\": 0, \"ticks\": \"\"}, \"type\": \"choropleth\"}], \"contour\": [{\"colorbar\": {\"outlinewidth\": 0, \"ticks\": \"\"}, \"colorscale\": [[0.0, \"#0d0887\"], [0.1111111111111111, \"#46039f\"], [0.2222222222222222, \"#7201a8\"], [0.3333333333333333, \"#9c179e\"], [0.4444444444444444, \"#bd3786\"], [0.5555555555555556, \"#d8576b\"], [0.6666666666666666, \"#ed7953\"], [0.7777777777777778, \"#fb9f3a\"], [0.8888888888888888, \"#fdca26\"], [1.0, \"#f0f921\"]], \"type\": \"contour\"}], \"contourcarpet\": [{\"colorbar\": {\"outlinewidth\": 0, \"ticks\": \"\"}, \"type\": \"contourcarpet\"}], \"heatmap\": [{\"colorbar\": {\"outlinewidth\": 0, \"ticks\": \"\"}, \"colorscale\": [[0.0, \"#0d0887\"], [0.1111111111111111, \"#46039f\"], [0.2222222222222222, \"#7201a8\"], [0.3333333333333333, \"#9c179e\"], [0.4444444444444444, \"#bd3786\"], [0.5555555555555556, \"#d8576b\"], [0.6666666666666666, \"#ed7953\"], [0.7777777777777778, \"#fb9f3a\"], [0.8888888888888888, \"#fdca26\"], [1.0, \"#f0f921\"]], \"type\": \"heatmap\"}], \"heatmapgl\": [{\"colorbar\": {\"outlinewidth\": 0, \"ticks\": \"\"}, \"colorscale\": [[0.0, \"#0d0887\"], [0.1111111111111111, \"#46039f\"], [0.2222222222222222, \"#7201a8\"], [0.3333333333333333, \"#9c179e\"], [0.4444444444444444, \"#bd3786\"], [0.5555555555555556, \"#d8576b\"], [0.6666666666666666, \"#ed7953\"], [0.7777777777777778, \"#fb9f3a\"], [0.8888888888888888, \"#fdca26\"], [1.0, \"#f0f921\"]], \"type\": \"heatmapgl\"}], \"histogram\": [{\"marker\": {\"colorbar\": {\"outlinewidth\": 0, \"ticks\": \"\"}}, \"type\": \"histogram\"}], \"histogram2d\": [{\"colorbar\": {\"outlinewidth\": 0, \"ticks\": \"\"}, \"colorscale\": [[0.0, \"#0d0887\"], [0.1111111111111111, \"#46039f\"], [0.2222222222222222, \"#7201a8\"], [0.3333333333333333, \"#9c179e\"], [0.4444444444444444, \"#bd3786\"], [0.5555555555555556, \"#d8576b\"], [0.6666666666666666, \"#ed7953\"], [0.7777777777777778, \"#fb9f3a\"], [0.8888888888888888, \"#fdca26\"], [1.0, \"#f0f921\"]], \"type\": \"histogram2d\"}], \"histogram2dcontour\": [{\"colorbar\": {\"outlinewidth\": 0, \"ticks\": \"\"}, \"colorscale\": [[0.0, \"#0d0887\"], [0.1111111111111111, \"#46039f\"], [0.2222222222222222, \"#7201a8\"], [0.3333333333333333, \"#9c179e\"], [0.4444444444444444, \"#bd3786\"], [0.5555555555555556, \"#d8576b\"], [0.6666666666666666, \"#ed7953\"], [0.7777777777777778, \"#fb9f3a\"], [0.8888888888888888, \"#fdca26\"], [1.0, \"#f0f921\"]], \"type\": \"histogram2dcontour\"}], \"mesh3d\": [{\"colorbar\": {\"outlinewidth\": 0, \"ticks\": \"\"}, \"type\": \"mesh3d\"}], \"parcoords\": [{\"line\": {\"colorbar\": {\"outlinewidth\": 0, \"ticks\": \"\"}}, \"type\": \"parcoords\"}], \"pie\": [{\"automargin\": true, \"type\": \"pie\"}], \"scatter\": [{\"marker\": {\"colorbar\": {\"outlinewidth\": 0, \"ticks\": \"\"}}, \"type\": \"scatter\"}], \"scatter3d\": [{\"line\": {\"colorbar\": {\"outlinewidth\": 0, \"ticks\": \"\"}}, \"marker\": {\"colorbar\": {\"outlinewidth\": 0, \"ticks\": \"\"}}, \"type\": \"scatter3d\"}], \"scattercarpet\": [{\"marker\": {\"colorbar\": {\"outlinewidth\": 0, \"ticks\": \"\"}}, \"type\": \"scattercarpet\"}], \"scattergeo\": [{\"marker\": {\"colorbar\": {\"outlinewidth\": 0, \"ticks\": \"\"}}, \"type\": \"scattergeo\"}], \"scattergl\": [{\"marker\": {\"colorbar\": {\"outlinewidth\": 0, \"ticks\": \"\"}}, \"type\": \"scattergl\"}], \"scattermapbox\": [{\"marker\": {\"colorbar\": {\"outlinewidth\": 0, \"ticks\": \"\"}}, \"type\": \"scattermapbox\"}], \"scatterpolar\": [{\"marker\": {\"colorbar\": {\"outlinewidth\": 0, \"ticks\": \"\"}}, \"type\": \"scatterpolar\"}], \"scatterpolargl\": [{\"marker\": {\"colorbar\": {\"outlinewidth\": 0, \"ticks\": \"\"}}, \"type\": \"scatterpolargl\"}], \"scatterternary\": [{\"marker\": {\"colorbar\": {\"outlinewidth\": 0, \"ticks\": \"\"}}, \"type\": \"scatterternary\"}], \"surface\": [{\"colorbar\": {\"outlinewidth\": 0, \"ticks\": \"\"}, \"colorscale\": [[0.0, \"#0d0887\"], [0.1111111111111111, \"#46039f\"], [0.2222222222222222, \"#7201a8\"], [0.3333333333333333, \"#9c179e\"], [0.4444444444444444, \"#bd3786\"], [0.5555555555555556, \"#d8576b\"], [0.6666666666666666, \"#ed7953\"], [0.7777777777777778, \"#fb9f3a\"], [0.8888888888888888, \"#fdca26\"], [1.0, \"#f0f921\"]], \"type\": \"surface\"}], \"table\": [{\"cells\": {\"fill\": {\"color\": \"#EBF0F8\"}, \"line\": {\"color\": \"white\"}}, \"header\": {\"fill\": {\"color\": \"#C8D4E3\"}, \"line\": {\"color\": \"white\"}}, \"type\": \"table\"}]}, \"layout\": {\"annotationdefaults\": {\"arrowcolor\": \"#2a3f5f\", \"arrowhead\": 0, \"arrowwidth\": 1}, \"coloraxis\": {\"colorbar\": {\"outlinewidth\": 0, \"ticks\": \"\"}}, \"colorscale\": {\"diverging\": [[0, \"#8e0152\"], [0.1, \"#c51b7d\"], [0.2, \"#de77ae\"], [0.3, \"#f1b6da\"], [0.4, \"#fde0ef\"], [0.5, \"#f7f7f7\"], [0.6, \"#e6f5d0\"], [0.7, \"#b8e186\"], [0.8, \"#7fbc41\"], [0.9, \"#4d9221\"], [1, \"#276419\"]], \"sequential\": [[0.0, \"#0d0887\"], [0.1111111111111111, \"#46039f\"], [0.2222222222222222, \"#7201a8\"], [0.3333333333333333, \"#9c179e\"], [0.4444444444444444, \"#bd3786\"], [0.5555555555555556, \"#d8576b\"], [0.6666666666666666, \"#ed7953\"], [0.7777777777777778, \"#fb9f3a\"], [0.8888888888888888, \"#fdca26\"], [1.0, \"#f0f921\"]], \"sequentialminus\": [[0.0, \"#0d0887\"], [0.1111111111111111, \"#46039f\"], [0.2222222222222222, \"#7201a8\"], [0.3333333333333333, \"#9c179e\"], [0.4444444444444444, \"#bd3786\"], [0.5555555555555556, \"#d8576b\"], [0.6666666666666666, \"#ed7953\"], [0.7777777777777778, \"#fb9f3a\"], [0.8888888888888888, \"#fdca26\"], [1.0, \"#f0f921\"]]}, \"colorway\": [\"#636efa\", \"#EF553B\", \"#00cc96\", \"#ab63fa\", \"#FFA15A\", \"#19d3f3\", \"#FF6692\", \"#B6E880\", \"#FF97FF\", \"#FECB52\"], \"font\": {\"color\": \"#2a3f5f\"}, \"geo\": {\"bgcolor\": \"white\", \"lakecolor\": \"white\", \"landcolor\": \"#E5ECF6\", \"showlakes\": true, \"showland\": true, \"subunitcolor\": \"white\"}, \"hoverlabel\": {\"align\": \"left\"}, \"hovermode\": \"closest\", \"mapbox\": {\"style\": \"light\"}, \"paper_bgcolor\": \"white\", \"plot_bgcolor\": \"#E5ECF6\", \"polar\": {\"angularaxis\": {\"gridcolor\": \"white\", \"linecolor\": \"white\", \"ticks\": \"\"}, \"bgcolor\": \"#E5ECF6\", \"radialaxis\": {\"gridcolor\": \"white\", \"linecolor\": \"white\", \"ticks\": \"\"}}, \"scene\": {\"xaxis\": {\"backgroundcolor\": \"#E5ECF6\", \"gridcolor\": \"white\", \"gridwidth\": 2, \"linecolor\": \"white\", \"showbackground\": true, \"ticks\": \"\", \"zerolinecolor\": \"white\"}, \"yaxis\": {\"backgroundcolor\": \"#E5ECF6\", \"gridcolor\": \"white\", \"gridwidth\": 2, \"linecolor\": \"white\", \"showbackground\": true, \"ticks\": \"\", \"zerolinecolor\": \"white\"}, \"zaxis\": {\"backgroundcolor\": \"#E5ECF6\", \"gridcolor\": \"white\", \"gridwidth\": 2, \"linecolor\": \"white\", \"showbackground\": true, \"ticks\": \"\", \"zerolinecolor\": \"white\"}}, \"shapedefaults\": {\"line\": {\"color\": \"#2a3f5f\"}}, \"ternary\": {\"aaxis\": {\"gridcolor\": \"white\", \"linecolor\": \"white\", \"ticks\": \"\"}, \"baxis\": {\"gridcolor\": \"white\", \"linecolor\": \"white\", \"ticks\": \"\"}, \"bgcolor\": \"#E5ECF6\", \"caxis\": {\"gridcolor\": \"white\", \"linecolor\": \"white\", \"ticks\": \"\"}}, \"title\": {\"x\": 0.05}, \"xaxis\": {\"automargin\": true, \"gridcolor\": \"white\", \"linecolor\": \"white\", \"ticks\": \"\", \"title\": {\"standoff\": 15}, \"zerolinecolor\": \"white\", \"zerolinewidth\": 2}, \"yaxis\": {\"automargin\": true, \"gridcolor\": \"white\", \"linecolor\": \"white\", \"ticks\": \"\", \"title\": {\"standoff\": 15}, \"zerolinecolor\": \"white\", \"zerolinewidth\": 2}}}, \"title\": {\"text\": \"Figure 1. Census Data - Amazon Natives vs Unemployment rate (aggregated 5 district)\"}, \"xaxis\": {\"anchor\": \"y\", \"domain\": [0.0, 1.0], \"title\": {\"text\": \"% Amazon Origin\"}}, \"yaxis\": {\"anchor\": \"x\", \"domain\": [0.0, 1.0], \"title\": {\"text\": \"% Unemployment\"}}},\n",
              "                        {\"responsive\": true}\n",
              "                    ).then(function(){\n",
              "                            \n",
              "var gd = document.getElementById('8e4e3c3a-d82f-4591-a196-de2b02f53f12');\n",
              "var x = new MutationObserver(function (mutations, observer) {{\n",
              "        var display = window.getComputedStyle(gd).display;\n",
              "        if (!display || display === 'none') {{\n",
              "            console.log([gd, 'removed!']);\n",
              "            Plotly.purge(gd);\n",
              "            observer.disconnect();\n",
              "        }}\n",
              "}});\n",
              "\n",
              "// Listen for the removal of the full notebook cells\n",
              "var notebookContainer = gd.closest('#notebook-container');\n",
              "if (notebookContainer) {{\n",
              "    x.observe(notebookContainer, {childList: true});\n",
              "}}\n",
              "\n",
              "// Listen for the clearing of the current output cell\n",
              "var outputEl = gd.closest('.output');\n",
              "if (outputEl) {{\n",
              "    x.observe(outputEl, {childList: true});\n",
              "}}\n",
              "\n",
              "                        })\n",
              "                };\n",
              "                \n",
              "            </script>\n",
              "        </div>\n",
              "</body>\n",
              "</html>"
            ]
          },
          "metadata": {
            "tags": []
          }
        }
      ]
    },
    {
      "cell_type": "markdown",
      "metadata": {
        "id": "JfrtRdLHwV3F"
      },
      "source": [
        "Consider the following conclusion statement: \n",
        "\n",
        " > _“A person who is indigenous with amazon origins is more likely to be unemployed than a person with Andean origins” -- (Alf, 2020)._\n",
        "\n",
        "<img src=\"https://i.pinimg.com/736x/34/58/fa/3458fa7e680a7b3a4d39a5a36c5c8cc6.jpg\" alt=\"drawing\" position = 'right' width=\"200\"/>\n",
        "\n",
        " \n",
        "\n"
      ]
    },
    {
      "cell_type": "markdown",
      "metadata": {
        "id": "zLnRZa8QnokK"
      },
      "source": [
        "📚 QUESTION **C**\n",
        "\n",
        "###### **C.** Is Alf's conclusion statement a valid logical argument? Please motivate your answer with no more 200 words."
      ]
    },
    {
      "cell_type": "markdown",
      "metadata": {
        "id": "Y4VEgRkZnx1b"
      },
      "source": [
        "📚 QUESTION **D**\n",
        "\n",
        "##### **D.** Provide an example of an ecological fallacy.  Please motivate your answer with no more 200 words."
      ]
    },
    {
      "cell_type": "markdown",
      "metadata": {
        "id": "irwDAk-qHNPI"
      },
      "source": [
        "## Annex: **Selected research articles**"
      ]
    },
    {
      "cell_type": "markdown",
      "metadata": {
        "id": "k77pUrcqqRtl"
      },
      "source": [
        "---\n",
        "\n",
        "### **Abstract 1**\n",
        "\n",
        "<img src=\"https://github.com/MaastrichtU-IDS/global-studies-methods/blob/master/inputs/homework%202/images/Abstract%201.JPG?raw=true\" alt=\"drawing\" position = 'right' width=\"500\"/>\n",
        "\n",
        "Link: http://dx.doi.org/10.1080/02188791.2013.810143"
      ]
    },
    {
      "cell_type": "markdown",
      "metadata": {
        "id": "m54pL5lOq3nY"
      },
      "source": [
        "---\n",
        "### **Abstract 2**\n",
        " \n",
        "<img src=\"https://github.com/MaastrichtU-IDS/global-studies-methods/blob/master/inputs/homework%202/images/Abstract%202.JPG?raw=true\" alt=\"drawing\" position = 'right' width=\"500\"/>\n",
        " \n",
        "Link: https://advances.sciencemag.org/content/6/24/eaaz0183"
      ]
    },
    {
      "cell_type": "markdown",
      "metadata": {
        "id": "YHOX0TRuyDnP"
      },
      "source": [
        "---\n",
        "### **Abstract 3**\n",
        " \n",
        "<img src=\"https://github.com/MaastrichtU-IDS/global-studies-methods/blob/master/inputs/homework%202/images/Abstract%203.JPG?raw=true\" alt=\"drawing\" position = 'right' width=\"500\"/>\n",
        " \n",
        "Link: https://dx.doi.org/10.2139/ssrn.2363784"
      ]
    },
    {
      "cell_type": "markdown",
      "metadata": {
        "id": "3CBSd54QyQqb"
      },
      "source": [
        "---\n",
        "### **Abstract 4**\n",
        " \n",
        "<img src=\"https://github.com/MaastrichtU-IDS/global-studies-methods/blob/master/inputs/homework%202/images/Abstract%204.JPG?raw=true\" alt=\"drawing\" position = 'right' width=\"500\"/>\n",
        "\n",
        "Link: [https://iaap-journals.onlinelibrary.wiley.com/doi/abs/10.1111/apps.12158](\n",
        "https://iaap-journals.onlinelibrary.wiley.com/doi/abs/10.1111/apps.12158)"
      ]
    },
    {
      "cell_type": "markdown",
      "metadata": {
        "id": "a8_9Q8gCyOGB"
      },
      "source": [
        "## Footnotes\n",
        "[[1]]() An abstract summarizes the major aspects of the entire paper in a prescribed sequence that includes: 1) research objectives 2) the basic design of the study; 3) major findings of your analysis; and, 4) a brief summary of your conclusions.\n",
        "\n",
        "[[2]]()  Dolma, S. (2010). The central role of the unit of analysis concept in research design. Journal of the School of Business Administration 39(1), 169-174.\n",
        "\n",
        "[[3]]()  [Source Gereffi et al. 2016](https://gvcc.duke.edu/wp-content/uploads/Duke_CGGC_Global_Value_Chain_GVC_Analysis_Primer_2nd_Ed_2016.pdf): Table 1 Types of Work in Global Value Chain (pg. 22)\n"
      ]
    }
  ]
}