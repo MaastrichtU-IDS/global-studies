{
  "nbformat": 4,
  "nbformat_minor": 0,
  "metadata": {
    "colab": {
      "name": "(teacher version) Methods Homework 3: Descriptive Statistics Vocabulary.ipynb",
      "provenance": []
    },
    "kernelspec": {
      "name": "python3",
      "display_name": "Python 3"
    }
  },
  "cells": [
    {
      "cell_type": "markdown",
      "metadata": {
        "id": "-Jzkll19hXP3"
      },
      "source": [
        "# Methods Homework 3: Descriptive Statistics Vocabulary - Introduction to Global Studies - GLO1101 - November 11th, 2020\n",
        "\n",
        "**Date:** Nov 2020\n",
        "\n",
        "**Author:** Carlos Utrilla Guerrero & Leto Peel\n",
        "\n",
        "**License:** [Attribution 4.0 International (CC BY 4.0)](https://creativecommons.org/licenses/by/4.0/)  \n",
        "\n",
        "\n",
        "⚠️ The methods track assessment for phases 2 and 3 will be in the form of five homework assignments — this is the first assignment. To pass, you must pass four of the five homework assignments.\n",
        "\n"
      ]
    },
    {
      "cell_type": "markdown",
      "metadata": {
        "id": "EGCdCkyyhh4M"
      },
      "source": [
        "---\n",
        "## Instructions\n",
        "1. This homework builds upon **Methods Lecture 10** on the importance of descriptive statistics in research. (_TODO_)\n",
        "2. A single file with your completed answers should be submitted in a google colab file (.ipynb).\n",
        "3. The filename should be: “your-name_your-student-ID_BAGS_homework3.ipynb\".\n",
        "4. The homework is due by **November 26th, 2020, 18:00** via the Canvas page for the homework.\n",
        "5. Use the [Document template](https://colab.research.google.com/drive/1UCx07rYrNZvERDKgXj8V4eVWTPhOQ_OT?usp=sharing) (don't forget to copy-paste this document and save it on your pc!).\n",
        "6. In the [Document template](https://colab.research.google.com/drive/1UCx07rYrNZvERDKgXj8V4eVWTPhOQ_OT?usp=sharing), add a new cell text to answer the questions.\n"
      ]
    },
    {
      "cell_type": "markdown",
      "metadata": {
        "id": "_qhJofHLRVqN"
      },
      "source": [
        "## Learning Objectives\n",
        "\n",
        "You will know how to:\n",
        "\n",
        "1. Calculate measures of location\n",
        "\n",
        "2. Calculate measures of dispersion\n",
        "\n",
        "3. Load and summarise a dataset by its location and dispersion\n"
      ]
    },
    {
      "cell_type": "markdown",
      "metadata": {
        "id": "2pRgoWjCZAFZ"
      },
      "source": [
        "---\n",
        "<h1>Introduction</h1>\n",
        "Using python we can calculate measures of location and dispersion in a number of ways.\n",
        "First we can calculate them manually as we did in the videos. For example the mean of the temperatures 6, 10, 9, 9, 12, 6, 2:"
      ]
    },
    {
      "cell_type": "code",
      "metadata": {
        "id": "-ePpg7KxacHu",
        "colab": {
          "base_uri": "https://localhost:8080/"
        },
        "outputId": "8418f8f4-509c-4140-d5ba-8a7589017e22"
      },
      "source": [
        "(6 + 10 + 9 + 9 + 12 + 6 + 2) / 7"
      ],
      "execution_count": null,
      "outputs": [
        {
          "output_type": "execute_result",
          "data": {
            "text/plain": [
              "7.714285714285714"
            ]
          },
          "metadata": {
            "tags": []
          },
          "execution_count": 1
        }
      ]
    },
    {
      "cell_type": "markdown",
      "metadata": {
        "id": "MSVFU3tXa0H2"
      },
      "source": [
        "Using a programming language like Python, we can also calculate the sum $\\sum_i x_i$ using a loop (if this seems unclear, do not worry, you don't need to know how to do this yet!):"
      ]
    },
    {
      "cell_type": "code",
      "metadata": {
        "id": "Qf7jnzfqbg9F",
        "colab": {
          "base_uri": "https://localhost:8080/"
        },
        "outputId": "373dd6a6-0676-4b24-de0c-f898954d16c6"
      },
      "source": [
        "sum_x = 0 # this will store the sum of all the temperatures\n",
        "\n",
        "for x_i in [6, 10, 9, 9, 12, 6, 2]: # x_i will be set to each value in the list of temperatures\n",
        "\n",
        "    sum_x = sum_x + x_i \n",
        "    print(f'x_i is equal to {x_i} and now the sum so far equals {sum_x}')\n",
        "\n",
        "print(f'To calculate the mean we divide the sum by the number of temperatures {sum_x}/7 = {sum_x/7}')"
      ],
      "execution_count": null,
      "outputs": [
        {
          "output_type": "stream",
          "text": [
            "x_i is equal to 6 and now the sum so far equals 6\n",
            "x_i is equal to 10 and now the sum so far equals 16\n",
            "x_i is equal to 9 and now the sum so far equals 25\n",
            "x_i is equal to 9 and now the sum so far equals 34\n",
            "x_i is equal to 12 and now the sum so far equals 46\n",
            "x_i is equal to 6 and now the sum so far equals 52\n",
            "x_i is equal to 2 and now the sum so far equals 54\n",
            "To calculate the mean we divide the sum by the number of temperatures 54/7 = 7.714285714285714\n"
          ],
          "name": "stdout"
        }
      ]
    },
    {
      "cell_type": "markdown",
      "metadata": {
        "id": "H0EoP_cEdt8z"
      },
      "source": [
        "However, for common functions like the mean, we do not need to write the code ourselves, but instead we can use functions from libraries such as numpy, which we will look at in this homework."
      ]
    },
    {
      "cell_type": "markdown",
      "metadata": {
        "id": "r9wdc_UyhyQr"
      },
      "source": [
        "---\n",
        "## Task 1: Getting our Wampis Data Into Python\n"
      ]
    },
    {
      "cell_type": "markdown",
      "metadata": {
        "id": "NMAzqg1klI_y"
      },
      "source": [
        "In this homework, you will load an external dataset `GlobalWampis.csv`. See Annex to learn how to load the dataset.\n",
        "\n"
      ]
    },
    {
      "cell_type": "markdown",
      "metadata": {
        "id": "o5TKVtFAh3Pk"
      },
      "source": [
        "📚 QUESTION **A**\n",
        "#### **A.** Load the Wampis Global dataset (_see Annex: Getting Global Wampis data into python_) in to a pandas Dataframe and check the columns and first 5 records."
      ]
    },
    {
      "cell_type": "code",
      "metadata": {
        "id": "41PEvboaBiug"
      },
      "source": [
        "import pandas as pd\n",
        "url = 'https://maastrichtuniversity-ids-open.s3.eu-central-1.amazonaws.com/global-studies/GlobalWampis.csv'\n",
        "df = pd.read_csv(url)\n"
      ],
      "execution_count": null,
      "outputs": []
    },
    {
      "cell_type": "code",
      "metadata": {
        "id": "OGbX3MGICr19",
        "colab": {
          "base_uri": "https://localhost:8080/",
          "height": 195
        },
        "outputId": "38f5cdc4-2129-47fd-dfe1-98962fd5805a"
      },
      "source": [
        "df.head(5)"
      ],
      "execution_count": null,
      "outputs": [
        {
          "output_type": "execute_result",
          "data": {
            "text/html": [
              "<div>\n",
              "<style scoped>\n",
              "    .dataframe tbody tr th:only-of-type {\n",
              "        vertical-align: middle;\n",
              "    }\n",
              "\n",
              "    .dataframe tbody tr th {\n",
              "        vertical-align: top;\n",
              "    }\n",
              "\n",
              "    .dataframe thead th {\n",
              "        text-align: right;\n",
              "    }\n",
              "</style>\n",
              "<table border=\"1\" class=\"dataframe\">\n",
              "  <thead>\n",
              "    <tr style=\"text-align: right;\">\n",
              "      <th></th>\n",
              "      <th>age</th>\n",
              "      <th>gender</th>\n",
              "      <th>height</th>\n",
              "      <th>region</th>\n",
              "      <th>n.languages</th>\n",
              "      <th>happy</th>\n",
              "      <th>financial</th>\n",
              "      <th>politics</th>\n",
              "      <th>global</th>\n",
              "    </tr>\n",
              "  </thead>\n",
              "  <tbody>\n",
              "    <tr>\n",
              "      <th>0</th>\n",
              "      <td>18</td>\n",
              "      <td>Male</td>\n",
              "      <td>188</td>\n",
              "      <td>e5543</td>\n",
              "      <td>2.0</td>\n",
              "      <td>NaN</td>\n",
              "      <td>NaN</td>\n",
              "      <td>NaN</td>\n",
              "      <td>NaN</td>\n",
              "    </tr>\n",
              "    <tr>\n",
              "      <th>1</th>\n",
              "      <td>18</td>\n",
              "      <td>Female</td>\n",
              "      <td>196</td>\n",
              "      <td>e4435</td>\n",
              "      <td>2.0</td>\n",
              "      <td>Strongly Agree</td>\n",
              "      <td>Strongly Disagree</td>\n",
              "      <td>3.0</td>\n",
              "      <td>yes</td>\n",
              "    </tr>\n",
              "    <tr>\n",
              "      <th>2</th>\n",
              "      <td>18</td>\n",
              "      <td>Female</td>\n",
              "      <td>163</td>\n",
              "      <td>e4323</td>\n",
              "      <td>5.0</td>\n",
              "      <td>Strongly Disagree</td>\n",
              "      <td>Strongly Disagree</td>\n",
              "      <td>NaN</td>\n",
              "      <td>NaN</td>\n",
              "    </tr>\n",
              "    <tr>\n",
              "      <th>3</th>\n",
              "      <td>18</td>\n",
              "      <td>Female</td>\n",
              "      <td>157</td>\n",
              "      <td>e1124</td>\n",
              "      <td>4.0</td>\n",
              "      <td>Agree</td>\n",
              "      <td>Strongly Disagree</td>\n",
              "      <td>NaN</td>\n",
              "      <td>NaN</td>\n",
              "    </tr>\n",
              "    <tr>\n",
              "      <th>4</th>\n",
              "      <td>18</td>\n",
              "      <td>Male</td>\n",
              "      <td>188</td>\n",
              "      <td>e5543</td>\n",
              "      <td>2.0</td>\n",
              "      <td>Strongly Disagree</td>\n",
              "      <td>Strongly Disagree</td>\n",
              "      <td>4.0</td>\n",
              "      <td>no</td>\n",
              "    </tr>\n",
              "  </tbody>\n",
              "</table>\n",
              "</div>"
            ],
            "text/plain": [
              "   age  gender  height  ...          financial  politics global\n",
              "0   18    Male     188  ...                NaN       NaN    NaN\n",
              "1   18  Female     196  ...  Strongly Disagree       3.0    yes\n",
              "2   18  Female     163  ...  Strongly Disagree       NaN    NaN\n",
              "3   18  Female     157  ...  Strongly Disagree       NaN    NaN\n",
              "4   18    Male     188  ...  Strongly Disagree       4.0     no\n",
              "\n",
              "[5 rows x 9 columns]"
            ]
          },
          "metadata": {
            "tags": []
          },
          "execution_count": 4
        }
      ]
    },
    {
      "cell_type": "code",
      "metadata": {
        "id": "vVCnyYDv1TIj",
        "colab": {
          "base_uri": "https://localhost:8080/"
        },
        "outputId": "eef0788e-977c-4f7f-9ee0-0d58fcf0a3a7"
      },
      "source": [
        "len(df)"
      ],
      "execution_count": null,
      "outputs": [
        {
          "output_type": "execute_result",
          "data": {
            "text/plain": [
              "700"
            ]
          },
          "metadata": {
            "tags": []
          },
          "execution_count": 5
        }
      ]
    },
    {
      "cell_type": "code",
      "metadata": {
        "id": "O94gYUJg-5Rv",
        "colab": {
          "base_uri": "https://localhost:8080/"
        },
        "outputId": "3968e32f-578e-46c6-ebed-e8c96e5cc19e"
      },
      "source": [
        "df.columns"
      ],
      "execution_count": null,
      "outputs": [
        {
          "output_type": "execute_result",
          "data": {
            "text/plain": [
              "Index(['age', 'gender', 'height', 'region', 'n.languages', 'happy',\n",
              "       'financial', 'politics', 'global'],\n",
              "      dtype='object')"
            ]
          },
          "metadata": {
            "tags": []
          },
          "execution_count": 6
        }
      ]
    },
    {
      "cell_type": "markdown",
      "metadata": {
        "id": "HNWm6gBlDWOH"
      },
      "source": [
        "---\n",
        "## Task 2: Understanding the Wampis Dataset"
      ]
    },
    {
      "cell_type": "markdown",
      "metadata": {
        "id": "CdVUDk-w4zy9"
      },
      "source": [
        "In this task, we need to calculate some statistics from the Wampis Dataset. Have a look at the [numpy library](https://numpy.org/doc/stable/index.html) and learn about its concepts and how to run calculations."
      ]
    },
    {
      "cell_type": "markdown",
      "metadata": {
        "id": "wdVH7wk3ivp3"
      },
      "source": [
        "📚 QUESTION **B**\n",
        "### **B.** Select a ratio variable (e.g.`height`) and calculate the following statistics:\n",
        "\n",
        "* Minimum\n",
        "* Maximum\n",
        "* 25th percentile\n",
        "* Median\n",
        "* 75th percentile\n",
        "* Mode\n",
        "* Mean (average)\n",
        "* Variance\n",
        "* Standard deviation\n"
      ]
    },
    {
      "cell_type": "code",
      "metadata": {
        "id": "_PKnPv5yFfWb",
        "colab": {
          "base_uri": "https://localhost:8080/"
        },
        "outputId": "f1b81753-df1f-4c27-c0e5-0ec886cdf5ec"
      },
      "source": [
        "# in case they go for arrays\n",
        "import numpy as np\n",
        "heights = np.array(df['height'])\n",
        "print(heights)"
      ],
      "execution_count": null,
      "outputs": [
        {
          "output_type": "stream",
          "text": [
            "[188 196 163 157 188 170 175 164 158 173 159 151 154 189 170 179 188 189\n",
            " 168 170 171 187 200 191 168 156 163 189 163 192 151 159 161 185 165 157\n",
            " 171 171 159 163 154 186 170 197 169 155 181 185 199 195 179 182 180 181\n",
            " 191 162 198 156 196 191 181 199 193 183 194 182 166 166 185 172 188 167\n",
            " 165 174 154 189 188 181 172 171 165 192 162 185 178 152 165 197 199 175\n",
            " 154 158 190 151 156 189 197 162 175 197 187 187 161 194 178 151 164 152\n",
            " 194 155 185 183 167 168 188 162 187 157 171 151 190 186 160 184 197 176\n",
            " 199 180 194 194 192 194 180 158 183 155 152 178 183 175 186 165 174 159\n",
            " 162 183 181 170 157 162 171 161 156 154 172 195 157 173 176 161 166 154\n",
            " 155 180 197 152 151 182 174 179 193 190 166 177 165 151 155 199 158 185\n",
            " 165 193 176 192 163 193 160 162 199 169 180 196 183 192 175 180 153 197\n",
            " 181 154 199 192 178 184 185 178 163 152 176 183 162 156 197 184 179 178\n",
            " 181 189 176 167 192 151 157 193 169 150 168 154 196 191 168 172 192 193\n",
            " 173 167 159 190 191 169 166 192 163 188 169 198 200 187 152 152 162 188\n",
            " 185 156 167 183 192 185 188 200 185 170 165 183 154 181 200 185 160 167\n",
            " 199 154 160 197 171 197 192 198 158 199 175 170 156 200 157 175 157 192\n",
            " 182 198 183 177 173 179 182 197 184 168 154 177 194 198 187 181 187 182\n",
            " 191 199 171 163 196 196 176 152 187 165 154 188 197 181 161 171 163 175\n",
            " 192 179 183 198 171 181 164 176 176 193 187 153 178 154 180 192 191 156\n",
            " 161 182 159 179 186 165 157 151 175 188 158 163 158 166 199 188 172 167\n",
            " 176 174 173 162 153 157 171 182 163 193 153 192 167 157 189 174 175 162\n",
            " 154 189 191 165 151 179 162 151 198 150 183 194 192 200 155 188 161 188\n",
            " 158 158 150 169 169 156 177 182 166 194 179 185 163 174 177 180 168 192\n",
            " 196 190 157 154 192 172 188 174 165 189 196 179 150 177 199 166 156 150\n",
            " 170 179 175 153 191 199 191 184 164 163 150 182 151 163 190 166 162 196\n",
            " 172 155 186 157 164 171 170 198 173 155 191 177 184 153 169 179 189 199\n",
            " 166 183 159 174 162 151 159 182 178 190 159 175 163 158 152 158 171 166\n",
            " 169 165 190 165 177 189 160 180 192 174 159 171 190 195 175 150 166 171\n",
            " 172 170 187 181 193 156 151 194 153 163 192 153 150 153 174 173 183 152\n",
            " 163 155 178 200 168 158 167 176 159 172 191 164 199 162 166 190 153 184\n",
            " 177 172 192 176 193 172 191 199 160 179 173 154 182 150 153 150 166 187\n",
            " 157 158 184 158 195 163 154 169 179 196 198 166 162 152 168 176 195 156\n",
            " 197 165 181 192 195 195 156 189 172 154 174 151 156 152 173 179 187 200\n",
            " 197 187 183 179 167 169 173 180 164 151 189 200 179 178 192 170 188 155\n",
            " 184 160 181 154 193 174 158 196 194 163 180 191 188 181 187 189 187 186\n",
            " 195 179 188 183 162 198 196 170 154 184 176 171 200 171 160 169 165 179\n",
            " 175 158 186 172 197 184 200 168 182 182 160 151 172 159 190 153 151 173\n",
            " 154 161 165 182 180 153 163 195 194 173 166 195 151 167 172 185 191 165\n",
            " 156 184 193 153 188 184 193 180 196 156 162 173 200 160 158 172]\n"
          ],
          "name": "stdout"
        }
      ]
    },
    {
      "cell_type": "code",
      "metadata": {
        "id": "YLarpQn7DyvM",
        "colab": {
          "base_uri": "https://localhost:8080/"
        },
        "outputId": "50f0c78b-f7db-49ce-956d-2c41399e795b"
      },
      "source": [
        "# with arrays\n",
        "from scipy import stats\n",
        "print(\"Minimum height:    \", heights.min())\n",
        "print(\"Maximum height:    \", heights.max())\n",
        "print(\"25th percentile:   \", np.percentile(heights, 25))\n",
        "print(\"Median:            \", np.median(heights))\n",
        "print(\"75th percentile:   \", np.percentile(heights, 75))\n",
        "print(\"Mode height:       \", stats.mode(heights))\n",
        "print(\"Mean height:       \", heights.mean())\n",
        "print(\"Variance:          \", heights.var())\n",
        "print(\"Standard deviation:\", heights.std())"
      ],
      "execution_count": null,
      "outputs": [
        {
          "output_type": "stream",
          "text": [
            "Minimum height:     150\n",
            "Maximum height:     200\n",
            "25th percentile:    162.0\n",
            "Median:             175.0\n",
            "75th percentile:    188.0\n",
            "Mode height:        ModeResult(mode=array([192]), count=array([23]))\n",
            "Mean height:        174.8542857142857\n",
            "Variance:           218.33876734693877\n",
            "Standard deviation: 14.776290716784736\n"
          ],
          "name": "stdout"
        }
      ]
    },
    {
      "cell_type": "code",
      "metadata": {
        "colab": {
          "base_uri": "https://localhost:8080/"
        },
        "id": "tKxJtxGoWBn-",
        "outputId": "336a57d5-712e-4400-d0da-82619eb98dda"
      },
      "source": [
        "df.height.std()\n",
        "# with arrays\n",
        "from scipy import stats\n",
        "print(\"Minimum height:    \", heights.min())\n",
        "print(\"Maximum height:    \", heights.max())\n",
        "print(\"25th percentile:   \", np.percentile(heights, 25))\n",
        "print(\"Median:            \", np.median(heights))\n",
        "print(\"75th percentile:   \", np.percentile(heights, 75))\n",
        "print(\"Mode height:       \", stats.mode(heights))\n",
        "print(\"Mean height:       \", heights.mean())\n",
        "print(\"Variance:          \", heights.var())\n",
        "print(\"Standard deviation:\", heights.std())"
      ],
      "execution_count": null,
      "outputs": [
        {
          "output_type": "stream",
          "text": [
            "Minimum height:     150\n",
            "Maximum height:     200\n",
            "25th percentile:    162.0\n",
            "Median:             175.0\n",
            "75th percentile:    188.0\n",
            "Mode height:        ModeResult(mode=array([192]), count=array([23]))\n",
            "Mean height:        174.8542857142857\n",
            "Variance:           218.33876734693877\n",
            "Standard deviation: 14.776290716784736\n"
          ],
          "name": "stdout"
        }
      ]
    },
    {
      "cell_type": "code",
      "metadata": {
        "id": "B-K0_UpgZNcQ",
        "colab": {
          "base_uri": "https://localhost:8080/"
        },
        "outputId": "a965bdb3-5ad1-4d73-c51c-dc2a99159da7"
      },
      "source": [
        "# without arrays\n",
        "from scipy import stats\n",
        "print(\"Minimum height:    \", df[ 'height' ].min())\n",
        "print(\"Maximum height:    \", df['height'].max())\n",
        "print(\"25th percentile:   \", np.percentile(df['height'], 25))\n",
        "print(\"Median:            \", np.median(df['height']))\n",
        "print(\"75th percentile:   \", np.percentile(df['height'], 75))\n",
        "print(\"Mode height:       \", stats.mode(df['height']))\n",
        "print(\"Mean height:       \", df['height'].mean())\n",
        "print(\"Variance:          \", df['height'].var())\n",
        "print(\"Standard deviation:\", df['height'].std())"
      ],
      "execution_count": null,
      "outputs": [
        {
          "output_type": "stream",
          "text": [
            "Minimum height:     150\n",
            "Maximum height:     200\n",
            "25th percentile:    162.0\n",
            "Median:             175.0\n",
            "75th percentile:    188.0\n",
            "Mode height:        ModeResult(mode=array([192]), count=array([23]))\n",
            "Mean height:        174.8542857142857\n",
            "Variance:           218.65112609850797\n",
            "Standard deviation: 14.786856532018831\n"
          ],
          "name": "stdout"
        }
      ]
    },
    {
      "cell_type": "code",
      "metadata": {
        "colab": {
          "base_uri": "https://localhost:8080/"
        },
        "id": "oORYXipCZiPA",
        "outputId": "0c5b826d-7ff1-4570-cad6-e2a19fbb92c2"
      },
      "source": [
        "# without arrays\n",
        "from scipy import stats\n",
        "print(\"Minimum height:    \", np.min(df[\"age\"]))\n",
        "print(\"Maximum height:    \", df['age'].max())\n",
        "print(\"25th percentile:   \", np.percentile(df['age'], 25))\n",
        "print(\"Median:            \", np.median(df['age']))\n",
        "print(\"75th percentile:   \", np.percentile(df['age'], 75))\n",
        "print(\"Mode height:       \", stats.mode(df['age']))\n",
        "print(\"Mean height:       \", df['age'].mean())\n",
        "print(\"Variance:          \", df['age'].var())\n",
        "print(\"Standard deviation:\", df['age'].std())\n",
        "print(\"Standard deviation:\", np.std(df[\"age\"]))"
      ],
      "execution_count": null,
      "outputs": [
        {
          "output_type": "stream",
          "text": [
            "Minimum height:     18\n",
            "Maximum height:     332\n",
            "25th percentile:    24.0\n",
            "Median:             29.0\n",
            "75th percentile:    34.0\n",
            "Mode height:        ModeResult(mode=array([29]), count=array([45]))\n",
            "Mean height:        29.462857142857143\n",
            "Variance:           172.03152258328214\n",
            "Standard deviation: 13.11607878076684\n",
            "Standard deviation: 13.106706804735735\n"
          ],
          "name": "stdout"
        }
      ]
    },
    {
      "cell_type": "code",
      "metadata": {
        "colab": {
          "base_uri": "https://localhost:8080/"
        },
        "id": "d6cx5WVuEuCz",
        "outputId": "631097e0-f0a9-470a-8185-b1df9482d1d9"
      },
      "source": [
        "# without arrays\n",
        "from scipy import stats\n",
        "print(\"Minimum height:    \", np.min(df[\"age\"]))\n",
        "print(\"Maximum height:    \", df['age'].max())\n",
        "print(\"25th percentile:   \", np.nanpercentile(df['age'], 25))\n",
        "print(\"Median:            \", np.median(df['age']))\n",
        "print(\"75th percentile:   \", np.nanpercentile(df['age'], 75))\n",
        "print(\"Mode height:       \", stats.mode(df['age']))\n",
        "print(\"Mean height:       \", df['age'].mean())\n",
        "print(\"Variance:          \", df['age'].var())\n",
        "print(\"Standard deviation:\", df['age'].std())\n",
        "print(\"Standard deviation:\", np.std(df[\"age\"]))"
      ],
      "execution_count": null,
      "outputs": [
        {
          "output_type": "stream",
          "text": [
            "Minimum height:     18\n",
            "Maximum height:     332\n",
            "25th percentile:    24.0\n",
            "Median:             29.0\n",
            "75th percentile:    34.0\n",
            "Mode height:        ModeResult(mode=array([29]), count=array([45]))\n",
            "Mean height:        29.462857142857143\n",
            "Variance:           172.03152258328214\n",
            "Standard deviation: 13.11607878076684\n",
            "Standard deviation: 13.106706804735735\n"
          ],
          "name": "stdout"
        }
      ]
    },
    {
      "cell_type": "code",
      "metadata": {
        "colab": {
          "base_uri": "https://localhost:8080/"
        },
        "id": "brzZrWYHn5X8",
        "outputId": "91f5bb88-f758-467f-9fa8-fb88d15b767b"
      },
      "source": [
        "df['height'].mean()"
      ],
      "execution_count": null,
      "outputs": [
        {
          "output_type": "execute_result",
          "data": {
            "text/plain": [
              "174.8542857142857"
            ]
          },
          "metadata": {
            "tags": []
          },
          "execution_count": 13
        }
      ]
    },
    {
      "cell_type": "markdown",
      "metadata": {
        "id": "ObCQY6YbjBFA"
      },
      "source": [
        "## Task 3: Visualising the Wampis Data\n",
        "Of course, it's more useful to see a visual representation of this data, which we can accomplish using tools in `plotly.express`.\n",
        "\n",
        "\n",
        "\n"
      ]
    },
    {
      "cell_type": "markdown",
      "metadata": {
        "id": "zLnRZa8QnokK"
      },
      "source": [
        "📚 QUESTION **C**\n",
        "\n",
        "###### **C.** Create a histogram to represent the variable `height`"
      ]
    },
    {
      "cell_type": "code",
      "metadata": {
        "id": "AHpJmekLMn8M",
        "colab": {
          "base_uri": "https://localhost:8080/",
          "height": 542
        },
        "outputId": "3838c076-b699-457c-a903-e23beb8570ab"
      },
      "source": [
        "#solution\n",
        "import plotly.express as px\n",
        "\n",
        "fig = px.histogram(df, x = 'height')\n",
        "\n",
        "fig.show()\n"
      ],
      "execution_count": null,
      "outputs": [
        {
          "output_type": "display_data",
          "data": {
            "text/html": [
              "<html>\n",
              "<head><meta charset=\"utf-8\" /></head>\n",
              "<body>\n",
              "    <div>\n",
              "            <script src=\"https://cdnjs.cloudflare.com/ajax/libs/mathjax/2.7.5/MathJax.js?config=TeX-AMS-MML_SVG\"></script><script type=\"text/javascript\">if (window.MathJax) {MathJax.Hub.Config({SVG: {font: \"STIX-Web\"}});}</script>\n",
              "                <script type=\"text/javascript\">window.PlotlyConfig = {MathJaxConfig: 'local'};</script>\n",
              "        <script src=\"https://cdn.plot.ly/plotly-latest.min.js\"></script>    \n",
              "            <div id=\"3d15db85-6cfd-494c-8eae-217d5c91f8f0\" class=\"plotly-graph-div\" style=\"height:525px; width:100%;\"></div>\n",
              "            <script type=\"text/javascript\">\n",
              "                \n",
              "                    window.PLOTLYENV=window.PLOTLYENV || {};\n",
              "                    \n",
              "                if (document.getElementById(\"3d15db85-6cfd-494c-8eae-217d5c91f8f0\")) {\n",
              "                    Plotly.newPlot(\n",
              "                        '3d15db85-6cfd-494c-8eae-217d5c91f8f0',\n",
              "                        [{\"alignmentgroup\": \"True\", \"bingroup\": \"x\", \"hoverlabel\": {\"namelength\": 0}, \"hovertemplate\": \"height=%{x}<br>count=%{y}\", \"legendgroup\": \"\", \"marker\": {\"color\": \"#636efa\"}, \"name\": \"\", \"offsetgroup\": \"\", \"orientation\": \"v\", \"showlegend\": false, \"type\": \"histogram\", \"x\": [188, 196, 163, 157, 188, 170, 175, 164, 158, 173, 159, 151, 154, 189, 170, 179, 188, 189, 168, 170, 171, 187, 200, 191, 168, 156, 163, 189, 163, 192, 151, 159, 161, 185, 165, 157, 171, 171, 159, 163, 154, 186, 170, 197, 169, 155, 181, 185, 199, 195, 179, 182, 180, 181, 191, 162, 198, 156, 196, 191, 181, 199, 193, 183, 194, 182, 166, 166, 185, 172, 188, 167, 165, 174, 154, 189, 188, 181, 172, 171, 165, 192, 162, 185, 178, 152, 165, 197, 199, 175, 154, 158, 190, 151, 156, 189, 197, 162, 175, 197, 187, 187, 161, 194, 178, 151, 164, 152, 194, 155, 185, 183, 167, 168, 188, 162, 187, 157, 171, 151, 190, 186, 160, 184, 197, 176, 199, 180, 194, 194, 192, 194, 180, 158, 183, 155, 152, 178, 183, 175, 186, 165, 174, 159, 162, 183, 181, 170, 157, 162, 171, 161, 156, 154, 172, 195, 157, 173, 176, 161, 166, 154, 155, 180, 197, 152, 151, 182, 174, 179, 193, 190, 166, 177, 165, 151, 155, 199, 158, 185, 165, 193, 176, 192, 163, 193, 160, 162, 199, 169, 180, 196, 183, 192, 175, 180, 153, 197, 181, 154, 199, 192, 178, 184, 185, 178, 163, 152, 176, 183, 162, 156, 197, 184, 179, 178, 181, 189, 176, 167, 192, 151, 157, 193, 169, 150, 168, 154, 196, 191, 168, 172, 192, 193, 173, 167, 159, 190, 191, 169, 166, 192, 163, 188, 169, 198, 200, 187, 152, 152, 162, 188, 185, 156, 167, 183, 192, 185, 188, 200, 185, 170, 165, 183, 154, 181, 200, 185, 160, 167, 199, 154, 160, 197, 171, 197, 192, 198, 158, 199, 175, 170, 156, 200, 157, 175, 157, 192, 182, 198, 183, 177, 173, 179, 182, 197, 184, 168, 154, 177, 194, 198, 187, 181, 187, 182, 191, 199, 171, 163, 196, 196, 176, 152, 187, 165, 154, 188, 197, 181, 161, 171, 163, 175, 192, 179, 183, 198, 171, 181, 164, 176, 176, 193, 187, 153, 178, 154, 180, 192, 191, 156, 161, 182, 159, 179, 186, 165, 157, 151, 175, 188, 158, 163, 158, 166, 199, 188, 172, 167, 176, 174, 173, 162, 153, 157, 171, 182, 163, 193, 153, 192, 167, 157, 189, 174, 175, 162, 154, 189, 191, 165, 151, 179, 162, 151, 198, 150, 183, 194, 192, 200, 155, 188, 161, 188, 158, 158, 150, 169, 169, 156, 177, 182, 166, 194, 179, 185, 163, 174, 177, 180, 168, 192, 196, 190, 157, 154, 192, 172, 188, 174, 165, 189, 196, 179, 150, 177, 199, 166, 156, 150, 170, 179, 175, 153, 191, 199, 191, 184, 164, 163, 150, 182, 151, 163, 190, 166, 162, 196, 172, 155, 186, 157, 164, 171, 170, 198, 173, 155, 191, 177, 184, 153, 169, 179, 189, 199, 166, 183, 159, 174, 162, 151, 159, 182, 178, 190, 159, 175, 163, 158, 152, 158, 171, 166, 169, 165, 190, 165, 177, 189, 160, 180, 192, 174, 159, 171, 190, 195, 175, 150, 166, 171, 172, 170, 187, 181, 193, 156, 151, 194, 153, 163, 192, 153, 150, 153, 174, 173, 183, 152, 163, 155, 178, 200, 168, 158, 167, 176, 159, 172, 191, 164, 199, 162, 166, 190, 153, 184, 177, 172, 192, 176, 193, 172, 191, 199, 160, 179, 173, 154, 182, 150, 153, 150, 166, 187, 157, 158, 184, 158, 195, 163, 154, 169, 179, 196, 198, 166, 162, 152, 168, 176, 195, 156, 197, 165, 181, 192, 195, 195, 156, 189, 172, 154, 174, 151, 156, 152, 173, 179, 187, 200, 197, 187, 183, 179, 167, 169, 173, 180, 164, 151, 189, 200, 179, 178, 192, 170, 188, 155, 184, 160, 181, 154, 193, 174, 158, 196, 194, 163, 180, 191, 188, 181, 187, 189, 187, 186, 195, 179, 188, 183, 162, 198, 196, 170, 154, 184, 176, 171, 200, 171, 160, 169, 165, 179, 175, 158, 186, 172, 197, 184, 200, 168, 182, 182, 160, 151, 172, 159, 190, 153, 151, 173, 154, 161, 165, 182, 180, 153, 163, 195, 194, 173, 166, 195, 151, 167, 172, 185, 191, 165, 156, 184, 193, 153, 188, 184, 193, 180, 196, 156, 162, 173, 200, 160, 158, 172], \"xaxis\": \"x\", \"yaxis\": \"y\"}],\n",
              "                        {\"barmode\": \"relative\", \"legend\": {\"tracegroupgap\": 0}, \"margin\": {\"t\": 60}, \"template\": {\"data\": {\"bar\": [{\"error_x\": {\"color\": \"#2a3f5f\"}, \"error_y\": {\"color\": \"#2a3f5f\"}, \"marker\": {\"line\": {\"color\": \"#E5ECF6\", \"width\": 0.5}}, \"type\": \"bar\"}], \"barpolar\": [{\"marker\": {\"line\": {\"color\": \"#E5ECF6\", \"width\": 0.5}}, \"type\": \"barpolar\"}], \"carpet\": [{\"aaxis\": {\"endlinecolor\": \"#2a3f5f\", \"gridcolor\": \"white\", \"linecolor\": \"white\", \"minorgridcolor\": \"white\", \"startlinecolor\": \"#2a3f5f\"}, \"baxis\": {\"endlinecolor\": \"#2a3f5f\", \"gridcolor\": \"white\", \"linecolor\": \"white\", \"minorgridcolor\": \"white\", \"startlinecolor\": \"#2a3f5f\"}, \"type\": \"carpet\"}], \"choropleth\": [{\"colorbar\": {\"outlinewidth\": 0, \"ticks\": \"\"}, \"type\": \"choropleth\"}], \"contour\": [{\"colorbar\": {\"outlinewidth\": 0, \"ticks\": \"\"}, \"colorscale\": [[0.0, \"#0d0887\"], [0.1111111111111111, \"#46039f\"], [0.2222222222222222, \"#7201a8\"], [0.3333333333333333, \"#9c179e\"], [0.4444444444444444, \"#bd3786\"], [0.5555555555555556, \"#d8576b\"], [0.6666666666666666, \"#ed7953\"], [0.7777777777777778, \"#fb9f3a\"], [0.8888888888888888, \"#fdca26\"], [1.0, \"#f0f921\"]], \"type\": \"contour\"}], \"contourcarpet\": [{\"colorbar\": {\"outlinewidth\": 0, \"ticks\": \"\"}, \"type\": \"contourcarpet\"}], \"heatmap\": [{\"colorbar\": {\"outlinewidth\": 0, \"ticks\": \"\"}, \"colorscale\": [[0.0, \"#0d0887\"], [0.1111111111111111, \"#46039f\"], [0.2222222222222222, \"#7201a8\"], [0.3333333333333333, \"#9c179e\"], [0.4444444444444444, \"#bd3786\"], [0.5555555555555556, \"#d8576b\"], [0.6666666666666666, \"#ed7953\"], [0.7777777777777778, \"#fb9f3a\"], [0.8888888888888888, \"#fdca26\"], [1.0, \"#f0f921\"]], \"type\": \"heatmap\"}], \"heatmapgl\": [{\"colorbar\": {\"outlinewidth\": 0, \"ticks\": \"\"}, \"colorscale\": [[0.0, \"#0d0887\"], [0.1111111111111111, \"#46039f\"], [0.2222222222222222, \"#7201a8\"], [0.3333333333333333, \"#9c179e\"], [0.4444444444444444, \"#bd3786\"], [0.5555555555555556, \"#d8576b\"], [0.6666666666666666, \"#ed7953\"], [0.7777777777777778, \"#fb9f3a\"], [0.8888888888888888, \"#fdca26\"], [1.0, \"#f0f921\"]], \"type\": \"heatmapgl\"}], \"histogram\": [{\"marker\": {\"colorbar\": {\"outlinewidth\": 0, \"ticks\": \"\"}}, \"type\": \"histogram\"}], \"histogram2d\": [{\"colorbar\": {\"outlinewidth\": 0, \"ticks\": \"\"}, \"colorscale\": [[0.0, \"#0d0887\"], [0.1111111111111111, \"#46039f\"], [0.2222222222222222, \"#7201a8\"], [0.3333333333333333, \"#9c179e\"], [0.4444444444444444, \"#bd3786\"], [0.5555555555555556, \"#d8576b\"], [0.6666666666666666, \"#ed7953\"], [0.7777777777777778, \"#fb9f3a\"], [0.8888888888888888, \"#fdca26\"], [1.0, \"#f0f921\"]], \"type\": \"histogram2d\"}], \"histogram2dcontour\": [{\"colorbar\": {\"outlinewidth\": 0, \"ticks\": \"\"}, \"colorscale\": [[0.0, \"#0d0887\"], [0.1111111111111111, \"#46039f\"], [0.2222222222222222, \"#7201a8\"], [0.3333333333333333, \"#9c179e\"], [0.4444444444444444, \"#bd3786\"], [0.5555555555555556, \"#d8576b\"], [0.6666666666666666, \"#ed7953\"], [0.7777777777777778, \"#fb9f3a\"], [0.8888888888888888, \"#fdca26\"], [1.0, \"#f0f921\"]], \"type\": \"histogram2dcontour\"}], \"mesh3d\": [{\"colorbar\": {\"outlinewidth\": 0, \"ticks\": \"\"}, \"type\": \"mesh3d\"}], \"parcoords\": [{\"line\": {\"colorbar\": {\"outlinewidth\": 0, \"ticks\": \"\"}}, \"type\": \"parcoords\"}], \"pie\": [{\"automargin\": true, \"type\": \"pie\"}], \"scatter\": [{\"marker\": {\"colorbar\": {\"outlinewidth\": 0, \"ticks\": \"\"}}, \"type\": \"scatter\"}], \"scatter3d\": [{\"line\": {\"colorbar\": {\"outlinewidth\": 0, \"ticks\": \"\"}}, \"marker\": {\"colorbar\": {\"outlinewidth\": 0, \"ticks\": \"\"}}, \"type\": \"scatter3d\"}], \"scattercarpet\": [{\"marker\": {\"colorbar\": {\"outlinewidth\": 0, \"ticks\": \"\"}}, \"type\": \"scattercarpet\"}], \"scattergeo\": [{\"marker\": {\"colorbar\": {\"outlinewidth\": 0, \"ticks\": \"\"}}, \"type\": \"scattergeo\"}], \"scattergl\": [{\"marker\": {\"colorbar\": {\"outlinewidth\": 0, \"ticks\": \"\"}}, \"type\": \"scattergl\"}], \"scattermapbox\": [{\"marker\": {\"colorbar\": {\"outlinewidth\": 0, \"ticks\": \"\"}}, \"type\": \"scattermapbox\"}], \"scatterpolar\": [{\"marker\": {\"colorbar\": {\"outlinewidth\": 0, \"ticks\": \"\"}}, \"type\": \"scatterpolar\"}], \"scatterpolargl\": [{\"marker\": {\"colorbar\": {\"outlinewidth\": 0, \"ticks\": \"\"}}, \"type\": \"scatterpolargl\"}], \"scatterternary\": [{\"marker\": {\"colorbar\": {\"outlinewidth\": 0, \"ticks\": \"\"}}, \"type\": \"scatterternary\"}], \"surface\": [{\"colorbar\": {\"outlinewidth\": 0, \"ticks\": \"\"}, \"colorscale\": [[0.0, \"#0d0887\"], [0.1111111111111111, \"#46039f\"], [0.2222222222222222, \"#7201a8\"], [0.3333333333333333, \"#9c179e\"], [0.4444444444444444, \"#bd3786\"], [0.5555555555555556, \"#d8576b\"], [0.6666666666666666, \"#ed7953\"], [0.7777777777777778, \"#fb9f3a\"], [0.8888888888888888, \"#fdca26\"], [1.0, \"#f0f921\"]], \"type\": \"surface\"}], \"table\": [{\"cells\": {\"fill\": {\"color\": \"#EBF0F8\"}, \"line\": {\"color\": \"white\"}}, \"header\": {\"fill\": {\"color\": \"#C8D4E3\"}, \"line\": {\"color\": \"white\"}}, \"type\": \"table\"}]}, \"layout\": {\"annotationdefaults\": {\"arrowcolor\": \"#2a3f5f\", \"arrowhead\": 0, \"arrowwidth\": 1}, \"coloraxis\": {\"colorbar\": {\"outlinewidth\": 0, \"ticks\": \"\"}}, \"colorscale\": {\"diverging\": [[0, \"#8e0152\"], [0.1, \"#c51b7d\"], [0.2, \"#de77ae\"], [0.3, \"#f1b6da\"], [0.4, \"#fde0ef\"], [0.5, \"#f7f7f7\"], [0.6, \"#e6f5d0\"], [0.7, \"#b8e186\"], [0.8, \"#7fbc41\"], [0.9, \"#4d9221\"], [1, \"#276419\"]], \"sequential\": [[0.0, \"#0d0887\"], [0.1111111111111111, \"#46039f\"], [0.2222222222222222, \"#7201a8\"], [0.3333333333333333, \"#9c179e\"], [0.4444444444444444, \"#bd3786\"], [0.5555555555555556, \"#d8576b\"], [0.6666666666666666, \"#ed7953\"], [0.7777777777777778, \"#fb9f3a\"], [0.8888888888888888, \"#fdca26\"], [1.0, \"#f0f921\"]], \"sequentialminus\": [[0.0, \"#0d0887\"], [0.1111111111111111, \"#46039f\"], [0.2222222222222222, \"#7201a8\"], [0.3333333333333333, \"#9c179e\"], [0.4444444444444444, \"#bd3786\"], [0.5555555555555556, \"#d8576b\"], [0.6666666666666666, \"#ed7953\"], [0.7777777777777778, \"#fb9f3a\"], [0.8888888888888888, \"#fdca26\"], [1.0, \"#f0f921\"]]}, \"colorway\": [\"#636efa\", \"#EF553B\", \"#00cc96\", \"#ab63fa\", \"#FFA15A\", \"#19d3f3\", \"#FF6692\", \"#B6E880\", \"#FF97FF\", \"#FECB52\"], \"font\": {\"color\": \"#2a3f5f\"}, \"geo\": {\"bgcolor\": \"white\", \"lakecolor\": \"white\", \"landcolor\": \"#E5ECF6\", \"showlakes\": true, \"showland\": true, \"subunitcolor\": \"white\"}, \"hoverlabel\": {\"align\": \"left\"}, \"hovermode\": \"closest\", \"mapbox\": {\"style\": \"light\"}, \"paper_bgcolor\": \"white\", \"plot_bgcolor\": \"#E5ECF6\", \"polar\": {\"angularaxis\": {\"gridcolor\": \"white\", \"linecolor\": \"white\", \"ticks\": \"\"}, \"bgcolor\": \"#E5ECF6\", \"radialaxis\": {\"gridcolor\": \"white\", \"linecolor\": \"white\", \"ticks\": \"\"}}, \"scene\": {\"xaxis\": {\"backgroundcolor\": \"#E5ECF6\", \"gridcolor\": \"white\", \"gridwidth\": 2, \"linecolor\": \"white\", \"showbackground\": true, \"ticks\": \"\", \"zerolinecolor\": \"white\"}, \"yaxis\": {\"backgroundcolor\": \"#E5ECF6\", \"gridcolor\": \"white\", \"gridwidth\": 2, \"linecolor\": \"white\", \"showbackground\": true, \"ticks\": \"\", \"zerolinecolor\": \"white\"}, \"zaxis\": {\"backgroundcolor\": \"#E5ECF6\", \"gridcolor\": \"white\", \"gridwidth\": 2, \"linecolor\": \"white\", \"showbackground\": true, \"ticks\": \"\", \"zerolinecolor\": \"white\"}}, \"shapedefaults\": {\"line\": {\"color\": \"#2a3f5f\"}}, \"ternary\": {\"aaxis\": {\"gridcolor\": \"white\", \"linecolor\": \"white\", \"ticks\": \"\"}, \"baxis\": {\"gridcolor\": \"white\", \"linecolor\": \"white\", \"ticks\": \"\"}, \"bgcolor\": \"#E5ECF6\", \"caxis\": {\"gridcolor\": \"white\", \"linecolor\": \"white\", \"ticks\": \"\"}}, \"title\": {\"x\": 0.05}, \"xaxis\": {\"automargin\": true, \"gridcolor\": \"white\", \"linecolor\": \"white\", \"ticks\": \"\", \"title\": {\"standoff\": 15}, \"zerolinecolor\": \"white\", \"zerolinewidth\": 2}, \"yaxis\": {\"automargin\": true, \"gridcolor\": \"white\", \"linecolor\": \"white\", \"ticks\": \"\", \"title\": {\"standoff\": 15}, \"zerolinecolor\": \"white\", \"zerolinewidth\": 2}}}, \"xaxis\": {\"anchor\": \"y\", \"domain\": [0.0, 1.0], \"title\": {\"text\": \"height\"}}, \"yaxis\": {\"anchor\": \"x\", \"domain\": [0.0, 1.0], \"title\": {\"text\": \"count\"}}},\n",
              "                        {\"responsive\": true}\n",
              "                    ).then(function(){\n",
              "                            \n",
              "var gd = document.getElementById('3d15db85-6cfd-494c-8eae-217d5c91f8f0');\n",
              "var x = new MutationObserver(function (mutations, observer) {{\n",
              "        var display = window.getComputedStyle(gd).display;\n",
              "        if (!display || display === 'none') {{\n",
              "            console.log([gd, 'removed!']);\n",
              "            Plotly.purge(gd);\n",
              "            observer.disconnect();\n",
              "        }}\n",
              "}});\n",
              "\n",
              "// Listen for the removal of the full notebook cells\n",
              "var notebookContainer = gd.closest('#notebook-container');\n",
              "if (notebookContainer) {{\n",
              "    x.observe(notebookContainer, {childList: true});\n",
              "}}\n",
              "\n",
              "// Listen for the clearing of the current output cell\n",
              "var outputEl = gd.closest('.output');\n",
              "if (outputEl) {{\n",
              "    x.observe(outputEl, {childList: true});\n",
              "}}\n",
              "\n",
              "                        })\n",
              "                };\n",
              "                \n",
              "            </script>\n",
              "        </div>\n",
              "</body>\n",
              "</html>"
            ]
          },
          "metadata": {
            "tags": []
          }
        }
      ]
    },
    {
      "cell_type": "code",
      "metadata": {
        "colab": {
          "base_uri": "https://localhost:8080/",
          "height": 542
        },
        "id": "uuZd-QGKEkJ0",
        "outputId": "8092f916-492b-4708-f678-a764c91c7b2b"
      },
      "source": [
        "#solution\n",
        "import plotly.express as px\n",
        "\n",
        "fig = px.histogram(df, x = heights)\n",
        "\n",
        "fig.show()"
      ],
      "execution_count": null,
      "outputs": [
        {
          "output_type": "display_data",
          "data": {
            "text/html": [
              "<html>\n",
              "<head><meta charset=\"utf-8\" /></head>\n",
              "<body>\n",
              "    <div>\n",
              "            <script src=\"https://cdnjs.cloudflare.com/ajax/libs/mathjax/2.7.5/MathJax.js?config=TeX-AMS-MML_SVG\"></script><script type=\"text/javascript\">if (window.MathJax) {MathJax.Hub.Config({SVG: {font: \"STIX-Web\"}});}</script>\n",
              "                <script type=\"text/javascript\">window.PlotlyConfig = {MathJaxConfig: 'local'};</script>\n",
              "        <script src=\"https://cdn.plot.ly/plotly-latest.min.js\"></script>    \n",
              "            <div id=\"910f7534-b2d6-4818-8a2a-f65458fba127\" class=\"plotly-graph-div\" style=\"height:525px; width:100%;\"></div>\n",
              "            <script type=\"text/javascript\">\n",
              "                \n",
              "                    window.PLOTLYENV=window.PLOTLYENV || {};\n",
              "                    \n",
              "                if (document.getElementById(\"910f7534-b2d6-4818-8a2a-f65458fba127\")) {\n",
              "                    Plotly.newPlot(\n",
              "                        '910f7534-b2d6-4818-8a2a-f65458fba127',\n",
              "                        [{\"alignmentgroup\": \"True\", \"bingroup\": \"x\", \"hoverlabel\": {\"namelength\": 0}, \"hovertemplate\": \"x=%{x}<br>count=%{y}\", \"legendgroup\": \"\", \"marker\": {\"color\": \"#636efa\"}, \"name\": \"\", \"offsetgroup\": \"\", \"orientation\": \"v\", \"showlegend\": false, \"type\": \"histogram\", \"x\": [188, 196, 163, 157, 188, 170, 175, 164, 158, 173, 159, 151, 154, 189, 170, 179, 188, 189, 168, 170, 171, 187, 200, 191, 168, 156, 163, 189, 163, 192, 151, 159, 161, 185, 165, 157, 171, 171, 159, 163, 154, 186, 170, 197, 169, 155, 181, 185, 199, 195, 179, 182, 180, 181, 191, 162, 198, 156, 196, 191, 181, 199, 193, 183, 194, 182, 166, 166, 185, 172, 188, 167, 165, 174, 154, 189, 188, 181, 172, 171, 165, 192, 162, 185, 178, 152, 165, 197, 199, 175, 154, 158, 190, 151, 156, 189, 197, 162, 175, 197, 187, 187, 161, 194, 178, 151, 164, 152, 194, 155, 185, 183, 167, 168, 188, 162, 187, 157, 171, 151, 190, 186, 160, 184, 197, 176, 199, 180, 194, 194, 192, 194, 180, 158, 183, 155, 152, 178, 183, 175, 186, 165, 174, 159, 162, 183, 181, 170, 157, 162, 171, 161, 156, 154, 172, 195, 157, 173, 176, 161, 166, 154, 155, 180, 197, 152, 151, 182, 174, 179, 193, 190, 166, 177, 165, 151, 155, 199, 158, 185, 165, 193, 176, 192, 163, 193, 160, 162, 199, 169, 180, 196, 183, 192, 175, 180, 153, 197, 181, 154, 199, 192, 178, 184, 185, 178, 163, 152, 176, 183, 162, 156, 197, 184, 179, 178, 181, 189, 176, 167, 192, 151, 157, 193, 169, 150, 168, 154, 196, 191, 168, 172, 192, 193, 173, 167, 159, 190, 191, 169, 166, 192, 163, 188, 169, 198, 200, 187, 152, 152, 162, 188, 185, 156, 167, 183, 192, 185, 188, 200, 185, 170, 165, 183, 154, 181, 200, 185, 160, 167, 199, 154, 160, 197, 171, 197, 192, 198, 158, 199, 175, 170, 156, 200, 157, 175, 157, 192, 182, 198, 183, 177, 173, 179, 182, 197, 184, 168, 154, 177, 194, 198, 187, 181, 187, 182, 191, 199, 171, 163, 196, 196, 176, 152, 187, 165, 154, 188, 197, 181, 161, 171, 163, 175, 192, 179, 183, 198, 171, 181, 164, 176, 176, 193, 187, 153, 178, 154, 180, 192, 191, 156, 161, 182, 159, 179, 186, 165, 157, 151, 175, 188, 158, 163, 158, 166, 199, 188, 172, 167, 176, 174, 173, 162, 153, 157, 171, 182, 163, 193, 153, 192, 167, 157, 189, 174, 175, 162, 154, 189, 191, 165, 151, 179, 162, 151, 198, 150, 183, 194, 192, 200, 155, 188, 161, 188, 158, 158, 150, 169, 169, 156, 177, 182, 166, 194, 179, 185, 163, 174, 177, 180, 168, 192, 196, 190, 157, 154, 192, 172, 188, 174, 165, 189, 196, 179, 150, 177, 199, 166, 156, 150, 170, 179, 175, 153, 191, 199, 191, 184, 164, 163, 150, 182, 151, 163, 190, 166, 162, 196, 172, 155, 186, 157, 164, 171, 170, 198, 173, 155, 191, 177, 184, 153, 169, 179, 189, 199, 166, 183, 159, 174, 162, 151, 159, 182, 178, 190, 159, 175, 163, 158, 152, 158, 171, 166, 169, 165, 190, 165, 177, 189, 160, 180, 192, 174, 159, 171, 190, 195, 175, 150, 166, 171, 172, 170, 187, 181, 193, 156, 151, 194, 153, 163, 192, 153, 150, 153, 174, 173, 183, 152, 163, 155, 178, 200, 168, 158, 167, 176, 159, 172, 191, 164, 199, 162, 166, 190, 153, 184, 177, 172, 192, 176, 193, 172, 191, 199, 160, 179, 173, 154, 182, 150, 153, 150, 166, 187, 157, 158, 184, 158, 195, 163, 154, 169, 179, 196, 198, 166, 162, 152, 168, 176, 195, 156, 197, 165, 181, 192, 195, 195, 156, 189, 172, 154, 174, 151, 156, 152, 173, 179, 187, 200, 197, 187, 183, 179, 167, 169, 173, 180, 164, 151, 189, 200, 179, 178, 192, 170, 188, 155, 184, 160, 181, 154, 193, 174, 158, 196, 194, 163, 180, 191, 188, 181, 187, 189, 187, 186, 195, 179, 188, 183, 162, 198, 196, 170, 154, 184, 176, 171, 200, 171, 160, 169, 165, 179, 175, 158, 186, 172, 197, 184, 200, 168, 182, 182, 160, 151, 172, 159, 190, 153, 151, 173, 154, 161, 165, 182, 180, 153, 163, 195, 194, 173, 166, 195, 151, 167, 172, 185, 191, 165, 156, 184, 193, 153, 188, 184, 193, 180, 196, 156, 162, 173, 200, 160, 158, 172], \"xaxis\": \"x\", \"yaxis\": \"y\"}],\n",
              "                        {\"barmode\": \"relative\", \"legend\": {\"tracegroupgap\": 0}, \"margin\": {\"t\": 60}, \"template\": {\"data\": {\"bar\": [{\"error_x\": {\"color\": \"#2a3f5f\"}, \"error_y\": {\"color\": \"#2a3f5f\"}, \"marker\": {\"line\": {\"color\": \"#E5ECF6\", \"width\": 0.5}}, \"type\": \"bar\"}], \"barpolar\": [{\"marker\": {\"line\": {\"color\": \"#E5ECF6\", \"width\": 0.5}}, \"type\": \"barpolar\"}], \"carpet\": [{\"aaxis\": {\"endlinecolor\": \"#2a3f5f\", \"gridcolor\": \"white\", \"linecolor\": \"white\", \"minorgridcolor\": \"white\", \"startlinecolor\": \"#2a3f5f\"}, \"baxis\": {\"endlinecolor\": \"#2a3f5f\", \"gridcolor\": \"white\", \"linecolor\": \"white\", \"minorgridcolor\": \"white\", \"startlinecolor\": \"#2a3f5f\"}, \"type\": \"carpet\"}], \"choropleth\": [{\"colorbar\": {\"outlinewidth\": 0, \"ticks\": \"\"}, \"type\": \"choropleth\"}], \"contour\": [{\"colorbar\": {\"outlinewidth\": 0, \"ticks\": \"\"}, \"colorscale\": [[0.0, \"#0d0887\"], [0.1111111111111111, \"#46039f\"], [0.2222222222222222, \"#7201a8\"], [0.3333333333333333, \"#9c179e\"], [0.4444444444444444, \"#bd3786\"], [0.5555555555555556, \"#d8576b\"], [0.6666666666666666, \"#ed7953\"], [0.7777777777777778, \"#fb9f3a\"], [0.8888888888888888, \"#fdca26\"], [1.0, \"#f0f921\"]], \"type\": \"contour\"}], \"contourcarpet\": [{\"colorbar\": {\"outlinewidth\": 0, \"ticks\": \"\"}, \"type\": \"contourcarpet\"}], \"heatmap\": [{\"colorbar\": {\"outlinewidth\": 0, \"ticks\": \"\"}, \"colorscale\": [[0.0, \"#0d0887\"], [0.1111111111111111, \"#46039f\"], [0.2222222222222222, \"#7201a8\"], [0.3333333333333333, \"#9c179e\"], [0.4444444444444444, \"#bd3786\"], [0.5555555555555556, \"#d8576b\"], [0.6666666666666666, \"#ed7953\"], [0.7777777777777778, \"#fb9f3a\"], [0.8888888888888888, \"#fdca26\"], [1.0, \"#f0f921\"]], \"type\": \"heatmap\"}], \"heatmapgl\": [{\"colorbar\": {\"outlinewidth\": 0, \"ticks\": \"\"}, \"colorscale\": [[0.0, \"#0d0887\"], [0.1111111111111111, \"#46039f\"], [0.2222222222222222, \"#7201a8\"], [0.3333333333333333, \"#9c179e\"], [0.4444444444444444, \"#bd3786\"], [0.5555555555555556, \"#d8576b\"], [0.6666666666666666, \"#ed7953\"], [0.7777777777777778, \"#fb9f3a\"], [0.8888888888888888, \"#fdca26\"], [1.0, \"#f0f921\"]], \"type\": \"heatmapgl\"}], \"histogram\": [{\"marker\": {\"colorbar\": {\"outlinewidth\": 0, \"ticks\": \"\"}}, \"type\": \"histogram\"}], \"histogram2d\": [{\"colorbar\": {\"outlinewidth\": 0, \"ticks\": \"\"}, \"colorscale\": [[0.0, \"#0d0887\"], [0.1111111111111111, \"#46039f\"], [0.2222222222222222, \"#7201a8\"], [0.3333333333333333, \"#9c179e\"], [0.4444444444444444, \"#bd3786\"], [0.5555555555555556, \"#d8576b\"], [0.6666666666666666, \"#ed7953\"], [0.7777777777777778, \"#fb9f3a\"], [0.8888888888888888, \"#fdca26\"], [1.0, \"#f0f921\"]], \"type\": \"histogram2d\"}], \"histogram2dcontour\": [{\"colorbar\": {\"outlinewidth\": 0, \"ticks\": \"\"}, \"colorscale\": [[0.0, \"#0d0887\"], [0.1111111111111111, \"#46039f\"], [0.2222222222222222, \"#7201a8\"], [0.3333333333333333, \"#9c179e\"], [0.4444444444444444, \"#bd3786\"], [0.5555555555555556, \"#d8576b\"], [0.6666666666666666, \"#ed7953\"], [0.7777777777777778, \"#fb9f3a\"], [0.8888888888888888, \"#fdca26\"], [1.0, \"#f0f921\"]], \"type\": \"histogram2dcontour\"}], \"mesh3d\": [{\"colorbar\": {\"outlinewidth\": 0, \"ticks\": \"\"}, \"type\": \"mesh3d\"}], \"parcoords\": [{\"line\": {\"colorbar\": {\"outlinewidth\": 0, \"ticks\": \"\"}}, \"type\": \"parcoords\"}], \"pie\": [{\"automargin\": true, \"type\": \"pie\"}], \"scatter\": [{\"marker\": {\"colorbar\": {\"outlinewidth\": 0, \"ticks\": \"\"}}, \"type\": \"scatter\"}], \"scatter3d\": [{\"line\": {\"colorbar\": {\"outlinewidth\": 0, \"ticks\": \"\"}}, \"marker\": {\"colorbar\": {\"outlinewidth\": 0, \"ticks\": \"\"}}, \"type\": \"scatter3d\"}], \"scattercarpet\": [{\"marker\": {\"colorbar\": {\"outlinewidth\": 0, \"ticks\": \"\"}}, \"type\": \"scattercarpet\"}], \"scattergeo\": [{\"marker\": {\"colorbar\": {\"outlinewidth\": 0, \"ticks\": \"\"}}, \"type\": \"scattergeo\"}], \"scattergl\": [{\"marker\": {\"colorbar\": {\"outlinewidth\": 0, \"ticks\": \"\"}}, \"type\": \"scattergl\"}], \"scattermapbox\": [{\"marker\": {\"colorbar\": {\"outlinewidth\": 0, \"ticks\": \"\"}}, \"type\": \"scattermapbox\"}], \"scatterpolar\": [{\"marker\": {\"colorbar\": {\"outlinewidth\": 0, \"ticks\": \"\"}}, \"type\": \"scatterpolar\"}], \"scatterpolargl\": [{\"marker\": {\"colorbar\": {\"outlinewidth\": 0, \"ticks\": \"\"}}, \"type\": \"scatterpolargl\"}], \"scatterternary\": [{\"marker\": {\"colorbar\": {\"outlinewidth\": 0, \"ticks\": \"\"}}, \"type\": \"scatterternary\"}], \"surface\": [{\"colorbar\": {\"outlinewidth\": 0, \"ticks\": \"\"}, \"colorscale\": [[0.0, \"#0d0887\"], [0.1111111111111111, \"#46039f\"], [0.2222222222222222, \"#7201a8\"], [0.3333333333333333, \"#9c179e\"], [0.4444444444444444, \"#bd3786\"], [0.5555555555555556, \"#d8576b\"], [0.6666666666666666, \"#ed7953\"], [0.7777777777777778, \"#fb9f3a\"], [0.8888888888888888, \"#fdca26\"], [1.0, \"#f0f921\"]], \"type\": \"surface\"}], \"table\": [{\"cells\": {\"fill\": {\"color\": \"#EBF0F8\"}, \"line\": {\"color\": \"white\"}}, \"header\": {\"fill\": {\"color\": \"#C8D4E3\"}, \"line\": {\"color\": \"white\"}}, \"type\": \"table\"}]}, \"layout\": {\"annotationdefaults\": {\"arrowcolor\": \"#2a3f5f\", \"arrowhead\": 0, \"arrowwidth\": 1}, \"coloraxis\": {\"colorbar\": {\"outlinewidth\": 0, \"ticks\": \"\"}}, \"colorscale\": {\"diverging\": [[0, \"#8e0152\"], [0.1, \"#c51b7d\"], [0.2, \"#de77ae\"], [0.3, \"#f1b6da\"], [0.4, \"#fde0ef\"], [0.5, \"#f7f7f7\"], [0.6, \"#e6f5d0\"], [0.7, \"#b8e186\"], [0.8, \"#7fbc41\"], [0.9, \"#4d9221\"], [1, \"#276419\"]], \"sequential\": [[0.0, \"#0d0887\"], [0.1111111111111111, \"#46039f\"], [0.2222222222222222, \"#7201a8\"], [0.3333333333333333, \"#9c179e\"], [0.4444444444444444, \"#bd3786\"], [0.5555555555555556, \"#d8576b\"], [0.6666666666666666, \"#ed7953\"], [0.7777777777777778, \"#fb9f3a\"], [0.8888888888888888, \"#fdca26\"], [1.0, \"#f0f921\"]], \"sequentialminus\": [[0.0, \"#0d0887\"], [0.1111111111111111, \"#46039f\"], [0.2222222222222222, \"#7201a8\"], [0.3333333333333333, \"#9c179e\"], [0.4444444444444444, \"#bd3786\"], [0.5555555555555556, \"#d8576b\"], [0.6666666666666666, \"#ed7953\"], [0.7777777777777778, \"#fb9f3a\"], [0.8888888888888888, \"#fdca26\"], [1.0, \"#f0f921\"]]}, \"colorway\": [\"#636efa\", \"#EF553B\", \"#00cc96\", \"#ab63fa\", \"#FFA15A\", \"#19d3f3\", \"#FF6692\", \"#B6E880\", \"#FF97FF\", \"#FECB52\"], \"font\": {\"color\": \"#2a3f5f\"}, \"geo\": {\"bgcolor\": \"white\", \"lakecolor\": \"white\", \"landcolor\": \"#E5ECF6\", \"showlakes\": true, \"showland\": true, \"subunitcolor\": \"white\"}, \"hoverlabel\": {\"align\": \"left\"}, \"hovermode\": \"closest\", \"mapbox\": {\"style\": \"light\"}, \"paper_bgcolor\": \"white\", \"plot_bgcolor\": \"#E5ECF6\", \"polar\": {\"angularaxis\": {\"gridcolor\": \"white\", \"linecolor\": \"white\", \"ticks\": \"\"}, \"bgcolor\": \"#E5ECF6\", \"radialaxis\": {\"gridcolor\": \"white\", \"linecolor\": \"white\", \"ticks\": \"\"}}, \"scene\": {\"xaxis\": {\"backgroundcolor\": \"#E5ECF6\", \"gridcolor\": \"white\", \"gridwidth\": 2, \"linecolor\": \"white\", \"showbackground\": true, \"ticks\": \"\", \"zerolinecolor\": \"white\"}, \"yaxis\": {\"backgroundcolor\": \"#E5ECF6\", \"gridcolor\": \"white\", \"gridwidth\": 2, \"linecolor\": \"white\", \"showbackground\": true, \"ticks\": \"\", \"zerolinecolor\": \"white\"}, \"zaxis\": {\"backgroundcolor\": \"#E5ECF6\", \"gridcolor\": \"white\", \"gridwidth\": 2, \"linecolor\": \"white\", \"showbackground\": true, \"ticks\": \"\", \"zerolinecolor\": \"white\"}}, \"shapedefaults\": {\"line\": {\"color\": \"#2a3f5f\"}}, \"ternary\": {\"aaxis\": {\"gridcolor\": \"white\", \"linecolor\": \"white\", \"ticks\": \"\"}, \"baxis\": {\"gridcolor\": \"white\", \"linecolor\": \"white\", \"ticks\": \"\"}, \"bgcolor\": \"#E5ECF6\", \"caxis\": {\"gridcolor\": \"white\", \"linecolor\": \"white\", \"ticks\": \"\"}}, \"title\": {\"x\": 0.05}, \"xaxis\": {\"automargin\": true, \"gridcolor\": \"white\", \"linecolor\": \"white\", \"ticks\": \"\", \"title\": {\"standoff\": 15}, \"zerolinecolor\": \"white\", \"zerolinewidth\": 2}, \"yaxis\": {\"automargin\": true, \"gridcolor\": \"white\", \"linecolor\": \"white\", \"ticks\": \"\", \"title\": {\"standoff\": 15}, \"zerolinecolor\": \"white\", \"zerolinewidth\": 2}}}, \"xaxis\": {\"anchor\": \"y\", \"domain\": [0.0, 1.0], \"title\": {\"text\": \"x\"}}, \"yaxis\": {\"anchor\": \"x\", \"domain\": [0.0, 1.0], \"title\": {\"text\": \"count\"}}},\n",
              "                        {\"responsive\": true}\n",
              "                    ).then(function(){\n",
              "                            \n",
              "var gd = document.getElementById('910f7534-b2d6-4818-8a2a-f65458fba127');\n",
              "var x = new MutationObserver(function (mutations, observer) {{\n",
              "        var display = window.getComputedStyle(gd).display;\n",
              "        if (!display || display === 'none') {{\n",
              "            console.log([gd, 'removed!']);\n",
              "            Plotly.purge(gd);\n",
              "            observer.disconnect();\n",
              "        }}\n",
              "}});\n",
              "\n",
              "// Listen for the removal of the full notebook cells\n",
              "var notebookContainer = gd.closest('#notebook-container');\n",
              "if (notebookContainer) {{\n",
              "    x.observe(notebookContainer, {childList: true});\n",
              "}}\n",
              "\n",
              "// Listen for the clearing of the current output cell\n",
              "var outputEl = gd.closest('.output');\n",
              "if (outputEl) {{\n",
              "    x.observe(outputEl, {childList: true});\n",
              "}}\n",
              "\n",
              "                        })\n",
              "                };\n",
              "                \n",
              "            </script>\n",
              "        </div>\n",
              "</body>\n",
              "</html>"
            ]
          },
          "metadata": {
            "tags": []
          }
        }
      ]
    },
    {
      "cell_type": "code",
      "metadata": {
        "colab": {
          "base_uri": "https://localhost:8080/",
          "height": 301
        },
        "id": "6tZ3_BQzDzXw",
        "outputId": "f5cf1b35-8403-4f2d-c3a4-0e8e86e589aa"
      },
      "source": [
        "%matplotlib inline\n",
        "import matplotlib.pyplot as plt\n",
        "plt.hist(heights)\n",
        "plt.title('Height Distribution Wampis population')\n",
        "plt.xlabel('height (cm)')\n",
        "plt.ylabel('number');"
      ],
      "execution_count": null,
      "outputs": [
        {
          "output_type": "display_data",
          "data": {
            "image/png": "[encoded data removed]",
            "text/plain": [
              "<Figure size 432x288 with 1 Axes>"
            ]
          },
          "metadata": {
            "tags": [],
            "needs_background": "light"
          }
        }
      ]
    },
    {
      "cell_type": "markdown",
      "metadata": {
        "id": "Mn-oCXOTowy-"
      },
      "source": [
        "## Task 4: The importance of outliers"
      ]
    },
    {
      "cell_type": "markdown",
      "metadata": {
        "id": "Y4VEgRkZnx1b"
      },
      "source": [
        "Sometimes our data can contain outliers, which are data points that are very different to the rest of the data. For example if someone entered their height wrong as 1800 (instead of 180), then this error would be an outlier."
      ]
    },
    {
      "cell_type": "code",
      "metadata": {
        "id": "QTjAZ21gkhCo",
        "colab": {
          "base_uri": "https://localhost:8080/",
          "height": 106
        },
        "outputId": "53e248bf-0438-4dcb-c189-a13de6943193"
      },
      "source": [
        "# add 1800 to the df dataset\n",
        "df_outlier = df.append({'age':22, 'height': 1800}, ignore_index=True)\n",
        "# print last row of df_outlier dataset\n",
        "df_outlier.tail(2)"
      ],
      "execution_count": null,
      "outputs": [
        {
          "output_type": "execute_result",
          "data": {
            "text/html": [
              "<div>\n",
              "<style scoped>\n",
              "    .dataframe tbody tr th:only-of-type {\n",
              "        vertical-align: middle;\n",
              "    }\n",
              "\n",
              "    .dataframe tbody tr th {\n",
              "        vertical-align: top;\n",
              "    }\n",
              "\n",
              "    .dataframe thead th {\n",
              "        text-align: right;\n",
              "    }\n",
              "</style>\n",
              "<table border=\"1\" class=\"dataframe\">\n",
              "  <thead>\n",
              "    <tr style=\"text-align: right;\">\n",
              "      <th></th>\n",
              "      <th>age</th>\n",
              "      <th>gender</th>\n",
              "      <th>height</th>\n",
              "      <th>region</th>\n",
              "      <th>n.languages</th>\n",
              "      <th>happy</th>\n",
              "      <th>financial</th>\n",
              "      <th>politics</th>\n",
              "      <th>global</th>\n",
              "    </tr>\n",
              "  </thead>\n",
              "  <tbody>\n",
              "    <tr>\n",
              "      <th>699</th>\n",
              "      <td>21.0</td>\n",
              "      <td>Female</td>\n",
              "      <td>172.0</td>\n",
              "      <td>e5442</td>\n",
              "      <td>4.0</td>\n",
              "      <td>Disagree</td>\n",
              "      <td>Disagree</td>\n",
              "      <td>3.0</td>\n",
              "      <td>yes</td>\n",
              "    </tr>\n",
              "    <tr>\n",
              "      <th>700</th>\n",
              "      <td>22.0</td>\n",
              "      <td>NaN</td>\n",
              "      <td>1800.0</td>\n",
              "      <td>NaN</td>\n",
              "      <td>NaN</td>\n",
              "      <td>NaN</td>\n",
              "      <td>NaN</td>\n",
              "      <td>NaN</td>\n",
              "      <td>NaN</td>\n",
              "    </tr>\n",
              "  </tbody>\n",
              "</table>\n",
              "</div>"
            ],
            "text/plain": [
              "      age  gender  height region  ...     happy financial politics  global\n",
              "699  21.0  Female   172.0  e5442  ...  Disagree  Disagree      3.0     yes\n",
              "700  22.0     NaN  1800.0    NaN  ...       NaN       NaN      NaN     NaN\n",
              "\n",
              "[2 rows x 9 columns]"
            ]
          },
          "metadata": {
            "tags": []
          },
          "execution_count": 17
        }
      ]
    },
    {
      "cell_type": "code",
      "metadata": {
        "id": "BD5NYxn-oijt",
        "colab": {
          "base_uri": "https://localhost:8080/"
        },
        "outputId": "2472ae82-5857-4cf6-fe04-6f67b471d583"
      },
      "source": [
        "# in case they go for arrays\n",
        "heights_outlier = np.array(df_outlier['height'])\n",
        "print(heights_outlier)"
      ],
      "execution_count": null,
      "outputs": [
        {
          "output_type": "stream",
          "text": [
            "[ 188.  196.  163.  157.  188.  170.  175.  164.  158.  173.  159.  151.\n",
            "  154.  189.  170.  179.  188.  189.  168.  170.  171.  187.  200.  191.\n",
            "  168.  156.  163.  189.  163.  192.  151.  159.  161.  185.  165.  157.\n",
            "  171.  171.  159.  163.  154.  186.  170.  197.  169.  155.  181.  185.\n",
            "  199.  195.  179.  182.  180.  181.  191.  162.  198.  156.  196.  191.\n",
            "  181.  199.  193.  183.  194.  182.  166.  166.  185.  172.  188.  167.\n",
            "  165.  174.  154.  189.  188.  181.  172.  171.  165.  192.  162.  185.\n",
            "  178.  152.  165.  197.  199.  175.  154.  158.  190.  151.  156.  189.\n",
            "  197.  162.  175.  197.  187.  187.  161.  194.  178.  151.  164.  152.\n",
            "  194.  155.  185.  183.  167.  168.  188.  162.  187.  157.  171.  151.\n",
            "  190.  186.  160.  184.  197.  176.  199.  180.  194.  194.  192.  194.\n",
            "  180.  158.  183.  155.  152.  178.  183.  175.  186.  165.  174.  159.\n",
            "  162.  183.  181.  170.  157.  162.  171.  161.  156.  154.  172.  195.\n",
            "  157.  173.  176.  161.  166.  154.  155.  180.  197.  152.  151.  182.\n",
            "  174.  179.  193.  190.  166.  177.  165.  151.  155.  199.  158.  185.\n",
            "  165.  193.  176.  192.  163.  193.  160.  162.  199.  169.  180.  196.\n",
            "  183.  192.  175.  180.  153.  197.  181.  154.  199.  192.  178.  184.\n",
            "  185.  178.  163.  152.  176.  183.  162.  156.  197.  184.  179.  178.\n",
            "  181.  189.  176.  167.  192.  151.  157.  193.  169.  150.  168.  154.\n",
            "  196.  191.  168.  172.  192.  193.  173.  167.  159.  190.  191.  169.\n",
            "  166.  192.  163.  188.  169.  198.  200.  187.  152.  152.  162.  188.\n",
            "  185.  156.  167.  183.  192.  185.  188.  200.  185.  170.  165.  183.\n",
            "  154.  181.  200.  185.  160.  167.  199.  154.  160.  197.  171.  197.\n",
            "  192.  198.  158.  199.  175.  170.  156.  200.  157.  175.  157.  192.\n",
            "  182.  198.  183.  177.  173.  179.  182.  197.  184.  168.  154.  177.\n",
            "  194.  198.  187.  181.  187.  182.  191.  199.  171.  163.  196.  196.\n",
            "  176.  152.  187.  165.  154.  188.  197.  181.  161.  171.  163.  175.\n",
            "  192.  179.  183.  198.  171.  181.  164.  176.  176.  193.  187.  153.\n",
            "  178.  154.  180.  192.  191.  156.  161.  182.  159.  179.  186.  165.\n",
            "  157.  151.  175.  188.  158.  163.  158.  166.  199.  188.  172.  167.\n",
            "  176.  174.  173.  162.  153.  157.  171.  182.  163.  193.  153.  192.\n",
            "  167.  157.  189.  174.  175.  162.  154.  189.  191.  165.  151.  179.\n",
            "  162.  151.  198.  150.  183.  194.  192.  200.  155.  188.  161.  188.\n",
            "  158.  158.  150.  169.  169.  156.  177.  182.  166.  194.  179.  185.\n",
            "  163.  174.  177.  180.  168.  192.  196.  190.  157.  154.  192.  172.\n",
            "  188.  174.  165.  189.  196.  179.  150.  177.  199.  166.  156.  150.\n",
            "  170.  179.  175.  153.  191.  199.  191.  184.  164.  163.  150.  182.\n",
            "  151.  163.  190.  166.  162.  196.  172.  155.  186.  157.  164.  171.\n",
            "  170.  198.  173.  155.  191.  177.  184.  153.  169.  179.  189.  199.\n",
            "  166.  183.  159.  174.  162.  151.  159.  182.  178.  190.  159.  175.\n",
            "  163.  158.  152.  158.  171.  166.  169.  165.  190.  165.  177.  189.\n",
            "  160.  180.  192.  174.  159.  171.  190.  195.  175.  150.  166.  171.\n",
            "  172.  170.  187.  181.  193.  156.  151.  194.  153.  163.  192.  153.\n",
            "  150.  153.  174.  173.  183.  152.  163.  155.  178.  200.  168.  158.\n",
            "  167.  176.  159.  172.  191.  164.  199.  162.  166.  190.  153.  184.\n",
            "  177.  172.  192.  176.  193.  172.  191.  199.  160.  179.  173.  154.\n",
            "  182.  150.  153.  150.  166.  187.  157.  158.  184.  158.  195.  163.\n",
            "  154.  169.  179.  196.  198.  166.  162.  152.  168.  176.  195.  156.\n",
            "  197.  165.  181.  192.  195.  195.  156.  189.  172.  154.  174.  151.\n",
            "  156.  152.  173.  179.  187.  200.  197.  187.  183.  179.  167.  169.\n",
            "  173.  180.  164.  151.  189.  200.  179.  178.  192.  170.  188.  155.\n",
            "  184.  160.  181.  154.  193.  174.  158.  196.  194.  163.  180.  191.\n",
            "  188.  181.  187.  189.  187.  186.  195.  179.  188.  183.  162.  198.\n",
            "  196.  170.  154.  184.  176.  171.  200.  171.  160.  169.  165.  179.\n",
            "  175.  158.  186.  172.  197.  184.  200.  168.  182.  182.  160.  151.\n",
            "  172.  159.  190.  153.  151.  173.  154.  161.  165.  182.  180.  153.\n",
            "  163.  195.  194.  173.  166.  195.  151.  167.  172.  185.  191.  165.\n",
            "  156.  184.  193.  153.  188.  184.  193.  180.  196.  156.  162.  173.\n",
            "  200.  160.  158.  172. 1800.]\n"
          ],
          "name": "stdout"
        }
      ]
    },
    {
      "cell_type": "markdown",
      "metadata": {
        "id": "Brmh7MCBjHee"
      },
      "source": [
        "Some summary statistics are robust to outliers more than others."
      ]
    },
    {
      "cell_type": "markdown",
      "metadata": {
        "id": "_rTEuOufo8UT"
      },
      "source": [
        "📚 QUESTION **D**\n",
        "\n",
        "##### **D.** Calculate the measures of location on this dataset with one outlier. How do these values compare to the measures of location for the data without outliers? Which measures of location are robust to outliers?"
      ]
    },
    {
      "cell_type": "code",
      "metadata": {
        "id": "5aeDBER_pFs6",
        "colab": {
          "base_uri": "https://localhost:8080/"
        },
        "outputId": "7d54ed17-b113-4bc2-fa98-d9af81c4b059"
      },
      "source": [
        "# in case they go for arrays\n",
        "from scipy import stats\n",
        "print(\"Minimum height:    \", heights.min(), heights_outlier.min())\n",
        "print(\"Maximum height:    \", heights.max(), heights_outlier.max())\n",
        "print(\"25th percentile:   \", np.percentile(heights, 25), np.percentile(heights_outlier, 25))\n",
        "print(\"Median:            \", np.median(heights), np.median(heights_outlier))\n",
        "print(\"75th percentile:   \", np.percentile(heights, 75), np.percentile(heights_outlier, 75))\n",
        "print(\"Mode height:       \", stats.mode(heights), stats.mode(heights_outlier))\n",
        "print(\"Mean height:       \", heights.mean(), heights_outlier.mean())\n",
        "print(\"Variance:          \", heights.var(), heights_outlier.var())\n",
        "print(\"Standard deviation:\", heights.std(), heights_outlier.std())"
      ],
      "execution_count": null,
      "outputs": [
        {
          "output_type": "stream",
          "text": [
            "Minimum height:     150 150.0\n",
            "Maximum height:     200 1800.0\n",
            "25th percentile:    162.0 162.0\n",
            "Median:             175.0 175.0\n",
            "75th percentile:    188.0 188.0\n",
            "Mode height:        ModeResult(mode=array([192]), count=array([23])) ModeResult(mode=array([192.]), count=array([23]))\n",
            "Mean height:        174.8542857142857 177.17261055634808\n",
            "Variance:           218.33876734693877 3980.268351102257\n",
            "Standard deviation: 14.776290716784736 63.089367971967015\n"
          ],
          "name": "stdout"
        }
      ]
    },
    {
      "cell_type": "code",
      "metadata": {
        "id": "-9I_KSKTfdzt",
        "colab": {
          "base_uri": "https://localhost:8080/"
        },
        "outputId": "c7d3f3b2-a266-41db-ce5f-5ef5345d173f"
      },
      "source": [
        "# in case no arrays\n",
        "from scipy import stats\n",
        "print(\"Minimum height:    \", df['height'].min(), df_outlier['height'].min())\n",
        "print(\"Maximum height:    \", df['height'].max(), df_outlier['height'].max())\n",
        "print(\"25th percentile:   \", np.percentile(df['height'], 25), np.percentile(df_outlier['height'], 25))\n",
        "print(\"Median:            \", np.median(df['height']), np.median(df_outlier['height']))\n",
        "print(\"75th percentile:   \", np.percentile(df['height'], 75), np.percentile(df_outlier['height'], 75))\n",
        "print(\"Mode height:       \", stats.mode(df['height']), stats.mode(df_outlier['height']))\n",
        "print(\"Mean height:       \", df['height'].mean(), df_outlier['height'].mean())\n",
        "print(\"Variance:          \", df['height'].var(), df_outlier['height'].var())\n",
        "print(\"Standard deviation:\", df['height'].std(), df_outlier['height'].std())"
      ],
      "execution_count": null,
      "outputs": [
        {
          "output_type": "stream",
          "text": [
            "Minimum height:     150 150.0\n",
            "Maximum height:     200 1800.0\n",
            "25th percentile:    162.0 162.0\n",
            "Median:             175.0 175.0\n",
            "75th percentile:    188.0 188.0\n",
            "Mode height:        ModeResult(mode=array([192]), count=array([23])) ModeResult(mode=array([192.]), count=array([23]))\n",
            "Mean height:        174.8542857142857 177.17261055634808\n",
            "Variance:           218.65112609850797 3985.9544487466887\n",
            "Standard deviation: 14.786856532018831 63.1344157234918\n"
          ],
          "name": "stdout"
        }
      ]
    },
    {
      "cell_type": "markdown",
      "metadata": {
        "id": "S_bnBmkpjd-y"
      },
      "source": [
        "---\n",
        "## Annex: Wampis Research Project"
      ]
    },
    {
      "cell_type": "markdown",
      "metadata": {
        "id": "_zbC5_uAKJG2"
      },
      "source": [
        "### Research Project Information\n",
        "\n",
        "\n",
        "![](https://www.caaap.org.pe/wp-content/uploads/2017/11/AsambleaGTANW_Ago2017.jpg)\n",
        "\n",
        "| Category            | Information |\n",
        "| ---------------------- | ------------ |\n",
        "| Research objective(s):        | Globalization and its impact on indigenous culture         |\n",
        "| Research question(s): | Does globalization help or hurt Wampis indigenous?          |\n",
        "| Data collection methods:       | Individual survey          |\n",
        "| Region:      | South America          |\n",
        "|Country: | Peru |\n",
        "| Coverage:   | Several villages of Wampis Nation          |"
      ]
    },
    {
      "cell_type": "markdown",
      "metadata": {
        "id": "a8_9Q8gCyOGB"
      },
      "source": [
        "### Wampis Data description\n",
        "| file                                                                                                  | Observations (rows) | Variables (cols) |\n",
        "| ----------------------------------------------------------------------------------------------------- | ----- | ------- |\n",
        "| [GlobalWampis.csv](https://global-studies.s3.eu-central-1.amazonaws.com/GlobalizationSurvey.csv) | 700   | 9       |\n",
        "\n"
      ]
    },
    {
      "cell_type": "markdown",
      "metadata": {
        "id": "fIfJBFx5vaNU"
      },
      "source": [
        "### Variable's description\n",
        "\n",
        "\n",
        "| Name       | Question                                |\n",
        "| ---------- | --------------------------------------- |\n",
        "| `age`      | How old are you?          |\n",
        "| `gender`   | What is your gender identity?                 |\n",
        "| `height`    | What is your height (in cm)? |\n",
        "| `region`    | Region of the Wampis Nation|\n",
        "| `n.languages`      | How many language you speak at home to your family?                    |\n",
        "| `happy`    | Indicate how strong you agree/disagree with the following sentence: [Q1. I am happy with my life]          |\n",
        "| `financial`    |Indicate how strong you agree/disagree with the following sentence: [Q2. I am satisfied with the financial situation of my household]          |\n",
        "| `politics`    |How interested would you say you are in politics?|\n",
        "| `global`    |Do you think globalization process helps your community?|"
      ]
    },
    {
      "cell_type": "markdown",
      "metadata": {
        "id": "G1wuiWqGkkMC"
      },
      "source": [
        "### Getting Global Wampis data into python\n",
        "The first two lines of code we write will allow us to get our data set into Python and our Google Colab Notebook so that we can start working with it."
      ]
    },
    {
      "cell_type": "code",
      "metadata": {
        "id": "ie-psmlqk0zz"
      },
      "source": [
        "import pandas as pd\n",
        "url = 'https://maastrichtuniversity-ids-open.s3.eu-central-1.amazonaws.com/global-studies/GlobalWampis.csv'\n",
        "df = pd.read_csv(url)"
      ],
      "execution_count": null,
      "outputs": []
    },
    {
      "cell_type": "code",
      "metadata": {
        "colab": {
          "base_uri": "https://localhost:8080/",
          "height": 47
        },
        "id": "baFWTgXAPOsR",
        "outputId": "ba152423-19f8-46da-db51-c87bc76cfed5"
      },
      "source": [
        "df[df.age.isna()]"
      ],
      "execution_count": null,
      "outputs": [
        {
          "output_type": "execute_result",
          "data": {
            "text/html": [
              "<div>\n",
              "<style scoped>\n",
              "    .dataframe tbody tr th:only-of-type {\n",
              "        vertical-align: middle;\n",
              "    }\n",
              "\n",
              "    .dataframe tbody tr th {\n",
              "        vertical-align: top;\n",
              "    }\n",
              "\n",
              "    .dataframe thead th {\n",
              "        text-align: right;\n",
              "    }\n",
              "</style>\n",
              "<table border=\"1\" class=\"dataframe\">\n",
              "  <thead>\n",
              "    <tr style=\"text-align: right;\">\n",
              "      <th></th>\n",
              "      <th>age</th>\n",
              "      <th>gender</th>\n",
              "      <th>height</th>\n",
              "      <th>region</th>\n",
              "      <th>n.languages</th>\n",
              "      <th>happy</th>\n",
              "      <th>financial</th>\n",
              "      <th>politics</th>\n",
              "      <th>global</th>\n",
              "    </tr>\n",
              "  </thead>\n",
              "  <tbody>\n",
              "  </tbody>\n",
              "</table>\n",
              "</div>"
            ],
            "text/plain": [
              "Empty DataFrame\n",
              "Columns: [age, gender, height, region, n.languages, happy, financial, politics, global]\n",
              "Index: []"
            ]
          },
          "metadata": {
            "tags": []
          },
          "execution_count": 22
        }
      ]
    },
    {
      "cell_type": "markdown",
      "metadata": {
        "id": "u7gM-A9UgQHH"
      },
      "source": [
        "### Finding the Mode with Python\n",
        "\n",
        "Unfortunately calculating the mode is not supported by the in-built numpy library. We need to install ```from scipy import stats```. See [here](https://docs.scipy.org/doc/scipy/reference/generated/scipy.stats.mode.html) for futher information."
      ]
    }
  ]
}